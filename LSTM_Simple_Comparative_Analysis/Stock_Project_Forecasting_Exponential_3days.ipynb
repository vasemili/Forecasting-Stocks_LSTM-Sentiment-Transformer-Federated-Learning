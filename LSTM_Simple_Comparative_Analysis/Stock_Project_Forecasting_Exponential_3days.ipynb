{
 "cells": [
  {
   "cell_type": "code",
   "execution_count": 1,
   "metadata": {},
   "outputs": [],
   "source": [
    "import numpy as np;\n",
    "import matplotlib.pyplot as plt;\n",
    "import pandas as pd;\n",
    "from matplotlib.pyplot import figure\n",
    "import keras;\n",
    "import tensorflow as tf;\n",
    "from keras.preprocessing.sequence import TimeseriesGenerator;\n",
    "from keras.models import Sequential\n",
    "from keras.layers import LSTM, Dense\n",
    "import plotly.graph_objects as go\n",
    "from sklearn.metrics import r2_score\n",
    "from sklearn.preprocessing import MinMaxScaler\n",
    "\n",
    "df_TSLA = pd.read_csv(r'C:\\Users\\emili\\Downloads\\Machine_Learning_SP_Course\\Machine_Learning_Project\\TSLA.csv')#, index_col = 'Date')\n",
    "df_AAPL = pd.read_csv(r'C:\\Users\\emili\\Downloads\\Machine_Learning_SP_Course\\Machine_Learning_Project\\AAPL.csv')#, index_col = 'Date')\n",
    "df_ABNB = pd.read_csv(r'C:\\Users\\emili\\Downloads\\Machine_Learning_SP_Course\\Machine_Learning_Project\\ABNB.csv')#, index_col = 'Date')\n",
    "df_AMZN = pd.read_csv(r'C:\\Users\\emili\\Downloads\\Machine_Learning_SP_Course\\Machine_Learning_Project\\AMZN.csv')#, index_col = 'Date')\n",
    "df_BTC = pd.read_csv(r'C:\\Users\\emili\\Downloads\\Machine_Learning_SP_Course\\Machine_Learning_Project\\BTC-USD.csv')#, index_col = 'Date')\n",
    "df_FDX = pd.read_csv(r'C:\\Users\\emili\\Downloads\\Machine_Learning_SP_Course\\Machine_Learning_Project\\FDX.csv')#, index_col = 'Date')\n",
    "df_IBM = pd.read_csv(r'C:\\Users\\emili\\Downloads\\Machine_Learning_SP_Course\\Machine_Learning_Project\\IBM.csv')#, index_col = 'Date')\n",
    "df_MSFT = pd.read_csv(r'C:\\Users\\emili\\Downloads\\Machine_Learning_SP_Course\\Machine_Learning_Project\\MSFT.csv')#, index_col = 'Date')\n",
    "df_NVDA = pd.read_csv(r'C:\\Users\\emili\\Downloads\\Machine_Learning_SP_Course\\Machine_Learning_Project\\NVDA.csv')#, index_col = 'Date')\n",
    "df_ORCL = pd.read_csv(r'C:\\Users\\emili\\Downloads\\Machine_Learning_SP_Course\\Machine_Learning_Project\\ORCL.csv')#, index_col = 'Date')\n",
    "df_GOOG = pd.read_csv(r'C:\\Users\\emili\\Downloads\\Machine_Learning_SP_Course\\Machine_Learning_Project\\GOOG.csv')#, index_col = 'Date')"
   ]
  },
  {
   "cell_type": "code",
   "execution_count": 2,
   "metadata": {},
   "outputs": [],
   "source": [
    "df_TSLA_future = pd.read_csv(r'C:\\Users\\emili\\Downloads\\Machine_Learning_SP_Course\\Machine_Learning_Project\\TSLA_future.csv')#, index_col = 'Date')\n",
    "df_AAPL_future = pd.read_csv(r'C:\\Users\\emili\\Downloads\\Machine_Learning_SP_Course\\Machine_Learning_Project\\AAPL_future.csv')#, index_col = 'Date')\n",
    "df_ABNB_future = pd.read_csv(r'C:\\Users\\emili\\Downloads\\Machine_Learning_SP_Course\\Machine_Learning_Project\\ABNB_future.csv')#, index_col = 'Date')\n",
    "df_AMZN_future = pd.read_csv(r'C:\\Users\\emili\\Downloads\\Machine_Learning_SP_Course\\Machine_Learning_Project\\AMZN_future.csv')#, index_col = 'Date')\n",
    "df_BTC_future = pd.read_csv(r'C:\\Users\\emili\\Downloads\\Machine_Learning_SP_Course\\Machine_Learning_Project\\BTC-USD_future.csv')#, index_col = 'Date')\n",
    "df_FDX_future = pd.read_csv(r'C:\\Users\\emili\\Downloads\\Machine_Learning_SP_Course\\Machine_Learning_Project\\FDX_future.csv')#, index_col = 'Date')\n",
    "df_IBM_future = pd.read_csv(r'C:\\Users\\emili\\Downloads\\Machine_Learning_SP_Course\\Machine_Learning_Project\\IBM_future.csv')#, index_col = 'Date')\n",
    "df_MSFT_future = pd.read_csv(r'C:\\Users\\emili\\Downloads\\Machine_Learning_SP_Course\\Machine_Learning_Project\\MSFT_future.csv')#, index_col = 'Date')\n",
    "df_NVDA_future = pd.read_csv(r'C:\\Users\\emili\\Downloads\\Machine_Learning_SP_Course\\Machine_Learning_Project\\NVDA_future.csv')#, index_col = 'Date')\n",
    "df_ORCL_future = pd.read_csv(r'C:\\Users\\emili\\Downloads\\Machine_Learning_SP_Course\\Machine_Learning_Project\\ORCL_future.csv')#, index_col = 'Date')\n",
    "df_GOOG_future = pd.read_csv(r'C:\\Users\\emili\\Downloads\\Machine_Learning_SP_Course\\Machine_Learning_Project\\GOOG_future.csv')#, index_col = 'Date')"
   ]
  },
  {
   "cell_type": "code",
   "execution_count": 3,
   "metadata": {},
   "outputs": [],
   "source": [
    "df_TSLA_comp = pd.read_csv(r'C:\\Users\\emili\\Downloads\\Machine_Learning_SP_Course\\Machine_Learning_Project\\TSLA_comp.csv')#, index_col = 'Date')\n",
    "df_AAPL_comp = pd.read_csv(r'C:\\Users\\emili\\Downloads\\Machine_Learning_SP_Course\\Machine_Learning_Project\\AAPL_comp.csv')#, index_col = 'Date')\n",
    "df_ABNB_comp = pd.read_csv(r'C:\\Users\\emili\\Downloads\\Machine_Learning_SP_Course\\Machine_Learning_Project\\ABNB_comp.csv')#, index_col = 'Date')\n",
    "df_AMZN_comp = pd.read_csv(r'C:\\Users\\emili\\Downloads\\Machine_Learning_SP_Course\\Machine_Learning_Project\\AMZN_comp.csv')#, index_col = 'Date')\n",
    "df_BTC_comp = pd.read_csv(r'C:\\Users\\emili\\Downloads\\Machine_Learning_SP_Course\\Machine_Learning_Project\\BTC-USD_comp.csv')#, index_col = 'Date')\n",
    "df_FDX_comp = pd.read_csv(r'C:\\Users\\emili\\Downloads\\Machine_Learning_SP_Course\\Machine_Learning_Project\\FDX_comp.csv')#, index_col = 'Date')\n",
    "df_IBM_comp = pd.read_csv(r'C:\\Users\\emili\\Downloads\\Machine_Learning_SP_Course\\Machine_Learning_Project\\IBM_comp.csv')#, index_col = 'Date')\n",
    "df_MSFT_comp = pd.read_csv(r'C:\\Users\\emili\\Downloads\\Machine_Learning_SP_Course\\Machine_Learning_Project\\MSFT_comp.csv')#, index_col = 'Date')\n",
    "df_NVDA_comp = pd.read_csv(r'C:\\Users\\emili\\Downloads\\Machine_Learning_SP_Course\\Machine_Learning_Project\\NVDA_comp.csv')#, index_col = 'Date')\n",
    "df_ORCL_comp = pd.read_csv(r'C:\\Users\\emili\\Downloads\\Machine_Learning_SP_Course\\Machine_Learning_Project\\ORCL_comp.csv')#, index_col = 'Date')\n",
    "df_GOOG_comp = pd.read_csv(r'C:\\Users\\emili\\Downloads\\Machine_Learning_SP_Course\\Machine_Learning_Project\\GOOG_comp.csv')#, index_col = 'Date')"
   ]
  },
  {
   "cell_type": "code",
   "execution_count": 4,
   "metadata": {
    "id": "eWQaLRewhYtf",
    "scrolled": false
   },
   "outputs": [],
   "source": [
    "df_TSLA['Date'] = pd.to_datetime(df_TSLA['Date']);df_TSLA.set_axis(df_TSLA['Date'], inplace=True);\n",
    "df_AAPL['Date'] = pd.to_datetime(df_AAPL['Date']);df_AAPL.set_axis(df_AAPL['Date'], inplace=True);\n",
    "df_ABNB['Date'] = pd.to_datetime(df_ABNB['Date']);df_ABNB.set_axis(df_ABNB['Date'], inplace=True);\n",
    "df_AMZN['Date'] = pd.to_datetime(df_AMZN['Date']);df_AMZN.set_axis(df_AMZN['Date'], inplace=True);\n",
    "df_BTC['Date'] = pd.to_datetime(df_BTC['Date']);df_BTC.set_axis(df_BTC['Date'], inplace=True);\n",
    "df_FDX['Date'] = pd.to_datetime(df_FDX['Date']);df_FDX.set_axis(df_FDX['Date'], inplace=True);\n",
    "df_IBM['Date'] = pd.to_datetime(df_IBM['Date']);df_IBM.set_axis(df_IBM['Date'], inplace=True);\n",
    "df_MSFT['Date'] = pd.to_datetime(df_MSFT['Date']);df_MSFT.set_axis(df_MSFT['Date'], inplace=True);\n",
    "df_NVDA['Date'] = pd.to_datetime(df_NVDA['Date']);df_NVDA.set_axis(df_NVDA['Date'], inplace=True);\n",
    "df_ORCL['Date'] = pd.to_datetime(df_ORCL['Date']);df_ORCL.set_axis(df_ORCL['Date'], inplace=True);\n",
    "df_GOOG['Date'] = pd.to_datetime(df_GOOG['Date']);df_GOOG.set_axis(df_GOOG['Date'], inplace=True);"
   ]
  },
  {
   "cell_type": "code",
   "execution_count": 5,
   "metadata": {},
   "outputs": [],
   "source": [
    "df_TSLA_future['Date'] = pd.to_datetime(df_TSLA_future['Date']);df_TSLA_future.set_axis(df_TSLA_future['Date'], inplace=True);\n",
    "df_AAPL_future['Date'] = pd.to_datetime(df_AAPL_future['Date']);df_AAPL_future.set_axis(df_AAPL_future['Date'], inplace=True);\n",
    "df_ABNB_future['Date'] = pd.to_datetime(df_ABNB_future['Date']);df_ABNB_future.set_axis(df_ABNB_future['Date'], inplace=True);\n",
    "df_AMZN_future['Date'] = pd.to_datetime(df_AMZN_future['Date']);df_AMZN_future.set_axis(df_AMZN_future['Date'], inplace=True);\n",
    "df_BTC_future['Date'] = pd.to_datetime(df_BTC_future['Date']);df_BTC_future.set_axis(df_BTC_future['Date'], inplace=True);\n",
    "df_FDX_future['Date'] = pd.to_datetime(df_FDX_future['Date']);df_FDX_future.set_axis(df_FDX_future['Date'], inplace=True);\n",
    "df_IBM_future['Date'] = pd.to_datetime(df_IBM_future['Date']);df_IBM_future.set_axis(df_IBM_future['Date'], inplace=True);\n",
    "df_MSFT_future['Date'] = pd.to_datetime(df_MSFT_future['Date']);df_MSFT_future.set_axis(df_MSFT_future['Date'], inplace=True);\n",
    "df_NVDA_future['Date'] = pd.to_datetime(df_NVDA_future['Date']);df_NVDA_future.set_axis(df_NVDA_future['Date'], inplace=True);\n",
    "df_ORCL_future['Date'] = pd.to_datetime(df_ORCL_future['Date']);df_ORCL_future.set_axis(df_ORCL_future['Date'], inplace=True);\n",
    "df_GOOG_future['Date'] = pd.to_datetime(df_GOOG_future['Date']);df_GOOG_future.set_axis(df_GOOG_future['Date'], inplace=True);"
   ]
  },
  {
   "cell_type": "code",
   "execution_count": 6,
   "metadata": {},
   "outputs": [],
   "source": [
    "df_TSLA_comp['Date'] = pd.to_datetime(df_TSLA_comp['Date']);df_TSLA_comp.set_axis(df_TSLA_comp['Date'], inplace=True);\n",
    "df_AAPL_comp['Date'] = pd.to_datetime(df_AAPL_comp['Date']);df_AAPL_comp.set_axis(df_AAPL_comp['Date'], inplace=True);\n",
    "df_ABNB_comp['Date'] = pd.to_datetime(df_ABNB_comp['Date']);df_ABNB_comp.set_axis(df_ABNB_comp['Date'], inplace=True);\n",
    "df_AMZN_comp['Date'] = pd.to_datetime(df_AMZN_comp['Date']);df_AMZN_comp.set_axis(df_AMZN_comp['Date'], inplace=True);\n",
    "df_BTC_comp['Date'] = pd.to_datetime(df_BTC_comp['Date']);df_BTC_comp.set_axis(df_BTC_comp['Date'], inplace=True);\n",
    "df_FDX_comp['Date'] = pd.to_datetime(df_FDX_comp['Date']);df_FDX_comp.set_axis(df_FDX_comp['Date'], inplace=True);\n",
    "df_IBM_comp['Date'] = pd.to_datetime(df_IBM_comp['Date']);df_IBM_comp.set_axis(df_IBM_comp['Date'], inplace=True);\n",
    "df_MSFT_comp['Date'] = pd.to_datetime(df_MSFT_comp['Date']);df_MSFT_comp.set_axis(df_MSFT_comp['Date'], inplace=True);\n",
    "df_NVDA_comp['Date'] = pd.to_datetime(df_NVDA_comp['Date']);df_NVDA_comp.set_axis(df_NVDA_comp['Date'], inplace=True);\n",
    "df_ORCL_comp['Date'] = pd.to_datetime(df_ORCL_comp['Date']);df_ORCL_comp.set_axis(df_ORCL_comp['Date'], inplace=True);\n",
    "df_GOOG_comp['Date'] = pd.to_datetime(df_GOOG_comp['Date']);df_GOOG_comp.set_axis(df_GOOG_comp['Date'], inplace=True);"
   ]
  },
  {
   "cell_type": "code",
   "execution_count": 7,
   "metadata": {
    "id": "TZcutXBRir8W",
    "scrolled": false
   },
   "outputs": [],
   "source": [
    "def pred(df,df_future,df_comp):\n",
    "    close_data = df['Close'].values\n",
    "    close_data = close_data.reshape((-1,1));\n",
    "\n",
    "    split_percent = 0.80;\n",
    "    split = int(split_percent*len(close_data));\n",
    "\n",
    "    close_train = close_data[:split];\n",
    "    close_test = close_data[split:];\n",
    "\n",
    "    date_train = df['Date'][:split];\n",
    "    date_test = df['Date'][split:];\n",
    "\n",
    "    #print(len(close_train));\n",
    "    #print(len(close_test));\n",
    "    ## You should get that the train and testing sets have been split \n",
    "    ## into 80% train and 20% test\n",
    "\n",
    "    look_back = 5;\n",
    "\n",
    "    train_generator = TimeseriesGenerator(close_train, close_train, length = look_back, batch_size = 200);\n",
    "    test_generator = TimeseriesGenerator(close_test, close_test, length = look_back, batch_size = 200);\n",
    "\n",
    "    model = Sequential()\n",
    "    model.add(\n",
    "        LSTM(30,\n",
    "            activation='LeakyReLU',\n",
    "            input_shape=(look_back,1))\n",
    "    )\n",
    "    model.add(Dense(1))\n",
    "    model.compile(optimizer='adam', loss='mse')\n",
    "\n",
    "    num_epochs = 100;\n",
    "    model.fit(train_generator, epochs=num_epochs, verbose=1)\n",
    "    prediction = model.predict(test_generator)\n",
    "\n",
    "    close_train = close_train.reshape((-1))\n",
    "    close_test = close_test.reshape((-1))\n",
    "    prediction = prediction.reshape((-1))\n",
    "\n",
    "    close_data = close_data.reshape((-1));\n",
    "\n",
    "    def predict(num_prediction, model):\n",
    "        prediction_list = close_data[-look_back:];\n",
    "    \n",
    "        for _ in range(num_prediction):\n",
    "            x = prediction_list[-look_back:];\n",
    "            x = x.reshape((1, look_back, 1));\n",
    "            out = model.predict(x)[0][0];\n",
    "            prediction_list = np.append(prediction_list, out);\n",
    "        prediction_list = prediction_list[look_back-1:];\n",
    "        \n",
    "        return prediction_list;\n",
    "    \n",
    "    def predict_dates(num_prediction):\n",
    "        last_date = df['Date'].values[-1];\n",
    "        prediction_dates = pd.date_range(last_date, periods=num_prediction+1).tolist();\n",
    "        return prediction_dates;\n",
    "\n",
    "    num_prediction = 5;\n",
    "    forecast = predict(num_prediction, model);\n",
    "    forecast_dates = predict_dates(num_prediction);\n",
    "    trace1 = go.Scatter(\n",
    "        x = date_train,\n",
    "        y = close_train,\n",
    "        mode = 'lines',\n",
    "        name = 'Training Data'\n",
    "    )\n",
    "    trace2 = go.Scatter(\n",
    "        x = date_test,\n",
    "        y = prediction,\n",
    "        mode = 'lines',\n",
    "        name = 'Testing Training Data'\n",
    "    )\n",
    "    trace3 = go.Scatter(\n",
    "        x = date_test,\n",
    "        y = close_test,\n",
    "        mode='lines',\n",
    "        name = 'Ground Truth'\n",
    "    )\n",
    "    if (df is df_TSLA):\n",
    "        name = \"TSLA\"\n",
    "    elif(df is df_AAPL):\n",
    "        name = \"AAPL\"\n",
    "    elif(df is df_ABNB):\n",
    "        name = \"ABNB\"\n",
    "    elif(df is df_AMZN):\n",
    "        name = \"AMZN\"\n",
    "    elif(df is df_BTC):\n",
    "        name = \"BTC\"\n",
    "    elif(df is df_FDX):\n",
    "        name = \"FDX\"\n",
    "    elif(df is df_IBM):\n",
    "        name = \"IBM\"\n",
    "    elif(df is df_MSFT):\n",
    "        name = \"MSFT\"\n",
    "    elif(df is df_NVDA):\n",
    "        name = \"NVDA\"\n",
    "    elif(df is df_ORCL):\n",
    "        name = \"ORCL\"\n",
    "    elif(df is df_GOOG):\n",
    "        name = \"GOOG\"\n",
    "    else:\n",
    "        name = \"\"\n",
    "    layout = go.Layout(\n",
    "        title = (name + \" Stock\"),\n",
    "        font = dict(size = 20),\n",
    "        xaxis = {'title' : \"Date\"},\n",
    "        yaxis = {'title' : \"Close\"}\n",
    "    )\n",
    "    fig = go.Figure(data=[trace1, trace2, trace3], layout=layout)\n",
    "    fig.show()\n",
    "    #test_r2_score = r2_score(close_test[0:len(close_test)-look_back],prediction)\n",
    "    #print(\"The R2_score of this Training-Testing model is:\",test_r2_score)\n",
    "    trace1 = go.Scatter(\n",
    "        x = forecast_dates,\n",
    "        y = forecast,\n",
    "        mode = 'lines',\n",
    "        name = 'Future Predictions'\n",
    "    )\n",
    "    trace2 = go.Scatter(\n",
    "        x = df_comp.index,\n",
    "        y = df_comp['Close'],\n",
    "        mode = 'lines',\n",
    "        name = '5-Day Data'\n",
    "    )\n",
    "    layout = go.Layout(\n",
    "        title = (name + \" Stock\"),\n",
    "        font = dict(size = 20),\n",
    "        xaxis = {'title' : \"Date\"},\n",
    "        yaxis = {'title' : \"Close\"}\n",
    "    )\n",
    "    fig = go.Figure(data=[trace1,trace2, trace3], layout=layout);\n",
    "    fig.show();\n",
    "    #df_r2_score = r2_score(df_comp['Close'], forecast)\n",
    "    #print(\"The R2_score of this prediction model is:\",df_r2_score)"
   ]
  },
  {
   "cell_type": "code",
   "execution_count": 8,
   "metadata": {},
   "outputs": [],
   "source": [
    "df_TSLA = pd.read_csv(r'C:\\Users\\emili\\Downloads\\Machine_Learning_SP_Course\\Machine_Learning_Project\\TSLA.csv');#, index_col = 'Date', parse_dates = True)#, index_col = 'Date')\n",
    "df_AAPL = pd.read_csv(r'C:\\Users\\emili\\Downloads\\Machine_Learning_SP_Course\\Machine_Learning_Project\\AAPL.csv')#, index_col = 'Date')\n",
    "df_ABNB = pd.read_csv(r'C:\\Users\\emili\\Downloads\\Machine_Learning_SP_Course\\Machine_Learning_Project\\ABNB.csv')#, index_col = 'Date')\n",
    "df_AMZN = pd.read_csv(r'C:\\Users\\emili\\Downloads\\Machine_Learning_SP_Course\\Machine_Learning_Project\\AMZN.csv')#, index_col = 'Date')\n",
    "df_BTC = pd.read_csv(r'C:\\Users\\emili\\Downloads\\Machine_Learning_SP_Course\\Machine_Learning_Project\\BTC-USD.csv', parse_dates = True)#, index_col = 'Date')\n",
    "df_FDX = pd.read_csv(r'C:\\Users\\emili\\Downloads\\Machine_Learning_SP_Course\\Machine_Learning_Project\\FDX.csv')#, index_col = 'Date')\n",
    "df_IBM = pd.read_csv(r'C:\\Users\\emili\\Downloads\\Machine_Learning_SP_Course\\Machine_Learning_Project\\IBM.csv')#, index_col = 'Date')\n",
    "df_MSFT = pd.read_csv(r'C:\\Users\\emili\\Downloads\\Machine_Learning_SP_Course\\Machine_Learning_Project\\MSFT.csv')#, index_col = 'Date')\n",
    "df_NVDA = pd.read_csv(r'C:\\Users\\emili\\Downloads\\Machine_Learning_SP_Course\\Machine_Learning_Project\\NVDA.csv')#, index_col = 'Date')\n",
    "df_ORCL = pd.read_csv(r'C:\\Users\\emili\\Downloads\\Machine_Learning_SP_Course\\Machine_Learning_Project\\ORCL.csv')#, index_col = 'Date')\n",
    "df_GOOG = pd.read_csv(r'C:\\Users\\emili\\Downloads\\Machine_Learning_SP_Course\\Machine_Learning_Project\\GOOG.csv')#, index_col = 'Date')"
   ]
  },
  {
   "cell_type": "code",
   "execution_count": 9,
   "metadata": {},
   "outputs": [
    {
     "data": {
      "text/html": [
       "<div>\n",
       "<style scoped>\n",
       "    .dataframe tbody tr th:only-of-type {\n",
       "        vertical-align: middle;\n",
       "    }\n",
       "\n",
       "    .dataframe tbody tr th {\n",
       "        vertical-align: top;\n",
       "    }\n",
       "\n",
       "    .dataframe thead th {\n",
       "        text-align: right;\n",
       "    }\n",
       "</style>\n",
       "<table border=\"1\" class=\"dataframe\">\n",
       "  <thead>\n",
       "    <tr style=\"text-align: right;\">\n",
       "      <th></th>\n",
       "      <th>Date</th>\n",
       "      <th>Open</th>\n",
       "      <th>High</th>\n",
       "      <th>Low</th>\n",
       "      <th>Close</th>\n",
       "      <th>Adj Close</th>\n",
       "      <th>Volume</th>\n",
       "    </tr>\n",
       "  </thead>\n",
       "  <tbody>\n",
       "    <tr>\n",
       "      <th>0</th>\n",
       "      <td>2010-06-30</td>\n",
       "      <td>1.719333</td>\n",
       "      <td>2.028000</td>\n",
       "      <td>1.553333</td>\n",
       "      <td>1.588667</td>\n",
       "      <td>1.588667</td>\n",
       "      <td>257806500</td>\n",
       "    </tr>\n",
       "    <tr>\n",
       "      <th>1</th>\n",
       "      <td>2010-07-01</td>\n",
       "      <td>1.666667</td>\n",
       "      <td>1.728000</td>\n",
       "      <td>1.351333</td>\n",
       "      <td>1.464000</td>\n",
       "      <td>1.464000</td>\n",
       "      <td>123282000</td>\n",
       "    </tr>\n",
       "    <tr>\n",
       "      <th>2</th>\n",
       "      <td>2010-07-02</td>\n",
       "      <td>1.533333</td>\n",
       "      <td>1.540000</td>\n",
       "      <td>1.247333</td>\n",
       "      <td>1.280000</td>\n",
       "      <td>1.280000</td>\n",
       "      <td>77097000</td>\n",
       "    </tr>\n",
       "    <tr>\n",
       "      <th>3</th>\n",
       "      <td>2010-07-06</td>\n",
       "      <td>1.333333</td>\n",
       "      <td>1.333333</td>\n",
       "      <td>1.055333</td>\n",
       "      <td>1.074000</td>\n",
       "      <td>1.074000</td>\n",
       "      <td>103003500</td>\n",
       "    </tr>\n",
       "    <tr>\n",
       "      <th>4</th>\n",
       "      <td>2010-07-07</td>\n",
       "      <td>1.093333</td>\n",
       "      <td>1.108667</td>\n",
       "      <td>0.998667</td>\n",
       "      <td>1.053333</td>\n",
       "      <td>1.053333</td>\n",
       "      <td>103825500</td>\n",
       "    </tr>\n",
       "    <tr>\n",
       "      <th>...</th>\n",
       "      <td>...</td>\n",
       "      <td>...</td>\n",
       "      <td>...</td>\n",
       "      <td>...</td>\n",
       "      <td>...</td>\n",
       "      <td>...</td>\n",
       "      <td>...</td>\n",
       "    </tr>\n",
       "    <tr>\n",
       "      <th>3085</th>\n",
       "      <td>2022-09-30</td>\n",
       "      <td>266.149994</td>\n",
       "      <td>275.570007</td>\n",
       "      <td>262.470001</td>\n",
       "      <td>265.250000</td>\n",
       "      <td>265.250000</td>\n",
       "      <td>67726600</td>\n",
       "    </tr>\n",
       "    <tr>\n",
       "      <th>3086</th>\n",
       "      <td>2022-10-03</td>\n",
       "      <td>254.500000</td>\n",
       "      <td>255.160004</td>\n",
       "      <td>241.009995</td>\n",
       "      <td>242.399994</td>\n",
       "      <td>242.399994</td>\n",
       "      <td>98363500</td>\n",
       "    </tr>\n",
       "    <tr>\n",
       "      <th>3087</th>\n",
       "      <td>2022-10-04</td>\n",
       "      <td>250.520004</td>\n",
       "      <td>257.500000</td>\n",
       "      <td>242.009995</td>\n",
       "      <td>249.440002</td>\n",
       "      <td>249.440002</td>\n",
       "      <td>109578500</td>\n",
       "    </tr>\n",
       "    <tr>\n",
       "      <th>3088</th>\n",
       "      <td>2022-10-05</td>\n",
       "      <td>245.009995</td>\n",
       "      <td>246.669998</td>\n",
       "      <td>233.270004</td>\n",
       "      <td>240.809998</td>\n",
       "      <td>240.809998</td>\n",
       "      <td>86982700</td>\n",
       "    </tr>\n",
       "    <tr>\n",
       "      <th>3089</th>\n",
       "      <td>2022-10-06</td>\n",
       "      <td>239.440002</td>\n",
       "      <td>244.580002</td>\n",
       "      <td>235.350006</td>\n",
       "      <td>238.130005</td>\n",
       "      <td>238.130005</td>\n",
       "      <td>69298400</td>\n",
       "    </tr>\n",
       "  </tbody>\n",
       "</table>\n",
       "<p>3090 rows × 7 columns</p>\n",
       "</div>"
      ],
      "text/plain": [
       "            Date        Open        High         Low       Close   Adj Close  \\\n",
       "0     2010-06-30    1.719333    2.028000    1.553333    1.588667    1.588667   \n",
       "1     2010-07-01    1.666667    1.728000    1.351333    1.464000    1.464000   \n",
       "2     2010-07-02    1.533333    1.540000    1.247333    1.280000    1.280000   \n",
       "3     2010-07-06    1.333333    1.333333    1.055333    1.074000    1.074000   \n",
       "4     2010-07-07    1.093333    1.108667    0.998667    1.053333    1.053333   \n",
       "...          ...         ...         ...         ...         ...         ...   \n",
       "3085  2022-09-30  266.149994  275.570007  262.470001  265.250000  265.250000   \n",
       "3086  2022-10-03  254.500000  255.160004  241.009995  242.399994  242.399994   \n",
       "3087  2022-10-04  250.520004  257.500000  242.009995  249.440002  249.440002   \n",
       "3088  2022-10-05  245.009995  246.669998  233.270004  240.809998  240.809998   \n",
       "3089  2022-10-06  239.440002  244.580002  235.350006  238.130005  238.130005   \n",
       "\n",
       "         Volume  \n",
       "0     257806500  \n",
       "1     123282000  \n",
       "2      77097000  \n",
       "3     103003500  \n",
       "4     103825500  \n",
       "...         ...  \n",
       "3085   67726600  \n",
       "3086   98363500  \n",
       "3087  109578500  \n",
       "3088   86982700  \n",
       "3089   69298400  \n",
       "\n",
       "[3090 rows x 7 columns]"
      ]
     },
     "execution_count": 9,
     "metadata": {},
     "output_type": "execute_result"
    }
   ],
   "source": [
    "df_TSLA"
   ]
  },
  {
   "cell_type": "code",
   "execution_count": 10,
   "metadata": {
    "scrolled": true
   },
   "outputs": [],
   "source": [
    "df_TSLA = df_TSLA.drop(labels=range(0, len(df_TSLA.index)-127), axis=0) #127\n",
    "df_AAPL = df_AAPL.drop(labels=range(0, len(df_AAPL.index)-127), axis=0)\n",
    "df_ABNB = df_ABNB.drop(labels=range(0, len(df_ABNB.index)-127), axis=0)\n",
    "df_AMZN = df_AMZN.drop(labels=range(0, len(df_AMZN.index)-127), axis=0)\n",
    "df_BTC = df_BTC.drop(labels=range(0, len(df_BTC.index)-127), axis=0)\n",
    "df_FDX = df_FDX.drop(labels=range(0, len(df_FDX.index)-127), axis=0)\n",
    "df_IBM = df_IBM.drop(labels=range(0, len(df_IBM.index)-127), axis=0)\n",
    "df_MSFT = df_MSFT.drop(labels=range(0, len(df_MSFT.index)-127), axis=0)\n",
    "df_NVDA = df_NVDA.drop(labels=range(0, len(df_NVDA.index)-127), axis=0)\n",
    "df_ORCL = df_ORCL.drop(labels=range(0, len(df_ORCL.index)-127), axis=0)\n",
    "df_GOOG = df_GOOG.drop(labels=range(0, len(df_GOOG.index)-127), axis=0)"
   ]
  },
  {
   "cell_type": "code",
   "execution_count": 11,
   "metadata": {},
   "outputs": [
    {
     "data": {
      "text/html": [
       "<div>\n",
       "<style scoped>\n",
       "    .dataframe tbody tr th:only-of-type {\n",
       "        vertical-align: middle;\n",
       "    }\n",
       "\n",
       "    .dataframe tbody tr th {\n",
       "        vertical-align: top;\n",
       "    }\n",
       "\n",
       "    .dataframe thead th {\n",
       "        text-align: right;\n",
       "    }\n",
       "</style>\n",
       "<table border=\"1\" class=\"dataframe\">\n",
       "  <thead>\n",
       "    <tr style=\"text-align: right;\">\n",
       "      <th></th>\n",
       "      <th>Date</th>\n",
       "      <th>Open</th>\n",
       "      <th>High</th>\n",
       "      <th>Low</th>\n",
       "      <th>Close</th>\n",
       "      <th>Adj Close</th>\n",
       "      <th>Volume</th>\n",
       "    </tr>\n",
       "    <tr>\n",
       "      <th>Date</th>\n",
       "      <th></th>\n",
       "      <th></th>\n",
       "      <th></th>\n",
       "      <th></th>\n",
       "      <th></th>\n",
       "      <th></th>\n",
       "      <th></th>\n",
       "    </tr>\n",
       "  </thead>\n",
       "  <tbody>\n",
       "    <tr>\n",
       "      <th>2022-10-06</th>\n",
       "      <td>2022-10-06</td>\n",
       "      <td>239.440000</td>\n",
       "      <td>244.580000</td>\n",
       "      <td>235.350000</td>\n",
       "      <td>238.130000</td>\n",
       "      <td>238.130000</td>\n",
       "      <td>69298400</td>\n",
       "    </tr>\n",
       "    <tr>\n",
       "      <th>2022-10-07</th>\n",
       "      <td>2022-10-07</td>\n",
       "      <td>233.940002</td>\n",
       "      <td>234.570007</td>\n",
       "      <td>222.020004</td>\n",
       "      <td>223.070007</td>\n",
       "      <td>223.070007</td>\n",
       "      <td>83916800</td>\n",
       "    </tr>\n",
       "    <tr>\n",
       "      <th>2022-10-08</th>\n",
       "      <td>2022-10-08</td>\n",
       "      <td>233.940002</td>\n",
       "      <td>234.570007</td>\n",
       "      <td>222.020004</td>\n",
       "      <td>223.040000</td>\n",
       "      <td>223.040000</td>\n",
       "      <td>83916800</td>\n",
       "    </tr>\n",
       "    <tr>\n",
       "      <th>2022-10-09</th>\n",
       "      <td>2022-10-09</td>\n",
       "      <td>233.940002</td>\n",
       "      <td>234.570007</td>\n",
       "      <td>222.020004</td>\n",
       "      <td>223.010000</td>\n",
       "      <td>223.010000</td>\n",
       "      <td>83916800</td>\n",
       "    </tr>\n",
       "    <tr>\n",
       "      <th>2022-10-10</th>\n",
       "      <td>2022-10-10</td>\n",
       "      <td>223.929993</td>\n",
       "      <td>226.990005</td>\n",
       "      <td>218.360001</td>\n",
       "      <td>222.960007</td>\n",
       "      <td>222.960007</td>\n",
       "      <td>67925000</td>\n",
       "    </tr>\n",
       "    <tr>\n",
       "      <th>2022-10-11</th>\n",
       "      <td>2022-10-11</td>\n",
       "      <td>220.949997</td>\n",
       "      <td>225.750000</td>\n",
       "      <td>215.000000</td>\n",
       "      <td>216.500000</td>\n",
       "      <td>216.500000</td>\n",
       "      <td>77013200</td>\n",
       "    </tr>\n",
       "    <tr>\n",
       "      <th>2022-10-12</th>\n",
       "      <td>2022-10-12</td>\n",
       "      <td>215.330002</td>\n",
       "      <td>219.300003</td>\n",
       "      <td>211.509995</td>\n",
       "      <td>217.240005</td>\n",
       "      <td>217.240005</td>\n",
       "      <td>66860700</td>\n",
       "    </tr>\n",
       "    <tr>\n",
       "      <th>2022-10-13</th>\n",
       "      <td>2022-10-13</td>\n",
       "      <td>208.300003</td>\n",
       "      <td>222.990005</td>\n",
       "      <td>206.220001</td>\n",
       "      <td>221.720001</td>\n",
       "      <td>221.720001</td>\n",
       "      <td>91483000</td>\n",
       "    </tr>\n",
       "    <tr>\n",
       "      <th>2022-10-14</th>\n",
       "      <td>2022-10-14</td>\n",
       "      <td>224.009995</td>\n",
       "      <td>226.259995</td>\n",
       "      <td>204.160004</td>\n",
       "      <td>204.990005</td>\n",
       "      <td>204.990005</td>\n",
       "      <td>94124500</td>\n",
       "    </tr>\n",
       "    <tr>\n",
       "      <th>2022-10-15</th>\n",
       "      <td>2022-10-15</td>\n",
       "      <td>224.009995</td>\n",
       "      <td>226.259995</td>\n",
       "      <td>204.160004</td>\n",
       "      <td>209.780000</td>\n",
       "      <td>209.780000</td>\n",
       "      <td>94124500</td>\n",
       "    </tr>\n",
       "    <tr>\n",
       "      <th>2022-10-16</th>\n",
       "      <td>2022-10-16</td>\n",
       "      <td>224.009995</td>\n",
       "      <td>226.259995</td>\n",
       "      <td>204.160004</td>\n",
       "      <td>214.560000</td>\n",
       "      <td>214.560000</td>\n",
       "      <td>94124500</td>\n",
       "    </tr>\n",
       "    <tr>\n",
       "      <th>2022-10-17</th>\n",
       "      <td>2022-10-17</td>\n",
       "      <td>210.039993</td>\n",
       "      <td>221.860001</td>\n",
       "      <td>209.449997</td>\n",
       "      <td>219.350006</td>\n",
       "      <td>219.350006</td>\n",
       "      <td>79428800</td>\n",
       "    </tr>\n",
       "    <tr>\n",
       "      <th>2022-10-18</th>\n",
       "      <td>2022-10-18</td>\n",
       "      <td>229.500000</td>\n",
       "      <td>229.820007</td>\n",
       "      <td>217.250000</td>\n",
       "      <td>220.190002</td>\n",
       "      <td>220.190002</td>\n",
       "      <td>75891900</td>\n",
       "    </tr>\n",
       "    <tr>\n",
       "      <th>2022-10-19</th>\n",
       "      <td>2022-10-19</td>\n",
       "      <td>219.800003</td>\n",
       "      <td>222.929993</td>\n",
       "      <td>217.779999</td>\n",
       "      <td>222.039993</td>\n",
       "      <td>222.039993</td>\n",
       "      <td>66571500</td>\n",
       "    </tr>\n",
       "    <tr>\n",
       "      <th>2022-10-20</th>\n",
       "      <td>2022-10-20</td>\n",
       "      <td>208.279999</td>\n",
       "      <td>215.550003</td>\n",
       "      <td>202.000000</td>\n",
       "      <td>207.279999</td>\n",
       "      <td>207.279999</td>\n",
       "      <td>117798100</td>\n",
       "    </tr>\n",
       "    <tr>\n",
       "      <th>2022-10-21</th>\n",
       "      <td>2022-10-21</td>\n",
       "      <td>206.419998</td>\n",
       "      <td>214.660004</td>\n",
       "      <td>203.800003</td>\n",
       "      <td>214.440002</td>\n",
       "      <td>214.440002</td>\n",
       "      <td>75713800</td>\n",
       "    </tr>\n",
       "    <tr>\n",
       "      <th>2022-10-22</th>\n",
       "      <td>2022-10-22</td>\n",
       "      <td>206.419998</td>\n",
       "      <td>214.660004</td>\n",
       "      <td>203.800003</td>\n",
       "      <td>213.380000</td>\n",
       "      <td>213.380000</td>\n",
       "      <td>75713800</td>\n",
       "    </tr>\n",
       "    <tr>\n",
       "      <th>2022-10-23</th>\n",
       "      <td>2022-10-23</td>\n",
       "      <td>206.419998</td>\n",
       "      <td>214.660004</td>\n",
       "      <td>203.800003</td>\n",
       "      <td>212.320000</td>\n",
       "      <td>212.320000</td>\n",
       "      <td>75713800</td>\n",
       "    </tr>\n",
       "    <tr>\n",
       "      <th>2022-10-24</th>\n",
       "      <td>2022-10-24</td>\n",
       "      <td>205.820007</td>\n",
       "      <td>213.500000</td>\n",
       "      <td>198.589996</td>\n",
       "      <td>211.250000</td>\n",
       "      <td>211.250000</td>\n",
       "      <td>100446800</td>\n",
       "    </tr>\n",
       "    <tr>\n",
       "      <th>2022-10-25</th>\n",
       "      <td>2022-10-25</td>\n",
       "      <td>210.100006</td>\n",
       "      <td>224.350006</td>\n",
       "      <td>210.000000</td>\n",
       "      <td>222.419998</td>\n",
       "      <td>222.419998</td>\n",
       "      <td>96507900</td>\n",
       "    </tr>\n",
       "    <tr>\n",
       "      <th>2022-10-26</th>\n",
       "      <td>2022-10-26</td>\n",
       "      <td>219.399994</td>\n",
       "      <td>230.600006</td>\n",
       "      <td>218.199997</td>\n",
       "      <td>224.639999</td>\n",
       "      <td>224.639999</td>\n",
       "      <td>85012500</td>\n",
       "    </tr>\n",
       "    <tr>\n",
       "      <th>2022-10-27</th>\n",
       "      <td>2022-10-27</td>\n",
       "      <td>229.770004</td>\n",
       "      <td>233.809998</td>\n",
       "      <td>222.850006</td>\n",
       "      <td>225.089996</td>\n",
       "      <td>225.089996</td>\n",
       "      <td>61638800</td>\n",
       "    </tr>\n",
       "    <tr>\n",
       "      <th>2022-10-28</th>\n",
       "      <td>2022-10-28</td>\n",
       "      <td>225.399994</td>\n",
       "      <td>228.860001</td>\n",
       "      <td>216.350006</td>\n",
       "      <td>228.520004</td>\n",
       "      <td>228.520004</td>\n",
       "      <td>69152400</td>\n",
       "    </tr>\n",
       "    <tr>\n",
       "      <th>2022-10-29</th>\n",
       "      <td>2022-10-29</td>\n",
       "      <td>225.399994</td>\n",
       "      <td>228.860001</td>\n",
       "      <td>216.350006</td>\n",
       "      <td>228.190000</td>\n",
       "      <td>228.190000</td>\n",
       "      <td>69152400</td>\n",
       "    </tr>\n",
       "    <tr>\n",
       "      <th>2022-10-30</th>\n",
       "      <td>2022-10-30</td>\n",
       "      <td>225.399994</td>\n",
       "      <td>228.860001</td>\n",
       "      <td>216.350006</td>\n",
       "      <td>227.870000</td>\n",
       "      <td>227.870000</td>\n",
       "      <td>69152400</td>\n",
       "    </tr>\n",
       "    <tr>\n",
       "      <th>2022-10-31</th>\n",
       "      <td>2022-10-31</td>\n",
       "      <td>226.190002</td>\n",
       "      <td>229.850006</td>\n",
       "      <td>221.940002</td>\n",
       "      <td>227.539993</td>\n",
       "      <td>227.539993</td>\n",
       "      <td>61554300</td>\n",
       "    </tr>\n",
       "    <tr>\n",
       "      <th>2022-11-01</th>\n",
       "      <td>2022-11-01</td>\n",
       "      <td>234.050003</td>\n",
       "      <td>237.399994</td>\n",
       "      <td>227.279999</td>\n",
       "      <td>227.820007</td>\n",
       "      <td>227.820007</td>\n",
       "      <td>62688800</td>\n",
       "    </tr>\n",
       "    <tr>\n",
       "      <th>2022-11-02</th>\n",
       "      <td>2022-11-02</td>\n",
       "      <td>226.039993</td>\n",
       "      <td>227.869995</td>\n",
       "      <td>214.820007</td>\n",
       "      <td>214.979996</td>\n",
       "      <td>214.979996</td>\n",
       "      <td>63070300</td>\n",
       "    </tr>\n",
       "    <tr>\n",
       "      <th>2022-11-03</th>\n",
       "      <td>2022-11-03</td>\n",
       "      <td>211.360001</td>\n",
       "      <td>221.199997</td>\n",
       "      <td>210.139999</td>\n",
       "      <td>215.309998</td>\n",
       "      <td>215.309998</td>\n",
       "      <td>56538800</td>\n",
       "    </tr>\n",
       "    <tr>\n",
       "      <th>2022-11-04</th>\n",
       "      <td>2022-11-04</td>\n",
       "      <td>222.600006</td>\n",
       "      <td>223.800003</td>\n",
       "      <td>203.080002</td>\n",
       "      <td>207.470001</td>\n",
       "      <td>207.470001</td>\n",
       "      <td>98453100</td>\n",
       "    </tr>\n",
       "  </tbody>\n",
       "</table>\n",
       "</div>"
      ],
      "text/plain": [
       "                 Date        Open        High         Low       Close  \\\n",
       "Date                                                                    \n",
       "2022-10-06 2022-10-06  239.440000  244.580000  235.350000  238.130000   \n",
       "2022-10-07 2022-10-07  233.940002  234.570007  222.020004  223.070007   \n",
       "2022-10-08 2022-10-08  233.940002  234.570007  222.020004  223.040000   \n",
       "2022-10-09 2022-10-09  233.940002  234.570007  222.020004  223.010000   \n",
       "2022-10-10 2022-10-10  223.929993  226.990005  218.360001  222.960007   \n",
       "2022-10-11 2022-10-11  220.949997  225.750000  215.000000  216.500000   \n",
       "2022-10-12 2022-10-12  215.330002  219.300003  211.509995  217.240005   \n",
       "2022-10-13 2022-10-13  208.300003  222.990005  206.220001  221.720001   \n",
       "2022-10-14 2022-10-14  224.009995  226.259995  204.160004  204.990005   \n",
       "2022-10-15 2022-10-15  224.009995  226.259995  204.160004  209.780000   \n",
       "2022-10-16 2022-10-16  224.009995  226.259995  204.160004  214.560000   \n",
       "2022-10-17 2022-10-17  210.039993  221.860001  209.449997  219.350006   \n",
       "2022-10-18 2022-10-18  229.500000  229.820007  217.250000  220.190002   \n",
       "2022-10-19 2022-10-19  219.800003  222.929993  217.779999  222.039993   \n",
       "2022-10-20 2022-10-20  208.279999  215.550003  202.000000  207.279999   \n",
       "2022-10-21 2022-10-21  206.419998  214.660004  203.800003  214.440002   \n",
       "2022-10-22 2022-10-22  206.419998  214.660004  203.800003  213.380000   \n",
       "2022-10-23 2022-10-23  206.419998  214.660004  203.800003  212.320000   \n",
       "2022-10-24 2022-10-24  205.820007  213.500000  198.589996  211.250000   \n",
       "2022-10-25 2022-10-25  210.100006  224.350006  210.000000  222.419998   \n",
       "2022-10-26 2022-10-26  219.399994  230.600006  218.199997  224.639999   \n",
       "2022-10-27 2022-10-27  229.770004  233.809998  222.850006  225.089996   \n",
       "2022-10-28 2022-10-28  225.399994  228.860001  216.350006  228.520004   \n",
       "2022-10-29 2022-10-29  225.399994  228.860001  216.350006  228.190000   \n",
       "2022-10-30 2022-10-30  225.399994  228.860001  216.350006  227.870000   \n",
       "2022-10-31 2022-10-31  226.190002  229.850006  221.940002  227.539993   \n",
       "2022-11-01 2022-11-01  234.050003  237.399994  227.279999  227.820007   \n",
       "2022-11-02 2022-11-02  226.039993  227.869995  214.820007  214.979996   \n",
       "2022-11-03 2022-11-03  211.360001  221.199997  210.139999  215.309998   \n",
       "2022-11-04 2022-11-04  222.600006  223.800003  203.080002  207.470001   \n",
       "\n",
       "             Adj Close     Volume  \n",
       "Date                               \n",
       "2022-10-06  238.130000   69298400  \n",
       "2022-10-07  223.070007   83916800  \n",
       "2022-10-08  223.040000   83916800  \n",
       "2022-10-09  223.010000   83916800  \n",
       "2022-10-10  222.960007   67925000  \n",
       "2022-10-11  216.500000   77013200  \n",
       "2022-10-12  217.240005   66860700  \n",
       "2022-10-13  221.720001   91483000  \n",
       "2022-10-14  204.990005   94124500  \n",
       "2022-10-15  209.780000   94124500  \n",
       "2022-10-16  214.560000   94124500  \n",
       "2022-10-17  219.350006   79428800  \n",
       "2022-10-18  220.190002   75891900  \n",
       "2022-10-19  222.039993   66571500  \n",
       "2022-10-20  207.279999  117798100  \n",
       "2022-10-21  214.440002   75713800  \n",
       "2022-10-22  213.380000   75713800  \n",
       "2022-10-23  212.320000   75713800  \n",
       "2022-10-24  211.250000  100446800  \n",
       "2022-10-25  222.419998   96507900  \n",
       "2022-10-26  224.639999   85012500  \n",
       "2022-10-27  225.089996   61638800  \n",
       "2022-10-28  228.520004   69152400  \n",
       "2022-10-29  228.190000   69152400  \n",
       "2022-10-30  227.870000   69152400  \n",
       "2022-10-31  227.539993   61554300  \n",
       "2022-11-01  227.820007   62688800  \n",
       "2022-11-02  214.979996   63070300  \n",
       "2022-11-03  215.309998   56538800  \n",
       "2022-11-04  207.470001   98453100  "
      ]
     },
     "execution_count": 11,
     "metadata": {},
     "output_type": "execute_result"
    }
   ],
   "source": [
    "df_TSLA_comp"
   ]
  },
  {
   "cell_type": "code",
   "execution_count": 12,
   "metadata": {},
   "outputs": [],
   "source": [
    "df_TSLA_comp = pd.read_csv(r'C:\\Users\\emili\\Downloads\\Machine_Learning_SP_Course\\Machine_Learning_Project\\TSLA_comp.csv')#, index_col = 'Date')\n",
    "df_TSLA_comp = df_TSLA_comp.drop(labels=range(6, len(df_TSLA_comp)), axis=0) #127\n",
    "df_TSLA_comp['Date'] = pd.to_datetime(df_TSLA_comp['Date']);df_TSLA_comp.set_axis(df_TSLA_comp['Date'], inplace=True);"
   ]
  },
  {
   "cell_type": "code",
   "execution_count": 13,
   "metadata": {},
   "outputs": [],
   "source": [
    "df_AAPL_comp = pd.read_csv(r'C:\\Users\\emili\\Downloads\\Machine_Learning_SP_Course\\Machine_Learning_Project\\AAPL_comp.csv')#, index_col = 'Date')\n",
    "df_AAPL_comp = df_AAPL_comp.drop(labels=range(6, len(df_AAPL_comp)), axis=0) #127\n",
    "df_AAPL_comp['Date'] = pd.to_datetime(df_AAPL_comp['Date']);df_AAPL_comp.set_axis(df_AAPL_comp['Date'], inplace=True);"
   ]
  },
  {
   "cell_type": "code",
   "execution_count": 14,
   "metadata": {},
   "outputs": [],
   "source": [
    "df_AMZN_comp = pd.read_csv(r'C:\\Users\\emili\\Downloads\\Machine_Learning_SP_Course\\Machine_Learning_Project\\AMZN_comp.csv')#, index_col = 'Date')\n",
    "df_AMZN_comp = df_AMZN_comp.drop(labels=range(6, len(df_AMZN_comp)), axis=0) #127\n",
    "df_AMZN_comp['Date'] = pd.to_datetime(df_AMZN_comp['Date']);df_AMZN_comp.set_axis(df_AMZN_comp['Date'], inplace=True);"
   ]
  },
  {
   "cell_type": "code",
   "execution_count": 15,
   "metadata": {},
   "outputs": [],
   "source": [
    "df_FDX_comp = pd.read_csv(r'C:\\Users\\emili\\Downloads\\Machine_Learning_SP_Course\\Machine_Learning_Project\\FDX_comp.csv')#, index_col = 'Date')\n",
    "df_FDX_comp = df_FDX_comp.drop(labels=range(6, len(df_FDX_comp)), axis=0) #127\n",
    "df_FDX_comp['Date'] = pd.to_datetime(df_FDX_comp['Date']);df_FDX_comp.set_axis(df_FDX_comp['Date'], inplace=True);"
   ]
  },
  {
   "cell_type": "code",
   "execution_count": 16,
   "metadata": {},
   "outputs": [],
   "source": [
    "df_IBM_comp = pd.read_csv(r'C:\\Users\\emili\\Downloads\\Machine_Learning_SP_Course\\Machine_Learning_Project\\IBM_comp.csv')#, index_col = 'Date')\n",
    "df_IBM_comp = df_IBM_comp.drop(labels=range(6, len(df_IBM_comp)), axis=0) #127\n",
    "df_IBM_comp['Date'] = pd.to_datetime(df_IBM_comp['Date']);df_IBM_comp.set_axis(df_IBM_comp['Date'], inplace=True);"
   ]
  },
  {
   "cell_type": "code",
   "execution_count": 17,
   "metadata": {},
   "outputs": [],
   "source": [
    "df_ABNB_comp = pd.read_csv(r'C:\\Users\\emili\\Downloads\\Machine_Learning_SP_Course\\Machine_Learning_Project\\ABNB_comp.csv')#, index_col = 'Date')\n",
    "df_ABNB_comp = df_ABNB_comp.drop(labels=range(6, len(df_ABNB_comp)), axis=0) #127\n",
    "df_ABNB_comp['Date'] = pd.to_datetime(df_ABNB_comp['Date']);df_ABNB_comp.set_axis(df_ABNB_comp['Date'], inplace=True);"
   ]
  },
  {
   "cell_type": "code",
   "execution_count": 18,
   "metadata": {},
   "outputs": [],
   "source": [
    "df_GOOG_comp = pd.read_csv(r'C:\\Users\\emili\\Downloads\\Machine_Learning_SP_Course\\Machine_Learning_Project\\GOOG_comp.csv')#, index_col = 'Date')\n",
    "df_GOOG_comp = df_GOOG_comp.drop(labels=range(6, len(df_GOOG_comp)), axis=0) #127\n",
    "df_GOOG_comp['Date'] = pd.to_datetime(df_GOOG_comp['Date']);df_GOOG_comp.set_axis(df_GOOG_comp['Date'], inplace=True);"
   ]
  },
  {
   "cell_type": "code",
   "execution_count": 19,
   "metadata": {},
   "outputs": [],
   "source": [
    "df_ORCL_comp = pd.read_csv(r'C:\\Users\\emili\\Downloads\\Machine_Learning_SP_Course\\Machine_Learning_Project\\ORCL_comp.csv')#, index_col = 'Date')\n",
    "df_ORCL_comp = df_ORCL_comp.drop(labels=range(6, len(df_ORCL_comp)), axis=0) #127\n",
    "df_ORCL_comp['Date'] = pd.to_datetime(df_ORCL_comp['Date']);df_ORCL_comp.set_axis(df_ORCL_comp['Date'], inplace=True);"
   ]
  },
  {
   "cell_type": "code",
   "execution_count": 20,
   "metadata": {},
   "outputs": [],
   "source": [
    "df_NVDA_comp = pd.read_csv(r'C:\\Users\\emili\\Downloads\\Machine_Learning_SP_Course\\Machine_Learning_Project\\NVDA_comp.csv')#, index_col = 'Date')\n",
    "df_NVDA_comp = df_NVDA_comp.drop(labels=range(6, len(df_NVDA_comp)), axis=0) #127\n",
    "df_NVDA_comp['Date'] = pd.to_datetime(df_NVDA_comp['Date']);df_NVDA_comp.set_axis(df_NVDA_comp['Date'], inplace=True);"
   ]
  },
  {
   "cell_type": "code",
   "execution_count": 21,
   "metadata": {},
   "outputs": [],
   "source": [
    "df_MSFT_comp = pd.read_csv(r'C:\\Users\\emili\\Downloads\\Machine_Learning_SP_Course\\Machine_Learning_Project\\MSFT_comp.csv')#, index_col = 'Date')\n",
    "df_MSFT_comp = df_MSFT_comp.drop(labels=range(6, len(df_MSFT_comp)), axis=0) #127\n",
    "df_MSFT_comp['Date'] = pd.to_datetime(df_MSFT_comp['Date']);df_MSFT_comp.set_axis(df_MSFT_comp['Date'], inplace=True);"
   ]
  },
  {
   "cell_type": "code",
   "execution_count": 22,
   "metadata": {
    "scrolled": false
   },
   "outputs": [
    {
     "name": "stdout",
     "output_type": "stream",
     "text": [
      "Epoch 1/100\n",
      "1/1 [==============================] - 1s 1s/step - loss: 64166.4336\n",
      "Epoch 2/100\n",
      "1/1 [==============================] - 0s 13ms/step - loss: 63764.6719\n",
      "Epoch 3/100\n",
      "1/1 [==============================] - 0s 15ms/step - loss: 63356.0273\n",
      "Epoch 4/100\n",
      "1/1 [==============================] - 0s 14ms/step - loss: 62935.6367\n",
      "Epoch 5/100\n",
      "1/1 [==============================] - 0s 15ms/step - loss: 62496.7656\n",
      "Epoch 6/100\n",
      "1/1 [==============================] - 0s 15ms/step - loss: 62029.3594\n",
      "Epoch 7/100\n",
      "1/1 [==============================] - 0s 20ms/step - loss: 61518.7070\n",
      "Epoch 8/100\n",
      "1/1 [==============================] - 0s 21ms/step - loss: 60944.9492\n",
      "Epoch 9/100\n",
      "1/1 [==============================] - 0s 13ms/step - loss: 60284.5742\n",
      "Epoch 10/100\n",
      "1/1 [==============================] - 0s 12ms/step - loss: 59513.6836\n",
      "Epoch 11/100\n",
      "1/1 [==============================] - 0s 14ms/step - loss: 58607.8477\n",
      "Epoch 12/100\n",
      "1/1 [==============================] - 0s 15ms/step - loss: 57518.9531\n",
      "Epoch 13/100\n",
      "1/1 [==============================] - 0s 13ms/step - loss: 56061.5938\n",
      "Epoch 14/100\n",
      "1/1 [==============================] - 0s 12ms/step - loss: 54112.7930\n",
      "Epoch 15/100\n",
      "1/1 [==============================] - 0s 14ms/step - loss: 53061.2383\n",
      "Epoch 16/100\n",
      "1/1 [==============================] - 0s 14ms/step - loss: 50838.2812\n",
      "Epoch 17/100\n",
      "1/1 [==============================] - 0s 17ms/step - loss: 50202.9258\n",
      "Epoch 18/100\n",
      "1/1 [==============================] - 0s 26ms/step - loss: 48711.4727\n",
      "Epoch 19/100\n",
      "1/1 [==============================] - 0s 21ms/step - loss: 47046.2070\n",
      "Epoch 20/100\n",
      "1/1 [==============================] - 0s 15ms/step - loss: 46380.4805\n",
      "Epoch 21/100\n",
      "1/1 [==============================] - 0s 15ms/step - loss: 45094.3750\n",
      "Epoch 22/100\n",
      "1/1 [==============================] - 0s 18ms/step - loss: 43867.4375\n",
      "Epoch 23/100\n",
      "1/1 [==============================] - 0s 16ms/step - loss: 43226.9805\n",
      "Epoch 24/100\n",
      "1/1 [==============================] - 0s 13ms/step - loss: 42165.2539\n",
      "Epoch 25/100\n",
      "1/1 [==============================] - 0s 12ms/step - loss: 40713.8633\n",
      "Epoch 26/100\n",
      "1/1 [==============================] - 0s 13ms/step - loss: 39583.0039\n",
      "Epoch 27/100\n",
      "1/1 [==============================] - 0s 16ms/step - loss: 38489.5273\n",
      "Epoch 28/100\n",
      "1/1 [==============================] - 0s 11ms/step - loss: 37039.8867\n",
      "Epoch 29/100\n",
      "1/1 [==============================] - 0s 11ms/step - loss: 35898.4648\n",
      "Epoch 30/100\n",
      "1/1 [==============================] - 0s 12ms/step - loss: 34713.6055\n",
      "Epoch 31/100\n",
      "1/1 [==============================] - 0s 10ms/step - loss: 33679.9258\n",
      "Epoch 32/100\n",
      "1/1 [==============================] - 0s 12ms/step - loss: 32873.9102\n",
      "Epoch 33/100\n",
      "1/1 [==============================] - 0s 12ms/step - loss: 31877.9004\n",
      "Epoch 34/100\n",
      "1/1 [==============================] - 0s 11ms/step - loss: 31102.8750\n",
      "Epoch 35/100\n",
      "1/1 [==============================] - 0s 12ms/step - loss: 30104.7754\n",
      "Epoch 36/100\n",
      "1/1 [==============================] - 0s 12ms/step - loss: 29314.2832\n",
      "Epoch 37/100\n",
      "1/1 [==============================] - 0s 14ms/step - loss: 28394.0059\n",
      "Epoch 38/100\n",
      "1/1 [==============================] - 0s 14ms/step - loss: 27501.5312\n",
      "Epoch 39/100\n",
      "1/1 [==============================] - 0s 14ms/step - loss: 26608.9922\n",
      "Epoch 40/100\n",
      "1/1 [==============================] - 0s 12ms/step - loss: 25681.4785\n",
      "Epoch 41/100\n",
      "1/1 [==============================] - 0s 13ms/step - loss: 24770.0234\n",
      "Epoch 42/100\n",
      "1/1 [==============================] - 0s 13ms/step - loss: 23695.7441\n",
      "Epoch 43/100\n",
      "1/1 [==============================] - 0s 13ms/step - loss: 22248.0879\n",
      "Epoch 44/100\n",
      "1/1 [==============================] - 0s 14ms/step - loss: 20105.1250\n",
      "Epoch 45/100\n",
      "1/1 [==============================] - 0s 12ms/step - loss: 17557.8516\n",
      "Epoch 46/100\n",
      "1/1 [==============================] - 0s 11ms/step - loss: 14153.5117\n",
      "Epoch 47/100\n",
      "1/1 [==============================] - 0s 13ms/step - loss: 11843.8672\n",
      "Epoch 48/100\n",
      "1/1 [==============================] - 0s 11ms/step - loss: 10250.2354\n",
      "Epoch 49/100\n",
      "1/1 [==============================] - 0s 19ms/step - loss: 8505.4053\n",
      "Epoch 50/100\n",
      "1/1 [==============================] - 0s 13ms/step - loss: 6035.2285\n",
      "Epoch 51/100\n",
      "1/1 [==============================] - 0s 14ms/step - loss: 3102.9978\n",
      "Epoch 52/100\n",
      "1/1 [==============================] - 0s 12ms/step - loss: 1469.5464\n",
      "Epoch 53/100\n",
      "1/1 [==============================] - 0s 13ms/step - loss: 785.1301\n",
      "Epoch 54/100\n",
      "1/1 [==============================] - 0s 15ms/step - loss: 461.3256\n",
      "Epoch 55/100\n",
      "1/1 [==============================] - 0s 16ms/step - loss: 273.9244\n",
      "Epoch 56/100\n",
      "1/1 [==============================] - 0s 18ms/step - loss: 195.9515\n",
      "Epoch 57/100\n",
      "1/1 [==============================] - 0s 19ms/step - loss: 320.6544\n",
      "Epoch 58/100\n",
      "1/1 [==============================] - 0s 17ms/step - loss: 726.9409\n",
      "Epoch 59/100\n",
      "1/1 [==============================] - 0s 24ms/step - loss: 1384.2816\n",
      "Epoch 60/100\n",
      "1/1 [==============================] - 0s 15ms/step - loss: 1767.8818\n",
      "Epoch 61/100\n",
      "1/1 [==============================] - 0s 16ms/step - loss: 1625.3242\n",
      "Epoch 62/100\n",
      "1/1 [==============================] - 0s 17ms/step - loss: 1253.3955\n",
      "Epoch 63/100\n",
      "1/1 [==============================] - 0s 18ms/step - loss: 898.1296\n",
      "Epoch 64/100\n",
      "1/1 [==============================] - 0s 18ms/step - loss: 598.9179\n",
      "Epoch 65/100\n",
      "1/1 [==============================] - 0s 18ms/step - loss: 442.8201\n",
      "Epoch 66/100\n",
      "1/1 [==============================] - 0s 16ms/step - loss: 368.0298\n",
      "Epoch 67/100\n",
      "1/1 [==============================] - 0s 17ms/step - loss: 307.2508\n",
      "Epoch 68/100\n",
      "1/1 [==============================] - 0s 17ms/step - loss: 254.6680\n",
      "Epoch 69/100\n",
      "1/1 [==============================] - 0s 14ms/step - loss: 213.9783\n",
      "Epoch 70/100\n",
      "1/1 [==============================] - 0s 13ms/step - loss: 197.2614\n",
      "Epoch 71/100\n",
      "1/1 [==============================] - 0s 12ms/step - loss: 197.8747\n",
      "Epoch 72/100\n",
      "1/1 [==============================] - 0s 21ms/step - loss: 210.2889\n",
      "Epoch 73/100\n",
      "1/1 [==============================] - 0s 12ms/step - loss: 212.0267\n",
      "Epoch 74/100\n",
      "1/1 [==============================] - 0s 11ms/step - loss: 207.7536\n",
      "Epoch 75/100\n",
      "1/1 [==============================] - 0s 12ms/step - loss: 209.5789\n",
      "Epoch 76/100\n",
      "1/1 [==============================] - 0s 11ms/step - loss: 219.3696\n",
      "Epoch 77/100\n",
      "1/1 [==============================] - 0s 11ms/step - loss: 228.5934\n",
      "Epoch 78/100\n",
      "1/1 [==============================] - 0s 11ms/step - loss: 234.7249\n",
      "Epoch 79/100\n",
      "1/1 [==============================] - 0s 11ms/step - loss: 237.3934\n",
      "Epoch 80/100\n",
      "1/1 [==============================] - 0s 12ms/step - loss: 236.7536\n",
      "Epoch 81/100\n",
      "1/1 [==============================] - 0s 11ms/step - loss: 233.3314\n",
      "Epoch 82/100\n",
      "1/1 [==============================] - 0s 12ms/step - loss: 227.8670\n",
      "Epoch 83/100\n",
      "1/1 [==============================] - 0s 12ms/step - loss: 221.2189\n",
      "Epoch 84/100\n",
      "1/1 [==============================] - 0s 11ms/step - loss: 214.2374\n",
      "Epoch 85/100\n",
      "1/1 [==============================] - 0s 12ms/step - loss: 207.5633\n",
      "Epoch 86/100\n",
      "1/1 [==============================] - 0s 12ms/step - loss: 201.4103\n",
      "Epoch 87/100\n",
      "1/1 [==============================] - 0s 11ms/step - loss: 195.7784\n",
      "Epoch 88/100\n",
      "1/1 [==============================] - 0s 12ms/step - loss: 191.5623\n",
      "Epoch 89/100\n",
      "1/1 [==============================] - 0s 12ms/step - loss: 190.2650\n",
      "Epoch 90/100\n",
      "1/1 [==============================] - 0s 11ms/step - loss: 191.3080\n",
      "Epoch 91/100\n",
      "1/1 [==============================] - 0s 10ms/step - loss: 193.0510\n",
      "Epoch 92/100\n",
      "1/1 [==============================] - 0s 11ms/step - loss: 194.5092\n",
      "Epoch 93/100\n",
      "1/1 [==============================] - 0s 11ms/step - loss: 195.2180\n",
      "Epoch 94/100\n",
      "1/1 [==============================] - 0s 12ms/step - loss: 194.8276\n",
      "Epoch 95/100\n",
      "1/1 [==============================] - 0s 10ms/step - loss: 192.9406\n",
      "Epoch 96/100\n",
      "1/1 [==============================] - 0s 24ms/step - loss: 189.0921\n",
      "Epoch 97/100\n",
      "1/1 [==============================] - 0s 18ms/step - loss: 183.1171\n",
      "Epoch 98/100\n",
      "1/1 [==============================] - 0s 15ms/step - loss: 178.1087\n",
      "Epoch 99/100\n",
      "1/1 [==============================] - 0s 15ms/step - loss: 197.0748\n",
      "Epoch 100/100\n",
      "1/1 [==============================] - 0s 14ms/step - loss: 180.2214\n",
      "1/1 [==============================] - 0s 158ms/step\n",
      "1/1 [==============================] - 0s 125ms/step\n",
      "1/1 [==============================] - 0s 13ms/step\n",
      "1/1 [==============================] - 0s 15ms/step\n",
      "1/1 [==============================] - 0s 15ms/step\n",
      "1/1 [==============================] - 0s 17ms/step\n"
     ]
    },
    {
     "data": {
      "application/vnd.plotly.v1+json": {
       "config": {
        "plotlyServerURL": "https://plot.ly"
       },
       "data": [
        {
         "mode": "lines",
         "name": "Training Data",
         "type": "scatter",
         "x": [
          "2022-04-06",
          "2022-04-07",
          "2022-04-08",
          "2022-04-11",
          "2022-04-12",
          "2022-04-13",
          "2022-04-14",
          "2022-04-18",
          "2022-04-19",
          "2022-04-20",
          "2022-04-21",
          "2022-04-22",
          "2022-04-25",
          "2022-04-26",
          "2022-04-27",
          "2022-04-28",
          "2022-04-29",
          "2022-05-02",
          "2022-05-03",
          "2022-05-04",
          "2022-05-05",
          "2022-05-06",
          "2022-05-09",
          "2022-05-10",
          "2022-05-11",
          "2022-05-12",
          "2022-05-13",
          "2022-05-16",
          "2022-05-17",
          "2022-05-18",
          "2022-05-19",
          "2022-05-20",
          "2022-05-23",
          "2022-05-24",
          "2022-05-25",
          "2022-05-26",
          "2022-05-27",
          "2022-05-31",
          "2022-06-01",
          "2022-06-02",
          "2022-06-03",
          "2022-06-06",
          "2022-06-07",
          "2022-06-08",
          "2022-06-09",
          "2022-06-10",
          "2022-06-13",
          "2022-06-14",
          "2022-06-15",
          "2022-06-16",
          "2022-06-17",
          "2022-06-21",
          "2022-06-22",
          "2022-06-23",
          "2022-06-24",
          "2022-06-27",
          "2022-06-28",
          "2022-06-29",
          "2022-06-30",
          "2022-07-01",
          "2022-07-05",
          "2022-07-06",
          "2022-07-07",
          "2022-07-08",
          "2022-07-11",
          "2022-07-12",
          "2022-07-13",
          "2022-07-14",
          "2022-07-15",
          "2022-07-18",
          "2022-07-19",
          "2022-07-20",
          "2022-07-21",
          "2022-07-22",
          "2022-07-25",
          "2022-07-26",
          "2022-07-27",
          "2022-07-28",
          "2022-07-29",
          "2022-08-01",
          "2022-08-02",
          "2022-08-03",
          "2022-08-04",
          "2022-08-05",
          "2022-08-08",
          "2022-08-09",
          "2022-08-10",
          "2022-08-11",
          "2022-08-12",
          "2022-08-15",
          "2022-08-16",
          "2022-08-17",
          "2022-08-18",
          "2022-08-19",
          "2022-08-22",
          "2022-08-23",
          "2022-08-24",
          "2022-08-25",
          "2022-08-26",
          "2022-08-29",
          "2022-08-30"
         ],
         "y": [
          348.58667,
          352.420013,
          341.829987,
          325.309998,
          328.983337,
          340.790009,
          328.333344,
          334.763336,
          342.716675,
          325.733337,
          336.26001,
          335.016663,
          332.67334,
          292.140015,
          293.83667,
          292.503326,
          290.253326,
          300.980011,
          303.083344,
          317.540009,
          291.093323,
          288.549988,
          262.369995,
          266.679993,
          244.666672,
          242.666672,
          256.529999,
          241.456665,
          253.869995,
          236.603333,
          236.473328,
          221.300003,
          224.96666,
          209.386673,
          219.600006,
          235.910004,
          253.210007,
          252.753326,
          246.789993,
          258.333344,
          234.516663,
          238.279999,
          238.886673,
          241.866669,
          239.706665,
          232.229996,
          215.736664,
          220.889999,
          233,
          213.100006,
          216.759995,
          237.036667,
          236.08667,
          235.070007,
          245.706665,
          244.919998,
          232.66333,
          228.490005,
          224.473328,
          227.263336,
          233.066666,
          231.733337,
          244.543335,
          250.763336,
          234.343338,
          233.070007,
          237.039993,
          238.313339,
          240.066666,
          240.546661,
          245.529999,
          247.5,
          271.706665,
          272.243347,
          268.433319,
          258.859985,
          274.820007,
          280.899994,
          297.149994,
          297.276672,
          300.58667,
          307.396667,
          308.633331,
          288.170013,
          290.42334,
          283.333344,
          294.356659,
          286.630005,
          300.029999,
          309.320007,
          306.563324,
          303.996674,
          302.869995,
          296.666656,
          289.91333,
          296.453339,
          297.09668,
          296.070007,
          288.089996,
          284.820007,
          277.700012
         ]
        },
        {
         "mode": "lines",
         "name": "Testing Training Data",
         "type": "scatter",
         "x": [
          "2022-08-31",
          "2022-09-01",
          "2022-09-02",
          "2022-09-06",
          "2022-09-07",
          "2022-09-08",
          "2022-09-09",
          "2022-09-12",
          "2022-09-13",
          "2022-09-14",
          "2022-09-15",
          "2022-09-16",
          "2022-09-19",
          "2022-09-20",
          "2022-09-21",
          "2022-09-22",
          "2022-09-23",
          "2022-09-26",
          "2022-09-27",
          "2022-09-28",
          "2022-09-29",
          "2022-09-30",
          "2022-10-03",
          "2022-10-04",
          "2022-10-05",
          "2022-10-06"
         ],
         "y": [
          278.8416442871094,
          283.8475341796875,
          289.2601623535156,
          295.3690185546875,
          296.4196472167969,
          300.0849609375,
          300.9319152832031,
          304.92919921875,
          304.754638671875,
          307.3425598144531,
          306.1810302734375,
          298.6846008300781,
          285.6118469238281,
          286.4474792480469,
          285.0003356933594,
          286.1257019042969,
          276.5437316894531,
          274.3820495605469,
          239.62413024902344,
          238.28005981445312,
          249.42254638671875
         ]
        },
        {
         "mode": "lines",
         "name": "Ground Truth",
         "type": "scatter",
         "x": [
          "2022-08-31",
          "2022-09-01",
          "2022-09-02",
          "2022-09-06",
          "2022-09-07",
          "2022-09-08",
          "2022-09-09",
          "2022-09-12",
          "2022-09-13",
          "2022-09-14",
          "2022-09-15",
          "2022-09-16",
          "2022-09-19",
          "2022-09-20",
          "2022-09-21",
          "2022-09-22",
          "2022-09-23",
          "2022-09-26",
          "2022-09-27",
          "2022-09-28",
          "2022-09-29",
          "2022-09-30",
          "2022-10-03",
          "2022-10-04",
          "2022-10-05",
          "2022-10-06"
         ],
         "y": [
          275.609985,
          277.160004,
          270.209991,
          274.420013,
          283.700012,
          289.26001,
          299.679993,
          304.420013,
          292.130005,
          302.609985,
          303.75,
          303.350006,
          309.070007,
          308.730011,
          300.799988,
          288.589996,
          275.329987,
          276.01001,
          282.940002,
          287.809998,
          268.209991,
          265.25,
          242.399994,
          249.440002,
          240.809998,
          238.130005
         ]
        }
       ],
       "layout": {
        "font": {
         "size": 20
        },
        "template": {
         "data": {
          "bar": [
           {
            "error_x": {
             "color": "#2a3f5f"
            },
            "error_y": {
             "color": "#2a3f5f"
            },
            "marker": {
             "line": {
              "color": "#E5ECF6",
              "width": 0.5
             },
             "pattern": {
              "fillmode": "overlay",
              "size": 10,
              "solidity": 0.2
             }
            },
            "type": "bar"
           }
          ],
          "barpolar": [
           {
            "marker": {
             "line": {
              "color": "#E5ECF6",
              "width": 0.5
             },
             "pattern": {
              "fillmode": "overlay",
              "size": 10,
              "solidity": 0.2
             }
            },
            "type": "barpolar"
           }
          ],
          "carpet": [
           {
            "aaxis": {
             "endlinecolor": "#2a3f5f",
             "gridcolor": "white",
             "linecolor": "white",
             "minorgridcolor": "white",
             "startlinecolor": "#2a3f5f"
            },
            "baxis": {
             "endlinecolor": "#2a3f5f",
             "gridcolor": "white",
             "linecolor": "white",
             "minorgridcolor": "white",
             "startlinecolor": "#2a3f5f"
            },
            "type": "carpet"
           }
          ],
          "choropleth": [
           {
            "colorbar": {
             "outlinewidth": 0,
             "ticks": ""
            },
            "type": "choropleth"
           }
          ],
          "contour": [
           {
            "colorbar": {
             "outlinewidth": 0,
             "ticks": ""
            },
            "colorscale": [
             [
              0,
              "#0d0887"
             ],
             [
              0.1111111111111111,
              "#46039f"
             ],
             [
              0.2222222222222222,
              "#7201a8"
             ],
             [
              0.3333333333333333,
              "#9c179e"
             ],
             [
              0.4444444444444444,
              "#bd3786"
             ],
             [
              0.5555555555555556,
              "#d8576b"
             ],
             [
              0.6666666666666666,
              "#ed7953"
             ],
             [
              0.7777777777777778,
              "#fb9f3a"
             ],
             [
              0.8888888888888888,
              "#fdca26"
             ],
             [
              1,
              "#f0f921"
             ]
            ],
            "type": "contour"
           }
          ],
          "contourcarpet": [
           {
            "colorbar": {
             "outlinewidth": 0,
             "ticks": ""
            },
            "type": "contourcarpet"
           }
          ],
          "heatmap": [
           {
            "colorbar": {
             "outlinewidth": 0,
             "ticks": ""
            },
            "colorscale": [
             [
              0,
              "#0d0887"
             ],
             [
              0.1111111111111111,
              "#46039f"
             ],
             [
              0.2222222222222222,
              "#7201a8"
             ],
             [
              0.3333333333333333,
              "#9c179e"
             ],
             [
              0.4444444444444444,
              "#bd3786"
             ],
             [
              0.5555555555555556,
              "#d8576b"
             ],
             [
              0.6666666666666666,
              "#ed7953"
             ],
             [
              0.7777777777777778,
              "#fb9f3a"
             ],
             [
              0.8888888888888888,
              "#fdca26"
             ],
             [
              1,
              "#f0f921"
             ]
            ],
            "type": "heatmap"
           }
          ],
          "heatmapgl": [
           {
            "colorbar": {
             "outlinewidth": 0,
             "ticks": ""
            },
            "colorscale": [
             [
              0,
              "#0d0887"
             ],
             [
              0.1111111111111111,
              "#46039f"
             ],
             [
              0.2222222222222222,
              "#7201a8"
             ],
             [
              0.3333333333333333,
              "#9c179e"
             ],
             [
              0.4444444444444444,
              "#bd3786"
             ],
             [
              0.5555555555555556,
              "#d8576b"
             ],
             [
              0.6666666666666666,
              "#ed7953"
             ],
             [
              0.7777777777777778,
              "#fb9f3a"
             ],
             [
              0.8888888888888888,
              "#fdca26"
             ],
             [
              1,
              "#f0f921"
             ]
            ],
            "type": "heatmapgl"
           }
          ],
          "histogram": [
           {
            "marker": {
             "pattern": {
              "fillmode": "overlay",
              "size": 10,
              "solidity": 0.2
             }
            },
            "type": "histogram"
           }
          ],
          "histogram2d": [
           {
            "colorbar": {
             "outlinewidth": 0,
             "ticks": ""
            },
            "colorscale": [
             [
              0,
              "#0d0887"
             ],
             [
              0.1111111111111111,
              "#46039f"
             ],
             [
              0.2222222222222222,
              "#7201a8"
             ],
             [
              0.3333333333333333,
              "#9c179e"
             ],
             [
              0.4444444444444444,
              "#bd3786"
             ],
             [
              0.5555555555555556,
              "#d8576b"
             ],
             [
              0.6666666666666666,
              "#ed7953"
             ],
             [
              0.7777777777777778,
              "#fb9f3a"
             ],
             [
              0.8888888888888888,
              "#fdca26"
             ],
             [
              1,
              "#f0f921"
             ]
            ],
            "type": "histogram2d"
           }
          ],
          "histogram2dcontour": [
           {
            "colorbar": {
             "outlinewidth": 0,
             "ticks": ""
            },
            "colorscale": [
             [
              0,
              "#0d0887"
             ],
             [
              0.1111111111111111,
              "#46039f"
             ],
             [
              0.2222222222222222,
              "#7201a8"
             ],
             [
              0.3333333333333333,
              "#9c179e"
             ],
             [
              0.4444444444444444,
              "#bd3786"
             ],
             [
              0.5555555555555556,
              "#d8576b"
             ],
             [
              0.6666666666666666,
              "#ed7953"
             ],
             [
              0.7777777777777778,
              "#fb9f3a"
             ],
             [
              0.8888888888888888,
              "#fdca26"
             ],
             [
              1,
              "#f0f921"
             ]
            ],
            "type": "histogram2dcontour"
           }
          ],
          "mesh3d": [
           {
            "colorbar": {
             "outlinewidth": 0,
             "ticks": ""
            },
            "type": "mesh3d"
           }
          ],
          "parcoords": [
           {
            "line": {
             "colorbar": {
              "outlinewidth": 0,
              "ticks": ""
             }
            },
            "type": "parcoords"
           }
          ],
          "pie": [
           {
            "automargin": true,
            "type": "pie"
           }
          ],
          "scatter": [
           {
            "fillpattern": {
             "fillmode": "overlay",
             "size": 10,
             "solidity": 0.2
            },
            "type": "scatter"
           }
          ],
          "scatter3d": [
           {
            "line": {
             "colorbar": {
              "outlinewidth": 0,
              "ticks": ""
             }
            },
            "marker": {
             "colorbar": {
              "outlinewidth": 0,
              "ticks": ""
             }
            },
            "type": "scatter3d"
           }
          ],
          "scattercarpet": [
           {
            "marker": {
             "colorbar": {
              "outlinewidth": 0,
              "ticks": ""
             }
            },
            "type": "scattercarpet"
           }
          ],
          "scattergeo": [
           {
            "marker": {
             "colorbar": {
              "outlinewidth": 0,
              "ticks": ""
             }
            },
            "type": "scattergeo"
           }
          ],
          "scattergl": [
           {
            "marker": {
             "colorbar": {
              "outlinewidth": 0,
              "ticks": ""
             }
            },
            "type": "scattergl"
           }
          ],
          "scattermapbox": [
           {
            "marker": {
             "colorbar": {
              "outlinewidth": 0,
              "ticks": ""
             }
            },
            "type": "scattermapbox"
           }
          ],
          "scatterpolar": [
           {
            "marker": {
             "colorbar": {
              "outlinewidth": 0,
              "ticks": ""
             }
            },
            "type": "scatterpolar"
           }
          ],
          "scatterpolargl": [
           {
            "marker": {
             "colorbar": {
              "outlinewidth": 0,
              "ticks": ""
             }
            },
            "type": "scatterpolargl"
           }
          ],
          "scatterternary": [
           {
            "marker": {
             "colorbar": {
              "outlinewidth": 0,
              "ticks": ""
             }
            },
            "type": "scatterternary"
           }
          ],
          "surface": [
           {
            "colorbar": {
             "outlinewidth": 0,
             "ticks": ""
            },
            "colorscale": [
             [
              0,
              "#0d0887"
             ],
             [
              0.1111111111111111,
              "#46039f"
             ],
             [
              0.2222222222222222,
              "#7201a8"
             ],
             [
              0.3333333333333333,
              "#9c179e"
             ],
             [
              0.4444444444444444,
              "#bd3786"
             ],
             [
              0.5555555555555556,
              "#d8576b"
             ],
             [
              0.6666666666666666,
              "#ed7953"
             ],
             [
              0.7777777777777778,
              "#fb9f3a"
             ],
             [
              0.8888888888888888,
              "#fdca26"
             ],
             [
              1,
              "#f0f921"
             ]
            ],
            "type": "surface"
           }
          ],
          "table": [
           {
            "cells": {
             "fill": {
              "color": "#EBF0F8"
             },
             "line": {
              "color": "white"
             }
            },
            "header": {
             "fill": {
              "color": "#C8D4E3"
             },
             "line": {
              "color": "white"
             }
            },
            "type": "table"
           }
          ]
         },
         "layout": {
          "annotationdefaults": {
           "arrowcolor": "#2a3f5f",
           "arrowhead": 0,
           "arrowwidth": 1
          },
          "autotypenumbers": "strict",
          "coloraxis": {
           "colorbar": {
            "outlinewidth": 0,
            "ticks": ""
           }
          },
          "colorscale": {
           "diverging": [
            [
             0,
             "#8e0152"
            ],
            [
             0.1,
             "#c51b7d"
            ],
            [
             0.2,
             "#de77ae"
            ],
            [
             0.3,
             "#f1b6da"
            ],
            [
             0.4,
             "#fde0ef"
            ],
            [
             0.5,
             "#f7f7f7"
            ],
            [
             0.6,
             "#e6f5d0"
            ],
            [
             0.7,
             "#b8e186"
            ],
            [
             0.8,
             "#7fbc41"
            ],
            [
             0.9,
             "#4d9221"
            ],
            [
             1,
             "#276419"
            ]
           ],
           "sequential": [
            [
             0,
             "#0d0887"
            ],
            [
             0.1111111111111111,
             "#46039f"
            ],
            [
             0.2222222222222222,
             "#7201a8"
            ],
            [
             0.3333333333333333,
             "#9c179e"
            ],
            [
             0.4444444444444444,
             "#bd3786"
            ],
            [
             0.5555555555555556,
             "#d8576b"
            ],
            [
             0.6666666666666666,
             "#ed7953"
            ],
            [
             0.7777777777777778,
             "#fb9f3a"
            ],
            [
             0.8888888888888888,
             "#fdca26"
            ],
            [
             1,
             "#f0f921"
            ]
           ],
           "sequentialminus": [
            [
             0,
             "#0d0887"
            ],
            [
             0.1111111111111111,
             "#46039f"
            ],
            [
             0.2222222222222222,
             "#7201a8"
            ],
            [
             0.3333333333333333,
             "#9c179e"
            ],
            [
             0.4444444444444444,
             "#bd3786"
            ],
            [
             0.5555555555555556,
             "#d8576b"
            ],
            [
             0.6666666666666666,
             "#ed7953"
            ],
            [
             0.7777777777777778,
             "#fb9f3a"
            ],
            [
             0.8888888888888888,
             "#fdca26"
            ],
            [
             1,
             "#f0f921"
            ]
           ]
          },
          "colorway": [
           "#636efa",
           "#EF553B",
           "#00cc96",
           "#ab63fa",
           "#FFA15A",
           "#19d3f3",
           "#FF6692",
           "#B6E880",
           "#FF97FF",
           "#FECB52"
          ],
          "font": {
           "color": "#2a3f5f"
          },
          "geo": {
           "bgcolor": "white",
           "lakecolor": "white",
           "landcolor": "#E5ECF6",
           "showlakes": true,
           "showland": true,
           "subunitcolor": "white"
          },
          "hoverlabel": {
           "align": "left"
          },
          "hovermode": "closest",
          "mapbox": {
           "style": "light"
          },
          "paper_bgcolor": "white",
          "plot_bgcolor": "#E5ECF6",
          "polar": {
           "angularaxis": {
            "gridcolor": "white",
            "linecolor": "white",
            "ticks": ""
           },
           "bgcolor": "#E5ECF6",
           "radialaxis": {
            "gridcolor": "white",
            "linecolor": "white",
            "ticks": ""
           }
          },
          "scene": {
           "xaxis": {
            "backgroundcolor": "#E5ECF6",
            "gridcolor": "white",
            "gridwidth": 2,
            "linecolor": "white",
            "showbackground": true,
            "ticks": "",
            "zerolinecolor": "white"
           },
           "yaxis": {
            "backgroundcolor": "#E5ECF6",
            "gridcolor": "white",
            "gridwidth": 2,
            "linecolor": "white",
            "showbackground": true,
            "ticks": "",
            "zerolinecolor": "white"
           },
           "zaxis": {
            "backgroundcolor": "#E5ECF6",
            "gridcolor": "white",
            "gridwidth": 2,
            "linecolor": "white",
            "showbackground": true,
            "ticks": "",
            "zerolinecolor": "white"
           }
          },
          "shapedefaults": {
           "line": {
            "color": "#2a3f5f"
           }
          },
          "ternary": {
           "aaxis": {
            "gridcolor": "white",
            "linecolor": "white",
            "ticks": ""
           },
           "baxis": {
            "gridcolor": "white",
            "linecolor": "white",
            "ticks": ""
           },
           "bgcolor": "#E5ECF6",
           "caxis": {
            "gridcolor": "white",
            "linecolor": "white",
            "ticks": ""
           }
          },
          "title": {
           "x": 0.05
          },
          "xaxis": {
           "automargin": true,
           "gridcolor": "white",
           "linecolor": "white",
           "ticks": "",
           "title": {
            "standoff": 15
           },
           "zerolinecolor": "white",
           "zerolinewidth": 2
          },
          "yaxis": {
           "automargin": true,
           "gridcolor": "white",
           "linecolor": "white",
           "ticks": "",
           "title": {
            "standoff": 15
           },
           "zerolinecolor": "white",
           "zerolinewidth": 2
          }
         }
        },
        "title": {
         "text": "TSLA Stock"
        },
        "xaxis": {
         "title": {
          "text": "Date"
         }
        },
        "yaxis": {
         "title": {
          "text": "Close"
         }
        }
       }
      }
     },
     "metadata": {},
     "output_type": "display_data"
    },
    {
     "data": {
      "application/vnd.plotly.v1+json": {
       "config": {
        "plotlyServerURL": "https://plot.ly"
       },
       "data": [
        {
         "mode": "lines",
         "name": "Future Predictions",
         "type": "scatter",
         "x": [
          "2022-10-06T00:00:00",
          "2022-10-07T00:00:00",
          "2022-10-08T00:00:00",
          "2022-10-09T00:00:00",
          "2022-10-10T00:00:00",
          "2022-10-11T00:00:00"
         ],
         "y": [
          238.130005,
          227.1175079345703,
          234.41468811035156,
          238.2642364501953,
          238.5794677734375,
          240.59359741210938
         ]
        },
        {
         "mode": "lines",
         "name": "5-Day Data",
         "type": "scatter",
         "x": [
          "2022-10-06T00:00:00",
          "2022-10-07T00:00:00",
          "2022-10-08T00:00:00",
          "2022-10-09T00:00:00",
          "2022-10-10T00:00:00",
          "2022-10-11T00:00:00"
         ],
         "y": [
          238.13,
          223.070007,
          223.04,
          223.01,
          222.960007,
          216.5
         ]
        },
        {
         "mode": "lines",
         "name": "Ground Truth",
         "type": "scatter",
         "x": [
          "2022-08-31",
          "2022-09-01",
          "2022-09-02",
          "2022-09-06",
          "2022-09-07",
          "2022-09-08",
          "2022-09-09",
          "2022-09-12",
          "2022-09-13",
          "2022-09-14",
          "2022-09-15",
          "2022-09-16",
          "2022-09-19",
          "2022-09-20",
          "2022-09-21",
          "2022-09-22",
          "2022-09-23",
          "2022-09-26",
          "2022-09-27",
          "2022-09-28",
          "2022-09-29",
          "2022-09-30",
          "2022-10-03",
          "2022-10-04",
          "2022-10-05",
          "2022-10-06"
         ],
         "y": [
          275.609985,
          277.160004,
          270.209991,
          274.420013,
          283.700012,
          289.26001,
          299.679993,
          304.420013,
          292.130005,
          302.609985,
          303.75,
          303.350006,
          309.070007,
          308.730011,
          300.799988,
          288.589996,
          275.329987,
          276.01001,
          282.940002,
          287.809998,
          268.209991,
          265.25,
          242.399994,
          249.440002,
          240.809998,
          238.130005
         ]
        }
       ],
       "layout": {
        "font": {
         "size": 20
        },
        "template": {
         "data": {
          "bar": [
           {
            "error_x": {
             "color": "#2a3f5f"
            },
            "error_y": {
             "color": "#2a3f5f"
            },
            "marker": {
             "line": {
              "color": "#E5ECF6",
              "width": 0.5
             },
             "pattern": {
              "fillmode": "overlay",
              "size": 10,
              "solidity": 0.2
             }
            },
            "type": "bar"
           }
          ],
          "barpolar": [
           {
            "marker": {
             "line": {
              "color": "#E5ECF6",
              "width": 0.5
             },
             "pattern": {
              "fillmode": "overlay",
              "size": 10,
              "solidity": 0.2
             }
            },
            "type": "barpolar"
           }
          ],
          "carpet": [
           {
            "aaxis": {
             "endlinecolor": "#2a3f5f",
             "gridcolor": "white",
             "linecolor": "white",
             "minorgridcolor": "white",
             "startlinecolor": "#2a3f5f"
            },
            "baxis": {
             "endlinecolor": "#2a3f5f",
             "gridcolor": "white",
             "linecolor": "white",
             "minorgridcolor": "white",
             "startlinecolor": "#2a3f5f"
            },
            "type": "carpet"
           }
          ],
          "choropleth": [
           {
            "colorbar": {
             "outlinewidth": 0,
             "ticks": ""
            },
            "type": "choropleth"
           }
          ],
          "contour": [
           {
            "colorbar": {
             "outlinewidth": 0,
             "ticks": ""
            },
            "colorscale": [
             [
              0,
              "#0d0887"
             ],
             [
              0.1111111111111111,
              "#46039f"
             ],
             [
              0.2222222222222222,
              "#7201a8"
             ],
             [
              0.3333333333333333,
              "#9c179e"
             ],
             [
              0.4444444444444444,
              "#bd3786"
             ],
             [
              0.5555555555555556,
              "#d8576b"
             ],
             [
              0.6666666666666666,
              "#ed7953"
             ],
             [
              0.7777777777777778,
              "#fb9f3a"
             ],
             [
              0.8888888888888888,
              "#fdca26"
             ],
             [
              1,
              "#f0f921"
             ]
            ],
            "type": "contour"
           }
          ],
          "contourcarpet": [
           {
            "colorbar": {
             "outlinewidth": 0,
             "ticks": ""
            },
            "type": "contourcarpet"
           }
          ],
          "heatmap": [
           {
            "colorbar": {
             "outlinewidth": 0,
             "ticks": ""
            },
            "colorscale": [
             [
              0,
              "#0d0887"
             ],
             [
              0.1111111111111111,
              "#46039f"
             ],
             [
              0.2222222222222222,
              "#7201a8"
             ],
             [
              0.3333333333333333,
              "#9c179e"
             ],
             [
              0.4444444444444444,
              "#bd3786"
             ],
             [
              0.5555555555555556,
              "#d8576b"
             ],
             [
              0.6666666666666666,
              "#ed7953"
             ],
             [
              0.7777777777777778,
              "#fb9f3a"
             ],
             [
              0.8888888888888888,
              "#fdca26"
             ],
             [
              1,
              "#f0f921"
             ]
            ],
            "type": "heatmap"
           }
          ],
          "heatmapgl": [
           {
            "colorbar": {
             "outlinewidth": 0,
             "ticks": ""
            },
            "colorscale": [
             [
              0,
              "#0d0887"
             ],
             [
              0.1111111111111111,
              "#46039f"
             ],
             [
              0.2222222222222222,
              "#7201a8"
             ],
             [
              0.3333333333333333,
              "#9c179e"
             ],
             [
              0.4444444444444444,
              "#bd3786"
             ],
             [
              0.5555555555555556,
              "#d8576b"
             ],
             [
              0.6666666666666666,
              "#ed7953"
             ],
             [
              0.7777777777777778,
              "#fb9f3a"
             ],
             [
              0.8888888888888888,
              "#fdca26"
             ],
             [
              1,
              "#f0f921"
             ]
            ],
            "type": "heatmapgl"
           }
          ],
          "histogram": [
           {
            "marker": {
             "pattern": {
              "fillmode": "overlay",
              "size": 10,
              "solidity": 0.2
             }
            },
            "type": "histogram"
           }
          ],
          "histogram2d": [
           {
            "colorbar": {
             "outlinewidth": 0,
             "ticks": ""
            },
            "colorscale": [
             [
              0,
              "#0d0887"
             ],
             [
              0.1111111111111111,
              "#46039f"
             ],
             [
              0.2222222222222222,
              "#7201a8"
             ],
             [
              0.3333333333333333,
              "#9c179e"
             ],
             [
              0.4444444444444444,
              "#bd3786"
             ],
             [
              0.5555555555555556,
              "#d8576b"
             ],
             [
              0.6666666666666666,
              "#ed7953"
             ],
             [
              0.7777777777777778,
              "#fb9f3a"
             ],
             [
              0.8888888888888888,
              "#fdca26"
             ],
             [
              1,
              "#f0f921"
             ]
            ],
            "type": "histogram2d"
           }
          ],
          "histogram2dcontour": [
           {
            "colorbar": {
             "outlinewidth": 0,
             "ticks": ""
            },
            "colorscale": [
             [
              0,
              "#0d0887"
             ],
             [
              0.1111111111111111,
              "#46039f"
             ],
             [
              0.2222222222222222,
              "#7201a8"
             ],
             [
              0.3333333333333333,
              "#9c179e"
             ],
             [
              0.4444444444444444,
              "#bd3786"
             ],
             [
              0.5555555555555556,
              "#d8576b"
             ],
             [
              0.6666666666666666,
              "#ed7953"
             ],
             [
              0.7777777777777778,
              "#fb9f3a"
             ],
             [
              0.8888888888888888,
              "#fdca26"
             ],
             [
              1,
              "#f0f921"
             ]
            ],
            "type": "histogram2dcontour"
           }
          ],
          "mesh3d": [
           {
            "colorbar": {
             "outlinewidth": 0,
             "ticks": ""
            },
            "type": "mesh3d"
           }
          ],
          "parcoords": [
           {
            "line": {
             "colorbar": {
              "outlinewidth": 0,
              "ticks": ""
             }
            },
            "type": "parcoords"
           }
          ],
          "pie": [
           {
            "automargin": true,
            "type": "pie"
           }
          ],
          "scatter": [
           {
            "fillpattern": {
             "fillmode": "overlay",
             "size": 10,
             "solidity": 0.2
            },
            "type": "scatter"
           }
          ],
          "scatter3d": [
           {
            "line": {
             "colorbar": {
              "outlinewidth": 0,
              "ticks": ""
             }
            },
            "marker": {
             "colorbar": {
              "outlinewidth": 0,
              "ticks": ""
             }
            },
            "type": "scatter3d"
           }
          ],
          "scattercarpet": [
           {
            "marker": {
             "colorbar": {
              "outlinewidth": 0,
              "ticks": ""
             }
            },
            "type": "scattercarpet"
           }
          ],
          "scattergeo": [
           {
            "marker": {
             "colorbar": {
              "outlinewidth": 0,
              "ticks": ""
             }
            },
            "type": "scattergeo"
           }
          ],
          "scattergl": [
           {
            "marker": {
             "colorbar": {
              "outlinewidth": 0,
              "ticks": ""
             }
            },
            "type": "scattergl"
           }
          ],
          "scattermapbox": [
           {
            "marker": {
             "colorbar": {
              "outlinewidth": 0,
              "ticks": ""
             }
            },
            "type": "scattermapbox"
           }
          ],
          "scatterpolar": [
           {
            "marker": {
             "colorbar": {
              "outlinewidth": 0,
              "ticks": ""
             }
            },
            "type": "scatterpolar"
           }
          ],
          "scatterpolargl": [
           {
            "marker": {
             "colorbar": {
              "outlinewidth": 0,
              "ticks": ""
             }
            },
            "type": "scatterpolargl"
           }
          ],
          "scatterternary": [
           {
            "marker": {
             "colorbar": {
              "outlinewidth": 0,
              "ticks": ""
             }
            },
            "type": "scatterternary"
           }
          ],
          "surface": [
           {
            "colorbar": {
             "outlinewidth": 0,
             "ticks": ""
            },
            "colorscale": [
             [
              0,
              "#0d0887"
             ],
             [
              0.1111111111111111,
              "#46039f"
             ],
             [
              0.2222222222222222,
              "#7201a8"
             ],
             [
              0.3333333333333333,
              "#9c179e"
             ],
             [
              0.4444444444444444,
              "#bd3786"
             ],
             [
              0.5555555555555556,
              "#d8576b"
             ],
             [
              0.6666666666666666,
              "#ed7953"
             ],
             [
              0.7777777777777778,
              "#fb9f3a"
             ],
             [
              0.8888888888888888,
              "#fdca26"
             ],
             [
              1,
              "#f0f921"
             ]
            ],
            "type": "surface"
           }
          ],
          "table": [
           {
            "cells": {
             "fill": {
              "color": "#EBF0F8"
             },
             "line": {
              "color": "white"
             }
            },
            "header": {
             "fill": {
              "color": "#C8D4E3"
             },
             "line": {
              "color": "white"
             }
            },
            "type": "table"
           }
          ]
         },
         "layout": {
          "annotationdefaults": {
           "arrowcolor": "#2a3f5f",
           "arrowhead": 0,
           "arrowwidth": 1
          },
          "autotypenumbers": "strict",
          "coloraxis": {
           "colorbar": {
            "outlinewidth": 0,
            "ticks": ""
           }
          },
          "colorscale": {
           "diverging": [
            [
             0,
             "#8e0152"
            ],
            [
             0.1,
             "#c51b7d"
            ],
            [
             0.2,
             "#de77ae"
            ],
            [
             0.3,
             "#f1b6da"
            ],
            [
             0.4,
             "#fde0ef"
            ],
            [
             0.5,
             "#f7f7f7"
            ],
            [
             0.6,
             "#e6f5d0"
            ],
            [
             0.7,
             "#b8e186"
            ],
            [
             0.8,
             "#7fbc41"
            ],
            [
             0.9,
             "#4d9221"
            ],
            [
             1,
             "#276419"
            ]
           ],
           "sequential": [
            [
             0,
             "#0d0887"
            ],
            [
             0.1111111111111111,
             "#46039f"
            ],
            [
             0.2222222222222222,
             "#7201a8"
            ],
            [
             0.3333333333333333,
             "#9c179e"
            ],
            [
             0.4444444444444444,
             "#bd3786"
            ],
            [
             0.5555555555555556,
             "#d8576b"
            ],
            [
             0.6666666666666666,
             "#ed7953"
            ],
            [
             0.7777777777777778,
             "#fb9f3a"
            ],
            [
             0.8888888888888888,
             "#fdca26"
            ],
            [
             1,
             "#f0f921"
            ]
           ],
           "sequentialminus": [
            [
             0,
             "#0d0887"
            ],
            [
             0.1111111111111111,
             "#46039f"
            ],
            [
             0.2222222222222222,
             "#7201a8"
            ],
            [
             0.3333333333333333,
             "#9c179e"
            ],
            [
             0.4444444444444444,
             "#bd3786"
            ],
            [
             0.5555555555555556,
             "#d8576b"
            ],
            [
             0.6666666666666666,
             "#ed7953"
            ],
            [
             0.7777777777777778,
             "#fb9f3a"
            ],
            [
             0.8888888888888888,
             "#fdca26"
            ],
            [
             1,
             "#f0f921"
            ]
           ]
          },
          "colorway": [
           "#636efa",
           "#EF553B",
           "#00cc96",
           "#ab63fa",
           "#FFA15A",
           "#19d3f3",
           "#FF6692",
           "#B6E880",
           "#FF97FF",
           "#FECB52"
          ],
          "font": {
           "color": "#2a3f5f"
          },
          "geo": {
           "bgcolor": "white",
           "lakecolor": "white",
           "landcolor": "#E5ECF6",
           "showlakes": true,
           "showland": true,
           "subunitcolor": "white"
          },
          "hoverlabel": {
           "align": "left"
          },
          "hovermode": "closest",
          "mapbox": {
           "style": "light"
          },
          "paper_bgcolor": "white",
          "plot_bgcolor": "#E5ECF6",
          "polar": {
           "angularaxis": {
            "gridcolor": "white",
            "linecolor": "white",
            "ticks": ""
           },
           "bgcolor": "#E5ECF6",
           "radialaxis": {
            "gridcolor": "white",
            "linecolor": "white",
            "ticks": ""
           }
          },
          "scene": {
           "xaxis": {
            "backgroundcolor": "#E5ECF6",
            "gridcolor": "white",
            "gridwidth": 2,
            "linecolor": "white",
            "showbackground": true,
            "ticks": "",
            "zerolinecolor": "white"
           },
           "yaxis": {
            "backgroundcolor": "#E5ECF6",
            "gridcolor": "white",
            "gridwidth": 2,
            "linecolor": "white",
            "showbackground": true,
            "ticks": "",
            "zerolinecolor": "white"
           },
           "zaxis": {
            "backgroundcolor": "#E5ECF6",
            "gridcolor": "white",
            "gridwidth": 2,
            "linecolor": "white",
            "showbackground": true,
            "ticks": "",
            "zerolinecolor": "white"
           }
          },
          "shapedefaults": {
           "line": {
            "color": "#2a3f5f"
           }
          },
          "ternary": {
           "aaxis": {
            "gridcolor": "white",
            "linecolor": "white",
            "ticks": ""
           },
           "baxis": {
            "gridcolor": "white",
            "linecolor": "white",
            "ticks": ""
           },
           "bgcolor": "#E5ECF6",
           "caxis": {
            "gridcolor": "white",
            "linecolor": "white",
            "ticks": ""
           }
          },
          "title": {
           "x": 0.05
          },
          "xaxis": {
           "automargin": true,
           "gridcolor": "white",
           "linecolor": "white",
           "ticks": "",
           "title": {
            "standoff": 15
           },
           "zerolinecolor": "white",
           "zerolinewidth": 2
          },
          "yaxis": {
           "automargin": true,
           "gridcolor": "white",
           "linecolor": "white",
           "ticks": "",
           "title": {
            "standoff": 15
           },
           "zerolinecolor": "white",
           "zerolinewidth": 2
          }
         }
        },
        "title": {
         "text": "TSLA Stock"
        },
        "xaxis": {
         "title": {
          "text": "Date"
         }
        },
        "yaxis": {
         "title": {
          "text": "Close"
         }
        }
       }
      }
     },
     "metadata": {},
     "output_type": "display_data"
    }
   ],
   "source": [
    "pred(df_TSLA,df_TSLA_future,df_TSLA_comp)"
   ]
  },
  {
   "cell_type": "code",
   "execution_count": 23,
   "metadata": {
    "scrolled": false
   },
   "outputs": [
    {
     "name": "stdout",
     "output_type": "stream",
     "text": [
      "Epoch 1/100\n",
      "1/1 [==============================] - 1s 1s/step - loss: 20486.9199\n",
      "Epoch 2/100\n",
      "1/1 [==============================] - 0s 11ms/step - loss: 20110.9199\n",
      "Epoch 3/100\n",
      "1/1 [==============================] - 0s 11ms/step - loss: 19733.3066\n",
      "Epoch 4/100\n",
      "1/1 [==============================] - 0s 13ms/step - loss: 19354.8867\n",
      "Epoch 5/100\n",
      "1/1 [==============================] - 0s 12ms/step - loss: 18973.2227\n",
      "Epoch 6/100\n",
      "1/1 [==============================] - 0s 12ms/step - loss: 18583.8203\n",
      "Epoch 7/100\n",
      "1/1 [==============================] - 0s 11ms/step - loss: 18179.5859\n",
      "Epoch 8/100\n",
      "1/1 [==============================] - 0s 11ms/step - loss: 17751.1133\n",
      "Epoch 9/100\n",
      "1/1 [==============================] - 0s 15ms/step - loss: 17289.8809\n",
      "Epoch 10/100\n",
      "1/1 [==============================] - 0s 16ms/step - loss: 16794.6875\n",
      "Epoch 11/100\n",
      "1/1 [==============================] - 0s 18ms/step - loss: 16274.3447\n",
      "Epoch 12/100\n",
      "1/1 [==============================] - 0s 12ms/step - loss: 15740.7471\n",
      "Epoch 13/100\n",
      "1/1 [==============================] - 0s 11ms/step - loss: 15199.9014\n",
      "Epoch 14/100\n",
      "1/1 [==============================] - 0s 11ms/step - loss: 14637.0811\n",
      "Epoch 15/100\n",
      "1/1 [==============================] - 0s 12ms/step - loss: 14010.7344\n",
      "Epoch 16/100\n",
      "1/1 [==============================] - 0s 13ms/step - loss: 13250.0869\n",
      "Epoch 17/100\n",
      "1/1 [==============================] - 0s 11ms/step - loss: 12287.8467\n",
      "Epoch 18/100\n",
      "1/1 [==============================] - 0s 11ms/step - loss: 11148.7334\n",
      "Epoch 19/100\n",
      "1/1 [==============================] - 0s 12ms/step - loss: 10038.6846\n",
      "Epoch 20/100\n",
      "1/1 [==============================] - 0s 12ms/step - loss: 9186.1162\n",
      "Epoch 21/100\n",
      "1/1 [==============================] - 0s 10ms/step - loss: 8579.8037\n",
      "Epoch 22/100\n",
      "1/1 [==============================] - 0s 11ms/step - loss: 8068.3374\n",
      "Epoch 23/100\n",
      "1/1 [==============================] - 0s 11ms/step - loss: 7533.3770\n",
      "Epoch 24/100\n",
      "1/1 [==============================] - 0s 14ms/step - loss: 6907.7793\n",
      "Epoch 25/100\n",
      "1/1 [==============================] - 0s 16ms/step - loss: 6204.3120\n",
      "Epoch 26/100\n",
      "1/1 [==============================] - 0s 16ms/step - loss: 5409.7437\n",
      "Epoch 27/100\n",
      "1/1 [==============================] - 0s 24ms/step - loss: 4372.9380\n",
      "Epoch 28/100\n",
      "1/1 [==============================] - 0s 15ms/step - loss: 2979.1833\n",
      "Epoch 29/100\n",
      "1/1 [==============================] - 0s 11ms/step - loss: 1405.7330\n",
      "Epoch 30/100\n",
      "1/1 [==============================] - 0s 13ms/step - loss: 300.2021\n",
      "Epoch 31/100\n",
      "1/1 [==============================] - 0s 13ms/step - loss: 22.7040\n",
      "Epoch 32/100\n",
      "1/1 [==============================] - 0s 11ms/step - loss: 80.9628\n",
      "Epoch 33/100\n",
      "1/1 [==============================] - 0s 12ms/step - loss: 301.5060\n",
      "Epoch 34/100\n",
      "1/1 [==============================] - 0s 10ms/step - loss: 504.9216\n",
      "Epoch 35/100\n",
      "1/1 [==============================] - 0s 12ms/step - loss: 638.5167\n",
      "Epoch 36/100\n",
      "1/1 [==============================] - 0s 12ms/step - loss: 676.4158\n",
      "Epoch 37/100\n",
      "1/1 [==============================] - 0s 11ms/step - loss: 590.0212\n",
      "Epoch 38/100\n",
      "1/1 [==============================] - 0s 12ms/step - loss: 468.6396\n",
      "Epoch 39/100\n",
      "1/1 [==============================] - 0s 15ms/step - loss: 348.4302\n",
      "Epoch 40/100\n",
      "1/1 [==============================] - 0s 21ms/step - loss: 230.6521\n",
      "Epoch 41/100\n",
      "1/1 [==============================] - 0s 13ms/step - loss: 128.7593\n",
      "Epoch 42/100\n",
      "1/1 [==============================] - 0s 13ms/step - loss: 73.9334\n",
      "Epoch 43/100\n",
      "1/1 [==============================] - 0s 10ms/step - loss: 61.0730\n",
      "Epoch 44/100\n",
      "1/1 [==============================] - 0s 12ms/step - loss: 48.1797\n",
      "Epoch 45/100\n",
      "1/1 [==============================] - 0s 10ms/step - loss: 35.8406\n",
      "Epoch 46/100\n",
      "1/1 [==============================] - 0s 11ms/step - loss: 26.1825\n",
      "Epoch 47/100\n",
      "1/1 [==============================] - 0s 12ms/step - loss: 19.7578\n",
      "Epoch 48/100\n",
      "1/1 [==============================] - 0s 10ms/step - loss: 17.0394\n",
      "Epoch 49/100\n",
      "1/1 [==============================] - 0s 11ms/step - loss: 17.9786\n",
      "Epoch 50/100\n",
      "1/1 [==============================] - 0s 12ms/step - loss: 21.7034\n",
      "Epoch 51/100\n",
      "1/1 [==============================] - 0s 11ms/step - loss: 26.7596\n",
      "Epoch 52/100\n",
      "1/1 [==============================] - 0s 22ms/step - loss: 31.6406\n",
      "Epoch 53/100\n",
      "1/1 [==============================] - 0s 18ms/step - loss: 35.2809\n",
      "Epoch 54/100\n",
      "1/1 [==============================] - 0s 19ms/step - loss: 37.2349\n",
      "Epoch 55/100\n",
      "1/1 [==============================] - 0s 16ms/step - loss: 37.5854\n",
      "Epoch 56/100\n",
      "1/1 [==============================] - 0s 12ms/step - loss: 36.7244\n",
      "Epoch 57/100\n",
      "1/1 [==============================] - 0s 12ms/step - loss: 35.1233\n",
      "Epoch 58/100\n",
      "1/1 [==============================] - 0s 11ms/step - loss: 33.1672\n",
      "Epoch 59/100\n",
      "1/1 [==============================] - 0s 12ms/step - loss: 31.0961\n",
      "Epoch 60/100\n",
      "1/1 [==============================] - 0s 11ms/step - loss: 29.0331\n",
      "Epoch 61/100\n",
      "1/1 [==============================] - 0s 10ms/step - loss: 27.0455\n",
      "Epoch 62/100\n",
      "1/1 [==============================] - 0s 11ms/step - loss: 25.1896\n",
      "Epoch 63/100\n",
      "1/1 [==============================] - 0s 11ms/step - loss: 23.5273\n",
      "Epoch 64/100\n",
      "1/1 [==============================] - 0s 10ms/step - loss: 22.1211\n",
      "Epoch 65/100\n",
      "1/1 [==============================] - 0s 12ms/step - loss: 21.0212\n",
      "Epoch 66/100\n",
      "1/1 [==============================] - 0s 12ms/step - loss: 20.2542\n",
      "Epoch 67/100\n",
      "1/1 [==============================] - 0s 10ms/step - loss: 19.8163\n",
      "Epoch 68/100\n",
      "1/1 [==============================] - 0s 10ms/step - loss: 19.6745\n",
      "Epoch 69/100\n",
      "1/1 [==============================] - 0s 20ms/step - loss: 19.7715\n",
      "Epoch 70/100\n",
      "1/1 [==============================] - 0s 17ms/step - loss: 20.0348\n",
      "Epoch 71/100\n",
      "1/1 [==============================] - 0s 15ms/step - loss: 20.3863\n",
      "Epoch 72/100\n",
      "1/1 [==============================] - 0s 12ms/step - loss: 20.7514\n",
      "Epoch 73/100\n",
      "1/1 [==============================] - 0s 13ms/step - loss: 21.0664\n",
      "Epoch 74/100\n",
      "1/1 [==============================] - 0s 13ms/step - loss: 21.2830\n",
      "Epoch 75/100\n",
      "1/1 [==============================] - 0s 12ms/step - loss: 21.3711\n",
      "Epoch 76/100\n",
      "1/1 [==============================] - 0s 20ms/step - loss: 21.3185\n",
      "Epoch 77/100\n",
      "1/1 [==============================] - 0s 16ms/step - loss: 21.1290\n",
      "Epoch 78/100\n",
      "1/1 [==============================] - 0s 13ms/step - loss: 20.8195\n",
      "Epoch 79/100\n",
      "1/1 [==============================] - 0s 11ms/step - loss: 20.4156\n",
      "Epoch 80/100\n",
      "1/1 [==============================] - 0s 12ms/step - loss: 19.9481\n",
      "Epoch 81/100\n",
      "1/1 [==============================] - 0s 12ms/step - loss: 19.4494\n",
      "Epoch 82/100\n",
      "1/1 [==============================] - 0s 14ms/step - loss: 18.9509\n",
      "Epoch 83/100\n",
      "1/1 [==============================] - 0s 17ms/step - loss: 18.4817\n",
      "Epoch 84/100\n",
      "1/1 [==============================] - 0s 14ms/step - loss: 18.0677\n",
      "Epoch 85/100\n",
      "1/1 [==============================] - 0s 12ms/step - loss: 17.7306\n",
      "Epoch 86/100\n",
      "1/1 [==============================] - 0s 11ms/step - loss: 17.4871\n",
      "Epoch 87/100\n",
      "1/1 [==============================] - 0s 10ms/step - loss: 17.3453\n",
      "Epoch 88/100\n",
      "1/1 [==============================] - 0s 11ms/step - loss: 17.3016\n",
      "Epoch 89/100\n",
      "1/1 [==============================] - 0s 10ms/step - loss: 17.3372\n",
      "Epoch 90/100\n",
      "1/1 [==============================] - 0s 11ms/step - loss: 17.4190\n",
      "Epoch 91/100\n",
      "1/1 [==============================] - 0s 12ms/step - loss: 17.5042\n",
      "Epoch 92/100\n",
      "1/1 [==============================] - 0s 12ms/step - loss: 17.5507\n",
      "Epoch 93/100\n",
      "1/1 [==============================] - 0s 10ms/step - loss: 17.5274\n",
      "Epoch 94/100\n",
      "1/1 [==============================] - 0s 10ms/step - loss: 17.4216\n",
      "Epoch 95/100\n",
      "1/1 [==============================] - 0s 11ms/step - loss: 17.2415\n",
      "Epoch 96/100\n",
      "1/1 [==============================] - 0s 11ms/step - loss: 17.0115\n",
      "Epoch 97/100\n",
      "1/1 [==============================] - 0s 13ms/step - loss: 16.7651\n",
      "Epoch 98/100\n",
      "1/1 [==============================] - 0s 15ms/step - loss: 16.5357\n",
      "Epoch 99/100\n",
      "1/1 [==============================] - 0s 16ms/step - loss: 16.3487\n",
      "Epoch 100/100\n",
      "1/1 [==============================] - 0s 22ms/step - loss: 16.2173\n",
      "1/1 [==============================] - 0s 134ms/step\n",
      "1/1 [==============================] - 0s 135ms/step\n",
      "1/1 [==============================] - 0s 17ms/step\n",
      "1/1 [==============================] - 0s 14ms/step\n",
      "1/1 [==============================] - 0s 13ms/step\n",
      "1/1 [==============================] - 0s 14ms/step\n"
     ]
    },
    {
     "data": {
      "application/vnd.plotly.v1+json": {
       "config": {
        "plotlyServerURL": "https://plot.ly"
       },
       "data": [
        {
         "mode": "lines",
         "name": "Training Data",
         "type": "scatter",
         "x": [
          "2022-04-06",
          "2022-04-07",
          "2022-04-08",
          "2022-04-11",
          "2022-04-12",
          "2022-04-13",
          "2022-04-14",
          "2022-04-18",
          "2022-04-19",
          "2022-04-20",
          "2022-04-21",
          "2022-04-22",
          "2022-04-25",
          "2022-04-26",
          "2022-04-27",
          "2022-04-28",
          "2022-04-29",
          "2022-05-02",
          "2022-05-03",
          "2022-05-04",
          "2022-05-05",
          "2022-05-06",
          "2022-05-09",
          "2022-05-10",
          "2022-05-11",
          "2022-05-12",
          "2022-05-13",
          "2022-05-16",
          "2022-05-17",
          "2022-05-18",
          "2022-05-19",
          "2022-05-20",
          "2022-05-23",
          "2022-05-24",
          "2022-05-25",
          "2022-05-26",
          "2022-05-27",
          "2022-05-31",
          "2022-06-01",
          "2022-06-02",
          "2022-06-03",
          "2022-06-06",
          "2022-06-07",
          "2022-06-08",
          "2022-06-09",
          "2022-06-10",
          "2022-06-13",
          "2022-06-14",
          "2022-06-15",
          "2022-06-16",
          "2022-06-17",
          "2022-06-21",
          "2022-06-22",
          "2022-06-23",
          "2022-06-24",
          "2022-06-27",
          "2022-06-28",
          "2022-06-29",
          "2022-06-30",
          "2022-07-01",
          "2022-07-05",
          "2022-07-06",
          "2022-07-07",
          "2022-07-08",
          "2022-07-11",
          "2022-07-12",
          "2022-07-13",
          "2022-07-14",
          "2022-07-15",
          "2022-07-18",
          "2022-07-19",
          "2022-07-20",
          "2022-07-21",
          "2022-07-22",
          "2022-07-25",
          "2022-07-26",
          "2022-07-27",
          "2022-07-28",
          "2022-07-29",
          "2022-08-01",
          "2022-08-02",
          "2022-08-03",
          "2022-08-04",
          "2022-08-05",
          "2022-08-08",
          "2022-08-09",
          "2022-08-10",
          "2022-08-11",
          "2022-08-12",
          "2022-08-15",
          "2022-08-16",
          "2022-08-17",
          "2022-08-18",
          "2022-08-19",
          "2022-08-22",
          "2022-08-23",
          "2022-08-24",
          "2022-08-25",
          "2022-08-26",
          "2022-08-29",
          "2022-08-30"
         ],
         "y": [
          171.830002,
          172.139999,
          170.089996,
          165.75,
          167.660004,
          170.399994,
          165.289993,
          165.070007,
          167.399994,
          167.229996,
          166.419998,
          161.789993,
          162.880005,
          156.800003,
          156.570007,
          163.639999,
          157.649994,
          157.960007,
          159.479996,
          166.020004,
          156.770004,
          157.279999,
          152.059998,
          154.509995,
          146.5,
          142.559998,
          147.110001,
          145.539993,
          149.240005,
          140.820007,
          137.350006,
          137.589996,
          143.110001,
          140.360001,
          140.520004,
          143.779999,
          149.639999,
          148.839996,
          148.710007,
          151.210007,
          145.380005,
          146.139999,
          148.710007,
          147.960007,
          142.639999,
          137.130005,
          131.880005,
          132.759995,
          135.429993,
          130.059998,
          131.559998,
          135.869995,
          135.350006,
          138.270004,
          141.660004,
          141.660004,
          137.440002,
          139.229996,
          136.720001,
          138.929993,
          141.559998,
          142.919998,
          146.350006,
          147.039993,
          144.869995,
          145.860001,
          145.490005,
          148.470001,
          150.169998,
          147.070007,
          151,
          153.039993,
          155.350006,
          154.089996,
          152.949997,
          151.600006,
          156.789993,
          157.350006,
          162.509995,
          161.509995,
          160.009995,
          166.130005,
          165.809998,
          165.350006,
          164.869995,
          164.919998,
          169.240005,
          168.490005,
          172.100006,
          173.190002,
          173.029999,
          174.550003,
          174.149994,
          171.520004,
          167.570007,
          167.229996,
          167.529999,
          170.029999,
          163.619995,
          161.380005,
          158.910004
         ]
        },
        {
         "mode": "lines",
         "name": "Testing Training Data",
         "type": "scatter",
         "x": [
          "2022-08-31",
          "2022-09-01",
          "2022-09-02",
          "2022-09-06",
          "2022-09-07",
          "2022-09-08",
          "2022-09-09",
          "2022-09-12",
          "2022-09-13",
          "2022-09-14",
          "2022-09-15",
          "2022-09-16",
          "2022-09-19",
          "2022-09-20",
          "2022-09-21",
          "2022-09-22",
          "2022-09-23",
          "2022-09-26",
          "2022-09-27",
          "2022-09-28",
          "2022-09-29",
          "2022-09-30",
          "2022-10-03",
          "2022-10-04",
          "2022-10-05",
          "2022-10-06"
         ],
         "y": [
          155.60890197753906,
          155.03684997558594,
          155.866455078125,
          158.44651794433594,
          156.70240783691406,
          156.3939208984375,
          154.190185546875,
          153.34652709960938,
          152.98257446289062,
          154.41041564941406,
          154.02383422851562,
          153.4700927734375,
          152.1651611328125,
          151.71585083007812,
          151.3563690185547,
          150.61856079101562,
          147.12684631347656,
          143.53851318359375,
          142.92861938476562,
          143.65689086914062,
          144.0703887939453
         ]
        },
        {
         "mode": "lines",
         "name": "Ground Truth",
         "type": "scatter",
         "x": [
          "2022-08-31",
          "2022-09-01",
          "2022-09-02",
          "2022-09-06",
          "2022-09-07",
          "2022-09-08",
          "2022-09-09",
          "2022-09-12",
          "2022-09-13",
          "2022-09-14",
          "2022-09-15",
          "2022-09-16",
          "2022-09-19",
          "2022-09-20",
          "2022-09-21",
          "2022-09-22",
          "2022-09-23",
          "2022-09-26",
          "2022-09-27",
          "2022-09-28",
          "2022-09-29",
          "2022-09-30",
          "2022-10-03",
          "2022-10-04",
          "2022-10-05",
          "2022-10-06"
         ],
         "y": [
          157.220001,
          157.960007,
          155.809998,
          154.529999,
          155.960007,
          154.460007,
          157.369995,
          163.429993,
          153.839996,
          155.309998,
          152.369995,
          150.699997,
          154.479996,
          156.899994,
          153.720001,
          152.740005,
          150.429993,
          150.770004,
          151.759995,
          149.839996,
          142.479996,
          138.199997,
          142.449997,
          146.100006,
          146.399994,
          145.429993
         ]
        }
       ],
       "layout": {
        "font": {
         "size": 20
        },
        "template": {
         "data": {
          "bar": [
           {
            "error_x": {
             "color": "#2a3f5f"
            },
            "error_y": {
             "color": "#2a3f5f"
            },
            "marker": {
             "line": {
              "color": "#E5ECF6",
              "width": 0.5
             },
             "pattern": {
              "fillmode": "overlay",
              "size": 10,
              "solidity": 0.2
             }
            },
            "type": "bar"
           }
          ],
          "barpolar": [
           {
            "marker": {
             "line": {
              "color": "#E5ECF6",
              "width": 0.5
             },
             "pattern": {
              "fillmode": "overlay",
              "size": 10,
              "solidity": 0.2
             }
            },
            "type": "barpolar"
           }
          ],
          "carpet": [
           {
            "aaxis": {
             "endlinecolor": "#2a3f5f",
             "gridcolor": "white",
             "linecolor": "white",
             "minorgridcolor": "white",
             "startlinecolor": "#2a3f5f"
            },
            "baxis": {
             "endlinecolor": "#2a3f5f",
             "gridcolor": "white",
             "linecolor": "white",
             "minorgridcolor": "white",
             "startlinecolor": "#2a3f5f"
            },
            "type": "carpet"
           }
          ],
          "choropleth": [
           {
            "colorbar": {
             "outlinewidth": 0,
             "ticks": ""
            },
            "type": "choropleth"
           }
          ],
          "contour": [
           {
            "colorbar": {
             "outlinewidth": 0,
             "ticks": ""
            },
            "colorscale": [
             [
              0,
              "#0d0887"
             ],
             [
              0.1111111111111111,
              "#46039f"
             ],
             [
              0.2222222222222222,
              "#7201a8"
             ],
             [
              0.3333333333333333,
              "#9c179e"
             ],
             [
              0.4444444444444444,
              "#bd3786"
             ],
             [
              0.5555555555555556,
              "#d8576b"
             ],
             [
              0.6666666666666666,
              "#ed7953"
             ],
             [
              0.7777777777777778,
              "#fb9f3a"
             ],
             [
              0.8888888888888888,
              "#fdca26"
             ],
             [
              1,
              "#f0f921"
             ]
            ],
            "type": "contour"
           }
          ],
          "contourcarpet": [
           {
            "colorbar": {
             "outlinewidth": 0,
             "ticks": ""
            },
            "type": "contourcarpet"
           }
          ],
          "heatmap": [
           {
            "colorbar": {
             "outlinewidth": 0,
             "ticks": ""
            },
            "colorscale": [
             [
              0,
              "#0d0887"
             ],
             [
              0.1111111111111111,
              "#46039f"
             ],
             [
              0.2222222222222222,
              "#7201a8"
             ],
             [
              0.3333333333333333,
              "#9c179e"
             ],
             [
              0.4444444444444444,
              "#bd3786"
             ],
             [
              0.5555555555555556,
              "#d8576b"
             ],
             [
              0.6666666666666666,
              "#ed7953"
             ],
             [
              0.7777777777777778,
              "#fb9f3a"
             ],
             [
              0.8888888888888888,
              "#fdca26"
             ],
             [
              1,
              "#f0f921"
             ]
            ],
            "type": "heatmap"
           }
          ],
          "heatmapgl": [
           {
            "colorbar": {
             "outlinewidth": 0,
             "ticks": ""
            },
            "colorscale": [
             [
              0,
              "#0d0887"
             ],
             [
              0.1111111111111111,
              "#46039f"
             ],
             [
              0.2222222222222222,
              "#7201a8"
             ],
             [
              0.3333333333333333,
              "#9c179e"
             ],
             [
              0.4444444444444444,
              "#bd3786"
             ],
             [
              0.5555555555555556,
              "#d8576b"
             ],
             [
              0.6666666666666666,
              "#ed7953"
             ],
             [
              0.7777777777777778,
              "#fb9f3a"
             ],
             [
              0.8888888888888888,
              "#fdca26"
             ],
             [
              1,
              "#f0f921"
             ]
            ],
            "type": "heatmapgl"
           }
          ],
          "histogram": [
           {
            "marker": {
             "pattern": {
              "fillmode": "overlay",
              "size": 10,
              "solidity": 0.2
             }
            },
            "type": "histogram"
           }
          ],
          "histogram2d": [
           {
            "colorbar": {
             "outlinewidth": 0,
             "ticks": ""
            },
            "colorscale": [
             [
              0,
              "#0d0887"
             ],
             [
              0.1111111111111111,
              "#46039f"
             ],
             [
              0.2222222222222222,
              "#7201a8"
             ],
             [
              0.3333333333333333,
              "#9c179e"
             ],
             [
              0.4444444444444444,
              "#bd3786"
             ],
             [
              0.5555555555555556,
              "#d8576b"
             ],
             [
              0.6666666666666666,
              "#ed7953"
             ],
             [
              0.7777777777777778,
              "#fb9f3a"
             ],
             [
              0.8888888888888888,
              "#fdca26"
             ],
             [
              1,
              "#f0f921"
             ]
            ],
            "type": "histogram2d"
           }
          ],
          "histogram2dcontour": [
           {
            "colorbar": {
             "outlinewidth": 0,
             "ticks": ""
            },
            "colorscale": [
             [
              0,
              "#0d0887"
             ],
             [
              0.1111111111111111,
              "#46039f"
             ],
             [
              0.2222222222222222,
              "#7201a8"
             ],
             [
              0.3333333333333333,
              "#9c179e"
             ],
             [
              0.4444444444444444,
              "#bd3786"
             ],
             [
              0.5555555555555556,
              "#d8576b"
             ],
             [
              0.6666666666666666,
              "#ed7953"
             ],
             [
              0.7777777777777778,
              "#fb9f3a"
             ],
             [
              0.8888888888888888,
              "#fdca26"
             ],
             [
              1,
              "#f0f921"
             ]
            ],
            "type": "histogram2dcontour"
           }
          ],
          "mesh3d": [
           {
            "colorbar": {
             "outlinewidth": 0,
             "ticks": ""
            },
            "type": "mesh3d"
           }
          ],
          "parcoords": [
           {
            "line": {
             "colorbar": {
              "outlinewidth": 0,
              "ticks": ""
             }
            },
            "type": "parcoords"
           }
          ],
          "pie": [
           {
            "automargin": true,
            "type": "pie"
           }
          ],
          "scatter": [
           {
            "fillpattern": {
             "fillmode": "overlay",
             "size": 10,
             "solidity": 0.2
            },
            "type": "scatter"
           }
          ],
          "scatter3d": [
           {
            "line": {
             "colorbar": {
              "outlinewidth": 0,
              "ticks": ""
             }
            },
            "marker": {
             "colorbar": {
              "outlinewidth": 0,
              "ticks": ""
             }
            },
            "type": "scatter3d"
           }
          ],
          "scattercarpet": [
           {
            "marker": {
             "colorbar": {
              "outlinewidth": 0,
              "ticks": ""
             }
            },
            "type": "scattercarpet"
           }
          ],
          "scattergeo": [
           {
            "marker": {
             "colorbar": {
              "outlinewidth": 0,
              "ticks": ""
             }
            },
            "type": "scattergeo"
           }
          ],
          "scattergl": [
           {
            "marker": {
             "colorbar": {
              "outlinewidth": 0,
              "ticks": ""
             }
            },
            "type": "scattergl"
           }
          ],
          "scattermapbox": [
           {
            "marker": {
             "colorbar": {
              "outlinewidth": 0,
              "ticks": ""
             }
            },
            "type": "scattermapbox"
           }
          ],
          "scatterpolar": [
           {
            "marker": {
             "colorbar": {
              "outlinewidth": 0,
              "ticks": ""
             }
            },
            "type": "scatterpolar"
           }
          ],
          "scatterpolargl": [
           {
            "marker": {
             "colorbar": {
              "outlinewidth": 0,
              "ticks": ""
             }
            },
            "type": "scatterpolargl"
           }
          ],
          "scatterternary": [
           {
            "marker": {
             "colorbar": {
              "outlinewidth": 0,
              "ticks": ""
             }
            },
            "type": "scatterternary"
           }
          ],
          "surface": [
           {
            "colorbar": {
             "outlinewidth": 0,
             "ticks": ""
            },
            "colorscale": [
             [
              0,
              "#0d0887"
             ],
             [
              0.1111111111111111,
              "#46039f"
             ],
             [
              0.2222222222222222,
              "#7201a8"
             ],
             [
              0.3333333333333333,
              "#9c179e"
             ],
             [
              0.4444444444444444,
              "#bd3786"
             ],
             [
              0.5555555555555556,
              "#d8576b"
             ],
             [
              0.6666666666666666,
              "#ed7953"
             ],
             [
              0.7777777777777778,
              "#fb9f3a"
             ],
             [
              0.8888888888888888,
              "#fdca26"
             ],
             [
              1,
              "#f0f921"
             ]
            ],
            "type": "surface"
           }
          ],
          "table": [
           {
            "cells": {
             "fill": {
              "color": "#EBF0F8"
             },
             "line": {
              "color": "white"
             }
            },
            "header": {
             "fill": {
              "color": "#C8D4E3"
             },
             "line": {
              "color": "white"
             }
            },
            "type": "table"
           }
          ]
         },
         "layout": {
          "annotationdefaults": {
           "arrowcolor": "#2a3f5f",
           "arrowhead": 0,
           "arrowwidth": 1
          },
          "autotypenumbers": "strict",
          "coloraxis": {
           "colorbar": {
            "outlinewidth": 0,
            "ticks": ""
           }
          },
          "colorscale": {
           "diverging": [
            [
             0,
             "#8e0152"
            ],
            [
             0.1,
             "#c51b7d"
            ],
            [
             0.2,
             "#de77ae"
            ],
            [
             0.3,
             "#f1b6da"
            ],
            [
             0.4,
             "#fde0ef"
            ],
            [
             0.5,
             "#f7f7f7"
            ],
            [
             0.6,
             "#e6f5d0"
            ],
            [
             0.7,
             "#b8e186"
            ],
            [
             0.8,
             "#7fbc41"
            ],
            [
             0.9,
             "#4d9221"
            ],
            [
             1,
             "#276419"
            ]
           ],
           "sequential": [
            [
             0,
             "#0d0887"
            ],
            [
             0.1111111111111111,
             "#46039f"
            ],
            [
             0.2222222222222222,
             "#7201a8"
            ],
            [
             0.3333333333333333,
             "#9c179e"
            ],
            [
             0.4444444444444444,
             "#bd3786"
            ],
            [
             0.5555555555555556,
             "#d8576b"
            ],
            [
             0.6666666666666666,
             "#ed7953"
            ],
            [
             0.7777777777777778,
             "#fb9f3a"
            ],
            [
             0.8888888888888888,
             "#fdca26"
            ],
            [
             1,
             "#f0f921"
            ]
           ],
           "sequentialminus": [
            [
             0,
             "#0d0887"
            ],
            [
             0.1111111111111111,
             "#46039f"
            ],
            [
             0.2222222222222222,
             "#7201a8"
            ],
            [
             0.3333333333333333,
             "#9c179e"
            ],
            [
             0.4444444444444444,
             "#bd3786"
            ],
            [
             0.5555555555555556,
             "#d8576b"
            ],
            [
             0.6666666666666666,
             "#ed7953"
            ],
            [
             0.7777777777777778,
             "#fb9f3a"
            ],
            [
             0.8888888888888888,
             "#fdca26"
            ],
            [
             1,
             "#f0f921"
            ]
           ]
          },
          "colorway": [
           "#636efa",
           "#EF553B",
           "#00cc96",
           "#ab63fa",
           "#FFA15A",
           "#19d3f3",
           "#FF6692",
           "#B6E880",
           "#FF97FF",
           "#FECB52"
          ],
          "font": {
           "color": "#2a3f5f"
          },
          "geo": {
           "bgcolor": "white",
           "lakecolor": "white",
           "landcolor": "#E5ECF6",
           "showlakes": true,
           "showland": true,
           "subunitcolor": "white"
          },
          "hoverlabel": {
           "align": "left"
          },
          "hovermode": "closest",
          "mapbox": {
           "style": "light"
          },
          "paper_bgcolor": "white",
          "plot_bgcolor": "#E5ECF6",
          "polar": {
           "angularaxis": {
            "gridcolor": "white",
            "linecolor": "white",
            "ticks": ""
           },
           "bgcolor": "#E5ECF6",
           "radialaxis": {
            "gridcolor": "white",
            "linecolor": "white",
            "ticks": ""
           }
          },
          "scene": {
           "xaxis": {
            "backgroundcolor": "#E5ECF6",
            "gridcolor": "white",
            "gridwidth": 2,
            "linecolor": "white",
            "showbackground": true,
            "ticks": "",
            "zerolinecolor": "white"
           },
           "yaxis": {
            "backgroundcolor": "#E5ECF6",
            "gridcolor": "white",
            "gridwidth": 2,
            "linecolor": "white",
            "showbackground": true,
            "ticks": "",
            "zerolinecolor": "white"
           },
           "zaxis": {
            "backgroundcolor": "#E5ECF6",
            "gridcolor": "white",
            "gridwidth": 2,
            "linecolor": "white",
            "showbackground": true,
            "ticks": "",
            "zerolinecolor": "white"
           }
          },
          "shapedefaults": {
           "line": {
            "color": "#2a3f5f"
           }
          },
          "ternary": {
           "aaxis": {
            "gridcolor": "white",
            "linecolor": "white",
            "ticks": ""
           },
           "baxis": {
            "gridcolor": "white",
            "linecolor": "white",
            "ticks": ""
           },
           "bgcolor": "#E5ECF6",
           "caxis": {
            "gridcolor": "white",
            "linecolor": "white",
            "ticks": ""
           }
          },
          "title": {
           "x": 0.05
          },
          "xaxis": {
           "automargin": true,
           "gridcolor": "white",
           "linecolor": "white",
           "ticks": "",
           "title": {
            "standoff": 15
           },
           "zerolinecolor": "white",
           "zerolinewidth": 2
          },
          "yaxis": {
           "automargin": true,
           "gridcolor": "white",
           "linecolor": "white",
           "ticks": "",
           "title": {
            "standoff": 15
           },
           "zerolinecolor": "white",
           "zerolinewidth": 2
          }
         }
        },
        "title": {
         "text": "AAPL Stock"
        },
        "xaxis": {
         "title": {
          "text": "Date"
         }
        },
        "yaxis": {
         "title": {
          "text": "Close"
         }
        }
       }
      }
     },
     "metadata": {},
     "output_type": "display_data"
    },
    {
     "data": {
      "application/vnd.plotly.v1+json": {
       "config": {
        "plotlyServerURL": "https://plot.ly"
       },
       "data": [
        {
         "mode": "lines",
         "name": "Future Predictions",
         "type": "scatter",
         "x": [
          "2022-10-06T00:00:00",
          "2022-10-07T00:00:00",
          "2022-10-08T00:00:00",
          "2022-10-09T00:00:00",
          "2022-10-10T00:00:00",
          "2022-10-11T00:00:00"
         ],
         "y": [
          145.429993,
          144.48825073242188,
          144.7934112548828,
          144.94256591796875,
          144.8442840576172,
          144.71971130371094
         ]
        },
        {
         "mode": "lines",
         "name": "5-Day Data",
         "type": "scatter",
         "x": [
          "2022-10-06T00:00:00",
          "2022-10-07T00:00:00",
          "2022-10-08T00:00:00",
          "2022-10-09T00:00:00",
          "2022-10-10T00:00:00",
          "2022-10-11T00:00:00"
         ],
         "y": [
          145.43,
          140.089996,
          140.2,
          140.31,
          140.419998,
          138.979996
         ]
        },
        {
         "mode": "lines",
         "name": "Ground Truth",
         "type": "scatter",
         "x": [
          "2022-08-31",
          "2022-09-01",
          "2022-09-02",
          "2022-09-06",
          "2022-09-07",
          "2022-09-08",
          "2022-09-09",
          "2022-09-12",
          "2022-09-13",
          "2022-09-14",
          "2022-09-15",
          "2022-09-16",
          "2022-09-19",
          "2022-09-20",
          "2022-09-21",
          "2022-09-22",
          "2022-09-23",
          "2022-09-26",
          "2022-09-27",
          "2022-09-28",
          "2022-09-29",
          "2022-09-30",
          "2022-10-03",
          "2022-10-04",
          "2022-10-05",
          "2022-10-06"
         ],
         "y": [
          157.220001,
          157.960007,
          155.809998,
          154.529999,
          155.960007,
          154.460007,
          157.369995,
          163.429993,
          153.839996,
          155.309998,
          152.369995,
          150.699997,
          154.479996,
          156.899994,
          153.720001,
          152.740005,
          150.429993,
          150.770004,
          151.759995,
          149.839996,
          142.479996,
          138.199997,
          142.449997,
          146.100006,
          146.399994,
          145.429993
         ]
        }
       ],
       "layout": {
        "font": {
         "size": 20
        },
        "template": {
         "data": {
          "bar": [
           {
            "error_x": {
             "color": "#2a3f5f"
            },
            "error_y": {
             "color": "#2a3f5f"
            },
            "marker": {
             "line": {
              "color": "#E5ECF6",
              "width": 0.5
             },
             "pattern": {
              "fillmode": "overlay",
              "size": 10,
              "solidity": 0.2
             }
            },
            "type": "bar"
           }
          ],
          "barpolar": [
           {
            "marker": {
             "line": {
              "color": "#E5ECF6",
              "width": 0.5
             },
             "pattern": {
              "fillmode": "overlay",
              "size": 10,
              "solidity": 0.2
             }
            },
            "type": "barpolar"
           }
          ],
          "carpet": [
           {
            "aaxis": {
             "endlinecolor": "#2a3f5f",
             "gridcolor": "white",
             "linecolor": "white",
             "minorgridcolor": "white",
             "startlinecolor": "#2a3f5f"
            },
            "baxis": {
             "endlinecolor": "#2a3f5f",
             "gridcolor": "white",
             "linecolor": "white",
             "minorgridcolor": "white",
             "startlinecolor": "#2a3f5f"
            },
            "type": "carpet"
           }
          ],
          "choropleth": [
           {
            "colorbar": {
             "outlinewidth": 0,
             "ticks": ""
            },
            "type": "choropleth"
           }
          ],
          "contour": [
           {
            "colorbar": {
             "outlinewidth": 0,
             "ticks": ""
            },
            "colorscale": [
             [
              0,
              "#0d0887"
             ],
             [
              0.1111111111111111,
              "#46039f"
             ],
             [
              0.2222222222222222,
              "#7201a8"
             ],
             [
              0.3333333333333333,
              "#9c179e"
             ],
             [
              0.4444444444444444,
              "#bd3786"
             ],
             [
              0.5555555555555556,
              "#d8576b"
             ],
             [
              0.6666666666666666,
              "#ed7953"
             ],
             [
              0.7777777777777778,
              "#fb9f3a"
             ],
             [
              0.8888888888888888,
              "#fdca26"
             ],
             [
              1,
              "#f0f921"
             ]
            ],
            "type": "contour"
           }
          ],
          "contourcarpet": [
           {
            "colorbar": {
             "outlinewidth": 0,
             "ticks": ""
            },
            "type": "contourcarpet"
           }
          ],
          "heatmap": [
           {
            "colorbar": {
             "outlinewidth": 0,
             "ticks": ""
            },
            "colorscale": [
             [
              0,
              "#0d0887"
             ],
             [
              0.1111111111111111,
              "#46039f"
             ],
             [
              0.2222222222222222,
              "#7201a8"
             ],
             [
              0.3333333333333333,
              "#9c179e"
             ],
             [
              0.4444444444444444,
              "#bd3786"
             ],
             [
              0.5555555555555556,
              "#d8576b"
             ],
             [
              0.6666666666666666,
              "#ed7953"
             ],
             [
              0.7777777777777778,
              "#fb9f3a"
             ],
             [
              0.8888888888888888,
              "#fdca26"
             ],
             [
              1,
              "#f0f921"
             ]
            ],
            "type": "heatmap"
           }
          ],
          "heatmapgl": [
           {
            "colorbar": {
             "outlinewidth": 0,
             "ticks": ""
            },
            "colorscale": [
             [
              0,
              "#0d0887"
             ],
             [
              0.1111111111111111,
              "#46039f"
             ],
             [
              0.2222222222222222,
              "#7201a8"
             ],
             [
              0.3333333333333333,
              "#9c179e"
             ],
             [
              0.4444444444444444,
              "#bd3786"
             ],
             [
              0.5555555555555556,
              "#d8576b"
             ],
             [
              0.6666666666666666,
              "#ed7953"
             ],
             [
              0.7777777777777778,
              "#fb9f3a"
             ],
             [
              0.8888888888888888,
              "#fdca26"
             ],
             [
              1,
              "#f0f921"
             ]
            ],
            "type": "heatmapgl"
           }
          ],
          "histogram": [
           {
            "marker": {
             "pattern": {
              "fillmode": "overlay",
              "size": 10,
              "solidity": 0.2
             }
            },
            "type": "histogram"
           }
          ],
          "histogram2d": [
           {
            "colorbar": {
             "outlinewidth": 0,
             "ticks": ""
            },
            "colorscale": [
             [
              0,
              "#0d0887"
             ],
             [
              0.1111111111111111,
              "#46039f"
             ],
             [
              0.2222222222222222,
              "#7201a8"
             ],
             [
              0.3333333333333333,
              "#9c179e"
             ],
             [
              0.4444444444444444,
              "#bd3786"
             ],
             [
              0.5555555555555556,
              "#d8576b"
             ],
             [
              0.6666666666666666,
              "#ed7953"
             ],
             [
              0.7777777777777778,
              "#fb9f3a"
             ],
             [
              0.8888888888888888,
              "#fdca26"
             ],
             [
              1,
              "#f0f921"
             ]
            ],
            "type": "histogram2d"
           }
          ],
          "histogram2dcontour": [
           {
            "colorbar": {
             "outlinewidth": 0,
             "ticks": ""
            },
            "colorscale": [
             [
              0,
              "#0d0887"
             ],
             [
              0.1111111111111111,
              "#46039f"
             ],
             [
              0.2222222222222222,
              "#7201a8"
             ],
             [
              0.3333333333333333,
              "#9c179e"
             ],
             [
              0.4444444444444444,
              "#bd3786"
             ],
             [
              0.5555555555555556,
              "#d8576b"
             ],
             [
              0.6666666666666666,
              "#ed7953"
             ],
             [
              0.7777777777777778,
              "#fb9f3a"
             ],
             [
              0.8888888888888888,
              "#fdca26"
             ],
             [
              1,
              "#f0f921"
             ]
            ],
            "type": "histogram2dcontour"
           }
          ],
          "mesh3d": [
           {
            "colorbar": {
             "outlinewidth": 0,
             "ticks": ""
            },
            "type": "mesh3d"
           }
          ],
          "parcoords": [
           {
            "line": {
             "colorbar": {
              "outlinewidth": 0,
              "ticks": ""
             }
            },
            "type": "parcoords"
           }
          ],
          "pie": [
           {
            "automargin": true,
            "type": "pie"
           }
          ],
          "scatter": [
           {
            "fillpattern": {
             "fillmode": "overlay",
             "size": 10,
             "solidity": 0.2
            },
            "type": "scatter"
           }
          ],
          "scatter3d": [
           {
            "line": {
             "colorbar": {
              "outlinewidth": 0,
              "ticks": ""
             }
            },
            "marker": {
             "colorbar": {
              "outlinewidth": 0,
              "ticks": ""
             }
            },
            "type": "scatter3d"
           }
          ],
          "scattercarpet": [
           {
            "marker": {
             "colorbar": {
              "outlinewidth": 0,
              "ticks": ""
             }
            },
            "type": "scattercarpet"
           }
          ],
          "scattergeo": [
           {
            "marker": {
             "colorbar": {
              "outlinewidth": 0,
              "ticks": ""
             }
            },
            "type": "scattergeo"
           }
          ],
          "scattergl": [
           {
            "marker": {
             "colorbar": {
              "outlinewidth": 0,
              "ticks": ""
             }
            },
            "type": "scattergl"
           }
          ],
          "scattermapbox": [
           {
            "marker": {
             "colorbar": {
              "outlinewidth": 0,
              "ticks": ""
             }
            },
            "type": "scattermapbox"
           }
          ],
          "scatterpolar": [
           {
            "marker": {
             "colorbar": {
              "outlinewidth": 0,
              "ticks": ""
             }
            },
            "type": "scatterpolar"
           }
          ],
          "scatterpolargl": [
           {
            "marker": {
             "colorbar": {
              "outlinewidth": 0,
              "ticks": ""
             }
            },
            "type": "scatterpolargl"
           }
          ],
          "scatterternary": [
           {
            "marker": {
             "colorbar": {
              "outlinewidth": 0,
              "ticks": ""
             }
            },
            "type": "scatterternary"
           }
          ],
          "surface": [
           {
            "colorbar": {
             "outlinewidth": 0,
             "ticks": ""
            },
            "colorscale": [
             [
              0,
              "#0d0887"
             ],
             [
              0.1111111111111111,
              "#46039f"
             ],
             [
              0.2222222222222222,
              "#7201a8"
             ],
             [
              0.3333333333333333,
              "#9c179e"
             ],
             [
              0.4444444444444444,
              "#bd3786"
             ],
             [
              0.5555555555555556,
              "#d8576b"
             ],
             [
              0.6666666666666666,
              "#ed7953"
             ],
             [
              0.7777777777777778,
              "#fb9f3a"
             ],
             [
              0.8888888888888888,
              "#fdca26"
             ],
             [
              1,
              "#f0f921"
             ]
            ],
            "type": "surface"
           }
          ],
          "table": [
           {
            "cells": {
             "fill": {
              "color": "#EBF0F8"
             },
             "line": {
              "color": "white"
             }
            },
            "header": {
             "fill": {
              "color": "#C8D4E3"
             },
             "line": {
              "color": "white"
             }
            },
            "type": "table"
           }
          ]
         },
         "layout": {
          "annotationdefaults": {
           "arrowcolor": "#2a3f5f",
           "arrowhead": 0,
           "arrowwidth": 1
          },
          "autotypenumbers": "strict",
          "coloraxis": {
           "colorbar": {
            "outlinewidth": 0,
            "ticks": ""
           }
          },
          "colorscale": {
           "diverging": [
            [
             0,
             "#8e0152"
            ],
            [
             0.1,
             "#c51b7d"
            ],
            [
             0.2,
             "#de77ae"
            ],
            [
             0.3,
             "#f1b6da"
            ],
            [
             0.4,
             "#fde0ef"
            ],
            [
             0.5,
             "#f7f7f7"
            ],
            [
             0.6,
             "#e6f5d0"
            ],
            [
             0.7,
             "#b8e186"
            ],
            [
             0.8,
             "#7fbc41"
            ],
            [
             0.9,
             "#4d9221"
            ],
            [
             1,
             "#276419"
            ]
           ],
           "sequential": [
            [
             0,
             "#0d0887"
            ],
            [
             0.1111111111111111,
             "#46039f"
            ],
            [
             0.2222222222222222,
             "#7201a8"
            ],
            [
             0.3333333333333333,
             "#9c179e"
            ],
            [
             0.4444444444444444,
             "#bd3786"
            ],
            [
             0.5555555555555556,
             "#d8576b"
            ],
            [
             0.6666666666666666,
             "#ed7953"
            ],
            [
             0.7777777777777778,
             "#fb9f3a"
            ],
            [
             0.8888888888888888,
             "#fdca26"
            ],
            [
             1,
             "#f0f921"
            ]
           ],
           "sequentialminus": [
            [
             0,
             "#0d0887"
            ],
            [
             0.1111111111111111,
             "#46039f"
            ],
            [
             0.2222222222222222,
             "#7201a8"
            ],
            [
             0.3333333333333333,
             "#9c179e"
            ],
            [
             0.4444444444444444,
             "#bd3786"
            ],
            [
             0.5555555555555556,
             "#d8576b"
            ],
            [
             0.6666666666666666,
             "#ed7953"
            ],
            [
             0.7777777777777778,
             "#fb9f3a"
            ],
            [
             0.8888888888888888,
             "#fdca26"
            ],
            [
             1,
             "#f0f921"
            ]
           ]
          },
          "colorway": [
           "#636efa",
           "#EF553B",
           "#00cc96",
           "#ab63fa",
           "#FFA15A",
           "#19d3f3",
           "#FF6692",
           "#B6E880",
           "#FF97FF",
           "#FECB52"
          ],
          "font": {
           "color": "#2a3f5f"
          },
          "geo": {
           "bgcolor": "white",
           "lakecolor": "white",
           "landcolor": "#E5ECF6",
           "showlakes": true,
           "showland": true,
           "subunitcolor": "white"
          },
          "hoverlabel": {
           "align": "left"
          },
          "hovermode": "closest",
          "mapbox": {
           "style": "light"
          },
          "paper_bgcolor": "white",
          "plot_bgcolor": "#E5ECF6",
          "polar": {
           "angularaxis": {
            "gridcolor": "white",
            "linecolor": "white",
            "ticks": ""
           },
           "bgcolor": "#E5ECF6",
           "radialaxis": {
            "gridcolor": "white",
            "linecolor": "white",
            "ticks": ""
           }
          },
          "scene": {
           "xaxis": {
            "backgroundcolor": "#E5ECF6",
            "gridcolor": "white",
            "gridwidth": 2,
            "linecolor": "white",
            "showbackground": true,
            "ticks": "",
            "zerolinecolor": "white"
           },
           "yaxis": {
            "backgroundcolor": "#E5ECF6",
            "gridcolor": "white",
            "gridwidth": 2,
            "linecolor": "white",
            "showbackground": true,
            "ticks": "",
            "zerolinecolor": "white"
           },
           "zaxis": {
            "backgroundcolor": "#E5ECF6",
            "gridcolor": "white",
            "gridwidth": 2,
            "linecolor": "white",
            "showbackground": true,
            "ticks": "",
            "zerolinecolor": "white"
           }
          },
          "shapedefaults": {
           "line": {
            "color": "#2a3f5f"
           }
          },
          "ternary": {
           "aaxis": {
            "gridcolor": "white",
            "linecolor": "white",
            "ticks": ""
           },
           "baxis": {
            "gridcolor": "white",
            "linecolor": "white",
            "ticks": ""
           },
           "bgcolor": "#E5ECF6",
           "caxis": {
            "gridcolor": "white",
            "linecolor": "white",
            "ticks": ""
           }
          },
          "title": {
           "x": 0.05
          },
          "xaxis": {
           "automargin": true,
           "gridcolor": "white",
           "linecolor": "white",
           "ticks": "",
           "title": {
            "standoff": 15
           },
           "zerolinecolor": "white",
           "zerolinewidth": 2
          },
          "yaxis": {
           "automargin": true,
           "gridcolor": "white",
           "linecolor": "white",
           "ticks": "",
           "title": {
            "standoff": 15
           },
           "zerolinecolor": "white",
           "zerolinewidth": 2
          }
         }
        },
        "title": {
         "text": "AAPL Stock"
        },
        "xaxis": {
         "title": {
          "text": "Date"
         }
        },
        "yaxis": {
         "title": {
          "text": "Close"
         }
        }
       }
      }
     },
     "metadata": {},
     "output_type": "display_data"
    }
   ],
   "source": [
    "pred(df_AAPL,df_AAPL_future,df_AAPL_comp)"
   ]
  },
  {
   "cell_type": "code",
   "execution_count": 24,
   "metadata": {
    "scrolled": false
   },
   "outputs": [
    {
     "name": "stdout",
     "output_type": "stream",
     "text": [
      "Epoch 1/100\n",
      "1/1 [==============================] - 1s 986ms/step - loss: 12320.7314\n",
      "Epoch 2/100\n",
      "1/1 [==============================] - 0s 21ms/step - loss: 12024.7471\n",
      "Epoch 3/100\n",
      "1/1 [==============================] - 0s 16ms/step - loss: 11725.7490\n",
      "Epoch 4/100\n",
      "1/1 [==============================] - 0s 13ms/step - loss: 11431.1650\n",
      "Epoch 5/100\n",
      "1/1 [==============================] - 0s 13ms/step - loss: 11145.7822\n",
      "Epoch 6/100\n",
      "1/1 [==============================] - 0s 12ms/step - loss: 10871.8369\n",
      "Epoch 7/100\n",
      "1/1 [==============================] - 0s 13ms/step - loss: 10609.6729\n",
      "Epoch 8/100\n",
      "1/1 [==============================] - 0s 13ms/step - loss: 10358.5664\n",
      "Epoch 9/100\n",
      "1/1 [==============================] - 0s 12ms/step - loss: 10117.0088\n",
      "Epoch 10/100\n",
      "1/1 [==============================] - 0s 13ms/step - loss: 9882.9883\n",
      "Epoch 11/100\n",
      "1/1 [==============================] - 0s 15ms/step - loss: 9654.2412\n",
      "Epoch 12/100\n",
      "1/1 [==============================] - 0s 13ms/step - loss: 9428.3174\n",
      "Epoch 13/100\n",
      "1/1 [==============================] - 0s 13ms/step - loss: 9202.4658\n",
      "Epoch 14/100\n",
      "1/1 [==============================] - 0s 19ms/step - loss: 8973.2959\n",
      "Epoch 15/100\n",
      "1/1 [==============================] - 0s 18ms/step - loss: 8736.1025\n",
      "Epoch 16/100\n",
      "1/1 [==============================] - 0s 15ms/step - loss: 8483.6133\n",
      "Epoch 17/100\n",
      "1/1 [==============================] - 0s 14ms/step - loss: 8203.7031\n",
      "Epoch 18/100\n",
      "1/1 [==============================] - 0s 15ms/step - loss: 7875.7114\n",
      "Epoch 19/100\n",
      "1/1 [==============================] - 0s 11ms/step - loss: 7466.6460\n",
      "Epoch 20/100\n",
      "1/1 [==============================] - 0s 12ms/step - loss: 6935.5034\n",
      "Epoch 21/100\n",
      "1/1 [==============================] - 0s 13ms/step - loss: 6279.9087\n",
      "Epoch 22/100\n",
      "1/1 [==============================] - 0s 11ms/step - loss: 5608.9038\n",
      "Epoch 23/100\n",
      "1/1 [==============================] - 0s 11ms/step - loss: 5007.7124\n",
      "Epoch 24/100\n",
      "1/1 [==============================] - 0s 15ms/step - loss: 4454.3408\n",
      "Epoch 25/100\n",
      "1/1 [==============================] - 0s 15ms/step - loss: 3915.5671\n",
      "Epoch 26/100\n",
      "1/1 [==============================] - 0s 11ms/step - loss: 3375.5876\n",
      "Epoch 27/100\n",
      "1/1 [==============================] - 0s 11ms/step - loss: 2839.6790\n",
      "Epoch 28/100\n",
      "1/1 [==============================] - 0s 13ms/step - loss: 2322.8279\n",
      "Epoch 29/100\n",
      "1/1 [==============================] - 0s 12ms/step - loss: 1828.7529\n",
      "Epoch 30/100\n",
      "1/1 [==============================] - 0s 11ms/step - loss: 1343.1768\n",
      "Epoch 31/100\n",
      "1/1 [==============================] - 0s 11ms/step - loss: 863.6032\n",
      "Epoch 32/100\n",
      "1/1 [==============================] - 0s 12ms/step - loss: 442.5591\n",
      "Epoch 33/100\n",
      "1/1 [==============================] - 0s 15ms/step - loss: 174.2634\n",
      "Epoch 34/100\n",
      "1/1 [==============================] - 0s 15ms/step - loss: 100.4622\n",
      "Epoch 35/100\n",
      "1/1 [==============================] - 0s 12ms/step - loss: 155.5651\n",
      "Epoch 36/100\n",
      "1/1 [==============================] - 0s 11ms/step - loss: 250.5294\n",
      "Epoch 37/100\n",
      "1/1 [==============================] - 0s 9ms/step - loss: 335.2854\n",
      "Epoch 38/100\n",
      "1/1 [==============================] - 0s 11ms/step - loss: 392.7400\n",
      "Epoch 39/100\n",
      "1/1 [==============================] - 0s 10ms/step - loss: 420.5696\n",
      "Epoch 40/100\n",
      "1/1 [==============================] - 0s 11ms/step - loss: 421.8518\n",
      "Epoch 41/100\n",
      "1/1 [==============================] - 0s 17ms/step - loss: 401.2324\n",
      "Epoch 42/100\n",
      "1/1 [==============================] - 0s 11ms/step - loss: 363.9106\n",
      "Epoch 43/100\n",
      "1/1 [==============================] - 0s 11ms/step - loss: 315.4919\n",
      "Epoch 44/100\n",
      "1/1 [==============================] - 0s 11ms/step - loss: 261.7433\n",
      "Epoch 45/100\n",
      "1/1 [==============================] - 0s 11ms/step - loss: 208.0885\n",
      "Epoch 46/100\n",
      "1/1 [==============================] - 0s 10ms/step - loss: 159.1552\n",
      "Epoch 47/100\n",
      "1/1 [==============================] - 0s 11ms/step - loss: 118.3622\n",
      "Epoch 48/100\n",
      "1/1 [==============================] - 0s 11ms/step - loss: 87.6838\n",
      "Epoch 49/100\n",
      "1/1 [==============================] - 0s 14ms/step - loss: 67.5676\n",
      "Epoch 50/100\n",
      "1/1 [==============================] - 0s 14ms/step - loss: 57.1028\n",
      "Epoch 51/100\n",
      "1/1 [==============================] - 0s 12ms/step - loss: 54.4596\n",
      "Epoch 52/100\n",
      "1/1 [==============================] - 0s 10ms/step - loss: 57.4549\n",
      "Epoch 53/100\n",
      "1/1 [==============================] - 0s 11ms/step - loss: 63.8986\n",
      "Epoch 54/100\n",
      "1/1 [==============================] - 0s 11ms/step - loss: 71.8183\n",
      "Epoch 55/100\n",
      "1/1 [==============================] - 0s 11ms/step - loss: 79.7284\n",
      "Epoch 56/100\n",
      "1/1 [==============================] - 0s 12ms/step - loss: 86.4424\n",
      "Epoch 57/100\n",
      "1/1 [==============================] - 0s 10ms/step - loss: 90.7408\n",
      "Epoch 58/100\n",
      "1/1 [==============================] - 0s 12ms/step - loss: 92.3286\n",
      "Epoch 59/100\n",
      "1/1 [==============================] - 0s 11ms/step - loss: 91.5586\n",
      "Epoch 60/100\n",
      "1/1 [==============================] - 0s 11ms/step - loss: 88.9864\n",
      "Epoch 61/100\n",
      "1/1 [==============================] - 0s 11ms/step - loss: 85.0319\n",
      "Epoch 62/100\n",
      "1/1 [==============================] - 0s 11ms/step - loss: 80.0174\n",
      "Epoch 63/100\n",
      "1/1 [==============================] - 0s 10ms/step - loss: 74.2618\n",
      "Epoch 64/100\n",
      "1/1 [==============================] - 0s 12ms/step - loss: 68.2819\n",
      "Epoch 65/100\n",
      "1/1 [==============================] - 0s 10ms/step - loss: 62.6011\n",
      "Epoch 66/100\n",
      "1/1 [==============================] - 0s 18ms/step - loss: 57.6063\n",
      "Epoch 67/100\n",
      "1/1 [==============================] - 0s 12ms/step - loss: 53.5005\n",
      "Epoch 68/100\n",
      "1/1 [==============================] - 0s 15ms/step - loss: 50.3282\n",
      "Epoch 69/100\n",
      "1/1 [==============================] - 0s 10ms/step - loss: 48.0338\n",
      "Epoch 70/100\n",
      "1/1 [==============================] - 0s 13ms/step - loss: 46.4930\n",
      "Epoch 71/100\n",
      "1/1 [==============================] - 0s 11ms/step - loss: 45.5543\n",
      "Epoch 72/100\n",
      "1/1 [==============================] - 0s 12ms/step - loss: 45.0489\n",
      "Epoch 73/100\n",
      "1/1 [==============================] - 0s 12ms/step - loss: 44.8432\n",
      "Epoch 74/100\n",
      "1/1 [==============================] - 0s 12ms/step - loss: 44.8745\n",
      "Epoch 75/100\n",
      "1/1 [==============================] - 0s 12ms/step - loss: 45.1432\n",
      "Epoch 76/100\n",
      "1/1 [==============================] - 0s 11ms/step - loss: 45.6531\n",
      "Epoch 77/100\n",
      "1/1 [==============================] - 0s 12ms/step - loss: 46.3017\n",
      "Epoch 78/100\n",
      "1/1 [==============================] - 0s 11ms/step - loss: 46.8914\n",
      "Epoch 79/100\n",
      "1/1 [==============================] - 0s 12ms/step - loss: 47.2821\n",
      "Epoch 80/100\n",
      "1/1 [==============================] - 0s 12ms/step - loss: 47.4502\n",
      "Epoch 81/100\n",
      "1/1 [==============================] - 0s 11ms/step - loss: 47.3895\n",
      "Epoch 82/100\n",
      "1/1 [==============================] - 0s 11ms/step - loss: 47.1334\n",
      "Epoch 83/100\n",
      "1/1 [==============================] - 0s 9ms/step - loss: 46.6797\n",
      "Epoch 84/100\n",
      "1/1 [==============================] - 0s 10ms/step - loss: 46.0963\n",
      "Epoch 85/100\n",
      "1/1 [==============================] - 0s 12ms/step - loss: 45.4587\n",
      "Epoch 86/100\n",
      "1/1 [==============================] - 0s 15ms/step - loss: 44.8616\n",
      "Epoch 87/100\n",
      "1/1 [==============================] - 0s 17ms/step - loss: 44.3078\n",
      "Epoch 88/100\n",
      "1/1 [==============================] - 0s 11ms/step - loss: 43.8097\n",
      "Epoch 89/100\n",
      "1/1 [==============================] - 0s 16ms/step - loss: 43.3932\n",
      "Epoch 90/100\n",
      "1/1 [==============================] - 0s 20ms/step - loss: 43.0800\n",
      "Epoch 91/100\n",
      "1/1 [==============================] - 0s 14ms/step - loss: 42.8738\n",
      "Epoch 92/100\n",
      "1/1 [==============================] - 0s 15ms/step - loss: 42.7620\n",
      "Epoch 93/100\n",
      "1/1 [==============================] - 0s 15ms/step - loss: 42.7206\n",
      "Epoch 94/100\n",
      "1/1 [==============================] - 0s 15ms/step - loss: 42.7206\n",
      "Epoch 95/100\n",
      "1/1 [==============================] - 0s 13ms/step - loss: 42.7395\n",
      "Epoch 96/100\n",
      "1/1 [==============================] - 0s 13ms/step - loss: 42.7645\n",
      "Epoch 97/100\n",
      "1/1 [==============================] - 0s 13ms/step - loss: 42.7888\n",
      "Epoch 98/100\n",
      "1/1 [==============================] - 0s 14ms/step - loss: 42.8080\n",
      "Epoch 99/100\n",
      "1/1 [==============================] - 0s 14ms/step - loss: 42.8161\n",
      "Epoch 100/100\n",
      "1/1 [==============================] - 0s 15ms/step - loss: 42.8055\n",
      "1/1 [==============================] - 0s 149ms/step\n",
      "WARNING:tensorflow:5 out of the last 13 calls to <function Model.make_predict_function.<locals>.predict_function at 0x0000028CE8F73790> triggered tf.function retracing. Tracing is expensive and the excessive number of tracings could be due to (1) creating @tf.function repeatedly in a loop, (2) passing tensors with different shapes, (3) passing Python objects instead of tensors. For (1), please define your @tf.function outside of the loop. For (2), @tf.function has reduce_retracing=True option that can avoid unnecessary retracing. For (3), please refer to https://www.tensorflow.org/guide/function#controlling_retracing and https://www.tensorflow.org/api_docs/python/tf/function for  more details.\n",
      "1/1 [==============================] - 0s 126ms/step\n",
      "1/1 [==============================] - 0s 23ms/step\n",
      "1/1 [==============================] - 0s 14ms/step\n",
      "1/1 [==============================] - 0s 13ms/step\n",
      "1/1 [==============================] - 0s 19ms/step\n"
     ]
    },
    {
     "data": {
      "application/vnd.plotly.v1+json": {
       "config": {
        "plotlyServerURL": "https://plot.ly"
       },
       "data": [
        {
         "mode": "lines",
         "name": "Training Data",
         "type": "scatter",
         "x": [
          "2022-04-06",
          "2022-04-07",
          "2022-04-08",
          "2022-04-11",
          "2022-04-12",
          "2022-04-13",
          "2022-04-14",
          "2022-04-18",
          "2022-04-19",
          "2022-04-20",
          "2022-04-21",
          "2022-04-22",
          "2022-04-25",
          "2022-04-26",
          "2022-04-27",
          "2022-04-28",
          "2022-04-29",
          "2022-05-02",
          "2022-05-03",
          "2022-05-04",
          "2022-05-05",
          "2022-05-06",
          "2022-05-09",
          "2022-05-10",
          "2022-05-11",
          "2022-05-12",
          "2022-05-13",
          "2022-05-16",
          "2022-05-17",
          "2022-05-18",
          "2022-05-19",
          "2022-05-20",
          "2022-05-23",
          "2022-05-24",
          "2022-05-25",
          "2022-05-26",
          "2022-05-27",
          "2022-05-31",
          "2022-06-01",
          "2022-06-02",
          "2022-06-03",
          "2022-06-06",
          "2022-06-07",
          "2022-06-08",
          "2022-06-09",
          "2022-06-10",
          "2022-06-13",
          "2022-06-14",
          "2022-06-15",
          "2022-06-16",
          "2022-06-17",
          "2022-06-21",
          "2022-06-22",
          "2022-06-23",
          "2022-06-24",
          "2022-06-27",
          "2022-06-28",
          "2022-06-29",
          "2022-06-30",
          "2022-07-01",
          "2022-07-05",
          "2022-07-06",
          "2022-07-07",
          "2022-07-08",
          "2022-07-11",
          "2022-07-12",
          "2022-07-13",
          "2022-07-14",
          "2022-07-15",
          "2022-07-18",
          "2022-07-19",
          "2022-07-20",
          "2022-07-21",
          "2022-07-22",
          "2022-07-25",
          "2022-07-26",
          "2022-07-27",
          "2022-07-28",
          "2022-07-29",
          "2022-08-01",
          "2022-08-02",
          "2022-08-03",
          "2022-08-04",
          "2022-08-05",
          "2022-08-08",
          "2022-08-09",
          "2022-08-10",
          "2022-08-11",
          "2022-08-12",
          "2022-08-15",
          "2022-08-16",
          "2022-08-17",
          "2022-08-18",
          "2022-08-19",
          "2022-08-22",
          "2022-08-23",
          "2022-08-24",
          "2022-08-25",
          "2022-08-26",
          "2022-08-29",
          "2022-08-30"
         ],
         "y": [
          164.660004,
          165.910004,
          162.559998,
          160.25,
          160.110001,
          171.850006,
          170.699997,
          165.740005,
          170.119995,
          164.550003,
          157.910004,
          156.089996,
          158.389999,
          153.039993,
          152.229996,
          159.740005,
          153.210007,
          152.779999,
          145,
          156.179993,
          143.089996,
          135.839996,
          119.370003,
          116.129997,
          116.150002,
          115.940002,
          121.449997,
          114.440002,
          117.5,
          108.029999,
          114.169998,
          112.550003,
          113.279999,
          106.239998,
          110.400002,
          114.300003,
          120.5,
          120.870003,
          116.720001,
          121.260002,
          119.830002,
          122.019997,
          122.900002,
          123.769997,
          115.720001,
          108.910004,
          98.93,
          98.870003,
          101.470001,
          93.260002,
          99.489998,
          102.269997,
          99.529999,
          95.720001,
          103.510002,
          101.5,
          97.529999,
          93.93,
          89.080002,
          91.410004,
          95.940002,
          92.879997,
          97.5,
          97.349998,
          95.099998,
          96.550003,
          95.639999,
          91.050003,
          94.660004,
          97.669998,
          102.199997,
          107.730003,
          108.139999,
          103.970001,
          104.949997,
          101.910004,
          107.360001,
          108.839996,
          110.980003,
          111.199997,
          116.339996,
          115.019997,
          119.220001,
          117.110001,
          115.82,
          114.440002,
          118.730003,
          121.5,
          124.510002,
          126.040001,
          124.18,
          121.870003,
          121.269997,
          114.760002,
          111.389999,
          111.599998,
          114.510002,
          117.029999,
          112.82,
          113.540001,
          112.559998
         ]
        },
        {
         "mode": "lines",
         "name": "Testing Training Data",
         "type": "scatter",
         "x": [
          "2022-08-31",
          "2022-09-01",
          "2022-09-02",
          "2022-09-06",
          "2022-09-07",
          "2022-09-08",
          "2022-09-09",
          "2022-09-12",
          "2022-09-13",
          "2022-09-14",
          "2022-09-15",
          "2022-09-16",
          "2022-09-19",
          "2022-09-20",
          "2022-09-21",
          "2022-09-22",
          "2022-09-23",
          "2022-09-26",
          "2022-09-27",
          "2022-09-28",
          "2022-09-29",
          "2022-09-30",
          "2022-10-03",
          "2022-10-04",
          "2022-10-05",
          "2022-10-06"
         ],
         "y": [
          112.75980377197266,
          113.9666976928711,
          115.93816375732422,
          117.60021209716797,
          118.41255187988281,
          121.39688873291016,
          122.72997283935547,
          120.13790130615234,
          119.37882995605469,
          118.9078140258789,
          116.1307144165039,
          110.44510650634766,
          107.77950286865234,
          106.26685333251953,
          105.4022445678711,
          104.547119140625,
          103.97047424316406,
          104.22595977783203,
          105.08785247802734,
          107.27976989746094,
          107.03016662597656
         ]
        },
        {
         "mode": "lines",
         "name": "Ground Truth",
         "type": "scatter",
         "x": [
          "2022-08-31",
          "2022-09-01",
          "2022-09-02",
          "2022-09-06",
          "2022-09-07",
          "2022-09-08",
          "2022-09-09",
          "2022-09-12",
          "2022-09-13",
          "2022-09-14",
          "2022-09-15",
          "2022-09-16",
          "2022-09-19",
          "2022-09-20",
          "2022-09-21",
          "2022-09-22",
          "2022-09-23",
          "2022-09-26",
          "2022-09-27",
          "2022-09-28",
          "2022-09-29",
          "2022-09-30",
          "2022-10-03",
          "2022-10-04",
          "2022-10-05",
          "2022-10-06"
         ],
         "y": [
          113.120003,
          113.400002,
          113.639999,
          113.699997,
          116.07,
          118.580002,
          123.480003,
          124.790001,
          121.540001,
          126.800003,
          125.040001,
          118.75,
          118.779999,
          116.709999,
          114.010002,
          103.720001,
          101.75,
          103.230003,
          106.370003,
          110.690002,
          106.660004,
          105.040001,
          105,
          110.809998,
          111.760002,
          111.580002
         ]
        }
       ],
       "layout": {
        "font": {
         "size": 20
        },
        "template": {
         "data": {
          "bar": [
           {
            "error_x": {
             "color": "#2a3f5f"
            },
            "error_y": {
             "color": "#2a3f5f"
            },
            "marker": {
             "line": {
              "color": "#E5ECF6",
              "width": 0.5
             },
             "pattern": {
              "fillmode": "overlay",
              "size": 10,
              "solidity": 0.2
             }
            },
            "type": "bar"
           }
          ],
          "barpolar": [
           {
            "marker": {
             "line": {
              "color": "#E5ECF6",
              "width": 0.5
             },
             "pattern": {
              "fillmode": "overlay",
              "size": 10,
              "solidity": 0.2
             }
            },
            "type": "barpolar"
           }
          ],
          "carpet": [
           {
            "aaxis": {
             "endlinecolor": "#2a3f5f",
             "gridcolor": "white",
             "linecolor": "white",
             "minorgridcolor": "white",
             "startlinecolor": "#2a3f5f"
            },
            "baxis": {
             "endlinecolor": "#2a3f5f",
             "gridcolor": "white",
             "linecolor": "white",
             "minorgridcolor": "white",
             "startlinecolor": "#2a3f5f"
            },
            "type": "carpet"
           }
          ],
          "choropleth": [
           {
            "colorbar": {
             "outlinewidth": 0,
             "ticks": ""
            },
            "type": "choropleth"
           }
          ],
          "contour": [
           {
            "colorbar": {
             "outlinewidth": 0,
             "ticks": ""
            },
            "colorscale": [
             [
              0,
              "#0d0887"
             ],
             [
              0.1111111111111111,
              "#46039f"
             ],
             [
              0.2222222222222222,
              "#7201a8"
             ],
             [
              0.3333333333333333,
              "#9c179e"
             ],
             [
              0.4444444444444444,
              "#bd3786"
             ],
             [
              0.5555555555555556,
              "#d8576b"
             ],
             [
              0.6666666666666666,
              "#ed7953"
             ],
             [
              0.7777777777777778,
              "#fb9f3a"
             ],
             [
              0.8888888888888888,
              "#fdca26"
             ],
             [
              1,
              "#f0f921"
             ]
            ],
            "type": "contour"
           }
          ],
          "contourcarpet": [
           {
            "colorbar": {
             "outlinewidth": 0,
             "ticks": ""
            },
            "type": "contourcarpet"
           }
          ],
          "heatmap": [
           {
            "colorbar": {
             "outlinewidth": 0,
             "ticks": ""
            },
            "colorscale": [
             [
              0,
              "#0d0887"
             ],
             [
              0.1111111111111111,
              "#46039f"
             ],
             [
              0.2222222222222222,
              "#7201a8"
             ],
             [
              0.3333333333333333,
              "#9c179e"
             ],
             [
              0.4444444444444444,
              "#bd3786"
             ],
             [
              0.5555555555555556,
              "#d8576b"
             ],
             [
              0.6666666666666666,
              "#ed7953"
             ],
             [
              0.7777777777777778,
              "#fb9f3a"
             ],
             [
              0.8888888888888888,
              "#fdca26"
             ],
             [
              1,
              "#f0f921"
             ]
            ],
            "type": "heatmap"
           }
          ],
          "heatmapgl": [
           {
            "colorbar": {
             "outlinewidth": 0,
             "ticks": ""
            },
            "colorscale": [
             [
              0,
              "#0d0887"
             ],
             [
              0.1111111111111111,
              "#46039f"
             ],
             [
              0.2222222222222222,
              "#7201a8"
             ],
             [
              0.3333333333333333,
              "#9c179e"
             ],
             [
              0.4444444444444444,
              "#bd3786"
             ],
             [
              0.5555555555555556,
              "#d8576b"
             ],
             [
              0.6666666666666666,
              "#ed7953"
             ],
             [
              0.7777777777777778,
              "#fb9f3a"
             ],
             [
              0.8888888888888888,
              "#fdca26"
             ],
             [
              1,
              "#f0f921"
             ]
            ],
            "type": "heatmapgl"
           }
          ],
          "histogram": [
           {
            "marker": {
             "pattern": {
              "fillmode": "overlay",
              "size": 10,
              "solidity": 0.2
             }
            },
            "type": "histogram"
           }
          ],
          "histogram2d": [
           {
            "colorbar": {
             "outlinewidth": 0,
             "ticks": ""
            },
            "colorscale": [
             [
              0,
              "#0d0887"
             ],
             [
              0.1111111111111111,
              "#46039f"
             ],
             [
              0.2222222222222222,
              "#7201a8"
             ],
             [
              0.3333333333333333,
              "#9c179e"
             ],
             [
              0.4444444444444444,
              "#bd3786"
             ],
             [
              0.5555555555555556,
              "#d8576b"
             ],
             [
              0.6666666666666666,
              "#ed7953"
             ],
             [
              0.7777777777777778,
              "#fb9f3a"
             ],
             [
              0.8888888888888888,
              "#fdca26"
             ],
             [
              1,
              "#f0f921"
             ]
            ],
            "type": "histogram2d"
           }
          ],
          "histogram2dcontour": [
           {
            "colorbar": {
             "outlinewidth": 0,
             "ticks": ""
            },
            "colorscale": [
             [
              0,
              "#0d0887"
             ],
             [
              0.1111111111111111,
              "#46039f"
             ],
             [
              0.2222222222222222,
              "#7201a8"
             ],
             [
              0.3333333333333333,
              "#9c179e"
             ],
             [
              0.4444444444444444,
              "#bd3786"
             ],
             [
              0.5555555555555556,
              "#d8576b"
             ],
             [
              0.6666666666666666,
              "#ed7953"
             ],
             [
              0.7777777777777778,
              "#fb9f3a"
             ],
             [
              0.8888888888888888,
              "#fdca26"
             ],
             [
              1,
              "#f0f921"
             ]
            ],
            "type": "histogram2dcontour"
           }
          ],
          "mesh3d": [
           {
            "colorbar": {
             "outlinewidth": 0,
             "ticks": ""
            },
            "type": "mesh3d"
           }
          ],
          "parcoords": [
           {
            "line": {
             "colorbar": {
              "outlinewidth": 0,
              "ticks": ""
             }
            },
            "type": "parcoords"
           }
          ],
          "pie": [
           {
            "automargin": true,
            "type": "pie"
           }
          ],
          "scatter": [
           {
            "fillpattern": {
             "fillmode": "overlay",
             "size": 10,
             "solidity": 0.2
            },
            "type": "scatter"
           }
          ],
          "scatter3d": [
           {
            "line": {
             "colorbar": {
              "outlinewidth": 0,
              "ticks": ""
             }
            },
            "marker": {
             "colorbar": {
              "outlinewidth": 0,
              "ticks": ""
             }
            },
            "type": "scatter3d"
           }
          ],
          "scattercarpet": [
           {
            "marker": {
             "colorbar": {
              "outlinewidth": 0,
              "ticks": ""
             }
            },
            "type": "scattercarpet"
           }
          ],
          "scattergeo": [
           {
            "marker": {
             "colorbar": {
              "outlinewidth": 0,
              "ticks": ""
             }
            },
            "type": "scattergeo"
           }
          ],
          "scattergl": [
           {
            "marker": {
             "colorbar": {
              "outlinewidth": 0,
              "ticks": ""
             }
            },
            "type": "scattergl"
           }
          ],
          "scattermapbox": [
           {
            "marker": {
             "colorbar": {
              "outlinewidth": 0,
              "ticks": ""
             }
            },
            "type": "scattermapbox"
           }
          ],
          "scatterpolar": [
           {
            "marker": {
             "colorbar": {
              "outlinewidth": 0,
              "ticks": ""
             }
            },
            "type": "scatterpolar"
           }
          ],
          "scatterpolargl": [
           {
            "marker": {
             "colorbar": {
              "outlinewidth": 0,
              "ticks": ""
             }
            },
            "type": "scatterpolargl"
           }
          ],
          "scatterternary": [
           {
            "marker": {
             "colorbar": {
              "outlinewidth": 0,
              "ticks": ""
             }
            },
            "type": "scatterternary"
           }
          ],
          "surface": [
           {
            "colorbar": {
             "outlinewidth": 0,
             "ticks": ""
            },
            "colorscale": [
             [
              0,
              "#0d0887"
             ],
             [
              0.1111111111111111,
              "#46039f"
             ],
             [
              0.2222222222222222,
              "#7201a8"
             ],
             [
              0.3333333333333333,
              "#9c179e"
             ],
             [
              0.4444444444444444,
              "#bd3786"
             ],
             [
              0.5555555555555556,
              "#d8576b"
             ],
             [
              0.6666666666666666,
              "#ed7953"
             ],
             [
              0.7777777777777778,
              "#fb9f3a"
             ],
             [
              0.8888888888888888,
              "#fdca26"
             ],
             [
              1,
              "#f0f921"
             ]
            ],
            "type": "surface"
           }
          ],
          "table": [
           {
            "cells": {
             "fill": {
              "color": "#EBF0F8"
             },
             "line": {
              "color": "white"
             }
            },
            "header": {
             "fill": {
              "color": "#C8D4E3"
             },
             "line": {
              "color": "white"
             }
            },
            "type": "table"
           }
          ]
         },
         "layout": {
          "annotationdefaults": {
           "arrowcolor": "#2a3f5f",
           "arrowhead": 0,
           "arrowwidth": 1
          },
          "autotypenumbers": "strict",
          "coloraxis": {
           "colorbar": {
            "outlinewidth": 0,
            "ticks": ""
           }
          },
          "colorscale": {
           "diverging": [
            [
             0,
             "#8e0152"
            ],
            [
             0.1,
             "#c51b7d"
            ],
            [
             0.2,
             "#de77ae"
            ],
            [
             0.3,
             "#f1b6da"
            ],
            [
             0.4,
             "#fde0ef"
            ],
            [
             0.5,
             "#f7f7f7"
            ],
            [
             0.6,
             "#e6f5d0"
            ],
            [
             0.7,
             "#b8e186"
            ],
            [
             0.8,
             "#7fbc41"
            ],
            [
             0.9,
             "#4d9221"
            ],
            [
             1,
             "#276419"
            ]
           ],
           "sequential": [
            [
             0,
             "#0d0887"
            ],
            [
             0.1111111111111111,
             "#46039f"
            ],
            [
             0.2222222222222222,
             "#7201a8"
            ],
            [
             0.3333333333333333,
             "#9c179e"
            ],
            [
             0.4444444444444444,
             "#bd3786"
            ],
            [
             0.5555555555555556,
             "#d8576b"
            ],
            [
             0.6666666666666666,
             "#ed7953"
            ],
            [
             0.7777777777777778,
             "#fb9f3a"
            ],
            [
             0.8888888888888888,
             "#fdca26"
            ],
            [
             1,
             "#f0f921"
            ]
           ],
           "sequentialminus": [
            [
             0,
             "#0d0887"
            ],
            [
             0.1111111111111111,
             "#46039f"
            ],
            [
             0.2222222222222222,
             "#7201a8"
            ],
            [
             0.3333333333333333,
             "#9c179e"
            ],
            [
             0.4444444444444444,
             "#bd3786"
            ],
            [
             0.5555555555555556,
             "#d8576b"
            ],
            [
             0.6666666666666666,
             "#ed7953"
            ],
            [
             0.7777777777777778,
             "#fb9f3a"
            ],
            [
             0.8888888888888888,
             "#fdca26"
            ],
            [
             1,
             "#f0f921"
            ]
           ]
          },
          "colorway": [
           "#636efa",
           "#EF553B",
           "#00cc96",
           "#ab63fa",
           "#FFA15A",
           "#19d3f3",
           "#FF6692",
           "#B6E880",
           "#FF97FF",
           "#FECB52"
          ],
          "font": {
           "color": "#2a3f5f"
          },
          "geo": {
           "bgcolor": "white",
           "lakecolor": "white",
           "landcolor": "#E5ECF6",
           "showlakes": true,
           "showland": true,
           "subunitcolor": "white"
          },
          "hoverlabel": {
           "align": "left"
          },
          "hovermode": "closest",
          "mapbox": {
           "style": "light"
          },
          "paper_bgcolor": "white",
          "plot_bgcolor": "#E5ECF6",
          "polar": {
           "angularaxis": {
            "gridcolor": "white",
            "linecolor": "white",
            "ticks": ""
           },
           "bgcolor": "#E5ECF6",
           "radialaxis": {
            "gridcolor": "white",
            "linecolor": "white",
            "ticks": ""
           }
          },
          "scene": {
           "xaxis": {
            "backgroundcolor": "#E5ECF6",
            "gridcolor": "white",
            "gridwidth": 2,
            "linecolor": "white",
            "showbackground": true,
            "ticks": "",
            "zerolinecolor": "white"
           },
           "yaxis": {
            "backgroundcolor": "#E5ECF6",
            "gridcolor": "white",
            "gridwidth": 2,
            "linecolor": "white",
            "showbackground": true,
            "ticks": "",
            "zerolinecolor": "white"
           },
           "zaxis": {
            "backgroundcolor": "#E5ECF6",
            "gridcolor": "white",
            "gridwidth": 2,
            "linecolor": "white",
            "showbackground": true,
            "ticks": "",
            "zerolinecolor": "white"
           }
          },
          "shapedefaults": {
           "line": {
            "color": "#2a3f5f"
           }
          },
          "ternary": {
           "aaxis": {
            "gridcolor": "white",
            "linecolor": "white",
            "ticks": ""
           },
           "baxis": {
            "gridcolor": "white",
            "linecolor": "white",
            "ticks": ""
           },
           "bgcolor": "#E5ECF6",
           "caxis": {
            "gridcolor": "white",
            "linecolor": "white",
            "ticks": ""
           }
          },
          "title": {
           "x": 0.05
          },
          "xaxis": {
           "automargin": true,
           "gridcolor": "white",
           "linecolor": "white",
           "ticks": "",
           "title": {
            "standoff": 15
           },
           "zerolinecolor": "white",
           "zerolinewidth": 2
          },
          "yaxis": {
           "automargin": true,
           "gridcolor": "white",
           "linecolor": "white",
           "ticks": "",
           "title": {
            "standoff": 15
           },
           "zerolinecolor": "white",
           "zerolinewidth": 2
          }
         }
        },
        "title": {
         "text": "ABNB Stock"
        },
        "xaxis": {
         "title": {
          "text": "Date"
         }
        },
        "yaxis": {
         "title": {
          "text": "Close"
         }
        }
       }
      }
     },
     "metadata": {},
     "output_type": "display_data"
    },
    {
     "data": {
      "application/vnd.plotly.v1+json": {
       "config": {
        "plotlyServerURL": "https://plot.ly"
       },
       "data": [
        {
         "mode": "lines",
         "name": "Future Predictions",
         "type": "scatter",
         "x": [
          "2022-10-06T00:00:00",
          "2022-10-07T00:00:00",
          "2022-10-08T00:00:00",
          "2022-10-09T00:00:00",
          "2022-10-10T00:00:00",
          "2022-10-11T00:00:00"
         ],
         "y": [
          111.580002,
          107.17861938476562,
          106.9375228881836,
          107.54222869873047,
          107.63465881347656,
          106.96833038330078
         ]
        },
        {
         "mode": "lines",
         "name": "5-Day Data",
         "type": "scatter",
         "x": [
          "2022-10-06T00:00:00",
          "2022-10-07T00:00:00",
          "2022-10-08T00:00:00",
          "2022-10-09T00:00:00",
          "2022-10-10T00:00:00",
          "2022-10-11T00:00:00"
         ],
         "y": [
          111.58,
          108.540001,
          109.36,
          110.18,
          110.989998,
          106.82
         ]
        },
        {
         "mode": "lines",
         "name": "Ground Truth",
         "type": "scatter",
         "x": [
          "2022-08-31",
          "2022-09-01",
          "2022-09-02",
          "2022-09-06",
          "2022-09-07",
          "2022-09-08",
          "2022-09-09",
          "2022-09-12",
          "2022-09-13",
          "2022-09-14",
          "2022-09-15",
          "2022-09-16",
          "2022-09-19",
          "2022-09-20",
          "2022-09-21",
          "2022-09-22",
          "2022-09-23",
          "2022-09-26",
          "2022-09-27",
          "2022-09-28",
          "2022-09-29",
          "2022-09-30",
          "2022-10-03",
          "2022-10-04",
          "2022-10-05",
          "2022-10-06"
         ],
         "y": [
          113.120003,
          113.400002,
          113.639999,
          113.699997,
          116.07,
          118.580002,
          123.480003,
          124.790001,
          121.540001,
          126.800003,
          125.040001,
          118.75,
          118.779999,
          116.709999,
          114.010002,
          103.720001,
          101.75,
          103.230003,
          106.370003,
          110.690002,
          106.660004,
          105.040001,
          105,
          110.809998,
          111.760002,
          111.580002
         ]
        }
       ],
       "layout": {
        "font": {
         "size": 20
        },
        "template": {
         "data": {
          "bar": [
           {
            "error_x": {
             "color": "#2a3f5f"
            },
            "error_y": {
             "color": "#2a3f5f"
            },
            "marker": {
             "line": {
              "color": "#E5ECF6",
              "width": 0.5
             },
             "pattern": {
              "fillmode": "overlay",
              "size": 10,
              "solidity": 0.2
             }
            },
            "type": "bar"
           }
          ],
          "barpolar": [
           {
            "marker": {
             "line": {
              "color": "#E5ECF6",
              "width": 0.5
             },
             "pattern": {
              "fillmode": "overlay",
              "size": 10,
              "solidity": 0.2
             }
            },
            "type": "barpolar"
           }
          ],
          "carpet": [
           {
            "aaxis": {
             "endlinecolor": "#2a3f5f",
             "gridcolor": "white",
             "linecolor": "white",
             "minorgridcolor": "white",
             "startlinecolor": "#2a3f5f"
            },
            "baxis": {
             "endlinecolor": "#2a3f5f",
             "gridcolor": "white",
             "linecolor": "white",
             "minorgridcolor": "white",
             "startlinecolor": "#2a3f5f"
            },
            "type": "carpet"
           }
          ],
          "choropleth": [
           {
            "colorbar": {
             "outlinewidth": 0,
             "ticks": ""
            },
            "type": "choropleth"
           }
          ],
          "contour": [
           {
            "colorbar": {
             "outlinewidth": 0,
             "ticks": ""
            },
            "colorscale": [
             [
              0,
              "#0d0887"
             ],
             [
              0.1111111111111111,
              "#46039f"
             ],
             [
              0.2222222222222222,
              "#7201a8"
             ],
             [
              0.3333333333333333,
              "#9c179e"
             ],
             [
              0.4444444444444444,
              "#bd3786"
             ],
             [
              0.5555555555555556,
              "#d8576b"
             ],
             [
              0.6666666666666666,
              "#ed7953"
             ],
             [
              0.7777777777777778,
              "#fb9f3a"
             ],
             [
              0.8888888888888888,
              "#fdca26"
             ],
             [
              1,
              "#f0f921"
             ]
            ],
            "type": "contour"
           }
          ],
          "contourcarpet": [
           {
            "colorbar": {
             "outlinewidth": 0,
             "ticks": ""
            },
            "type": "contourcarpet"
           }
          ],
          "heatmap": [
           {
            "colorbar": {
             "outlinewidth": 0,
             "ticks": ""
            },
            "colorscale": [
             [
              0,
              "#0d0887"
             ],
             [
              0.1111111111111111,
              "#46039f"
             ],
             [
              0.2222222222222222,
              "#7201a8"
             ],
             [
              0.3333333333333333,
              "#9c179e"
             ],
             [
              0.4444444444444444,
              "#bd3786"
             ],
             [
              0.5555555555555556,
              "#d8576b"
             ],
             [
              0.6666666666666666,
              "#ed7953"
             ],
             [
              0.7777777777777778,
              "#fb9f3a"
             ],
             [
              0.8888888888888888,
              "#fdca26"
             ],
             [
              1,
              "#f0f921"
             ]
            ],
            "type": "heatmap"
           }
          ],
          "heatmapgl": [
           {
            "colorbar": {
             "outlinewidth": 0,
             "ticks": ""
            },
            "colorscale": [
             [
              0,
              "#0d0887"
             ],
             [
              0.1111111111111111,
              "#46039f"
             ],
             [
              0.2222222222222222,
              "#7201a8"
             ],
             [
              0.3333333333333333,
              "#9c179e"
             ],
             [
              0.4444444444444444,
              "#bd3786"
             ],
             [
              0.5555555555555556,
              "#d8576b"
             ],
             [
              0.6666666666666666,
              "#ed7953"
             ],
             [
              0.7777777777777778,
              "#fb9f3a"
             ],
             [
              0.8888888888888888,
              "#fdca26"
             ],
             [
              1,
              "#f0f921"
             ]
            ],
            "type": "heatmapgl"
           }
          ],
          "histogram": [
           {
            "marker": {
             "pattern": {
              "fillmode": "overlay",
              "size": 10,
              "solidity": 0.2
             }
            },
            "type": "histogram"
           }
          ],
          "histogram2d": [
           {
            "colorbar": {
             "outlinewidth": 0,
             "ticks": ""
            },
            "colorscale": [
             [
              0,
              "#0d0887"
             ],
             [
              0.1111111111111111,
              "#46039f"
             ],
             [
              0.2222222222222222,
              "#7201a8"
             ],
             [
              0.3333333333333333,
              "#9c179e"
             ],
             [
              0.4444444444444444,
              "#bd3786"
             ],
             [
              0.5555555555555556,
              "#d8576b"
             ],
             [
              0.6666666666666666,
              "#ed7953"
             ],
             [
              0.7777777777777778,
              "#fb9f3a"
             ],
             [
              0.8888888888888888,
              "#fdca26"
             ],
             [
              1,
              "#f0f921"
             ]
            ],
            "type": "histogram2d"
           }
          ],
          "histogram2dcontour": [
           {
            "colorbar": {
             "outlinewidth": 0,
             "ticks": ""
            },
            "colorscale": [
             [
              0,
              "#0d0887"
             ],
             [
              0.1111111111111111,
              "#46039f"
             ],
             [
              0.2222222222222222,
              "#7201a8"
             ],
             [
              0.3333333333333333,
              "#9c179e"
             ],
             [
              0.4444444444444444,
              "#bd3786"
             ],
             [
              0.5555555555555556,
              "#d8576b"
             ],
             [
              0.6666666666666666,
              "#ed7953"
             ],
             [
              0.7777777777777778,
              "#fb9f3a"
             ],
             [
              0.8888888888888888,
              "#fdca26"
             ],
             [
              1,
              "#f0f921"
             ]
            ],
            "type": "histogram2dcontour"
           }
          ],
          "mesh3d": [
           {
            "colorbar": {
             "outlinewidth": 0,
             "ticks": ""
            },
            "type": "mesh3d"
           }
          ],
          "parcoords": [
           {
            "line": {
             "colorbar": {
              "outlinewidth": 0,
              "ticks": ""
             }
            },
            "type": "parcoords"
           }
          ],
          "pie": [
           {
            "automargin": true,
            "type": "pie"
           }
          ],
          "scatter": [
           {
            "fillpattern": {
             "fillmode": "overlay",
             "size": 10,
             "solidity": 0.2
            },
            "type": "scatter"
           }
          ],
          "scatter3d": [
           {
            "line": {
             "colorbar": {
              "outlinewidth": 0,
              "ticks": ""
             }
            },
            "marker": {
             "colorbar": {
              "outlinewidth": 0,
              "ticks": ""
             }
            },
            "type": "scatter3d"
           }
          ],
          "scattercarpet": [
           {
            "marker": {
             "colorbar": {
              "outlinewidth": 0,
              "ticks": ""
             }
            },
            "type": "scattercarpet"
           }
          ],
          "scattergeo": [
           {
            "marker": {
             "colorbar": {
              "outlinewidth": 0,
              "ticks": ""
             }
            },
            "type": "scattergeo"
           }
          ],
          "scattergl": [
           {
            "marker": {
             "colorbar": {
              "outlinewidth": 0,
              "ticks": ""
             }
            },
            "type": "scattergl"
           }
          ],
          "scattermapbox": [
           {
            "marker": {
             "colorbar": {
              "outlinewidth": 0,
              "ticks": ""
             }
            },
            "type": "scattermapbox"
           }
          ],
          "scatterpolar": [
           {
            "marker": {
             "colorbar": {
              "outlinewidth": 0,
              "ticks": ""
             }
            },
            "type": "scatterpolar"
           }
          ],
          "scatterpolargl": [
           {
            "marker": {
             "colorbar": {
              "outlinewidth": 0,
              "ticks": ""
             }
            },
            "type": "scatterpolargl"
           }
          ],
          "scatterternary": [
           {
            "marker": {
             "colorbar": {
              "outlinewidth": 0,
              "ticks": ""
             }
            },
            "type": "scatterternary"
           }
          ],
          "surface": [
           {
            "colorbar": {
             "outlinewidth": 0,
             "ticks": ""
            },
            "colorscale": [
             [
              0,
              "#0d0887"
             ],
             [
              0.1111111111111111,
              "#46039f"
             ],
             [
              0.2222222222222222,
              "#7201a8"
             ],
             [
              0.3333333333333333,
              "#9c179e"
             ],
             [
              0.4444444444444444,
              "#bd3786"
             ],
             [
              0.5555555555555556,
              "#d8576b"
             ],
             [
              0.6666666666666666,
              "#ed7953"
             ],
             [
              0.7777777777777778,
              "#fb9f3a"
             ],
             [
              0.8888888888888888,
              "#fdca26"
             ],
             [
              1,
              "#f0f921"
             ]
            ],
            "type": "surface"
           }
          ],
          "table": [
           {
            "cells": {
             "fill": {
              "color": "#EBF0F8"
             },
             "line": {
              "color": "white"
             }
            },
            "header": {
             "fill": {
              "color": "#C8D4E3"
             },
             "line": {
              "color": "white"
             }
            },
            "type": "table"
           }
          ]
         },
         "layout": {
          "annotationdefaults": {
           "arrowcolor": "#2a3f5f",
           "arrowhead": 0,
           "arrowwidth": 1
          },
          "autotypenumbers": "strict",
          "coloraxis": {
           "colorbar": {
            "outlinewidth": 0,
            "ticks": ""
           }
          },
          "colorscale": {
           "diverging": [
            [
             0,
             "#8e0152"
            ],
            [
             0.1,
             "#c51b7d"
            ],
            [
             0.2,
             "#de77ae"
            ],
            [
             0.3,
             "#f1b6da"
            ],
            [
             0.4,
             "#fde0ef"
            ],
            [
             0.5,
             "#f7f7f7"
            ],
            [
             0.6,
             "#e6f5d0"
            ],
            [
             0.7,
             "#b8e186"
            ],
            [
             0.8,
             "#7fbc41"
            ],
            [
             0.9,
             "#4d9221"
            ],
            [
             1,
             "#276419"
            ]
           ],
           "sequential": [
            [
             0,
             "#0d0887"
            ],
            [
             0.1111111111111111,
             "#46039f"
            ],
            [
             0.2222222222222222,
             "#7201a8"
            ],
            [
             0.3333333333333333,
             "#9c179e"
            ],
            [
             0.4444444444444444,
             "#bd3786"
            ],
            [
             0.5555555555555556,
             "#d8576b"
            ],
            [
             0.6666666666666666,
             "#ed7953"
            ],
            [
             0.7777777777777778,
             "#fb9f3a"
            ],
            [
             0.8888888888888888,
             "#fdca26"
            ],
            [
             1,
             "#f0f921"
            ]
           ],
           "sequentialminus": [
            [
             0,
             "#0d0887"
            ],
            [
             0.1111111111111111,
             "#46039f"
            ],
            [
             0.2222222222222222,
             "#7201a8"
            ],
            [
             0.3333333333333333,
             "#9c179e"
            ],
            [
             0.4444444444444444,
             "#bd3786"
            ],
            [
             0.5555555555555556,
             "#d8576b"
            ],
            [
             0.6666666666666666,
             "#ed7953"
            ],
            [
             0.7777777777777778,
             "#fb9f3a"
            ],
            [
             0.8888888888888888,
             "#fdca26"
            ],
            [
             1,
             "#f0f921"
            ]
           ]
          },
          "colorway": [
           "#636efa",
           "#EF553B",
           "#00cc96",
           "#ab63fa",
           "#FFA15A",
           "#19d3f3",
           "#FF6692",
           "#B6E880",
           "#FF97FF",
           "#FECB52"
          ],
          "font": {
           "color": "#2a3f5f"
          },
          "geo": {
           "bgcolor": "white",
           "lakecolor": "white",
           "landcolor": "#E5ECF6",
           "showlakes": true,
           "showland": true,
           "subunitcolor": "white"
          },
          "hoverlabel": {
           "align": "left"
          },
          "hovermode": "closest",
          "mapbox": {
           "style": "light"
          },
          "paper_bgcolor": "white",
          "plot_bgcolor": "#E5ECF6",
          "polar": {
           "angularaxis": {
            "gridcolor": "white",
            "linecolor": "white",
            "ticks": ""
           },
           "bgcolor": "#E5ECF6",
           "radialaxis": {
            "gridcolor": "white",
            "linecolor": "white",
            "ticks": ""
           }
          },
          "scene": {
           "xaxis": {
            "backgroundcolor": "#E5ECF6",
            "gridcolor": "white",
            "gridwidth": 2,
            "linecolor": "white",
            "showbackground": true,
            "ticks": "",
            "zerolinecolor": "white"
           },
           "yaxis": {
            "backgroundcolor": "#E5ECF6",
            "gridcolor": "white",
            "gridwidth": 2,
            "linecolor": "white",
            "showbackground": true,
            "ticks": "",
            "zerolinecolor": "white"
           },
           "zaxis": {
            "backgroundcolor": "#E5ECF6",
            "gridcolor": "white",
            "gridwidth": 2,
            "linecolor": "white",
            "showbackground": true,
            "ticks": "",
            "zerolinecolor": "white"
           }
          },
          "shapedefaults": {
           "line": {
            "color": "#2a3f5f"
           }
          },
          "ternary": {
           "aaxis": {
            "gridcolor": "white",
            "linecolor": "white",
            "ticks": ""
           },
           "baxis": {
            "gridcolor": "white",
            "linecolor": "white",
            "ticks": ""
           },
           "bgcolor": "#E5ECF6",
           "caxis": {
            "gridcolor": "white",
            "linecolor": "white",
            "ticks": ""
           }
          },
          "title": {
           "x": 0.05
          },
          "xaxis": {
           "automargin": true,
           "gridcolor": "white",
           "linecolor": "white",
           "ticks": "",
           "title": {
            "standoff": 15
           },
           "zerolinecolor": "white",
           "zerolinewidth": 2
          },
          "yaxis": {
           "automargin": true,
           "gridcolor": "white",
           "linecolor": "white",
           "ticks": "",
           "title": {
            "standoff": 15
           },
           "zerolinecolor": "white",
           "zerolinewidth": 2
          }
         }
        },
        "title": {
         "text": "ABNB Stock"
        },
        "xaxis": {
         "title": {
          "text": "Date"
         }
        },
        "yaxis": {
         "title": {
          "text": "Close"
         }
        }
       }
      }
     },
     "metadata": {},
     "output_type": "display_data"
    }
   ],
   "source": [
    "pred(df_ABNB,df_ABNB_future,df_ABNB_comp)"
   ]
  },
  {
   "cell_type": "code",
   "execution_count": 25,
   "metadata": {
    "scrolled": false
   },
   "outputs": [
    {
     "name": "stdout",
     "output_type": "stream",
     "text": [
      "Epoch 1/100\n",
      "1/1 [==============================] - 1s 1s/step - loss: 16313.9766\n",
      "Epoch 2/100\n",
      "1/1 [==============================] - 0s 13ms/step - loss: 16279.1123\n",
      "Epoch 3/100\n",
      "1/1 [==============================] - 0s 15ms/step - loss: 16243.2432\n",
      "Epoch 4/100\n",
      "1/1 [==============================] - 0s 14ms/step - loss: 16206.2646\n",
      "Epoch 5/100\n",
      "1/1 [==============================] - 0s 14ms/step - loss: 16168.0186\n",
      "Epoch 6/100\n",
      "1/1 [==============================] - 0s 10ms/step - loss: 16128.2451\n",
      "Epoch 7/100\n",
      "1/1 [==============================] - 0s 10ms/step - loss: 16086.5498\n",
      "Epoch 8/100\n",
      "1/1 [==============================] - 0s 11ms/step - loss: 16042.5205\n",
      "Epoch 9/100\n",
      "1/1 [==============================] - 0s 11ms/step - loss: 15995.7578\n",
      "Epoch 10/100\n",
      "1/1 [==============================] - 0s 12ms/step - loss: 15945.8203\n",
      "Epoch 11/100\n",
      "1/1 [==============================] - 0s 11ms/step - loss: 15892.0898\n",
      "Epoch 12/100\n",
      "1/1 [==============================] - 0s 11ms/step - loss: 15833.5244\n",
      "Epoch 13/100\n",
      "1/1 [==============================] - 0s 10ms/step - loss: 15768.0186\n",
      "Epoch 14/100\n",
      "1/1 [==============================] - 0s 11ms/step - loss: 15691.1455\n",
      "Epoch 15/100\n",
      "1/1 [==============================] - 0s 10ms/step - loss: 15594.7959\n",
      "Epoch 16/100\n",
      "1/1 [==============================] - 0s 11ms/step - loss: 15467.1689\n",
      "Epoch 17/100\n",
      "1/1 [==============================] - 0s 12ms/step - loss: 15293.4111\n",
      "Epoch 18/100\n",
      "1/1 [==============================] - 0s 12ms/step - loss: 15056.2217\n",
      "Epoch 19/100\n",
      "1/1 [==============================] - 0s 12ms/step - loss: 14739.7900\n",
      "Epoch 20/100\n",
      "1/1 [==============================] - 0s 10ms/step - loss: 14341.0664\n",
      "Epoch 21/100\n",
      "1/1 [==============================] - 0s 15ms/step - loss: 13888.2256\n",
      "Epoch 22/100\n",
      "1/1 [==============================] - 0s 13ms/step - loss: 13450.9219\n",
      "Epoch 23/100\n",
      "1/1 [==============================] - 0s 12ms/step - loss: 13108.8359\n",
      "Epoch 24/100\n",
      "1/1 [==============================] - 0s 12ms/step - loss: 12911.2783\n",
      "Epoch 25/100\n",
      "1/1 [==============================] - 0s 11ms/step - loss: 12817.9453\n",
      "Epoch 26/100\n",
      "1/1 [==============================] - 0s 11ms/step - loss: 12679.5830\n",
      "Epoch 27/100\n",
      "1/1 [==============================] - 0s 10ms/step - loss: 12438.5703\n",
      "Epoch 28/100\n",
      "1/1 [==============================] - 0s 11ms/step - loss: 12135.4111\n",
      "Epoch 29/100\n",
      "1/1 [==============================] - 0s 11ms/step - loss: 11832.9189\n",
      "Epoch 30/100\n",
      "1/1 [==============================] - 0s 13ms/step - loss: 11574.1631\n",
      "Epoch 31/100\n",
      "1/1 [==============================] - 0s 13ms/step - loss: 11364.3643\n",
      "Epoch 32/100\n",
      "1/1 [==============================] - 0s 12ms/step - loss: 11186.5664\n",
      "Epoch 33/100\n",
      "1/1 [==============================] - 0s 12ms/step - loss: 11023.1611\n",
      "Epoch 34/100\n",
      "1/1 [==============================] - 0s 11ms/step - loss: 10863.1582\n",
      "Epoch 35/100\n",
      "1/1 [==============================] - 0s 14ms/step - loss: 10701.5752\n",
      "Epoch 36/100\n",
      "1/1 [==============================] - 0s 12ms/step - loss: 10537.3506\n",
      "Epoch 37/100\n",
      "1/1 [==============================] - 0s 11ms/step - loss: 10371.5361\n",
      "Epoch 38/100\n",
      "1/1 [==============================] - 0s 12ms/step - loss: 10205.8906\n",
      "Epoch 39/100\n",
      "1/1 [==============================] - 0s 11ms/step - loss: 10041.9775\n",
      "Epoch 40/100\n",
      "1/1 [==============================] - 0s 11ms/step - loss: 9880.6982\n",
      "Epoch 41/100\n",
      "1/1 [==============================] - 0s 11ms/step - loss: 9722.1787\n",
      "Epoch 42/100\n",
      "1/1 [==============================] - 0s 11ms/step - loss: 9565.9092\n",
      "Epoch 43/100\n",
      "1/1 [==============================] - 0s 12ms/step - loss: 9410.9570\n",
      "Epoch 44/100\n",
      "1/1 [==============================] - 0s 11ms/step - loss: 9256.1270\n",
      "Epoch 45/100\n",
      "1/1 [==============================] - 0s 10ms/step - loss: 9099.9570\n",
      "Epoch 46/100\n",
      "1/1 [==============================] - 0s 12ms/step - loss: 8940.5371\n",
      "Epoch 47/100\n",
      "1/1 [==============================] - 0s 18ms/step - loss: 8775.2471\n",
      "Epoch 48/100\n",
      "1/1 [==============================] - 0s 13ms/step - loss: 8600.4170\n",
      "Epoch 49/100\n",
      "1/1 [==============================] - 0s 11ms/step - loss: 8410.8623\n",
      "Epoch 50/100\n",
      "1/1 [==============================] - 0s 11ms/step - loss: 8199.2236\n",
      "Epoch 51/100\n",
      "1/1 [==============================] - 0s 11ms/step - loss: 7955.4116\n",
      "Epoch 52/100\n",
      "1/1 [==============================] - 0s 11ms/step - loss: 7667.0933\n",
      "Epoch 53/100\n",
      "1/1 [==============================] - 0s 11ms/step - loss: 7322.7563\n",
      "Epoch 54/100\n",
      "1/1 [==============================] - 0s 11ms/step - loss: 6918.2642\n",
      "Epoch 55/100\n",
      "1/1 [==============================] - 0s 11ms/step - loss: 6464.7070\n",
      "Epoch 56/100\n",
      "1/1 [==============================] - 0s 11ms/step - loss: 5989.7817\n",
      "Epoch 57/100\n",
      "1/1 [==============================] - 0s 11ms/step - loss: 5523.7793\n",
      "Epoch 58/100\n",
      "1/1 [==============================] - 0s 12ms/step - loss: 5077.0356\n",
      "Epoch 59/100\n",
      "1/1 [==============================] - 0s 14ms/step - loss: 4633.5654\n",
      "Epoch 60/100\n",
      "1/1 [==============================] - 0s 13ms/step - loss: 4170.2480\n",
      "Epoch 61/100\n",
      "1/1 [==============================] - 0s 16ms/step - loss: 3682.2439\n",
      "Epoch 62/100\n",
      "1/1 [==============================] - 0s 15ms/step - loss: 3193.1824\n",
      "Epoch 63/100\n",
      "1/1 [==============================] - 0s 12ms/step - loss: 2740.7493\n",
      "Epoch 64/100\n",
      "1/1 [==============================] - 0s 10ms/step - loss: 2346.8362\n",
      "Epoch 65/100\n",
      "1/1 [==============================] - 0s 10ms/step - loss: 2009.1552\n",
      "Epoch 66/100\n",
      "1/1 [==============================] - 0s 11ms/step - loss: 1710.9845\n",
      "Epoch 67/100\n",
      "1/1 [==============================] - 0s 11ms/step - loss: 1434.1084\n",
      "Epoch 68/100\n",
      "1/1 [==============================] - 0s 11ms/step - loss: 1167.1229\n",
      "Epoch 69/100\n",
      "1/1 [==============================] - 0s 10ms/step - loss: 906.0563\n",
      "Epoch 70/100\n",
      "1/1 [==============================] - 0s 10ms/step - loss: 654.7835\n",
      "Epoch 71/100\n",
      "1/1 [==============================] - 0s 11ms/step - loss: 433.5938\n",
      "Epoch 72/100\n",
      "1/1 [==============================] - 0s 16ms/step - loss: 264.7289\n",
      "Epoch 73/100\n",
      "1/1 [==============================] - 0s 13ms/step - loss: 150.4391\n",
      "Epoch 74/100\n",
      "1/1 [==============================] - 0s 11ms/step - loss: 81.3598\n",
      "Epoch 75/100\n",
      "1/1 [==============================] - 0s 10ms/step - loss: 49.8775\n",
      "Epoch 76/100\n",
      "1/1 [==============================] - 0s 11ms/step - loss: 50.6908\n",
      "Epoch 77/100\n",
      "1/1 [==============================] - 0s 11ms/step - loss: 75.6177\n",
      "Epoch 78/100\n",
      "1/1 [==============================] - 0s 10ms/step - loss: 113.6258\n",
      "Epoch 79/100\n",
      "1/1 [==============================] - 0s 10ms/step - loss: 154.5440\n",
      "Epoch 80/100\n",
      "1/1 [==============================] - 0s 11ms/step - loss: 190.5792\n",
      "Epoch 81/100\n",
      "1/1 [==============================] - 0s 11ms/step - loss: 216.5898\n",
      "Epoch 82/100\n",
      "1/1 [==============================] - 0s 13ms/step - loss: 229.9703\n",
      "Epoch 83/100\n",
      "1/1 [==============================] - 0s 10ms/step - loss: 230.2681\n",
      "Epoch 84/100\n",
      "1/1 [==============================] - 0s 11ms/step - loss: 218.7595\n",
      "Epoch 85/100\n",
      "1/1 [==============================] - 0s 11ms/step - loss: 198.1860\n",
      "Epoch 86/100\n",
      "1/1 [==============================] - 0s 10ms/step - loss: 172.5854\n",
      "Epoch 87/100\n",
      "1/1 [==============================] - 0s 12ms/step - loss: 146.5474\n",
      "Epoch 88/100\n",
      "1/1 [==============================] - 0s 11ms/step - loss: 123.4535\n",
      "Epoch 89/100\n",
      "1/1 [==============================] - 0s 12ms/step - loss: 104.4066\n",
      "Epoch 90/100\n",
      "1/1 [==============================] - 0s 11ms/step - loss: 89.0631\n",
      "Epoch 91/100\n",
      "1/1 [==============================] - 0s 10ms/step - loss: 76.7860\n",
      "Epoch 92/100\n",
      "1/1 [==============================] - 0s 10ms/step - loss: 67.0647\n",
      "Epoch 93/100\n",
      "1/1 [==============================] - 0s 10ms/step - loss: 59.5186\n",
      "Epoch 94/100\n",
      "1/1 [==============================] - 0s 11ms/step - loss: 53.8354\n",
      "Epoch 95/100\n",
      "1/1 [==============================] - 0s 13ms/step - loss: 49.7354\n",
      "Epoch 96/100\n",
      "1/1 [==============================] - 0s 15ms/step - loss: 46.9584\n",
      "Epoch 97/100\n",
      "1/1 [==============================] - 0s 17ms/step - loss: 45.2614\n",
      "Epoch 98/100\n",
      "1/1 [==============================] - 0s 12ms/step - loss: 44.4196\n",
      "Epoch 99/100\n",
      "1/1 [==============================] - 0s 10ms/step - loss: 44.2284\n",
      "Epoch 100/100\n",
      "1/1 [==============================] - 0s 12ms/step - loss: 44.5036\n",
      "1/1 [==============================] - 0s 128ms/step\n",
      "WARNING:tensorflow:5 out of the last 13 calls to <function Model.make_predict_function.<locals>.predict_function at 0x0000028CF1762EE0> triggered tf.function retracing. Tracing is expensive and the excessive number of tracings could be due to (1) creating @tf.function repeatedly in a loop, (2) passing tensors with different shapes, (3) passing Python objects instead of tensors. For (1), please define your @tf.function outside of the loop. For (2), @tf.function has reduce_retracing=True option that can avoid unnecessary retracing. For (3), please refer to https://www.tensorflow.org/guide/function#controlling_retracing and https://www.tensorflow.org/api_docs/python/tf/function for  more details.\n",
      "1/1 [==============================] - 0s 134ms/step\n",
      "1/1 [==============================] - 0s 14ms/step\n",
      "1/1 [==============================] - 0s 15ms/step\n",
      "1/1 [==============================] - 0s 13ms/step\n",
      "1/1 [==============================] - 0s 16ms/step\n"
     ]
    },
    {
     "data": {
      "application/vnd.plotly.v1+json": {
       "config": {
        "plotlyServerURL": "https://plot.ly"
       },
       "data": [
        {
         "mode": "lines",
         "name": "Training Data",
         "type": "scatter",
         "x": [
          "2022-04-06",
          "2022-04-07",
          "2022-04-08",
          "2022-04-11",
          "2022-04-12",
          "2022-04-13",
          "2022-04-14",
          "2022-04-18",
          "2022-04-19",
          "2022-04-20",
          "2022-04-21",
          "2022-04-22",
          "2022-04-25",
          "2022-04-26",
          "2022-04-27",
          "2022-04-28",
          "2022-04-29",
          "2022-05-02",
          "2022-05-03",
          "2022-05-04",
          "2022-05-05",
          "2022-05-06",
          "2022-05-09",
          "2022-05-10",
          "2022-05-11",
          "2022-05-12",
          "2022-05-13",
          "2022-05-16",
          "2022-05-17",
          "2022-05-18",
          "2022-05-19",
          "2022-05-20",
          "2022-05-23",
          "2022-05-24",
          "2022-05-25",
          "2022-05-26",
          "2022-05-27",
          "2022-05-31",
          "2022-06-01",
          "2022-06-02",
          "2022-06-03",
          "2022-06-06",
          "2022-06-07",
          "2022-06-08",
          "2022-06-09",
          "2022-06-10",
          "2022-06-13",
          "2022-06-14",
          "2022-06-15",
          "2022-06-16",
          "2022-06-17",
          "2022-06-21",
          "2022-06-22",
          "2022-06-23",
          "2022-06-24",
          "2022-06-27",
          "2022-06-28",
          "2022-06-29",
          "2022-06-30",
          "2022-07-01",
          "2022-07-05",
          "2022-07-06",
          "2022-07-07",
          "2022-07-08",
          "2022-07-11",
          "2022-07-12",
          "2022-07-13",
          "2022-07-14",
          "2022-07-15",
          "2022-07-18",
          "2022-07-19",
          "2022-07-20",
          "2022-07-21",
          "2022-07-22",
          "2022-07-25",
          "2022-07-26",
          "2022-07-27",
          "2022-07-28",
          "2022-07-29",
          "2022-08-01",
          "2022-08-02",
          "2022-08-03",
          "2022-08-04",
          "2022-08-05",
          "2022-08-08",
          "2022-08-09",
          "2022-08-10",
          "2022-08-11",
          "2022-08-12",
          "2022-08-15",
          "2022-08-16",
          "2022-08-17",
          "2022-08-18",
          "2022-08-19",
          "2022-08-22",
          "2022-08-23",
          "2022-08-24",
          "2022-08-25",
          "2022-08-26",
          "2022-08-29",
          "2022-08-30"
         ],
         "y": [
          158.755997,
          157.7845,
          154.460495,
          151.121994,
          150.787506,
          155.541,
          151.706497,
          152.785004,
          158.115494,
          153.998001,
          148.296005,
          144.350006,
          146.074005,
          139.391006,
          138.167007,
          144.596497,
          124.281502,
          124.5,
          124.253502,
          125.928497,
          116.406998,
          114.772499,
          108.789001,
          108.859001,
          105.372002,
          106.930496,
          113.055,
          110.810501,
          115.3685,
          107.112503,
          107.319,
          107.591003,
          107.556999,
          104.099998,
          106.775002,
          111.077499,
          115.1465,
          120.209503,
          121.683998,
          125.511002,
          122.349998,
          124.790001,
          123,
          121.18,
          116.150002,
          109.650002,
          103.669998,
          102.309998,
          107.669998,
          103.660004,
          106.220001,
          108.68,
          108.949997,
          112.440002,
          116.459999,
          113.220001,
          107.400002,
          108.919998,
          106.209999,
          109.559998,
          113.5,
          114.330002,
          116.330002,
          115.540001,
          111.75,
          109.220001,
          110.400002,
          110.629997,
          113.550003,
          113.760002,
          118.209999,
          122.769997,
          124.629997,
          122.419998,
          121.139999,
          114.809998,
          120.970001,
          122.279999,
          134.949997,
          135.389999,
          134.160004,
          139.520004,
          142.570007,
          140.800003,
          139.410004,
          137.830002,
          142.690002,
          140.639999,
          143.550003,
          143.179993,
          144.779999,
          142.100006,
          142.300003,
          138.229996,
          133.220001,
          133.619995,
          133.800003,
          137.279999,
          130.75,
          129.789993,
          128.729996
         ]
        },
        {
         "mode": "lines",
         "name": "Testing Training Data",
         "type": "scatter",
         "x": [
          "2022-08-31",
          "2022-09-01",
          "2022-09-02",
          "2022-09-06",
          "2022-09-07",
          "2022-09-08",
          "2022-09-09",
          "2022-09-12",
          "2022-09-13",
          "2022-09-14",
          "2022-09-15",
          "2022-09-16",
          "2022-09-19",
          "2022-09-20",
          "2022-09-21",
          "2022-09-22",
          "2022-09-23",
          "2022-09-26",
          "2022-09-27",
          "2022-09-28",
          "2022-09-29",
          "2022-09-30",
          "2022-10-03",
          "2022-10-04",
          "2022-10-05",
          "2022-10-06"
         ],
         "y": [
          125.46600341796875,
          126.22278594970703,
          127.40242004394531,
          128.63970947265625,
          129.30126953125,
          128.61610412597656,
          127.81765747070312,
          127.4608383178711,
          123.88959503173828,
          123.4301986694336,
          121.63188934326172,
          119.43252563476562,
          117.9119873046875,
          116.1798095703125,
          114.45850372314453,
          114.5975341796875,
          113.7156753540039,
          113.77035522460938,
          113.36832427978516,
          115.29344177246094,
          115.86653137207031
         ]
        },
        {
         "mode": "lines",
         "name": "Ground Truth",
         "type": "scatter",
         "x": [
          "2022-08-31",
          "2022-09-01",
          "2022-09-02",
          "2022-09-06",
          "2022-09-07",
          "2022-09-08",
          "2022-09-09",
          "2022-09-12",
          "2022-09-13",
          "2022-09-14",
          "2022-09-15",
          "2022-09-16",
          "2022-09-19",
          "2022-09-20",
          "2022-09-21",
          "2022-09-22",
          "2022-09-23",
          "2022-09-26",
          "2022-09-27",
          "2022-09-28",
          "2022-09-29",
          "2022-09-30",
          "2022-10-03",
          "2022-10-04",
          "2022-10-05",
          "2022-10-06"
         ],
         "y": [
          126.769997,
          127.82,
          127.510002,
          126.110001,
          129.479996,
          129.820007,
          133.270004,
          136.449997,
          126.82,
          128.550003,
          126.279999,
          123.529999,
          124.660004,
          122.190002,
          118.540001,
          117.309998,
          113.779999,
          115.150002,
          114.410004,
          118.010002,
          114.800003,
          113,
          115.879997,
          121.089996,
          120.949997,
          120.300003
         ]
        }
       ],
       "layout": {
        "font": {
         "size": 20
        },
        "template": {
         "data": {
          "bar": [
           {
            "error_x": {
             "color": "#2a3f5f"
            },
            "error_y": {
             "color": "#2a3f5f"
            },
            "marker": {
             "line": {
              "color": "#E5ECF6",
              "width": 0.5
             },
             "pattern": {
              "fillmode": "overlay",
              "size": 10,
              "solidity": 0.2
             }
            },
            "type": "bar"
           }
          ],
          "barpolar": [
           {
            "marker": {
             "line": {
              "color": "#E5ECF6",
              "width": 0.5
             },
             "pattern": {
              "fillmode": "overlay",
              "size": 10,
              "solidity": 0.2
             }
            },
            "type": "barpolar"
           }
          ],
          "carpet": [
           {
            "aaxis": {
             "endlinecolor": "#2a3f5f",
             "gridcolor": "white",
             "linecolor": "white",
             "minorgridcolor": "white",
             "startlinecolor": "#2a3f5f"
            },
            "baxis": {
             "endlinecolor": "#2a3f5f",
             "gridcolor": "white",
             "linecolor": "white",
             "minorgridcolor": "white",
             "startlinecolor": "#2a3f5f"
            },
            "type": "carpet"
           }
          ],
          "choropleth": [
           {
            "colorbar": {
             "outlinewidth": 0,
             "ticks": ""
            },
            "type": "choropleth"
           }
          ],
          "contour": [
           {
            "colorbar": {
             "outlinewidth": 0,
             "ticks": ""
            },
            "colorscale": [
             [
              0,
              "#0d0887"
             ],
             [
              0.1111111111111111,
              "#46039f"
             ],
             [
              0.2222222222222222,
              "#7201a8"
             ],
             [
              0.3333333333333333,
              "#9c179e"
             ],
             [
              0.4444444444444444,
              "#bd3786"
             ],
             [
              0.5555555555555556,
              "#d8576b"
             ],
             [
              0.6666666666666666,
              "#ed7953"
             ],
             [
              0.7777777777777778,
              "#fb9f3a"
             ],
             [
              0.8888888888888888,
              "#fdca26"
             ],
             [
              1,
              "#f0f921"
             ]
            ],
            "type": "contour"
           }
          ],
          "contourcarpet": [
           {
            "colorbar": {
             "outlinewidth": 0,
             "ticks": ""
            },
            "type": "contourcarpet"
           }
          ],
          "heatmap": [
           {
            "colorbar": {
             "outlinewidth": 0,
             "ticks": ""
            },
            "colorscale": [
             [
              0,
              "#0d0887"
             ],
             [
              0.1111111111111111,
              "#46039f"
             ],
             [
              0.2222222222222222,
              "#7201a8"
             ],
             [
              0.3333333333333333,
              "#9c179e"
             ],
             [
              0.4444444444444444,
              "#bd3786"
             ],
             [
              0.5555555555555556,
              "#d8576b"
             ],
             [
              0.6666666666666666,
              "#ed7953"
             ],
             [
              0.7777777777777778,
              "#fb9f3a"
             ],
             [
              0.8888888888888888,
              "#fdca26"
             ],
             [
              1,
              "#f0f921"
             ]
            ],
            "type": "heatmap"
           }
          ],
          "heatmapgl": [
           {
            "colorbar": {
             "outlinewidth": 0,
             "ticks": ""
            },
            "colorscale": [
             [
              0,
              "#0d0887"
             ],
             [
              0.1111111111111111,
              "#46039f"
             ],
             [
              0.2222222222222222,
              "#7201a8"
             ],
             [
              0.3333333333333333,
              "#9c179e"
             ],
             [
              0.4444444444444444,
              "#bd3786"
             ],
             [
              0.5555555555555556,
              "#d8576b"
             ],
             [
              0.6666666666666666,
              "#ed7953"
             ],
             [
              0.7777777777777778,
              "#fb9f3a"
             ],
             [
              0.8888888888888888,
              "#fdca26"
             ],
             [
              1,
              "#f0f921"
             ]
            ],
            "type": "heatmapgl"
           }
          ],
          "histogram": [
           {
            "marker": {
             "pattern": {
              "fillmode": "overlay",
              "size": 10,
              "solidity": 0.2
             }
            },
            "type": "histogram"
           }
          ],
          "histogram2d": [
           {
            "colorbar": {
             "outlinewidth": 0,
             "ticks": ""
            },
            "colorscale": [
             [
              0,
              "#0d0887"
             ],
             [
              0.1111111111111111,
              "#46039f"
             ],
             [
              0.2222222222222222,
              "#7201a8"
             ],
             [
              0.3333333333333333,
              "#9c179e"
             ],
             [
              0.4444444444444444,
              "#bd3786"
             ],
             [
              0.5555555555555556,
              "#d8576b"
             ],
             [
              0.6666666666666666,
              "#ed7953"
             ],
             [
              0.7777777777777778,
              "#fb9f3a"
             ],
             [
              0.8888888888888888,
              "#fdca26"
             ],
             [
              1,
              "#f0f921"
             ]
            ],
            "type": "histogram2d"
           }
          ],
          "histogram2dcontour": [
           {
            "colorbar": {
             "outlinewidth": 0,
             "ticks": ""
            },
            "colorscale": [
             [
              0,
              "#0d0887"
             ],
             [
              0.1111111111111111,
              "#46039f"
             ],
             [
              0.2222222222222222,
              "#7201a8"
             ],
             [
              0.3333333333333333,
              "#9c179e"
             ],
             [
              0.4444444444444444,
              "#bd3786"
             ],
             [
              0.5555555555555556,
              "#d8576b"
             ],
             [
              0.6666666666666666,
              "#ed7953"
             ],
             [
              0.7777777777777778,
              "#fb9f3a"
             ],
             [
              0.8888888888888888,
              "#fdca26"
             ],
             [
              1,
              "#f0f921"
             ]
            ],
            "type": "histogram2dcontour"
           }
          ],
          "mesh3d": [
           {
            "colorbar": {
             "outlinewidth": 0,
             "ticks": ""
            },
            "type": "mesh3d"
           }
          ],
          "parcoords": [
           {
            "line": {
             "colorbar": {
              "outlinewidth": 0,
              "ticks": ""
             }
            },
            "type": "parcoords"
           }
          ],
          "pie": [
           {
            "automargin": true,
            "type": "pie"
           }
          ],
          "scatter": [
           {
            "fillpattern": {
             "fillmode": "overlay",
             "size": 10,
             "solidity": 0.2
            },
            "type": "scatter"
           }
          ],
          "scatter3d": [
           {
            "line": {
             "colorbar": {
              "outlinewidth": 0,
              "ticks": ""
             }
            },
            "marker": {
             "colorbar": {
              "outlinewidth": 0,
              "ticks": ""
             }
            },
            "type": "scatter3d"
           }
          ],
          "scattercarpet": [
           {
            "marker": {
             "colorbar": {
              "outlinewidth": 0,
              "ticks": ""
             }
            },
            "type": "scattercarpet"
           }
          ],
          "scattergeo": [
           {
            "marker": {
             "colorbar": {
              "outlinewidth": 0,
              "ticks": ""
             }
            },
            "type": "scattergeo"
           }
          ],
          "scattergl": [
           {
            "marker": {
             "colorbar": {
              "outlinewidth": 0,
              "ticks": ""
             }
            },
            "type": "scattergl"
           }
          ],
          "scattermapbox": [
           {
            "marker": {
             "colorbar": {
              "outlinewidth": 0,
              "ticks": ""
             }
            },
            "type": "scattermapbox"
           }
          ],
          "scatterpolar": [
           {
            "marker": {
             "colorbar": {
              "outlinewidth": 0,
              "ticks": ""
             }
            },
            "type": "scatterpolar"
           }
          ],
          "scatterpolargl": [
           {
            "marker": {
             "colorbar": {
              "outlinewidth": 0,
              "ticks": ""
             }
            },
            "type": "scatterpolargl"
           }
          ],
          "scatterternary": [
           {
            "marker": {
             "colorbar": {
              "outlinewidth": 0,
              "ticks": ""
             }
            },
            "type": "scatterternary"
           }
          ],
          "surface": [
           {
            "colorbar": {
             "outlinewidth": 0,
             "ticks": ""
            },
            "colorscale": [
             [
              0,
              "#0d0887"
             ],
             [
              0.1111111111111111,
              "#46039f"
             ],
             [
              0.2222222222222222,
              "#7201a8"
             ],
             [
              0.3333333333333333,
              "#9c179e"
             ],
             [
              0.4444444444444444,
              "#bd3786"
             ],
             [
              0.5555555555555556,
              "#d8576b"
             ],
             [
              0.6666666666666666,
              "#ed7953"
             ],
             [
              0.7777777777777778,
              "#fb9f3a"
             ],
             [
              0.8888888888888888,
              "#fdca26"
             ],
             [
              1,
              "#f0f921"
             ]
            ],
            "type": "surface"
           }
          ],
          "table": [
           {
            "cells": {
             "fill": {
              "color": "#EBF0F8"
             },
             "line": {
              "color": "white"
             }
            },
            "header": {
             "fill": {
              "color": "#C8D4E3"
             },
             "line": {
              "color": "white"
             }
            },
            "type": "table"
           }
          ]
         },
         "layout": {
          "annotationdefaults": {
           "arrowcolor": "#2a3f5f",
           "arrowhead": 0,
           "arrowwidth": 1
          },
          "autotypenumbers": "strict",
          "coloraxis": {
           "colorbar": {
            "outlinewidth": 0,
            "ticks": ""
           }
          },
          "colorscale": {
           "diverging": [
            [
             0,
             "#8e0152"
            ],
            [
             0.1,
             "#c51b7d"
            ],
            [
             0.2,
             "#de77ae"
            ],
            [
             0.3,
             "#f1b6da"
            ],
            [
             0.4,
             "#fde0ef"
            ],
            [
             0.5,
             "#f7f7f7"
            ],
            [
             0.6,
             "#e6f5d0"
            ],
            [
             0.7,
             "#b8e186"
            ],
            [
             0.8,
             "#7fbc41"
            ],
            [
             0.9,
             "#4d9221"
            ],
            [
             1,
             "#276419"
            ]
           ],
           "sequential": [
            [
             0,
             "#0d0887"
            ],
            [
             0.1111111111111111,
             "#46039f"
            ],
            [
             0.2222222222222222,
             "#7201a8"
            ],
            [
             0.3333333333333333,
             "#9c179e"
            ],
            [
             0.4444444444444444,
             "#bd3786"
            ],
            [
             0.5555555555555556,
             "#d8576b"
            ],
            [
             0.6666666666666666,
             "#ed7953"
            ],
            [
             0.7777777777777778,
             "#fb9f3a"
            ],
            [
             0.8888888888888888,
             "#fdca26"
            ],
            [
             1,
             "#f0f921"
            ]
           ],
           "sequentialminus": [
            [
             0,
             "#0d0887"
            ],
            [
             0.1111111111111111,
             "#46039f"
            ],
            [
             0.2222222222222222,
             "#7201a8"
            ],
            [
             0.3333333333333333,
             "#9c179e"
            ],
            [
             0.4444444444444444,
             "#bd3786"
            ],
            [
             0.5555555555555556,
             "#d8576b"
            ],
            [
             0.6666666666666666,
             "#ed7953"
            ],
            [
             0.7777777777777778,
             "#fb9f3a"
            ],
            [
             0.8888888888888888,
             "#fdca26"
            ],
            [
             1,
             "#f0f921"
            ]
           ]
          },
          "colorway": [
           "#636efa",
           "#EF553B",
           "#00cc96",
           "#ab63fa",
           "#FFA15A",
           "#19d3f3",
           "#FF6692",
           "#B6E880",
           "#FF97FF",
           "#FECB52"
          ],
          "font": {
           "color": "#2a3f5f"
          },
          "geo": {
           "bgcolor": "white",
           "lakecolor": "white",
           "landcolor": "#E5ECF6",
           "showlakes": true,
           "showland": true,
           "subunitcolor": "white"
          },
          "hoverlabel": {
           "align": "left"
          },
          "hovermode": "closest",
          "mapbox": {
           "style": "light"
          },
          "paper_bgcolor": "white",
          "plot_bgcolor": "#E5ECF6",
          "polar": {
           "angularaxis": {
            "gridcolor": "white",
            "linecolor": "white",
            "ticks": ""
           },
           "bgcolor": "#E5ECF6",
           "radialaxis": {
            "gridcolor": "white",
            "linecolor": "white",
            "ticks": ""
           }
          },
          "scene": {
           "xaxis": {
            "backgroundcolor": "#E5ECF6",
            "gridcolor": "white",
            "gridwidth": 2,
            "linecolor": "white",
            "showbackground": true,
            "ticks": "",
            "zerolinecolor": "white"
           },
           "yaxis": {
            "backgroundcolor": "#E5ECF6",
            "gridcolor": "white",
            "gridwidth": 2,
            "linecolor": "white",
            "showbackground": true,
            "ticks": "",
            "zerolinecolor": "white"
           },
           "zaxis": {
            "backgroundcolor": "#E5ECF6",
            "gridcolor": "white",
            "gridwidth": 2,
            "linecolor": "white",
            "showbackground": true,
            "ticks": "",
            "zerolinecolor": "white"
           }
          },
          "shapedefaults": {
           "line": {
            "color": "#2a3f5f"
           }
          },
          "ternary": {
           "aaxis": {
            "gridcolor": "white",
            "linecolor": "white",
            "ticks": ""
           },
           "baxis": {
            "gridcolor": "white",
            "linecolor": "white",
            "ticks": ""
           },
           "bgcolor": "#E5ECF6",
           "caxis": {
            "gridcolor": "white",
            "linecolor": "white",
            "ticks": ""
           }
          },
          "title": {
           "x": 0.05
          },
          "xaxis": {
           "automargin": true,
           "gridcolor": "white",
           "linecolor": "white",
           "ticks": "",
           "title": {
            "standoff": 15
           },
           "zerolinecolor": "white",
           "zerolinewidth": 2
          },
          "yaxis": {
           "automargin": true,
           "gridcolor": "white",
           "linecolor": "white",
           "ticks": "",
           "title": {
            "standoff": 15
           },
           "zerolinecolor": "white",
           "zerolinewidth": 2
          }
         }
        },
        "title": {
         "text": "AMZN Stock"
        },
        "xaxis": {
         "title": {
          "text": "Date"
         }
        },
        "yaxis": {
         "title": {
          "text": "Close"
         }
        }
       }
      }
     },
     "metadata": {},
     "output_type": "display_data"
    },
    {
     "data": {
      "application/vnd.plotly.v1+json": {
       "config": {
        "plotlyServerURL": "https://plot.ly"
       },
       "data": [
        {
         "mode": "lines",
         "name": "Future Predictions",
         "type": "scatter",
         "x": [
          "2022-10-06T00:00:00",
          "2022-10-07T00:00:00",
          "2022-10-08T00:00:00",
          "2022-10-09T00:00:00",
          "2022-10-10T00:00:00",
          "2022-10-11T00:00:00"
         ],
         "y": [
          120.300003,
          116.45980072021484,
          116.93575286865234,
          117.5416259765625,
          116.86996459960938,
          116.49872589111328
         ]
        },
        {
         "mode": "lines",
         "name": "5-Day Data",
         "type": "scatter",
         "x": [
          "2022-10-06T00:00:00",
          "2022-10-07T00:00:00",
          "2022-10-08T00:00:00",
          "2022-10-09T00:00:00",
          "2022-10-10T00:00:00",
          "2022-10-11T00:00:00"
         ],
         "y": [
          120.3,
          114.559998,
          114.26,
          113.97,
          113.669998,
          112.209999
         ]
        },
        {
         "mode": "lines",
         "name": "Ground Truth",
         "type": "scatter",
         "x": [
          "2022-08-31",
          "2022-09-01",
          "2022-09-02",
          "2022-09-06",
          "2022-09-07",
          "2022-09-08",
          "2022-09-09",
          "2022-09-12",
          "2022-09-13",
          "2022-09-14",
          "2022-09-15",
          "2022-09-16",
          "2022-09-19",
          "2022-09-20",
          "2022-09-21",
          "2022-09-22",
          "2022-09-23",
          "2022-09-26",
          "2022-09-27",
          "2022-09-28",
          "2022-09-29",
          "2022-09-30",
          "2022-10-03",
          "2022-10-04",
          "2022-10-05",
          "2022-10-06"
         ],
         "y": [
          126.769997,
          127.82,
          127.510002,
          126.110001,
          129.479996,
          129.820007,
          133.270004,
          136.449997,
          126.82,
          128.550003,
          126.279999,
          123.529999,
          124.660004,
          122.190002,
          118.540001,
          117.309998,
          113.779999,
          115.150002,
          114.410004,
          118.010002,
          114.800003,
          113,
          115.879997,
          121.089996,
          120.949997,
          120.300003
         ]
        }
       ],
       "layout": {
        "font": {
         "size": 20
        },
        "template": {
         "data": {
          "bar": [
           {
            "error_x": {
             "color": "#2a3f5f"
            },
            "error_y": {
             "color": "#2a3f5f"
            },
            "marker": {
             "line": {
              "color": "#E5ECF6",
              "width": 0.5
             },
             "pattern": {
              "fillmode": "overlay",
              "size": 10,
              "solidity": 0.2
             }
            },
            "type": "bar"
           }
          ],
          "barpolar": [
           {
            "marker": {
             "line": {
              "color": "#E5ECF6",
              "width": 0.5
             },
             "pattern": {
              "fillmode": "overlay",
              "size": 10,
              "solidity": 0.2
             }
            },
            "type": "barpolar"
           }
          ],
          "carpet": [
           {
            "aaxis": {
             "endlinecolor": "#2a3f5f",
             "gridcolor": "white",
             "linecolor": "white",
             "minorgridcolor": "white",
             "startlinecolor": "#2a3f5f"
            },
            "baxis": {
             "endlinecolor": "#2a3f5f",
             "gridcolor": "white",
             "linecolor": "white",
             "minorgridcolor": "white",
             "startlinecolor": "#2a3f5f"
            },
            "type": "carpet"
           }
          ],
          "choropleth": [
           {
            "colorbar": {
             "outlinewidth": 0,
             "ticks": ""
            },
            "type": "choropleth"
           }
          ],
          "contour": [
           {
            "colorbar": {
             "outlinewidth": 0,
             "ticks": ""
            },
            "colorscale": [
             [
              0,
              "#0d0887"
             ],
             [
              0.1111111111111111,
              "#46039f"
             ],
             [
              0.2222222222222222,
              "#7201a8"
             ],
             [
              0.3333333333333333,
              "#9c179e"
             ],
             [
              0.4444444444444444,
              "#bd3786"
             ],
             [
              0.5555555555555556,
              "#d8576b"
             ],
             [
              0.6666666666666666,
              "#ed7953"
             ],
             [
              0.7777777777777778,
              "#fb9f3a"
             ],
             [
              0.8888888888888888,
              "#fdca26"
             ],
             [
              1,
              "#f0f921"
             ]
            ],
            "type": "contour"
           }
          ],
          "contourcarpet": [
           {
            "colorbar": {
             "outlinewidth": 0,
             "ticks": ""
            },
            "type": "contourcarpet"
           }
          ],
          "heatmap": [
           {
            "colorbar": {
             "outlinewidth": 0,
             "ticks": ""
            },
            "colorscale": [
             [
              0,
              "#0d0887"
             ],
             [
              0.1111111111111111,
              "#46039f"
             ],
             [
              0.2222222222222222,
              "#7201a8"
             ],
             [
              0.3333333333333333,
              "#9c179e"
             ],
             [
              0.4444444444444444,
              "#bd3786"
             ],
             [
              0.5555555555555556,
              "#d8576b"
             ],
             [
              0.6666666666666666,
              "#ed7953"
             ],
             [
              0.7777777777777778,
              "#fb9f3a"
             ],
             [
              0.8888888888888888,
              "#fdca26"
             ],
             [
              1,
              "#f0f921"
             ]
            ],
            "type": "heatmap"
           }
          ],
          "heatmapgl": [
           {
            "colorbar": {
             "outlinewidth": 0,
             "ticks": ""
            },
            "colorscale": [
             [
              0,
              "#0d0887"
             ],
             [
              0.1111111111111111,
              "#46039f"
             ],
             [
              0.2222222222222222,
              "#7201a8"
             ],
             [
              0.3333333333333333,
              "#9c179e"
             ],
             [
              0.4444444444444444,
              "#bd3786"
             ],
             [
              0.5555555555555556,
              "#d8576b"
             ],
             [
              0.6666666666666666,
              "#ed7953"
             ],
             [
              0.7777777777777778,
              "#fb9f3a"
             ],
             [
              0.8888888888888888,
              "#fdca26"
             ],
             [
              1,
              "#f0f921"
             ]
            ],
            "type": "heatmapgl"
           }
          ],
          "histogram": [
           {
            "marker": {
             "pattern": {
              "fillmode": "overlay",
              "size": 10,
              "solidity": 0.2
             }
            },
            "type": "histogram"
           }
          ],
          "histogram2d": [
           {
            "colorbar": {
             "outlinewidth": 0,
             "ticks": ""
            },
            "colorscale": [
             [
              0,
              "#0d0887"
             ],
             [
              0.1111111111111111,
              "#46039f"
             ],
             [
              0.2222222222222222,
              "#7201a8"
             ],
             [
              0.3333333333333333,
              "#9c179e"
             ],
             [
              0.4444444444444444,
              "#bd3786"
             ],
             [
              0.5555555555555556,
              "#d8576b"
             ],
             [
              0.6666666666666666,
              "#ed7953"
             ],
             [
              0.7777777777777778,
              "#fb9f3a"
             ],
             [
              0.8888888888888888,
              "#fdca26"
             ],
             [
              1,
              "#f0f921"
             ]
            ],
            "type": "histogram2d"
           }
          ],
          "histogram2dcontour": [
           {
            "colorbar": {
             "outlinewidth": 0,
             "ticks": ""
            },
            "colorscale": [
             [
              0,
              "#0d0887"
             ],
             [
              0.1111111111111111,
              "#46039f"
             ],
             [
              0.2222222222222222,
              "#7201a8"
             ],
             [
              0.3333333333333333,
              "#9c179e"
             ],
             [
              0.4444444444444444,
              "#bd3786"
             ],
             [
              0.5555555555555556,
              "#d8576b"
             ],
             [
              0.6666666666666666,
              "#ed7953"
             ],
             [
              0.7777777777777778,
              "#fb9f3a"
             ],
             [
              0.8888888888888888,
              "#fdca26"
             ],
             [
              1,
              "#f0f921"
             ]
            ],
            "type": "histogram2dcontour"
           }
          ],
          "mesh3d": [
           {
            "colorbar": {
             "outlinewidth": 0,
             "ticks": ""
            },
            "type": "mesh3d"
           }
          ],
          "parcoords": [
           {
            "line": {
             "colorbar": {
              "outlinewidth": 0,
              "ticks": ""
             }
            },
            "type": "parcoords"
           }
          ],
          "pie": [
           {
            "automargin": true,
            "type": "pie"
           }
          ],
          "scatter": [
           {
            "fillpattern": {
             "fillmode": "overlay",
             "size": 10,
             "solidity": 0.2
            },
            "type": "scatter"
           }
          ],
          "scatter3d": [
           {
            "line": {
             "colorbar": {
              "outlinewidth": 0,
              "ticks": ""
             }
            },
            "marker": {
             "colorbar": {
              "outlinewidth": 0,
              "ticks": ""
             }
            },
            "type": "scatter3d"
           }
          ],
          "scattercarpet": [
           {
            "marker": {
             "colorbar": {
              "outlinewidth": 0,
              "ticks": ""
             }
            },
            "type": "scattercarpet"
           }
          ],
          "scattergeo": [
           {
            "marker": {
             "colorbar": {
              "outlinewidth": 0,
              "ticks": ""
             }
            },
            "type": "scattergeo"
           }
          ],
          "scattergl": [
           {
            "marker": {
             "colorbar": {
              "outlinewidth": 0,
              "ticks": ""
             }
            },
            "type": "scattergl"
           }
          ],
          "scattermapbox": [
           {
            "marker": {
             "colorbar": {
              "outlinewidth": 0,
              "ticks": ""
             }
            },
            "type": "scattermapbox"
           }
          ],
          "scatterpolar": [
           {
            "marker": {
             "colorbar": {
              "outlinewidth": 0,
              "ticks": ""
             }
            },
            "type": "scatterpolar"
           }
          ],
          "scatterpolargl": [
           {
            "marker": {
             "colorbar": {
              "outlinewidth": 0,
              "ticks": ""
             }
            },
            "type": "scatterpolargl"
           }
          ],
          "scatterternary": [
           {
            "marker": {
             "colorbar": {
              "outlinewidth": 0,
              "ticks": ""
             }
            },
            "type": "scatterternary"
           }
          ],
          "surface": [
           {
            "colorbar": {
             "outlinewidth": 0,
             "ticks": ""
            },
            "colorscale": [
             [
              0,
              "#0d0887"
             ],
             [
              0.1111111111111111,
              "#46039f"
             ],
             [
              0.2222222222222222,
              "#7201a8"
             ],
             [
              0.3333333333333333,
              "#9c179e"
             ],
             [
              0.4444444444444444,
              "#bd3786"
             ],
             [
              0.5555555555555556,
              "#d8576b"
             ],
             [
              0.6666666666666666,
              "#ed7953"
             ],
             [
              0.7777777777777778,
              "#fb9f3a"
             ],
             [
              0.8888888888888888,
              "#fdca26"
             ],
             [
              1,
              "#f0f921"
             ]
            ],
            "type": "surface"
           }
          ],
          "table": [
           {
            "cells": {
             "fill": {
              "color": "#EBF0F8"
             },
             "line": {
              "color": "white"
             }
            },
            "header": {
             "fill": {
              "color": "#C8D4E3"
             },
             "line": {
              "color": "white"
             }
            },
            "type": "table"
           }
          ]
         },
         "layout": {
          "annotationdefaults": {
           "arrowcolor": "#2a3f5f",
           "arrowhead": 0,
           "arrowwidth": 1
          },
          "autotypenumbers": "strict",
          "coloraxis": {
           "colorbar": {
            "outlinewidth": 0,
            "ticks": ""
           }
          },
          "colorscale": {
           "diverging": [
            [
             0,
             "#8e0152"
            ],
            [
             0.1,
             "#c51b7d"
            ],
            [
             0.2,
             "#de77ae"
            ],
            [
             0.3,
             "#f1b6da"
            ],
            [
             0.4,
             "#fde0ef"
            ],
            [
             0.5,
             "#f7f7f7"
            ],
            [
             0.6,
             "#e6f5d0"
            ],
            [
             0.7,
             "#b8e186"
            ],
            [
             0.8,
             "#7fbc41"
            ],
            [
             0.9,
             "#4d9221"
            ],
            [
             1,
             "#276419"
            ]
           ],
           "sequential": [
            [
             0,
             "#0d0887"
            ],
            [
             0.1111111111111111,
             "#46039f"
            ],
            [
             0.2222222222222222,
             "#7201a8"
            ],
            [
             0.3333333333333333,
             "#9c179e"
            ],
            [
             0.4444444444444444,
             "#bd3786"
            ],
            [
             0.5555555555555556,
             "#d8576b"
            ],
            [
             0.6666666666666666,
             "#ed7953"
            ],
            [
             0.7777777777777778,
             "#fb9f3a"
            ],
            [
             0.8888888888888888,
             "#fdca26"
            ],
            [
             1,
             "#f0f921"
            ]
           ],
           "sequentialminus": [
            [
             0,
             "#0d0887"
            ],
            [
             0.1111111111111111,
             "#46039f"
            ],
            [
             0.2222222222222222,
             "#7201a8"
            ],
            [
             0.3333333333333333,
             "#9c179e"
            ],
            [
             0.4444444444444444,
             "#bd3786"
            ],
            [
             0.5555555555555556,
             "#d8576b"
            ],
            [
             0.6666666666666666,
             "#ed7953"
            ],
            [
             0.7777777777777778,
             "#fb9f3a"
            ],
            [
             0.8888888888888888,
             "#fdca26"
            ],
            [
             1,
             "#f0f921"
            ]
           ]
          },
          "colorway": [
           "#636efa",
           "#EF553B",
           "#00cc96",
           "#ab63fa",
           "#FFA15A",
           "#19d3f3",
           "#FF6692",
           "#B6E880",
           "#FF97FF",
           "#FECB52"
          ],
          "font": {
           "color": "#2a3f5f"
          },
          "geo": {
           "bgcolor": "white",
           "lakecolor": "white",
           "landcolor": "#E5ECF6",
           "showlakes": true,
           "showland": true,
           "subunitcolor": "white"
          },
          "hoverlabel": {
           "align": "left"
          },
          "hovermode": "closest",
          "mapbox": {
           "style": "light"
          },
          "paper_bgcolor": "white",
          "plot_bgcolor": "#E5ECF6",
          "polar": {
           "angularaxis": {
            "gridcolor": "white",
            "linecolor": "white",
            "ticks": ""
           },
           "bgcolor": "#E5ECF6",
           "radialaxis": {
            "gridcolor": "white",
            "linecolor": "white",
            "ticks": ""
           }
          },
          "scene": {
           "xaxis": {
            "backgroundcolor": "#E5ECF6",
            "gridcolor": "white",
            "gridwidth": 2,
            "linecolor": "white",
            "showbackground": true,
            "ticks": "",
            "zerolinecolor": "white"
           },
           "yaxis": {
            "backgroundcolor": "#E5ECF6",
            "gridcolor": "white",
            "gridwidth": 2,
            "linecolor": "white",
            "showbackground": true,
            "ticks": "",
            "zerolinecolor": "white"
           },
           "zaxis": {
            "backgroundcolor": "#E5ECF6",
            "gridcolor": "white",
            "gridwidth": 2,
            "linecolor": "white",
            "showbackground": true,
            "ticks": "",
            "zerolinecolor": "white"
           }
          },
          "shapedefaults": {
           "line": {
            "color": "#2a3f5f"
           }
          },
          "ternary": {
           "aaxis": {
            "gridcolor": "white",
            "linecolor": "white",
            "ticks": ""
           },
           "baxis": {
            "gridcolor": "white",
            "linecolor": "white",
            "ticks": ""
           },
           "bgcolor": "#E5ECF6",
           "caxis": {
            "gridcolor": "white",
            "linecolor": "white",
            "ticks": ""
           }
          },
          "title": {
           "x": 0.05
          },
          "xaxis": {
           "automargin": true,
           "gridcolor": "white",
           "linecolor": "white",
           "ticks": "",
           "title": {
            "standoff": 15
           },
           "zerolinecolor": "white",
           "zerolinewidth": 2
          },
          "yaxis": {
           "automargin": true,
           "gridcolor": "white",
           "linecolor": "white",
           "ticks": "",
           "title": {
            "standoff": 15
           },
           "zerolinecolor": "white",
           "zerolinewidth": 2
          }
         }
        },
        "title": {
         "text": "AMZN Stock"
        },
        "xaxis": {
         "title": {
          "text": "Date"
         }
        },
        "yaxis": {
         "title": {
          "text": "Close"
         }
        }
       }
      }
     },
     "metadata": {},
     "output_type": "display_data"
    }
   ],
   "source": [
    "pred(df_AMZN,df_AMZN_future,df_AMZN_comp)"
   ]
  },
  {
   "cell_type": "code",
   "execution_count": 26,
   "metadata": {
    "scrolled": false
   },
   "outputs": [],
   "source": [
    "#pred(df_BTC,df_BTC_future,df_BTC_comp)"
   ]
  },
  {
   "cell_type": "code",
   "execution_count": 27,
   "metadata": {
    "scrolled": false
   },
   "outputs": [
    {
     "name": "stdout",
     "output_type": "stream",
     "text": [
      "Epoch 1/100\n",
      "1/1 [==============================] - 1s 866ms/step - loss: 64437.5312\n",
      "Epoch 2/100\n",
      "1/1 [==============================] - 0s 10ms/step - loss: 64039.8398\n",
      "Epoch 3/100\n",
      "1/1 [==============================] - 0s 11ms/step - loss: 63633.2539\n",
      "Epoch 4/100\n",
      "1/1 [==============================] - 0s 11ms/step - loss: 63214.6719\n",
      "Epoch 5/100\n",
      "1/1 [==============================] - 0s 11ms/step - loss: 62780.0312\n",
      "Epoch 6/100\n",
      "1/1 [==============================] - 0s 11ms/step - loss: 62323.9961\n",
      "Epoch 7/100\n",
      "1/1 [==============================] - 0s 10ms/step - loss: 61839.5820\n",
      "Epoch 8/100\n",
      "1/1 [==============================] - 0s 13ms/step - loss: 61312.7070\n",
      "Epoch 9/100\n",
      "1/1 [==============================] - 0s 13ms/step - loss: 60737.4531\n",
      "Epoch 10/100\n",
      "1/1 [==============================] - 0s 12ms/step - loss: 60102.5195\n",
      "Epoch 11/100\n",
      "1/1 [==============================] - 0s 25ms/step - loss: 59384.8242\n",
      "Epoch 12/100\n",
      "1/1 [==============================] - 0s 13ms/step - loss: 58519.1680\n",
      "Epoch 13/100\n",
      "1/1 [==============================] - 0s 12ms/step - loss: 57521.0273\n",
      "Epoch 14/100\n",
      "1/1 [==============================] - 0s 12ms/step - loss: 56268.7461\n",
      "Epoch 15/100\n",
      "1/1 [==============================] - 0s 12ms/step - loss: 54698.0938\n",
      "Epoch 16/100\n",
      "1/1 [==============================] - 0s 13ms/step - loss: 52617.5312\n",
      "Epoch 17/100\n",
      "1/1 [==============================] - 0s 12ms/step - loss: 50290.8906\n",
      "Epoch 18/100\n",
      "1/1 [==============================] - 0s 12ms/step - loss: 48083.3555\n",
      "Epoch 19/100\n",
      "1/1 [==============================] - 0s 14ms/step - loss: 46410.8242\n",
      "Epoch 20/100\n",
      "1/1 [==============================] - 0s 15ms/step - loss: 45272.9336\n",
      "Epoch 21/100\n",
      "1/1 [==============================] - 0s 14ms/step - loss: 44484.2812\n",
      "Epoch 22/100\n",
      "1/1 [==============================] - 0s 12ms/step - loss: 43902.0469\n",
      "Epoch 23/100\n",
      "1/1 [==============================] - 0s 11ms/step - loss: 43441.2500\n",
      "Epoch 24/100\n",
      "1/1 [==============================] - 0s 12ms/step - loss: 43053.9961\n",
      "Epoch 25/100\n",
      "1/1 [==============================] - 0s 13ms/step - loss: 42713.9766\n",
      "Epoch 26/100\n",
      "1/1 [==============================] - 0s 11ms/step - loss: 42407.2383\n",
      "Epoch 27/100\n",
      "1/1 [==============================] - 0s 14ms/step - loss: 42126.6016\n",
      "Epoch 28/100\n",
      "1/1 [==============================] - 0s 13ms/step - loss: 41868.1133\n",
      "Epoch 29/100\n",
      "1/1 [==============================] - 0s 13ms/step - loss: 41628.8398\n",
      "Epoch 30/100\n",
      "1/1 [==============================] - 0s 14ms/step - loss: 41405.7930\n",
      "Epoch 31/100\n",
      "1/1 [==============================] - 0s 12ms/step - loss: 41195.7188\n",
      "Epoch 32/100\n",
      "1/1 [==============================] - 0s 12ms/step - loss: 40995.2461\n",
      "Epoch 33/100\n",
      "1/1 [==============================] - 0s 12ms/step - loss: 40801.1289\n",
      "Epoch 34/100\n",
      "1/1 [==============================] - 0s 12ms/step - loss: 40610.3633\n",
      "Epoch 35/100\n",
      "1/1 [==============================] - 0s 19ms/step - loss: 40420.1758\n",
      "Epoch 36/100\n",
      "1/1 [==============================] - 0s 15ms/step - loss: 40227.9141\n",
      "Epoch 37/100\n",
      "1/1 [==============================] - 0s 12ms/step - loss: 40031.1055\n",
      "Epoch 38/100\n",
      "1/1 [==============================] - 0s 11ms/step - loss: 39827.8125\n",
      "Epoch 39/100\n",
      "1/1 [==============================] - 0s 11ms/step - loss: 39617.4219\n",
      "Epoch 40/100\n",
      "1/1 [==============================] - 0s 11ms/step - loss: 39401.3438\n",
      "Epoch 41/100\n",
      "1/1 [==============================] - 0s 10ms/step - loss: 39182.7500\n",
      "Epoch 42/100\n",
      "1/1 [==============================] - 0s 11ms/step - loss: 38964.8008\n",
      "Epoch 43/100\n",
      "1/1 [==============================] - 0s 10ms/step - loss: 38748.7422\n",
      "Epoch 44/100\n",
      "1/1 [==============================] - 0s 11ms/step - loss: 38533.7227\n",
      "Epoch 45/100\n",
      "1/1 [==============================] - 0s 11ms/step - loss: 38317.9492\n",
      "Epoch 46/100\n",
      "1/1 [==============================] - 0s 10ms/step - loss: 38099.6523\n",
      "Epoch 47/100\n",
      "1/1 [==============================] - 0s 11ms/step - loss: 37877.2539\n",
      "Epoch 48/100\n",
      "1/1 [==============================] - 0s 12ms/step - loss: 37649.2344\n",
      "Epoch 49/100\n",
      "1/1 [==============================] - 0s 11ms/step - loss: 37413.9844\n",
      "Epoch 50/100\n",
      "1/1 [==============================] - 0s 10ms/step - loss: 37169.7383\n",
      "Epoch 51/100\n",
      "1/1 [==============================] - 0s 10ms/step - loss: 36914.3242\n",
      "Epoch 52/100\n",
      "1/1 [==============================] - 0s 11ms/step - loss: 36644.8086\n",
      "Epoch 53/100\n",
      "1/1 [==============================] - 0s 10ms/step - loss: 36357.1562\n",
      "Epoch 54/100\n",
      "1/1 [==============================] - 0s 11ms/step - loss: 36046.2852\n",
      "Epoch 55/100\n",
      "1/1 [==============================] - 0s 10ms/step - loss: 35707.3750\n",
      "Epoch 56/100\n",
      "1/1 [==============================] - 0s 11ms/step - loss: 35339.0156\n",
      "Epoch 57/100\n",
      "1/1 [==============================] - 0s 11ms/step - loss: 34946.0273\n",
      "Epoch 58/100\n",
      "1/1 [==============================] - 0s 10ms/step - loss: 34535.3008\n",
      "Epoch 59/100\n",
      "1/1 [==============================] - 0s 15ms/step - loss: 34104.3984\n",
      "Epoch 60/100\n",
      "1/1 [==============================] - 0s 12ms/step - loss: 33634.4258\n",
      "Epoch 61/100\n",
      "1/1 [==============================] - 0s 24ms/step - loss: 33090.4258\n",
      "Epoch 62/100\n",
      "1/1 [==============================] - 0s 16ms/step - loss: 32422.7285\n",
      "Epoch 63/100\n",
      "1/1 [==============================] - 0s 11ms/step - loss: 31572.2051\n",
      "Epoch 64/100\n",
      "1/1 [==============================] - 0s 11ms/step - loss: 30497.1504\n",
      "Epoch 65/100\n",
      "1/1 [==============================] - 0s 11ms/step - loss: 29262.1074\n",
      "Epoch 66/100\n",
      "1/1 [==============================] - 0s 11ms/step - loss: 28129.0059\n",
      "Epoch 67/100\n",
      "1/1 [==============================] - 0s 11ms/step - loss: 27325.7012\n",
      "Epoch 68/100\n",
      "1/1 [==============================] - 0s 10ms/step - loss: 26749.5840\n",
      "Epoch 69/100\n",
      "1/1 [==============================] - 0s 10ms/step - loss: 26224.7891\n",
      "Epoch 70/100\n",
      "1/1 [==============================] - 0s 12ms/step - loss: 25679.4082\n",
      "Epoch 71/100\n",
      "1/1 [==============================] - 0s 11ms/step - loss: 25109.5312\n",
      "Epoch 72/100\n",
      "1/1 [==============================] - 0s 10ms/step - loss: 24539.5098\n",
      "Epoch 73/100\n",
      "1/1 [==============================] - 0s 11ms/step - loss: 23985.9531\n",
      "Epoch 74/100\n",
      "1/1 [==============================] - 0s 10ms/step - loss: 23445.1270\n",
      "Epoch 75/100\n",
      "1/1 [==============================] - 0s 11ms/step - loss: 22909.1465\n",
      "Epoch 76/100\n",
      "1/1 [==============================] - 0s 11ms/step - loss: 22381.1660\n",
      "Epoch 77/100\n",
      "1/1 [==============================] - 0s 11ms/step - loss: 21866.7832\n",
      "Epoch 78/100\n",
      "1/1 [==============================] - 0s 10ms/step - loss: 21359.6953\n",
      "Epoch 79/100\n",
      "1/1 [==============================] - 0s 10ms/step - loss: 20845.0625\n",
      "Epoch 80/100\n",
      "1/1 [==============================] - 0s 12ms/step - loss: 20310.4062\n",
      "Epoch 81/100\n",
      "1/1 [==============================] - 0s 10ms/step - loss: 19753.0020\n",
      "Epoch 82/100\n",
      "1/1 [==============================] - 0s 13ms/step - loss: 19181.0957\n",
      "Epoch 83/100\n",
      "1/1 [==============================] - 0s 10ms/step - loss: 18606.3652\n",
      "Epoch 84/100\n",
      "1/1 [==============================] - 0s 11ms/step - loss: 18036.0566\n",
      "Epoch 85/100\n",
      "1/1 [==============================] - 0s 11ms/step - loss: 17473.4629\n",
      "Epoch 86/100\n",
      "1/1 [==============================] - 0s 15ms/step - loss: 16920.5176\n",
      "Epoch 87/100\n",
      "1/1 [==============================] - 0s 13ms/step - loss: 16367.4326\n",
      "Epoch 88/100\n",
      "1/1 [==============================] - 0s 13ms/step - loss: 15795.3232\n",
      "Epoch 89/100\n",
      "1/1 [==============================] - 0s 14ms/step - loss: 15223.5742\n",
      "Epoch 90/100\n",
      "1/1 [==============================] - 0s 14ms/step - loss: 14660.8779\n",
      "Epoch 91/100\n",
      "1/1 [==============================] - 0s 11ms/step - loss: 14105.9062\n",
      "Epoch 92/100\n",
      "1/1 [==============================] - 0s 11ms/step - loss: 13569.8516\n",
      "Epoch 93/100\n",
      "1/1 [==============================] - 0s 11ms/step - loss: 13052.1904\n",
      "Epoch 94/100\n",
      "1/1 [==============================] - 0s 12ms/step - loss: 12551.8438\n",
      "Epoch 95/100\n",
      "1/1 [==============================] - 0s 10ms/step - loss: 12068.2764\n",
      "Epoch 96/100\n",
      "1/1 [==============================] - 0s 10ms/step - loss: 11600.0186\n",
      "Epoch 97/100\n",
      "1/1 [==============================] - 0s 10ms/step - loss: 11141.1641\n",
      "Epoch 98/100\n",
      "1/1 [==============================] - 0s 11ms/step - loss: 10689.8398\n",
      "Epoch 99/100\n",
      "1/1 [==============================] - 0s 13ms/step - loss: 10248.7344\n",
      "Epoch 100/100\n",
      "1/1 [==============================] - 0s 13ms/step - loss: 9812.4736\n",
      "1/1 [==============================] - 0s 131ms/step\n",
      "1/1 [==============================] - 0s 129ms/step\n",
      "1/1 [==============================] - 0s 30ms/step\n",
      "1/1 [==============================] - 0s 16ms/step\n",
      "1/1 [==============================] - 0s 13ms/step\n",
      "1/1 [==============================] - 0s 17ms/step\n"
     ]
    },
    {
     "data": {
      "application/vnd.plotly.v1+json": {
       "config": {
        "plotlyServerURL": "https://plot.ly"
       },
       "data": [
        {
         "mode": "lines",
         "name": "Training Data",
         "type": "scatter",
         "x": [
          "2022-04-06",
          "2022-04-07",
          "2022-04-08",
          "2022-04-11",
          "2022-04-12",
          "2022-04-13",
          "2022-04-14",
          "2022-04-18",
          "2022-04-19",
          "2022-04-20",
          "2022-04-21",
          "2022-04-22",
          "2022-04-25",
          "2022-04-26",
          "2022-04-27",
          "2022-04-28",
          "2022-04-29",
          "2022-05-02",
          "2022-05-03",
          "2022-05-04",
          "2022-05-05",
          "2022-05-06",
          "2022-05-09",
          "2022-05-10",
          "2022-05-11",
          "2022-05-12",
          "2022-05-13",
          "2022-05-16",
          "2022-05-17",
          "2022-05-18",
          "2022-05-19",
          "2022-05-20",
          "2022-05-23",
          "2022-05-24",
          "2022-05-25",
          "2022-05-26",
          "2022-05-27",
          "2022-05-31",
          "2022-06-01",
          "2022-06-02",
          "2022-06-03",
          "2022-06-06",
          "2022-06-07",
          "2022-06-08",
          "2022-06-09",
          "2022-06-10",
          "2022-06-13",
          "2022-06-14",
          "2022-06-15",
          "2022-06-16",
          "2022-06-17",
          "2022-06-21",
          "2022-06-22",
          "2022-06-23",
          "2022-06-24",
          "2022-06-27",
          "2022-06-28",
          "2022-06-29",
          "2022-06-30",
          "2022-07-01",
          "2022-07-05",
          "2022-07-06",
          "2022-07-07",
          "2022-07-08",
          "2022-07-11",
          "2022-07-12",
          "2022-07-13",
          "2022-07-14",
          "2022-07-15",
          "2022-07-18",
          "2022-07-19",
          "2022-07-20",
          "2022-07-21",
          "2022-07-22",
          "2022-07-25",
          "2022-07-26",
          "2022-07-27",
          "2022-07-28",
          "2022-07-29",
          "2022-08-01",
          "2022-08-02",
          "2022-08-03",
          "2022-08-04",
          "2022-08-05",
          "2022-08-08",
          "2022-08-09",
          "2022-08-10",
          "2022-08-11",
          "2022-08-12",
          "2022-08-15",
          "2022-08-16",
          "2022-08-17",
          "2022-08-18",
          "2022-08-19",
          "2022-08-22",
          "2022-08-23",
          "2022-08-24",
          "2022-08-25",
          "2022-08-26",
          "2022-08-29",
          "2022-08-30"
         ],
         "y": [
          204,
          203.770004,
          201.520004,
          204.119995,
          204.380005,
          206.309998,
          205.740005,
          203.259995,
          208.809998,
          209.190002,
          206.860001,
          205.210007,
          205.399994,
          200,
          199.259995,
          206.850006,
          198.740005,
          197.009995,
          199.440002,
          209.490005,
          207.240005,
          210.210007,
          208.270004,
          208.059998,
          207.199997,
          208.199997,
          211.289993,
          209.720001,
          221.5,
          203.570007,
          199.050003,
          200.899994,
          204.690002,
          205.25,
          204.309998,
          212.289993,
          219.669998,
          224.580002,
          218.669998,
          221.520004,
          218.699997,
          222.850006,
          221.369995,
          217.169998,
          217,
          206.770004,
          200.979996,
          229.949997,
          232.779999,
          225.309998,
          229.899994,
          230.520004,
          229.020004,
          228.130005,
          243.240005,
          240.470001,
          240.089996,
          233.809998,
          226.710007,
          223.610001,
          229.610001,
          227.720001,
          231.350006,
          230.490005,
          224.190002,
          222.979996,
          216.130005,
          214.289993,
          217.830002,
          217.979996,
          225.429993,
          227.660004,
          227.660004,
          227.300003,
          228.169998,
          224.869995,
          227.630005,
          229.809998,
          233.089996,
          237.699997,
          233.270004,
          233.190002,
          236.100006,
          234.889999,
          229.020004,
          224.970001,
          232.449997,
          229.240005,
          230.679993,
          233.210007,
          238.220001,
          233.419998,
          234.869995,
          231.729996,
          223.570007,
          225.259995,
          226.059998,
          228.029999,
          218.160004,
          216.729996,
          213.479996
         ]
        },
        {
         "mode": "lines",
         "name": "Testing Training Data",
         "type": "scatter",
         "x": [
          "2022-08-31",
          "2022-09-01",
          "2022-09-02",
          "2022-09-06",
          "2022-09-07",
          "2022-09-08",
          "2022-09-09",
          "2022-09-12",
          "2022-09-13",
          "2022-09-14",
          "2022-09-15",
          "2022-09-16",
          "2022-09-19",
          "2022-09-20",
          "2022-09-21",
          "2022-09-22",
          "2022-09-23",
          "2022-09-26",
          "2022-09-27",
          "2022-09-28",
          "2022-09-29",
          "2022-09-30",
          "2022-10-03",
          "2022-10-04",
          "2022-10-05",
          "2022-10-06"
         ],
         "y": [
          117.05999755859375,
          116.14440155029297,
          115.49232482910156,
          115.69078826904297,
          115.93780517578125,
          116.59998321533203,
          117.06388092041016,
          112.79700469970703,
          107.5525131225586,
          102.2895278930664,
          95.87381744384766,
          89.26026153564453,
          88.01680755615234,
          85.81466674804688,
          84.38648223876953,
          83.79635620117188,
          83.15351104736328,
          82.98683166503906,
          84.07176208496094,
          85.58514404296875,
          86.28531646728516
         ]
        },
        {
         "mode": "lines",
         "name": "Ground Truth",
         "type": "scatter",
         "x": [
          "2022-08-31",
          "2022-09-01",
          "2022-09-02",
          "2022-09-06",
          "2022-09-07",
          "2022-09-08",
          "2022-09-09",
          "2022-09-12",
          "2022-09-13",
          "2022-09-14",
          "2022-09-15",
          "2022-09-16",
          "2022-09-19",
          "2022-09-20",
          "2022-09-21",
          "2022-09-22",
          "2022-09-23",
          "2022-09-26",
          "2022-09-27",
          "2022-09-28",
          "2022-09-29",
          "2022-09-30",
          "2022-10-03",
          "2022-10-04",
          "2022-10-05",
          "2022-10-06"
         ],
         "y": [
          210.809998,
          211.860001,
          208.720001,
          204.169998,
          201.619995,
          202.869995,
          209.070007,
          213.839996,
          205.339996,
          205.009995,
          204.869995,
          161.020004,
          162.899994,
          157.399994,
          153.25,
          154.539993,
          149.330002,
          142.899994,
          144.949997,
          149.990005,
          152.309998,
          148.470001,
          151.460007,
          159.119995,
          156.869995,
          155.190002
         ]
        }
       ],
       "layout": {
        "font": {
         "size": 20
        },
        "template": {
         "data": {
          "bar": [
           {
            "error_x": {
             "color": "#2a3f5f"
            },
            "error_y": {
             "color": "#2a3f5f"
            },
            "marker": {
             "line": {
              "color": "#E5ECF6",
              "width": 0.5
             },
             "pattern": {
              "fillmode": "overlay",
              "size": 10,
              "solidity": 0.2
             }
            },
            "type": "bar"
           }
          ],
          "barpolar": [
           {
            "marker": {
             "line": {
              "color": "#E5ECF6",
              "width": 0.5
             },
             "pattern": {
              "fillmode": "overlay",
              "size": 10,
              "solidity": 0.2
             }
            },
            "type": "barpolar"
           }
          ],
          "carpet": [
           {
            "aaxis": {
             "endlinecolor": "#2a3f5f",
             "gridcolor": "white",
             "linecolor": "white",
             "minorgridcolor": "white",
             "startlinecolor": "#2a3f5f"
            },
            "baxis": {
             "endlinecolor": "#2a3f5f",
             "gridcolor": "white",
             "linecolor": "white",
             "minorgridcolor": "white",
             "startlinecolor": "#2a3f5f"
            },
            "type": "carpet"
           }
          ],
          "choropleth": [
           {
            "colorbar": {
             "outlinewidth": 0,
             "ticks": ""
            },
            "type": "choropleth"
           }
          ],
          "contour": [
           {
            "colorbar": {
             "outlinewidth": 0,
             "ticks": ""
            },
            "colorscale": [
             [
              0,
              "#0d0887"
             ],
             [
              0.1111111111111111,
              "#46039f"
             ],
             [
              0.2222222222222222,
              "#7201a8"
             ],
             [
              0.3333333333333333,
              "#9c179e"
             ],
             [
              0.4444444444444444,
              "#bd3786"
             ],
             [
              0.5555555555555556,
              "#d8576b"
             ],
             [
              0.6666666666666666,
              "#ed7953"
             ],
             [
              0.7777777777777778,
              "#fb9f3a"
             ],
             [
              0.8888888888888888,
              "#fdca26"
             ],
             [
              1,
              "#f0f921"
             ]
            ],
            "type": "contour"
           }
          ],
          "contourcarpet": [
           {
            "colorbar": {
             "outlinewidth": 0,
             "ticks": ""
            },
            "type": "contourcarpet"
           }
          ],
          "heatmap": [
           {
            "colorbar": {
             "outlinewidth": 0,
             "ticks": ""
            },
            "colorscale": [
             [
              0,
              "#0d0887"
             ],
             [
              0.1111111111111111,
              "#46039f"
             ],
             [
              0.2222222222222222,
              "#7201a8"
             ],
             [
              0.3333333333333333,
              "#9c179e"
             ],
             [
              0.4444444444444444,
              "#bd3786"
             ],
             [
              0.5555555555555556,
              "#d8576b"
             ],
             [
              0.6666666666666666,
              "#ed7953"
             ],
             [
              0.7777777777777778,
              "#fb9f3a"
             ],
             [
              0.8888888888888888,
              "#fdca26"
             ],
             [
              1,
              "#f0f921"
             ]
            ],
            "type": "heatmap"
           }
          ],
          "heatmapgl": [
           {
            "colorbar": {
             "outlinewidth": 0,
             "ticks": ""
            },
            "colorscale": [
             [
              0,
              "#0d0887"
             ],
             [
              0.1111111111111111,
              "#46039f"
             ],
             [
              0.2222222222222222,
              "#7201a8"
             ],
             [
              0.3333333333333333,
              "#9c179e"
             ],
             [
              0.4444444444444444,
              "#bd3786"
             ],
             [
              0.5555555555555556,
              "#d8576b"
             ],
             [
              0.6666666666666666,
              "#ed7953"
             ],
             [
              0.7777777777777778,
              "#fb9f3a"
             ],
             [
              0.8888888888888888,
              "#fdca26"
             ],
             [
              1,
              "#f0f921"
             ]
            ],
            "type": "heatmapgl"
           }
          ],
          "histogram": [
           {
            "marker": {
             "pattern": {
              "fillmode": "overlay",
              "size": 10,
              "solidity": 0.2
             }
            },
            "type": "histogram"
           }
          ],
          "histogram2d": [
           {
            "colorbar": {
             "outlinewidth": 0,
             "ticks": ""
            },
            "colorscale": [
             [
              0,
              "#0d0887"
             ],
             [
              0.1111111111111111,
              "#46039f"
             ],
             [
              0.2222222222222222,
              "#7201a8"
             ],
             [
              0.3333333333333333,
              "#9c179e"
             ],
             [
              0.4444444444444444,
              "#bd3786"
             ],
             [
              0.5555555555555556,
              "#d8576b"
             ],
             [
              0.6666666666666666,
              "#ed7953"
             ],
             [
              0.7777777777777778,
              "#fb9f3a"
             ],
             [
              0.8888888888888888,
              "#fdca26"
             ],
             [
              1,
              "#f0f921"
             ]
            ],
            "type": "histogram2d"
           }
          ],
          "histogram2dcontour": [
           {
            "colorbar": {
             "outlinewidth": 0,
             "ticks": ""
            },
            "colorscale": [
             [
              0,
              "#0d0887"
             ],
             [
              0.1111111111111111,
              "#46039f"
             ],
             [
              0.2222222222222222,
              "#7201a8"
             ],
             [
              0.3333333333333333,
              "#9c179e"
             ],
             [
              0.4444444444444444,
              "#bd3786"
             ],
             [
              0.5555555555555556,
              "#d8576b"
             ],
             [
              0.6666666666666666,
              "#ed7953"
             ],
             [
              0.7777777777777778,
              "#fb9f3a"
             ],
             [
              0.8888888888888888,
              "#fdca26"
             ],
             [
              1,
              "#f0f921"
             ]
            ],
            "type": "histogram2dcontour"
           }
          ],
          "mesh3d": [
           {
            "colorbar": {
             "outlinewidth": 0,
             "ticks": ""
            },
            "type": "mesh3d"
           }
          ],
          "parcoords": [
           {
            "line": {
             "colorbar": {
              "outlinewidth": 0,
              "ticks": ""
             }
            },
            "type": "parcoords"
           }
          ],
          "pie": [
           {
            "automargin": true,
            "type": "pie"
           }
          ],
          "scatter": [
           {
            "fillpattern": {
             "fillmode": "overlay",
             "size": 10,
             "solidity": 0.2
            },
            "type": "scatter"
           }
          ],
          "scatter3d": [
           {
            "line": {
             "colorbar": {
              "outlinewidth": 0,
              "ticks": ""
             }
            },
            "marker": {
             "colorbar": {
              "outlinewidth": 0,
              "ticks": ""
             }
            },
            "type": "scatter3d"
           }
          ],
          "scattercarpet": [
           {
            "marker": {
             "colorbar": {
              "outlinewidth": 0,
              "ticks": ""
             }
            },
            "type": "scattercarpet"
           }
          ],
          "scattergeo": [
           {
            "marker": {
             "colorbar": {
              "outlinewidth": 0,
              "ticks": ""
             }
            },
            "type": "scattergeo"
           }
          ],
          "scattergl": [
           {
            "marker": {
             "colorbar": {
              "outlinewidth": 0,
              "ticks": ""
             }
            },
            "type": "scattergl"
           }
          ],
          "scattermapbox": [
           {
            "marker": {
             "colorbar": {
              "outlinewidth": 0,
              "ticks": ""
             }
            },
            "type": "scattermapbox"
           }
          ],
          "scatterpolar": [
           {
            "marker": {
             "colorbar": {
              "outlinewidth": 0,
              "ticks": ""
             }
            },
            "type": "scatterpolar"
           }
          ],
          "scatterpolargl": [
           {
            "marker": {
             "colorbar": {
              "outlinewidth": 0,
              "ticks": ""
             }
            },
            "type": "scatterpolargl"
           }
          ],
          "scatterternary": [
           {
            "marker": {
             "colorbar": {
              "outlinewidth": 0,
              "ticks": ""
             }
            },
            "type": "scatterternary"
           }
          ],
          "surface": [
           {
            "colorbar": {
             "outlinewidth": 0,
             "ticks": ""
            },
            "colorscale": [
             [
              0,
              "#0d0887"
             ],
             [
              0.1111111111111111,
              "#46039f"
             ],
             [
              0.2222222222222222,
              "#7201a8"
             ],
             [
              0.3333333333333333,
              "#9c179e"
             ],
             [
              0.4444444444444444,
              "#bd3786"
             ],
             [
              0.5555555555555556,
              "#d8576b"
             ],
             [
              0.6666666666666666,
              "#ed7953"
             ],
             [
              0.7777777777777778,
              "#fb9f3a"
             ],
             [
              0.8888888888888888,
              "#fdca26"
             ],
             [
              1,
              "#f0f921"
             ]
            ],
            "type": "surface"
           }
          ],
          "table": [
           {
            "cells": {
             "fill": {
              "color": "#EBF0F8"
             },
             "line": {
              "color": "white"
             }
            },
            "header": {
             "fill": {
              "color": "#C8D4E3"
             },
             "line": {
              "color": "white"
             }
            },
            "type": "table"
           }
          ]
         },
         "layout": {
          "annotationdefaults": {
           "arrowcolor": "#2a3f5f",
           "arrowhead": 0,
           "arrowwidth": 1
          },
          "autotypenumbers": "strict",
          "coloraxis": {
           "colorbar": {
            "outlinewidth": 0,
            "ticks": ""
           }
          },
          "colorscale": {
           "diverging": [
            [
             0,
             "#8e0152"
            ],
            [
             0.1,
             "#c51b7d"
            ],
            [
             0.2,
             "#de77ae"
            ],
            [
             0.3,
             "#f1b6da"
            ],
            [
             0.4,
             "#fde0ef"
            ],
            [
             0.5,
             "#f7f7f7"
            ],
            [
             0.6,
             "#e6f5d0"
            ],
            [
             0.7,
             "#b8e186"
            ],
            [
             0.8,
             "#7fbc41"
            ],
            [
             0.9,
             "#4d9221"
            ],
            [
             1,
             "#276419"
            ]
           ],
           "sequential": [
            [
             0,
             "#0d0887"
            ],
            [
             0.1111111111111111,
             "#46039f"
            ],
            [
             0.2222222222222222,
             "#7201a8"
            ],
            [
             0.3333333333333333,
             "#9c179e"
            ],
            [
             0.4444444444444444,
             "#bd3786"
            ],
            [
             0.5555555555555556,
             "#d8576b"
            ],
            [
             0.6666666666666666,
             "#ed7953"
            ],
            [
             0.7777777777777778,
             "#fb9f3a"
            ],
            [
             0.8888888888888888,
             "#fdca26"
            ],
            [
             1,
             "#f0f921"
            ]
           ],
           "sequentialminus": [
            [
             0,
             "#0d0887"
            ],
            [
             0.1111111111111111,
             "#46039f"
            ],
            [
             0.2222222222222222,
             "#7201a8"
            ],
            [
             0.3333333333333333,
             "#9c179e"
            ],
            [
             0.4444444444444444,
             "#bd3786"
            ],
            [
             0.5555555555555556,
             "#d8576b"
            ],
            [
             0.6666666666666666,
             "#ed7953"
            ],
            [
             0.7777777777777778,
             "#fb9f3a"
            ],
            [
             0.8888888888888888,
             "#fdca26"
            ],
            [
             1,
             "#f0f921"
            ]
           ]
          },
          "colorway": [
           "#636efa",
           "#EF553B",
           "#00cc96",
           "#ab63fa",
           "#FFA15A",
           "#19d3f3",
           "#FF6692",
           "#B6E880",
           "#FF97FF",
           "#FECB52"
          ],
          "font": {
           "color": "#2a3f5f"
          },
          "geo": {
           "bgcolor": "white",
           "lakecolor": "white",
           "landcolor": "#E5ECF6",
           "showlakes": true,
           "showland": true,
           "subunitcolor": "white"
          },
          "hoverlabel": {
           "align": "left"
          },
          "hovermode": "closest",
          "mapbox": {
           "style": "light"
          },
          "paper_bgcolor": "white",
          "plot_bgcolor": "#E5ECF6",
          "polar": {
           "angularaxis": {
            "gridcolor": "white",
            "linecolor": "white",
            "ticks": ""
           },
           "bgcolor": "#E5ECF6",
           "radialaxis": {
            "gridcolor": "white",
            "linecolor": "white",
            "ticks": ""
           }
          },
          "scene": {
           "xaxis": {
            "backgroundcolor": "#E5ECF6",
            "gridcolor": "white",
            "gridwidth": 2,
            "linecolor": "white",
            "showbackground": true,
            "ticks": "",
            "zerolinecolor": "white"
           },
           "yaxis": {
            "backgroundcolor": "#E5ECF6",
            "gridcolor": "white",
            "gridwidth": 2,
            "linecolor": "white",
            "showbackground": true,
            "ticks": "",
            "zerolinecolor": "white"
           },
           "zaxis": {
            "backgroundcolor": "#E5ECF6",
            "gridcolor": "white",
            "gridwidth": 2,
            "linecolor": "white",
            "showbackground": true,
            "ticks": "",
            "zerolinecolor": "white"
           }
          },
          "shapedefaults": {
           "line": {
            "color": "#2a3f5f"
           }
          },
          "ternary": {
           "aaxis": {
            "gridcolor": "white",
            "linecolor": "white",
            "ticks": ""
           },
           "baxis": {
            "gridcolor": "white",
            "linecolor": "white",
            "ticks": ""
           },
           "bgcolor": "#E5ECF6",
           "caxis": {
            "gridcolor": "white",
            "linecolor": "white",
            "ticks": ""
           }
          },
          "title": {
           "x": 0.05
          },
          "xaxis": {
           "automargin": true,
           "gridcolor": "white",
           "linecolor": "white",
           "ticks": "",
           "title": {
            "standoff": 15
           },
           "zerolinecolor": "white",
           "zerolinewidth": 2
          },
          "yaxis": {
           "automargin": true,
           "gridcolor": "white",
           "linecolor": "white",
           "ticks": "",
           "title": {
            "standoff": 15
           },
           "zerolinecolor": "white",
           "zerolinewidth": 2
          }
         }
        },
        "title": {
         "text": "FDX Stock"
        },
        "xaxis": {
         "title": {
          "text": "Date"
         }
        },
        "yaxis": {
         "title": {
          "text": "Close"
         }
        }
       }
      }
     },
     "metadata": {},
     "output_type": "display_data"
    },
    {
     "data": {
      "application/vnd.plotly.v1+json": {
       "config": {
        "plotlyServerURL": "https://plot.ly"
       },
       "data": [
        {
         "mode": "lines",
         "name": "Future Predictions",
         "type": "scatter",
         "x": [
          "2022-10-06T00:00:00",
          "2022-10-07T00:00:00",
          "2022-10-08T00:00:00",
          "2022-10-09T00:00:00",
          "2022-10-10T00:00:00",
          "2022-10-11T00:00:00"
         ],
         "y": [
          155.190002,
          86.63905334472656,
          81.26663208007812,
          74.8017578125,
          65.68199920654297,
          54.5628662109375
         ]
        },
        {
         "mode": "lines",
         "name": "5-Day Data",
         "type": "scatter",
         "x": [
          "2022-10-06T00:00:00",
          "2022-10-07T00:00:00",
          "2022-10-08T00:00:00",
          "2022-10-09T00:00:00",
          "2022-10-10T00:00:00",
          "2022-10-11T00:00:00"
         ],
         "y": [
          155.190002,
          154.410004,
          154.01,
          153.61,
          153.210007,
          152.080002
         ]
        },
        {
         "mode": "lines",
         "name": "Ground Truth",
         "type": "scatter",
         "x": [
          "2022-08-31",
          "2022-09-01",
          "2022-09-02",
          "2022-09-06",
          "2022-09-07",
          "2022-09-08",
          "2022-09-09",
          "2022-09-12",
          "2022-09-13",
          "2022-09-14",
          "2022-09-15",
          "2022-09-16",
          "2022-09-19",
          "2022-09-20",
          "2022-09-21",
          "2022-09-22",
          "2022-09-23",
          "2022-09-26",
          "2022-09-27",
          "2022-09-28",
          "2022-09-29",
          "2022-09-30",
          "2022-10-03",
          "2022-10-04",
          "2022-10-05",
          "2022-10-06"
         ],
         "y": [
          210.809998,
          211.860001,
          208.720001,
          204.169998,
          201.619995,
          202.869995,
          209.070007,
          213.839996,
          205.339996,
          205.009995,
          204.869995,
          161.020004,
          162.899994,
          157.399994,
          153.25,
          154.539993,
          149.330002,
          142.899994,
          144.949997,
          149.990005,
          152.309998,
          148.470001,
          151.460007,
          159.119995,
          156.869995,
          155.190002
         ]
        }
       ],
       "layout": {
        "font": {
         "size": 20
        },
        "template": {
         "data": {
          "bar": [
           {
            "error_x": {
             "color": "#2a3f5f"
            },
            "error_y": {
             "color": "#2a3f5f"
            },
            "marker": {
             "line": {
              "color": "#E5ECF6",
              "width": 0.5
             },
             "pattern": {
              "fillmode": "overlay",
              "size": 10,
              "solidity": 0.2
             }
            },
            "type": "bar"
           }
          ],
          "barpolar": [
           {
            "marker": {
             "line": {
              "color": "#E5ECF6",
              "width": 0.5
             },
             "pattern": {
              "fillmode": "overlay",
              "size": 10,
              "solidity": 0.2
             }
            },
            "type": "barpolar"
           }
          ],
          "carpet": [
           {
            "aaxis": {
             "endlinecolor": "#2a3f5f",
             "gridcolor": "white",
             "linecolor": "white",
             "minorgridcolor": "white",
             "startlinecolor": "#2a3f5f"
            },
            "baxis": {
             "endlinecolor": "#2a3f5f",
             "gridcolor": "white",
             "linecolor": "white",
             "minorgridcolor": "white",
             "startlinecolor": "#2a3f5f"
            },
            "type": "carpet"
           }
          ],
          "choropleth": [
           {
            "colorbar": {
             "outlinewidth": 0,
             "ticks": ""
            },
            "type": "choropleth"
           }
          ],
          "contour": [
           {
            "colorbar": {
             "outlinewidth": 0,
             "ticks": ""
            },
            "colorscale": [
             [
              0,
              "#0d0887"
             ],
             [
              0.1111111111111111,
              "#46039f"
             ],
             [
              0.2222222222222222,
              "#7201a8"
             ],
             [
              0.3333333333333333,
              "#9c179e"
             ],
             [
              0.4444444444444444,
              "#bd3786"
             ],
             [
              0.5555555555555556,
              "#d8576b"
             ],
             [
              0.6666666666666666,
              "#ed7953"
             ],
             [
              0.7777777777777778,
              "#fb9f3a"
             ],
             [
              0.8888888888888888,
              "#fdca26"
             ],
             [
              1,
              "#f0f921"
             ]
            ],
            "type": "contour"
           }
          ],
          "contourcarpet": [
           {
            "colorbar": {
             "outlinewidth": 0,
             "ticks": ""
            },
            "type": "contourcarpet"
           }
          ],
          "heatmap": [
           {
            "colorbar": {
             "outlinewidth": 0,
             "ticks": ""
            },
            "colorscale": [
             [
              0,
              "#0d0887"
             ],
             [
              0.1111111111111111,
              "#46039f"
             ],
             [
              0.2222222222222222,
              "#7201a8"
             ],
             [
              0.3333333333333333,
              "#9c179e"
             ],
             [
              0.4444444444444444,
              "#bd3786"
             ],
             [
              0.5555555555555556,
              "#d8576b"
             ],
             [
              0.6666666666666666,
              "#ed7953"
             ],
             [
              0.7777777777777778,
              "#fb9f3a"
             ],
             [
              0.8888888888888888,
              "#fdca26"
             ],
             [
              1,
              "#f0f921"
             ]
            ],
            "type": "heatmap"
           }
          ],
          "heatmapgl": [
           {
            "colorbar": {
             "outlinewidth": 0,
             "ticks": ""
            },
            "colorscale": [
             [
              0,
              "#0d0887"
             ],
             [
              0.1111111111111111,
              "#46039f"
             ],
             [
              0.2222222222222222,
              "#7201a8"
             ],
             [
              0.3333333333333333,
              "#9c179e"
             ],
             [
              0.4444444444444444,
              "#bd3786"
             ],
             [
              0.5555555555555556,
              "#d8576b"
             ],
             [
              0.6666666666666666,
              "#ed7953"
             ],
             [
              0.7777777777777778,
              "#fb9f3a"
             ],
             [
              0.8888888888888888,
              "#fdca26"
             ],
             [
              1,
              "#f0f921"
             ]
            ],
            "type": "heatmapgl"
           }
          ],
          "histogram": [
           {
            "marker": {
             "pattern": {
              "fillmode": "overlay",
              "size": 10,
              "solidity": 0.2
             }
            },
            "type": "histogram"
           }
          ],
          "histogram2d": [
           {
            "colorbar": {
             "outlinewidth": 0,
             "ticks": ""
            },
            "colorscale": [
             [
              0,
              "#0d0887"
             ],
             [
              0.1111111111111111,
              "#46039f"
             ],
             [
              0.2222222222222222,
              "#7201a8"
             ],
             [
              0.3333333333333333,
              "#9c179e"
             ],
             [
              0.4444444444444444,
              "#bd3786"
             ],
             [
              0.5555555555555556,
              "#d8576b"
             ],
             [
              0.6666666666666666,
              "#ed7953"
             ],
             [
              0.7777777777777778,
              "#fb9f3a"
             ],
             [
              0.8888888888888888,
              "#fdca26"
             ],
             [
              1,
              "#f0f921"
             ]
            ],
            "type": "histogram2d"
           }
          ],
          "histogram2dcontour": [
           {
            "colorbar": {
             "outlinewidth": 0,
             "ticks": ""
            },
            "colorscale": [
             [
              0,
              "#0d0887"
             ],
             [
              0.1111111111111111,
              "#46039f"
             ],
             [
              0.2222222222222222,
              "#7201a8"
             ],
             [
              0.3333333333333333,
              "#9c179e"
             ],
             [
              0.4444444444444444,
              "#bd3786"
             ],
             [
              0.5555555555555556,
              "#d8576b"
             ],
             [
              0.6666666666666666,
              "#ed7953"
             ],
             [
              0.7777777777777778,
              "#fb9f3a"
             ],
             [
              0.8888888888888888,
              "#fdca26"
             ],
             [
              1,
              "#f0f921"
             ]
            ],
            "type": "histogram2dcontour"
           }
          ],
          "mesh3d": [
           {
            "colorbar": {
             "outlinewidth": 0,
             "ticks": ""
            },
            "type": "mesh3d"
           }
          ],
          "parcoords": [
           {
            "line": {
             "colorbar": {
              "outlinewidth": 0,
              "ticks": ""
             }
            },
            "type": "parcoords"
           }
          ],
          "pie": [
           {
            "automargin": true,
            "type": "pie"
           }
          ],
          "scatter": [
           {
            "fillpattern": {
             "fillmode": "overlay",
             "size": 10,
             "solidity": 0.2
            },
            "type": "scatter"
           }
          ],
          "scatter3d": [
           {
            "line": {
             "colorbar": {
              "outlinewidth": 0,
              "ticks": ""
             }
            },
            "marker": {
             "colorbar": {
              "outlinewidth": 0,
              "ticks": ""
             }
            },
            "type": "scatter3d"
           }
          ],
          "scattercarpet": [
           {
            "marker": {
             "colorbar": {
              "outlinewidth": 0,
              "ticks": ""
             }
            },
            "type": "scattercarpet"
           }
          ],
          "scattergeo": [
           {
            "marker": {
             "colorbar": {
              "outlinewidth": 0,
              "ticks": ""
             }
            },
            "type": "scattergeo"
           }
          ],
          "scattergl": [
           {
            "marker": {
             "colorbar": {
              "outlinewidth": 0,
              "ticks": ""
             }
            },
            "type": "scattergl"
           }
          ],
          "scattermapbox": [
           {
            "marker": {
             "colorbar": {
              "outlinewidth": 0,
              "ticks": ""
             }
            },
            "type": "scattermapbox"
           }
          ],
          "scatterpolar": [
           {
            "marker": {
             "colorbar": {
              "outlinewidth": 0,
              "ticks": ""
             }
            },
            "type": "scatterpolar"
           }
          ],
          "scatterpolargl": [
           {
            "marker": {
             "colorbar": {
              "outlinewidth": 0,
              "ticks": ""
             }
            },
            "type": "scatterpolargl"
           }
          ],
          "scatterternary": [
           {
            "marker": {
             "colorbar": {
              "outlinewidth": 0,
              "ticks": ""
             }
            },
            "type": "scatterternary"
           }
          ],
          "surface": [
           {
            "colorbar": {
             "outlinewidth": 0,
             "ticks": ""
            },
            "colorscale": [
             [
              0,
              "#0d0887"
             ],
             [
              0.1111111111111111,
              "#46039f"
             ],
             [
              0.2222222222222222,
              "#7201a8"
             ],
             [
              0.3333333333333333,
              "#9c179e"
             ],
             [
              0.4444444444444444,
              "#bd3786"
             ],
             [
              0.5555555555555556,
              "#d8576b"
             ],
             [
              0.6666666666666666,
              "#ed7953"
             ],
             [
              0.7777777777777778,
              "#fb9f3a"
             ],
             [
              0.8888888888888888,
              "#fdca26"
             ],
             [
              1,
              "#f0f921"
             ]
            ],
            "type": "surface"
           }
          ],
          "table": [
           {
            "cells": {
             "fill": {
              "color": "#EBF0F8"
             },
             "line": {
              "color": "white"
             }
            },
            "header": {
             "fill": {
              "color": "#C8D4E3"
             },
             "line": {
              "color": "white"
             }
            },
            "type": "table"
           }
          ]
         },
         "layout": {
          "annotationdefaults": {
           "arrowcolor": "#2a3f5f",
           "arrowhead": 0,
           "arrowwidth": 1
          },
          "autotypenumbers": "strict",
          "coloraxis": {
           "colorbar": {
            "outlinewidth": 0,
            "ticks": ""
           }
          },
          "colorscale": {
           "diverging": [
            [
             0,
             "#8e0152"
            ],
            [
             0.1,
             "#c51b7d"
            ],
            [
             0.2,
             "#de77ae"
            ],
            [
             0.3,
             "#f1b6da"
            ],
            [
             0.4,
             "#fde0ef"
            ],
            [
             0.5,
             "#f7f7f7"
            ],
            [
             0.6,
             "#e6f5d0"
            ],
            [
             0.7,
             "#b8e186"
            ],
            [
             0.8,
             "#7fbc41"
            ],
            [
             0.9,
             "#4d9221"
            ],
            [
             1,
             "#276419"
            ]
           ],
           "sequential": [
            [
             0,
             "#0d0887"
            ],
            [
             0.1111111111111111,
             "#46039f"
            ],
            [
             0.2222222222222222,
             "#7201a8"
            ],
            [
             0.3333333333333333,
             "#9c179e"
            ],
            [
             0.4444444444444444,
             "#bd3786"
            ],
            [
             0.5555555555555556,
             "#d8576b"
            ],
            [
             0.6666666666666666,
             "#ed7953"
            ],
            [
             0.7777777777777778,
             "#fb9f3a"
            ],
            [
             0.8888888888888888,
             "#fdca26"
            ],
            [
             1,
             "#f0f921"
            ]
           ],
           "sequentialminus": [
            [
             0,
             "#0d0887"
            ],
            [
             0.1111111111111111,
             "#46039f"
            ],
            [
             0.2222222222222222,
             "#7201a8"
            ],
            [
             0.3333333333333333,
             "#9c179e"
            ],
            [
             0.4444444444444444,
             "#bd3786"
            ],
            [
             0.5555555555555556,
             "#d8576b"
            ],
            [
             0.6666666666666666,
             "#ed7953"
            ],
            [
             0.7777777777777778,
             "#fb9f3a"
            ],
            [
             0.8888888888888888,
             "#fdca26"
            ],
            [
             1,
             "#f0f921"
            ]
           ]
          },
          "colorway": [
           "#636efa",
           "#EF553B",
           "#00cc96",
           "#ab63fa",
           "#FFA15A",
           "#19d3f3",
           "#FF6692",
           "#B6E880",
           "#FF97FF",
           "#FECB52"
          ],
          "font": {
           "color": "#2a3f5f"
          },
          "geo": {
           "bgcolor": "white",
           "lakecolor": "white",
           "landcolor": "#E5ECF6",
           "showlakes": true,
           "showland": true,
           "subunitcolor": "white"
          },
          "hoverlabel": {
           "align": "left"
          },
          "hovermode": "closest",
          "mapbox": {
           "style": "light"
          },
          "paper_bgcolor": "white",
          "plot_bgcolor": "#E5ECF6",
          "polar": {
           "angularaxis": {
            "gridcolor": "white",
            "linecolor": "white",
            "ticks": ""
           },
           "bgcolor": "#E5ECF6",
           "radialaxis": {
            "gridcolor": "white",
            "linecolor": "white",
            "ticks": ""
           }
          },
          "scene": {
           "xaxis": {
            "backgroundcolor": "#E5ECF6",
            "gridcolor": "white",
            "gridwidth": 2,
            "linecolor": "white",
            "showbackground": true,
            "ticks": "",
            "zerolinecolor": "white"
           },
           "yaxis": {
            "backgroundcolor": "#E5ECF6",
            "gridcolor": "white",
            "gridwidth": 2,
            "linecolor": "white",
            "showbackground": true,
            "ticks": "",
            "zerolinecolor": "white"
           },
           "zaxis": {
            "backgroundcolor": "#E5ECF6",
            "gridcolor": "white",
            "gridwidth": 2,
            "linecolor": "white",
            "showbackground": true,
            "ticks": "",
            "zerolinecolor": "white"
           }
          },
          "shapedefaults": {
           "line": {
            "color": "#2a3f5f"
           }
          },
          "ternary": {
           "aaxis": {
            "gridcolor": "white",
            "linecolor": "white",
            "ticks": ""
           },
           "baxis": {
            "gridcolor": "white",
            "linecolor": "white",
            "ticks": ""
           },
           "bgcolor": "#E5ECF6",
           "caxis": {
            "gridcolor": "white",
            "linecolor": "white",
            "ticks": ""
           }
          },
          "title": {
           "x": 0.05
          },
          "xaxis": {
           "automargin": true,
           "gridcolor": "white",
           "linecolor": "white",
           "ticks": "",
           "title": {
            "standoff": 15
           },
           "zerolinecolor": "white",
           "zerolinewidth": 2
          },
          "yaxis": {
           "automargin": true,
           "gridcolor": "white",
           "linecolor": "white",
           "ticks": "",
           "title": {
            "standoff": 15
           },
           "zerolinecolor": "white",
           "zerolinewidth": 2
          }
         }
        },
        "title": {
         "text": "FDX Stock"
        },
        "xaxis": {
         "title": {
          "text": "Date"
         }
        },
        "yaxis": {
         "title": {
          "text": "Close"
         }
        }
       }
      }
     },
     "metadata": {},
     "output_type": "display_data"
    }
   ],
   "source": [
    "pred(df_FDX,df_FDX_future,df_FDX_comp)"
   ]
  },
  {
   "cell_type": "code",
   "execution_count": 28,
   "metadata": {
    "scrolled": false
   },
   "outputs": [
    {
     "name": "stdout",
     "output_type": "stream",
     "text": [
      "Epoch 1/100\n",
      "1/1 [==============================] - 1s 910ms/step - loss: 11384.1299\n",
      "Epoch 2/100\n",
      "1/1 [==============================] - 0s 10ms/step - loss: 11155.9492\n",
      "Epoch 3/100\n",
      "1/1 [==============================] - 0s 10ms/step - loss: 10909.4678\n",
      "Epoch 4/100\n",
      "1/1 [==============================] - 0s 12ms/step - loss: 10639.5186\n",
      "Epoch 5/100\n",
      "1/1 [==============================] - 0s 10ms/step - loss: 10342.2490\n",
      "Epoch 6/100\n",
      "1/1 [==============================] - 0s 10ms/step - loss: 10016.3057\n",
      "Epoch 7/100\n",
      "1/1 [==============================] - 0s 11ms/step - loss: 9663.7334\n",
      "Epoch 8/100\n",
      "1/1 [==============================] - 0s 11ms/step - loss: 9289.6348\n",
      "Epoch 9/100\n",
      "1/1 [==============================] - 0s 10ms/step - loss: 8899.3291\n",
      "Epoch 10/100\n",
      "1/1 [==============================] - 0s 11ms/step - loss: 8493.6436\n",
      "Epoch 11/100\n",
      "1/1 [==============================] - 0s 11ms/step - loss: 8068.7124\n",
      "Epoch 12/100\n",
      "1/1 [==============================] - 0s 11ms/step - loss: 7628.3062\n",
      "Epoch 13/100\n",
      "1/1 [==============================] - 0s 10ms/step - loss: 7196.5356\n",
      "Epoch 14/100\n",
      "1/1 [==============================] - 0s 12ms/step - loss: 6800.9136\n",
      "Epoch 15/100\n",
      "1/1 [==============================] - 0s 12ms/step - loss: 6442.5352\n",
      "Epoch 16/100\n",
      "1/1 [==============================] - 0s 10ms/step - loss: 6099.3560\n",
      "Epoch 17/100\n",
      "1/1 [==============================] - 0s 11ms/step - loss: 5746.0142\n",
      "Epoch 18/100\n",
      "1/1 [==============================] - 0s 13ms/step - loss: 5360.7524\n",
      "Epoch 19/100\n",
      "1/1 [==============================] - 0s 10ms/step - loss: 4925.7583\n",
      "Epoch 20/100\n",
      "1/1 [==============================] - 0s 9ms/step - loss: 4432.2964\n",
      "Epoch 21/100\n",
      "1/1 [==============================] - 0s 11ms/step - loss: 3888.3662\n",
      "Epoch 22/100\n",
      "1/1 [==============================] - 0s 16ms/step - loss: 3310.4932\n",
      "Epoch 23/100\n",
      "1/1 [==============================] - 0s 9ms/step - loss: 2704.4578\n",
      "Epoch 24/100\n",
      "1/1 [==============================] - 0s 10ms/step - loss: 2107.1074\n",
      "Epoch 25/100\n",
      "1/1 [==============================] - 0s 11ms/step - loss: 1597.1797\n",
      "Epoch 26/100\n",
      "1/1 [==============================] - 0s 10ms/step - loss: 1170.9979\n",
      "Epoch 27/100\n",
      "1/1 [==============================] - 0s 11ms/step - loss: 797.3829\n",
      "Epoch 28/100\n",
      "1/1 [==============================] - 0s 11ms/step - loss: 489.5676\n",
      "Epoch 29/100\n",
      "1/1 [==============================] - 0s 15ms/step - loss: 268.1075\n",
      "Epoch 30/100\n",
      "1/1 [==============================] - 0s 12ms/step - loss: 124.4913\n",
      "Epoch 31/100\n",
      "1/1 [==============================] - 0s 12ms/step - loss: 41.6117\n",
      "Epoch 32/100\n",
      "1/1 [==============================] - 0s 12ms/step - loss: 11.3898\n",
      "Epoch 33/100\n",
      "1/1 [==============================] - 0s 13ms/step - loss: 32.7611\n",
      "Epoch 34/100\n",
      "1/1 [==============================] - 0s 15ms/step - loss: 86.1215\n",
      "Epoch 35/100\n",
      "1/1 [==============================] - 0s 14ms/step - loss: 148.3017\n",
      "Epoch 36/100\n",
      "1/1 [==============================] - 0s 11ms/step - loss: 202.8313\n",
      "Epoch 37/100\n",
      "1/1 [==============================] - 0s 11ms/step - loss: 241.6427\n",
      "Epoch 38/100\n",
      "1/1 [==============================] - 0s 11ms/step - loss: 262.3471\n",
      "Epoch 39/100\n",
      "1/1 [==============================] - 0s 11ms/step - loss: 266.5364\n",
      "Epoch 40/100\n",
      "1/1 [==============================] - 0s 10ms/step - loss: 258.8390\n",
      "Epoch 41/100\n",
      "1/1 [==============================] - 0s 11ms/step - loss: 243.8906\n",
      "Epoch 42/100\n",
      "1/1 [==============================] - 0s 11ms/step - loss: 223.7800\n",
      "Epoch 43/100\n",
      "1/1 [==============================] - 0s 12ms/step - loss: 199.1105\n",
      "Epoch 44/100\n",
      "1/1 [==============================] - 0s 10ms/step - loss: 170.9366\n",
      "Epoch 45/100\n",
      "1/1 [==============================] - 0s 11ms/step - loss: 141.0783\n",
      "Epoch 46/100\n",
      "1/1 [==============================] - 0s 11ms/step - loss: 111.6184\n",
      "Epoch 47/100\n",
      "1/1 [==============================] - 0s 11ms/step - loss: 84.4461\n",
      "Epoch 48/100\n",
      "1/1 [==============================] - 0s 10ms/step - loss: 60.9844\n",
      "Epoch 49/100\n",
      "1/1 [==============================] - 0s 11ms/step - loss: 42.0667\n",
      "Epoch 50/100\n",
      "1/1 [==============================] - 0s 11ms/step - loss: 27.9471\n",
      "Epoch 51/100\n",
      "1/1 [==============================] - 0s 10ms/step - loss: 18.4212\n",
      "Epoch 52/100\n",
      "1/1 [==============================] - 0s 11ms/step - loss: 12.9776\n",
      "Epoch 53/100\n",
      "1/1 [==============================] - 0s 11ms/step - loss: 10.9285\n",
      "Epoch 54/100\n",
      "1/1 [==============================] - 0s 10ms/step - loss: 11.5192\n",
      "Epoch 55/100\n",
      "1/1 [==============================] - 0s 11ms/step - loss: 14.0200\n",
      "Epoch 56/100\n",
      "1/1 [==============================] - 0s 16ms/step - loss: 17.5625\n",
      "Epoch 57/100\n",
      "1/1 [==============================] - 0s 13ms/step - loss: 21.3997\n",
      "Epoch 58/100\n",
      "1/1 [==============================] - 0s 10ms/step - loss: 25.0711\n",
      "Epoch 59/100\n",
      "1/1 [==============================] - 0s 12ms/step - loss: 28.2356\n",
      "Epoch 60/100\n",
      "1/1 [==============================] - 0s 10ms/step - loss: 30.6451\n",
      "Epoch 61/100\n",
      "1/1 [==============================] - 0s 11ms/step - loss: 32.1507\n",
      "Epoch 62/100\n",
      "1/1 [==============================] - 0s 12ms/step - loss: 32.7033\n",
      "Epoch 63/100\n",
      "1/1 [==============================] - 0s 11ms/step - loss: 32.3421\n",
      "Epoch 64/100\n",
      "1/1 [==============================] - 0s 11ms/step - loss: 31.1765\n",
      "Epoch 65/100\n",
      "1/1 [==============================] - 0s 11ms/step - loss: 29.3637\n",
      "Epoch 66/100\n",
      "1/1 [==============================] - 0s 12ms/step - loss: 27.0888\n",
      "Epoch 67/100\n",
      "1/1 [==============================] - 0s 12ms/step - loss: 24.5460\n",
      "Epoch 68/100\n",
      "1/1 [==============================] - 0s 13ms/step - loss: 21.9226\n",
      "Epoch 69/100\n",
      "1/1 [==============================] - 0s 15ms/step - loss: 19.3860\n",
      "Epoch 70/100\n",
      "1/1 [==============================] - 0s 12ms/step - loss: 17.0741\n",
      "Epoch 71/100\n",
      "1/1 [==============================] - 0s 13ms/step - loss: 15.0900\n",
      "Epoch 72/100\n",
      "1/1 [==============================] - 0s 11ms/step - loss: 13.4982\n",
      "Epoch 73/100\n",
      "1/1 [==============================] - 0s 10ms/step - loss: 12.3259\n",
      "Epoch 74/100\n",
      "1/1 [==============================] - 0s 10ms/step - loss: 11.5657\n",
      "Epoch 75/100\n",
      "1/1 [==============================] - 0s 12ms/step - loss: 11.1809\n",
      "Epoch 76/100\n",
      "1/1 [==============================] - 0s 12ms/step - loss: 11.1126\n",
      "Epoch 77/100\n",
      "1/1 [==============================] - 0s 13ms/step - loss: 11.2872\n",
      "Epoch 78/100\n",
      "1/1 [==============================] - 0s 12ms/step - loss: 11.6248\n",
      "Epoch 79/100\n",
      "1/1 [==============================] - 0s 11ms/step - loss: 12.0463\n",
      "Epoch 80/100\n",
      "1/1 [==============================] - 0s 11ms/step - loss: 12.4801\n",
      "Epoch 81/100\n",
      "1/1 [==============================] - 0s 12ms/step - loss: 12.8671\n",
      "Epoch 82/100\n",
      "1/1 [==============================] - 0s 19ms/step - loss: 13.1638\n",
      "Epoch 83/100\n",
      "1/1 [==============================] - 0s 14ms/step - loss: 13.3435\n",
      "Epoch 84/100\n",
      "1/1 [==============================] - 0s 11ms/step - loss: 13.3963\n",
      "Epoch 85/100\n",
      "1/1 [==============================] - 0s 11ms/step - loss: 13.3267\n",
      "Epoch 86/100\n",
      "1/1 [==============================] - 0s 10ms/step - loss: 13.1511\n",
      "Epoch 87/100\n",
      "1/1 [==============================] - 0s 11ms/step - loss: 12.8939\n",
      "Epoch 88/100\n",
      "1/1 [==============================] - 0s 10ms/step - loss: 12.5838\n",
      "Epoch 89/100\n",
      "1/1 [==============================] - 0s 10ms/step - loss: 12.2506\n",
      "Epoch 90/100\n",
      "1/1 [==============================] - 0s 11ms/step - loss: 11.9216\n",
      "Epoch 91/100\n",
      "1/1 [==============================] - 0s 10ms/step - loss: 11.6196\n",
      "Epoch 92/100\n",
      "1/1 [==============================] - 0s 11ms/step - loss: 11.3615\n",
      "Epoch 93/100\n",
      "1/1 [==============================] - 0s 13ms/step - loss: 11.1576\n",
      "Epoch 94/100\n",
      "1/1 [==============================] - 0s 11ms/step - loss: 11.0116\n",
      "Epoch 95/100\n",
      "1/1 [==============================] - 0s 11ms/step - loss: 10.9213\n",
      "Epoch 96/100\n",
      "1/1 [==============================] - 0s 12ms/step - loss: 10.8802\n",
      "Epoch 97/100\n",
      "1/1 [==============================] - 0s 12ms/step - loss: 10.8781\n",
      "Epoch 98/100\n",
      "1/1 [==============================] - 0s 10ms/step - loss: 10.9034\n",
      "Epoch 99/100\n",
      "1/1 [==============================] - 0s 11ms/step - loss: 10.9440\n",
      "Epoch 100/100\n",
      "1/1 [==============================] - 0s 10ms/step - loss: 10.9887\n",
      "1/1 [==============================] - 0s 124ms/step\n",
      "1/1 [==============================] - 0s 115ms/step\n",
      "1/1 [==============================] - 0s 14ms/step\n",
      "1/1 [==============================] - 0s 15ms/step\n",
      "1/1 [==============================] - 0s 16ms/step\n",
      "1/1 [==============================] - 0s 14ms/step\n"
     ]
    },
    {
     "data": {
      "application/vnd.plotly.v1+json": {
       "config": {
        "plotlyServerURL": "https://plot.ly"
       },
       "data": [
        {
         "mode": "lines",
         "name": "Training Data",
         "type": "scatter",
         "x": [
          "2022-04-06",
          "2022-04-07",
          "2022-04-08",
          "2022-04-11",
          "2022-04-12",
          "2022-04-13",
          "2022-04-14",
          "2022-04-18",
          "2022-04-19",
          "2022-04-20",
          "2022-04-21",
          "2022-04-22",
          "2022-04-25",
          "2022-04-26",
          "2022-04-27",
          "2022-04-28",
          "2022-04-29",
          "2022-05-02",
          "2022-05-03",
          "2022-05-04",
          "2022-05-05",
          "2022-05-06",
          "2022-05-09",
          "2022-05-10",
          "2022-05-11",
          "2022-05-12",
          "2022-05-13",
          "2022-05-16",
          "2022-05-17",
          "2022-05-18",
          "2022-05-19",
          "2022-05-20",
          "2022-05-23",
          "2022-05-24",
          "2022-05-25",
          "2022-05-26",
          "2022-05-27",
          "2022-05-31",
          "2022-06-01",
          "2022-06-02",
          "2022-06-03",
          "2022-06-06",
          "2022-06-07",
          "2022-06-08",
          "2022-06-09",
          "2022-06-10",
          "2022-06-13",
          "2022-06-14",
          "2022-06-15",
          "2022-06-16",
          "2022-06-17",
          "2022-06-21",
          "2022-06-22",
          "2022-06-23",
          "2022-06-24",
          "2022-06-27",
          "2022-06-28",
          "2022-06-29",
          "2022-06-30",
          "2022-07-01",
          "2022-07-05",
          "2022-07-06",
          "2022-07-07",
          "2022-07-08",
          "2022-07-11",
          "2022-07-12",
          "2022-07-13",
          "2022-07-14",
          "2022-07-15",
          "2022-07-18",
          "2022-07-19",
          "2022-07-20",
          "2022-07-21",
          "2022-07-22",
          "2022-07-25",
          "2022-07-26",
          "2022-07-27",
          "2022-07-28",
          "2022-07-29",
          "2022-08-01",
          "2022-08-02",
          "2022-08-03",
          "2022-08-04",
          "2022-08-05",
          "2022-08-08",
          "2022-08-09",
          "2022-08-10",
          "2022-08-11",
          "2022-08-12",
          "2022-08-15",
          "2022-08-16",
          "2022-08-17",
          "2022-08-18",
          "2022-08-19",
          "2022-08-22",
          "2022-08-23",
          "2022-08-24",
          "2022-08-25",
          "2022-08-26",
          "2022-08-29",
          "2022-08-30"
         ],
         "y": [
          129.389999,
          128.550003,
          127.730003,
          126.370003,
          125.980003,
          126.139999,
          126.559998,
          126.169998,
          129.149994,
          138.320007,
          139.850006,
          138.25,
          139.100006,
          136.190002,
          135.059998,
          135.740005,
          132.210007,
          133.039993,
          132.520004,
          137.399994,
          135.919998,
          137.669998,
          134.440002,
          129.130005,
          130.75,
          132.899994,
          133.600006,
          135.029999,
          138.369995,
          132.940002,
          129.660004,
          128.479996,
          131.169998,
          133.800003,
          134.389999,
          136.889999,
          139.270004,
          138.839996,
          139.429993,
          140.149994,
          141.179993,
          142.880005,
          142.779999,
          140.830002,
          137.960007,
          136.190002,
          135.110001,
          135.720001,
          137.059998,
          135.669998,
          135.020004,
          137.850006,
          137.080002,
          138.440002,
          142.059998,
          142.800003,
          141.860001,
          140.710007,
          141.190002,
          141.119995,
          137.619995,
          138.080002,
          140.830002,
          140.470001,
          141,
          139.179993,
          137.179993,
          139.059998,
          139.919998,
          138.130005,
          130.880005,
          129.179993,
          127.150002,
          128.25,
          128.539993,
          128.080002,
          129.119995,
          129.220001,
          130.789993,
          132.039993,
          131.809998,
          132.339996,
          131.639999,
          132.479996,
          132.610001,
          129.470001,
          131.5,
          132.539993,
          134.009995,
          134.929993,
          136.559998,
          137.789993,
          139.070007,
          138.369995,
          135.550003,
          134.740005,
          133.229996,
          133.979996,
          130.380005,
          130.309998,
          129.580002
         ]
        },
        {
         "mode": "lines",
         "name": "Testing Training Data",
         "type": "scatter",
         "x": [
          "2022-08-31",
          "2022-09-01",
          "2022-09-02",
          "2022-09-06",
          "2022-09-07",
          "2022-09-08",
          "2022-09-09",
          "2022-09-12",
          "2022-09-13",
          "2022-09-14",
          "2022-09-15",
          "2022-09-16",
          "2022-09-19",
          "2022-09-20",
          "2022-09-21",
          "2022-09-22",
          "2022-09-23",
          "2022-09-26",
          "2022-09-27",
          "2022-09-28",
          "2022-09-29",
          "2022-09-30",
          "2022-10-03",
          "2022-10-04",
          "2022-10-05",
          "2022-10-06"
         ],
         "y": [
          127.70902252197266,
          127.86965942382812,
          127.86683654785156,
          128.51329040527344,
          128.0338134765625,
          128.2069091796875,
          127.27488708496094,
          127.44020080566406,
          126.87129211425781,
          126.54773712158203,
          125.79438018798828,
          125.8840560913086,
          124.69313049316406,
          123.68852996826172,
          122.84422302246094,
          122.72713470458984,
          121.84992218017578,
          120.71833038330078,
          121.11601257324219,
          122.28988647460938,
          122.83700561523438
         ]
        },
        {
         "mode": "lines",
         "name": "Ground Truth",
         "type": "scatter",
         "x": [
          "2022-08-31",
          "2022-09-01",
          "2022-09-02",
          "2022-09-06",
          "2022-09-07",
          "2022-09-08",
          "2022-09-09",
          "2022-09-12",
          "2022-09-13",
          "2022-09-14",
          "2022-09-15",
          "2022-09-16",
          "2022-09-19",
          "2022-09-20",
          "2022-09-21",
          "2022-09-22",
          "2022-09-23",
          "2022-09-26",
          "2022-09-27",
          "2022-09-28",
          "2022-09-29",
          "2022-09-30",
          "2022-10-03",
          "2022-10-04",
          "2022-10-05",
          "2022-10-06"
         ],
         "y": [
          128.449997,
          129.660004,
          127.790001,
          126.720001,
          127.709999,
          128.470001,
          129.190002,
          130.660004,
          127.25,
          127.690002,
          125.489998,
          127.269997,
          127.730003,
          126.300003,
          124.93,
          125.309998,
          122.709999,
          122.010002,
          121.739998,
          122.760002,
          121.629997,
          118.809998,
          121.510002,
          125.5,
          125.739998,
          122.230003
         ]
        }
       ],
       "layout": {
        "font": {
         "size": 20
        },
        "template": {
         "data": {
          "bar": [
           {
            "error_x": {
             "color": "#2a3f5f"
            },
            "error_y": {
             "color": "#2a3f5f"
            },
            "marker": {
             "line": {
              "color": "#E5ECF6",
              "width": 0.5
             },
             "pattern": {
              "fillmode": "overlay",
              "size": 10,
              "solidity": 0.2
             }
            },
            "type": "bar"
           }
          ],
          "barpolar": [
           {
            "marker": {
             "line": {
              "color": "#E5ECF6",
              "width": 0.5
             },
             "pattern": {
              "fillmode": "overlay",
              "size": 10,
              "solidity": 0.2
             }
            },
            "type": "barpolar"
           }
          ],
          "carpet": [
           {
            "aaxis": {
             "endlinecolor": "#2a3f5f",
             "gridcolor": "white",
             "linecolor": "white",
             "minorgridcolor": "white",
             "startlinecolor": "#2a3f5f"
            },
            "baxis": {
             "endlinecolor": "#2a3f5f",
             "gridcolor": "white",
             "linecolor": "white",
             "minorgridcolor": "white",
             "startlinecolor": "#2a3f5f"
            },
            "type": "carpet"
           }
          ],
          "choropleth": [
           {
            "colorbar": {
             "outlinewidth": 0,
             "ticks": ""
            },
            "type": "choropleth"
           }
          ],
          "contour": [
           {
            "colorbar": {
             "outlinewidth": 0,
             "ticks": ""
            },
            "colorscale": [
             [
              0,
              "#0d0887"
             ],
             [
              0.1111111111111111,
              "#46039f"
             ],
             [
              0.2222222222222222,
              "#7201a8"
             ],
             [
              0.3333333333333333,
              "#9c179e"
             ],
             [
              0.4444444444444444,
              "#bd3786"
             ],
             [
              0.5555555555555556,
              "#d8576b"
             ],
             [
              0.6666666666666666,
              "#ed7953"
             ],
             [
              0.7777777777777778,
              "#fb9f3a"
             ],
             [
              0.8888888888888888,
              "#fdca26"
             ],
             [
              1,
              "#f0f921"
             ]
            ],
            "type": "contour"
           }
          ],
          "contourcarpet": [
           {
            "colorbar": {
             "outlinewidth": 0,
             "ticks": ""
            },
            "type": "contourcarpet"
           }
          ],
          "heatmap": [
           {
            "colorbar": {
             "outlinewidth": 0,
             "ticks": ""
            },
            "colorscale": [
             [
              0,
              "#0d0887"
             ],
             [
              0.1111111111111111,
              "#46039f"
             ],
             [
              0.2222222222222222,
              "#7201a8"
             ],
             [
              0.3333333333333333,
              "#9c179e"
             ],
             [
              0.4444444444444444,
              "#bd3786"
             ],
             [
              0.5555555555555556,
              "#d8576b"
             ],
             [
              0.6666666666666666,
              "#ed7953"
             ],
             [
              0.7777777777777778,
              "#fb9f3a"
             ],
             [
              0.8888888888888888,
              "#fdca26"
             ],
             [
              1,
              "#f0f921"
             ]
            ],
            "type": "heatmap"
           }
          ],
          "heatmapgl": [
           {
            "colorbar": {
             "outlinewidth": 0,
             "ticks": ""
            },
            "colorscale": [
             [
              0,
              "#0d0887"
             ],
             [
              0.1111111111111111,
              "#46039f"
             ],
             [
              0.2222222222222222,
              "#7201a8"
             ],
             [
              0.3333333333333333,
              "#9c179e"
             ],
             [
              0.4444444444444444,
              "#bd3786"
             ],
             [
              0.5555555555555556,
              "#d8576b"
             ],
             [
              0.6666666666666666,
              "#ed7953"
             ],
             [
              0.7777777777777778,
              "#fb9f3a"
             ],
             [
              0.8888888888888888,
              "#fdca26"
             ],
             [
              1,
              "#f0f921"
             ]
            ],
            "type": "heatmapgl"
           }
          ],
          "histogram": [
           {
            "marker": {
             "pattern": {
              "fillmode": "overlay",
              "size": 10,
              "solidity": 0.2
             }
            },
            "type": "histogram"
           }
          ],
          "histogram2d": [
           {
            "colorbar": {
             "outlinewidth": 0,
             "ticks": ""
            },
            "colorscale": [
             [
              0,
              "#0d0887"
             ],
             [
              0.1111111111111111,
              "#46039f"
             ],
             [
              0.2222222222222222,
              "#7201a8"
             ],
             [
              0.3333333333333333,
              "#9c179e"
             ],
             [
              0.4444444444444444,
              "#bd3786"
             ],
             [
              0.5555555555555556,
              "#d8576b"
             ],
             [
              0.6666666666666666,
              "#ed7953"
             ],
             [
              0.7777777777777778,
              "#fb9f3a"
             ],
             [
              0.8888888888888888,
              "#fdca26"
             ],
             [
              1,
              "#f0f921"
             ]
            ],
            "type": "histogram2d"
           }
          ],
          "histogram2dcontour": [
           {
            "colorbar": {
             "outlinewidth": 0,
             "ticks": ""
            },
            "colorscale": [
             [
              0,
              "#0d0887"
             ],
             [
              0.1111111111111111,
              "#46039f"
             ],
             [
              0.2222222222222222,
              "#7201a8"
             ],
             [
              0.3333333333333333,
              "#9c179e"
             ],
             [
              0.4444444444444444,
              "#bd3786"
             ],
             [
              0.5555555555555556,
              "#d8576b"
             ],
             [
              0.6666666666666666,
              "#ed7953"
             ],
             [
              0.7777777777777778,
              "#fb9f3a"
             ],
             [
              0.8888888888888888,
              "#fdca26"
             ],
             [
              1,
              "#f0f921"
             ]
            ],
            "type": "histogram2dcontour"
           }
          ],
          "mesh3d": [
           {
            "colorbar": {
             "outlinewidth": 0,
             "ticks": ""
            },
            "type": "mesh3d"
           }
          ],
          "parcoords": [
           {
            "line": {
             "colorbar": {
              "outlinewidth": 0,
              "ticks": ""
             }
            },
            "type": "parcoords"
           }
          ],
          "pie": [
           {
            "automargin": true,
            "type": "pie"
           }
          ],
          "scatter": [
           {
            "fillpattern": {
             "fillmode": "overlay",
             "size": 10,
             "solidity": 0.2
            },
            "type": "scatter"
           }
          ],
          "scatter3d": [
           {
            "line": {
             "colorbar": {
              "outlinewidth": 0,
              "ticks": ""
             }
            },
            "marker": {
             "colorbar": {
              "outlinewidth": 0,
              "ticks": ""
             }
            },
            "type": "scatter3d"
           }
          ],
          "scattercarpet": [
           {
            "marker": {
             "colorbar": {
              "outlinewidth": 0,
              "ticks": ""
             }
            },
            "type": "scattercarpet"
           }
          ],
          "scattergeo": [
           {
            "marker": {
             "colorbar": {
              "outlinewidth": 0,
              "ticks": ""
             }
            },
            "type": "scattergeo"
           }
          ],
          "scattergl": [
           {
            "marker": {
             "colorbar": {
              "outlinewidth": 0,
              "ticks": ""
             }
            },
            "type": "scattergl"
           }
          ],
          "scattermapbox": [
           {
            "marker": {
             "colorbar": {
              "outlinewidth": 0,
              "ticks": ""
             }
            },
            "type": "scattermapbox"
           }
          ],
          "scatterpolar": [
           {
            "marker": {
             "colorbar": {
              "outlinewidth": 0,
              "ticks": ""
             }
            },
            "type": "scatterpolar"
           }
          ],
          "scatterpolargl": [
           {
            "marker": {
             "colorbar": {
              "outlinewidth": 0,
              "ticks": ""
             }
            },
            "type": "scatterpolargl"
           }
          ],
          "scatterternary": [
           {
            "marker": {
             "colorbar": {
              "outlinewidth": 0,
              "ticks": ""
             }
            },
            "type": "scatterternary"
           }
          ],
          "surface": [
           {
            "colorbar": {
             "outlinewidth": 0,
             "ticks": ""
            },
            "colorscale": [
             [
              0,
              "#0d0887"
             ],
             [
              0.1111111111111111,
              "#46039f"
             ],
             [
              0.2222222222222222,
              "#7201a8"
             ],
             [
              0.3333333333333333,
              "#9c179e"
             ],
             [
              0.4444444444444444,
              "#bd3786"
             ],
             [
              0.5555555555555556,
              "#d8576b"
             ],
             [
              0.6666666666666666,
              "#ed7953"
             ],
             [
              0.7777777777777778,
              "#fb9f3a"
             ],
             [
              0.8888888888888888,
              "#fdca26"
             ],
             [
              1,
              "#f0f921"
             ]
            ],
            "type": "surface"
           }
          ],
          "table": [
           {
            "cells": {
             "fill": {
              "color": "#EBF0F8"
             },
             "line": {
              "color": "white"
             }
            },
            "header": {
             "fill": {
              "color": "#C8D4E3"
             },
             "line": {
              "color": "white"
             }
            },
            "type": "table"
           }
          ]
         },
         "layout": {
          "annotationdefaults": {
           "arrowcolor": "#2a3f5f",
           "arrowhead": 0,
           "arrowwidth": 1
          },
          "autotypenumbers": "strict",
          "coloraxis": {
           "colorbar": {
            "outlinewidth": 0,
            "ticks": ""
           }
          },
          "colorscale": {
           "diverging": [
            [
             0,
             "#8e0152"
            ],
            [
             0.1,
             "#c51b7d"
            ],
            [
             0.2,
             "#de77ae"
            ],
            [
             0.3,
             "#f1b6da"
            ],
            [
             0.4,
             "#fde0ef"
            ],
            [
             0.5,
             "#f7f7f7"
            ],
            [
             0.6,
             "#e6f5d0"
            ],
            [
             0.7,
             "#b8e186"
            ],
            [
             0.8,
             "#7fbc41"
            ],
            [
             0.9,
             "#4d9221"
            ],
            [
             1,
             "#276419"
            ]
           ],
           "sequential": [
            [
             0,
             "#0d0887"
            ],
            [
             0.1111111111111111,
             "#46039f"
            ],
            [
             0.2222222222222222,
             "#7201a8"
            ],
            [
             0.3333333333333333,
             "#9c179e"
            ],
            [
             0.4444444444444444,
             "#bd3786"
            ],
            [
             0.5555555555555556,
             "#d8576b"
            ],
            [
             0.6666666666666666,
             "#ed7953"
            ],
            [
             0.7777777777777778,
             "#fb9f3a"
            ],
            [
             0.8888888888888888,
             "#fdca26"
            ],
            [
             1,
             "#f0f921"
            ]
           ],
           "sequentialminus": [
            [
             0,
             "#0d0887"
            ],
            [
             0.1111111111111111,
             "#46039f"
            ],
            [
             0.2222222222222222,
             "#7201a8"
            ],
            [
             0.3333333333333333,
             "#9c179e"
            ],
            [
             0.4444444444444444,
             "#bd3786"
            ],
            [
             0.5555555555555556,
             "#d8576b"
            ],
            [
             0.6666666666666666,
             "#ed7953"
            ],
            [
             0.7777777777777778,
             "#fb9f3a"
            ],
            [
             0.8888888888888888,
             "#fdca26"
            ],
            [
             1,
             "#f0f921"
            ]
           ]
          },
          "colorway": [
           "#636efa",
           "#EF553B",
           "#00cc96",
           "#ab63fa",
           "#FFA15A",
           "#19d3f3",
           "#FF6692",
           "#B6E880",
           "#FF97FF",
           "#FECB52"
          ],
          "font": {
           "color": "#2a3f5f"
          },
          "geo": {
           "bgcolor": "white",
           "lakecolor": "white",
           "landcolor": "#E5ECF6",
           "showlakes": true,
           "showland": true,
           "subunitcolor": "white"
          },
          "hoverlabel": {
           "align": "left"
          },
          "hovermode": "closest",
          "mapbox": {
           "style": "light"
          },
          "paper_bgcolor": "white",
          "plot_bgcolor": "#E5ECF6",
          "polar": {
           "angularaxis": {
            "gridcolor": "white",
            "linecolor": "white",
            "ticks": ""
           },
           "bgcolor": "#E5ECF6",
           "radialaxis": {
            "gridcolor": "white",
            "linecolor": "white",
            "ticks": ""
           }
          },
          "scene": {
           "xaxis": {
            "backgroundcolor": "#E5ECF6",
            "gridcolor": "white",
            "gridwidth": 2,
            "linecolor": "white",
            "showbackground": true,
            "ticks": "",
            "zerolinecolor": "white"
           },
           "yaxis": {
            "backgroundcolor": "#E5ECF6",
            "gridcolor": "white",
            "gridwidth": 2,
            "linecolor": "white",
            "showbackground": true,
            "ticks": "",
            "zerolinecolor": "white"
           },
           "zaxis": {
            "backgroundcolor": "#E5ECF6",
            "gridcolor": "white",
            "gridwidth": 2,
            "linecolor": "white",
            "showbackground": true,
            "ticks": "",
            "zerolinecolor": "white"
           }
          },
          "shapedefaults": {
           "line": {
            "color": "#2a3f5f"
           }
          },
          "ternary": {
           "aaxis": {
            "gridcolor": "white",
            "linecolor": "white",
            "ticks": ""
           },
           "baxis": {
            "gridcolor": "white",
            "linecolor": "white",
            "ticks": ""
           },
           "bgcolor": "#E5ECF6",
           "caxis": {
            "gridcolor": "white",
            "linecolor": "white",
            "ticks": ""
           }
          },
          "title": {
           "x": 0.05
          },
          "xaxis": {
           "automargin": true,
           "gridcolor": "white",
           "linecolor": "white",
           "ticks": "",
           "title": {
            "standoff": 15
           },
           "zerolinecolor": "white",
           "zerolinewidth": 2
          },
          "yaxis": {
           "automargin": true,
           "gridcolor": "white",
           "linecolor": "white",
           "ticks": "",
           "title": {
            "standoff": 15
           },
           "zerolinecolor": "white",
           "zerolinewidth": 2
          }
         }
        },
        "title": {
         "text": "IBM Stock"
        },
        "xaxis": {
         "title": {
          "text": "Date"
         }
        },
        "yaxis": {
         "title": {
          "text": "Close"
         }
        }
       }
      }
     },
     "metadata": {},
     "output_type": "display_data"
    },
    {
     "data": {
      "application/vnd.plotly.v1+json": {
       "config": {
        "plotlyServerURL": "https://plot.ly"
       },
       "data": [
        {
         "mode": "lines",
         "name": "Future Predictions",
         "type": "scatter",
         "x": [
          "2022-10-06T00:00:00",
          "2022-10-07T00:00:00",
          "2022-10-08T00:00:00",
          "2022-10-09T00:00:00",
          "2022-10-10T00:00:00",
          "2022-10-11T00:00:00"
         ],
         "y": [
          122.230003,
          122.26951599121094,
          122.96668243408203,
          123.37999725341797,
          123.1797103881836,
          122.60623931884766
         ]
        },
        {
         "mode": "lines",
         "name": "5-Day Data",
         "type": "scatter",
         "x": [
          "2022-10-06T00:00:00",
          "2022-10-07T00:00:00",
          "2022-10-08T00:00:00",
          "2022-10-09T00:00:00",
          "2022-10-10T00:00:00",
          "2022-10-11T00:00:00"
         ],
         "y": [
          122.230003,
          118.82,
          118.46,
          118.11,
          117.75,
          117.800003
         ]
        },
        {
         "mode": "lines",
         "name": "Ground Truth",
         "type": "scatter",
         "x": [
          "2022-08-31",
          "2022-09-01",
          "2022-09-02",
          "2022-09-06",
          "2022-09-07",
          "2022-09-08",
          "2022-09-09",
          "2022-09-12",
          "2022-09-13",
          "2022-09-14",
          "2022-09-15",
          "2022-09-16",
          "2022-09-19",
          "2022-09-20",
          "2022-09-21",
          "2022-09-22",
          "2022-09-23",
          "2022-09-26",
          "2022-09-27",
          "2022-09-28",
          "2022-09-29",
          "2022-09-30",
          "2022-10-03",
          "2022-10-04",
          "2022-10-05",
          "2022-10-06"
         ],
         "y": [
          128.449997,
          129.660004,
          127.790001,
          126.720001,
          127.709999,
          128.470001,
          129.190002,
          130.660004,
          127.25,
          127.690002,
          125.489998,
          127.269997,
          127.730003,
          126.300003,
          124.93,
          125.309998,
          122.709999,
          122.010002,
          121.739998,
          122.760002,
          121.629997,
          118.809998,
          121.510002,
          125.5,
          125.739998,
          122.230003
         ]
        }
       ],
       "layout": {
        "font": {
         "size": 20
        },
        "template": {
         "data": {
          "bar": [
           {
            "error_x": {
             "color": "#2a3f5f"
            },
            "error_y": {
             "color": "#2a3f5f"
            },
            "marker": {
             "line": {
              "color": "#E5ECF6",
              "width": 0.5
             },
             "pattern": {
              "fillmode": "overlay",
              "size": 10,
              "solidity": 0.2
             }
            },
            "type": "bar"
           }
          ],
          "barpolar": [
           {
            "marker": {
             "line": {
              "color": "#E5ECF6",
              "width": 0.5
             },
             "pattern": {
              "fillmode": "overlay",
              "size": 10,
              "solidity": 0.2
             }
            },
            "type": "barpolar"
           }
          ],
          "carpet": [
           {
            "aaxis": {
             "endlinecolor": "#2a3f5f",
             "gridcolor": "white",
             "linecolor": "white",
             "minorgridcolor": "white",
             "startlinecolor": "#2a3f5f"
            },
            "baxis": {
             "endlinecolor": "#2a3f5f",
             "gridcolor": "white",
             "linecolor": "white",
             "minorgridcolor": "white",
             "startlinecolor": "#2a3f5f"
            },
            "type": "carpet"
           }
          ],
          "choropleth": [
           {
            "colorbar": {
             "outlinewidth": 0,
             "ticks": ""
            },
            "type": "choropleth"
           }
          ],
          "contour": [
           {
            "colorbar": {
             "outlinewidth": 0,
             "ticks": ""
            },
            "colorscale": [
             [
              0,
              "#0d0887"
             ],
             [
              0.1111111111111111,
              "#46039f"
             ],
             [
              0.2222222222222222,
              "#7201a8"
             ],
             [
              0.3333333333333333,
              "#9c179e"
             ],
             [
              0.4444444444444444,
              "#bd3786"
             ],
             [
              0.5555555555555556,
              "#d8576b"
             ],
             [
              0.6666666666666666,
              "#ed7953"
             ],
             [
              0.7777777777777778,
              "#fb9f3a"
             ],
             [
              0.8888888888888888,
              "#fdca26"
             ],
             [
              1,
              "#f0f921"
             ]
            ],
            "type": "contour"
           }
          ],
          "contourcarpet": [
           {
            "colorbar": {
             "outlinewidth": 0,
             "ticks": ""
            },
            "type": "contourcarpet"
           }
          ],
          "heatmap": [
           {
            "colorbar": {
             "outlinewidth": 0,
             "ticks": ""
            },
            "colorscale": [
             [
              0,
              "#0d0887"
             ],
             [
              0.1111111111111111,
              "#46039f"
             ],
             [
              0.2222222222222222,
              "#7201a8"
             ],
             [
              0.3333333333333333,
              "#9c179e"
             ],
             [
              0.4444444444444444,
              "#bd3786"
             ],
             [
              0.5555555555555556,
              "#d8576b"
             ],
             [
              0.6666666666666666,
              "#ed7953"
             ],
             [
              0.7777777777777778,
              "#fb9f3a"
             ],
             [
              0.8888888888888888,
              "#fdca26"
             ],
             [
              1,
              "#f0f921"
             ]
            ],
            "type": "heatmap"
           }
          ],
          "heatmapgl": [
           {
            "colorbar": {
             "outlinewidth": 0,
             "ticks": ""
            },
            "colorscale": [
             [
              0,
              "#0d0887"
             ],
             [
              0.1111111111111111,
              "#46039f"
             ],
             [
              0.2222222222222222,
              "#7201a8"
             ],
             [
              0.3333333333333333,
              "#9c179e"
             ],
             [
              0.4444444444444444,
              "#bd3786"
             ],
             [
              0.5555555555555556,
              "#d8576b"
             ],
             [
              0.6666666666666666,
              "#ed7953"
             ],
             [
              0.7777777777777778,
              "#fb9f3a"
             ],
             [
              0.8888888888888888,
              "#fdca26"
             ],
             [
              1,
              "#f0f921"
             ]
            ],
            "type": "heatmapgl"
           }
          ],
          "histogram": [
           {
            "marker": {
             "pattern": {
              "fillmode": "overlay",
              "size": 10,
              "solidity": 0.2
             }
            },
            "type": "histogram"
           }
          ],
          "histogram2d": [
           {
            "colorbar": {
             "outlinewidth": 0,
             "ticks": ""
            },
            "colorscale": [
             [
              0,
              "#0d0887"
             ],
             [
              0.1111111111111111,
              "#46039f"
             ],
             [
              0.2222222222222222,
              "#7201a8"
             ],
             [
              0.3333333333333333,
              "#9c179e"
             ],
             [
              0.4444444444444444,
              "#bd3786"
             ],
             [
              0.5555555555555556,
              "#d8576b"
             ],
             [
              0.6666666666666666,
              "#ed7953"
             ],
             [
              0.7777777777777778,
              "#fb9f3a"
             ],
             [
              0.8888888888888888,
              "#fdca26"
             ],
             [
              1,
              "#f0f921"
             ]
            ],
            "type": "histogram2d"
           }
          ],
          "histogram2dcontour": [
           {
            "colorbar": {
             "outlinewidth": 0,
             "ticks": ""
            },
            "colorscale": [
             [
              0,
              "#0d0887"
             ],
             [
              0.1111111111111111,
              "#46039f"
             ],
             [
              0.2222222222222222,
              "#7201a8"
             ],
             [
              0.3333333333333333,
              "#9c179e"
             ],
             [
              0.4444444444444444,
              "#bd3786"
             ],
             [
              0.5555555555555556,
              "#d8576b"
             ],
             [
              0.6666666666666666,
              "#ed7953"
             ],
             [
              0.7777777777777778,
              "#fb9f3a"
             ],
             [
              0.8888888888888888,
              "#fdca26"
             ],
             [
              1,
              "#f0f921"
             ]
            ],
            "type": "histogram2dcontour"
           }
          ],
          "mesh3d": [
           {
            "colorbar": {
             "outlinewidth": 0,
             "ticks": ""
            },
            "type": "mesh3d"
           }
          ],
          "parcoords": [
           {
            "line": {
             "colorbar": {
              "outlinewidth": 0,
              "ticks": ""
             }
            },
            "type": "parcoords"
           }
          ],
          "pie": [
           {
            "automargin": true,
            "type": "pie"
           }
          ],
          "scatter": [
           {
            "fillpattern": {
             "fillmode": "overlay",
             "size": 10,
             "solidity": 0.2
            },
            "type": "scatter"
           }
          ],
          "scatter3d": [
           {
            "line": {
             "colorbar": {
              "outlinewidth": 0,
              "ticks": ""
             }
            },
            "marker": {
             "colorbar": {
              "outlinewidth": 0,
              "ticks": ""
             }
            },
            "type": "scatter3d"
           }
          ],
          "scattercarpet": [
           {
            "marker": {
             "colorbar": {
              "outlinewidth": 0,
              "ticks": ""
             }
            },
            "type": "scattercarpet"
           }
          ],
          "scattergeo": [
           {
            "marker": {
             "colorbar": {
              "outlinewidth": 0,
              "ticks": ""
             }
            },
            "type": "scattergeo"
           }
          ],
          "scattergl": [
           {
            "marker": {
             "colorbar": {
              "outlinewidth": 0,
              "ticks": ""
             }
            },
            "type": "scattergl"
           }
          ],
          "scattermapbox": [
           {
            "marker": {
             "colorbar": {
              "outlinewidth": 0,
              "ticks": ""
             }
            },
            "type": "scattermapbox"
           }
          ],
          "scatterpolar": [
           {
            "marker": {
             "colorbar": {
              "outlinewidth": 0,
              "ticks": ""
             }
            },
            "type": "scatterpolar"
           }
          ],
          "scatterpolargl": [
           {
            "marker": {
             "colorbar": {
              "outlinewidth": 0,
              "ticks": ""
             }
            },
            "type": "scatterpolargl"
           }
          ],
          "scatterternary": [
           {
            "marker": {
             "colorbar": {
              "outlinewidth": 0,
              "ticks": ""
             }
            },
            "type": "scatterternary"
           }
          ],
          "surface": [
           {
            "colorbar": {
             "outlinewidth": 0,
             "ticks": ""
            },
            "colorscale": [
             [
              0,
              "#0d0887"
             ],
             [
              0.1111111111111111,
              "#46039f"
             ],
             [
              0.2222222222222222,
              "#7201a8"
             ],
             [
              0.3333333333333333,
              "#9c179e"
             ],
             [
              0.4444444444444444,
              "#bd3786"
             ],
             [
              0.5555555555555556,
              "#d8576b"
             ],
             [
              0.6666666666666666,
              "#ed7953"
             ],
             [
              0.7777777777777778,
              "#fb9f3a"
             ],
             [
              0.8888888888888888,
              "#fdca26"
             ],
             [
              1,
              "#f0f921"
             ]
            ],
            "type": "surface"
           }
          ],
          "table": [
           {
            "cells": {
             "fill": {
              "color": "#EBF0F8"
             },
             "line": {
              "color": "white"
             }
            },
            "header": {
             "fill": {
              "color": "#C8D4E3"
             },
             "line": {
              "color": "white"
             }
            },
            "type": "table"
           }
          ]
         },
         "layout": {
          "annotationdefaults": {
           "arrowcolor": "#2a3f5f",
           "arrowhead": 0,
           "arrowwidth": 1
          },
          "autotypenumbers": "strict",
          "coloraxis": {
           "colorbar": {
            "outlinewidth": 0,
            "ticks": ""
           }
          },
          "colorscale": {
           "diverging": [
            [
             0,
             "#8e0152"
            ],
            [
             0.1,
             "#c51b7d"
            ],
            [
             0.2,
             "#de77ae"
            ],
            [
             0.3,
             "#f1b6da"
            ],
            [
             0.4,
             "#fde0ef"
            ],
            [
             0.5,
             "#f7f7f7"
            ],
            [
             0.6,
             "#e6f5d0"
            ],
            [
             0.7,
             "#b8e186"
            ],
            [
             0.8,
             "#7fbc41"
            ],
            [
             0.9,
             "#4d9221"
            ],
            [
             1,
             "#276419"
            ]
           ],
           "sequential": [
            [
             0,
             "#0d0887"
            ],
            [
             0.1111111111111111,
             "#46039f"
            ],
            [
             0.2222222222222222,
             "#7201a8"
            ],
            [
             0.3333333333333333,
             "#9c179e"
            ],
            [
             0.4444444444444444,
             "#bd3786"
            ],
            [
             0.5555555555555556,
             "#d8576b"
            ],
            [
             0.6666666666666666,
             "#ed7953"
            ],
            [
             0.7777777777777778,
             "#fb9f3a"
            ],
            [
             0.8888888888888888,
             "#fdca26"
            ],
            [
             1,
             "#f0f921"
            ]
           ],
           "sequentialminus": [
            [
             0,
             "#0d0887"
            ],
            [
             0.1111111111111111,
             "#46039f"
            ],
            [
             0.2222222222222222,
             "#7201a8"
            ],
            [
             0.3333333333333333,
             "#9c179e"
            ],
            [
             0.4444444444444444,
             "#bd3786"
            ],
            [
             0.5555555555555556,
             "#d8576b"
            ],
            [
             0.6666666666666666,
             "#ed7953"
            ],
            [
             0.7777777777777778,
             "#fb9f3a"
            ],
            [
             0.8888888888888888,
             "#fdca26"
            ],
            [
             1,
             "#f0f921"
            ]
           ]
          },
          "colorway": [
           "#636efa",
           "#EF553B",
           "#00cc96",
           "#ab63fa",
           "#FFA15A",
           "#19d3f3",
           "#FF6692",
           "#B6E880",
           "#FF97FF",
           "#FECB52"
          ],
          "font": {
           "color": "#2a3f5f"
          },
          "geo": {
           "bgcolor": "white",
           "lakecolor": "white",
           "landcolor": "#E5ECF6",
           "showlakes": true,
           "showland": true,
           "subunitcolor": "white"
          },
          "hoverlabel": {
           "align": "left"
          },
          "hovermode": "closest",
          "mapbox": {
           "style": "light"
          },
          "paper_bgcolor": "white",
          "plot_bgcolor": "#E5ECF6",
          "polar": {
           "angularaxis": {
            "gridcolor": "white",
            "linecolor": "white",
            "ticks": ""
           },
           "bgcolor": "#E5ECF6",
           "radialaxis": {
            "gridcolor": "white",
            "linecolor": "white",
            "ticks": ""
           }
          },
          "scene": {
           "xaxis": {
            "backgroundcolor": "#E5ECF6",
            "gridcolor": "white",
            "gridwidth": 2,
            "linecolor": "white",
            "showbackground": true,
            "ticks": "",
            "zerolinecolor": "white"
           },
           "yaxis": {
            "backgroundcolor": "#E5ECF6",
            "gridcolor": "white",
            "gridwidth": 2,
            "linecolor": "white",
            "showbackground": true,
            "ticks": "",
            "zerolinecolor": "white"
           },
           "zaxis": {
            "backgroundcolor": "#E5ECF6",
            "gridcolor": "white",
            "gridwidth": 2,
            "linecolor": "white",
            "showbackground": true,
            "ticks": "",
            "zerolinecolor": "white"
           }
          },
          "shapedefaults": {
           "line": {
            "color": "#2a3f5f"
           }
          },
          "ternary": {
           "aaxis": {
            "gridcolor": "white",
            "linecolor": "white",
            "ticks": ""
           },
           "baxis": {
            "gridcolor": "white",
            "linecolor": "white",
            "ticks": ""
           },
           "bgcolor": "#E5ECF6",
           "caxis": {
            "gridcolor": "white",
            "linecolor": "white",
            "ticks": ""
           }
          },
          "title": {
           "x": 0.05
          },
          "xaxis": {
           "automargin": true,
           "gridcolor": "white",
           "linecolor": "white",
           "ticks": "",
           "title": {
            "standoff": 15
           },
           "zerolinecolor": "white",
           "zerolinewidth": 2
          },
          "yaxis": {
           "automargin": true,
           "gridcolor": "white",
           "linecolor": "white",
           "ticks": "",
           "title": {
            "standoff": 15
           },
           "zerolinecolor": "white",
           "zerolinewidth": 2
          }
         }
        },
        "title": {
         "text": "IBM Stock"
        },
        "xaxis": {
         "title": {
          "text": "Date"
         }
        },
        "yaxis": {
         "title": {
          "text": "Close"
         }
        }
       }
      }
     },
     "metadata": {},
     "output_type": "display_data"
    }
   ],
   "source": [
    "pred(df_IBM,df_IBM_future,df_IBM_comp)"
   ]
  },
  {
   "cell_type": "code",
   "execution_count": 29,
   "metadata": {
    "scrolled": false
   },
   "outputs": [
    {
     "name": "stdout",
     "output_type": "stream",
     "text": [
      "Epoch 1/100\n",
      "1/1 [==============================] - 1s 849ms/step - loss: 90188.7734\n",
      "Epoch 2/100\n",
      "1/1 [==============================] - 0s 10ms/step - loss: 84731.2266\n",
      "Epoch 3/100\n",
      "1/1 [==============================] - 0s 11ms/step - loss: 79403.2578\n",
      "Epoch 4/100\n",
      "1/1 [==============================] - 0s 11ms/step - loss: 74764.7812\n",
      "Epoch 5/100\n",
      "1/1 [==============================] - 0s 11ms/step - loss: 72242.2266\n",
      "Epoch 6/100\n",
      "1/1 [==============================] - 0s 13ms/step - loss: 70010.8438\n",
      "Epoch 7/100\n",
      "1/1 [==============================] - 0s 11ms/step - loss: 66563.6484\n",
      "Epoch 8/100\n",
      "1/1 [==============================] - 0s 10ms/step - loss: 62320.5742\n",
      "Epoch 9/100\n",
      "1/1 [==============================] - 0s 11ms/step - loss: 59508.2656\n",
      "Epoch 10/100\n",
      "1/1 [==============================] - 0s 13ms/step - loss: 57569.0312\n",
      "Epoch 11/100\n",
      "1/1 [==============================] - 0s 12ms/step - loss: 55862.3867\n",
      "Epoch 12/100\n",
      "1/1 [==============================] - 0s 10ms/step - loss: 54149.1562\n",
      "Epoch 13/100\n",
      "1/1 [==============================] - 0s 12ms/step - loss: 51864.8945\n",
      "Epoch 14/100\n",
      "1/1 [==============================] - 0s 13ms/step - loss: 51255.7188\n",
      "Epoch 15/100\n",
      "1/1 [==============================] - 0s 11ms/step - loss: 48925.4961\n",
      "Epoch 16/100\n",
      "1/1 [==============================] - 0s 14ms/step - loss: 47895.3945\n",
      "Epoch 17/100\n",
      "1/1 [==============================] - 0s 11ms/step - loss: 46495.9258\n",
      "Epoch 18/100\n",
      "1/1 [==============================] - 0s 11ms/step - loss: 44989.6094\n",
      "Epoch 19/100\n",
      "1/1 [==============================] - 0s 11ms/step - loss: 43431.4805\n",
      "Epoch 20/100\n",
      "1/1 [==============================] - 0s 11ms/step - loss: 42167.4648\n",
      "Epoch 21/100\n",
      "1/1 [==============================] - 0s 11ms/step - loss: 40887.5977\n",
      "Epoch 22/100\n",
      "1/1 [==============================] - 0s 12ms/step - loss: 39404.3359\n",
      "Epoch 23/100\n",
      "1/1 [==============================] - 0s 11ms/step - loss: 38097.9570\n",
      "Epoch 24/100\n",
      "1/1 [==============================] - 0s 20ms/step - loss: 36763.0312\n",
      "Epoch 25/100\n",
      "1/1 [==============================] - 0s 16ms/step - loss: 35387.2852\n",
      "Epoch 26/100\n",
      "1/1 [==============================] - 0s 12ms/step - loss: 34060.1523\n",
      "Epoch 27/100\n",
      "1/1 [==============================] - 0s 11ms/step - loss: 32934.4102\n",
      "Epoch 28/100\n",
      "1/1 [==============================] - 0s 9ms/step - loss: 31621.7676\n",
      "Epoch 29/100\n",
      "1/1 [==============================] - 0s 11ms/step - loss: 30346.3535\n",
      "Epoch 30/100\n",
      "1/1 [==============================] - 0s 10ms/step - loss: 29217.7520\n",
      "Epoch 31/100\n",
      "1/1 [==============================] - 0s 10ms/step - loss: 28066.6035\n",
      "Epoch 32/100\n",
      "1/1 [==============================] - 0s 11ms/step - loss: 26827.2344\n",
      "Epoch 33/100\n",
      "1/1 [==============================] - 0s 10ms/step - loss: 25496.4844\n",
      "Epoch 34/100\n",
      "1/1 [==============================] - 0s 11ms/step - loss: 24111.2559\n",
      "Epoch 35/100\n",
      "1/1 [==============================] - 0s 12ms/step - loss: 22776.5000\n",
      "Epoch 36/100\n",
      "1/1 [==============================] - 0s 11ms/step - loss: 21570.0176\n",
      "Epoch 37/100\n",
      "1/1 [==============================] - 0s 12ms/step - loss: 20289.3828\n",
      "Epoch 38/100\n",
      "1/1 [==============================] - 0s 11ms/step - loss: 18997.1934\n",
      "Epoch 39/100\n",
      "1/1 [==============================] - 0s 10ms/step - loss: 17619.2910\n",
      "Epoch 40/100\n",
      "1/1 [==============================] - 0s 12ms/step - loss: 16528.2676\n",
      "Epoch 41/100\n",
      "1/1 [==============================] - 0s 12ms/step - loss: 15560.1436\n",
      "Epoch 42/100\n",
      "1/1 [==============================] - 0s 11ms/step - loss: 14575.8838\n",
      "Epoch 43/100\n",
      "1/1 [==============================] - 0s 10ms/step - loss: 13585.9922\n",
      "Epoch 44/100\n",
      "1/1 [==============================] - 0s 11ms/step - loss: 12604.2080\n",
      "Epoch 45/100\n",
      "1/1 [==============================] - 0s 11ms/step - loss: 11621.4463\n",
      "Epoch 46/100\n",
      "1/1 [==============================] - 0s 11ms/step - loss: 10626.0469\n",
      "Epoch 47/100\n",
      "1/1 [==============================] - 0s 10ms/step - loss: 9673.4844\n",
      "Epoch 48/100\n",
      "1/1 [==============================] - 0s 11ms/step - loss: 8790.6260\n",
      "Epoch 49/100\n",
      "1/1 [==============================] - 0s 10ms/step - loss: 7916.3062\n",
      "Epoch 50/100\n",
      "1/1 [==============================] - 0s 10ms/step - loss: 7034.6953\n",
      "Epoch 51/100\n",
      "1/1 [==============================] - 0s 11ms/step - loss: 6137.6367\n",
      "Epoch 52/100\n",
      "1/1 [==============================] - 0s 10ms/step - loss: 5121.7134\n",
      "Epoch 53/100\n",
      "1/1 [==============================] - 0s 17ms/step - loss: 4069.1230\n",
      "Epoch 54/100\n",
      "1/1 [==============================] - 0s 12ms/step - loss: 3293.7844\n",
      "Epoch 55/100\n",
      "1/1 [==============================] - 0s 10ms/step - loss: 2545.5916\n",
      "Epoch 56/100\n",
      "1/1 [==============================] - 0s 11ms/step - loss: 1974.3682\n",
      "Epoch 57/100\n",
      "1/1 [==============================] - 0s 11ms/step - loss: 1579.4805\n",
      "Epoch 58/100\n",
      "1/1 [==============================] - 0s 10ms/step - loss: 1243.2545\n",
      "Epoch 59/100\n",
      "1/1 [==============================] - 0s 10ms/step - loss: 930.4460\n",
      "Epoch 60/100\n",
      "1/1 [==============================] - 0s 10ms/step - loss: 657.4915\n",
      "Epoch 61/100\n",
      "1/1 [==============================] - 0s 11ms/step - loss: 442.0146\n",
      "Epoch 62/100\n",
      "1/1 [==============================] - 0s 11ms/step - loss: 285.0277\n",
      "Epoch 63/100\n",
      "1/1 [==============================] - 0s 11ms/step - loss: 178.4934\n",
      "Epoch 64/100\n",
      "1/1 [==============================] - 0s 11ms/step - loss: 113.2262\n",
      "Epoch 65/100\n",
      "1/1 [==============================] - 0s 9ms/step - loss: 80.9025\n",
      "Epoch 66/100\n",
      "1/1 [==============================] - 0s 11ms/step - loss: 74.3750\n",
      "Epoch 67/100\n",
      "1/1 [==============================] - 0s 10ms/step - loss: 87.4832\n",
      "Epoch 68/100\n",
      "1/1 [==============================] - 0s 11ms/step - loss: 114.1970\n",
      "Epoch 69/100\n",
      "1/1 [==============================] - 0s 11ms/step - loss: 147.9665\n",
      "Epoch 70/100\n",
      "1/1 [==============================] - 0s 10ms/step - loss: 183.8606\n",
      "Epoch 71/100\n",
      "1/1 [==============================] - 0s 10ms/step - loss: 218.6771\n",
      "Epoch 72/100\n",
      "1/1 [==============================] - 0s 12ms/step - loss: 250.3111\n",
      "Epoch 73/100\n",
      "1/1 [==============================] - 0s 11ms/step - loss: 277.3992\n",
      "Epoch 74/100\n",
      "1/1 [==============================] - 0s 11ms/step - loss: 299.0626\n",
      "Epoch 75/100\n",
      "1/1 [==============================] - 0s 11ms/step - loss: 314.7611\n",
      "Epoch 76/100\n",
      "1/1 [==============================] - 0s 11ms/step - loss: 324.2479\n",
      "Epoch 77/100\n",
      "1/1 [==============================] - 0s 11ms/step - loss: 327.5701\n",
      "Epoch 78/100\n",
      "1/1 [==============================] - 0s 12ms/step - loss: 325.0627\n",
      "Epoch 79/100\n",
      "1/1 [==============================] - 0s 13ms/step - loss: 317.3054\n",
      "Epoch 80/100\n",
      "1/1 [==============================] - 0s 11ms/step - loss: 305.0605\n",
      "Epoch 81/100\n",
      "1/1 [==============================] - 0s 12ms/step - loss: 289.2029\n",
      "Epoch 82/100\n",
      "1/1 [==============================] - 0s 12ms/step - loss: 270.6481\n",
      "Epoch 83/100\n",
      "1/1 [==============================] - 0s 20ms/step - loss: 250.2755\n",
      "Epoch 84/100\n",
      "1/1 [==============================] - 0s 13ms/step - loss: 228.8359\n",
      "Epoch 85/100\n",
      "1/1 [==============================] - 0s 10ms/step - loss: 206.7358\n",
      "Epoch 86/100\n",
      "1/1 [==============================] - 0s 12ms/step - loss: 183.4081\n",
      "Epoch 87/100\n",
      "1/1 [==============================] - 0s 10ms/step - loss: 155.4268\n",
      "Epoch 88/100\n",
      "1/1 [==============================] - 0s 11ms/step - loss: 112.9408\n",
      "Epoch 89/100\n",
      "1/1 [==============================] - 0s 10ms/step - loss: 54.4465\n",
      "Epoch 90/100\n",
      "1/1 [==============================] - 0s 11ms/step - loss: 157.5473\n",
      "Epoch 91/100\n",
      "1/1 [==============================] - 0s 11ms/step - loss: 70.9757\n",
      "Epoch 92/100\n",
      "1/1 [==============================] - 0s 10ms/step - loss: 54.0146\n",
      "Epoch 93/100\n",
      "1/1 [==============================] - 0s 11ms/step - loss: 67.9680\n",
      "Epoch 94/100\n",
      "1/1 [==============================] - 0s 10ms/step - loss: 74.0808\n",
      "Epoch 95/100\n",
      "1/1 [==============================] - 0s 10ms/step - loss: 74.4081\n",
      "Epoch 96/100\n",
      "1/1 [==============================] - 0s 10ms/step - loss: 72.2800\n",
      "Epoch 97/100\n",
      "1/1 [==============================] - 0s 11ms/step - loss: 69.3679\n",
      "Epoch 98/100\n",
      "1/1 [==============================] - 0s 10ms/step - loss: 66.4409\n",
      "Epoch 99/100\n",
      "1/1 [==============================] - 0s 10ms/step - loss: 63.8354\n",
      "Epoch 100/100\n",
      "1/1 [==============================] - 0s 10ms/step - loss: 61.7258\n",
      "1/1 [==============================] - 0s 130ms/step\n",
      "1/1 [==============================] - 0s 120ms/step\n",
      "1/1 [==============================] - 0s 13ms/step\n",
      "1/1 [==============================] - 0s 14ms/step\n",
      "1/1 [==============================] - 0s 13ms/step\n",
      "1/1 [==============================] - 0s 14ms/step\n"
     ]
    },
    {
     "data": {
      "application/vnd.plotly.v1+json": {
       "config": {
        "plotlyServerURL": "https://plot.ly"
       },
       "data": [
        {
         "mode": "lines",
         "name": "Training Data",
         "type": "scatter",
         "x": [
          "2022-04-06",
          "2022-04-07",
          "2022-04-08",
          "2022-04-11",
          "2022-04-12",
          "2022-04-13",
          "2022-04-14",
          "2022-04-18",
          "2022-04-19",
          "2022-04-20",
          "2022-04-21",
          "2022-04-22",
          "2022-04-25",
          "2022-04-26",
          "2022-04-27",
          "2022-04-28",
          "2022-04-29",
          "2022-05-02",
          "2022-05-03",
          "2022-05-04",
          "2022-05-05",
          "2022-05-06",
          "2022-05-09",
          "2022-05-10",
          "2022-05-11",
          "2022-05-12",
          "2022-05-13",
          "2022-05-16",
          "2022-05-17",
          "2022-05-18",
          "2022-05-19",
          "2022-05-20",
          "2022-05-23",
          "2022-05-24",
          "2022-05-25",
          "2022-05-26",
          "2022-05-27",
          "2022-05-31",
          "2022-06-01",
          "2022-06-02",
          "2022-06-03",
          "2022-06-06",
          "2022-06-07",
          "2022-06-08",
          "2022-06-09",
          "2022-06-10",
          "2022-06-13",
          "2022-06-14",
          "2022-06-15",
          "2022-06-16",
          "2022-06-17",
          "2022-06-21",
          "2022-06-22",
          "2022-06-23",
          "2022-06-24",
          "2022-06-27",
          "2022-06-28",
          "2022-06-29",
          "2022-06-30",
          "2022-07-01",
          "2022-07-05",
          "2022-07-06",
          "2022-07-07",
          "2022-07-08",
          "2022-07-11",
          "2022-07-12",
          "2022-07-13",
          "2022-07-14",
          "2022-07-15",
          "2022-07-18",
          "2022-07-19",
          "2022-07-20",
          "2022-07-21",
          "2022-07-22",
          "2022-07-25",
          "2022-07-26",
          "2022-07-27",
          "2022-07-28",
          "2022-07-29",
          "2022-08-01",
          "2022-08-02",
          "2022-08-03",
          "2022-08-04",
          "2022-08-05",
          "2022-08-08",
          "2022-08-09",
          "2022-08-10",
          "2022-08-11",
          "2022-08-12",
          "2022-08-15",
          "2022-08-16",
          "2022-08-17",
          "2022-08-18",
          "2022-08-19",
          "2022-08-22",
          "2022-08-23",
          "2022-08-24",
          "2022-08-25",
          "2022-08-26",
          "2022-08-29",
          "2022-08-30"
         ],
         "y": [
          299.5,
          301.369995,
          296.970001,
          285.26001,
          282.059998,
          287.619995,
          279.829987,
          280.519989,
          285.299988,
          286.359985,
          280.809998,
          274.029999,
          280.720001,
          270.220001,
          283.220001,
          289.630005,
          277.519989,
          284.470001,
          281.779999,
          289.980011,
          277.350006,
          274.730011,
          264.579987,
          269.5,
          260.549988,
          255.350006,
          261.119995,
          261.5,
          266.820007,
          254.080002,
          253.139999,
          252.559998,
          260.649994,
          259.619995,
          262.519989,
          265.899994,
          273.23999,
          271.869995,
          272.420013,
          274.579987,
          270.019989,
          268.75,
          272.5,
          270.410004,
          264.790009,
          252.990005,
          242.259995,
          244.490005,
          251.759995,
          244.970001,
          247.649994,
          253.740005,
          253.130005,
          258.859985,
          267.700012,
          264.890015,
          256.480011,
          260.26001,
          256.829987,
          259.579987,
          262.850006,
          266.209991,
          268.399994,
          267.660004,
          264.51001,
          253.669998,
          252.720001,
          254.080002,
          256.720001,
          254.25,
          259.529999,
          262.269989,
          264.839996,
          260.359985,
          258.829987,
          251.899994,
          268.73999,
          276.410004,
          280.73999,
          278.01001,
          274.820007,
          282.470001,
          283.649994,
          282.910004,
          280.320007,
          282.299988,
          289.160004,
          287.019989,
          291.910004,
          293.470001,
          292.709991,
          291.320007,
          290.170013,
          286.149994,
          277.75,
          276.440002,
          275.790009,
          278.850006,
          268.089996,
          265.230011,
          262.970001
         ]
        },
        {
         "mode": "lines",
         "name": "Testing Training Data",
         "type": "scatter",
         "x": [
          "2022-08-31",
          "2022-09-01",
          "2022-09-02",
          "2022-09-06",
          "2022-09-07",
          "2022-09-08",
          "2022-09-09",
          "2022-09-12",
          "2022-09-13",
          "2022-09-14",
          "2022-09-15",
          "2022-09-16",
          "2022-09-19",
          "2022-09-20",
          "2022-09-21",
          "2022-09-22",
          "2022-09-23",
          "2022-09-26",
          "2022-09-27",
          "2022-09-28",
          "2022-09-29",
          "2022-09-30",
          "2022-10-03",
          "2022-10-04",
          "2022-10-05",
          "2022-10-06"
         ],
         "y": [
          257.63800048828125,
          256.8528137207031,
          256.7679748535156,
          258.39654541015625,
          257.0279235839844,
          254.8467559814453,
          250.47335815429688,
          248.82452392578125,
          246.54820251464844,
          244.48268127441406,
          241.03773498535156,
          240.9547119140625,
          239.40110778808594,
          237.76795959472656,
          236.60096740722656,
          237.56385803222656,
          236.31915283203125,
          234.30587768554688,
          236.44224548339844,
          238.61941528320312,
          238.87860107421875
         ]
        },
        {
         "mode": "lines",
         "name": "Ground Truth",
         "type": "scatter",
         "x": [
          "2022-08-31",
          "2022-09-01",
          "2022-09-02",
          "2022-09-06",
          "2022-09-07",
          "2022-09-08",
          "2022-09-09",
          "2022-09-12",
          "2022-09-13",
          "2022-09-14",
          "2022-09-15",
          "2022-09-16",
          "2022-09-19",
          "2022-09-20",
          "2022-09-21",
          "2022-09-22",
          "2022-09-23",
          "2022-09-26",
          "2022-09-27",
          "2022-09-28",
          "2022-09-29",
          "2022-09-30",
          "2022-10-03",
          "2022-10-04",
          "2022-10-05",
          "2022-10-06"
         ],
         "y": [
          261.470001,
          260.399994,
          256.059998,
          253.25,
          258.089996,
          258.519989,
          264.459991,
          266.649994,
          251.990005,
          252.220001,
          245.380005,
          244.740005,
          244.520004,
          242.449997,
          238.949997,
          240.979996,
          237.919998,
          237.449997,
          236.410004,
          241.070007,
          237.5,
          232.899994,
          240.740005,
          248.880005,
          249.199997,
          246.789993
         ]
        }
       ],
       "layout": {
        "font": {
         "size": 20
        },
        "template": {
         "data": {
          "bar": [
           {
            "error_x": {
             "color": "#2a3f5f"
            },
            "error_y": {
             "color": "#2a3f5f"
            },
            "marker": {
             "line": {
              "color": "#E5ECF6",
              "width": 0.5
             },
             "pattern": {
              "fillmode": "overlay",
              "size": 10,
              "solidity": 0.2
             }
            },
            "type": "bar"
           }
          ],
          "barpolar": [
           {
            "marker": {
             "line": {
              "color": "#E5ECF6",
              "width": 0.5
             },
             "pattern": {
              "fillmode": "overlay",
              "size": 10,
              "solidity": 0.2
             }
            },
            "type": "barpolar"
           }
          ],
          "carpet": [
           {
            "aaxis": {
             "endlinecolor": "#2a3f5f",
             "gridcolor": "white",
             "linecolor": "white",
             "minorgridcolor": "white",
             "startlinecolor": "#2a3f5f"
            },
            "baxis": {
             "endlinecolor": "#2a3f5f",
             "gridcolor": "white",
             "linecolor": "white",
             "minorgridcolor": "white",
             "startlinecolor": "#2a3f5f"
            },
            "type": "carpet"
           }
          ],
          "choropleth": [
           {
            "colorbar": {
             "outlinewidth": 0,
             "ticks": ""
            },
            "type": "choropleth"
           }
          ],
          "contour": [
           {
            "colorbar": {
             "outlinewidth": 0,
             "ticks": ""
            },
            "colorscale": [
             [
              0,
              "#0d0887"
             ],
             [
              0.1111111111111111,
              "#46039f"
             ],
             [
              0.2222222222222222,
              "#7201a8"
             ],
             [
              0.3333333333333333,
              "#9c179e"
             ],
             [
              0.4444444444444444,
              "#bd3786"
             ],
             [
              0.5555555555555556,
              "#d8576b"
             ],
             [
              0.6666666666666666,
              "#ed7953"
             ],
             [
              0.7777777777777778,
              "#fb9f3a"
             ],
             [
              0.8888888888888888,
              "#fdca26"
             ],
             [
              1,
              "#f0f921"
             ]
            ],
            "type": "contour"
           }
          ],
          "contourcarpet": [
           {
            "colorbar": {
             "outlinewidth": 0,
             "ticks": ""
            },
            "type": "contourcarpet"
           }
          ],
          "heatmap": [
           {
            "colorbar": {
             "outlinewidth": 0,
             "ticks": ""
            },
            "colorscale": [
             [
              0,
              "#0d0887"
             ],
             [
              0.1111111111111111,
              "#46039f"
             ],
             [
              0.2222222222222222,
              "#7201a8"
             ],
             [
              0.3333333333333333,
              "#9c179e"
             ],
             [
              0.4444444444444444,
              "#bd3786"
             ],
             [
              0.5555555555555556,
              "#d8576b"
             ],
             [
              0.6666666666666666,
              "#ed7953"
             ],
             [
              0.7777777777777778,
              "#fb9f3a"
             ],
             [
              0.8888888888888888,
              "#fdca26"
             ],
             [
              1,
              "#f0f921"
             ]
            ],
            "type": "heatmap"
           }
          ],
          "heatmapgl": [
           {
            "colorbar": {
             "outlinewidth": 0,
             "ticks": ""
            },
            "colorscale": [
             [
              0,
              "#0d0887"
             ],
             [
              0.1111111111111111,
              "#46039f"
             ],
             [
              0.2222222222222222,
              "#7201a8"
             ],
             [
              0.3333333333333333,
              "#9c179e"
             ],
             [
              0.4444444444444444,
              "#bd3786"
             ],
             [
              0.5555555555555556,
              "#d8576b"
             ],
             [
              0.6666666666666666,
              "#ed7953"
             ],
             [
              0.7777777777777778,
              "#fb9f3a"
             ],
             [
              0.8888888888888888,
              "#fdca26"
             ],
             [
              1,
              "#f0f921"
             ]
            ],
            "type": "heatmapgl"
           }
          ],
          "histogram": [
           {
            "marker": {
             "pattern": {
              "fillmode": "overlay",
              "size": 10,
              "solidity": 0.2
             }
            },
            "type": "histogram"
           }
          ],
          "histogram2d": [
           {
            "colorbar": {
             "outlinewidth": 0,
             "ticks": ""
            },
            "colorscale": [
             [
              0,
              "#0d0887"
             ],
             [
              0.1111111111111111,
              "#46039f"
             ],
             [
              0.2222222222222222,
              "#7201a8"
             ],
             [
              0.3333333333333333,
              "#9c179e"
             ],
             [
              0.4444444444444444,
              "#bd3786"
             ],
             [
              0.5555555555555556,
              "#d8576b"
             ],
             [
              0.6666666666666666,
              "#ed7953"
             ],
             [
              0.7777777777777778,
              "#fb9f3a"
             ],
             [
              0.8888888888888888,
              "#fdca26"
             ],
             [
              1,
              "#f0f921"
             ]
            ],
            "type": "histogram2d"
           }
          ],
          "histogram2dcontour": [
           {
            "colorbar": {
             "outlinewidth": 0,
             "ticks": ""
            },
            "colorscale": [
             [
              0,
              "#0d0887"
             ],
             [
              0.1111111111111111,
              "#46039f"
             ],
             [
              0.2222222222222222,
              "#7201a8"
             ],
             [
              0.3333333333333333,
              "#9c179e"
             ],
             [
              0.4444444444444444,
              "#bd3786"
             ],
             [
              0.5555555555555556,
              "#d8576b"
             ],
             [
              0.6666666666666666,
              "#ed7953"
             ],
             [
              0.7777777777777778,
              "#fb9f3a"
             ],
             [
              0.8888888888888888,
              "#fdca26"
             ],
             [
              1,
              "#f0f921"
             ]
            ],
            "type": "histogram2dcontour"
           }
          ],
          "mesh3d": [
           {
            "colorbar": {
             "outlinewidth": 0,
             "ticks": ""
            },
            "type": "mesh3d"
           }
          ],
          "parcoords": [
           {
            "line": {
             "colorbar": {
              "outlinewidth": 0,
              "ticks": ""
             }
            },
            "type": "parcoords"
           }
          ],
          "pie": [
           {
            "automargin": true,
            "type": "pie"
           }
          ],
          "scatter": [
           {
            "fillpattern": {
             "fillmode": "overlay",
             "size": 10,
             "solidity": 0.2
            },
            "type": "scatter"
           }
          ],
          "scatter3d": [
           {
            "line": {
             "colorbar": {
              "outlinewidth": 0,
              "ticks": ""
             }
            },
            "marker": {
             "colorbar": {
              "outlinewidth": 0,
              "ticks": ""
             }
            },
            "type": "scatter3d"
           }
          ],
          "scattercarpet": [
           {
            "marker": {
             "colorbar": {
              "outlinewidth": 0,
              "ticks": ""
             }
            },
            "type": "scattercarpet"
           }
          ],
          "scattergeo": [
           {
            "marker": {
             "colorbar": {
              "outlinewidth": 0,
              "ticks": ""
             }
            },
            "type": "scattergeo"
           }
          ],
          "scattergl": [
           {
            "marker": {
             "colorbar": {
              "outlinewidth": 0,
              "ticks": ""
             }
            },
            "type": "scattergl"
           }
          ],
          "scattermapbox": [
           {
            "marker": {
             "colorbar": {
              "outlinewidth": 0,
              "ticks": ""
             }
            },
            "type": "scattermapbox"
           }
          ],
          "scatterpolar": [
           {
            "marker": {
             "colorbar": {
              "outlinewidth": 0,
              "ticks": ""
             }
            },
            "type": "scatterpolar"
           }
          ],
          "scatterpolargl": [
           {
            "marker": {
             "colorbar": {
              "outlinewidth": 0,
              "ticks": ""
             }
            },
            "type": "scatterpolargl"
           }
          ],
          "scatterternary": [
           {
            "marker": {
             "colorbar": {
              "outlinewidth": 0,
              "ticks": ""
             }
            },
            "type": "scatterternary"
           }
          ],
          "surface": [
           {
            "colorbar": {
             "outlinewidth": 0,
             "ticks": ""
            },
            "colorscale": [
             [
              0,
              "#0d0887"
             ],
             [
              0.1111111111111111,
              "#46039f"
             ],
             [
              0.2222222222222222,
              "#7201a8"
             ],
             [
              0.3333333333333333,
              "#9c179e"
             ],
             [
              0.4444444444444444,
              "#bd3786"
             ],
             [
              0.5555555555555556,
              "#d8576b"
             ],
             [
              0.6666666666666666,
              "#ed7953"
             ],
             [
              0.7777777777777778,
              "#fb9f3a"
             ],
             [
              0.8888888888888888,
              "#fdca26"
             ],
             [
              1,
              "#f0f921"
             ]
            ],
            "type": "surface"
           }
          ],
          "table": [
           {
            "cells": {
             "fill": {
              "color": "#EBF0F8"
             },
             "line": {
              "color": "white"
             }
            },
            "header": {
             "fill": {
              "color": "#C8D4E3"
             },
             "line": {
              "color": "white"
             }
            },
            "type": "table"
           }
          ]
         },
         "layout": {
          "annotationdefaults": {
           "arrowcolor": "#2a3f5f",
           "arrowhead": 0,
           "arrowwidth": 1
          },
          "autotypenumbers": "strict",
          "coloraxis": {
           "colorbar": {
            "outlinewidth": 0,
            "ticks": ""
           }
          },
          "colorscale": {
           "diverging": [
            [
             0,
             "#8e0152"
            ],
            [
             0.1,
             "#c51b7d"
            ],
            [
             0.2,
             "#de77ae"
            ],
            [
             0.3,
             "#f1b6da"
            ],
            [
             0.4,
             "#fde0ef"
            ],
            [
             0.5,
             "#f7f7f7"
            ],
            [
             0.6,
             "#e6f5d0"
            ],
            [
             0.7,
             "#b8e186"
            ],
            [
             0.8,
             "#7fbc41"
            ],
            [
             0.9,
             "#4d9221"
            ],
            [
             1,
             "#276419"
            ]
           ],
           "sequential": [
            [
             0,
             "#0d0887"
            ],
            [
             0.1111111111111111,
             "#46039f"
            ],
            [
             0.2222222222222222,
             "#7201a8"
            ],
            [
             0.3333333333333333,
             "#9c179e"
            ],
            [
             0.4444444444444444,
             "#bd3786"
            ],
            [
             0.5555555555555556,
             "#d8576b"
            ],
            [
             0.6666666666666666,
             "#ed7953"
            ],
            [
             0.7777777777777778,
             "#fb9f3a"
            ],
            [
             0.8888888888888888,
             "#fdca26"
            ],
            [
             1,
             "#f0f921"
            ]
           ],
           "sequentialminus": [
            [
             0,
             "#0d0887"
            ],
            [
             0.1111111111111111,
             "#46039f"
            ],
            [
             0.2222222222222222,
             "#7201a8"
            ],
            [
             0.3333333333333333,
             "#9c179e"
            ],
            [
             0.4444444444444444,
             "#bd3786"
            ],
            [
             0.5555555555555556,
             "#d8576b"
            ],
            [
             0.6666666666666666,
             "#ed7953"
            ],
            [
             0.7777777777777778,
             "#fb9f3a"
            ],
            [
             0.8888888888888888,
             "#fdca26"
            ],
            [
             1,
             "#f0f921"
            ]
           ]
          },
          "colorway": [
           "#636efa",
           "#EF553B",
           "#00cc96",
           "#ab63fa",
           "#FFA15A",
           "#19d3f3",
           "#FF6692",
           "#B6E880",
           "#FF97FF",
           "#FECB52"
          ],
          "font": {
           "color": "#2a3f5f"
          },
          "geo": {
           "bgcolor": "white",
           "lakecolor": "white",
           "landcolor": "#E5ECF6",
           "showlakes": true,
           "showland": true,
           "subunitcolor": "white"
          },
          "hoverlabel": {
           "align": "left"
          },
          "hovermode": "closest",
          "mapbox": {
           "style": "light"
          },
          "paper_bgcolor": "white",
          "plot_bgcolor": "#E5ECF6",
          "polar": {
           "angularaxis": {
            "gridcolor": "white",
            "linecolor": "white",
            "ticks": ""
           },
           "bgcolor": "#E5ECF6",
           "radialaxis": {
            "gridcolor": "white",
            "linecolor": "white",
            "ticks": ""
           }
          },
          "scene": {
           "xaxis": {
            "backgroundcolor": "#E5ECF6",
            "gridcolor": "white",
            "gridwidth": 2,
            "linecolor": "white",
            "showbackground": true,
            "ticks": "",
            "zerolinecolor": "white"
           },
           "yaxis": {
            "backgroundcolor": "#E5ECF6",
            "gridcolor": "white",
            "gridwidth": 2,
            "linecolor": "white",
            "showbackground": true,
            "ticks": "",
            "zerolinecolor": "white"
           },
           "zaxis": {
            "backgroundcolor": "#E5ECF6",
            "gridcolor": "white",
            "gridwidth": 2,
            "linecolor": "white",
            "showbackground": true,
            "ticks": "",
            "zerolinecolor": "white"
           }
          },
          "shapedefaults": {
           "line": {
            "color": "#2a3f5f"
           }
          },
          "ternary": {
           "aaxis": {
            "gridcolor": "white",
            "linecolor": "white",
            "ticks": ""
           },
           "baxis": {
            "gridcolor": "white",
            "linecolor": "white",
            "ticks": ""
           },
           "bgcolor": "#E5ECF6",
           "caxis": {
            "gridcolor": "white",
            "linecolor": "white",
            "ticks": ""
           }
          },
          "title": {
           "x": 0.05
          },
          "xaxis": {
           "automargin": true,
           "gridcolor": "white",
           "linecolor": "white",
           "ticks": "",
           "title": {
            "standoff": 15
           },
           "zerolinecolor": "white",
           "zerolinewidth": 2
          },
          "yaxis": {
           "automargin": true,
           "gridcolor": "white",
           "linecolor": "white",
           "ticks": "",
           "title": {
            "standoff": 15
           },
           "zerolinecolor": "white",
           "zerolinewidth": 2
          }
         }
        },
        "title": {
         "text": "MSFT Stock"
        },
        "xaxis": {
         "title": {
          "text": "Date"
         }
        },
        "yaxis": {
         "title": {
          "text": "Close"
         }
        }
       }
      }
     },
     "metadata": {},
     "output_type": "display_data"
    },
    {
     "data": {
      "application/vnd.plotly.v1+json": {
       "config": {
        "plotlyServerURL": "https://plot.ly"
       },
       "data": [
        {
         "mode": "lines",
         "name": "Future Predictions",
         "type": "scatter",
         "x": [
          "2022-10-06T00:00:00",
          "2022-10-07T00:00:00",
          "2022-10-08T00:00:00",
          "2022-10-09T00:00:00",
          "2022-10-10T00:00:00",
          "2022-10-11T00:00:00"
         ],
         "y": [
          246.789993,
          240.79579162597656,
          242.623046875,
          243.96990966796875,
          243.9182891845703,
          242.40460205078125
         ]
        },
        {
         "mode": "lines",
         "name": "5-Day Data",
         "type": "scatter",
         "x": [
          "2022-10-06T00:00:00",
          "2022-10-07T00:00:00",
          "2022-10-08T00:00:00",
          "2022-10-09T00:00:00",
          "2022-10-10T00:00:00",
          "2022-10-11T00:00:00"
         ],
         "y": [
          246.789993,
          234.240005,
          232.58,
          230.92,
          229.25,
          225.410004
         ]
        },
        {
         "mode": "lines",
         "name": "Ground Truth",
         "type": "scatter",
         "x": [
          "2022-08-31",
          "2022-09-01",
          "2022-09-02",
          "2022-09-06",
          "2022-09-07",
          "2022-09-08",
          "2022-09-09",
          "2022-09-12",
          "2022-09-13",
          "2022-09-14",
          "2022-09-15",
          "2022-09-16",
          "2022-09-19",
          "2022-09-20",
          "2022-09-21",
          "2022-09-22",
          "2022-09-23",
          "2022-09-26",
          "2022-09-27",
          "2022-09-28",
          "2022-09-29",
          "2022-09-30",
          "2022-10-03",
          "2022-10-04",
          "2022-10-05",
          "2022-10-06"
         ],
         "y": [
          261.470001,
          260.399994,
          256.059998,
          253.25,
          258.089996,
          258.519989,
          264.459991,
          266.649994,
          251.990005,
          252.220001,
          245.380005,
          244.740005,
          244.520004,
          242.449997,
          238.949997,
          240.979996,
          237.919998,
          237.449997,
          236.410004,
          241.070007,
          237.5,
          232.899994,
          240.740005,
          248.880005,
          249.199997,
          246.789993
         ]
        }
       ],
       "layout": {
        "font": {
         "size": 20
        },
        "template": {
         "data": {
          "bar": [
           {
            "error_x": {
             "color": "#2a3f5f"
            },
            "error_y": {
             "color": "#2a3f5f"
            },
            "marker": {
             "line": {
              "color": "#E5ECF6",
              "width": 0.5
             },
             "pattern": {
              "fillmode": "overlay",
              "size": 10,
              "solidity": 0.2
             }
            },
            "type": "bar"
           }
          ],
          "barpolar": [
           {
            "marker": {
             "line": {
              "color": "#E5ECF6",
              "width": 0.5
             },
             "pattern": {
              "fillmode": "overlay",
              "size": 10,
              "solidity": 0.2
             }
            },
            "type": "barpolar"
           }
          ],
          "carpet": [
           {
            "aaxis": {
             "endlinecolor": "#2a3f5f",
             "gridcolor": "white",
             "linecolor": "white",
             "minorgridcolor": "white",
             "startlinecolor": "#2a3f5f"
            },
            "baxis": {
             "endlinecolor": "#2a3f5f",
             "gridcolor": "white",
             "linecolor": "white",
             "minorgridcolor": "white",
             "startlinecolor": "#2a3f5f"
            },
            "type": "carpet"
           }
          ],
          "choropleth": [
           {
            "colorbar": {
             "outlinewidth": 0,
             "ticks": ""
            },
            "type": "choropleth"
           }
          ],
          "contour": [
           {
            "colorbar": {
             "outlinewidth": 0,
             "ticks": ""
            },
            "colorscale": [
             [
              0,
              "#0d0887"
             ],
             [
              0.1111111111111111,
              "#46039f"
             ],
             [
              0.2222222222222222,
              "#7201a8"
             ],
             [
              0.3333333333333333,
              "#9c179e"
             ],
             [
              0.4444444444444444,
              "#bd3786"
             ],
             [
              0.5555555555555556,
              "#d8576b"
             ],
             [
              0.6666666666666666,
              "#ed7953"
             ],
             [
              0.7777777777777778,
              "#fb9f3a"
             ],
             [
              0.8888888888888888,
              "#fdca26"
             ],
             [
              1,
              "#f0f921"
             ]
            ],
            "type": "contour"
           }
          ],
          "contourcarpet": [
           {
            "colorbar": {
             "outlinewidth": 0,
             "ticks": ""
            },
            "type": "contourcarpet"
           }
          ],
          "heatmap": [
           {
            "colorbar": {
             "outlinewidth": 0,
             "ticks": ""
            },
            "colorscale": [
             [
              0,
              "#0d0887"
             ],
             [
              0.1111111111111111,
              "#46039f"
             ],
             [
              0.2222222222222222,
              "#7201a8"
             ],
             [
              0.3333333333333333,
              "#9c179e"
             ],
             [
              0.4444444444444444,
              "#bd3786"
             ],
             [
              0.5555555555555556,
              "#d8576b"
             ],
             [
              0.6666666666666666,
              "#ed7953"
             ],
             [
              0.7777777777777778,
              "#fb9f3a"
             ],
             [
              0.8888888888888888,
              "#fdca26"
             ],
             [
              1,
              "#f0f921"
             ]
            ],
            "type": "heatmap"
           }
          ],
          "heatmapgl": [
           {
            "colorbar": {
             "outlinewidth": 0,
             "ticks": ""
            },
            "colorscale": [
             [
              0,
              "#0d0887"
             ],
             [
              0.1111111111111111,
              "#46039f"
             ],
             [
              0.2222222222222222,
              "#7201a8"
             ],
             [
              0.3333333333333333,
              "#9c179e"
             ],
             [
              0.4444444444444444,
              "#bd3786"
             ],
             [
              0.5555555555555556,
              "#d8576b"
             ],
             [
              0.6666666666666666,
              "#ed7953"
             ],
             [
              0.7777777777777778,
              "#fb9f3a"
             ],
             [
              0.8888888888888888,
              "#fdca26"
             ],
             [
              1,
              "#f0f921"
             ]
            ],
            "type": "heatmapgl"
           }
          ],
          "histogram": [
           {
            "marker": {
             "pattern": {
              "fillmode": "overlay",
              "size": 10,
              "solidity": 0.2
             }
            },
            "type": "histogram"
           }
          ],
          "histogram2d": [
           {
            "colorbar": {
             "outlinewidth": 0,
             "ticks": ""
            },
            "colorscale": [
             [
              0,
              "#0d0887"
             ],
             [
              0.1111111111111111,
              "#46039f"
             ],
             [
              0.2222222222222222,
              "#7201a8"
             ],
             [
              0.3333333333333333,
              "#9c179e"
             ],
             [
              0.4444444444444444,
              "#bd3786"
             ],
             [
              0.5555555555555556,
              "#d8576b"
             ],
             [
              0.6666666666666666,
              "#ed7953"
             ],
             [
              0.7777777777777778,
              "#fb9f3a"
             ],
             [
              0.8888888888888888,
              "#fdca26"
             ],
             [
              1,
              "#f0f921"
             ]
            ],
            "type": "histogram2d"
           }
          ],
          "histogram2dcontour": [
           {
            "colorbar": {
             "outlinewidth": 0,
             "ticks": ""
            },
            "colorscale": [
             [
              0,
              "#0d0887"
             ],
             [
              0.1111111111111111,
              "#46039f"
             ],
             [
              0.2222222222222222,
              "#7201a8"
             ],
             [
              0.3333333333333333,
              "#9c179e"
             ],
             [
              0.4444444444444444,
              "#bd3786"
             ],
             [
              0.5555555555555556,
              "#d8576b"
             ],
             [
              0.6666666666666666,
              "#ed7953"
             ],
             [
              0.7777777777777778,
              "#fb9f3a"
             ],
             [
              0.8888888888888888,
              "#fdca26"
             ],
             [
              1,
              "#f0f921"
             ]
            ],
            "type": "histogram2dcontour"
           }
          ],
          "mesh3d": [
           {
            "colorbar": {
             "outlinewidth": 0,
             "ticks": ""
            },
            "type": "mesh3d"
           }
          ],
          "parcoords": [
           {
            "line": {
             "colorbar": {
              "outlinewidth": 0,
              "ticks": ""
             }
            },
            "type": "parcoords"
           }
          ],
          "pie": [
           {
            "automargin": true,
            "type": "pie"
           }
          ],
          "scatter": [
           {
            "fillpattern": {
             "fillmode": "overlay",
             "size": 10,
             "solidity": 0.2
            },
            "type": "scatter"
           }
          ],
          "scatter3d": [
           {
            "line": {
             "colorbar": {
              "outlinewidth": 0,
              "ticks": ""
             }
            },
            "marker": {
             "colorbar": {
              "outlinewidth": 0,
              "ticks": ""
             }
            },
            "type": "scatter3d"
           }
          ],
          "scattercarpet": [
           {
            "marker": {
             "colorbar": {
              "outlinewidth": 0,
              "ticks": ""
             }
            },
            "type": "scattercarpet"
           }
          ],
          "scattergeo": [
           {
            "marker": {
             "colorbar": {
              "outlinewidth": 0,
              "ticks": ""
             }
            },
            "type": "scattergeo"
           }
          ],
          "scattergl": [
           {
            "marker": {
             "colorbar": {
              "outlinewidth": 0,
              "ticks": ""
             }
            },
            "type": "scattergl"
           }
          ],
          "scattermapbox": [
           {
            "marker": {
             "colorbar": {
              "outlinewidth": 0,
              "ticks": ""
             }
            },
            "type": "scattermapbox"
           }
          ],
          "scatterpolar": [
           {
            "marker": {
             "colorbar": {
              "outlinewidth": 0,
              "ticks": ""
             }
            },
            "type": "scatterpolar"
           }
          ],
          "scatterpolargl": [
           {
            "marker": {
             "colorbar": {
              "outlinewidth": 0,
              "ticks": ""
             }
            },
            "type": "scatterpolargl"
           }
          ],
          "scatterternary": [
           {
            "marker": {
             "colorbar": {
              "outlinewidth": 0,
              "ticks": ""
             }
            },
            "type": "scatterternary"
           }
          ],
          "surface": [
           {
            "colorbar": {
             "outlinewidth": 0,
             "ticks": ""
            },
            "colorscale": [
             [
              0,
              "#0d0887"
             ],
             [
              0.1111111111111111,
              "#46039f"
             ],
             [
              0.2222222222222222,
              "#7201a8"
             ],
             [
              0.3333333333333333,
              "#9c179e"
             ],
             [
              0.4444444444444444,
              "#bd3786"
             ],
             [
              0.5555555555555556,
              "#d8576b"
             ],
             [
              0.6666666666666666,
              "#ed7953"
             ],
             [
              0.7777777777777778,
              "#fb9f3a"
             ],
             [
              0.8888888888888888,
              "#fdca26"
             ],
             [
              1,
              "#f0f921"
             ]
            ],
            "type": "surface"
           }
          ],
          "table": [
           {
            "cells": {
             "fill": {
              "color": "#EBF0F8"
             },
             "line": {
              "color": "white"
             }
            },
            "header": {
             "fill": {
              "color": "#C8D4E3"
             },
             "line": {
              "color": "white"
             }
            },
            "type": "table"
           }
          ]
         },
         "layout": {
          "annotationdefaults": {
           "arrowcolor": "#2a3f5f",
           "arrowhead": 0,
           "arrowwidth": 1
          },
          "autotypenumbers": "strict",
          "coloraxis": {
           "colorbar": {
            "outlinewidth": 0,
            "ticks": ""
           }
          },
          "colorscale": {
           "diverging": [
            [
             0,
             "#8e0152"
            ],
            [
             0.1,
             "#c51b7d"
            ],
            [
             0.2,
             "#de77ae"
            ],
            [
             0.3,
             "#f1b6da"
            ],
            [
             0.4,
             "#fde0ef"
            ],
            [
             0.5,
             "#f7f7f7"
            ],
            [
             0.6,
             "#e6f5d0"
            ],
            [
             0.7,
             "#b8e186"
            ],
            [
             0.8,
             "#7fbc41"
            ],
            [
             0.9,
             "#4d9221"
            ],
            [
             1,
             "#276419"
            ]
           ],
           "sequential": [
            [
             0,
             "#0d0887"
            ],
            [
             0.1111111111111111,
             "#46039f"
            ],
            [
             0.2222222222222222,
             "#7201a8"
            ],
            [
             0.3333333333333333,
             "#9c179e"
            ],
            [
             0.4444444444444444,
             "#bd3786"
            ],
            [
             0.5555555555555556,
             "#d8576b"
            ],
            [
             0.6666666666666666,
             "#ed7953"
            ],
            [
             0.7777777777777778,
             "#fb9f3a"
            ],
            [
             0.8888888888888888,
             "#fdca26"
            ],
            [
             1,
             "#f0f921"
            ]
           ],
           "sequentialminus": [
            [
             0,
             "#0d0887"
            ],
            [
             0.1111111111111111,
             "#46039f"
            ],
            [
             0.2222222222222222,
             "#7201a8"
            ],
            [
             0.3333333333333333,
             "#9c179e"
            ],
            [
             0.4444444444444444,
             "#bd3786"
            ],
            [
             0.5555555555555556,
             "#d8576b"
            ],
            [
             0.6666666666666666,
             "#ed7953"
            ],
            [
             0.7777777777777778,
             "#fb9f3a"
            ],
            [
             0.8888888888888888,
             "#fdca26"
            ],
            [
             1,
             "#f0f921"
            ]
           ]
          },
          "colorway": [
           "#636efa",
           "#EF553B",
           "#00cc96",
           "#ab63fa",
           "#FFA15A",
           "#19d3f3",
           "#FF6692",
           "#B6E880",
           "#FF97FF",
           "#FECB52"
          ],
          "font": {
           "color": "#2a3f5f"
          },
          "geo": {
           "bgcolor": "white",
           "lakecolor": "white",
           "landcolor": "#E5ECF6",
           "showlakes": true,
           "showland": true,
           "subunitcolor": "white"
          },
          "hoverlabel": {
           "align": "left"
          },
          "hovermode": "closest",
          "mapbox": {
           "style": "light"
          },
          "paper_bgcolor": "white",
          "plot_bgcolor": "#E5ECF6",
          "polar": {
           "angularaxis": {
            "gridcolor": "white",
            "linecolor": "white",
            "ticks": ""
           },
           "bgcolor": "#E5ECF6",
           "radialaxis": {
            "gridcolor": "white",
            "linecolor": "white",
            "ticks": ""
           }
          },
          "scene": {
           "xaxis": {
            "backgroundcolor": "#E5ECF6",
            "gridcolor": "white",
            "gridwidth": 2,
            "linecolor": "white",
            "showbackground": true,
            "ticks": "",
            "zerolinecolor": "white"
           },
           "yaxis": {
            "backgroundcolor": "#E5ECF6",
            "gridcolor": "white",
            "gridwidth": 2,
            "linecolor": "white",
            "showbackground": true,
            "ticks": "",
            "zerolinecolor": "white"
           },
           "zaxis": {
            "backgroundcolor": "#E5ECF6",
            "gridcolor": "white",
            "gridwidth": 2,
            "linecolor": "white",
            "showbackground": true,
            "ticks": "",
            "zerolinecolor": "white"
           }
          },
          "shapedefaults": {
           "line": {
            "color": "#2a3f5f"
           }
          },
          "ternary": {
           "aaxis": {
            "gridcolor": "white",
            "linecolor": "white",
            "ticks": ""
           },
           "baxis": {
            "gridcolor": "white",
            "linecolor": "white",
            "ticks": ""
           },
           "bgcolor": "#E5ECF6",
           "caxis": {
            "gridcolor": "white",
            "linecolor": "white",
            "ticks": ""
           }
          },
          "title": {
           "x": 0.05
          },
          "xaxis": {
           "automargin": true,
           "gridcolor": "white",
           "linecolor": "white",
           "ticks": "",
           "title": {
            "standoff": 15
           },
           "zerolinecolor": "white",
           "zerolinewidth": 2
          },
          "yaxis": {
           "automargin": true,
           "gridcolor": "white",
           "linecolor": "white",
           "ticks": "",
           "title": {
            "standoff": 15
           },
           "zerolinecolor": "white",
           "zerolinewidth": 2
          }
         }
        },
        "title": {
         "text": "MSFT Stock"
        },
        "xaxis": {
         "title": {
          "text": "Date"
         }
        },
        "yaxis": {
         "title": {
          "text": "Close"
         }
        }
       }
      }
     },
     "metadata": {},
     "output_type": "display_data"
    }
   ],
   "source": [
    "pred(df_MSFT,df_MSFT_future,df_MSFT_comp)"
   ]
  },
  {
   "cell_type": "code",
   "execution_count": 30,
   "metadata": {
    "scrolled": false
   },
   "outputs": [
    {
     "name": "stdout",
     "output_type": "stream",
     "text": [
      "Epoch 1/100\n",
      "1/1 [==============================] - 1s 845ms/step - loss: 29127.3340\n",
      "Epoch 2/100\n",
      "1/1 [==============================] - 0s 11ms/step - loss: 27862.3340\n",
      "Epoch 3/100\n",
      "1/1 [==============================] - 0s 10ms/step - loss: 26792.9219\n",
      "Epoch 4/100\n",
      "1/1 [==============================] - 0s 10ms/step - loss: 25977.5879\n",
      "Epoch 5/100\n",
      "1/1 [==============================] - 0s 11ms/step - loss: 25359.3496\n",
      "Epoch 6/100\n",
      "1/1 [==============================] - 0s 10ms/step - loss: 24850.0918\n",
      "Epoch 7/100\n",
      "1/1 [==============================] - 0s 11ms/step - loss: 24389.8984\n",
      "Epoch 8/100\n",
      "1/1 [==============================] - 0s 12ms/step - loss: 23947.7871\n",
      "Epoch 9/100\n",
      "1/1 [==============================] - 0s 11ms/step - loss: 23500.9277\n",
      "Epoch 10/100\n",
      "1/1 [==============================] - 0s 11ms/step - loss: 23049.5391\n",
      "Epoch 11/100\n",
      "1/1 [==============================] - 0s 12ms/step - loss: 22589.0391\n",
      "Epoch 12/100\n",
      "1/1 [==============================] - 0s 12ms/step - loss: 22099.0781\n",
      "Epoch 13/100\n",
      "1/1 [==============================] - 0s 10ms/step - loss: 21547.9941\n",
      "Epoch 14/100\n",
      "1/1 [==============================] - 0s 11ms/step - loss: 20977.4922\n",
      "Epoch 15/100\n",
      "1/1 [==============================] - 0s 11ms/step - loss: 20416.7461\n",
      "Epoch 16/100\n",
      "1/1 [==============================] - 0s 10ms/step - loss: 19861.0488\n",
      "Epoch 17/100\n",
      "1/1 [==============================] - 0s 11ms/step - loss: 19306.3145\n",
      "Epoch 18/100\n",
      "1/1 [==============================] - 0s 12ms/step - loss: 18748.7109\n",
      "Epoch 19/100\n",
      "1/1 [==============================] - 0s 10ms/step - loss: 18183.6973\n",
      "Epoch 20/100\n",
      "1/1 [==============================] - 0s 12ms/step - loss: 17592.8418\n",
      "Epoch 21/100\n",
      "1/1 [==============================] - 0s 10ms/step - loss: 16970.9609\n",
      "Epoch 22/100\n",
      "1/1 [==============================] - 0s 12ms/step - loss: 16309.8525\n",
      "Epoch 23/100\n",
      "1/1 [==============================] - 0s 12ms/step - loss: 15612.8408\n",
      "Epoch 24/100\n",
      "1/1 [==============================] - 0s 11ms/step - loss: 14873.6045\n",
      "Epoch 25/100\n",
      "1/1 [==============================] - 0s 11ms/step - loss: 14081.1953\n",
      "Epoch 26/100\n",
      "1/1 [==============================] - 0s 11ms/step - loss: 13225.9873\n",
      "Epoch 27/100\n",
      "1/1 [==============================] - 0s 18ms/step - loss: 12300.9609\n",
      "Epoch 28/100\n",
      "1/1 [==============================] - 0s 13ms/step - loss: 11299.5312\n",
      "Epoch 29/100\n",
      "1/1 [==============================] - 0s 10ms/step - loss: 10206.4150\n",
      "Epoch 30/100\n",
      "1/1 [==============================] - 0s 10ms/step - loss: 8977.7256\n",
      "Epoch 31/100\n",
      "1/1 [==============================] - 0s 11ms/step - loss: 7455.1772\n",
      "Epoch 32/100\n",
      "1/1 [==============================] - 0s 9ms/step - loss: 5688.8110\n",
      "Epoch 33/100\n",
      "1/1 [==============================] - 0s 10ms/step - loss: 4348.1831\n",
      "Epoch 34/100\n",
      "1/1 [==============================] - 0s 10ms/step - loss: 3669.5662\n",
      "Epoch 35/100\n",
      "1/1 [==============================] - 0s 11ms/step - loss: 3157.4783\n",
      "Epoch 36/100\n",
      "1/1 [==============================] - 0s 10ms/step - loss: 2678.8035\n",
      "Epoch 37/100\n",
      "1/1 [==============================] - 0s 11ms/step - loss: 2207.3215\n",
      "Epoch 38/100\n",
      "1/1 [==============================] - 0s 10ms/step - loss: 1719.5905\n",
      "Epoch 39/100\n",
      "1/1 [==============================] - 0s 10ms/step - loss: 1200.4250\n",
      "Epoch 40/100\n",
      "1/1 [==============================] - 0s 10ms/step - loss: 673.0745\n",
      "Epoch 41/100\n",
      "1/1 [==============================] - 0s 11ms/step - loss: 237.9753\n",
      "Epoch 42/100\n",
      "1/1 [==============================] - 0s 11ms/step - loss: 100.4547\n",
      "Epoch 43/100\n",
      "1/1 [==============================] - 0s 11ms/step - loss: 123.8789\n",
      "Epoch 44/100\n",
      "1/1 [==============================] - 0s 10ms/step - loss: 202.4496\n",
      "Epoch 45/100\n",
      "1/1 [==============================] - 0s 10ms/step - loss: 301.5807\n",
      "Epoch 46/100\n",
      "1/1 [==============================] - 0s 11ms/step - loss: 399.2531\n",
      "Epoch 47/100\n",
      "1/1 [==============================] - 0s 10ms/step - loss: 471.8602\n",
      "Epoch 48/100\n",
      "1/1 [==============================] - 0s 11ms/step - loss: 495.9142\n",
      "Epoch 49/100\n",
      "1/1 [==============================] - 0s 10ms/step - loss: 458.6336\n",
      "Epoch 50/100\n",
      "1/1 [==============================] - 0s 11ms/step - loss: 369.1464\n",
      "Epoch 51/100\n",
      "1/1 [==============================] - 0s 11ms/step - loss: 273.8358\n",
      "Epoch 52/100\n",
      "1/1 [==============================] - 0s 10ms/step - loss: 258.9688\n",
      "Epoch 53/100\n",
      "1/1 [==============================] - 0s 12ms/step - loss: 265.0832\n",
      "Epoch 54/100\n",
      "1/1 [==============================] - 0s 17ms/step - loss: 213.5811\n",
      "Epoch 55/100\n",
      "1/1 [==============================] - 0s 12ms/step - loss: 178.0372\n",
      "Epoch 56/100\n",
      "1/1 [==============================] - 0s 11ms/step - loss: 137.6827\n",
      "Epoch 57/100\n",
      "1/1 [==============================] - 0s 11ms/step - loss: 114.9141\n",
      "Epoch 58/100\n",
      "1/1 [==============================] - 0s 12ms/step - loss: 106.6835\n",
      "Epoch 59/100\n",
      "1/1 [==============================] - 0s 11ms/step - loss: 106.1574\n",
      "Epoch 60/100\n",
      "1/1 [==============================] - 0s 10ms/step - loss: 107.5108\n",
      "Epoch 61/100\n",
      "1/1 [==============================] - 0s 10ms/step - loss: 107.5995\n",
      "Epoch 62/100\n",
      "1/1 [==============================] - 0s 11ms/step - loss: 105.0998\n",
      "Epoch 63/100\n",
      "1/1 [==============================] - 0s 10ms/step - loss: 101.3429\n",
      "Epoch 64/100\n",
      "1/1 [==============================] - 0s 13ms/step - loss: 97.5823\n",
      "Epoch 65/100\n",
      "1/1 [==============================] - 0s 12ms/step - loss: 92.5331\n",
      "Epoch 66/100\n",
      "1/1 [==============================] - 0s 11ms/step - loss: 90.6163\n",
      "Epoch 67/100\n",
      "1/1 [==============================] - 0s 12ms/step - loss: 92.3322\n",
      "Epoch 68/100\n",
      "1/1 [==============================] - 0s 10ms/step - loss: 95.2510\n",
      "Epoch 69/100\n",
      "1/1 [==============================] - 0s 11ms/step - loss: 97.3296\n",
      "Epoch 70/100\n",
      "1/1 [==============================] - 0s 12ms/step - loss: 97.9089\n",
      "Epoch 71/100\n",
      "1/1 [==============================] - 0s 11ms/step - loss: 96.9472\n",
      "Epoch 72/100\n",
      "1/1 [==============================] - 0s 11ms/step - loss: 94.6554\n",
      "Epoch 73/100\n",
      "1/1 [==============================] - 0s 11ms/step - loss: 91.4390\n",
      "Epoch 74/100\n",
      "1/1 [==============================] - 0s 11ms/step - loss: 87.9038\n",
      "Epoch 75/100\n",
      "1/1 [==============================] - 0s 11ms/step - loss: 84.5872\n",
      "Epoch 76/100\n",
      "1/1 [==============================] - 0s 11ms/step - loss: 81.7159\n",
      "Epoch 77/100\n",
      "1/1 [==============================] - 0s 11ms/step - loss: 79.5294\n",
      "Epoch 78/100\n",
      "1/1 [==============================] - 0s 11ms/step - loss: 78.2072\n",
      "Epoch 79/100\n",
      "1/1 [==============================] - 0s 18ms/step - loss: 77.7332\n",
      "Epoch 80/100\n",
      "1/1 [==============================] - 0s 11ms/step - loss: 77.9142\n",
      "Epoch 81/100\n",
      "1/1 [==============================] - 0s 11ms/step - loss: 78.5315\n",
      "Epoch 82/100\n",
      "1/1 [==============================] - 0s 11ms/step - loss: 79.3039\n",
      "Epoch 83/100\n",
      "1/1 [==============================] - 0s 11ms/step - loss: 79.9659\n",
      "Epoch 84/100\n",
      "1/1 [==============================] - 0s 10ms/step - loss: 80.3453\n",
      "Epoch 85/100\n",
      "1/1 [==============================] - 0s 10ms/step - loss: 80.3797\n",
      "Epoch 86/100\n",
      "1/1 [==============================] - 0s 11ms/step - loss: 80.1037\n",
      "Epoch 87/100\n",
      "1/1 [==============================] - 0s 10ms/step - loss: 79.6042\n",
      "Epoch 88/100\n",
      "1/1 [==============================] - 0s 9ms/step - loss: 78.9681\n",
      "Epoch 89/100\n",
      "1/1 [==============================] - 0s 11ms/step - loss: 78.2890\n",
      "Epoch 90/100\n",
      "1/1 [==============================] - 0s 11ms/step - loss: 77.6306\n",
      "Epoch 91/100\n",
      "1/1 [==============================] - 0s 11ms/step - loss: 77.0236\n",
      "Epoch 92/100\n",
      "1/1 [==============================] - 0s 12ms/step - loss: 76.4935\n",
      "Epoch 93/100\n",
      "1/1 [==============================] - 0s 12ms/step - loss: 76.0771\n",
      "Epoch 94/100\n",
      "1/1 [==============================] - 0s 12ms/step - loss: 75.7862\n",
      "Epoch 95/100\n",
      "1/1 [==============================] - 0s 11ms/step - loss: 75.6205\n",
      "Epoch 96/100\n",
      "1/1 [==============================] - 0s 10ms/step - loss: 75.5326\n",
      "Epoch 97/100\n",
      "1/1 [==============================] - 0s 12ms/step - loss: 75.4643\n",
      "Epoch 98/100\n",
      "1/1 [==============================] - 0s 13ms/step - loss: 75.3527\n",
      "Epoch 99/100\n",
      "1/1 [==============================] - 0s 12ms/step - loss: 75.1471\n",
      "Epoch 100/100\n",
      "1/1 [==============================] - 0s 10ms/step - loss: 74.8166\n",
      "1/1 [==============================] - 0s 151ms/step\n",
      "1/1 [==============================] - 0s 119ms/step\n",
      "1/1 [==============================] - 0s 14ms/step\n",
      "1/1 [==============================] - 0s 14ms/step\n",
      "1/1 [==============================] - 0s 15ms/step\n",
      "1/1 [==============================] - 0s 13ms/step\n"
     ]
    },
    {
     "data": {
      "application/vnd.plotly.v1+json": {
       "config": {
        "plotlyServerURL": "https://plot.ly"
       },
       "data": [
        {
         "mode": "lines",
         "name": "Training Data",
         "type": "scatter",
         "x": [
          "2022-04-06",
          "2022-04-07",
          "2022-04-08",
          "2022-04-11",
          "2022-04-12",
          "2022-04-13",
          "2022-04-14",
          "2022-04-18",
          "2022-04-19",
          "2022-04-20",
          "2022-04-21",
          "2022-04-22",
          "2022-04-25",
          "2022-04-26",
          "2022-04-27",
          "2022-04-28",
          "2022-04-29",
          "2022-05-02",
          "2022-05-03",
          "2022-05-04",
          "2022-05-05",
          "2022-05-06",
          "2022-05-09",
          "2022-05-10",
          "2022-05-11",
          "2022-05-12",
          "2022-05-13",
          "2022-05-16",
          "2022-05-17",
          "2022-05-18",
          "2022-05-19",
          "2022-05-20",
          "2022-05-23",
          "2022-05-24",
          "2022-05-25",
          "2022-05-26",
          "2022-05-27",
          "2022-05-31",
          "2022-06-01",
          "2022-06-02",
          "2022-06-03",
          "2022-06-06",
          "2022-06-07",
          "2022-06-08",
          "2022-06-09",
          "2022-06-10",
          "2022-06-13",
          "2022-06-14",
          "2022-06-15",
          "2022-06-16",
          "2022-06-17",
          "2022-06-21",
          "2022-06-22",
          "2022-06-23",
          "2022-06-24",
          "2022-06-27",
          "2022-06-28",
          "2022-06-29",
          "2022-06-30",
          "2022-07-01",
          "2022-07-05",
          "2022-07-06",
          "2022-07-07",
          "2022-07-08",
          "2022-07-11",
          "2022-07-12",
          "2022-07-13",
          "2022-07-14",
          "2022-07-15",
          "2022-07-18",
          "2022-07-19",
          "2022-07-20",
          "2022-07-21",
          "2022-07-22",
          "2022-07-25",
          "2022-07-26",
          "2022-07-27",
          "2022-07-28",
          "2022-07-29",
          "2022-08-01",
          "2022-08-02",
          "2022-08-03",
          "2022-08-04",
          "2022-08-05",
          "2022-08-08",
          "2022-08-09",
          "2022-08-10",
          "2022-08-11",
          "2022-08-12",
          "2022-08-15",
          "2022-08-16",
          "2022-08-17",
          "2022-08-18",
          "2022-08-19",
          "2022-08-22",
          "2022-08-23",
          "2022-08-24",
          "2022-08-25",
          "2022-08-26",
          "2022-08-29",
          "2022-08-30"
         ],
         "y": [
          244.070007,
          242.080002,
          231.190002,
          219.169998,
          215.039993,
          222.029999,
          212.580002,
          217.830002,
          221.979996,
          214.820007,
          201.830002,
          195.149994,
          199.020004,
          187.880005,
          184.149994,
          197.820007,
          185.470001,
          195.330002,
          196.020004,
          203.339996,
          188.440002,
          186.75,
          169.5,
          175.949997,
          166.300003,
          161.75,
          177.059998,
          172.639999,
          181.770004,
          169.380005,
          171.240005,
          166.940002,
          168.979996,
          161.539993,
          169.75,
          178.509995,
          188.110001,
          186.720001,
          183.199997,
          195.919998,
          187.199997,
          187.860001,
          189.259995,
          186.479996,
          180.479996,
          169.740005,
          156.470001,
          158.360001,
          165.270004,
          156.009995,
          158.800003,
          165.660004,
          163.600006,
          162.25,
          171.259995,
          168.690002,
          159.820007,
          155.419998,
          151.589996,
          145.229996,
          149.639999,
          151.300003,
          158.580002,
          158.380005,
          151.520004,
          150.820007,
          151.639999,
          153.720001,
          157.619995,
          161.009995,
          169.919998,
          178.070007,
          180.5,
          173.190002,
          170.240005,
          165.330002,
          177.899994,
          179.839996,
          181.630005,
          184.410004,
          185.259995,
          188.929993,
          192.149994,
          189.889999,
          177.929993,
          170.860001,
          180.970001,
          179.419998,
          187.089996,
          190.320007,
          188.789993,
          183.350006,
          187.729996,
          178.490005,
          170.339996,
          171.809998,
          172.220001,
          179.130005,
          162.600006,
          158.009995,
          154.679993
         ]
        },
        {
         "mode": "lines",
         "name": "Testing Training Data",
         "type": "scatter",
         "x": [
          "2022-08-31",
          "2022-09-01",
          "2022-09-02",
          "2022-09-06",
          "2022-09-07",
          "2022-09-08",
          "2022-09-09",
          "2022-09-12",
          "2022-09-13",
          "2022-09-14",
          "2022-09-15",
          "2022-09-16",
          "2022-09-19",
          "2022-09-20",
          "2022-09-21",
          "2022-09-22",
          "2022-09-23",
          "2022-09-26",
          "2022-09-27",
          "2022-09-28",
          "2022-09-29",
          "2022-09-30",
          "2022-10-03",
          "2022-10-04",
          "2022-10-05",
          "2022-10-06"
         ],
         "y": [
          136.11904907226562,
          136.88743591308594,
          139.36534118652344,
          142.20333862304688,
          140.8415069580078,
          133.88999938964844,
          132.0682373046875,
          130.86749267578125,
          131.6722412109375,
          132.541015625,
          131.14236450195312,
          130.46095275878906,
          126.32640075683594,
          124.67953491210938,
          123.41895294189453,
          124.62174987792969,
          125.68900299072266,
          121.843017578125,
          122.29854583740234,
          126.19942474365234,
          129.61489868164062
         ]
        },
        {
         "mode": "lines",
         "name": "Ground Truth",
         "type": "scatter",
         "x": [
          "2022-08-31",
          "2022-09-01",
          "2022-09-02",
          "2022-09-06",
          "2022-09-07",
          "2022-09-08",
          "2022-09-09",
          "2022-09-12",
          "2022-09-13",
          "2022-09-14",
          "2022-09-15",
          "2022-09-16",
          "2022-09-19",
          "2022-09-20",
          "2022-09-21",
          "2022-09-22",
          "2022-09-23",
          "2022-09-26",
          "2022-09-27",
          "2022-09-28",
          "2022-09-29",
          "2022-09-30",
          "2022-10-03",
          "2022-10-04",
          "2022-10-05",
          "2022-10-06"
         ],
         "y": [
          150.940002,
          139.369995,
          136.470001,
          134.649994,
          137.139999,
          139.899994,
          143.869995,
          145.050003,
          131.309998,
          131.279999,
          129.289993,
          131.979996,
          133.820007,
          131.759995,
          132.610001,
          125.610001,
          125.160004,
          122.279999,
          124.129997,
          127.360001,
          122.199997,
          121.389999,
          125.120003,
          131.669998,
          132.089996,
          131.300003
         ]
        }
       ],
       "layout": {
        "font": {
         "size": 20
        },
        "template": {
         "data": {
          "bar": [
           {
            "error_x": {
             "color": "#2a3f5f"
            },
            "error_y": {
             "color": "#2a3f5f"
            },
            "marker": {
             "line": {
              "color": "#E5ECF6",
              "width": 0.5
             },
             "pattern": {
              "fillmode": "overlay",
              "size": 10,
              "solidity": 0.2
             }
            },
            "type": "bar"
           }
          ],
          "barpolar": [
           {
            "marker": {
             "line": {
              "color": "#E5ECF6",
              "width": 0.5
             },
             "pattern": {
              "fillmode": "overlay",
              "size": 10,
              "solidity": 0.2
             }
            },
            "type": "barpolar"
           }
          ],
          "carpet": [
           {
            "aaxis": {
             "endlinecolor": "#2a3f5f",
             "gridcolor": "white",
             "linecolor": "white",
             "minorgridcolor": "white",
             "startlinecolor": "#2a3f5f"
            },
            "baxis": {
             "endlinecolor": "#2a3f5f",
             "gridcolor": "white",
             "linecolor": "white",
             "minorgridcolor": "white",
             "startlinecolor": "#2a3f5f"
            },
            "type": "carpet"
           }
          ],
          "choropleth": [
           {
            "colorbar": {
             "outlinewidth": 0,
             "ticks": ""
            },
            "type": "choropleth"
           }
          ],
          "contour": [
           {
            "colorbar": {
             "outlinewidth": 0,
             "ticks": ""
            },
            "colorscale": [
             [
              0,
              "#0d0887"
             ],
             [
              0.1111111111111111,
              "#46039f"
             ],
             [
              0.2222222222222222,
              "#7201a8"
             ],
             [
              0.3333333333333333,
              "#9c179e"
             ],
             [
              0.4444444444444444,
              "#bd3786"
             ],
             [
              0.5555555555555556,
              "#d8576b"
             ],
             [
              0.6666666666666666,
              "#ed7953"
             ],
             [
              0.7777777777777778,
              "#fb9f3a"
             ],
             [
              0.8888888888888888,
              "#fdca26"
             ],
             [
              1,
              "#f0f921"
             ]
            ],
            "type": "contour"
           }
          ],
          "contourcarpet": [
           {
            "colorbar": {
             "outlinewidth": 0,
             "ticks": ""
            },
            "type": "contourcarpet"
           }
          ],
          "heatmap": [
           {
            "colorbar": {
             "outlinewidth": 0,
             "ticks": ""
            },
            "colorscale": [
             [
              0,
              "#0d0887"
             ],
             [
              0.1111111111111111,
              "#46039f"
             ],
             [
              0.2222222222222222,
              "#7201a8"
             ],
             [
              0.3333333333333333,
              "#9c179e"
             ],
             [
              0.4444444444444444,
              "#bd3786"
             ],
             [
              0.5555555555555556,
              "#d8576b"
             ],
             [
              0.6666666666666666,
              "#ed7953"
             ],
             [
              0.7777777777777778,
              "#fb9f3a"
             ],
             [
              0.8888888888888888,
              "#fdca26"
             ],
             [
              1,
              "#f0f921"
             ]
            ],
            "type": "heatmap"
           }
          ],
          "heatmapgl": [
           {
            "colorbar": {
             "outlinewidth": 0,
             "ticks": ""
            },
            "colorscale": [
             [
              0,
              "#0d0887"
             ],
             [
              0.1111111111111111,
              "#46039f"
             ],
             [
              0.2222222222222222,
              "#7201a8"
             ],
             [
              0.3333333333333333,
              "#9c179e"
             ],
             [
              0.4444444444444444,
              "#bd3786"
             ],
             [
              0.5555555555555556,
              "#d8576b"
             ],
             [
              0.6666666666666666,
              "#ed7953"
             ],
             [
              0.7777777777777778,
              "#fb9f3a"
             ],
             [
              0.8888888888888888,
              "#fdca26"
             ],
             [
              1,
              "#f0f921"
             ]
            ],
            "type": "heatmapgl"
           }
          ],
          "histogram": [
           {
            "marker": {
             "pattern": {
              "fillmode": "overlay",
              "size": 10,
              "solidity": 0.2
             }
            },
            "type": "histogram"
           }
          ],
          "histogram2d": [
           {
            "colorbar": {
             "outlinewidth": 0,
             "ticks": ""
            },
            "colorscale": [
             [
              0,
              "#0d0887"
             ],
             [
              0.1111111111111111,
              "#46039f"
             ],
             [
              0.2222222222222222,
              "#7201a8"
             ],
             [
              0.3333333333333333,
              "#9c179e"
             ],
             [
              0.4444444444444444,
              "#bd3786"
             ],
             [
              0.5555555555555556,
              "#d8576b"
             ],
             [
              0.6666666666666666,
              "#ed7953"
             ],
             [
              0.7777777777777778,
              "#fb9f3a"
             ],
             [
              0.8888888888888888,
              "#fdca26"
             ],
             [
              1,
              "#f0f921"
             ]
            ],
            "type": "histogram2d"
           }
          ],
          "histogram2dcontour": [
           {
            "colorbar": {
             "outlinewidth": 0,
             "ticks": ""
            },
            "colorscale": [
             [
              0,
              "#0d0887"
             ],
             [
              0.1111111111111111,
              "#46039f"
             ],
             [
              0.2222222222222222,
              "#7201a8"
             ],
             [
              0.3333333333333333,
              "#9c179e"
             ],
             [
              0.4444444444444444,
              "#bd3786"
             ],
             [
              0.5555555555555556,
              "#d8576b"
             ],
             [
              0.6666666666666666,
              "#ed7953"
             ],
             [
              0.7777777777777778,
              "#fb9f3a"
             ],
             [
              0.8888888888888888,
              "#fdca26"
             ],
             [
              1,
              "#f0f921"
             ]
            ],
            "type": "histogram2dcontour"
           }
          ],
          "mesh3d": [
           {
            "colorbar": {
             "outlinewidth": 0,
             "ticks": ""
            },
            "type": "mesh3d"
           }
          ],
          "parcoords": [
           {
            "line": {
             "colorbar": {
              "outlinewidth": 0,
              "ticks": ""
             }
            },
            "type": "parcoords"
           }
          ],
          "pie": [
           {
            "automargin": true,
            "type": "pie"
           }
          ],
          "scatter": [
           {
            "fillpattern": {
             "fillmode": "overlay",
             "size": 10,
             "solidity": 0.2
            },
            "type": "scatter"
           }
          ],
          "scatter3d": [
           {
            "line": {
             "colorbar": {
              "outlinewidth": 0,
              "ticks": ""
             }
            },
            "marker": {
             "colorbar": {
              "outlinewidth": 0,
              "ticks": ""
             }
            },
            "type": "scatter3d"
           }
          ],
          "scattercarpet": [
           {
            "marker": {
             "colorbar": {
              "outlinewidth": 0,
              "ticks": ""
             }
            },
            "type": "scattercarpet"
           }
          ],
          "scattergeo": [
           {
            "marker": {
             "colorbar": {
              "outlinewidth": 0,
              "ticks": ""
             }
            },
            "type": "scattergeo"
           }
          ],
          "scattergl": [
           {
            "marker": {
             "colorbar": {
              "outlinewidth": 0,
              "ticks": ""
             }
            },
            "type": "scattergl"
           }
          ],
          "scattermapbox": [
           {
            "marker": {
             "colorbar": {
              "outlinewidth": 0,
              "ticks": ""
             }
            },
            "type": "scattermapbox"
           }
          ],
          "scatterpolar": [
           {
            "marker": {
             "colorbar": {
              "outlinewidth": 0,
              "ticks": ""
             }
            },
            "type": "scatterpolar"
           }
          ],
          "scatterpolargl": [
           {
            "marker": {
             "colorbar": {
              "outlinewidth": 0,
              "ticks": ""
             }
            },
            "type": "scatterpolargl"
           }
          ],
          "scatterternary": [
           {
            "marker": {
             "colorbar": {
              "outlinewidth": 0,
              "ticks": ""
             }
            },
            "type": "scatterternary"
           }
          ],
          "surface": [
           {
            "colorbar": {
             "outlinewidth": 0,
             "ticks": ""
            },
            "colorscale": [
             [
              0,
              "#0d0887"
             ],
             [
              0.1111111111111111,
              "#46039f"
             ],
             [
              0.2222222222222222,
              "#7201a8"
             ],
             [
              0.3333333333333333,
              "#9c179e"
             ],
             [
              0.4444444444444444,
              "#bd3786"
             ],
             [
              0.5555555555555556,
              "#d8576b"
             ],
             [
              0.6666666666666666,
              "#ed7953"
             ],
             [
              0.7777777777777778,
              "#fb9f3a"
             ],
             [
              0.8888888888888888,
              "#fdca26"
             ],
             [
              1,
              "#f0f921"
             ]
            ],
            "type": "surface"
           }
          ],
          "table": [
           {
            "cells": {
             "fill": {
              "color": "#EBF0F8"
             },
             "line": {
              "color": "white"
             }
            },
            "header": {
             "fill": {
              "color": "#C8D4E3"
             },
             "line": {
              "color": "white"
             }
            },
            "type": "table"
           }
          ]
         },
         "layout": {
          "annotationdefaults": {
           "arrowcolor": "#2a3f5f",
           "arrowhead": 0,
           "arrowwidth": 1
          },
          "autotypenumbers": "strict",
          "coloraxis": {
           "colorbar": {
            "outlinewidth": 0,
            "ticks": ""
           }
          },
          "colorscale": {
           "diverging": [
            [
             0,
             "#8e0152"
            ],
            [
             0.1,
             "#c51b7d"
            ],
            [
             0.2,
             "#de77ae"
            ],
            [
             0.3,
             "#f1b6da"
            ],
            [
             0.4,
             "#fde0ef"
            ],
            [
             0.5,
             "#f7f7f7"
            ],
            [
             0.6,
             "#e6f5d0"
            ],
            [
             0.7,
             "#b8e186"
            ],
            [
             0.8,
             "#7fbc41"
            ],
            [
             0.9,
             "#4d9221"
            ],
            [
             1,
             "#276419"
            ]
           ],
           "sequential": [
            [
             0,
             "#0d0887"
            ],
            [
             0.1111111111111111,
             "#46039f"
            ],
            [
             0.2222222222222222,
             "#7201a8"
            ],
            [
             0.3333333333333333,
             "#9c179e"
            ],
            [
             0.4444444444444444,
             "#bd3786"
            ],
            [
             0.5555555555555556,
             "#d8576b"
            ],
            [
             0.6666666666666666,
             "#ed7953"
            ],
            [
             0.7777777777777778,
             "#fb9f3a"
            ],
            [
             0.8888888888888888,
             "#fdca26"
            ],
            [
             1,
             "#f0f921"
            ]
           ],
           "sequentialminus": [
            [
             0,
             "#0d0887"
            ],
            [
             0.1111111111111111,
             "#46039f"
            ],
            [
             0.2222222222222222,
             "#7201a8"
            ],
            [
             0.3333333333333333,
             "#9c179e"
            ],
            [
             0.4444444444444444,
             "#bd3786"
            ],
            [
             0.5555555555555556,
             "#d8576b"
            ],
            [
             0.6666666666666666,
             "#ed7953"
            ],
            [
             0.7777777777777778,
             "#fb9f3a"
            ],
            [
             0.8888888888888888,
             "#fdca26"
            ],
            [
             1,
             "#f0f921"
            ]
           ]
          },
          "colorway": [
           "#636efa",
           "#EF553B",
           "#00cc96",
           "#ab63fa",
           "#FFA15A",
           "#19d3f3",
           "#FF6692",
           "#B6E880",
           "#FF97FF",
           "#FECB52"
          ],
          "font": {
           "color": "#2a3f5f"
          },
          "geo": {
           "bgcolor": "white",
           "lakecolor": "white",
           "landcolor": "#E5ECF6",
           "showlakes": true,
           "showland": true,
           "subunitcolor": "white"
          },
          "hoverlabel": {
           "align": "left"
          },
          "hovermode": "closest",
          "mapbox": {
           "style": "light"
          },
          "paper_bgcolor": "white",
          "plot_bgcolor": "#E5ECF6",
          "polar": {
           "angularaxis": {
            "gridcolor": "white",
            "linecolor": "white",
            "ticks": ""
           },
           "bgcolor": "#E5ECF6",
           "radialaxis": {
            "gridcolor": "white",
            "linecolor": "white",
            "ticks": ""
           }
          },
          "scene": {
           "xaxis": {
            "backgroundcolor": "#E5ECF6",
            "gridcolor": "white",
            "gridwidth": 2,
            "linecolor": "white",
            "showbackground": true,
            "ticks": "",
            "zerolinecolor": "white"
           },
           "yaxis": {
            "backgroundcolor": "#E5ECF6",
            "gridcolor": "white",
            "gridwidth": 2,
            "linecolor": "white",
            "showbackground": true,
            "ticks": "",
            "zerolinecolor": "white"
           },
           "zaxis": {
            "backgroundcolor": "#E5ECF6",
            "gridcolor": "white",
            "gridwidth": 2,
            "linecolor": "white",
            "showbackground": true,
            "ticks": "",
            "zerolinecolor": "white"
           }
          },
          "shapedefaults": {
           "line": {
            "color": "#2a3f5f"
           }
          },
          "ternary": {
           "aaxis": {
            "gridcolor": "white",
            "linecolor": "white",
            "ticks": ""
           },
           "baxis": {
            "gridcolor": "white",
            "linecolor": "white",
            "ticks": ""
           },
           "bgcolor": "#E5ECF6",
           "caxis": {
            "gridcolor": "white",
            "linecolor": "white",
            "ticks": ""
           }
          },
          "title": {
           "x": 0.05
          },
          "xaxis": {
           "automargin": true,
           "gridcolor": "white",
           "linecolor": "white",
           "ticks": "",
           "title": {
            "standoff": 15
           },
           "zerolinecolor": "white",
           "zerolinewidth": 2
          },
          "yaxis": {
           "automargin": true,
           "gridcolor": "white",
           "linecolor": "white",
           "ticks": "",
           "title": {
            "standoff": 15
           },
           "zerolinecolor": "white",
           "zerolinewidth": 2
          }
         }
        },
        "title": {
         "text": "NVDA Stock"
        },
        "xaxis": {
         "title": {
          "text": "Date"
         }
        },
        "yaxis": {
         "title": {
          "text": "Close"
         }
        }
       }
      }
     },
     "metadata": {},
     "output_type": "display_data"
    },
    {
     "data": {
      "application/vnd.plotly.v1+json": {
       "config": {
        "plotlyServerURL": "https://plot.ly"
       },
       "data": [
        {
         "mode": "lines",
         "name": "Future Predictions",
         "type": "scatter",
         "x": [
          "2022-10-06T00:00:00",
          "2022-10-07T00:00:00",
          "2022-10-08T00:00:00",
          "2022-10-09T00:00:00",
          "2022-10-10T00:00:00",
          "2022-10-11T00:00:00"
         ],
         "y": [
          131.300003,
          130.32032775878906,
          130.23468017578125,
          129.72134399414062,
          129.5888671875,
          129.17056274414062
         ]
        },
        {
         "mode": "lines",
         "name": "5-Day Data",
         "type": "scatter",
         "x": [
          "2022-10-06T00:00:00",
          "2022-10-07T00:00:00",
          "2022-10-08T00:00:00",
          "2022-10-09T00:00:00",
          "2022-10-10T00:00:00",
          "2022-10-11T00:00:00"
         ],
         "y": [
          131.300003,
          120.760002,
          119.41,
          118.06,
          116.699997,
          115.860001
         ]
        },
        {
         "mode": "lines",
         "name": "Ground Truth",
         "type": "scatter",
         "x": [
          "2022-08-31",
          "2022-09-01",
          "2022-09-02",
          "2022-09-06",
          "2022-09-07",
          "2022-09-08",
          "2022-09-09",
          "2022-09-12",
          "2022-09-13",
          "2022-09-14",
          "2022-09-15",
          "2022-09-16",
          "2022-09-19",
          "2022-09-20",
          "2022-09-21",
          "2022-09-22",
          "2022-09-23",
          "2022-09-26",
          "2022-09-27",
          "2022-09-28",
          "2022-09-29",
          "2022-09-30",
          "2022-10-03",
          "2022-10-04",
          "2022-10-05",
          "2022-10-06"
         ],
         "y": [
          150.940002,
          139.369995,
          136.470001,
          134.649994,
          137.139999,
          139.899994,
          143.869995,
          145.050003,
          131.309998,
          131.279999,
          129.289993,
          131.979996,
          133.820007,
          131.759995,
          132.610001,
          125.610001,
          125.160004,
          122.279999,
          124.129997,
          127.360001,
          122.199997,
          121.389999,
          125.120003,
          131.669998,
          132.089996,
          131.300003
         ]
        }
       ],
       "layout": {
        "font": {
         "size": 20
        },
        "template": {
         "data": {
          "bar": [
           {
            "error_x": {
             "color": "#2a3f5f"
            },
            "error_y": {
             "color": "#2a3f5f"
            },
            "marker": {
             "line": {
              "color": "#E5ECF6",
              "width": 0.5
             },
             "pattern": {
              "fillmode": "overlay",
              "size": 10,
              "solidity": 0.2
             }
            },
            "type": "bar"
           }
          ],
          "barpolar": [
           {
            "marker": {
             "line": {
              "color": "#E5ECF6",
              "width": 0.5
             },
             "pattern": {
              "fillmode": "overlay",
              "size": 10,
              "solidity": 0.2
             }
            },
            "type": "barpolar"
           }
          ],
          "carpet": [
           {
            "aaxis": {
             "endlinecolor": "#2a3f5f",
             "gridcolor": "white",
             "linecolor": "white",
             "minorgridcolor": "white",
             "startlinecolor": "#2a3f5f"
            },
            "baxis": {
             "endlinecolor": "#2a3f5f",
             "gridcolor": "white",
             "linecolor": "white",
             "minorgridcolor": "white",
             "startlinecolor": "#2a3f5f"
            },
            "type": "carpet"
           }
          ],
          "choropleth": [
           {
            "colorbar": {
             "outlinewidth": 0,
             "ticks": ""
            },
            "type": "choropleth"
           }
          ],
          "contour": [
           {
            "colorbar": {
             "outlinewidth": 0,
             "ticks": ""
            },
            "colorscale": [
             [
              0,
              "#0d0887"
             ],
             [
              0.1111111111111111,
              "#46039f"
             ],
             [
              0.2222222222222222,
              "#7201a8"
             ],
             [
              0.3333333333333333,
              "#9c179e"
             ],
             [
              0.4444444444444444,
              "#bd3786"
             ],
             [
              0.5555555555555556,
              "#d8576b"
             ],
             [
              0.6666666666666666,
              "#ed7953"
             ],
             [
              0.7777777777777778,
              "#fb9f3a"
             ],
             [
              0.8888888888888888,
              "#fdca26"
             ],
             [
              1,
              "#f0f921"
             ]
            ],
            "type": "contour"
           }
          ],
          "contourcarpet": [
           {
            "colorbar": {
             "outlinewidth": 0,
             "ticks": ""
            },
            "type": "contourcarpet"
           }
          ],
          "heatmap": [
           {
            "colorbar": {
             "outlinewidth": 0,
             "ticks": ""
            },
            "colorscale": [
             [
              0,
              "#0d0887"
             ],
             [
              0.1111111111111111,
              "#46039f"
             ],
             [
              0.2222222222222222,
              "#7201a8"
             ],
             [
              0.3333333333333333,
              "#9c179e"
             ],
             [
              0.4444444444444444,
              "#bd3786"
             ],
             [
              0.5555555555555556,
              "#d8576b"
             ],
             [
              0.6666666666666666,
              "#ed7953"
             ],
             [
              0.7777777777777778,
              "#fb9f3a"
             ],
             [
              0.8888888888888888,
              "#fdca26"
             ],
             [
              1,
              "#f0f921"
             ]
            ],
            "type": "heatmap"
           }
          ],
          "heatmapgl": [
           {
            "colorbar": {
             "outlinewidth": 0,
             "ticks": ""
            },
            "colorscale": [
             [
              0,
              "#0d0887"
             ],
             [
              0.1111111111111111,
              "#46039f"
             ],
             [
              0.2222222222222222,
              "#7201a8"
             ],
             [
              0.3333333333333333,
              "#9c179e"
             ],
             [
              0.4444444444444444,
              "#bd3786"
             ],
             [
              0.5555555555555556,
              "#d8576b"
             ],
             [
              0.6666666666666666,
              "#ed7953"
             ],
             [
              0.7777777777777778,
              "#fb9f3a"
             ],
             [
              0.8888888888888888,
              "#fdca26"
             ],
             [
              1,
              "#f0f921"
             ]
            ],
            "type": "heatmapgl"
           }
          ],
          "histogram": [
           {
            "marker": {
             "pattern": {
              "fillmode": "overlay",
              "size": 10,
              "solidity": 0.2
             }
            },
            "type": "histogram"
           }
          ],
          "histogram2d": [
           {
            "colorbar": {
             "outlinewidth": 0,
             "ticks": ""
            },
            "colorscale": [
             [
              0,
              "#0d0887"
             ],
             [
              0.1111111111111111,
              "#46039f"
             ],
             [
              0.2222222222222222,
              "#7201a8"
             ],
             [
              0.3333333333333333,
              "#9c179e"
             ],
             [
              0.4444444444444444,
              "#bd3786"
             ],
             [
              0.5555555555555556,
              "#d8576b"
             ],
             [
              0.6666666666666666,
              "#ed7953"
             ],
             [
              0.7777777777777778,
              "#fb9f3a"
             ],
             [
              0.8888888888888888,
              "#fdca26"
             ],
             [
              1,
              "#f0f921"
             ]
            ],
            "type": "histogram2d"
           }
          ],
          "histogram2dcontour": [
           {
            "colorbar": {
             "outlinewidth": 0,
             "ticks": ""
            },
            "colorscale": [
             [
              0,
              "#0d0887"
             ],
             [
              0.1111111111111111,
              "#46039f"
             ],
             [
              0.2222222222222222,
              "#7201a8"
             ],
             [
              0.3333333333333333,
              "#9c179e"
             ],
             [
              0.4444444444444444,
              "#bd3786"
             ],
             [
              0.5555555555555556,
              "#d8576b"
             ],
             [
              0.6666666666666666,
              "#ed7953"
             ],
             [
              0.7777777777777778,
              "#fb9f3a"
             ],
             [
              0.8888888888888888,
              "#fdca26"
             ],
             [
              1,
              "#f0f921"
             ]
            ],
            "type": "histogram2dcontour"
           }
          ],
          "mesh3d": [
           {
            "colorbar": {
             "outlinewidth": 0,
             "ticks": ""
            },
            "type": "mesh3d"
           }
          ],
          "parcoords": [
           {
            "line": {
             "colorbar": {
              "outlinewidth": 0,
              "ticks": ""
             }
            },
            "type": "parcoords"
           }
          ],
          "pie": [
           {
            "automargin": true,
            "type": "pie"
           }
          ],
          "scatter": [
           {
            "fillpattern": {
             "fillmode": "overlay",
             "size": 10,
             "solidity": 0.2
            },
            "type": "scatter"
           }
          ],
          "scatter3d": [
           {
            "line": {
             "colorbar": {
              "outlinewidth": 0,
              "ticks": ""
             }
            },
            "marker": {
             "colorbar": {
              "outlinewidth": 0,
              "ticks": ""
             }
            },
            "type": "scatter3d"
           }
          ],
          "scattercarpet": [
           {
            "marker": {
             "colorbar": {
              "outlinewidth": 0,
              "ticks": ""
             }
            },
            "type": "scattercarpet"
           }
          ],
          "scattergeo": [
           {
            "marker": {
             "colorbar": {
              "outlinewidth": 0,
              "ticks": ""
             }
            },
            "type": "scattergeo"
           }
          ],
          "scattergl": [
           {
            "marker": {
             "colorbar": {
              "outlinewidth": 0,
              "ticks": ""
             }
            },
            "type": "scattergl"
           }
          ],
          "scattermapbox": [
           {
            "marker": {
             "colorbar": {
              "outlinewidth": 0,
              "ticks": ""
             }
            },
            "type": "scattermapbox"
           }
          ],
          "scatterpolar": [
           {
            "marker": {
             "colorbar": {
              "outlinewidth": 0,
              "ticks": ""
             }
            },
            "type": "scatterpolar"
           }
          ],
          "scatterpolargl": [
           {
            "marker": {
             "colorbar": {
              "outlinewidth": 0,
              "ticks": ""
             }
            },
            "type": "scatterpolargl"
           }
          ],
          "scatterternary": [
           {
            "marker": {
             "colorbar": {
              "outlinewidth": 0,
              "ticks": ""
             }
            },
            "type": "scatterternary"
           }
          ],
          "surface": [
           {
            "colorbar": {
             "outlinewidth": 0,
             "ticks": ""
            },
            "colorscale": [
             [
              0,
              "#0d0887"
             ],
             [
              0.1111111111111111,
              "#46039f"
             ],
             [
              0.2222222222222222,
              "#7201a8"
             ],
             [
              0.3333333333333333,
              "#9c179e"
             ],
             [
              0.4444444444444444,
              "#bd3786"
             ],
             [
              0.5555555555555556,
              "#d8576b"
             ],
             [
              0.6666666666666666,
              "#ed7953"
             ],
             [
              0.7777777777777778,
              "#fb9f3a"
             ],
             [
              0.8888888888888888,
              "#fdca26"
             ],
             [
              1,
              "#f0f921"
             ]
            ],
            "type": "surface"
           }
          ],
          "table": [
           {
            "cells": {
             "fill": {
              "color": "#EBF0F8"
             },
             "line": {
              "color": "white"
             }
            },
            "header": {
             "fill": {
              "color": "#C8D4E3"
             },
             "line": {
              "color": "white"
             }
            },
            "type": "table"
           }
          ]
         },
         "layout": {
          "annotationdefaults": {
           "arrowcolor": "#2a3f5f",
           "arrowhead": 0,
           "arrowwidth": 1
          },
          "autotypenumbers": "strict",
          "coloraxis": {
           "colorbar": {
            "outlinewidth": 0,
            "ticks": ""
           }
          },
          "colorscale": {
           "diverging": [
            [
             0,
             "#8e0152"
            ],
            [
             0.1,
             "#c51b7d"
            ],
            [
             0.2,
             "#de77ae"
            ],
            [
             0.3,
             "#f1b6da"
            ],
            [
             0.4,
             "#fde0ef"
            ],
            [
             0.5,
             "#f7f7f7"
            ],
            [
             0.6,
             "#e6f5d0"
            ],
            [
             0.7,
             "#b8e186"
            ],
            [
             0.8,
             "#7fbc41"
            ],
            [
             0.9,
             "#4d9221"
            ],
            [
             1,
             "#276419"
            ]
           ],
           "sequential": [
            [
             0,
             "#0d0887"
            ],
            [
             0.1111111111111111,
             "#46039f"
            ],
            [
             0.2222222222222222,
             "#7201a8"
            ],
            [
             0.3333333333333333,
             "#9c179e"
            ],
            [
             0.4444444444444444,
             "#bd3786"
            ],
            [
             0.5555555555555556,
             "#d8576b"
            ],
            [
             0.6666666666666666,
             "#ed7953"
            ],
            [
             0.7777777777777778,
             "#fb9f3a"
            ],
            [
             0.8888888888888888,
             "#fdca26"
            ],
            [
             1,
             "#f0f921"
            ]
           ],
           "sequentialminus": [
            [
             0,
             "#0d0887"
            ],
            [
             0.1111111111111111,
             "#46039f"
            ],
            [
             0.2222222222222222,
             "#7201a8"
            ],
            [
             0.3333333333333333,
             "#9c179e"
            ],
            [
             0.4444444444444444,
             "#bd3786"
            ],
            [
             0.5555555555555556,
             "#d8576b"
            ],
            [
             0.6666666666666666,
             "#ed7953"
            ],
            [
             0.7777777777777778,
             "#fb9f3a"
            ],
            [
             0.8888888888888888,
             "#fdca26"
            ],
            [
             1,
             "#f0f921"
            ]
           ]
          },
          "colorway": [
           "#636efa",
           "#EF553B",
           "#00cc96",
           "#ab63fa",
           "#FFA15A",
           "#19d3f3",
           "#FF6692",
           "#B6E880",
           "#FF97FF",
           "#FECB52"
          ],
          "font": {
           "color": "#2a3f5f"
          },
          "geo": {
           "bgcolor": "white",
           "lakecolor": "white",
           "landcolor": "#E5ECF6",
           "showlakes": true,
           "showland": true,
           "subunitcolor": "white"
          },
          "hoverlabel": {
           "align": "left"
          },
          "hovermode": "closest",
          "mapbox": {
           "style": "light"
          },
          "paper_bgcolor": "white",
          "plot_bgcolor": "#E5ECF6",
          "polar": {
           "angularaxis": {
            "gridcolor": "white",
            "linecolor": "white",
            "ticks": ""
           },
           "bgcolor": "#E5ECF6",
           "radialaxis": {
            "gridcolor": "white",
            "linecolor": "white",
            "ticks": ""
           }
          },
          "scene": {
           "xaxis": {
            "backgroundcolor": "#E5ECF6",
            "gridcolor": "white",
            "gridwidth": 2,
            "linecolor": "white",
            "showbackground": true,
            "ticks": "",
            "zerolinecolor": "white"
           },
           "yaxis": {
            "backgroundcolor": "#E5ECF6",
            "gridcolor": "white",
            "gridwidth": 2,
            "linecolor": "white",
            "showbackground": true,
            "ticks": "",
            "zerolinecolor": "white"
           },
           "zaxis": {
            "backgroundcolor": "#E5ECF6",
            "gridcolor": "white",
            "gridwidth": 2,
            "linecolor": "white",
            "showbackground": true,
            "ticks": "",
            "zerolinecolor": "white"
           }
          },
          "shapedefaults": {
           "line": {
            "color": "#2a3f5f"
           }
          },
          "ternary": {
           "aaxis": {
            "gridcolor": "white",
            "linecolor": "white",
            "ticks": ""
           },
           "baxis": {
            "gridcolor": "white",
            "linecolor": "white",
            "ticks": ""
           },
           "bgcolor": "#E5ECF6",
           "caxis": {
            "gridcolor": "white",
            "linecolor": "white",
            "ticks": ""
           }
          },
          "title": {
           "x": 0.05
          },
          "xaxis": {
           "automargin": true,
           "gridcolor": "white",
           "linecolor": "white",
           "ticks": "",
           "title": {
            "standoff": 15
           },
           "zerolinecolor": "white",
           "zerolinewidth": 2
          },
          "yaxis": {
           "automargin": true,
           "gridcolor": "white",
           "linecolor": "white",
           "ticks": "",
           "title": {
            "standoff": 15
           },
           "zerolinecolor": "white",
           "zerolinewidth": 2
          }
         }
        },
        "title": {
         "text": "NVDA Stock"
        },
        "xaxis": {
         "title": {
          "text": "Date"
         }
        },
        "yaxis": {
         "title": {
          "text": "Close"
         }
        }
       }
      }
     },
     "metadata": {},
     "output_type": "display_data"
    }
   ],
   "source": [
    "pred(df_NVDA,df_NVDA_future,df_NVDA_comp)"
   ]
  },
  {
   "cell_type": "code",
   "execution_count": 31,
   "metadata": {
    "scrolled": false
   },
   "outputs": [
    {
     "name": "stdout",
     "output_type": "stream",
     "text": [
      "Epoch 1/100\n",
      "1/1 [==============================] - 1s 912ms/step - loss: 5511.3618\n",
      "Epoch 2/100\n",
      "1/1 [==============================] - 0s 13ms/step - loss: 5479.5044\n",
      "Epoch 3/100\n",
      "1/1 [==============================] - 0s 16ms/step - loss: 5450.9614\n",
      "Epoch 4/100\n",
      "1/1 [==============================] - 0s 12ms/step - loss: 5425.1719\n",
      "Epoch 5/100\n",
      "1/1 [==============================] - 0s 13ms/step - loss: 5401.7388\n",
      "Epoch 6/100\n",
      "1/1 [==============================] - 0s 12ms/step - loss: 5380.2422\n",
      "Epoch 7/100\n",
      "1/1 [==============================] - 0s 12ms/step - loss: 5360.2461\n",
      "Epoch 8/100\n",
      "1/1 [==============================] - 0s 13ms/step - loss: 5341.3735\n",
      "Epoch 9/100\n",
      "1/1 [==============================] - 0s 11ms/step - loss: 5323.2729\n",
      "Epoch 10/100\n",
      "1/1 [==============================] - 0s 14ms/step - loss: 5305.7173\n",
      "Epoch 11/100\n",
      "1/1 [==============================] - 0s 13ms/step - loss: 5288.4355\n",
      "Epoch 12/100\n",
      "1/1 [==============================] - 0s 13ms/step - loss: 5271.2036\n",
      "Epoch 13/100\n",
      "1/1 [==============================] - 0s 13ms/step - loss: 5253.2446\n",
      "Epoch 14/100\n",
      "1/1 [==============================] - 0s 13ms/step - loss: 5235.1582\n",
      "Epoch 15/100\n",
      "1/1 [==============================] - 0s 12ms/step - loss: 5216.8882\n",
      "Epoch 16/100\n",
      "1/1 [==============================] - 0s 13ms/step - loss: 5198.3677\n",
      "Epoch 17/100\n",
      "1/1 [==============================] - 0s 12ms/step - loss: 5179.5322\n",
      "Epoch 18/100\n",
      "1/1 [==============================] - 0s 13ms/step - loss: 5160.3101\n",
      "Epoch 19/100\n",
      "1/1 [==============================] - 0s 12ms/step - loss: 5140.6152\n",
      "Epoch 20/100\n",
      "1/1 [==============================] - 0s 12ms/step - loss: 5120.3472\n",
      "Epoch 21/100\n",
      "1/1 [==============================] - 0s 12ms/step - loss: 5099.3862\n",
      "Epoch 22/100\n",
      "1/1 [==============================] - 0s 12ms/step - loss: 5077.5884\n",
      "Epoch 23/100\n",
      "1/1 [==============================] - 0s 12ms/step - loss: 5054.7891\n",
      "Epoch 24/100\n",
      "1/1 [==============================] - 0s 12ms/step - loss: 5030.7930\n",
      "Epoch 25/100\n",
      "1/1 [==============================] - 0s 12ms/step - loss: 5005.3579\n",
      "Epoch 26/100\n",
      "1/1 [==============================] - 0s 11ms/step - loss: 4977.6572\n",
      "Epoch 27/100\n",
      "1/1 [==============================] - 0s 19ms/step - loss: 4947.4629\n",
      "Epoch 28/100\n",
      "1/1 [==============================] - 0s 16ms/step - loss: 4914.9277\n",
      "Epoch 29/100\n",
      "1/1 [==============================] - 0s 12ms/step - loss: 4879.4937\n",
      "Epoch 30/100\n",
      "1/1 [==============================] - 0s 12ms/step - loss: 4840.2183\n",
      "Epoch 31/100\n",
      "1/1 [==============================] - 0s 12ms/step - loss: 4797.3003\n",
      "Epoch 32/100\n",
      "1/1 [==============================] - 0s 12ms/step - loss: 4750.4595\n",
      "Epoch 33/100\n",
      "1/1 [==============================] - 0s 11ms/step - loss: 4699.3862\n",
      "Epoch 34/100\n",
      "1/1 [==============================] - 0s 13ms/step - loss: 4643.6812\n",
      "Epoch 35/100\n",
      "1/1 [==============================] - 0s 13ms/step - loss: 4582.2534\n",
      "Epoch 36/100\n",
      "1/1 [==============================] - 0s 11ms/step - loss: 4517.6528\n",
      "Epoch 37/100\n",
      "1/1 [==============================] - 0s 13ms/step - loss: 4449.1841\n",
      "Epoch 38/100\n",
      "1/1 [==============================] - 0s 14ms/step - loss: 4375.9253\n",
      "Epoch 39/100\n",
      "1/1 [==============================] - 0s 14ms/step - loss: 4296.5747\n",
      "Epoch 40/100\n",
      "1/1 [==============================] - 0s 13ms/step - loss: 4208.9951\n",
      "Epoch 41/100\n",
      "1/1 [==============================] - 0s 15ms/step - loss: 4109.8745\n",
      "Epoch 42/100\n",
      "1/1 [==============================] - 0s 14ms/step - loss: 3994.2590\n",
      "Epoch 43/100\n",
      "1/1 [==============================] - 0s 14ms/step - loss: 3854.8079\n",
      "Epoch 44/100\n",
      "1/1 [==============================] - 0s 13ms/step - loss: 3681.0469\n",
      "Epoch 45/100\n",
      "1/1 [==============================] - 0s 13ms/step - loss: 3461.9587\n",
      "Epoch 46/100\n",
      "1/1 [==============================] - 0s 12ms/step - loss: 3189.4641\n",
      "Epoch 47/100\n",
      "1/1 [==============================] - 0s 12ms/step - loss: 2859.1758\n",
      "Epoch 48/100\n",
      "1/1 [==============================] - 0s 14ms/step - loss: 2465.5195\n",
      "Epoch 49/100\n",
      "1/1 [==============================] - 0s 14ms/step - loss: 2009.1649\n",
      "Epoch 50/100\n",
      "1/1 [==============================] - 0s 12ms/step - loss: 1528.5366\n",
      "Epoch 51/100\n",
      "1/1 [==============================] - 0s 16ms/step - loss: 1074.8813\n",
      "Epoch 52/100\n",
      "1/1 [==============================] - 0s 21ms/step - loss: 659.2854\n",
      "Epoch 53/100\n",
      "1/1 [==============================] - 0s 16ms/step - loss: 325.2432\n",
      "Epoch 54/100\n",
      "1/1 [==============================] - 0s 14ms/step - loss: 125.8763\n",
      "Epoch 55/100\n",
      "1/1 [==============================] - 0s 11ms/step - loss: 28.0668\n",
      "Epoch 56/100\n",
      "1/1 [==============================] - 0s 11ms/step - loss: 8.0887\n",
      "Epoch 57/100\n",
      "1/1 [==============================] - 0s 10ms/step - loss: 80.1054\n",
      "Epoch 58/100\n",
      "1/1 [==============================] - 0s 12ms/step - loss: 190.6503\n",
      "Epoch 59/100\n",
      "1/1 [==============================] - 0s 11ms/step - loss: 269.9478\n",
      "Epoch 60/100\n",
      "1/1 [==============================] - 0s 12ms/step - loss: 300.3422\n",
      "Epoch 61/100\n",
      "1/1 [==============================] - 0s 12ms/step - loss: 290.6774\n",
      "Epoch 62/100\n",
      "1/1 [==============================] - 0s 10ms/step - loss: 254.5776\n",
      "Epoch 63/100\n",
      "1/1 [==============================] - 0s 11ms/step - loss: 203.6569\n",
      "Epoch 64/100\n",
      "1/1 [==============================] - 0s 11ms/step - loss: 147.4445\n",
      "Epoch 65/100\n",
      "1/1 [==============================] - 0s 11ms/step - loss: 94.6670\n",
      "Epoch 66/100\n",
      "1/1 [==============================] - 0s 10ms/step - loss: 52.5051\n",
      "Epoch 67/100\n",
      "1/1 [==============================] - 0s 12ms/step - loss: 24.1572\n",
      "Epoch 68/100\n",
      "1/1 [==============================] - 0s 13ms/step - loss: 8.7873\n",
      "Epoch 69/100\n",
      "1/1 [==============================] - 0s 11ms/step - loss: 3.8300\n",
      "Epoch 70/100\n",
      "1/1 [==============================] - 0s 10ms/step - loss: 6.4120\n",
      "Epoch 71/100\n",
      "1/1 [==============================] - 0s 11ms/step - loss: 13.5251\n",
      "Epoch 72/100\n",
      "1/1 [==============================] - 0s 11ms/step - loss: 22.0394\n",
      "Epoch 73/100\n",
      "1/1 [==============================] - 0s 12ms/step - loss: 29.8542\n",
      "Epoch 74/100\n",
      "1/1 [==============================] - 0s 10ms/step - loss: 36.0466\n",
      "Epoch 75/100\n",
      "1/1 [==============================] - 0s 10ms/step - loss: 40.2984\n",
      "Epoch 76/100\n",
      "1/1 [==============================] - 0s 12ms/step - loss: 42.5605\n",
      "Epoch 77/100\n",
      "1/1 [==============================] - 0s 16ms/step - loss: 42.9139\n",
      "Epoch 78/100\n",
      "1/1 [==============================] - 0s 12ms/step - loss: 41.5278\n",
      "Epoch 79/100\n",
      "1/1 [==============================] - 0s 10ms/step - loss: 38.6509\n",
      "Epoch 80/100\n",
      "1/1 [==============================] - 0s 12ms/step - loss: 34.6045\n",
      "Epoch 81/100\n",
      "1/1 [==============================] - 0s 12ms/step - loss: 29.7650\n",
      "Epoch 82/100\n",
      "1/1 [==============================] - 0s 12ms/step - loss: 24.5376\n",
      "Epoch 83/100\n",
      "1/1 [==============================] - 0s 12ms/step - loss: 19.3273\n",
      "Epoch 84/100\n",
      "1/1 [==============================] - 0s 12ms/step - loss: 14.5085\n",
      "Epoch 85/100\n",
      "1/1 [==============================] - 0s 11ms/step - loss: 10.3968\n",
      "Epoch 86/100\n",
      "1/1 [==============================] - 0s 11ms/step - loss: 7.2219\n",
      "Epoch 87/100\n",
      "1/1 [==============================] - 0s 12ms/step - loss: 5.1074\n",
      "Epoch 88/100\n",
      "1/1 [==============================] - 0s 11ms/step - loss: 4.0584\n",
      "Epoch 89/100\n",
      "1/1 [==============================] - 0s 12ms/step - loss: 3.9641\n",
      "Epoch 90/100\n",
      "1/1 [==============================] - 0s 10ms/step - loss: 4.6160\n",
      "Epoch 91/100\n",
      "1/1 [==============================] - 0s 11ms/step - loss: 5.7409\n",
      "Epoch 92/100\n",
      "1/1 [==============================] - 0s 11ms/step - loss: 7.0440\n",
      "Epoch 93/100\n",
      "1/1 [==============================] - 0s 11ms/step - loss: 8.2535\n",
      "Epoch 94/100\n",
      "1/1 [==============================] - 0s 12ms/step - loss: 9.1574\n",
      "Epoch 95/100\n",
      "1/1 [==============================] - 0s 17ms/step - loss: 9.6275\n",
      "Epoch 96/100\n",
      "1/1 [==============================] - 0s 13ms/step - loss: 9.6256\n",
      "Epoch 97/100\n",
      "1/1 [==============================] - 0s 25ms/step - loss: 9.1947\n",
      "Epoch 98/100\n",
      "1/1 [==============================] - 0s 13ms/step - loss: 8.4378\n",
      "Epoch 99/100\n",
      "1/1 [==============================] - 0s 10ms/step - loss: 7.4908\n",
      "Epoch 100/100\n",
      "1/1 [==============================] - 0s 11ms/step - loss: 6.4952\n",
      "1/1 [==============================] - 0s 145ms/step\n",
      "1/1 [==============================] - 0s 139ms/step\n",
      "1/1 [==============================] - 0s 17ms/step\n",
      "1/1 [==============================] - 0s 16ms/step\n",
      "1/1 [==============================] - 0s 15ms/step\n",
      "1/1 [==============================] - 0s 15ms/step\n"
     ]
    },
    {
     "data": {
      "application/vnd.plotly.v1+json": {
       "config": {
        "plotlyServerURL": "https://plot.ly"
       },
       "data": [
        {
         "mode": "lines",
         "name": "Training Data",
         "type": "scatter",
         "x": [
          "2022-04-06",
          "2022-04-07",
          "2022-04-08",
          "2022-04-11",
          "2022-04-12",
          "2022-04-13",
          "2022-04-14",
          "2022-04-18",
          "2022-04-19",
          "2022-04-20",
          "2022-04-21",
          "2022-04-22",
          "2022-04-25",
          "2022-04-26",
          "2022-04-27",
          "2022-04-28",
          "2022-04-29",
          "2022-05-02",
          "2022-05-03",
          "2022-05-04",
          "2022-05-05",
          "2022-05-06",
          "2022-05-09",
          "2022-05-10",
          "2022-05-11",
          "2022-05-12",
          "2022-05-13",
          "2022-05-16",
          "2022-05-17",
          "2022-05-18",
          "2022-05-19",
          "2022-05-20",
          "2022-05-23",
          "2022-05-24",
          "2022-05-25",
          "2022-05-26",
          "2022-05-27",
          "2022-05-31",
          "2022-06-01",
          "2022-06-02",
          "2022-06-03",
          "2022-06-06",
          "2022-06-07",
          "2022-06-08",
          "2022-06-09",
          "2022-06-10",
          "2022-06-13",
          "2022-06-14",
          "2022-06-15",
          "2022-06-16",
          "2022-06-17",
          "2022-06-21",
          "2022-06-22",
          "2022-06-23",
          "2022-06-24",
          "2022-06-27",
          "2022-06-28",
          "2022-06-29",
          "2022-06-30",
          "2022-07-01",
          "2022-07-05",
          "2022-07-06",
          "2022-07-07",
          "2022-07-08",
          "2022-07-11",
          "2022-07-12",
          "2022-07-13",
          "2022-07-14",
          "2022-07-15",
          "2022-07-18",
          "2022-07-19",
          "2022-07-20",
          "2022-07-21",
          "2022-07-22",
          "2022-07-25",
          "2022-07-26",
          "2022-07-27",
          "2022-07-28",
          "2022-07-29",
          "2022-08-01",
          "2022-08-02",
          "2022-08-03",
          "2022-08-04",
          "2022-08-05",
          "2022-08-08",
          "2022-08-09",
          "2022-08-10",
          "2022-08-11",
          "2022-08-12",
          "2022-08-15",
          "2022-08-16",
          "2022-08-17",
          "2022-08-18",
          "2022-08-19",
          "2022-08-22",
          "2022-08-23",
          "2022-08-24",
          "2022-08-25",
          "2022-08-26",
          "2022-08-29",
          "2022-08-30"
         ],
         "y": [
          82.120003,
          81.540001,
          80.940002,
          79.760002,
          79.330002,
          79.75,
          79.449997,
          78.220001,
          79.559998,
          80.290001,
          79.480003,
          76.209999,
          76.980003,
          74.510002,
          74.760002,
          76.139999,
          73.400002,
          74,
          73.290001,
          75.209999,
          72.800003,
          72.489998,
          71.540001,
          72.529999,
          71.029999,
          70.730003,
          71.169998,
          69.709999,
          71.879997,
          68.300003,
          67.040001,
          68.629997,
          70.040001,
          69.029999,
          69.830002,
          71.660004,
          72.779999,
          71.919998,
          71.599998,
          73.139999,
          71.790001,
          72.970001,
          72.690002,
          71.379997,
          69.220001,
          67.139999,
          64.050003,
          70.720001,
          69.699997,
          68.709999,
          67.720001,
          67.68,
          66.529999,
          67.629997,
          70.699997,
          70.410004,
          68.580002,
          69.209999,
          69.870003,
          70.870003,
          71.989998,
          71.660004,
          71.830002,
          71.870003,
          71.57,
          70.410004,
          70.029999,
          69.449997,
          70.739998,
          70.209999,
          72.239998,
          72.589996,
          74.540001,
          74.900002,
          74.860001,
          74.029999,
          75.870003,
          77.040001,
          77.839996,
          77.440002,
          76.349998,
          77.370003,
          77.400002,
          77.349998,
          76.470001,
          76.769997,
          77.540001,
          77.160004,
          79.150002,
          79.110001,
          79.519997,
          79.25,
          79.32,
          78.660004,
          76.459999,
          76.410004,
          76.169998,
          76.889999,
          74.650002,
          74.190002,
          74.139999
         ]
        },
        {
         "mode": "lines",
         "name": "Testing Training Data",
         "type": "scatter",
         "x": [
          "2022-08-31",
          "2022-09-01",
          "2022-09-02",
          "2022-09-06",
          "2022-09-07",
          "2022-09-08",
          "2022-09-09",
          "2022-09-12",
          "2022-09-13",
          "2022-09-14",
          "2022-09-15",
          "2022-09-16",
          "2022-09-19",
          "2022-09-20",
          "2022-09-21",
          "2022-09-22",
          "2022-09-23",
          "2022-09-26",
          "2022-09-27",
          "2022-09-28",
          "2022-09-29",
          "2022-09-30",
          "2022-10-03",
          "2022-10-04",
          "2022-10-05",
          "2022-10-06"
         ],
         "y": [
          75.62305450439453,
          75.97645568847656,
          75.74676513671875,
          75.97676849365234,
          76.11219024658203,
          75.56948852539062,
          75.782958984375,
          75.48262023925781,
          73.78254699707031,
          71.39387512207031,
          69.81082153320312,
          69.05318450927734,
          68.44830322265625,
          67.27641296386719,
          66.18463134765625,
          65.5212631225586,
          64.28131103515625,
          63.33660125732422,
          63.54710388183594,
          64.09589385986328,
          63.87077713012695
         ]
        },
        {
         "mode": "lines",
         "name": "Ground Truth",
         "type": "scatter",
         "x": [
          "2022-08-31",
          "2022-09-01",
          "2022-09-02",
          "2022-09-06",
          "2022-09-07",
          "2022-09-08",
          "2022-09-09",
          "2022-09-12",
          "2022-09-13",
          "2022-09-14",
          "2022-09-15",
          "2022-09-16",
          "2022-09-19",
          "2022-09-20",
          "2022-09-21",
          "2022-09-22",
          "2022-09-23",
          "2022-09-26",
          "2022-09-27",
          "2022-09-28",
          "2022-09-29",
          "2022-09-30",
          "2022-10-03",
          "2022-10-04",
          "2022-10-05",
          "2022-10-06"
         ],
         "y": [
          74.150002,
          75.300003,
          74.68,
          73.830002,
          74.489998,
          74.650002,
          75.910004,
          77.080002,
          76.040001,
          72.120003,
          70.239998,
          68.830002,
          69.07,
          68.110001,
          66.75,
          66.029999,
          64.550003,
          63.450001,
          62.419998,
          63.07,
          61.400002,
          61.07,
          63.080002,
          65.690002,
          66.639999,
          65.300003
         ]
        }
       ],
       "layout": {
        "font": {
         "size": 20
        },
        "template": {
         "data": {
          "bar": [
           {
            "error_x": {
             "color": "#2a3f5f"
            },
            "error_y": {
             "color": "#2a3f5f"
            },
            "marker": {
             "line": {
              "color": "#E5ECF6",
              "width": 0.5
             },
             "pattern": {
              "fillmode": "overlay",
              "size": 10,
              "solidity": 0.2
             }
            },
            "type": "bar"
           }
          ],
          "barpolar": [
           {
            "marker": {
             "line": {
              "color": "#E5ECF6",
              "width": 0.5
             },
             "pattern": {
              "fillmode": "overlay",
              "size": 10,
              "solidity": 0.2
             }
            },
            "type": "barpolar"
           }
          ],
          "carpet": [
           {
            "aaxis": {
             "endlinecolor": "#2a3f5f",
             "gridcolor": "white",
             "linecolor": "white",
             "minorgridcolor": "white",
             "startlinecolor": "#2a3f5f"
            },
            "baxis": {
             "endlinecolor": "#2a3f5f",
             "gridcolor": "white",
             "linecolor": "white",
             "minorgridcolor": "white",
             "startlinecolor": "#2a3f5f"
            },
            "type": "carpet"
           }
          ],
          "choropleth": [
           {
            "colorbar": {
             "outlinewidth": 0,
             "ticks": ""
            },
            "type": "choropleth"
           }
          ],
          "contour": [
           {
            "colorbar": {
             "outlinewidth": 0,
             "ticks": ""
            },
            "colorscale": [
             [
              0,
              "#0d0887"
             ],
             [
              0.1111111111111111,
              "#46039f"
             ],
             [
              0.2222222222222222,
              "#7201a8"
             ],
             [
              0.3333333333333333,
              "#9c179e"
             ],
             [
              0.4444444444444444,
              "#bd3786"
             ],
             [
              0.5555555555555556,
              "#d8576b"
             ],
             [
              0.6666666666666666,
              "#ed7953"
             ],
             [
              0.7777777777777778,
              "#fb9f3a"
             ],
             [
              0.8888888888888888,
              "#fdca26"
             ],
             [
              1,
              "#f0f921"
             ]
            ],
            "type": "contour"
           }
          ],
          "contourcarpet": [
           {
            "colorbar": {
             "outlinewidth": 0,
             "ticks": ""
            },
            "type": "contourcarpet"
           }
          ],
          "heatmap": [
           {
            "colorbar": {
             "outlinewidth": 0,
             "ticks": ""
            },
            "colorscale": [
             [
              0,
              "#0d0887"
             ],
             [
              0.1111111111111111,
              "#46039f"
             ],
             [
              0.2222222222222222,
              "#7201a8"
             ],
             [
              0.3333333333333333,
              "#9c179e"
             ],
             [
              0.4444444444444444,
              "#bd3786"
             ],
             [
              0.5555555555555556,
              "#d8576b"
             ],
             [
              0.6666666666666666,
              "#ed7953"
             ],
             [
              0.7777777777777778,
              "#fb9f3a"
             ],
             [
              0.8888888888888888,
              "#fdca26"
             ],
             [
              1,
              "#f0f921"
             ]
            ],
            "type": "heatmap"
           }
          ],
          "heatmapgl": [
           {
            "colorbar": {
             "outlinewidth": 0,
             "ticks": ""
            },
            "colorscale": [
             [
              0,
              "#0d0887"
             ],
             [
              0.1111111111111111,
              "#46039f"
             ],
             [
              0.2222222222222222,
              "#7201a8"
             ],
             [
              0.3333333333333333,
              "#9c179e"
             ],
             [
              0.4444444444444444,
              "#bd3786"
             ],
             [
              0.5555555555555556,
              "#d8576b"
             ],
             [
              0.6666666666666666,
              "#ed7953"
             ],
             [
              0.7777777777777778,
              "#fb9f3a"
             ],
             [
              0.8888888888888888,
              "#fdca26"
             ],
             [
              1,
              "#f0f921"
             ]
            ],
            "type": "heatmapgl"
           }
          ],
          "histogram": [
           {
            "marker": {
             "pattern": {
              "fillmode": "overlay",
              "size": 10,
              "solidity": 0.2
             }
            },
            "type": "histogram"
           }
          ],
          "histogram2d": [
           {
            "colorbar": {
             "outlinewidth": 0,
             "ticks": ""
            },
            "colorscale": [
             [
              0,
              "#0d0887"
             ],
             [
              0.1111111111111111,
              "#46039f"
             ],
             [
              0.2222222222222222,
              "#7201a8"
             ],
             [
              0.3333333333333333,
              "#9c179e"
             ],
             [
              0.4444444444444444,
              "#bd3786"
             ],
             [
              0.5555555555555556,
              "#d8576b"
             ],
             [
              0.6666666666666666,
              "#ed7953"
             ],
             [
              0.7777777777777778,
              "#fb9f3a"
             ],
             [
              0.8888888888888888,
              "#fdca26"
             ],
             [
              1,
              "#f0f921"
             ]
            ],
            "type": "histogram2d"
           }
          ],
          "histogram2dcontour": [
           {
            "colorbar": {
             "outlinewidth": 0,
             "ticks": ""
            },
            "colorscale": [
             [
              0,
              "#0d0887"
             ],
             [
              0.1111111111111111,
              "#46039f"
             ],
             [
              0.2222222222222222,
              "#7201a8"
             ],
             [
              0.3333333333333333,
              "#9c179e"
             ],
             [
              0.4444444444444444,
              "#bd3786"
             ],
             [
              0.5555555555555556,
              "#d8576b"
             ],
             [
              0.6666666666666666,
              "#ed7953"
             ],
             [
              0.7777777777777778,
              "#fb9f3a"
             ],
             [
              0.8888888888888888,
              "#fdca26"
             ],
             [
              1,
              "#f0f921"
             ]
            ],
            "type": "histogram2dcontour"
           }
          ],
          "mesh3d": [
           {
            "colorbar": {
             "outlinewidth": 0,
             "ticks": ""
            },
            "type": "mesh3d"
           }
          ],
          "parcoords": [
           {
            "line": {
             "colorbar": {
              "outlinewidth": 0,
              "ticks": ""
             }
            },
            "type": "parcoords"
           }
          ],
          "pie": [
           {
            "automargin": true,
            "type": "pie"
           }
          ],
          "scatter": [
           {
            "fillpattern": {
             "fillmode": "overlay",
             "size": 10,
             "solidity": 0.2
            },
            "type": "scatter"
           }
          ],
          "scatter3d": [
           {
            "line": {
             "colorbar": {
              "outlinewidth": 0,
              "ticks": ""
             }
            },
            "marker": {
             "colorbar": {
              "outlinewidth": 0,
              "ticks": ""
             }
            },
            "type": "scatter3d"
           }
          ],
          "scattercarpet": [
           {
            "marker": {
             "colorbar": {
              "outlinewidth": 0,
              "ticks": ""
             }
            },
            "type": "scattercarpet"
           }
          ],
          "scattergeo": [
           {
            "marker": {
             "colorbar": {
              "outlinewidth": 0,
              "ticks": ""
             }
            },
            "type": "scattergeo"
           }
          ],
          "scattergl": [
           {
            "marker": {
             "colorbar": {
              "outlinewidth": 0,
              "ticks": ""
             }
            },
            "type": "scattergl"
           }
          ],
          "scattermapbox": [
           {
            "marker": {
             "colorbar": {
              "outlinewidth": 0,
              "ticks": ""
             }
            },
            "type": "scattermapbox"
           }
          ],
          "scatterpolar": [
           {
            "marker": {
             "colorbar": {
              "outlinewidth": 0,
              "ticks": ""
             }
            },
            "type": "scatterpolar"
           }
          ],
          "scatterpolargl": [
           {
            "marker": {
             "colorbar": {
              "outlinewidth": 0,
              "ticks": ""
             }
            },
            "type": "scatterpolargl"
           }
          ],
          "scatterternary": [
           {
            "marker": {
             "colorbar": {
              "outlinewidth": 0,
              "ticks": ""
             }
            },
            "type": "scatterternary"
           }
          ],
          "surface": [
           {
            "colorbar": {
             "outlinewidth": 0,
             "ticks": ""
            },
            "colorscale": [
             [
              0,
              "#0d0887"
             ],
             [
              0.1111111111111111,
              "#46039f"
             ],
             [
              0.2222222222222222,
              "#7201a8"
             ],
             [
              0.3333333333333333,
              "#9c179e"
             ],
             [
              0.4444444444444444,
              "#bd3786"
             ],
             [
              0.5555555555555556,
              "#d8576b"
             ],
             [
              0.6666666666666666,
              "#ed7953"
             ],
             [
              0.7777777777777778,
              "#fb9f3a"
             ],
             [
              0.8888888888888888,
              "#fdca26"
             ],
             [
              1,
              "#f0f921"
             ]
            ],
            "type": "surface"
           }
          ],
          "table": [
           {
            "cells": {
             "fill": {
              "color": "#EBF0F8"
             },
             "line": {
              "color": "white"
             }
            },
            "header": {
             "fill": {
              "color": "#C8D4E3"
             },
             "line": {
              "color": "white"
             }
            },
            "type": "table"
           }
          ]
         },
         "layout": {
          "annotationdefaults": {
           "arrowcolor": "#2a3f5f",
           "arrowhead": 0,
           "arrowwidth": 1
          },
          "autotypenumbers": "strict",
          "coloraxis": {
           "colorbar": {
            "outlinewidth": 0,
            "ticks": ""
           }
          },
          "colorscale": {
           "diverging": [
            [
             0,
             "#8e0152"
            ],
            [
             0.1,
             "#c51b7d"
            ],
            [
             0.2,
             "#de77ae"
            ],
            [
             0.3,
             "#f1b6da"
            ],
            [
             0.4,
             "#fde0ef"
            ],
            [
             0.5,
             "#f7f7f7"
            ],
            [
             0.6,
             "#e6f5d0"
            ],
            [
             0.7,
             "#b8e186"
            ],
            [
             0.8,
             "#7fbc41"
            ],
            [
             0.9,
             "#4d9221"
            ],
            [
             1,
             "#276419"
            ]
           ],
           "sequential": [
            [
             0,
             "#0d0887"
            ],
            [
             0.1111111111111111,
             "#46039f"
            ],
            [
             0.2222222222222222,
             "#7201a8"
            ],
            [
             0.3333333333333333,
             "#9c179e"
            ],
            [
             0.4444444444444444,
             "#bd3786"
            ],
            [
             0.5555555555555556,
             "#d8576b"
            ],
            [
             0.6666666666666666,
             "#ed7953"
            ],
            [
             0.7777777777777778,
             "#fb9f3a"
            ],
            [
             0.8888888888888888,
             "#fdca26"
            ],
            [
             1,
             "#f0f921"
            ]
           ],
           "sequentialminus": [
            [
             0,
             "#0d0887"
            ],
            [
             0.1111111111111111,
             "#46039f"
            ],
            [
             0.2222222222222222,
             "#7201a8"
            ],
            [
             0.3333333333333333,
             "#9c179e"
            ],
            [
             0.4444444444444444,
             "#bd3786"
            ],
            [
             0.5555555555555556,
             "#d8576b"
            ],
            [
             0.6666666666666666,
             "#ed7953"
            ],
            [
             0.7777777777777778,
             "#fb9f3a"
            ],
            [
             0.8888888888888888,
             "#fdca26"
            ],
            [
             1,
             "#f0f921"
            ]
           ]
          },
          "colorway": [
           "#636efa",
           "#EF553B",
           "#00cc96",
           "#ab63fa",
           "#FFA15A",
           "#19d3f3",
           "#FF6692",
           "#B6E880",
           "#FF97FF",
           "#FECB52"
          ],
          "font": {
           "color": "#2a3f5f"
          },
          "geo": {
           "bgcolor": "white",
           "lakecolor": "white",
           "landcolor": "#E5ECF6",
           "showlakes": true,
           "showland": true,
           "subunitcolor": "white"
          },
          "hoverlabel": {
           "align": "left"
          },
          "hovermode": "closest",
          "mapbox": {
           "style": "light"
          },
          "paper_bgcolor": "white",
          "plot_bgcolor": "#E5ECF6",
          "polar": {
           "angularaxis": {
            "gridcolor": "white",
            "linecolor": "white",
            "ticks": ""
           },
           "bgcolor": "#E5ECF6",
           "radialaxis": {
            "gridcolor": "white",
            "linecolor": "white",
            "ticks": ""
           }
          },
          "scene": {
           "xaxis": {
            "backgroundcolor": "#E5ECF6",
            "gridcolor": "white",
            "gridwidth": 2,
            "linecolor": "white",
            "showbackground": true,
            "ticks": "",
            "zerolinecolor": "white"
           },
           "yaxis": {
            "backgroundcolor": "#E5ECF6",
            "gridcolor": "white",
            "gridwidth": 2,
            "linecolor": "white",
            "showbackground": true,
            "ticks": "",
            "zerolinecolor": "white"
           },
           "zaxis": {
            "backgroundcolor": "#E5ECF6",
            "gridcolor": "white",
            "gridwidth": 2,
            "linecolor": "white",
            "showbackground": true,
            "ticks": "",
            "zerolinecolor": "white"
           }
          },
          "shapedefaults": {
           "line": {
            "color": "#2a3f5f"
           }
          },
          "ternary": {
           "aaxis": {
            "gridcolor": "white",
            "linecolor": "white",
            "ticks": ""
           },
           "baxis": {
            "gridcolor": "white",
            "linecolor": "white",
            "ticks": ""
           },
           "bgcolor": "#E5ECF6",
           "caxis": {
            "gridcolor": "white",
            "linecolor": "white",
            "ticks": ""
           }
          },
          "title": {
           "x": 0.05
          },
          "xaxis": {
           "automargin": true,
           "gridcolor": "white",
           "linecolor": "white",
           "ticks": "",
           "title": {
            "standoff": 15
           },
           "zerolinecolor": "white",
           "zerolinewidth": 2
          },
          "yaxis": {
           "automargin": true,
           "gridcolor": "white",
           "linecolor": "white",
           "ticks": "",
           "title": {
            "standoff": 15
           },
           "zerolinecolor": "white",
           "zerolinewidth": 2
          }
         }
        },
        "title": {
         "text": "ORCL Stock"
        },
        "xaxis": {
         "title": {
          "text": "Date"
         }
        },
        "yaxis": {
         "title": {
          "text": "Close"
         }
        }
       }
      }
     },
     "metadata": {},
     "output_type": "display_data"
    },
    {
     "data": {
      "application/vnd.plotly.v1+json": {
       "config": {
        "plotlyServerURL": "https://plot.ly"
       },
       "data": [
        {
         "mode": "lines",
         "name": "Future Predictions",
         "type": "scatter",
         "x": [
          "2022-10-06T00:00:00",
          "2022-10-07T00:00:00",
          "2022-10-08T00:00:00",
          "2022-10-09T00:00:00",
          "2022-10-10T00:00:00",
          "2022-10-11T00:00:00"
         ],
         "y": [
          65.300003,
          64.1166763305664,
          65.22301483154297,
          66.6704330444336,
          67.06372833251953,
          66.42146301269531
         ]
        },
        {
         "mode": "lines",
         "name": "5-Day Data",
         "type": "scatter",
         "x": [
          "2022-10-06T00:00:00",
          "2022-10-07T00:00:00",
          "2022-10-08T00:00:00",
          "2022-10-09T00:00:00",
          "2022-10-10T00:00:00",
          "2022-10-11T00:00:00"
         ],
         "y": [
          65.300003,
          63.290001,
          63.05,
          62.81,
          62.57,
          62.41
         ]
        },
        {
         "mode": "lines",
         "name": "Ground Truth",
         "type": "scatter",
         "x": [
          "2022-08-31",
          "2022-09-01",
          "2022-09-02",
          "2022-09-06",
          "2022-09-07",
          "2022-09-08",
          "2022-09-09",
          "2022-09-12",
          "2022-09-13",
          "2022-09-14",
          "2022-09-15",
          "2022-09-16",
          "2022-09-19",
          "2022-09-20",
          "2022-09-21",
          "2022-09-22",
          "2022-09-23",
          "2022-09-26",
          "2022-09-27",
          "2022-09-28",
          "2022-09-29",
          "2022-09-30",
          "2022-10-03",
          "2022-10-04",
          "2022-10-05",
          "2022-10-06"
         ],
         "y": [
          74.150002,
          75.300003,
          74.68,
          73.830002,
          74.489998,
          74.650002,
          75.910004,
          77.080002,
          76.040001,
          72.120003,
          70.239998,
          68.830002,
          69.07,
          68.110001,
          66.75,
          66.029999,
          64.550003,
          63.450001,
          62.419998,
          63.07,
          61.400002,
          61.07,
          63.080002,
          65.690002,
          66.639999,
          65.300003
         ]
        }
       ],
       "layout": {
        "font": {
         "size": 20
        },
        "template": {
         "data": {
          "bar": [
           {
            "error_x": {
             "color": "#2a3f5f"
            },
            "error_y": {
             "color": "#2a3f5f"
            },
            "marker": {
             "line": {
              "color": "#E5ECF6",
              "width": 0.5
             },
             "pattern": {
              "fillmode": "overlay",
              "size": 10,
              "solidity": 0.2
             }
            },
            "type": "bar"
           }
          ],
          "barpolar": [
           {
            "marker": {
             "line": {
              "color": "#E5ECF6",
              "width": 0.5
             },
             "pattern": {
              "fillmode": "overlay",
              "size": 10,
              "solidity": 0.2
             }
            },
            "type": "barpolar"
           }
          ],
          "carpet": [
           {
            "aaxis": {
             "endlinecolor": "#2a3f5f",
             "gridcolor": "white",
             "linecolor": "white",
             "minorgridcolor": "white",
             "startlinecolor": "#2a3f5f"
            },
            "baxis": {
             "endlinecolor": "#2a3f5f",
             "gridcolor": "white",
             "linecolor": "white",
             "minorgridcolor": "white",
             "startlinecolor": "#2a3f5f"
            },
            "type": "carpet"
           }
          ],
          "choropleth": [
           {
            "colorbar": {
             "outlinewidth": 0,
             "ticks": ""
            },
            "type": "choropleth"
           }
          ],
          "contour": [
           {
            "colorbar": {
             "outlinewidth": 0,
             "ticks": ""
            },
            "colorscale": [
             [
              0,
              "#0d0887"
             ],
             [
              0.1111111111111111,
              "#46039f"
             ],
             [
              0.2222222222222222,
              "#7201a8"
             ],
             [
              0.3333333333333333,
              "#9c179e"
             ],
             [
              0.4444444444444444,
              "#bd3786"
             ],
             [
              0.5555555555555556,
              "#d8576b"
             ],
             [
              0.6666666666666666,
              "#ed7953"
             ],
             [
              0.7777777777777778,
              "#fb9f3a"
             ],
             [
              0.8888888888888888,
              "#fdca26"
             ],
             [
              1,
              "#f0f921"
             ]
            ],
            "type": "contour"
           }
          ],
          "contourcarpet": [
           {
            "colorbar": {
             "outlinewidth": 0,
             "ticks": ""
            },
            "type": "contourcarpet"
           }
          ],
          "heatmap": [
           {
            "colorbar": {
             "outlinewidth": 0,
             "ticks": ""
            },
            "colorscale": [
             [
              0,
              "#0d0887"
             ],
             [
              0.1111111111111111,
              "#46039f"
             ],
             [
              0.2222222222222222,
              "#7201a8"
             ],
             [
              0.3333333333333333,
              "#9c179e"
             ],
             [
              0.4444444444444444,
              "#bd3786"
             ],
             [
              0.5555555555555556,
              "#d8576b"
             ],
             [
              0.6666666666666666,
              "#ed7953"
             ],
             [
              0.7777777777777778,
              "#fb9f3a"
             ],
             [
              0.8888888888888888,
              "#fdca26"
             ],
             [
              1,
              "#f0f921"
             ]
            ],
            "type": "heatmap"
           }
          ],
          "heatmapgl": [
           {
            "colorbar": {
             "outlinewidth": 0,
             "ticks": ""
            },
            "colorscale": [
             [
              0,
              "#0d0887"
             ],
             [
              0.1111111111111111,
              "#46039f"
             ],
             [
              0.2222222222222222,
              "#7201a8"
             ],
             [
              0.3333333333333333,
              "#9c179e"
             ],
             [
              0.4444444444444444,
              "#bd3786"
             ],
             [
              0.5555555555555556,
              "#d8576b"
             ],
             [
              0.6666666666666666,
              "#ed7953"
             ],
             [
              0.7777777777777778,
              "#fb9f3a"
             ],
             [
              0.8888888888888888,
              "#fdca26"
             ],
             [
              1,
              "#f0f921"
             ]
            ],
            "type": "heatmapgl"
           }
          ],
          "histogram": [
           {
            "marker": {
             "pattern": {
              "fillmode": "overlay",
              "size": 10,
              "solidity": 0.2
             }
            },
            "type": "histogram"
           }
          ],
          "histogram2d": [
           {
            "colorbar": {
             "outlinewidth": 0,
             "ticks": ""
            },
            "colorscale": [
             [
              0,
              "#0d0887"
             ],
             [
              0.1111111111111111,
              "#46039f"
             ],
             [
              0.2222222222222222,
              "#7201a8"
             ],
             [
              0.3333333333333333,
              "#9c179e"
             ],
             [
              0.4444444444444444,
              "#bd3786"
             ],
             [
              0.5555555555555556,
              "#d8576b"
             ],
             [
              0.6666666666666666,
              "#ed7953"
             ],
             [
              0.7777777777777778,
              "#fb9f3a"
             ],
             [
              0.8888888888888888,
              "#fdca26"
             ],
             [
              1,
              "#f0f921"
             ]
            ],
            "type": "histogram2d"
           }
          ],
          "histogram2dcontour": [
           {
            "colorbar": {
             "outlinewidth": 0,
             "ticks": ""
            },
            "colorscale": [
             [
              0,
              "#0d0887"
             ],
             [
              0.1111111111111111,
              "#46039f"
             ],
             [
              0.2222222222222222,
              "#7201a8"
             ],
             [
              0.3333333333333333,
              "#9c179e"
             ],
             [
              0.4444444444444444,
              "#bd3786"
             ],
             [
              0.5555555555555556,
              "#d8576b"
             ],
             [
              0.6666666666666666,
              "#ed7953"
             ],
             [
              0.7777777777777778,
              "#fb9f3a"
             ],
             [
              0.8888888888888888,
              "#fdca26"
             ],
             [
              1,
              "#f0f921"
             ]
            ],
            "type": "histogram2dcontour"
           }
          ],
          "mesh3d": [
           {
            "colorbar": {
             "outlinewidth": 0,
             "ticks": ""
            },
            "type": "mesh3d"
           }
          ],
          "parcoords": [
           {
            "line": {
             "colorbar": {
              "outlinewidth": 0,
              "ticks": ""
             }
            },
            "type": "parcoords"
           }
          ],
          "pie": [
           {
            "automargin": true,
            "type": "pie"
           }
          ],
          "scatter": [
           {
            "fillpattern": {
             "fillmode": "overlay",
             "size": 10,
             "solidity": 0.2
            },
            "type": "scatter"
           }
          ],
          "scatter3d": [
           {
            "line": {
             "colorbar": {
              "outlinewidth": 0,
              "ticks": ""
             }
            },
            "marker": {
             "colorbar": {
              "outlinewidth": 0,
              "ticks": ""
             }
            },
            "type": "scatter3d"
           }
          ],
          "scattercarpet": [
           {
            "marker": {
             "colorbar": {
              "outlinewidth": 0,
              "ticks": ""
             }
            },
            "type": "scattercarpet"
           }
          ],
          "scattergeo": [
           {
            "marker": {
             "colorbar": {
              "outlinewidth": 0,
              "ticks": ""
             }
            },
            "type": "scattergeo"
           }
          ],
          "scattergl": [
           {
            "marker": {
             "colorbar": {
              "outlinewidth": 0,
              "ticks": ""
             }
            },
            "type": "scattergl"
           }
          ],
          "scattermapbox": [
           {
            "marker": {
             "colorbar": {
              "outlinewidth": 0,
              "ticks": ""
             }
            },
            "type": "scattermapbox"
           }
          ],
          "scatterpolar": [
           {
            "marker": {
             "colorbar": {
              "outlinewidth": 0,
              "ticks": ""
             }
            },
            "type": "scatterpolar"
           }
          ],
          "scatterpolargl": [
           {
            "marker": {
             "colorbar": {
              "outlinewidth": 0,
              "ticks": ""
             }
            },
            "type": "scatterpolargl"
           }
          ],
          "scatterternary": [
           {
            "marker": {
             "colorbar": {
              "outlinewidth": 0,
              "ticks": ""
             }
            },
            "type": "scatterternary"
           }
          ],
          "surface": [
           {
            "colorbar": {
             "outlinewidth": 0,
             "ticks": ""
            },
            "colorscale": [
             [
              0,
              "#0d0887"
             ],
             [
              0.1111111111111111,
              "#46039f"
             ],
             [
              0.2222222222222222,
              "#7201a8"
             ],
             [
              0.3333333333333333,
              "#9c179e"
             ],
             [
              0.4444444444444444,
              "#bd3786"
             ],
             [
              0.5555555555555556,
              "#d8576b"
             ],
             [
              0.6666666666666666,
              "#ed7953"
             ],
             [
              0.7777777777777778,
              "#fb9f3a"
             ],
             [
              0.8888888888888888,
              "#fdca26"
             ],
             [
              1,
              "#f0f921"
             ]
            ],
            "type": "surface"
           }
          ],
          "table": [
           {
            "cells": {
             "fill": {
              "color": "#EBF0F8"
             },
             "line": {
              "color": "white"
             }
            },
            "header": {
             "fill": {
              "color": "#C8D4E3"
             },
             "line": {
              "color": "white"
             }
            },
            "type": "table"
           }
          ]
         },
         "layout": {
          "annotationdefaults": {
           "arrowcolor": "#2a3f5f",
           "arrowhead": 0,
           "arrowwidth": 1
          },
          "autotypenumbers": "strict",
          "coloraxis": {
           "colorbar": {
            "outlinewidth": 0,
            "ticks": ""
           }
          },
          "colorscale": {
           "diverging": [
            [
             0,
             "#8e0152"
            ],
            [
             0.1,
             "#c51b7d"
            ],
            [
             0.2,
             "#de77ae"
            ],
            [
             0.3,
             "#f1b6da"
            ],
            [
             0.4,
             "#fde0ef"
            ],
            [
             0.5,
             "#f7f7f7"
            ],
            [
             0.6,
             "#e6f5d0"
            ],
            [
             0.7,
             "#b8e186"
            ],
            [
             0.8,
             "#7fbc41"
            ],
            [
             0.9,
             "#4d9221"
            ],
            [
             1,
             "#276419"
            ]
           ],
           "sequential": [
            [
             0,
             "#0d0887"
            ],
            [
             0.1111111111111111,
             "#46039f"
            ],
            [
             0.2222222222222222,
             "#7201a8"
            ],
            [
             0.3333333333333333,
             "#9c179e"
            ],
            [
             0.4444444444444444,
             "#bd3786"
            ],
            [
             0.5555555555555556,
             "#d8576b"
            ],
            [
             0.6666666666666666,
             "#ed7953"
            ],
            [
             0.7777777777777778,
             "#fb9f3a"
            ],
            [
             0.8888888888888888,
             "#fdca26"
            ],
            [
             1,
             "#f0f921"
            ]
           ],
           "sequentialminus": [
            [
             0,
             "#0d0887"
            ],
            [
             0.1111111111111111,
             "#46039f"
            ],
            [
             0.2222222222222222,
             "#7201a8"
            ],
            [
             0.3333333333333333,
             "#9c179e"
            ],
            [
             0.4444444444444444,
             "#bd3786"
            ],
            [
             0.5555555555555556,
             "#d8576b"
            ],
            [
             0.6666666666666666,
             "#ed7953"
            ],
            [
             0.7777777777777778,
             "#fb9f3a"
            ],
            [
             0.8888888888888888,
             "#fdca26"
            ],
            [
             1,
             "#f0f921"
            ]
           ]
          },
          "colorway": [
           "#636efa",
           "#EF553B",
           "#00cc96",
           "#ab63fa",
           "#FFA15A",
           "#19d3f3",
           "#FF6692",
           "#B6E880",
           "#FF97FF",
           "#FECB52"
          ],
          "font": {
           "color": "#2a3f5f"
          },
          "geo": {
           "bgcolor": "white",
           "lakecolor": "white",
           "landcolor": "#E5ECF6",
           "showlakes": true,
           "showland": true,
           "subunitcolor": "white"
          },
          "hoverlabel": {
           "align": "left"
          },
          "hovermode": "closest",
          "mapbox": {
           "style": "light"
          },
          "paper_bgcolor": "white",
          "plot_bgcolor": "#E5ECF6",
          "polar": {
           "angularaxis": {
            "gridcolor": "white",
            "linecolor": "white",
            "ticks": ""
           },
           "bgcolor": "#E5ECF6",
           "radialaxis": {
            "gridcolor": "white",
            "linecolor": "white",
            "ticks": ""
           }
          },
          "scene": {
           "xaxis": {
            "backgroundcolor": "#E5ECF6",
            "gridcolor": "white",
            "gridwidth": 2,
            "linecolor": "white",
            "showbackground": true,
            "ticks": "",
            "zerolinecolor": "white"
           },
           "yaxis": {
            "backgroundcolor": "#E5ECF6",
            "gridcolor": "white",
            "gridwidth": 2,
            "linecolor": "white",
            "showbackground": true,
            "ticks": "",
            "zerolinecolor": "white"
           },
           "zaxis": {
            "backgroundcolor": "#E5ECF6",
            "gridcolor": "white",
            "gridwidth": 2,
            "linecolor": "white",
            "showbackground": true,
            "ticks": "",
            "zerolinecolor": "white"
           }
          },
          "shapedefaults": {
           "line": {
            "color": "#2a3f5f"
           }
          },
          "ternary": {
           "aaxis": {
            "gridcolor": "white",
            "linecolor": "white",
            "ticks": ""
           },
           "baxis": {
            "gridcolor": "white",
            "linecolor": "white",
            "ticks": ""
           },
           "bgcolor": "#E5ECF6",
           "caxis": {
            "gridcolor": "white",
            "linecolor": "white",
            "ticks": ""
           }
          },
          "title": {
           "x": 0.05
          },
          "xaxis": {
           "automargin": true,
           "gridcolor": "white",
           "linecolor": "white",
           "ticks": "",
           "title": {
            "standoff": 15
           },
           "zerolinecolor": "white",
           "zerolinewidth": 2
          },
          "yaxis": {
           "automargin": true,
           "gridcolor": "white",
           "linecolor": "white",
           "ticks": "",
           "title": {
            "standoff": 15
           },
           "zerolinecolor": "white",
           "zerolinewidth": 2
          }
         }
        },
        "title": {
         "text": "ORCL Stock"
        },
        "xaxis": {
         "title": {
          "text": "Date"
         }
        },
        "yaxis": {
         "title": {
          "text": "Close"
         }
        }
       }
      }
     },
     "metadata": {},
     "output_type": "display_data"
    }
   ],
   "source": [
    "pred(df_ORCL,df_ORCL_future,df_ORCL_comp)"
   ]
  },
  {
   "cell_type": "code",
   "execution_count": 32,
   "metadata": {
    "scrolled": false
   },
   "outputs": [
    {
     "name": "stdout",
     "output_type": "stream",
     "text": [
      "Epoch 1/100\n",
      "1/1 [==============================] - 1s 907ms/step - loss: 16005.6299\n",
      "Epoch 2/100\n",
      "1/1 [==============================] - 0s 19ms/step - loss: 15803.0625\n",
      "Epoch 3/100\n",
      "1/1 [==============================] - 0s 27ms/step - loss: 15608.0674\n",
      "Epoch 4/100\n",
      "1/1 [==============================] - 0s 18ms/step - loss: 15420.5117\n",
      "Epoch 5/100\n",
      "1/1 [==============================] - 0s 24ms/step - loss: 15240.7861\n",
      "Epoch 6/100\n",
      "1/1 [==============================] - 0s 19ms/step - loss: 15069.4521\n",
      "Epoch 7/100\n",
      "1/1 [==============================] - 0s 21ms/step - loss: 14906.2803\n",
      "Epoch 8/100\n",
      "1/1 [==============================] - 0s 20ms/step - loss: 14741.1377\n",
      "Epoch 9/100\n",
      "1/1 [==============================] - 0s 20ms/step - loss: 14589.0586\n",
      "Epoch 10/100\n",
      "1/1 [==============================] - 0s 20ms/step - loss: 14453.2002\n",
      "Epoch 11/100\n",
      "1/1 [==============================] - 0s 22ms/step - loss: 14325.1045\n",
      "Epoch 12/100\n",
      "1/1 [==============================] - 0s 18ms/step - loss: 14201.6670\n",
      "Epoch 13/100\n",
      "1/1 [==============================] - 0s 19ms/step - loss: 14085.4648\n",
      "Epoch 14/100\n",
      "1/1 [==============================] - 0s 20ms/step - loss: 13975.8721\n",
      "Epoch 15/100\n",
      "1/1 [==============================] - 0s 20ms/step - loss: 13871.2812\n",
      "Epoch 16/100\n",
      "1/1 [==============================] - 0s 15ms/step - loss: 13770.9111\n",
      "Epoch 17/100\n",
      "1/1 [==============================] - 0s 21ms/step - loss: 13674.0547\n",
      "Epoch 18/100\n",
      "1/1 [==============================] - 0s 14ms/step - loss: 13580.4141\n",
      "Epoch 19/100\n",
      "1/1 [==============================] - 0s 21ms/step - loss: 13489.8555\n",
      "Epoch 20/100\n",
      "1/1 [==============================] - 0s 20ms/step - loss: 13402.2783\n",
      "Epoch 21/100\n",
      "1/1 [==============================] - 0s 16ms/step - loss: 13317.5889\n",
      "Epoch 22/100\n",
      "1/1 [==============================] - 0s 15ms/step - loss: 13235.7139\n",
      "Epoch 23/100\n",
      "1/1 [==============================] - 0s 14ms/step - loss: 13156.6758\n",
      "Epoch 24/100\n",
      "1/1 [==============================] - 0s 16ms/step - loss: 13080.6328\n",
      "Epoch 25/100\n",
      "1/1 [==============================] - 0s 15ms/step - loss: 13007.4453\n",
      "Epoch 26/100\n",
      "1/1 [==============================] - 0s 25ms/step - loss: 12936.6484\n",
      "Epoch 27/100\n",
      "1/1 [==============================] - 0s 19ms/step - loss: 12867.9814\n",
      "Epoch 28/100\n",
      "1/1 [==============================] - 0s 15ms/step - loss: 12801.1162\n",
      "Epoch 29/100\n",
      "1/1 [==============================] - 0s 15ms/step - loss: 12734.1924\n",
      "Epoch 30/100\n",
      "1/1 [==============================] - 0s 15ms/step - loss: 12669.2500\n",
      "Epoch 31/100\n",
      "1/1 [==============================] - 0s 15ms/step - loss: 12606.1904\n",
      "Epoch 32/100\n",
      "1/1 [==============================] - 0s 15ms/step - loss: 12544.7119\n",
      "Epoch 33/100\n",
      "1/1 [==============================] - 0s 16ms/step - loss: 12484.6719\n",
      "Epoch 34/100\n",
      "1/1 [==============================] - 0s 16ms/step - loss: 12425.9248\n",
      "Epoch 35/100\n",
      "1/1 [==============================] - 0s 13ms/step - loss: 12368.3047\n",
      "Epoch 36/100\n",
      "1/1 [==============================] - 0s 16ms/step - loss: 12311.6367\n",
      "Epoch 37/100\n",
      "1/1 [==============================] - 0s 16ms/step - loss: 12255.7188\n",
      "Epoch 38/100\n",
      "1/1 [==============================] - 0s 14ms/step - loss: 12200.3281\n",
      "Epoch 39/100\n",
      "1/1 [==============================] - 0s 13ms/step - loss: 12145.1924\n",
      "Epoch 40/100\n",
      "1/1 [==============================] - 0s 13ms/step - loss: 12090.0000\n",
      "Epoch 41/100\n",
      "1/1 [==============================] - 0s 11ms/step - loss: 12034.3721\n",
      "Epoch 42/100\n",
      "1/1 [==============================] - 0s 13ms/step - loss: 11977.8486\n",
      "Epoch 43/100\n",
      "1/1 [==============================] - 0s 11ms/step - loss: 11919.8672\n",
      "Epoch 44/100\n",
      "1/1 [==============================] - 0s 12ms/step - loss: 11859.7344\n",
      "Epoch 45/100\n",
      "1/1 [==============================] - 0s 14ms/step - loss: 11796.6055\n",
      "Epoch 46/100\n",
      "1/1 [==============================] - 0s 12ms/step - loss: 11729.4424\n",
      "Epoch 47/100\n",
      "1/1 [==============================] - 0s 14ms/step - loss: 11657.0049\n",
      "Epoch 48/100\n",
      "1/1 [==============================] - 0s 11ms/step - loss: 11577.8408\n",
      "Epoch 49/100\n",
      "1/1 [==============================] - 0s 14ms/step - loss: 11490.4258\n",
      "Epoch 50/100\n",
      "1/1 [==============================] - 0s 13ms/step - loss: 11393.4844\n",
      "Epoch 51/100\n",
      "1/1 [==============================] - 0s 19ms/step - loss: 11285.0459\n",
      "Epoch 52/100\n",
      "1/1 [==============================] - 0s 18ms/step - loss: 11163.6689\n",
      "Epoch 53/100\n",
      "1/1 [==============================] - 0s 13ms/step - loss: 11029.8564\n",
      "Epoch 54/100\n",
      "1/1 [==============================] - 0s 13ms/step - loss: 10884.4248\n",
      "Epoch 55/100\n",
      "1/1 [==============================] - 0s 12ms/step - loss: 10729.8984\n",
      "Epoch 56/100\n",
      "1/1 [==============================] - 0s 12ms/step - loss: 10570.4648\n",
      "Epoch 57/100\n",
      "1/1 [==============================] - 0s 11ms/step - loss: 10410.5576\n",
      "Epoch 58/100\n",
      "1/1 [==============================] - 0s 10ms/step - loss: 10253.5889\n",
      "Epoch 59/100\n",
      "1/1 [==============================] - 0s 12ms/step - loss: 10102.6953\n",
      "Epoch 60/100\n",
      "1/1 [==============================] - 0s 12ms/step - loss: 9959.3027\n",
      "Epoch 61/100\n",
      "1/1 [==============================] - 0s 13ms/step - loss: 9823.6631\n",
      "Epoch 62/100\n",
      "1/1 [==============================] - 0s 15ms/step - loss: 9695.2969\n",
      "Epoch 63/100\n",
      "1/1 [==============================] - 0s 16ms/step - loss: 9573.0947\n",
      "Epoch 64/100\n",
      "1/1 [==============================] - 0s 14ms/step - loss: 9455.4453\n",
      "Epoch 65/100\n",
      "1/1 [==============================] - 0s 13ms/step - loss: 9340.3662\n",
      "Epoch 66/100\n",
      "1/1 [==============================] - 0s 13ms/step - loss: 9225.5557\n",
      "Epoch 67/100\n",
      "1/1 [==============================] - 0s 12ms/step - loss: 9108.4365\n",
      "Epoch 68/100\n",
      "1/1 [==============================] - 0s 12ms/step - loss: 8986.2891\n",
      "Epoch 69/100\n",
      "1/1 [==============================] - 0s 11ms/step - loss: 8856.6416\n",
      "Epoch 70/100\n",
      "1/1 [==============================] - 0s 12ms/step - loss: 8717.9893\n",
      "Epoch 71/100\n",
      "1/1 [==============================] - 0s 13ms/step - loss: 8570.6865\n",
      "Epoch 72/100\n",
      "1/1 [==============================] - 0s 10ms/step - loss: 8417.4170\n",
      "Epoch 73/100\n",
      "1/1 [==============================] - 0s 13ms/step - loss: 8262.5732\n",
      "Epoch 74/100\n",
      "1/1 [==============================] - 0s 15ms/step - loss: 8110.6626\n",
      "Epoch 75/100\n",
      "1/1 [==============================] - 0s 16ms/step - loss: 7964.7905\n",
      "Epoch 76/100\n",
      "1/1 [==============================] - 0s 13ms/step - loss: 7826.0508\n",
      "Epoch 77/100\n",
      "1/1 [==============================] - 0s 13ms/step - loss: 7693.8032\n",
      "Epoch 78/100\n",
      "1/1 [==============================] - 0s 13ms/step - loss: 7566.2788\n",
      "Epoch 79/100\n",
      "1/1 [==============================] - 0s 11ms/step - loss: 7441.2188\n",
      "Epoch 80/100\n",
      "1/1 [==============================] - 0s 14ms/step - loss: 7316.2085\n",
      "Epoch 81/100\n",
      "1/1 [==============================] - 0s 13ms/step - loss: 7188.3101\n",
      "Epoch 82/100\n",
      "1/1 [==============================] - 0s 10ms/step - loss: 7055.6245\n",
      "Epoch 83/100\n",
      "1/1 [==============================] - 0s 12ms/step - loss: 6915.8711\n",
      "Epoch 84/100\n",
      "1/1 [==============================] - 0s 12ms/step - loss: 6767.0288\n",
      "Epoch 85/100\n",
      "1/1 [==============================] - 0s 11ms/step - loss: 6608.2075\n",
      "Epoch 86/100\n",
      "1/1 [==============================] - 0s 12ms/step - loss: 6438.1646\n",
      "Epoch 87/100\n",
      "1/1 [==============================] - 0s 12ms/step - loss: 6257.8062\n",
      "Epoch 88/100\n",
      "1/1 [==============================] - 0s 12ms/step - loss: 6069.2891\n",
      "Epoch 89/100\n",
      "1/1 [==============================] - 0s 11ms/step - loss: 5876.1851\n",
      "Epoch 90/100\n",
      "1/1 [==============================] - 0s 11ms/step - loss: 5680.3569\n",
      "Epoch 91/100\n",
      "1/1 [==============================] - 0s 13ms/step - loss: 5480.2183\n",
      "Epoch 92/100\n",
      "1/1 [==============================] - 0s 10ms/step - loss: 5271.7666\n",
      "Epoch 93/100\n",
      "1/1 [==============================] - 0s 12ms/step - loss: 5047.4360\n",
      "Epoch 94/100\n",
      "1/1 [==============================] - 0s 13ms/step - loss: 4794.6328\n",
      "Epoch 95/100\n",
      "1/1 [==============================] - 0s 10ms/step - loss: 4494.2563\n",
      "Epoch 96/100\n",
      "1/1 [==============================] - 0s 12ms/step - loss: 4122.0801\n",
      "Epoch 97/100\n",
      "1/1 [==============================] - 0s 12ms/step - loss: 3655.6707\n",
      "Epoch 98/100\n",
      "1/1 [==============================] - 0s 10ms/step - loss: 3090.6028\n",
      "Epoch 99/100\n",
      "1/1 [==============================] - 0s 13ms/step - loss: 2450.1018\n",
      "Epoch 100/100\n",
      "1/1 [==============================] - 0s 17ms/step - loss: 1776.4141\n",
      "1/1 [==============================] - 0s 138ms/step\n",
      "1/1 [==============================] - 0s 122ms/step\n",
      "1/1 [==============================] - 0s 14ms/step\n",
      "1/1 [==============================] - 0s 14ms/step\n",
      "1/1 [==============================] - 0s 17ms/step\n",
      "1/1 [==============================] - 0s 16ms/step\n"
     ]
    },
    {
     "data": {
      "application/vnd.plotly.v1+json": {
       "config": {
        "plotlyServerURL": "https://plot.ly"
       },
       "data": [
        {
         "mode": "lines",
         "name": "Training Data",
         "type": "scatter",
         "x": [
          "2022-04-06",
          "2022-04-07",
          "2022-04-08",
          "2022-04-11",
          "2022-04-12",
          "2022-04-13",
          "2022-04-14",
          "2022-04-18",
          "2022-04-19",
          "2022-04-20",
          "2022-04-21",
          "2022-04-22",
          "2022-04-25",
          "2022-04-26",
          "2022-04-27",
          "2022-04-28",
          "2022-04-29",
          "2022-05-02",
          "2022-05-03",
          "2022-05-04",
          "2022-05-05",
          "2022-05-06",
          "2022-05-09",
          "2022-05-10",
          "2022-05-11",
          "2022-05-12",
          "2022-05-13",
          "2022-05-16",
          "2022-05-17",
          "2022-05-18",
          "2022-05-19",
          "2022-05-20",
          "2022-05-23",
          "2022-05-24",
          "2022-05-25",
          "2022-05-26",
          "2022-05-27",
          "2022-05-31",
          "2022-06-01",
          "2022-06-02",
          "2022-06-03",
          "2022-06-06",
          "2022-06-07",
          "2022-06-08",
          "2022-06-09",
          "2022-06-10",
          "2022-06-13",
          "2022-06-14",
          "2022-06-15",
          "2022-06-16",
          "2022-06-17",
          "2022-06-21",
          "2022-06-22",
          "2022-06-23",
          "2022-06-24",
          "2022-06-27",
          "2022-06-28",
          "2022-06-29",
          "2022-06-30",
          "2022-07-01",
          "2022-07-05",
          "2022-07-06",
          "2022-07-07",
          "2022-07-08",
          "2022-07-11",
          "2022-07-12",
          "2022-07-13",
          "2022-07-14",
          "2022-07-15",
          "2022-07-18",
          "2022-07-19",
          "2022-07-20",
          "2022-07-21",
          "2022-07-22",
          "2022-07-25",
          "2022-07-26",
          "2022-07-27",
          "2022-07-28",
          "2022-07-29",
          "2022-08-01",
          "2022-08-02",
          "2022-08-03",
          "2022-08-04",
          "2022-08-05",
          "2022-08-08",
          "2022-08-09",
          "2022-08-10",
          "2022-08-11",
          "2022-08-12",
          "2022-08-15",
          "2022-08-16",
          "2022-08-17",
          "2022-08-18",
          "2022-08-19",
          "2022-08-22",
          "2022-08-23",
          "2022-08-24",
          "2022-08-25",
          "2022-08-26",
          "2022-08-29",
          "2022-08-30"
         ],
         "y": [
          137.175995,
          136.464996,
          134.010498,
          129.796494,
          128.374496,
          130.285995,
          127.252998,
          127.960999,
          130.531006,
          128.245499,
          124.9375,
          119.613998,
          123.25,
          119.505997,
          115.0205,
          119.411499,
          114.966499,
          117.156998,
          118.129501,
          122.574997,
          116.746498,
          115.660004,
          113.084,
          114.584503,
          113.960999,
          113.161003,
          116.515503,
          114.792503,
          116.7015,
          112.401001,
          110.745499,
          109.313004,
          111.666496,
          105.926003,
          105.8395,
          108.295998,
          112.799004,
          114.039001,
          114.137001,
          117.746002,
          114.564003,
          117.010498,
          117.2295,
          117.237999,
          114.917999,
          111.427498,
          106.876503,
          107.194,
          110.390503,
          106.636002,
          107.865501,
          112.014999,
          112.033997,
          112.684502,
          118.538002,
          116.622498,
          112.571503,
          112.2565,
          109.372498,
          109.081001,
          113.887001,
          115.213501,
          119.306,
          120.168503,
          116.522499,
          114.849503,
          112.186996,
          111.440002,
          112.766998,
          109.910004,
          114.620003,
          114.699997,
          115.040001,
          108.360001,
          108.209999,
          105.440002,
          113.599998,
          114.589996,
          116.639999,
          115.480003,
          115.900002,
          118.779999,
          118.870003,
          118.220001,
          118.139999,
          117.5,
          120.650002,
          119.82,
          122.650002,
          122.879997,
          122.510002,
          120.32,
          120.860001,
          118.120003,
          115.07,
          114.769997,
          114.699997,
          117.699997,
          111.300003,
          110.339996,
          109.910004
         ]
        },
        {
         "mode": "lines",
         "name": "Testing Training Data",
         "type": "scatter",
         "x": [
          "2022-08-31",
          "2022-09-01",
          "2022-09-02",
          "2022-09-06",
          "2022-09-07",
          "2022-09-08",
          "2022-09-09",
          "2022-09-12",
          "2022-09-13",
          "2022-09-14",
          "2022-09-15",
          "2022-09-16",
          "2022-09-19",
          "2022-09-20",
          "2022-09-21",
          "2022-09-22",
          "2022-09-23",
          "2022-09-26",
          "2022-09-27",
          "2022-09-28",
          "2022-09-29",
          "2022-09-30",
          "2022-10-03",
          "2022-10-04",
          "2022-10-05",
          "2022-10-06"
         ],
         "y": [
          77.9065933227539,
          76.69992065429688,
          76.402587890625,
          75.98645782470703,
          78.47527313232422,
          80.81285858154297,
          79.51018524169922,
          78.17134857177734,
          75.17237854003906,
          74.80117797851562,
          74.77090454101562,
          74.57811737060547,
          73.35494232177734,
          72.56529235839844,
          71.76398468017578,
          71.22938537597656,
          70.01753234863281,
          71.36859893798828,
          71.31230926513672,
          69.34841918945312,
          68.00786590576172
         ]
        },
        {
         "mode": "lines",
         "name": "Ground Truth",
         "type": "scatter",
         "x": [
          "2022-08-31",
          "2022-09-01",
          "2022-09-02",
          "2022-09-06",
          "2022-09-07",
          "2022-09-08",
          "2022-09-09",
          "2022-09-12",
          "2022-09-13",
          "2022-09-14",
          "2022-09-15",
          "2022-09-16",
          "2022-09-19",
          "2022-09-20",
          "2022-09-21",
          "2022-09-22",
          "2022-09-23",
          "2022-09-26",
          "2022-09-27",
          "2022-09-28",
          "2022-09-29",
          "2022-09-30",
          "2022-10-03",
          "2022-10-04",
          "2022-10-05",
          "2022-10-06"
         ],
         "y": [
          109.150002,
          110.550003,
          108.68,
          107.480003,
          110.480003,
          109.419998,
          111.779999,
          111.870003,
          105.309998,
          105.870003,
          103.900002,
          103.629997,
          103.849998,
          101.830002,
          100.010002,
          100.57,
          99.169998,
          98.809998,
          98.089996,
          100.739998,
          98.089996,
          96.150002,
          99.300003,
          102.410004,
          102.220001,
          102.239998
         ]
        }
       ],
       "layout": {
        "font": {
         "size": 20
        },
        "template": {
         "data": {
          "bar": [
           {
            "error_x": {
             "color": "#2a3f5f"
            },
            "error_y": {
             "color": "#2a3f5f"
            },
            "marker": {
             "line": {
              "color": "#E5ECF6",
              "width": 0.5
             },
             "pattern": {
              "fillmode": "overlay",
              "size": 10,
              "solidity": 0.2
             }
            },
            "type": "bar"
           }
          ],
          "barpolar": [
           {
            "marker": {
             "line": {
              "color": "#E5ECF6",
              "width": 0.5
             },
             "pattern": {
              "fillmode": "overlay",
              "size": 10,
              "solidity": 0.2
             }
            },
            "type": "barpolar"
           }
          ],
          "carpet": [
           {
            "aaxis": {
             "endlinecolor": "#2a3f5f",
             "gridcolor": "white",
             "linecolor": "white",
             "minorgridcolor": "white",
             "startlinecolor": "#2a3f5f"
            },
            "baxis": {
             "endlinecolor": "#2a3f5f",
             "gridcolor": "white",
             "linecolor": "white",
             "minorgridcolor": "white",
             "startlinecolor": "#2a3f5f"
            },
            "type": "carpet"
           }
          ],
          "choropleth": [
           {
            "colorbar": {
             "outlinewidth": 0,
             "ticks": ""
            },
            "type": "choropleth"
           }
          ],
          "contour": [
           {
            "colorbar": {
             "outlinewidth": 0,
             "ticks": ""
            },
            "colorscale": [
             [
              0,
              "#0d0887"
             ],
             [
              0.1111111111111111,
              "#46039f"
             ],
             [
              0.2222222222222222,
              "#7201a8"
             ],
             [
              0.3333333333333333,
              "#9c179e"
             ],
             [
              0.4444444444444444,
              "#bd3786"
             ],
             [
              0.5555555555555556,
              "#d8576b"
             ],
             [
              0.6666666666666666,
              "#ed7953"
             ],
             [
              0.7777777777777778,
              "#fb9f3a"
             ],
             [
              0.8888888888888888,
              "#fdca26"
             ],
             [
              1,
              "#f0f921"
             ]
            ],
            "type": "contour"
           }
          ],
          "contourcarpet": [
           {
            "colorbar": {
             "outlinewidth": 0,
             "ticks": ""
            },
            "type": "contourcarpet"
           }
          ],
          "heatmap": [
           {
            "colorbar": {
             "outlinewidth": 0,
             "ticks": ""
            },
            "colorscale": [
             [
              0,
              "#0d0887"
             ],
             [
              0.1111111111111111,
              "#46039f"
             ],
             [
              0.2222222222222222,
              "#7201a8"
             ],
             [
              0.3333333333333333,
              "#9c179e"
             ],
             [
              0.4444444444444444,
              "#bd3786"
             ],
             [
              0.5555555555555556,
              "#d8576b"
             ],
             [
              0.6666666666666666,
              "#ed7953"
             ],
             [
              0.7777777777777778,
              "#fb9f3a"
             ],
             [
              0.8888888888888888,
              "#fdca26"
             ],
             [
              1,
              "#f0f921"
             ]
            ],
            "type": "heatmap"
           }
          ],
          "heatmapgl": [
           {
            "colorbar": {
             "outlinewidth": 0,
             "ticks": ""
            },
            "colorscale": [
             [
              0,
              "#0d0887"
             ],
             [
              0.1111111111111111,
              "#46039f"
             ],
             [
              0.2222222222222222,
              "#7201a8"
             ],
             [
              0.3333333333333333,
              "#9c179e"
             ],
             [
              0.4444444444444444,
              "#bd3786"
             ],
             [
              0.5555555555555556,
              "#d8576b"
             ],
             [
              0.6666666666666666,
              "#ed7953"
             ],
             [
              0.7777777777777778,
              "#fb9f3a"
             ],
             [
              0.8888888888888888,
              "#fdca26"
             ],
             [
              1,
              "#f0f921"
             ]
            ],
            "type": "heatmapgl"
           }
          ],
          "histogram": [
           {
            "marker": {
             "pattern": {
              "fillmode": "overlay",
              "size": 10,
              "solidity": 0.2
             }
            },
            "type": "histogram"
           }
          ],
          "histogram2d": [
           {
            "colorbar": {
             "outlinewidth": 0,
             "ticks": ""
            },
            "colorscale": [
             [
              0,
              "#0d0887"
             ],
             [
              0.1111111111111111,
              "#46039f"
             ],
             [
              0.2222222222222222,
              "#7201a8"
             ],
             [
              0.3333333333333333,
              "#9c179e"
             ],
             [
              0.4444444444444444,
              "#bd3786"
             ],
             [
              0.5555555555555556,
              "#d8576b"
             ],
             [
              0.6666666666666666,
              "#ed7953"
             ],
             [
              0.7777777777777778,
              "#fb9f3a"
             ],
             [
              0.8888888888888888,
              "#fdca26"
             ],
             [
              1,
              "#f0f921"
             ]
            ],
            "type": "histogram2d"
           }
          ],
          "histogram2dcontour": [
           {
            "colorbar": {
             "outlinewidth": 0,
             "ticks": ""
            },
            "colorscale": [
             [
              0,
              "#0d0887"
             ],
             [
              0.1111111111111111,
              "#46039f"
             ],
             [
              0.2222222222222222,
              "#7201a8"
             ],
             [
              0.3333333333333333,
              "#9c179e"
             ],
             [
              0.4444444444444444,
              "#bd3786"
             ],
             [
              0.5555555555555556,
              "#d8576b"
             ],
             [
              0.6666666666666666,
              "#ed7953"
             ],
             [
              0.7777777777777778,
              "#fb9f3a"
             ],
             [
              0.8888888888888888,
              "#fdca26"
             ],
             [
              1,
              "#f0f921"
             ]
            ],
            "type": "histogram2dcontour"
           }
          ],
          "mesh3d": [
           {
            "colorbar": {
             "outlinewidth": 0,
             "ticks": ""
            },
            "type": "mesh3d"
           }
          ],
          "parcoords": [
           {
            "line": {
             "colorbar": {
              "outlinewidth": 0,
              "ticks": ""
             }
            },
            "type": "parcoords"
           }
          ],
          "pie": [
           {
            "automargin": true,
            "type": "pie"
           }
          ],
          "scatter": [
           {
            "fillpattern": {
             "fillmode": "overlay",
             "size": 10,
             "solidity": 0.2
            },
            "type": "scatter"
           }
          ],
          "scatter3d": [
           {
            "line": {
             "colorbar": {
              "outlinewidth": 0,
              "ticks": ""
             }
            },
            "marker": {
             "colorbar": {
              "outlinewidth": 0,
              "ticks": ""
             }
            },
            "type": "scatter3d"
           }
          ],
          "scattercarpet": [
           {
            "marker": {
             "colorbar": {
              "outlinewidth": 0,
              "ticks": ""
             }
            },
            "type": "scattercarpet"
           }
          ],
          "scattergeo": [
           {
            "marker": {
             "colorbar": {
              "outlinewidth": 0,
              "ticks": ""
             }
            },
            "type": "scattergeo"
           }
          ],
          "scattergl": [
           {
            "marker": {
             "colorbar": {
              "outlinewidth": 0,
              "ticks": ""
             }
            },
            "type": "scattergl"
           }
          ],
          "scattermapbox": [
           {
            "marker": {
             "colorbar": {
              "outlinewidth": 0,
              "ticks": ""
             }
            },
            "type": "scattermapbox"
           }
          ],
          "scatterpolar": [
           {
            "marker": {
             "colorbar": {
              "outlinewidth": 0,
              "ticks": ""
             }
            },
            "type": "scatterpolar"
           }
          ],
          "scatterpolargl": [
           {
            "marker": {
             "colorbar": {
              "outlinewidth": 0,
              "ticks": ""
             }
            },
            "type": "scatterpolargl"
           }
          ],
          "scatterternary": [
           {
            "marker": {
             "colorbar": {
              "outlinewidth": 0,
              "ticks": ""
             }
            },
            "type": "scatterternary"
           }
          ],
          "surface": [
           {
            "colorbar": {
             "outlinewidth": 0,
             "ticks": ""
            },
            "colorscale": [
             [
              0,
              "#0d0887"
             ],
             [
              0.1111111111111111,
              "#46039f"
             ],
             [
              0.2222222222222222,
              "#7201a8"
             ],
             [
              0.3333333333333333,
              "#9c179e"
             ],
             [
              0.4444444444444444,
              "#bd3786"
             ],
             [
              0.5555555555555556,
              "#d8576b"
             ],
             [
              0.6666666666666666,
              "#ed7953"
             ],
             [
              0.7777777777777778,
              "#fb9f3a"
             ],
             [
              0.8888888888888888,
              "#fdca26"
             ],
             [
              1,
              "#f0f921"
             ]
            ],
            "type": "surface"
           }
          ],
          "table": [
           {
            "cells": {
             "fill": {
              "color": "#EBF0F8"
             },
             "line": {
              "color": "white"
             }
            },
            "header": {
             "fill": {
              "color": "#C8D4E3"
             },
             "line": {
              "color": "white"
             }
            },
            "type": "table"
           }
          ]
         },
         "layout": {
          "annotationdefaults": {
           "arrowcolor": "#2a3f5f",
           "arrowhead": 0,
           "arrowwidth": 1
          },
          "autotypenumbers": "strict",
          "coloraxis": {
           "colorbar": {
            "outlinewidth": 0,
            "ticks": ""
           }
          },
          "colorscale": {
           "diverging": [
            [
             0,
             "#8e0152"
            ],
            [
             0.1,
             "#c51b7d"
            ],
            [
             0.2,
             "#de77ae"
            ],
            [
             0.3,
             "#f1b6da"
            ],
            [
             0.4,
             "#fde0ef"
            ],
            [
             0.5,
             "#f7f7f7"
            ],
            [
             0.6,
             "#e6f5d0"
            ],
            [
             0.7,
             "#b8e186"
            ],
            [
             0.8,
             "#7fbc41"
            ],
            [
             0.9,
             "#4d9221"
            ],
            [
             1,
             "#276419"
            ]
           ],
           "sequential": [
            [
             0,
             "#0d0887"
            ],
            [
             0.1111111111111111,
             "#46039f"
            ],
            [
             0.2222222222222222,
             "#7201a8"
            ],
            [
             0.3333333333333333,
             "#9c179e"
            ],
            [
             0.4444444444444444,
             "#bd3786"
            ],
            [
             0.5555555555555556,
             "#d8576b"
            ],
            [
             0.6666666666666666,
             "#ed7953"
            ],
            [
             0.7777777777777778,
             "#fb9f3a"
            ],
            [
             0.8888888888888888,
             "#fdca26"
            ],
            [
             1,
             "#f0f921"
            ]
           ],
           "sequentialminus": [
            [
             0,
             "#0d0887"
            ],
            [
             0.1111111111111111,
             "#46039f"
            ],
            [
             0.2222222222222222,
             "#7201a8"
            ],
            [
             0.3333333333333333,
             "#9c179e"
            ],
            [
             0.4444444444444444,
             "#bd3786"
            ],
            [
             0.5555555555555556,
             "#d8576b"
            ],
            [
             0.6666666666666666,
             "#ed7953"
            ],
            [
             0.7777777777777778,
             "#fb9f3a"
            ],
            [
             0.8888888888888888,
             "#fdca26"
            ],
            [
             1,
             "#f0f921"
            ]
           ]
          },
          "colorway": [
           "#636efa",
           "#EF553B",
           "#00cc96",
           "#ab63fa",
           "#FFA15A",
           "#19d3f3",
           "#FF6692",
           "#B6E880",
           "#FF97FF",
           "#FECB52"
          ],
          "font": {
           "color": "#2a3f5f"
          },
          "geo": {
           "bgcolor": "white",
           "lakecolor": "white",
           "landcolor": "#E5ECF6",
           "showlakes": true,
           "showland": true,
           "subunitcolor": "white"
          },
          "hoverlabel": {
           "align": "left"
          },
          "hovermode": "closest",
          "mapbox": {
           "style": "light"
          },
          "paper_bgcolor": "white",
          "plot_bgcolor": "#E5ECF6",
          "polar": {
           "angularaxis": {
            "gridcolor": "white",
            "linecolor": "white",
            "ticks": ""
           },
           "bgcolor": "#E5ECF6",
           "radialaxis": {
            "gridcolor": "white",
            "linecolor": "white",
            "ticks": ""
           }
          },
          "scene": {
           "xaxis": {
            "backgroundcolor": "#E5ECF6",
            "gridcolor": "white",
            "gridwidth": 2,
            "linecolor": "white",
            "showbackground": true,
            "ticks": "",
            "zerolinecolor": "white"
           },
           "yaxis": {
            "backgroundcolor": "#E5ECF6",
            "gridcolor": "white",
            "gridwidth": 2,
            "linecolor": "white",
            "showbackground": true,
            "ticks": "",
            "zerolinecolor": "white"
           },
           "zaxis": {
            "backgroundcolor": "#E5ECF6",
            "gridcolor": "white",
            "gridwidth": 2,
            "linecolor": "white",
            "showbackground": true,
            "ticks": "",
            "zerolinecolor": "white"
           }
          },
          "shapedefaults": {
           "line": {
            "color": "#2a3f5f"
           }
          },
          "ternary": {
           "aaxis": {
            "gridcolor": "white",
            "linecolor": "white",
            "ticks": ""
           },
           "baxis": {
            "gridcolor": "white",
            "linecolor": "white",
            "ticks": ""
           },
           "bgcolor": "#E5ECF6",
           "caxis": {
            "gridcolor": "white",
            "linecolor": "white",
            "ticks": ""
           }
          },
          "title": {
           "x": 0.05
          },
          "xaxis": {
           "automargin": true,
           "gridcolor": "white",
           "linecolor": "white",
           "ticks": "",
           "title": {
            "standoff": 15
           },
           "zerolinecolor": "white",
           "zerolinewidth": 2
          },
          "yaxis": {
           "automargin": true,
           "gridcolor": "white",
           "linecolor": "white",
           "ticks": "",
           "title": {
            "standoff": 15
           },
           "zerolinecolor": "white",
           "zerolinewidth": 2
          }
         }
        },
        "title": {
         "text": "GOOG Stock"
        },
        "xaxis": {
         "title": {
          "text": "Date"
         }
        },
        "yaxis": {
         "title": {
          "text": "Close"
         }
        }
       }
      }
     },
     "metadata": {},
     "output_type": "display_data"
    },
    {
     "data": {
      "application/vnd.plotly.v1+json": {
       "config": {
        "plotlyServerURL": "https://plot.ly"
       },
       "data": [
        {
         "mode": "lines",
         "name": "Future Predictions",
         "type": "scatter",
         "x": [
          "2022-10-06T00:00:00",
          "2022-10-07T00:00:00",
          "2022-10-08T00:00:00",
          "2022-10-09T00:00:00",
          "2022-10-10T00:00:00",
          "2022-10-11T00:00:00"
         ],
         "y": [
          102.239998,
          69.3773193359375,
          71.04238891601562,
          76.70377349853516,
          74.4975357055664,
          62.269840240478516
         ]
        },
        {
         "mode": "lines",
         "name": "5-Day Data",
         "type": "scatter",
         "x": [
          "2022-10-06T00:00:00",
          "2022-10-07T00:00:00",
          "2022-10-08T00:00:00",
          "2022-10-09T00:00:00",
          "2022-10-10T00:00:00",
          "2022-10-11T00:00:00"
         ],
         "y": [
          102.239998,
          99.57,
          99.29,
          99,
          98.709999,
          98.050003
         ]
        },
        {
         "mode": "lines",
         "name": "Ground Truth",
         "type": "scatter",
         "x": [
          "2022-08-31",
          "2022-09-01",
          "2022-09-02",
          "2022-09-06",
          "2022-09-07",
          "2022-09-08",
          "2022-09-09",
          "2022-09-12",
          "2022-09-13",
          "2022-09-14",
          "2022-09-15",
          "2022-09-16",
          "2022-09-19",
          "2022-09-20",
          "2022-09-21",
          "2022-09-22",
          "2022-09-23",
          "2022-09-26",
          "2022-09-27",
          "2022-09-28",
          "2022-09-29",
          "2022-09-30",
          "2022-10-03",
          "2022-10-04",
          "2022-10-05",
          "2022-10-06"
         ],
         "y": [
          109.150002,
          110.550003,
          108.68,
          107.480003,
          110.480003,
          109.419998,
          111.779999,
          111.870003,
          105.309998,
          105.870003,
          103.900002,
          103.629997,
          103.849998,
          101.830002,
          100.010002,
          100.57,
          99.169998,
          98.809998,
          98.089996,
          100.739998,
          98.089996,
          96.150002,
          99.300003,
          102.410004,
          102.220001,
          102.239998
         ]
        }
       ],
       "layout": {
        "font": {
         "size": 20
        },
        "template": {
         "data": {
          "bar": [
           {
            "error_x": {
             "color": "#2a3f5f"
            },
            "error_y": {
             "color": "#2a3f5f"
            },
            "marker": {
             "line": {
              "color": "#E5ECF6",
              "width": 0.5
             },
             "pattern": {
              "fillmode": "overlay",
              "size": 10,
              "solidity": 0.2
             }
            },
            "type": "bar"
           }
          ],
          "barpolar": [
           {
            "marker": {
             "line": {
              "color": "#E5ECF6",
              "width": 0.5
             },
             "pattern": {
              "fillmode": "overlay",
              "size": 10,
              "solidity": 0.2
             }
            },
            "type": "barpolar"
           }
          ],
          "carpet": [
           {
            "aaxis": {
             "endlinecolor": "#2a3f5f",
             "gridcolor": "white",
             "linecolor": "white",
             "minorgridcolor": "white",
             "startlinecolor": "#2a3f5f"
            },
            "baxis": {
             "endlinecolor": "#2a3f5f",
             "gridcolor": "white",
             "linecolor": "white",
             "minorgridcolor": "white",
             "startlinecolor": "#2a3f5f"
            },
            "type": "carpet"
           }
          ],
          "choropleth": [
           {
            "colorbar": {
             "outlinewidth": 0,
             "ticks": ""
            },
            "type": "choropleth"
           }
          ],
          "contour": [
           {
            "colorbar": {
             "outlinewidth": 0,
             "ticks": ""
            },
            "colorscale": [
             [
              0,
              "#0d0887"
             ],
             [
              0.1111111111111111,
              "#46039f"
             ],
             [
              0.2222222222222222,
              "#7201a8"
             ],
             [
              0.3333333333333333,
              "#9c179e"
             ],
             [
              0.4444444444444444,
              "#bd3786"
             ],
             [
              0.5555555555555556,
              "#d8576b"
             ],
             [
              0.6666666666666666,
              "#ed7953"
             ],
             [
              0.7777777777777778,
              "#fb9f3a"
             ],
             [
              0.8888888888888888,
              "#fdca26"
             ],
             [
              1,
              "#f0f921"
             ]
            ],
            "type": "contour"
           }
          ],
          "contourcarpet": [
           {
            "colorbar": {
             "outlinewidth": 0,
             "ticks": ""
            },
            "type": "contourcarpet"
           }
          ],
          "heatmap": [
           {
            "colorbar": {
             "outlinewidth": 0,
             "ticks": ""
            },
            "colorscale": [
             [
              0,
              "#0d0887"
             ],
             [
              0.1111111111111111,
              "#46039f"
             ],
             [
              0.2222222222222222,
              "#7201a8"
             ],
             [
              0.3333333333333333,
              "#9c179e"
             ],
             [
              0.4444444444444444,
              "#bd3786"
             ],
             [
              0.5555555555555556,
              "#d8576b"
             ],
             [
              0.6666666666666666,
              "#ed7953"
             ],
             [
              0.7777777777777778,
              "#fb9f3a"
             ],
             [
              0.8888888888888888,
              "#fdca26"
             ],
             [
              1,
              "#f0f921"
             ]
            ],
            "type": "heatmap"
           }
          ],
          "heatmapgl": [
           {
            "colorbar": {
             "outlinewidth": 0,
             "ticks": ""
            },
            "colorscale": [
             [
              0,
              "#0d0887"
             ],
             [
              0.1111111111111111,
              "#46039f"
             ],
             [
              0.2222222222222222,
              "#7201a8"
             ],
             [
              0.3333333333333333,
              "#9c179e"
             ],
             [
              0.4444444444444444,
              "#bd3786"
             ],
             [
              0.5555555555555556,
              "#d8576b"
             ],
             [
              0.6666666666666666,
              "#ed7953"
             ],
             [
              0.7777777777777778,
              "#fb9f3a"
             ],
             [
              0.8888888888888888,
              "#fdca26"
             ],
             [
              1,
              "#f0f921"
             ]
            ],
            "type": "heatmapgl"
           }
          ],
          "histogram": [
           {
            "marker": {
             "pattern": {
              "fillmode": "overlay",
              "size": 10,
              "solidity": 0.2
             }
            },
            "type": "histogram"
           }
          ],
          "histogram2d": [
           {
            "colorbar": {
             "outlinewidth": 0,
             "ticks": ""
            },
            "colorscale": [
             [
              0,
              "#0d0887"
             ],
             [
              0.1111111111111111,
              "#46039f"
             ],
             [
              0.2222222222222222,
              "#7201a8"
             ],
             [
              0.3333333333333333,
              "#9c179e"
             ],
             [
              0.4444444444444444,
              "#bd3786"
             ],
             [
              0.5555555555555556,
              "#d8576b"
             ],
             [
              0.6666666666666666,
              "#ed7953"
             ],
             [
              0.7777777777777778,
              "#fb9f3a"
             ],
             [
              0.8888888888888888,
              "#fdca26"
             ],
             [
              1,
              "#f0f921"
             ]
            ],
            "type": "histogram2d"
           }
          ],
          "histogram2dcontour": [
           {
            "colorbar": {
             "outlinewidth": 0,
             "ticks": ""
            },
            "colorscale": [
             [
              0,
              "#0d0887"
             ],
             [
              0.1111111111111111,
              "#46039f"
             ],
             [
              0.2222222222222222,
              "#7201a8"
             ],
             [
              0.3333333333333333,
              "#9c179e"
             ],
             [
              0.4444444444444444,
              "#bd3786"
             ],
             [
              0.5555555555555556,
              "#d8576b"
             ],
             [
              0.6666666666666666,
              "#ed7953"
             ],
             [
              0.7777777777777778,
              "#fb9f3a"
             ],
             [
              0.8888888888888888,
              "#fdca26"
             ],
             [
              1,
              "#f0f921"
             ]
            ],
            "type": "histogram2dcontour"
           }
          ],
          "mesh3d": [
           {
            "colorbar": {
             "outlinewidth": 0,
             "ticks": ""
            },
            "type": "mesh3d"
           }
          ],
          "parcoords": [
           {
            "line": {
             "colorbar": {
              "outlinewidth": 0,
              "ticks": ""
             }
            },
            "type": "parcoords"
           }
          ],
          "pie": [
           {
            "automargin": true,
            "type": "pie"
           }
          ],
          "scatter": [
           {
            "fillpattern": {
             "fillmode": "overlay",
             "size": 10,
             "solidity": 0.2
            },
            "type": "scatter"
           }
          ],
          "scatter3d": [
           {
            "line": {
             "colorbar": {
              "outlinewidth": 0,
              "ticks": ""
             }
            },
            "marker": {
             "colorbar": {
              "outlinewidth": 0,
              "ticks": ""
             }
            },
            "type": "scatter3d"
           }
          ],
          "scattercarpet": [
           {
            "marker": {
             "colorbar": {
              "outlinewidth": 0,
              "ticks": ""
             }
            },
            "type": "scattercarpet"
           }
          ],
          "scattergeo": [
           {
            "marker": {
             "colorbar": {
              "outlinewidth": 0,
              "ticks": ""
             }
            },
            "type": "scattergeo"
           }
          ],
          "scattergl": [
           {
            "marker": {
             "colorbar": {
              "outlinewidth": 0,
              "ticks": ""
             }
            },
            "type": "scattergl"
           }
          ],
          "scattermapbox": [
           {
            "marker": {
             "colorbar": {
              "outlinewidth": 0,
              "ticks": ""
             }
            },
            "type": "scattermapbox"
           }
          ],
          "scatterpolar": [
           {
            "marker": {
             "colorbar": {
              "outlinewidth": 0,
              "ticks": ""
             }
            },
            "type": "scatterpolar"
           }
          ],
          "scatterpolargl": [
           {
            "marker": {
             "colorbar": {
              "outlinewidth": 0,
              "ticks": ""
             }
            },
            "type": "scatterpolargl"
           }
          ],
          "scatterternary": [
           {
            "marker": {
             "colorbar": {
              "outlinewidth": 0,
              "ticks": ""
             }
            },
            "type": "scatterternary"
           }
          ],
          "surface": [
           {
            "colorbar": {
             "outlinewidth": 0,
             "ticks": ""
            },
            "colorscale": [
             [
              0,
              "#0d0887"
             ],
             [
              0.1111111111111111,
              "#46039f"
             ],
             [
              0.2222222222222222,
              "#7201a8"
             ],
             [
              0.3333333333333333,
              "#9c179e"
             ],
             [
              0.4444444444444444,
              "#bd3786"
             ],
             [
              0.5555555555555556,
              "#d8576b"
             ],
             [
              0.6666666666666666,
              "#ed7953"
             ],
             [
              0.7777777777777778,
              "#fb9f3a"
             ],
             [
              0.8888888888888888,
              "#fdca26"
             ],
             [
              1,
              "#f0f921"
             ]
            ],
            "type": "surface"
           }
          ],
          "table": [
           {
            "cells": {
             "fill": {
              "color": "#EBF0F8"
             },
             "line": {
              "color": "white"
             }
            },
            "header": {
             "fill": {
              "color": "#C8D4E3"
             },
             "line": {
              "color": "white"
             }
            },
            "type": "table"
           }
          ]
         },
         "layout": {
          "annotationdefaults": {
           "arrowcolor": "#2a3f5f",
           "arrowhead": 0,
           "arrowwidth": 1
          },
          "autotypenumbers": "strict",
          "coloraxis": {
           "colorbar": {
            "outlinewidth": 0,
            "ticks": ""
           }
          },
          "colorscale": {
           "diverging": [
            [
             0,
             "#8e0152"
            ],
            [
             0.1,
             "#c51b7d"
            ],
            [
             0.2,
             "#de77ae"
            ],
            [
             0.3,
             "#f1b6da"
            ],
            [
             0.4,
             "#fde0ef"
            ],
            [
             0.5,
             "#f7f7f7"
            ],
            [
             0.6,
             "#e6f5d0"
            ],
            [
             0.7,
             "#b8e186"
            ],
            [
             0.8,
             "#7fbc41"
            ],
            [
             0.9,
             "#4d9221"
            ],
            [
             1,
             "#276419"
            ]
           ],
           "sequential": [
            [
             0,
             "#0d0887"
            ],
            [
             0.1111111111111111,
             "#46039f"
            ],
            [
             0.2222222222222222,
             "#7201a8"
            ],
            [
             0.3333333333333333,
             "#9c179e"
            ],
            [
             0.4444444444444444,
             "#bd3786"
            ],
            [
             0.5555555555555556,
             "#d8576b"
            ],
            [
             0.6666666666666666,
             "#ed7953"
            ],
            [
             0.7777777777777778,
             "#fb9f3a"
            ],
            [
             0.8888888888888888,
             "#fdca26"
            ],
            [
             1,
             "#f0f921"
            ]
           ],
           "sequentialminus": [
            [
             0,
             "#0d0887"
            ],
            [
             0.1111111111111111,
             "#46039f"
            ],
            [
             0.2222222222222222,
             "#7201a8"
            ],
            [
             0.3333333333333333,
             "#9c179e"
            ],
            [
             0.4444444444444444,
             "#bd3786"
            ],
            [
             0.5555555555555556,
             "#d8576b"
            ],
            [
             0.6666666666666666,
             "#ed7953"
            ],
            [
             0.7777777777777778,
             "#fb9f3a"
            ],
            [
             0.8888888888888888,
             "#fdca26"
            ],
            [
             1,
             "#f0f921"
            ]
           ]
          },
          "colorway": [
           "#636efa",
           "#EF553B",
           "#00cc96",
           "#ab63fa",
           "#FFA15A",
           "#19d3f3",
           "#FF6692",
           "#B6E880",
           "#FF97FF",
           "#FECB52"
          ],
          "font": {
           "color": "#2a3f5f"
          },
          "geo": {
           "bgcolor": "white",
           "lakecolor": "white",
           "landcolor": "#E5ECF6",
           "showlakes": true,
           "showland": true,
           "subunitcolor": "white"
          },
          "hoverlabel": {
           "align": "left"
          },
          "hovermode": "closest",
          "mapbox": {
           "style": "light"
          },
          "paper_bgcolor": "white",
          "plot_bgcolor": "#E5ECF6",
          "polar": {
           "angularaxis": {
            "gridcolor": "white",
            "linecolor": "white",
            "ticks": ""
           },
           "bgcolor": "#E5ECF6",
           "radialaxis": {
            "gridcolor": "white",
            "linecolor": "white",
            "ticks": ""
           }
          },
          "scene": {
           "xaxis": {
            "backgroundcolor": "#E5ECF6",
            "gridcolor": "white",
            "gridwidth": 2,
            "linecolor": "white",
            "showbackground": true,
            "ticks": "",
            "zerolinecolor": "white"
           },
           "yaxis": {
            "backgroundcolor": "#E5ECF6",
            "gridcolor": "white",
            "gridwidth": 2,
            "linecolor": "white",
            "showbackground": true,
            "ticks": "",
            "zerolinecolor": "white"
           },
           "zaxis": {
            "backgroundcolor": "#E5ECF6",
            "gridcolor": "white",
            "gridwidth": 2,
            "linecolor": "white",
            "showbackground": true,
            "ticks": "",
            "zerolinecolor": "white"
           }
          },
          "shapedefaults": {
           "line": {
            "color": "#2a3f5f"
           }
          },
          "ternary": {
           "aaxis": {
            "gridcolor": "white",
            "linecolor": "white",
            "ticks": ""
           },
           "baxis": {
            "gridcolor": "white",
            "linecolor": "white",
            "ticks": ""
           },
           "bgcolor": "#E5ECF6",
           "caxis": {
            "gridcolor": "white",
            "linecolor": "white",
            "ticks": ""
           }
          },
          "title": {
           "x": 0.05
          },
          "xaxis": {
           "automargin": true,
           "gridcolor": "white",
           "linecolor": "white",
           "ticks": "",
           "title": {
            "standoff": 15
           },
           "zerolinecolor": "white",
           "zerolinewidth": 2
          },
          "yaxis": {
           "automargin": true,
           "gridcolor": "white",
           "linecolor": "white",
           "ticks": "",
           "title": {
            "standoff": 15
           },
           "zerolinecolor": "white",
           "zerolinewidth": 2
          }
         }
        },
        "title": {
         "text": "GOOG Stock"
        },
        "xaxis": {
         "title": {
          "text": "Date"
         }
        },
        "yaxis": {
         "title": {
          "text": "Close"
         }
        }
       }
      }
     },
     "metadata": {},
     "output_type": "display_data"
    }
   ],
   "source": [
    "pred(df_GOOG,df_GOOG_future,df_GOOG_comp)"
   ]
  }
 ],
 "metadata": {
  "colab": {
   "provenance": []
  },
  "kernelspec": {
   "display_name": "Python 3 (ipykernel)",
   "language": "python",
   "name": "python3"
  },
  "language_info": {
   "codemirror_mode": {
    "name": "ipython",
    "version": 3
   },
   "file_extension": ".py",
   "mimetype": "text/x-python",
   "name": "python",
   "nbconvert_exporter": "python",
   "pygments_lexer": "ipython3",
   "version": "3.9.12"
  }
 },
 "nbformat": 4,
 "nbformat_minor": 1
}
