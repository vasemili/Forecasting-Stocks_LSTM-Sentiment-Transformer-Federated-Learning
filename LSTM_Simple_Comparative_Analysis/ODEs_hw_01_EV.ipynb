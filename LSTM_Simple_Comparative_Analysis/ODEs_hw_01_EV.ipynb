{
 "cells": [
  {
   "attachments": {},
   "cell_type": "markdown",
   "metadata": {},
   "source": [
    "# Diffusion starter"
   ]
  },
  {
   "cell_type": "code",
   "execution_count": 10,
   "metadata": {},
   "outputs": [],
   "source": [
    "import numpy as np;\n",
    "import matplotlib.pyplot as plt;\n",
    "import scipy as sp;\n",
    "from scipy.integrate import odeint\n",
    "from scipy.optimize import dual_annealing\n",
    "import plotly.graph_objects as go\n"
   ]
  },
  {
   "attachments": {},
   "cell_type": "markdown",
   "metadata": {},
   "source": [
    "## Determine gamma, y, v(0) from the attached data\n",
    "\n",
    "$x'' = -\\gamma x - yv$\n"
   ]
  },
  {
   "cell_type": "code",
   "execution_count": 7,
   "metadata": {},
   "outputs": [
    {
     "data": {
      "text/html": [
       "<div>\n",
       "<style scoped>\n",
       "    .dataframe tbody tr th:only-of-type {\n",
       "        vertical-align: middle;\n",
       "    }\n",
       "\n",
       "    .dataframe tbody tr th {\n",
       "        vertical-align: top;\n",
       "    }\n",
       "\n",
       "    .dataframe thead th {\n",
       "        text-align: right;\n",
       "    }\n",
       "</style>\n",
       "<table border=\"1\" class=\"dataframe\">\n",
       "  <thead>\n",
       "    <tr style=\"text-align: right;\">\n",
       "      <th></th>\n",
       "      <th>t</th>\n",
       "      <th>x</th>\n",
       "    </tr>\n",
       "  </thead>\n",
       "  <tbody>\n",
       "    <tr>\n",
       "      <th>0</th>\n",
       "      <td>0.000</td>\n",
       "      <td>0.9897</td>\n",
       "    </tr>\n",
       "    <tr>\n",
       "      <th>1</th>\n",
       "      <td>0.101</td>\n",
       "      <td>1.4629</td>\n",
       "    </tr>\n",
       "    <tr>\n",
       "      <th>2</th>\n",
       "      <td>0.202</td>\n",
       "      <td>1.7087</td>\n",
       "    </tr>\n",
       "    <tr>\n",
       "      <th>3</th>\n",
       "      <td>0.303</td>\n",
       "      <td>1.8007</td>\n",
       "    </tr>\n",
       "    <tr>\n",
       "      <th>4</th>\n",
       "      <td>0.404</td>\n",
       "      <td>1.7923</td>\n",
       "    </tr>\n",
       "  </tbody>\n",
       "</table>\n",
       "</div>"
      ],
      "text/plain": [
       "       t       x\n",
       "0  0.000  0.9897\n",
       "1  0.101  1.4629\n",
       "2  0.202  1.7087\n",
       "3  0.303  1.8007\n",
       "4  0.404  1.7923"
      ]
     },
     "execution_count": 7,
     "metadata": {},
     "output_type": "execute_result"
    }
   ],
   "source": [
    "df = pd.read_csv(r'C:\\Users\\emili\\Downloads\\unit5data-1.csv')\n",
    "df.head()"
   ]
  },
  {
   "attachments": {},
   "cell_type": "markdown",
   "metadata": {},
   "source": [
    "#### Creating a mathematical model of a system of ODE's and comparing solution model to data"
   ]
  },
  {
   "cell_type": "code",
   "execution_count": 44,
   "metadata": {},
   "outputs": [
    {
     "data": {
      "application/vnd.plotly.v1+json": {
       "config": {
        "plotlyServerURL": "https://plot.ly"
       },
       "data": [
        {
         "mode": "lines",
         "name": "Data",
         "type": "scatter",
         "x": [
          0,
          0.101,
          0.202,
          0.303,
          0.404,
          0.5051,
          0.6061,
          0.7071,
          0.8081,
          0.9091,
          1.0101,
          1.1111,
          1.2121,
          1.3131,
          1.4141,
          1.5152,
          1.6162,
          1.7172,
          1.8182,
          1.9192,
          2.0202,
          2.1212,
          2.2222,
          2.3232,
          2.4242,
          2.5253,
          2.6263,
          2.7273,
          2.8283,
          2.9293,
          3.0303,
          3.1313,
          3.2323,
          3.3333,
          3.4343,
          3.5354,
          3.6364,
          3.7374,
          3.8384,
          3.9394,
          4.0404,
          4.1414,
          4.2424,
          4.3434,
          4.4444,
          4.5455,
          4.6465,
          4.7475,
          4.8485,
          4.9495
         ],
         "y": [
          0.9897,
          1.4629,
          1.7087,
          1.8007,
          1.7923,
          1.5237,
          1.1797,
          0.7324,
          0.2835,
          -0.0576,
          -0.512,
          -0.9141,
          -1.3451,
          -1.3856,
          -1.4163,
          -1.3057,
          -1.0515,
          -0.8265,
          -0.3902,
          0.0431,
          0.2679,
          0.715,
          0.8768,
          0.9858,
          1.0184,
          0.9579,
          0.9728,
          0.6326,
          0.3394,
          0.0666,
          -0.1919,
          -0.4847,
          -0.6126,
          -0.7115,
          -0.9033,
          -0.808,
          -0.7005,
          -0.6278,
          -0.375,
          -0.1087,
          0.0951,
          0.2281,
          0.3932,
          0.5382,
          0.5575,
          0.5752,
          0.6646,
          0.5747,
          0.3088,
          0.3213
         ]
        },
        {
         "mode": "lines",
         "name": "Solution",
         "type": "scatter",
         "x": [
          0,
          0.101,
          0.202,
          0.303,
          0.404,
          0.5051,
          0.6061,
          0.7071,
          0.8081,
          0.9091,
          1.0101,
          1.1111,
          1.2121,
          1.3131,
          1.4141,
          1.5152,
          1.6162,
          1.7172,
          1.8182,
          1.9192,
          2.0202,
          2.1212,
          2.2222,
          2.3232,
          2.4242,
          2.5253,
          2.6263,
          2.7273,
          2.8283,
          2.9293,
          3.0303,
          3.1313,
          3.2323,
          3.3333,
          3.4343,
          3.5354,
          3.6364,
          3.7374,
          3.8384,
          3.9394,
          4.0404,
          4.1414,
          4.2424,
          4.3434,
          4.4444,
          4.5455,
          4.6465,
          4.7475,
          4.8485,
          4.9495
         ],
         "y": [
          0.9897,
          1.3997852280943777,
          1.665309291643366,
          1.769800439337772,
          1.7119052169420501,
          1.5044928545032736,
          1.1737537399129518,
          0.7550182851305647,
          0.2898231686091115,
          -0.1782126954374353,
          -0.6073660562736822,
          -0.9614229450575856,
          -1.2126248472815124,
          -1.343718553135018,
          -1.3489717015276423,
          -1.2339460360386965,
          -1.0150065364820633,
          -0.7166691638661118,
          -0.36935018140841774,
          -0.006319818619492254,
          0.33939421631374256,
          0.6379292259638742,
          0.8650847671200825,
          1.0041940240086118,
          1.047233556920544,
          0.9950141844890265,
          0.8569680220549861,
          0.649581474400455,
          0.39469484163969215,
          0.11729311602277388,
          -0.15686875014586615,
          -0.4035919813325766,
          -0.6023073312505138,
          -0.7377238288974641,
          -0.8009274071935025,
          -0.7898120944961395,
          -0.7090478222806077,
          -0.569264445743388,
          -0.38578769247030736,
          -0.17707056063234616,
          0.037100168625732635,
          0.23742761249461056,
          0.4067951056574739,
          0.5316796071064551,
          0.6031761535459328,
          0.6175477042677716,
          0.5763039887806596,
          0.4858887637168222,
          0.35675661186503976,
          0.2022871311682649
         ]
        }
       ],
       "layout": {
        "height": 500,
        "template": {
         "data": {
          "bar": [
           {
            "error_x": {
             "color": "#2a3f5f"
            },
            "error_y": {
             "color": "#2a3f5f"
            },
            "marker": {
             "line": {
              "color": "#E5ECF6",
              "width": 0.5
             },
             "pattern": {
              "fillmode": "overlay",
              "size": 10,
              "solidity": 0.2
             }
            },
            "type": "bar"
           }
          ],
          "barpolar": [
           {
            "marker": {
             "line": {
              "color": "#E5ECF6",
              "width": 0.5
             },
             "pattern": {
              "fillmode": "overlay",
              "size": 10,
              "solidity": 0.2
             }
            },
            "type": "barpolar"
           }
          ],
          "carpet": [
           {
            "aaxis": {
             "endlinecolor": "#2a3f5f",
             "gridcolor": "white",
             "linecolor": "white",
             "minorgridcolor": "white",
             "startlinecolor": "#2a3f5f"
            },
            "baxis": {
             "endlinecolor": "#2a3f5f",
             "gridcolor": "white",
             "linecolor": "white",
             "minorgridcolor": "white",
             "startlinecolor": "#2a3f5f"
            },
            "type": "carpet"
           }
          ],
          "choropleth": [
           {
            "colorbar": {
             "outlinewidth": 0,
             "ticks": ""
            },
            "type": "choropleth"
           }
          ],
          "contour": [
           {
            "colorbar": {
             "outlinewidth": 0,
             "ticks": ""
            },
            "colorscale": [
             [
              0,
              "#0d0887"
             ],
             [
              0.1111111111111111,
              "#46039f"
             ],
             [
              0.2222222222222222,
              "#7201a8"
             ],
             [
              0.3333333333333333,
              "#9c179e"
             ],
             [
              0.4444444444444444,
              "#bd3786"
             ],
             [
              0.5555555555555556,
              "#d8576b"
             ],
             [
              0.6666666666666666,
              "#ed7953"
             ],
             [
              0.7777777777777778,
              "#fb9f3a"
             ],
             [
              0.8888888888888888,
              "#fdca26"
             ],
             [
              1,
              "#f0f921"
             ]
            ],
            "type": "contour"
           }
          ],
          "contourcarpet": [
           {
            "colorbar": {
             "outlinewidth": 0,
             "ticks": ""
            },
            "type": "contourcarpet"
           }
          ],
          "heatmap": [
           {
            "colorbar": {
             "outlinewidth": 0,
             "ticks": ""
            },
            "colorscale": [
             [
              0,
              "#0d0887"
             ],
             [
              0.1111111111111111,
              "#46039f"
             ],
             [
              0.2222222222222222,
              "#7201a8"
             ],
             [
              0.3333333333333333,
              "#9c179e"
             ],
             [
              0.4444444444444444,
              "#bd3786"
             ],
             [
              0.5555555555555556,
              "#d8576b"
             ],
             [
              0.6666666666666666,
              "#ed7953"
             ],
             [
              0.7777777777777778,
              "#fb9f3a"
             ],
             [
              0.8888888888888888,
              "#fdca26"
             ],
             [
              1,
              "#f0f921"
             ]
            ],
            "type": "heatmap"
           }
          ],
          "heatmapgl": [
           {
            "colorbar": {
             "outlinewidth": 0,
             "ticks": ""
            },
            "colorscale": [
             [
              0,
              "#0d0887"
             ],
             [
              0.1111111111111111,
              "#46039f"
             ],
             [
              0.2222222222222222,
              "#7201a8"
             ],
             [
              0.3333333333333333,
              "#9c179e"
             ],
             [
              0.4444444444444444,
              "#bd3786"
             ],
             [
              0.5555555555555556,
              "#d8576b"
             ],
             [
              0.6666666666666666,
              "#ed7953"
             ],
             [
              0.7777777777777778,
              "#fb9f3a"
             ],
             [
              0.8888888888888888,
              "#fdca26"
             ],
             [
              1,
              "#f0f921"
             ]
            ],
            "type": "heatmapgl"
           }
          ],
          "histogram": [
           {
            "marker": {
             "pattern": {
              "fillmode": "overlay",
              "size": 10,
              "solidity": 0.2
             }
            },
            "type": "histogram"
           }
          ],
          "histogram2d": [
           {
            "colorbar": {
             "outlinewidth": 0,
             "ticks": ""
            },
            "colorscale": [
             [
              0,
              "#0d0887"
             ],
             [
              0.1111111111111111,
              "#46039f"
             ],
             [
              0.2222222222222222,
              "#7201a8"
             ],
             [
              0.3333333333333333,
              "#9c179e"
             ],
             [
              0.4444444444444444,
              "#bd3786"
             ],
             [
              0.5555555555555556,
              "#d8576b"
             ],
             [
              0.6666666666666666,
              "#ed7953"
             ],
             [
              0.7777777777777778,
              "#fb9f3a"
             ],
             [
              0.8888888888888888,
              "#fdca26"
             ],
             [
              1,
              "#f0f921"
             ]
            ],
            "type": "histogram2d"
           }
          ],
          "histogram2dcontour": [
           {
            "colorbar": {
             "outlinewidth": 0,
             "ticks": ""
            },
            "colorscale": [
             [
              0,
              "#0d0887"
             ],
             [
              0.1111111111111111,
              "#46039f"
             ],
             [
              0.2222222222222222,
              "#7201a8"
             ],
             [
              0.3333333333333333,
              "#9c179e"
             ],
             [
              0.4444444444444444,
              "#bd3786"
             ],
             [
              0.5555555555555556,
              "#d8576b"
             ],
             [
              0.6666666666666666,
              "#ed7953"
             ],
             [
              0.7777777777777778,
              "#fb9f3a"
             ],
             [
              0.8888888888888888,
              "#fdca26"
             ],
             [
              1,
              "#f0f921"
             ]
            ],
            "type": "histogram2dcontour"
           }
          ],
          "mesh3d": [
           {
            "colorbar": {
             "outlinewidth": 0,
             "ticks": ""
            },
            "type": "mesh3d"
           }
          ],
          "parcoords": [
           {
            "line": {
             "colorbar": {
              "outlinewidth": 0,
              "ticks": ""
             }
            },
            "type": "parcoords"
           }
          ],
          "pie": [
           {
            "automargin": true,
            "type": "pie"
           }
          ],
          "scatter": [
           {
            "fillpattern": {
             "fillmode": "overlay",
             "size": 10,
             "solidity": 0.2
            },
            "type": "scatter"
           }
          ],
          "scatter3d": [
           {
            "line": {
             "colorbar": {
              "outlinewidth": 0,
              "ticks": ""
             }
            },
            "marker": {
             "colorbar": {
              "outlinewidth": 0,
              "ticks": ""
             }
            },
            "type": "scatter3d"
           }
          ],
          "scattercarpet": [
           {
            "marker": {
             "colorbar": {
              "outlinewidth": 0,
              "ticks": ""
             }
            },
            "type": "scattercarpet"
           }
          ],
          "scattergeo": [
           {
            "marker": {
             "colorbar": {
              "outlinewidth": 0,
              "ticks": ""
             }
            },
            "type": "scattergeo"
           }
          ],
          "scattergl": [
           {
            "marker": {
             "colorbar": {
              "outlinewidth": 0,
              "ticks": ""
             }
            },
            "type": "scattergl"
           }
          ],
          "scattermapbox": [
           {
            "marker": {
             "colorbar": {
              "outlinewidth": 0,
              "ticks": ""
             }
            },
            "type": "scattermapbox"
           }
          ],
          "scatterpolar": [
           {
            "marker": {
             "colorbar": {
              "outlinewidth": 0,
              "ticks": ""
             }
            },
            "type": "scatterpolar"
           }
          ],
          "scatterpolargl": [
           {
            "marker": {
             "colorbar": {
              "outlinewidth": 0,
              "ticks": ""
             }
            },
            "type": "scatterpolargl"
           }
          ],
          "scatterternary": [
           {
            "marker": {
             "colorbar": {
              "outlinewidth": 0,
              "ticks": ""
             }
            },
            "type": "scatterternary"
           }
          ],
          "surface": [
           {
            "colorbar": {
             "outlinewidth": 0,
             "ticks": ""
            },
            "colorscale": [
             [
              0,
              "#0d0887"
             ],
             [
              0.1111111111111111,
              "#46039f"
             ],
             [
              0.2222222222222222,
              "#7201a8"
             ],
             [
              0.3333333333333333,
              "#9c179e"
             ],
             [
              0.4444444444444444,
              "#bd3786"
             ],
             [
              0.5555555555555556,
              "#d8576b"
             ],
             [
              0.6666666666666666,
              "#ed7953"
             ],
             [
              0.7777777777777778,
              "#fb9f3a"
             ],
             [
              0.8888888888888888,
              "#fdca26"
             ],
             [
              1,
              "#f0f921"
             ]
            ],
            "type": "surface"
           }
          ],
          "table": [
           {
            "cells": {
             "fill": {
              "color": "#EBF0F8"
             },
             "line": {
              "color": "white"
             }
            },
            "header": {
             "fill": {
              "color": "#C8D4E3"
             },
             "line": {
              "color": "white"
             }
            },
            "type": "table"
           }
          ]
         },
         "layout": {
          "annotationdefaults": {
           "arrowcolor": "#2a3f5f",
           "arrowhead": 0,
           "arrowwidth": 1
          },
          "autotypenumbers": "strict",
          "coloraxis": {
           "colorbar": {
            "outlinewidth": 0,
            "ticks": ""
           }
          },
          "colorscale": {
           "diverging": [
            [
             0,
             "#8e0152"
            ],
            [
             0.1,
             "#c51b7d"
            ],
            [
             0.2,
             "#de77ae"
            ],
            [
             0.3,
             "#f1b6da"
            ],
            [
             0.4,
             "#fde0ef"
            ],
            [
             0.5,
             "#f7f7f7"
            ],
            [
             0.6,
             "#e6f5d0"
            ],
            [
             0.7,
             "#b8e186"
            ],
            [
             0.8,
             "#7fbc41"
            ],
            [
             0.9,
             "#4d9221"
            ],
            [
             1,
             "#276419"
            ]
           ],
           "sequential": [
            [
             0,
             "#0d0887"
            ],
            [
             0.1111111111111111,
             "#46039f"
            ],
            [
             0.2222222222222222,
             "#7201a8"
            ],
            [
             0.3333333333333333,
             "#9c179e"
            ],
            [
             0.4444444444444444,
             "#bd3786"
            ],
            [
             0.5555555555555556,
             "#d8576b"
            ],
            [
             0.6666666666666666,
             "#ed7953"
            ],
            [
             0.7777777777777778,
             "#fb9f3a"
            ],
            [
             0.8888888888888888,
             "#fdca26"
            ],
            [
             1,
             "#f0f921"
            ]
           ],
           "sequentialminus": [
            [
             0,
             "#0d0887"
            ],
            [
             0.1111111111111111,
             "#46039f"
            ],
            [
             0.2222222222222222,
             "#7201a8"
            ],
            [
             0.3333333333333333,
             "#9c179e"
            ],
            [
             0.4444444444444444,
             "#bd3786"
            ],
            [
             0.5555555555555556,
             "#d8576b"
            ],
            [
             0.6666666666666666,
             "#ed7953"
            ],
            [
             0.7777777777777778,
             "#fb9f3a"
            ],
            [
             0.8888888888888888,
             "#fdca26"
            ],
            [
             1,
             "#f0f921"
            ]
           ]
          },
          "colorway": [
           "#636efa",
           "#EF553B",
           "#00cc96",
           "#ab63fa",
           "#FFA15A",
           "#19d3f3",
           "#FF6692",
           "#B6E880",
           "#FF97FF",
           "#FECB52"
          ],
          "font": {
           "color": "#2a3f5f"
          },
          "geo": {
           "bgcolor": "white",
           "lakecolor": "white",
           "landcolor": "#E5ECF6",
           "showlakes": true,
           "showland": true,
           "subunitcolor": "white"
          },
          "hoverlabel": {
           "align": "left"
          },
          "hovermode": "closest",
          "mapbox": {
           "style": "light"
          },
          "paper_bgcolor": "white",
          "plot_bgcolor": "#E5ECF6",
          "polar": {
           "angularaxis": {
            "gridcolor": "white",
            "linecolor": "white",
            "ticks": ""
           },
           "bgcolor": "#E5ECF6",
           "radialaxis": {
            "gridcolor": "white",
            "linecolor": "white",
            "ticks": ""
           }
          },
          "scene": {
           "xaxis": {
            "backgroundcolor": "#E5ECF6",
            "gridcolor": "white",
            "gridwidth": 2,
            "linecolor": "white",
            "showbackground": true,
            "ticks": "",
            "zerolinecolor": "white"
           },
           "yaxis": {
            "backgroundcolor": "#E5ECF6",
            "gridcolor": "white",
            "gridwidth": 2,
            "linecolor": "white",
            "showbackground": true,
            "ticks": "",
            "zerolinecolor": "white"
           },
           "zaxis": {
            "backgroundcolor": "#E5ECF6",
            "gridcolor": "white",
            "gridwidth": 2,
            "linecolor": "white",
            "showbackground": true,
            "ticks": "",
            "zerolinecolor": "white"
           }
          },
          "shapedefaults": {
           "line": {
            "color": "#2a3f5f"
           }
          },
          "ternary": {
           "aaxis": {
            "gridcolor": "white",
            "linecolor": "white",
            "ticks": ""
           },
           "baxis": {
            "gridcolor": "white",
            "linecolor": "white",
            "ticks": ""
           },
           "bgcolor": "#E5ECF6",
           "caxis": {
            "gridcolor": "white",
            "linecolor": "white",
            "ticks": ""
           }
          },
          "title": {
           "x": 0.05
          },
          "xaxis": {
           "automargin": true,
           "gridcolor": "white",
           "linecolor": "white",
           "ticks": "",
           "title": {
            "standoff": 15
           },
           "zerolinecolor": "white",
           "zerolinewidth": 2
          },
          "yaxis": {
           "automargin": true,
           "gridcolor": "white",
           "linecolor": "white",
           "ticks": "",
           "title": {
            "standoff": 15
           },
           "zerolinecolor": "white",
           "zerolinewidth": 2
          }
         }
        },
        "title": {
         "text": "Comparison of Data and Solution"
        },
        "width": 800,
        "xaxis": {
         "title": {
          "text": "Time"
         }
        },
        "yaxis": {
         "title": {
          "text": "x"
         }
        }
       }
      }
     },
     "metadata": {},
     "output_type": "display_data"
    }
   ],
   "source": [
    "## Recommended approach:\n",
    "## Create a mathematical model of a system of ODEs, v' = x'' and x' = v, and solve with odeint\n",
    "## Compare your solution model to your data, and calculate goodness of fit\n",
    "## Choose parameters that minimize your goodness of fit.\n",
    "## If you create your goodness of fit calculation as a function which takes parameters\n",
    "## you want to minimize as arguments, you could feed that to a minimization routine. I like\n",
    "## dual_annealing for problems like this as it searches for a global min, and also allows you\n",
    "## to input bounds which help to avoid the minimization getting too far out of the expected solution.\n",
    "\n",
    "# Extract t and x values from the DataFrame\n",
    "t_data = df['t'].values\n",
    "x_data = df['x'].values\n",
    "\n",
    "def model(y, t, gamma, y_value):\n",
    "    x, v = y\n",
    "    dydt = [v, -gamma * x - y_value * v]  # Define the system of ODEs\n",
    "    return dydt\n",
    "\n",
    "# Assuming you have initial conditions x0, v0, and values for gamma and y\n",
    "x0 = x_data[0]\n",
    "v0 = (x_data[1] - x_data[0]) / (t_data[1] - t_data[0])\n",
    "gamma = 9\n",
    "y_value = 0.5\n",
    "\n",
    "# Initial conditions\n",
    "y0 = [x0, v0]\n",
    "\n",
    "# Solve the ODE system using odeint\n",
    "solution = odeint(model, y0, t_data, args=(gamma, y_value))\n",
    "x_solution = solution[:, 0]\n",
    "v_solution = solution[:, 1]\n",
    "\n",
    "# Plot the comparison between data and solution\n",
    "fig = go.Figure()\n",
    "fig.add_trace(go.Scatter(x=t_data, y=x_data, mode='lines', name='Data'))\n",
    "fig.add_trace(go.Scatter(x=t_data, y=x_solution, mode='lines', name='Solution'))\n",
    "fig.update_layout(\n",
    "    title=\"Comparison of Data and Solution\",\n",
    "    xaxis_title=\"Time\",\n",
    "    yaxis_title=\"x\",\n",
    "    height = 500,\n",
    "    width = 800\n",
    ")\n",
    "fig.show()\n"
   ]
  },
  {
   "attachments": {},
   "cell_type": "markdown",
   "metadata": {},
   "source": [
    "#### Calculating the goodness of fit using Sum of Squared Residuals (SSR)"
   ]
  },
  {
   "cell_type": "code",
   "execution_count": 46,
   "metadata": {},
   "outputs": [
    {
     "name": "stdout",
     "output_type": "stream",
     "text": [
      "Sum of Squared Residuals (SSR): 0.18585343971623475\n"
     ]
    }
   ],
   "source": [
    "# Calculate the sum of squared residuals (SSR)\n",
    "ssr = np.sum((x_solution - x_data) ** 2)\n",
    "\n",
    "# Print the SSR value\n",
    "print(\"Sum of Squared Residuals (SSR):\", ssr)\n",
    "\n",
    "## print statement:\n",
    "## Sum of Squared Residuals (SSR): 0.18585343971623475\n",
    "\n",
    "## This SSR value indicates that the model fits the data pretty well. A perfect fit would be 0, but I doubt that we'll get that"
   ]
  },
  {
   "attachments": {},
   "cell_type": "markdown",
   "metadata": {},
   "source": [
    "#### Finding optimal parameters for best fit"
   ]
  },
  {
   "cell_type": "code",
   "execution_count": 51,
   "metadata": {},
   "outputs": [
    {
     "data": {
      "application/vnd.plotly.v1+json": {
       "config": {
        "plotlyServerURL": "https://plot.ly"
       },
       "data": [
        {
         "mode": "lines",
         "name": "Data",
         "type": "scatter",
         "x": [
          0,
          0.101,
          0.202,
          0.303,
          0.404,
          0.5051,
          0.6061,
          0.7071,
          0.8081,
          0.9091,
          1.0101,
          1.1111,
          1.2121,
          1.3131,
          1.4141,
          1.5152,
          1.6162,
          1.7172,
          1.8182,
          1.9192,
          2.0202,
          2.1212,
          2.2222,
          2.3232,
          2.4242,
          2.5253,
          2.6263,
          2.7273,
          2.8283,
          2.9293,
          3.0303,
          3.1313,
          3.2323,
          3.3333,
          3.4343,
          3.5354,
          3.6364,
          3.7374,
          3.8384,
          3.9394,
          4.0404,
          4.1414,
          4.2424,
          4.3434,
          4.4444,
          4.5455,
          4.6465,
          4.7475,
          4.8485,
          4.9495
         ],
         "y": [
          0.9897,
          1.4629,
          1.7087,
          1.8007,
          1.7923,
          1.5237,
          1.1797,
          0.7324,
          0.2835,
          -0.0576,
          -0.512,
          -0.9141,
          -1.3451,
          -1.3856,
          -1.4163,
          -1.3057,
          -1.0515,
          -0.8265,
          -0.3902,
          0.0431,
          0.2679,
          0.715,
          0.8768,
          0.9858,
          1.0184,
          0.9579,
          0.9728,
          0.6326,
          0.3394,
          0.0666,
          -0.1919,
          -0.4847,
          -0.6126,
          -0.7115,
          -0.9033,
          -0.808,
          -0.7005,
          -0.6278,
          -0.375,
          -0.1087,
          0.0951,
          0.2281,
          0.3932,
          0.5382,
          0.5575,
          0.5752,
          0.6646,
          0.5747,
          0.3088,
          0.3213
         ]
        },
        {
         "mode": "lines",
         "name": "Optimal Solution",
         "type": "scatter",
         "x": [
          0,
          0.101,
          0.202,
          0.303,
          0.404,
          0.5051,
          0.6061,
          0.7071,
          0.8081,
          0.9091,
          1.0101,
          1.1111,
          1.2121,
          1.3131,
          1.4141,
          1.5152,
          1.6162,
          1.7172,
          1.8182,
          1.9192,
          2.0202,
          2.1212,
          2.2222,
          2.3232,
          2.4242,
          2.5253,
          2.6263,
          2.7273,
          2.8283,
          2.9293,
          3.0303,
          3.1313,
          3.2323,
          3.3333,
          3.4343,
          3.5354,
          3.6364,
          3.7374,
          3.8384,
          3.9394,
          4.0404,
          4.1414,
          4.2424,
          4.3434,
          4.4444,
          4.5455,
          4.6465,
          4.7475,
          4.8485,
          4.9495
         ],
         "y": [
          0.9897,
          1.4002945306920167,
          1.6671290417425844,
          1.7733205597442956,
          1.7170474040736152,
          1.5107271337597017,
          1.180179040901432,
          0.7605045246374431,
          0.29318253958664686,
          -0.17804172598851697,
          -0.6111478579936318,
          -0.9694892026957298,
          -1.224791881966036,
          -1.3592685702403804,
          -1.3667011836705494,
          -1.252276152949542,
          -1.032143027809545,
          -0.7307983104440646,
          -0.37884080213316096,
          -0.0099139484178924,
          0.34242519048481923,
          0.6476810586056481,
          0.880982102189647,
          1.0250225852719468,
          1.0712407809797613,
          1.0200686550917784,
          0.8807600770664267,
          0.6698529184869791,
          0.40946171552766114,
          0.1250471605509874,
          -0.15700275298933591,
          -0.4117593876701141,
          -0.6178975388014643,
          -0.7594181011074412,
          -0.8268162490346782,
          -0.817571726229058,
          -0.7361530299459361,
          -0.5932331118586485,
          -0.40441246334840364,
          -0.18862802380852894,
          0.03368601567419384,
          0.2424832954627392,
          0.4198666255369319,
          0.551575173911873,
          0.6280783447528782,
          0.6451854910711613,
          0.6041582453163529,
          0.5114359247975513,
          0.3776981406197798,
          0.21676022756304184
         ]
        }
       ],
       "layout": {
        "height": 500,
        "template": {
         "data": {
          "bar": [
           {
            "error_x": {
             "color": "#2a3f5f"
            },
            "error_y": {
             "color": "#2a3f5f"
            },
            "marker": {
             "line": {
              "color": "#E5ECF6",
              "width": 0.5
             },
             "pattern": {
              "fillmode": "overlay",
              "size": 10,
              "solidity": 0.2
             }
            },
            "type": "bar"
           }
          ],
          "barpolar": [
           {
            "marker": {
             "line": {
              "color": "#E5ECF6",
              "width": 0.5
             },
             "pattern": {
              "fillmode": "overlay",
              "size": 10,
              "solidity": 0.2
             }
            },
            "type": "barpolar"
           }
          ],
          "carpet": [
           {
            "aaxis": {
             "endlinecolor": "#2a3f5f",
             "gridcolor": "white",
             "linecolor": "white",
             "minorgridcolor": "white",
             "startlinecolor": "#2a3f5f"
            },
            "baxis": {
             "endlinecolor": "#2a3f5f",
             "gridcolor": "white",
             "linecolor": "white",
             "minorgridcolor": "white",
             "startlinecolor": "#2a3f5f"
            },
            "type": "carpet"
           }
          ],
          "choropleth": [
           {
            "colorbar": {
             "outlinewidth": 0,
             "ticks": ""
            },
            "type": "choropleth"
           }
          ],
          "contour": [
           {
            "colorbar": {
             "outlinewidth": 0,
             "ticks": ""
            },
            "colorscale": [
             [
              0,
              "#0d0887"
             ],
             [
              0.1111111111111111,
              "#46039f"
             ],
             [
              0.2222222222222222,
              "#7201a8"
             ],
             [
              0.3333333333333333,
              "#9c179e"
             ],
             [
              0.4444444444444444,
              "#bd3786"
             ],
             [
              0.5555555555555556,
              "#d8576b"
             ],
             [
              0.6666666666666666,
              "#ed7953"
             ],
             [
              0.7777777777777778,
              "#fb9f3a"
             ],
             [
              0.8888888888888888,
              "#fdca26"
             ],
             [
              1,
              "#f0f921"
             ]
            ],
            "type": "contour"
           }
          ],
          "contourcarpet": [
           {
            "colorbar": {
             "outlinewidth": 0,
             "ticks": ""
            },
            "type": "contourcarpet"
           }
          ],
          "heatmap": [
           {
            "colorbar": {
             "outlinewidth": 0,
             "ticks": ""
            },
            "colorscale": [
             [
              0,
              "#0d0887"
             ],
             [
              0.1111111111111111,
              "#46039f"
             ],
             [
              0.2222222222222222,
              "#7201a8"
             ],
             [
              0.3333333333333333,
              "#9c179e"
             ],
             [
              0.4444444444444444,
              "#bd3786"
             ],
             [
              0.5555555555555556,
              "#d8576b"
             ],
             [
              0.6666666666666666,
              "#ed7953"
             ],
             [
              0.7777777777777778,
              "#fb9f3a"
             ],
             [
              0.8888888888888888,
              "#fdca26"
             ],
             [
              1,
              "#f0f921"
             ]
            ],
            "type": "heatmap"
           }
          ],
          "heatmapgl": [
           {
            "colorbar": {
             "outlinewidth": 0,
             "ticks": ""
            },
            "colorscale": [
             [
              0,
              "#0d0887"
             ],
             [
              0.1111111111111111,
              "#46039f"
             ],
             [
              0.2222222222222222,
              "#7201a8"
             ],
             [
              0.3333333333333333,
              "#9c179e"
             ],
             [
              0.4444444444444444,
              "#bd3786"
             ],
             [
              0.5555555555555556,
              "#d8576b"
             ],
             [
              0.6666666666666666,
              "#ed7953"
             ],
             [
              0.7777777777777778,
              "#fb9f3a"
             ],
             [
              0.8888888888888888,
              "#fdca26"
             ],
             [
              1,
              "#f0f921"
             ]
            ],
            "type": "heatmapgl"
           }
          ],
          "histogram": [
           {
            "marker": {
             "pattern": {
              "fillmode": "overlay",
              "size": 10,
              "solidity": 0.2
             }
            },
            "type": "histogram"
           }
          ],
          "histogram2d": [
           {
            "colorbar": {
             "outlinewidth": 0,
             "ticks": ""
            },
            "colorscale": [
             [
              0,
              "#0d0887"
             ],
             [
              0.1111111111111111,
              "#46039f"
             ],
             [
              0.2222222222222222,
              "#7201a8"
             ],
             [
              0.3333333333333333,
              "#9c179e"
             ],
             [
              0.4444444444444444,
              "#bd3786"
             ],
             [
              0.5555555555555556,
              "#d8576b"
             ],
             [
              0.6666666666666666,
              "#ed7953"
             ],
             [
              0.7777777777777778,
              "#fb9f3a"
             ],
             [
              0.8888888888888888,
              "#fdca26"
             ],
             [
              1,
              "#f0f921"
             ]
            ],
            "type": "histogram2d"
           }
          ],
          "histogram2dcontour": [
           {
            "colorbar": {
             "outlinewidth": 0,
             "ticks": ""
            },
            "colorscale": [
             [
              0,
              "#0d0887"
             ],
             [
              0.1111111111111111,
              "#46039f"
             ],
             [
              0.2222222222222222,
              "#7201a8"
             ],
             [
              0.3333333333333333,
              "#9c179e"
             ],
             [
              0.4444444444444444,
              "#bd3786"
             ],
             [
              0.5555555555555556,
              "#d8576b"
             ],
             [
              0.6666666666666666,
              "#ed7953"
             ],
             [
              0.7777777777777778,
              "#fb9f3a"
             ],
             [
              0.8888888888888888,
              "#fdca26"
             ],
             [
              1,
              "#f0f921"
             ]
            ],
            "type": "histogram2dcontour"
           }
          ],
          "mesh3d": [
           {
            "colorbar": {
             "outlinewidth": 0,
             "ticks": ""
            },
            "type": "mesh3d"
           }
          ],
          "parcoords": [
           {
            "line": {
             "colorbar": {
              "outlinewidth": 0,
              "ticks": ""
             }
            },
            "type": "parcoords"
           }
          ],
          "pie": [
           {
            "automargin": true,
            "type": "pie"
           }
          ],
          "scatter": [
           {
            "fillpattern": {
             "fillmode": "overlay",
             "size": 10,
             "solidity": 0.2
            },
            "type": "scatter"
           }
          ],
          "scatter3d": [
           {
            "line": {
             "colorbar": {
              "outlinewidth": 0,
              "ticks": ""
             }
            },
            "marker": {
             "colorbar": {
              "outlinewidth": 0,
              "ticks": ""
             }
            },
            "type": "scatter3d"
           }
          ],
          "scattercarpet": [
           {
            "marker": {
             "colorbar": {
              "outlinewidth": 0,
              "ticks": ""
             }
            },
            "type": "scattercarpet"
           }
          ],
          "scattergeo": [
           {
            "marker": {
             "colorbar": {
              "outlinewidth": 0,
              "ticks": ""
             }
            },
            "type": "scattergeo"
           }
          ],
          "scattergl": [
           {
            "marker": {
             "colorbar": {
              "outlinewidth": 0,
              "ticks": ""
             }
            },
            "type": "scattergl"
           }
          ],
          "scattermapbox": [
           {
            "marker": {
             "colorbar": {
              "outlinewidth": 0,
              "ticks": ""
             }
            },
            "type": "scattermapbox"
           }
          ],
          "scatterpolar": [
           {
            "marker": {
             "colorbar": {
              "outlinewidth": 0,
              "ticks": ""
             }
            },
            "type": "scatterpolar"
           }
          ],
          "scatterpolargl": [
           {
            "marker": {
             "colorbar": {
              "outlinewidth": 0,
              "ticks": ""
             }
            },
            "type": "scatterpolargl"
           }
          ],
          "scatterternary": [
           {
            "marker": {
             "colorbar": {
              "outlinewidth": 0,
              "ticks": ""
             }
            },
            "type": "scatterternary"
           }
          ],
          "surface": [
           {
            "colorbar": {
             "outlinewidth": 0,
             "ticks": ""
            },
            "colorscale": [
             [
              0,
              "#0d0887"
             ],
             [
              0.1111111111111111,
              "#46039f"
             ],
             [
              0.2222222222222222,
              "#7201a8"
             ],
             [
              0.3333333333333333,
              "#9c179e"
             ],
             [
              0.4444444444444444,
              "#bd3786"
             ],
             [
              0.5555555555555556,
              "#d8576b"
             ],
             [
              0.6666666666666666,
              "#ed7953"
             ],
             [
              0.7777777777777778,
              "#fb9f3a"
             ],
             [
              0.8888888888888888,
              "#fdca26"
             ],
             [
              1,
              "#f0f921"
             ]
            ],
            "type": "surface"
           }
          ],
          "table": [
           {
            "cells": {
             "fill": {
              "color": "#EBF0F8"
             },
             "line": {
              "color": "white"
             }
            },
            "header": {
             "fill": {
              "color": "#C8D4E3"
             },
             "line": {
              "color": "white"
             }
            },
            "type": "table"
           }
          ]
         },
         "layout": {
          "annotationdefaults": {
           "arrowcolor": "#2a3f5f",
           "arrowhead": 0,
           "arrowwidth": 1
          },
          "autotypenumbers": "strict",
          "coloraxis": {
           "colorbar": {
            "outlinewidth": 0,
            "ticks": ""
           }
          },
          "colorscale": {
           "diverging": [
            [
             0,
             "#8e0152"
            ],
            [
             0.1,
             "#c51b7d"
            ],
            [
             0.2,
             "#de77ae"
            ],
            [
             0.3,
             "#f1b6da"
            ],
            [
             0.4,
             "#fde0ef"
            ],
            [
             0.5,
             "#f7f7f7"
            ],
            [
             0.6,
             "#e6f5d0"
            ],
            [
             0.7,
             "#b8e186"
            ],
            [
             0.8,
             "#7fbc41"
            ],
            [
             0.9,
             "#4d9221"
            ],
            [
             1,
             "#276419"
            ]
           ],
           "sequential": [
            [
             0,
             "#0d0887"
            ],
            [
             0.1111111111111111,
             "#46039f"
            ],
            [
             0.2222222222222222,
             "#7201a8"
            ],
            [
             0.3333333333333333,
             "#9c179e"
            ],
            [
             0.4444444444444444,
             "#bd3786"
            ],
            [
             0.5555555555555556,
             "#d8576b"
            ],
            [
             0.6666666666666666,
             "#ed7953"
            ],
            [
             0.7777777777777778,
             "#fb9f3a"
            ],
            [
             0.8888888888888888,
             "#fdca26"
            ],
            [
             1,
             "#f0f921"
            ]
           ],
           "sequentialminus": [
            [
             0,
             "#0d0887"
            ],
            [
             0.1111111111111111,
             "#46039f"
            ],
            [
             0.2222222222222222,
             "#7201a8"
            ],
            [
             0.3333333333333333,
             "#9c179e"
            ],
            [
             0.4444444444444444,
             "#bd3786"
            ],
            [
             0.5555555555555556,
             "#d8576b"
            ],
            [
             0.6666666666666666,
             "#ed7953"
            ],
            [
             0.7777777777777778,
             "#fb9f3a"
            ],
            [
             0.8888888888888888,
             "#fdca26"
            ],
            [
             1,
             "#f0f921"
            ]
           ]
          },
          "colorway": [
           "#636efa",
           "#EF553B",
           "#00cc96",
           "#ab63fa",
           "#FFA15A",
           "#19d3f3",
           "#FF6692",
           "#B6E880",
           "#FF97FF",
           "#FECB52"
          ],
          "font": {
           "color": "#2a3f5f"
          },
          "geo": {
           "bgcolor": "white",
           "lakecolor": "white",
           "landcolor": "#E5ECF6",
           "showlakes": true,
           "showland": true,
           "subunitcolor": "white"
          },
          "hoverlabel": {
           "align": "left"
          },
          "hovermode": "closest",
          "mapbox": {
           "style": "light"
          },
          "paper_bgcolor": "white",
          "plot_bgcolor": "#E5ECF6",
          "polar": {
           "angularaxis": {
            "gridcolor": "white",
            "linecolor": "white",
            "ticks": ""
           },
           "bgcolor": "#E5ECF6",
           "radialaxis": {
            "gridcolor": "white",
            "linecolor": "white",
            "ticks": ""
           }
          },
          "scene": {
           "xaxis": {
            "backgroundcolor": "#E5ECF6",
            "gridcolor": "white",
            "gridwidth": 2,
            "linecolor": "white",
            "showbackground": true,
            "ticks": "",
            "zerolinecolor": "white"
           },
           "yaxis": {
            "backgroundcolor": "#E5ECF6",
            "gridcolor": "white",
            "gridwidth": 2,
            "linecolor": "white",
            "showbackground": true,
            "ticks": "",
            "zerolinecolor": "white"
           },
           "zaxis": {
            "backgroundcolor": "#E5ECF6",
            "gridcolor": "white",
            "gridwidth": 2,
            "linecolor": "white",
            "showbackground": true,
            "ticks": "",
            "zerolinecolor": "white"
           }
          },
          "shapedefaults": {
           "line": {
            "color": "#2a3f5f"
           }
          },
          "ternary": {
           "aaxis": {
            "gridcolor": "white",
            "linecolor": "white",
            "ticks": ""
           },
           "baxis": {
            "gridcolor": "white",
            "linecolor": "white",
            "ticks": ""
           },
           "bgcolor": "#E5ECF6",
           "caxis": {
            "gridcolor": "white",
            "linecolor": "white",
            "ticks": ""
           }
          },
          "title": {
           "x": 0.05
          },
          "xaxis": {
           "automargin": true,
           "gridcolor": "white",
           "linecolor": "white",
           "ticks": "",
           "title": {
            "standoff": 15
           },
           "zerolinecolor": "white",
           "zerolinewidth": 2
          },
          "yaxis": {
           "automargin": true,
           "gridcolor": "white",
           "linecolor": "white",
           "ticks": "",
           "title": {
            "standoff": 15
           },
           "zerolinecolor": "white",
           "zerolinewidth": 2
          }
         }
        },
        "title": {
         "text": "Comparison of Data and Optimal Solution"
        },
        "width": 800,
        "xaxis": {
         "title": {
          "text": "Time"
         }
        },
        "yaxis": {
         "title": {
          "text": "x"
         }
        }
       }
      }
     },
     "metadata": {},
     "output_type": "display_data"
    },
    {
     "name": "stdout",
     "output_type": "stream",
     "text": [
      "Optimal gamma: 8.984328830122326\n",
      "Optimal y_value: 0.48025199718743383\n",
      "Sum of Squared Residuals (SSR): 0.1725562486954426\n"
     ]
    }
   ],
   "source": [
    "## Choose parameters that minimize your goodness of fit\n",
    "## In this case our parameters are gamma and y_value\n",
    "\n",
    "## Create a function that takes these parameters as arguments, the function will serve as a minimization routine.\n",
    "## Choosing dual_annealing to search for the global min.\n",
    "\n",
    "def calculate_ssr(params):\n",
    "    gamma = params[0]\n",
    "    y_value = params[1]\n",
    "    \n",
    "    # Assuming you have initial conditions x0, v0\n",
    "    x0 = x_data[0]\n",
    "    v0 = (x_data[1] - x_data[0]) / (t_data[1] - t_data[0])\n",
    "    \n",
    "    # Initial conditions\n",
    "    y0 = [x0, v0]\n",
    "    \n",
    "    # Solve the ODE system using odeint\n",
    "    solution = odeint(model, y0, t_data, args=(gamma, y_value))\n",
    "    x_solution = solution[:, 0]\n",
    "    \n",
    "    # Calculate the sum of squared residuals (SSR)\n",
    "    ssr = np.sum((x_solution - x_data) ** 2)\n",
    "    return ssr\n",
    "\n",
    "# Define the bounds for gamma and y_value\n",
    "bounds = [(0, 100), (0, 10)]\n",
    "\n",
    "# Minimize the SSR using dual_annealing\n",
    "result = dual_annealing(calculate_ssr, bounds=bounds)\n",
    "\n",
    "# Get the optimal values of gamma and y_value\n",
    "gamma_optimal = result.x[0]\n",
    "y_value_optimal = result.x[1]\n",
    "\n",
    "# Solve the ODE system with the optimal gamma and y_value\n",
    "x0 = x_data[0]\n",
    "v0 = (x_data[1] - x_data[0]) / (t_data[1] - t_data[0])\n",
    "y0 = [x0, v0]\n",
    "solution = odeint(model, y0, t_data, args=(gamma_optimal, y_value_optimal))\n",
    "x_solution = solution[:, 0]\n",
    "\n",
    "## Plot the comparison between data and optimal solution\n",
    "fig = go.Figure()\n",
    "fig.add_trace(go.Scatter(x=t_data, y=x_data, mode='lines', name='Data'))\n",
    "fig.add_trace(go.Scatter(x=t_data, y=x_solution, mode='lines', name='Optimal Solution'))\n",
    "fig.update_layout(\n",
    "    title=\"Comparison of Data and Optimal Solution\",\n",
    "    xaxis_title=\"Time\",\n",
    "    yaxis_title=\"x\",\n",
    "    height = 500,\n",
    "    width = 800\n",
    ")\n",
    "fig.show()\n",
    "\n",
    "print(f\"Optimal gamma: {gamma_optimal}\")\n",
    "print(f\"Optimal y_value: {y_value_optimal}\")\n",
    "\n",
    "# Calculate the sum of squared residuals (SSR)\n",
    "ssr = np.sum((x_solution - x_data) ** 2)\n",
    "\n",
    "# Print the SSR value\n",
    "print(\"Sum of Squared Residuals (SSR):\", ssr)"
   ]
  },
  {
   "attachments": {},
   "cell_type": "markdown",
   "metadata": {},
   "source": [
    "##### NOTE:\n",
    "\n",
    "I want to make clear that I ended up using ChatGPT for most of the coding, I had a pretty good understanding of how to create, run and analyze these type of problems. All I had to do was explicitly ask ChatGPT what I wanted to create and how I wanted it create along with what the results I was expecting. ChatGPT basically falicitized the coding time. I want to be as honest as possible with the work I submit."
   ]
  },
  {
   "cell_type": "code",
   "execution_count": null,
   "metadata": {},
   "outputs": [],
   "source": []
  }
 ],
 "metadata": {
  "kernelspec": {
   "display_name": "base",
   "language": "python",
   "name": "python3"
  },
  "language_info": {
   "codemirror_mode": {
    "name": "ipython",
    "version": 3
   },
   "file_extension": ".py",
   "mimetype": "text/x-python",
   "name": "python",
   "nbconvert_exporter": "python",
   "pygments_lexer": "ipython3",
   "version": "3.9.12"
  },
  "orig_nbformat": 4
 },
 "nbformat": 4,
 "nbformat_minor": 2
}
