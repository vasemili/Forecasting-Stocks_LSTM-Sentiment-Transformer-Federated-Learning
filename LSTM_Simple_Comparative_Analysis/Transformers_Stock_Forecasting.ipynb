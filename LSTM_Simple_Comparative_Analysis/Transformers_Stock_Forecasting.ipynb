{
 "cells": [
  {
   "attachments": {},
   "cell_type": "markdown",
   "metadata": {},
   "source": [
    "# Transformers stock prediction"
   ]
  },
  {
   "cell_type": "code",
   "execution_count": 22,
   "metadata": {},
   "outputs": [
    {
     "name": "stdout",
     "output_type": "stream",
     "text": [
      "Epoch 1/10\n",
      "3/3 [==============================] - 4s 304ms/step - loss: 0.1927 - val_loss: 0.2526\n",
      "Epoch 2/10\n",
      "3/3 [==============================] - 0s 28ms/step - loss: 0.1905 - val_loss: 0.2497\n",
      "Epoch 3/10\n",
      "3/3 [==============================] - 0s 29ms/step - loss: 0.1883 - val_loss: 0.2470\n",
      "Epoch 4/10\n",
      "3/3 [==============================] - 0s 24ms/step - loss: 0.1860 - val_loss: 0.2442\n",
      "Epoch 5/10\n",
      "3/3 [==============================] - 0s 33ms/step - loss: 0.1838 - val_loss: 0.2414\n",
      "Epoch 6/10\n",
      "3/3 [==============================] - 0s 29ms/step - loss: 0.1817 - val_loss: 0.2387\n",
      "Epoch 7/10\n",
      "3/3 [==============================] - 0s 29ms/step - loss: 0.1795 - val_loss: 0.2360\n",
      "Epoch 8/10\n",
      "3/3 [==============================] - 0s 40ms/step - loss: 0.1774 - val_loss: 0.2333\n",
      "Epoch 9/10\n",
      "3/3 [==============================] - 0s 32ms/step - loss: 0.1754 - val_loss: 0.2306\n",
      "Epoch 10/10\n",
      "3/3 [==============================] - 0s 30ms/step - loss: 0.1733 - val_loss: 0.2280\n",
      "1/1 [==============================] - 0s 56ms/step - loss: 0.2280\n",
      "Test Loss: 0.22799554467201233\n",
      "1/1 [==============================] - 0s 369ms/step\n"
     ]
    },
    {
     "data": {
      "application/vnd.plotly.v1+json": {
       "config": {
        "plotlyServerURL": "https://plot.ly"
       },
       "data": [
        {
         "mode": "lines",
         "name": "Predicted",
         "type": "scatter",
         "x": [
          "2022-09-15",
          "2022-09-16",
          "2022-09-19",
          "2022-09-20",
          "2022-09-21",
          "2022-09-22",
          "2022-09-23",
          "2022-09-26",
          "2022-09-27",
          "2022-09-28",
          "2022-09-29",
          "2022-09-30",
          "2022-10-03",
          "2022-10-04",
          "2022-10-05",
          "2022-10-06"
         ],
         "y": [
          213.63381958007812,
          213.63381958007812,
          213.63381958007812,
          213.63381958007812,
          213.63381958007812,
          213.63381958007812,
          213.63381958007812,
          213.63381958007812,
          213.63381958007812,
          213.63381958007812,
          213.63381958007812,
          213.63381958007812,
          213.63381958007812,
          213.63381958007812,
          213.63381958007812,
          213.63381958007812,
          213.63381958007812,
          213.63381958007812,
          213.63381958007812,
          213.63381958007812,
          213.63381958007812,
          213.63381958007812,
          213.63381958007812,
          213.63381958007812,
          213.63381958007812,
          213.63381958007812,
          213.63381958007812,
          213.63381958007812,
          213.63381958007812,
          213.63381958007812,
          213.63381958007812,
          213.63381958007812,
          213.63381958007812,
          213.63381958007812,
          213.63381958007812,
          213.63381958007812,
          213.63381958007812,
          213.63381958007812,
          213.63381958007812,
          213.63381958007812,
          213.63381958007812,
          213.63381958007812,
          213.63381958007812,
          213.63381958007812,
          213.63381958007812,
          213.63381958007812,
          213.63381958007812,
          213.63381958007812,
          213.63381958007812,
          213.63381958007812,
          213.63381958007812,
          213.63381958007812,
          213.63381958007812,
          213.63381958007812,
          213.63381958007812,
          213.63381958007812,
          213.63381958007812,
          213.63381958007812,
          213.63381958007812,
          213.63381958007812,
          213.63381958007812,
          213.63381958007812,
          213.63381958007812,
          213.63381958007812,
          213.63381958007812,
          213.63381958007812,
          213.63381958007812,
          213.63381958007812,
          213.63381958007812,
          213.63381958007812,
          213.63381958007812,
          213.63381958007812,
          213.63381958007812,
          213.63381958007812,
          213.63381958007812,
          213.63381958007812,
          213.63381958007812,
          213.63381958007812,
          213.63381958007812,
          213.63381958007812,
          213.63381958007812,
          213.63381958007812,
          213.63381958007812,
          213.63381958007812,
          213.63381958007812,
          213.63381958007812,
          213.63381958007812,
          213.63381958007812,
          213.63381958007812,
          213.63381958007812,
          213.63381958007812,
          213.63381958007812,
          213.63381958007812,
          213.63381958007812,
          213.63381958007812,
          213.63381958007812,
          213.63381958007812,
          213.63381958007812,
          213.63381958007812,
          213.63381958007812,
          213.63381958007812,
          213.63381958007812,
          213.63381958007812,
          213.63381958007812,
          213.63381958007812,
          213.63381958007812,
          213.63381958007812,
          213.63381958007812,
          213.63381958007812,
          213.63381958007812,
          213.63381958007812,
          213.63381958007812,
          213.63381958007812,
          213.63381958007812,
          213.63381958007812,
          213.63381958007812,
          213.63381958007812,
          213.63381958007812,
          213.63381958007812,
          213.63381958007812,
          213.63381958007812,
          213.63381958007812,
          213.63381958007812,
          213.63381958007812,
          213.63381958007812,
          213.63381958007812,
          213.63381958007812,
          213.63381958007812,
          213.63381958007812,
          213.63381958007812,
          213.63381958007812,
          213.63381958007812,
          213.63381958007812,
          213.63381958007812,
          213.63381958007812,
          213.63381958007812,
          213.63381958007812,
          213.63381958007812,
          213.63381958007812,
          213.63381958007812,
          213.63381958007812,
          213.63381958007812,
          213.63381958007812,
          213.63381958007812,
          213.63381958007812,
          213.63381958007812,
          213.63381958007812,
          213.63381958007812,
          213.63381958007812,
          213.63381958007812,
          213.63381958007812,
          213.63381958007812,
          213.63381958007812,
          213.63381958007812,
          213.63381958007812,
          213.63381958007812,
          213.63381958007812,
          213.63381958007812,
          213.63381958007812,
          213.63381958007812
         ]
        },
        {
         "mode": "lines",
         "name": "Actual",
         "type": "scatter",
         "x": [
          "2022-09-15",
          "2022-09-16",
          "2022-09-19",
          "2022-09-20",
          "2022-09-21",
          "2022-09-22",
          "2022-09-23",
          "2022-09-26",
          "2022-09-27",
          "2022-09-28",
          "2022-09-29",
          "2022-09-30",
          "2022-10-03",
          "2022-10-04",
          "2022-10-05",
          "2022-10-06"
         ],
         "y": [
          0.659729591716169,
          0.6569330828742448,
          0.6969237661652867,
          0.6945467259591367,
          0.6391049457420208,
          0.5537402888025964,
          0.46103456718552493,
          0.46578886433051214,
          0.5142390508394756,
          0.548287028744487,
          0.41125599108571476,
          0.3905615781607281,
          0.23080857232306817,
          0.28002792216136463,
          0.21969231089758523,
          0.20095546954297516
         ]
        }
       ],
       "layout": {
        "template": {
         "data": {
          "bar": [
           {
            "error_x": {
             "color": "#2a3f5f"
            },
            "error_y": {
             "color": "#2a3f5f"
            },
            "marker": {
             "line": {
              "color": "#E5ECF6",
              "width": 0.5
             },
             "pattern": {
              "fillmode": "overlay",
              "size": 10,
              "solidity": 0.2
             }
            },
            "type": "bar"
           }
          ],
          "barpolar": [
           {
            "marker": {
             "line": {
              "color": "#E5ECF6",
              "width": 0.5
             },
             "pattern": {
              "fillmode": "overlay",
              "size": 10,
              "solidity": 0.2
             }
            },
            "type": "barpolar"
           }
          ],
          "carpet": [
           {
            "aaxis": {
             "endlinecolor": "#2a3f5f",
             "gridcolor": "white",
             "linecolor": "white",
             "minorgridcolor": "white",
             "startlinecolor": "#2a3f5f"
            },
            "baxis": {
             "endlinecolor": "#2a3f5f",
             "gridcolor": "white",
             "linecolor": "white",
             "minorgridcolor": "white",
             "startlinecolor": "#2a3f5f"
            },
            "type": "carpet"
           }
          ],
          "choropleth": [
           {
            "colorbar": {
             "outlinewidth": 0,
             "ticks": ""
            },
            "type": "choropleth"
           }
          ],
          "contour": [
           {
            "colorbar": {
             "outlinewidth": 0,
             "ticks": ""
            },
            "colorscale": [
             [
              0,
              "#0d0887"
             ],
             [
              0.1111111111111111,
              "#46039f"
             ],
             [
              0.2222222222222222,
              "#7201a8"
             ],
             [
              0.3333333333333333,
              "#9c179e"
             ],
             [
              0.4444444444444444,
              "#bd3786"
             ],
             [
              0.5555555555555556,
              "#d8576b"
             ],
             [
              0.6666666666666666,
              "#ed7953"
             ],
             [
              0.7777777777777778,
              "#fb9f3a"
             ],
             [
              0.8888888888888888,
              "#fdca26"
             ],
             [
              1,
              "#f0f921"
             ]
            ],
            "type": "contour"
           }
          ],
          "contourcarpet": [
           {
            "colorbar": {
             "outlinewidth": 0,
             "ticks": ""
            },
            "type": "contourcarpet"
           }
          ],
          "heatmap": [
           {
            "colorbar": {
             "outlinewidth": 0,
             "ticks": ""
            },
            "colorscale": [
             [
              0,
              "#0d0887"
             ],
             [
              0.1111111111111111,
              "#46039f"
             ],
             [
              0.2222222222222222,
              "#7201a8"
             ],
             [
              0.3333333333333333,
              "#9c179e"
             ],
             [
              0.4444444444444444,
              "#bd3786"
             ],
             [
              0.5555555555555556,
              "#d8576b"
             ],
             [
              0.6666666666666666,
              "#ed7953"
             ],
             [
              0.7777777777777778,
              "#fb9f3a"
             ],
             [
              0.8888888888888888,
              "#fdca26"
             ],
             [
              1,
              "#f0f921"
             ]
            ],
            "type": "heatmap"
           }
          ],
          "heatmapgl": [
           {
            "colorbar": {
             "outlinewidth": 0,
             "ticks": ""
            },
            "colorscale": [
             [
              0,
              "#0d0887"
             ],
             [
              0.1111111111111111,
              "#46039f"
             ],
             [
              0.2222222222222222,
              "#7201a8"
             ],
             [
              0.3333333333333333,
              "#9c179e"
             ],
             [
              0.4444444444444444,
              "#bd3786"
             ],
             [
              0.5555555555555556,
              "#d8576b"
             ],
             [
              0.6666666666666666,
              "#ed7953"
             ],
             [
              0.7777777777777778,
              "#fb9f3a"
             ],
             [
              0.8888888888888888,
              "#fdca26"
             ],
             [
              1,
              "#f0f921"
             ]
            ],
            "type": "heatmapgl"
           }
          ],
          "histogram": [
           {
            "marker": {
             "pattern": {
              "fillmode": "overlay",
              "size": 10,
              "solidity": 0.2
             }
            },
            "type": "histogram"
           }
          ],
          "histogram2d": [
           {
            "colorbar": {
             "outlinewidth": 0,
             "ticks": ""
            },
            "colorscale": [
             [
              0,
              "#0d0887"
             ],
             [
              0.1111111111111111,
              "#46039f"
             ],
             [
              0.2222222222222222,
              "#7201a8"
             ],
             [
              0.3333333333333333,
              "#9c179e"
             ],
             [
              0.4444444444444444,
              "#bd3786"
             ],
             [
              0.5555555555555556,
              "#d8576b"
             ],
             [
              0.6666666666666666,
              "#ed7953"
             ],
             [
              0.7777777777777778,
              "#fb9f3a"
             ],
             [
              0.8888888888888888,
              "#fdca26"
             ],
             [
              1,
              "#f0f921"
             ]
            ],
            "type": "histogram2d"
           }
          ],
          "histogram2dcontour": [
           {
            "colorbar": {
             "outlinewidth": 0,
             "ticks": ""
            },
            "colorscale": [
             [
              0,
              "#0d0887"
             ],
             [
              0.1111111111111111,
              "#46039f"
             ],
             [
              0.2222222222222222,
              "#7201a8"
             ],
             [
              0.3333333333333333,
              "#9c179e"
             ],
             [
              0.4444444444444444,
              "#bd3786"
             ],
             [
              0.5555555555555556,
              "#d8576b"
             ],
             [
              0.6666666666666666,
              "#ed7953"
             ],
             [
              0.7777777777777778,
              "#fb9f3a"
             ],
             [
              0.8888888888888888,
              "#fdca26"
             ],
             [
              1,
              "#f0f921"
             ]
            ],
            "type": "histogram2dcontour"
           }
          ],
          "mesh3d": [
           {
            "colorbar": {
             "outlinewidth": 0,
             "ticks": ""
            },
            "type": "mesh3d"
           }
          ],
          "parcoords": [
           {
            "line": {
             "colorbar": {
              "outlinewidth": 0,
              "ticks": ""
             }
            },
            "type": "parcoords"
           }
          ],
          "pie": [
           {
            "automargin": true,
            "type": "pie"
           }
          ],
          "scatter": [
           {
            "fillpattern": {
             "fillmode": "overlay",
             "size": 10,
             "solidity": 0.2
            },
            "type": "scatter"
           }
          ],
          "scatter3d": [
           {
            "line": {
             "colorbar": {
              "outlinewidth": 0,
              "ticks": ""
             }
            },
            "marker": {
             "colorbar": {
              "outlinewidth": 0,
              "ticks": ""
             }
            },
            "type": "scatter3d"
           }
          ],
          "scattercarpet": [
           {
            "marker": {
             "colorbar": {
              "outlinewidth": 0,
              "ticks": ""
             }
            },
            "type": "scattercarpet"
           }
          ],
          "scattergeo": [
           {
            "marker": {
             "colorbar": {
              "outlinewidth": 0,
              "ticks": ""
             }
            },
            "type": "scattergeo"
           }
          ],
          "scattergl": [
           {
            "marker": {
             "colorbar": {
              "outlinewidth": 0,
              "ticks": ""
             }
            },
            "type": "scattergl"
           }
          ],
          "scattermapbox": [
           {
            "marker": {
             "colorbar": {
              "outlinewidth": 0,
              "ticks": ""
             }
            },
            "type": "scattermapbox"
           }
          ],
          "scatterpolar": [
           {
            "marker": {
             "colorbar": {
              "outlinewidth": 0,
              "ticks": ""
             }
            },
            "type": "scatterpolar"
           }
          ],
          "scatterpolargl": [
           {
            "marker": {
             "colorbar": {
              "outlinewidth": 0,
              "ticks": ""
             }
            },
            "type": "scatterpolargl"
           }
          ],
          "scatterternary": [
           {
            "marker": {
             "colorbar": {
              "outlinewidth": 0,
              "ticks": ""
             }
            },
            "type": "scatterternary"
           }
          ],
          "surface": [
           {
            "colorbar": {
             "outlinewidth": 0,
             "ticks": ""
            },
            "colorscale": [
             [
              0,
              "#0d0887"
             ],
             [
              0.1111111111111111,
              "#46039f"
             ],
             [
              0.2222222222222222,
              "#7201a8"
             ],
             [
              0.3333333333333333,
              "#9c179e"
             ],
             [
              0.4444444444444444,
              "#bd3786"
             ],
             [
              0.5555555555555556,
              "#d8576b"
             ],
             [
              0.6666666666666666,
              "#ed7953"
             ],
             [
              0.7777777777777778,
              "#fb9f3a"
             ],
             [
              0.8888888888888888,
              "#fdca26"
             ],
             [
              1,
              "#f0f921"
             ]
            ],
            "type": "surface"
           }
          ],
          "table": [
           {
            "cells": {
             "fill": {
              "color": "#EBF0F8"
             },
             "line": {
              "color": "white"
             }
            },
            "header": {
             "fill": {
              "color": "#C8D4E3"
             },
             "line": {
              "color": "white"
             }
            },
            "type": "table"
           }
          ]
         },
         "layout": {
          "annotationdefaults": {
           "arrowcolor": "#2a3f5f",
           "arrowhead": 0,
           "arrowwidth": 1
          },
          "autotypenumbers": "strict",
          "coloraxis": {
           "colorbar": {
            "outlinewidth": 0,
            "ticks": ""
           }
          },
          "colorscale": {
           "diverging": [
            [
             0,
             "#8e0152"
            ],
            [
             0.1,
             "#c51b7d"
            ],
            [
             0.2,
             "#de77ae"
            ],
            [
             0.3,
             "#f1b6da"
            ],
            [
             0.4,
             "#fde0ef"
            ],
            [
             0.5,
             "#f7f7f7"
            ],
            [
             0.6,
             "#e6f5d0"
            ],
            [
             0.7,
             "#b8e186"
            ],
            [
             0.8,
             "#7fbc41"
            ],
            [
             0.9,
             "#4d9221"
            ],
            [
             1,
             "#276419"
            ]
           ],
           "sequential": [
            [
             0,
             "#0d0887"
            ],
            [
             0.1111111111111111,
             "#46039f"
            ],
            [
             0.2222222222222222,
             "#7201a8"
            ],
            [
             0.3333333333333333,
             "#9c179e"
            ],
            [
             0.4444444444444444,
             "#bd3786"
            ],
            [
             0.5555555555555556,
             "#d8576b"
            ],
            [
             0.6666666666666666,
             "#ed7953"
            ],
            [
             0.7777777777777778,
             "#fb9f3a"
            ],
            [
             0.8888888888888888,
             "#fdca26"
            ],
            [
             1,
             "#f0f921"
            ]
           ],
           "sequentialminus": [
            [
             0,
             "#0d0887"
            ],
            [
             0.1111111111111111,
             "#46039f"
            ],
            [
             0.2222222222222222,
             "#7201a8"
            ],
            [
             0.3333333333333333,
             "#9c179e"
            ],
            [
             0.4444444444444444,
             "#bd3786"
            ],
            [
             0.5555555555555556,
             "#d8576b"
            ],
            [
             0.6666666666666666,
             "#ed7953"
            ],
            [
             0.7777777777777778,
             "#fb9f3a"
            ],
            [
             0.8888888888888888,
             "#fdca26"
            ],
            [
             1,
             "#f0f921"
            ]
           ]
          },
          "colorway": [
           "#636efa",
           "#EF553B",
           "#00cc96",
           "#ab63fa",
           "#FFA15A",
           "#19d3f3",
           "#FF6692",
           "#B6E880",
           "#FF97FF",
           "#FECB52"
          ],
          "font": {
           "color": "#2a3f5f"
          },
          "geo": {
           "bgcolor": "white",
           "lakecolor": "white",
           "landcolor": "#E5ECF6",
           "showlakes": true,
           "showland": true,
           "subunitcolor": "white"
          },
          "hoverlabel": {
           "align": "left"
          },
          "hovermode": "closest",
          "mapbox": {
           "style": "light"
          },
          "paper_bgcolor": "white",
          "plot_bgcolor": "#E5ECF6",
          "polar": {
           "angularaxis": {
            "gridcolor": "white",
            "linecolor": "white",
            "ticks": ""
           },
           "bgcolor": "#E5ECF6",
           "radialaxis": {
            "gridcolor": "white",
            "linecolor": "white",
            "ticks": ""
           }
          },
          "scene": {
           "xaxis": {
            "backgroundcolor": "#E5ECF6",
            "gridcolor": "white",
            "gridwidth": 2,
            "linecolor": "white",
            "showbackground": true,
            "ticks": "",
            "zerolinecolor": "white"
           },
           "yaxis": {
            "backgroundcolor": "#E5ECF6",
            "gridcolor": "white",
            "gridwidth": 2,
            "linecolor": "white",
            "showbackground": true,
            "ticks": "",
            "zerolinecolor": "white"
           },
           "zaxis": {
            "backgroundcolor": "#E5ECF6",
            "gridcolor": "white",
            "gridwidth": 2,
            "linecolor": "white",
            "showbackground": true,
            "ticks": "",
            "zerolinecolor": "white"
           }
          },
          "shapedefaults": {
           "line": {
            "color": "#2a3f5f"
           }
          },
          "ternary": {
           "aaxis": {
            "gridcolor": "white",
            "linecolor": "white",
            "ticks": ""
           },
           "baxis": {
            "gridcolor": "white",
            "linecolor": "white",
            "ticks": ""
           },
           "bgcolor": "#E5ECF6",
           "caxis": {
            "gridcolor": "white",
            "linecolor": "white",
            "ticks": ""
           }
          },
          "title": {
           "x": 0.05
          },
          "xaxis": {
           "automargin": true,
           "gridcolor": "white",
           "linecolor": "white",
           "ticks": "",
           "title": {
            "standoff": 15
           },
           "zerolinecolor": "white",
           "zerolinewidth": 2
          },
          "yaxis": {
           "automargin": true,
           "gridcolor": "white",
           "linecolor": "white",
           "ticks": "",
           "title": {
            "standoff": 15
           },
           "zerolinecolor": "white",
           "zerolinewidth": 2
          }
         }
        },
        "title": {
         "text": "Predicted vs Actual Stock Prices"
        },
        "xaxis": {
         "title": {
          "text": "Date"
         }
        },
        "yaxis": {
         "title": {
          "text": "Close"
         }
        }
       }
      }
     },
     "metadata": {},
     "output_type": "display_data"
    }
   ],
   "source": [
    "import numpy as np\n",
    "import pandas as pd\n",
    "import tensorflow as tf\n",
    "from sklearn.preprocessing import MinMaxScaler\n",
    "from tensorflow.keras.models import Model\n",
    "from tensorflow.keras.layers import Input, Dense, Dropout, LayerNormalization\n",
    "import plotly.graph_objects as go\n",
    "\n",
    "# Load the stock data\n",
    "df = pd.read_csv(r'C:\\Users\\emili\\Downloads\\Machine_Learning_SP_Course\\Machine_Learning_Project\\TSLA.csv')#, index_col = 'Date')\n",
    "df = df.drop(labels=range(0, len(df.index)-127), axis=0);\n",
    "\n",
    "# Preprocess the data\n",
    "scaler = MinMaxScaler(feature_range=(0, 1))\n",
    "df['Close'] = scaler.fit_transform(df['Close'].values.reshape(-1, 1))\n",
    "\n",
    "# Split the data into training and testing sets\n",
    "train_size = int(len(df) * 0.8)\n",
    "train_data = df[:train_size]\n",
    "test_data = df[train_size:]\n",
    "\n",
    "# Define the sequence length and number of features\n",
    "sequence_length = 10\n",
    "num_features = 1\n",
    "\n",
    "# Generate sequences for training data\n",
    "def generate_sequences(data):\n",
    "    X = []\n",
    "    y = []\n",
    "    for i in range(len(data) - sequence_length):\n",
    "        X.append(data[i:i+sequence_length])\n",
    "        y.append(data[i+sequence_length])\n",
    "    return np.array(X), np.array(y)\n",
    "\n",
    "X_train, y_train = generate_sequences(train_data['Close'].values)\n",
    "X_test, y_test = generate_sequences(test_data['Close'].values)\n",
    "\n",
    "# Define the Transformer model architecture\n",
    "def transformer_model():\n",
    "    inputs = Input(shape=(sequence_length, num_features))\n",
    "    x = inputs\n",
    "\n",
    "    # Encoder layers\n",
    "    for _ in range(2):\n",
    "        x = tf.keras.layers.MultiHeadAttention(\n",
    "            key_dim=32, num_heads=2, dropout=0.2\n",
    "        )(x, x)\n",
    "        x = LayerNormalization(epsilon=1e-6)(x)\n",
    "        x = Dropout(0.2)(x)\n",
    "\n",
    "    x = Dense(64, activation='relu')(x)\n",
    "    x = Dense(32, activation='relu')(x)\n",
    "    x = Dense(1)(x)\n",
    "\n",
    "    model = Model(inputs=inputs, outputs=x)\n",
    "    return model\n",
    "\n",
    "# Create an instance of the model\n",
    "model = transformer_model()\n",
    "\n",
    "# Compile the model\n",
    "model.compile(loss='mean_squared_error', optimizer='adam')\n",
    "\n",
    "# Train the model\n",
    "model.fit(X_train, y_train, epochs=10, batch_size=32, validation_data=(X_test, y_test))\n",
    "\n",
    "# Evaluate the model\n",
    "loss = model.evaluate(X_test, y_test)\n",
    "print('Test Loss:', loss)\n",
    "\n",
    "# Make predictions\n",
    "predictions = model.predict(X_test)\n",
    "\n",
    "# Reshape predictions\n",
    "predictions = predictions.reshape(-1, 1)\n",
    "\n",
    "# Inverse scale the predictions\n",
    "predictions = scaler.inverse_transform(predictions)\n",
    "\n",
    "# Plot the predicted and actual values\n",
    "trace1 = go.Scatter(\n",
    "    x = test_data['Date'].values[sequence_length:],\n",
    "    y = predictions.flatten(),\n",
    "    mode = 'lines',\n",
    "    name = 'Predicted'\n",
    ")\n",
    "\n",
    "trace2 = go.Scatter(\n",
    "    x = test_data['Date'].values[sequence_length:],\n",
    "    y = test_data['Close'].values[sequence_length:],\n",
    "    mode='lines',\n",
    "    name = 'Actual'\n",
    ")\n",
    "\n",
    "layout = go.Layout(\n",
    "    title = 'Predicted vs Actual Stock Prices',\n",
    "    xaxis = {'title' : \"Date\"},\n",
    "    yaxis = {'title' : \"Close\"}\n",
    ")\n",
    "\n",
    "fig = go.Figure(data=[trace1, trace2], layout=layout)\n",
    "fig.show()\n"
   ]
  },
  {
   "cell_type": "code",
   "execution_count": 25,
   "metadata": {},
   "outputs": [
    {
     "name": "stdout",
     "output_type": "stream",
     "text": [
      "Epoch 1/10\n",
      "23/23 [==============================] - 9s 53ms/step - loss: 0.1229 - val_loss: 0.0638\n",
      "Epoch 2/10\n",
      "23/23 [==============================] - 0s 16ms/step - loss: 0.0536 - val_loss: 0.0333\n",
      "Epoch 3/10\n",
      "23/23 [==============================] - 0s 12ms/step - loss: 0.0501 - val_loss: 0.0424\n",
      "Epoch 4/10\n",
      "23/23 [==============================] - 0s 12ms/step - loss: 0.0515 - val_loss: 0.0362\n",
      "Epoch 5/10\n",
      "23/23 [==============================] - 0s 12ms/step - loss: 0.0524 - val_loss: 0.0432\n",
      "Epoch 6/10\n",
      "23/23 [==============================] - 0s 21ms/step - loss: 0.0507 - val_loss: 0.0382\n",
      "Epoch 7/10\n",
      "23/23 [==============================] - 1s 24ms/step - loss: 0.0546 - val_loss: 0.0430\n",
      "Epoch 8/10\n",
      "23/23 [==============================] - 1s 25ms/step - loss: 0.0531 - val_loss: 0.0419\n",
      "Epoch 9/10\n",
      "23/23 [==============================] - 1s 26ms/step - loss: 0.0517 - val_loss: 0.0344\n",
      "Epoch 10/10\n",
      "23/23 [==============================] - 1s 35ms/step - loss: 0.0518 - val_loss: 0.0394\n",
      "1/1 [==============================] - 1s 1s/step\n"
     ]
    },
    {
     "data": {
      "application/vnd.plotly.v1+json": {
       "config": {
        "plotlyServerURL": "https://plot.ly"
       },
       "data": [
        {
         "mode": "lines",
         "name": "Predicted",
         "type": "scatter",
         "x": [
          "2022-09-15",
          "2022-09-16",
          "2022-09-19",
          "2022-09-20",
          "2022-09-21",
          "2022-09-22",
          "2022-09-23",
          "2022-09-26",
          "2022-09-27",
          "2022-09-28",
          "2022-09-29",
          "2022-09-30",
          "2022-10-03",
          "2022-10-04",
          "2022-10-05",
          "2022-10-06"
         ],
         "y": [
          262.5142822265625,
          262.5142822265625,
          262.5142822265625,
          262.5142822265625,
          262.5142822265625,
          262.5142822265625,
          262.5142822265625,
          262.5142822265625,
          262.5142822265625,
          262.5142822265625,
          262.5142822265625,
          262.5142822265625,
          262.5142822265625,
          262.5142822265625,
          262.5142822265625,
          262.5142822265625,
          262.5142822265625,
          262.5142822265625,
          262.5142822265625,
          262.5142822265625,
          262.5142822265625,
          262.5142822265625,
          262.5142822265625,
          262.5142822265625,
          262.5142822265625,
          262.5142822265625,
          262.5142822265625,
          262.5142822265625,
          262.5142822265625,
          262.5142822265625,
          262.5142822265625,
          262.5142822265625,
          262.5142822265625,
          262.5142822265625,
          262.5142822265625,
          262.5142822265625,
          262.5142822265625,
          262.5142822265625,
          262.5142822265625,
          262.5142822265625,
          262.5142822265625,
          262.5142822265625,
          262.5142822265625,
          262.5142822265625,
          262.5142822265625,
          262.5142822265625,
          262.5142822265625,
          262.5142822265625,
          262.5142822265625,
          262.5142822265625,
          262.5142822265625,
          262.5142822265625,
          262.5142822265625,
          262.5142822265625,
          262.5142822265625,
          262.5142822265625,
          262.5142822265625,
          262.5142822265625,
          262.5142822265625,
          262.5142822265625,
          262.5142822265625,
          262.5142822265625,
          262.5142822265625,
          262.5142822265625,
          262.5142822265625,
          262.5142822265625,
          262.5142822265625,
          262.5142822265625,
          262.5142822265625,
          262.5142822265625,
          262.5142822265625,
          262.5142822265625,
          262.5142822265625,
          262.5142822265625,
          262.5142822265625,
          262.5142822265625,
          262.5142822265625,
          262.5142822265625,
          262.5142822265625,
          262.5142822265625,
          262.5142822265625,
          262.5142822265625,
          262.5142822265625,
          262.5142822265625,
          262.5142822265625,
          262.5142822265625,
          262.5142822265625,
          262.5142822265625,
          262.5142822265625,
          262.5142822265625,
          262.5142822265625,
          262.5142822265625,
          262.5142822265625,
          262.5142822265625,
          262.5142822265625,
          262.5142822265625,
          262.5142822265625,
          262.5142822265625,
          262.5142822265625,
          262.5142822265625,
          262.5142822265625,
          262.5142822265625,
          262.5142822265625,
          262.5142822265625,
          262.5142822265625,
          262.5142822265625,
          262.5142822265625,
          262.5142822265625,
          262.5142822265625,
          262.5142822265625,
          262.5142822265625,
          262.5142822265625,
          262.5142822265625,
          262.5142822265625,
          262.5142822265625,
          262.5142822265625,
          262.5142822265625,
          262.5142822265625,
          262.5142822265625,
          262.5142822265625,
          262.5142822265625,
          262.5142822265625,
          262.5142822265625,
          262.5142822265625,
          262.5142822265625,
          262.5142822265625,
          262.5142822265625,
          262.5142822265625,
          262.5142822265625,
          262.5142822265625,
          262.5142822265625,
          262.5142822265625,
          262.5142822265625,
          262.5142822265625,
          262.5142822265625,
          262.5142822265625,
          262.5142822265625,
          262.5142822265625,
          262.5142822265625,
          262.5142822265625,
          262.5142822265625,
          262.5142822265625,
          262.5142822265625,
          262.5142822265625,
          262.5142822265625,
          262.5142822265625,
          262.5142822265625,
          262.5142822265625,
          262.5142822265625,
          262.5142822265625,
          262.5142822265625,
          262.5142822265625,
          262.5142822265625,
          262.5142822265625,
          262.5142822265625,
          262.5142822265625,
          262.5142822265625,
          262.5142822265625,
          262.5142822265625,
          262.5142822265625
         ]
        },
        {
         "mode": "lines",
         "name": "Actual",
         "type": "scatter",
         "x": [
          "2022-09-15",
          "2022-09-16",
          "2022-09-19",
          "2022-09-20",
          "2022-09-21",
          "2022-09-22",
          "2022-09-23",
          "2022-09-26",
          "2022-09-27",
          "2022-09-28",
          "2022-09-29",
          "2022-09-30",
          "2022-10-03",
          "2022-10-04",
          "2022-10-05",
          "2022-10-06"
         ],
         "y": [
          303.75,
          303.350006,
          309.0700069999999,
          308.730011,
          300.799988,
          288.589996,
          275.329987,
          276.01001,
          282.940002,
          287.80999799999995,
          268.209991,
          265.25,
          242.399994,
          249.440002,
          240.809998,
          238.130005
         ]
        }
       ],
       "layout": {
        "template": {
         "data": {
          "bar": [
           {
            "error_x": {
             "color": "#2a3f5f"
            },
            "error_y": {
             "color": "#2a3f5f"
            },
            "marker": {
             "line": {
              "color": "#E5ECF6",
              "width": 0.5
             },
             "pattern": {
              "fillmode": "overlay",
              "size": 10,
              "solidity": 0.2
             }
            },
            "type": "bar"
           }
          ],
          "barpolar": [
           {
            "marker": {
             "line": {
              "color": "#E5ECF6",
              "width": 0.5
             },
             "pattern": {
              "fillmode": "overlay",
              "size": 10,
              "solidity": 0.2
             }
            },
            "type": "barpolar"
           }
          ],
          "carpet": [
           {
            "aaxis": {
             "endlinecolor": "#2a3f5f",
             "gridcolor": "white",
             "linecolor": "white",
             "minorgridcolor": "white",
             "startlinecolor": "#2a3f5f"
            },
            "baxis": {
             "endlinecolor": "#2a3f5f",
             "gridcolor": "white",
             "linecolor": "white",
             "minorgridcolor": "white",
             "startlinecolor": "#2a3f5f"
            },
            "type": "carpet"
           }
          ],
          "choropleth": [
           {
            "colorbar": {
             "outlinewidth": 0,
             "ticks": ""
            },
            "type": "choropleth"
           }
          ],
          "contour": [
           {
            "colorbar": {
             "outlinewidth": 0,
             "ticks": ""
            },
            "colorscale": [
             [
              0,
              "#0d0887"
             ],
             [
              0.1111111111111111,
              "#46039f"
             ],
             [
              0.2222222222222222,
              "#7201a8"
             ],
             [
              0.3333333333333333,
              "#9c179e"
             ],
             [
              0.4444444444444444,
              "#bd3786"
             ],
             [
              0.5555555555555556,
              "#d8576b"
             ],
             [
              0.6666666666666666,
              "#ed7953"
             ],
             [
              0.7777777777777778,
              "#fb9f3a"
             ],
             [
              0.8888888888888888,
              "#fdca26"
             ],
             [
              1,
              "#f0f921"
             ]
            ],
            "type": "contour"
           }
          ],
          "contourcarpet": [
           {
            "colorbar": {
             "outlinewidth": 0,
             "ticks": ""
            },
            "type": "contourcarpet"
           }
          ],
          "heatmap": [
           {
            "colorbar": {
             "outlinewidth": 0,
             "ticks": ""
            },
            "colorscale": [
             [
              0,
              "#0d0887"
             ],
             [
              0.1111111111111111,
              "#46039f"
             ],
             [
              0.2222222222222222,
              "#7201a8"
             ],
             [
              0.3333333333333333,
              "#9c179e"
             ],
             [
              0.4444444444444444,
              "#bd3786"
             ],
             [
              0.5555555555555556,
              "#d8576b"
             ],
             [
              0.6666666666666666,
              "#ed7953"
             ],
             [
              0.7777777777777778,
              "#fb9f3a"
             ],
             [
              0.8888888888888888,
              "#fdca26"
             ],
             [
              1,
              "#f0f921"
             ]
            ],
            "type": "heatmap"
           }
          ],
          "heatmapgl": [
           {
            "colorbar": {
             "outlinewidth": 0,
             "ticks": ""
            },
            "colorscale": [
             [
              0,
              "#0d0887"
             ],
             [
              0.1111111111111111,
              "#46039f"
             ],
             [
              0.2222222222222222,
              "#7201a8"
             ],
             [
              0.3333333333333333,
              "#9c179e"
             ],
             [
              0.4444444444444444,
              "#bd3786"
             ],
             [
              0.5555555555555556,
              "#d8576b"
             ],
             [
              0.6666666666666666,
              "#ed7953"
             ],
             [
              0.7777777777777778,
              "#fb9f3a"
             ],
             [
              0.8888888888888888,
              "#fdca26"
             ],
             [
              1,
              "#f0f921"
             ]
            ],
            "type": "heatmapgl"
           }
          ],
          "histogram": [
           {
            "marker": {
             "pattern": {
              "fillmode": "overlay",
              "size": 10,
              "solidity": 0.2
             }
            },
            "type": "histogram"
           }
          ],
          "histogram2d": [
           {
            "colorbar": {
             "outlinewidth": 0,
             "ticks": ""
            },
            "colorscale": [
             [
              0,
              "#0d0887"
             ],
             [
              0.1111111111111111,
              "#46039f"
             ],
             [
              0.2222222222222222,
              "#7201a8"
             ],
             [
              0.3333333333333333,
              "#9c179e"
             ],
             [
              0.4444444444444444,
              "#bd3786"
             ],
             [
              0.5555555555555556,
              "#d8576b"
             ],
             [
              0.6666666666666666,
              "#ed7953"
             ],
             [
              0.7777777777777778,
              "#fb9f3a"
             ],
             [
              0.8888888888888888,
              "#fdca26"
             ],
             [
              1,
              "#f0f921"
             ]
            ],
            "type": "histogram2d"
           }
          ],
          "histogram2dcontour": [
           {
            "colorbar": {
             "outlinewidth": 0,
             "ticks": ""
            },
            "colorscale": [
             [
              0,
              "#0d0887"
             ],
             [
              0.1111111111111111,
              "#46039f"
             ],
             [
              0.2222222222222222,
              "#7201a8"
             ],
             [
              0.3333333333333333,
              "#9c179e"
             ],
             [
              0.4444444444444444,
              "#bd3786"
             ],
             [
              0.5555555555555556,
              "#d8576b"
             ],
             [
              0.6666666666666666,
              "#ed7953"
             ],
             [
              0.7777777777777778,
              "#fb9f3a"
             ],
             [
              0.8888888888888888,
              "#fdca26"
             ],
             [
              1,
              "#f0f921"
             ]
            ],
            "type": "histogram2dcontour"
           }
          ],
          "mesh3d": [
           {
            "colorbar": {
             "outlinewidth": 0,
             "ticks": ""
            },
            "type": "mesh3d"
           }
          ],
          "parcoords": [
           {
            "line": {
             "colorbar": {
              "outlinewidth": 0,
              "ticks": ""
             }
            },
            "type": "parcoords"
           }
          ],
          "pie": [
           {
            "automargin": true,
            "type": "pie"
           }
          ],
          "scatter": [
           {
            "fillpattern": {
             "fillmode": "overlay",
             "size": 10,
             "solidity": 0.2
            },
            "type": "scatter"
           }
          ],
          "scatter3d": [
           {
            "line": {
             "colorbar": {
              "outlinewidth": 0,
              "ticks": ""
             }
            },
            "marker": {
             "colorbar": {
              "outlinewidth": 0,
              "ticks": ""
             }
            },
            "type": "scatter3d"
           }
          ],
          "scattercarpet": [
           {
            "marker": {
             "colorbar": {
              "outlinewidth": 0,
              "ticks": ""
             }
            },
            "type": "scattercarpet"
           }
          ],
          "scattergeo": [
           {
            "marker": {
             "colorbar": {
              "outlinewidth": 0,
              "ticks": ""
             }
            },
            "type": "scattergeo"
           }
          ],
          "scattergl": [
           {
            "marker": {
             "colorbar": {
              "outlinewidth": 0,
              "ticks": ""
             }
            },
            "type": "scattergl"
           }
          ],
          "scattermapbox": [
           {
            "marker": {
             "colorbar": {
              "outlinewidth": 0,
              "ticks": ""
             }
            },
            "type": "scattermapbox"
           }
          ],
          "scatterpolar": [
           {
            "marker": {
             "colorbar": {
              "outlinewidth": 0,
              "ticks": ""
             }
            },
            "type": "scatterpolar"
           }
          ],
          "scatterpolargl": [
           {
            "marker": {
             "colorbar": {
              "outlinewidth": 0,
              "ticks": ""
             }
            },
            "type": "scatterpolargl"
           }
          ],
          "scatterternary": [
           {
            "marker": {
             "colorbar": {
              "outlinewidth": 0,
              "ticks": ""
             }
            },
            "type": "scatterternary"
           }
          ],
          "surface": [
           {
            "colorbar": {
             "outlinewidth": 0,
             "ticks": ""
            },
            "colorscale": [
             [
              0,
              "#0d0887"
             ],
             [
              0.1111111111111111,
              "#46039f"
             ],
             [
              0.2222222222222222,
              "#7201a8"
             ],
             [
              0.3333333333333333,
              "#9c179e"
             ],
             [
              0.4444444444444444,
              "#bd3786"
             ],
             [
              0.5555555555555556,
              "#d8576b"
             ],
             [
              0.6666666666666666,
              "#ed7953"
             ],
             [
              0.7777777777777778,
              "#fb9f3a"
             ],
             [
              0.8888888888888888,
              "#fdca26"
             ],
             [
              1,
              "#f0f921"
             ]
            ],
            "type": "surface"
           }
          ],
          "table": [
           {
            "cells": {
             "fill": {
              "color": "#EBF0F8"
             },
             "line": {
              "color": "white"
             }
            },
            "header": {
             "fill": {
              "color": "#C8D4E3"
             },
             "line": {
              "color": "white"
             }
            },
            "type": "table"
           }
          ]
         },
         "layout": {
          "annotationdefaults": {
           "arrowcolor": "#2a3f5f",
           "arrowhead": 0,
           "arrowwidth": 1
          },
          "autotypenumbers": "strict",
          "coloraxis": {
           "colorbar": {
            "outlinewidth": 0,
            "ticks": ""
           }
          },
          "colorscale": {
           "diverging": [
            [
             0,
             "#8e0152"
            ],
            [
             0.1,
             "#c51b7d"
            ],
            [
             0.2,
             "#de77ae"
            ],
            [
             0.3,
             "#f1b6da"
            ],
            [
             0.4,
             "#fde0ef"
            ],
            [
             0.5,
             "#f7f7f7"
            ],
            [
             0.6,
             "#e6f5d0"
            ],
            [
             0.7,
             "#b8e186"
            ],
            [
             0.8,
             "#7fbc41"
            ],
            [
             0.9,
             "#4d9221"
            ],
            [
             1,
             "#276419"
            ]
           ],
           "sequential": [
            [
             0,
             "#0d0887"
            ],
            [
             0.1111111111111111,
             "#46039f"
            ],
            [
             0.2222222222222222,
             "#7201a8"
            ],
            [
             0.3333333333333333,
             "#9c179e"
            ],
            [
             0.4444444444444444,
             "#bd3786"
            ],
            [
             0.5555555555555556,
             "#d8576b"
            ],
            [
             0.6666666666666666,
             "#ed7953"
            ],
            [
             0.7777777777777778,
             "#fb9f3a"
            ],
            [
             0.8888888888888888,
             "#fdca26"
            ],
            [
             1,
             "#f0f921"
            ]
           ],
           "sequentialminus": [
            [
             0,
             "#0d0887"
            ],
            [
             0.1111111111111111,
             "#46039f"
            ],
            [
             0.2222222222222222,
             "#7201a8"
            ],
            [
             0.3333333333333333,
             "#9c179e"
            ],
            [
             0.4444444444444444,
             "#bd3786"
            ],
            [
             0.5555555555555556,
             "#d8576b"
            ],
            [
             0.6666666666666666,
             "#ed7953"
            ],
            [
             0.7777777777777778,
             "#fb9f3a"
            ],
            [
             0.8888888888888888,
             "#fdca26"
            ],
            [
             1,
             "#f0f921"
            ]
           ]
          },
          "colorway": [
           "#636efa",
           "#EF553B",
           "#00cc96",
           "#ab63fa",
           "#FFA15A",
           "#19d3f3",
           "#FF6692",
           "#B6E880",
           "#FF97FF",
           "#FECB52"
          ],
          "font": {
           "color": "#2a3f5f"
          },
          "geo": {
           "bgcolor": "white",
           "lakecolor": "white",
           "landcolor": "#E5ECF6",
           "showlakes": true,
           "showland": true,
           "subunitcolor": "white"
          },
          "hoverlabel": {
           "align": "left"
          },
          "hovermode": "closest",
          "mapbox": {
           "style": "light"
          },
          "paper_bgcolor": "white",
          "plot_bgcolor": "#E5ECF6",
          "polar": {
           "angularaxis": {
            "gridcolor": "white",
            "linecolor": "white",
            "ticks": ""
           },
           "bgcolor": "#E5ECF6",
           "radialaxis": {
            "gridcolor": "white",
            "linecolor": "white",
            "ticks": ""
           }
          },
          "scene": {
           "xaxis": {
            "backgroundcolor": "#E5ECF6",
            "gridcolor": "white",
            "gridwidth": 2,
            "linecolor": "white",
            "showbackground": true,
            "ticks": "",
            "zerolinecolor": "white"
           },
           "yaxis": {
            "backgroundcolor": "#E5ECF6",
            "gridcolor": "white",
            "gridwidth": 2,
            "linecolor": "white",
            "showbackground": true,
            "ticks": "",
            "zerolinecolor": "white"
           },
           "zaxis": {
            "backgroundcolor": "#E5ECF6",
            "gridcolor": "white",
            "gridwidth": 2,
            "linecolor": "white",
            "showbackground": true,
            "ticks": "",
            "zerolinecolor": "white"
           }
          },
          "shapedefaults": {
           "line": {
            "color": "#2a3f5f"
           }
          },
          "ternary": {
           "aaxis": {
            "gridcolor": "white",
            "linecolor": "white",
            "ticks": ""
           },
           "baxis": {
            "gridcolor": "white",
            "linecolor": "white",
            "ticks": ""
           },
           "bgcolor": "#E5ECF6",
           "caxis": {
            "gridcolor": "white",
            "linecolor": "white",
            "ticks": ""
           }
          },
          "title": {
           "x": 0.05
          },
          "xaxis": {
           "automargin": true,
           "gridcolor": "white",
           "linecolor": "white",
           "ticks": "",
           "title": {
            "standoff": 15
           },
           "zerolinecolor": "white",
           "zerolinewidth": 2
          },
          "yaxis": {
           "automargin": true,
           "gridcolor": "white",
           "linecolor": "white",
           "ticks": "",
           "title": {
            "standoff": 15
           },
           "zerolinecolor": "white",
           "zerolinewidth": 2
          }
         }
        },
        "title": {
         "text": "Predicted vs Actual Stock Prices"
        },
        "xaxis": {
         "title": {
          "text": "Date"
         }
        },
        "yaxis": {
         "title": {
          "text": "Close"
         }
        }
       }
      }
     },
     "metadata": {},
     "output_type": "display_data"
    }
   ],
   "source": [
    "# Load the stock data\n",
    "df = pd.read_csv(r'C:\\Users\\emili\\Downloads\\Machine_Learning_SP_Course\\Machine_Learning_Project\\TSLA.csv')#, index_col = 'Date')\n",
    "df = df.drop(labels=range(0, len(df.index)-127), axis=0);\n",
    "\n",
    "# Preprocess the data\n",
    "scaler = MinMaxScaler(feature_range=(0, 1))\n",
    "df['Close'] = scaler.fit_transform(df['Close'].values.reshape(-1, 1))\n",
    "\n",
    "# Split the data into training and testing sets\n",
    "train_size = int(len(df) * 0.8)\n",
    "train_data = df[:train_size]\n",
    "test_data = df[train_size:]\n",
    "\n",
    "# Define the sequence length and number of features\n",
    "sequence_length = 10\n",
    "num_features = 1\n",
    "\n",
    "# Generate sequences for training data\n",
    "def generate_sequences(data):\n",
    "    X = []\n",
    "    y = []\n",
    "    for i in range(len(data) - sequence_length):\n",
    "        X.append(data[i:i+sequence_length])\n",
    "        y.append(data[i+sequence_length])\n",
    "    return np.array(X), np.array(y)\n",
    "\n",
    "X_train, y_train = generate_sequences(train_data['Close'].values)\n",
    "X_test, y_test = generate_sequences(test_data['Close'].values)\n",
    "\n",
    "# Define the Transformer model architecture\n",
    "def transformer_model():\n",
    "    inputs = Input(shape=(sequence_length, num_features))\n",
    "    x = inputs\n",
    "\n",
    "    # Encoder layers\n",
    "    for _ in range(5):\n",
    "        x = tf.keras.layers.MultiHeadAttention(\n",
    "            key_dim=32, num_heads=5, dropout=0.2\n",
    "        )(x, x)\n",
    "        x = LayerNormalization(epsilon=1e-6)(x)\n",
    "        x = Dropout(0.2)(x)\n",
    "\n",
    "    x = Dense(64)(x)\n",
    "    x = tf.keras.layers.LeakyReLU(alpha=0.2)(x)\n",
    "    x = Dense(32)(x)\n",
    "    x = tf.keras.layers.LeakyReLU(alpha=0.2)(x)\n",
    "    x = Dense(1)(x)\n",
    "\n",
    "    model = Model(inputs=inputs, outputs=x)\n",
    "    return model\n",
    "\n",
    "# Create an instance of the model\n",
    "model = transformer_model()\n",
    "\n",
    "# Compile the model\n",
    "model.compile(loss='mean_squared_error', optimizer='adam')\n",
    "\n",
    "# Train the model\n",
    "model.fit(X_train, y_train, epochs=10, batch_size=4, validation_data=(X_test, y_test))\n",
    "\n",
    "# Make predictions\n",
    "predictions = model.predict(X_test)\n",
    "\n",
    "# Reshape predictions\n",
    "predictions = predictions.reshape(-1, 1)\n",
    "\n",
    "# Inverse scale the predictions and actual values\n",
    "predictions = scaler.inverse_transform(predictions)\n",
    "actual_values = scaler.inverse_transform(y_test.reshape(-1, 1))\n",
    "\n",
    "# Plot the predicted and actual values\n",
    "trace1 = go.Scatter(\n",
    "    x = test_data['Date'].values[sequence_length:],\n",
    "    y = predictions.flatten(),\n",
    "    mode = 'lines',\n",
    "    name = 'Predicted'\n",
    ")\n",
    "\n",
    "trace2 = go.Scatter(\n",
    "    x = test_data['Date'].values[sequence_length:],\n",
    "    y = actual_values.flatten(),\n",
    "    mode='lines',\n",
    "    name = 'Actual'\n",
    ")\n",
    "\n",
    "layout = go.Layout(\n",
    "    title = 'Predicted vs Actual Stock Prices',\n",
    "    xaxis = {'title' : \"Date\"},\n",
    "    yaxis = {'title' : \"Close\"}\n",
    ")\n",
    "\n",
    "fig = go.Figure(data=[trace1, trace2], layout=layout)\n",
    "fig.show()\n"
   ]
  },
  {
   "cell_type": "code",
   "execution_count": 24,
   "metadata": {},
   "outputs": [
    {
     "name": "stdout",
     "output_type": "stream",
     "text": [
      "Epoch 1/20\n",
      "11/11 [==============================] - 17s 146ms/step - loss: 0.1209 - val_loss: 0.0239\n",
      "Epoch 2/20\n",
      "11/11 [==============================] - 1s 73ms/step - loss: 0.0490 - val_loss: 0.0173\n",
      "Epoch 3/20\n",
      "11/11 [==============================] - 1s 70ms/step - loss: 0.0502 - val_loss: 0.0217\n",
      "Epoch 4/20\n",
      "11/11 [==============================] - 1s 65ms/step - loss: 0.0411 - val_loss: 0.0071\n",
      "Epoch 5/20\n",
      "11/11 [==============================] - 1s 49ms/step - loss: 0.0436 - val_loss: 0.0069\n",
      "Epoch 6/20\n",
      "11/11 [==============================] - 1s 57ms/step - loss: 0.0406 - val_loss: 0.0114\n",
      "Epoch 7/20\n",
      "11/11 [==============================] - 1s 67ms/step - loss: 0.0406 - val_loss: 0.0104\n",
      "Epoch 8/20\n",
      "11/11 [==============================] - 1s 64ms/step - loss: 0.0414 - val_loss: 0.0138\n",
      "Epoch 9/20\n",
      "11/11 [==============================] - 1s 68ms/step - loss: 0.0414 - val_loss: 0.0092\n",
      "Epoch 10/20\n",
      "11/11 [==============================] - 1s 61ms/step - loss: 0.0407 - val_loss: 0.0082\n",
      "Epoch 11/20\n",
      "11/11 [==============================] - 1s 61ms/step - loss: 0.0403 - val_loss: 0.0091\n",
      "Epoch 12/20\n",
      "11/11 [==============================] - 1s 60ms/step - loss: 0.0402 - val_loss: 0.0101\n",
      "Epoch 13/20\n",
      "11/11 [==============================] - 1s 61ms/step - loss: 0.0401 - val_loss: 0.0124\n",
      "Epoch 14/20\n",
      "11/11 [==============================] - 1s 61ms/step - loss: 0.0413 - val_loss: 0.0119\n",
      "Epoch 15/20\n",
      "11/11 [==============================] - 1s 57ms/step - loss: 0.0407 - val_loss: 0.0075\n",
      "Epoch 16/20\n",
      "11/11 [==============================] - 1s 50ms/step - loss: 0.0405 - val_loss: 0.0087\n",
      "Epoch 17/20\n",
      "11/11 [==============================] - 1s 57ms/step - loss: 0.0406 - val_loss: 0.0112\n",
      "Epoch 18/20\n",
      "11/11 [==============================] - 1s 57ms/step - loss: 0.0416 - val_loss: 0.0074\n",
      "Epoch 19/20\n",
      "11/11 [==============================] - 1s 67ms/step - loss: 0.0402 - val_loss: 0.0141\n",
      "Epoch 20/20\n",
      "11/11 [==============================] - 1s 69ms/step - loss: 0.0430 - val_loss: 0.0125\n",
      "1/1 [==============================] - 1s 846ms/step\n"
     ]
    },
    {
     "data": {
      "application/vnd.plotly.v1+json": {
       "config": {
        "plotlyServerURL": "https://plot.ly"
       },
       "data": [
        {
         "mode": "lines",
         "name": "Predicted",
         "type": "scatter",
         "x": [
          "2022-09-29",
          "2022-09-30",
          "2022-10-03",
          "2022-10-04",
          "2022-10-05",
          "2022-10-06"
         ],
         "y": [
          0.3639381527900696,
          0.3639381527900696,
          0.3639381527900696,
          0.3639381527900696,
          0.3639381527900696,
          0.3639381527900696,
          0.3639381527900696,
          0.3639381527900696,
          0.3639381527900696,
          0.3639381527900696,
          0.3639381527900696,
          0.3639381527900696,
          0.3639381527900696,
          0.3639381527900696,
          0.3639381527900696,
          0.3639381527900696,
          0.3639381527900696,
          0.3639381527900696,
          0.3639381527900696,
          0.3639381527900696,
          0.3639381527900696,
          0.3639381527900696,
          0.3639381527900696,
          0.3639381527900696,
          0.3639381527900696,
          0.3639381527900696,
          0.3639381527900696,
          0.3639381527900696,
          0.3639381527900696,
          0.3639381527900696,
          0.3639381527900696,
          0.3639381527900696,
          0.3639381527900696,
          0.3639381527900696,
          0.3639381527900696,
          0.3639381527900696,
          0.3639381527900696,
          0.3639381527900696,
          0.3639381527900696,
          0.3639381527900696,
          0.3639381527900696,
          0.3639381527900696,
          0.3639381527900696,
          0.3639381527900696,
          0.3639381527900696,
          0.3639381527900696,
          0.3639381527900696,
          0.3639381527900696,
          0.3639381527900696,
          0.3639381527900696,
          0.3639381527900696,
          0.3639381527900696,
          0.3639381527900696,
          0.3639381527900696,
          0.3639381527900696,
          0.3639381527900696,
          0.3639381527900696,
          0.3639381527900696,
          0.3639381527900696,
          0.3639381527900696,
          0.3639381527900696,
          0.3639381527900696,
          0.3639381527900696,
          0.3639381527900696,
          0.3639381527900696,
          0.3639381527900696,
          0.3639381527900696,
          0.3639381527900696,
          0.3639381527900696,
          0.3639381527900696,
          0.3639381527900696,
          0.3639381527900696,
          0.3639381527900696,
          0.3639381527900696,
          0.3639381527900696,
          0.3639381527900696,
          0.3639381527900696,
          0.3639381527900696,
          0.3639381527900696,
          0.3639381527900696,
          0.3639381527900696,
          0.3639381527900696,
          0.3639381527900696,
          0.3639381527900696,
          0.3639381527900696,
          0.3639381527900696,
          0.3639381527900696,
          0.3639381527900696,
          0.3639381527900696,
          0.3639381527900696,
          0.3639381527900696,
          0.3639381527900696,
          0.3639381527900696,
          0.3639381527900696,
          0.3639381527900696,
          0.3639381527900696,
          0.3639381527900696,
          0.3639381527900696,
          0.3639381527900696,
          0.3639381527900696,
          0.3639381527900696,
          0.3639381527900696,
          0.3639381527900696,
          0.3639381527900696,
          0.3639381527900696,
          0.3639381527900696,
          0.3639381527900696,
          0.3639381527900696,
          0.3639381527900696,
          0.3639381527900696,
          0.3639381527900696,
          0.3639381527900696,
          0.3639381527900696,
          0.3639381527900696,
          0.3639381527900696,
          0.3639381527900696,
          0.3639381527900696,
          0.3639381527900696,
          0.3639381527900696,
          0.3639381527900696
         ]
        },
        {
         "mode": "lines",
         "name": "Actual",
         "type": "scatter",
         "x": [
          "2022-09-29",
          "2022-09-30",
          "2022-10-03",
          "2022-10-04",
          "2022-10-05",
          "2022-10-06"
         ],
         "y": [
          0.41125599108571476,
          0.3905615781607281,
          0.23080857232306817,
          0.28002792216136463,
          0.21969231089758523,
          0.20095546954297516
         ]
        }
       ],
       "layout": {
        "template": {
         "data": {
          "bar": [
           {
            "error_x": {
             "color": "#2a3f5f"
            },
            "error_y": {
             "color": "#2a3f5f"
            },
            "marker": {
             "line": {
              "color": "#E5ECF6",
              "width": 0.5
             },
             "pattern": {
              "fillmode": "overlay",
              "size": 10,
              "solidity": 0.2
             }
            },
            "type": "bar"
           }
          ],
          "barpolar": [
           {
            "marker": {
             "line": {
              "color": "#E5ECF6",
              "width": 0.5
             },
             "pattern": {
              "fillmode": "overlay",
              "size": 10,
              "solidity": 0.2
             }
            },
            "type": "barpolar"
           }
          ],
          "carpet": [
           {
            "aaxis": {
             "endlinecolor": "#2a3f5f",
             "gridcolor": "white",
             "linecolor": "white",
             "minorgridcolor": "white",
             "startlinecolor": "#2a3f5f"
            },
            "baxis": {
             "endlinecolor": "#2a3f5f",
             "gridcolor": "white",
             "linecolor": "white",
             "minorgridcolor": "white",
             "startlinecolor": "#2a3f5f"
            },
            "type": "carpet"
           }
          ],
          "choropleth": [
           {
            "colorbar": {
             "outlinewidth": 0,
             "ticks": ""
            },
            "type": "choropleth"
           }
          ],
          "contour": [
           {
            "colorbar": {
             "outlinewidth": 0,
             "ticks": ""
            },
            "colorscale": [
             [
              0,
              "#0d0887"
             ],
             [
              0.1111111111111111,
              "#46039f"
             ],
             [
              0.2222222222222222,
              "#7201a8"
             ],
             [
              0.3333333333333333,
              "#9c179e"
             ],
             [
              0.4444444444444444,
              "#bd3786"
             ],
             [
              0.5555555555555556,
              "#d8576b"
             ],
             [
              0.6666666666666666,
              "#ed7953"
             ],
             [
              0.7777777777777778,
              "#fb9f3a"
             ],
             [
              0.8888888888888888,
              "#fdca26"
             ],
             [
              1,
              "#f0f921"
             ]
            ],
            "type": "contour"
           }
          ],
          "contourcarpet": [
           {
            "colorbar": {
             "outlinewidth": 0,
             "ticks": ""
            },
            "type": "contourcarpet"
           }
          ],
          "heatmap": [
           {
            "colorbar": {
             "outlinewidth": 0,
             "ticks": ""
            },
            "colorscale": [
             [
              0,
              "#0d0887"
             ],
             [
              0.1111111111111111,
              "#46039f"
             ],
             [
              0.2222222222222222,
              "#7201a8"
             ],
             [
              0.3333333333333333,
              "#9c179e"
             ],
             [
              0.4444444444444444,
              "#bd3786"
             ],
             [
              0.5555555555555556,
              "#d8576b"
             ],
             [
              0.6666666666666666,
              "#ed7953"
             ],
             [
              0.7777777777777778,
              "#fb9f3a"
             ],
             [
              0.8888888888888888,
              "#fdca26"
             ],
             [
              1,
              "#f0f921"
             ]
            ],
            "type": "heatmap"
           }
          ],
          "heatmapgl": [
           {
            "colorbar": {
             "outlinewidth": 0,
             "ticks": ""
            },
            "colorscale": [
             [
              0,
              "#0d0887"
             ],
             [
              0.1111111111111111,
              "#46039f"
             ],
             [
              0.2222222222222222,
              "#7201a8"
             ],
             [
              0.3333333333333333,
              "#9c179e"
             ],
             [
              0.4444444444444444,
              "#bd3786"
             ],
             [
              0.5555555555555556,
              "#d8576b"
             ],
             [
              0.6666666666666666,
              "#ed7953"
             ],
             [
              0.7777777777777778,
              "#fb9f3a"
             ],
             [
              0.8888888888888888,
              "#fdca26"
             ],
             [
              1,
              "#f0f921"
             ]
            ],
            "type": "heatmapgl"
           }
          ],
          "histogram": [
           {
            "marker": {
             "pattern": {
              "fillmode": "overlay",
              "size": 10,
              "solidity": 0.2
             }
            },
            "type": "histogram"
           }
          ],
          "histogram2d": [
           {
            "colorbar": {
             "outlinewidth": 0,
             "ticks": ""
            },
            "colorscale": [
             [
              0,
              "#0d0887"
             ],
             [
              0.1111111111111111,
              "#46039f"
             ],
             [
              0.2222222222222222,
              "#7201a8"
             ],
             [
              0.3333333333333333,
              "#9c179e"
             ],
             [
              0.4444444444444444,
              "#bd3786"
             ],
             [
              0.5555555555555556,
              "#d8576b"
             ],
             [
              0.6666666666666666,
              "#ed7953"
             ],
             [
              0.7777777777777778,
              "#fb9f3a"
             ],
             [
              0.8888888888888888,
              "#fdca26"
             ],
             [
              1,
              "#f0f921"
             ]
            ],
            "type": "histogram2d"
           }
          ],
          "histogram2dcontour": [
           {
            "colorbar": {
             "outlinewidth": 0,
             "ticks": ""
            },
            "colorscale": [
             [
              0,
              "#0d0887"
             ],
             [
              0.1111111111111111,
              "#46039f"
             ],
             [
              0.2222222222222222,
              "#7201a8"
             ],
             [
              0.3333333333333333,
              "#9c179e"
             ],
             [
              0.4444444444444444,
              "#bd3786"
             ],
             [
              0.5555555555555556,
              "#d8576b"
             ],
             [
              0.6666666666666666,
              "#ed7953"
             ],
             [
              0.7777777777777778,
              "#fb9f3a"
             ],
             [
              0.8888888888888888,
              "#fdca26"
             ],
             [
              1,
              "#f0f921"
             ]
            ],
            "type": "histogram2dcontour"
           }
          ],
          "mesh3d": [
           {
            "colorbar": {
             "outlinewidth": 0,
             "ticks": ""
            },
            "type": "mesh3d"
           }
          ],
          "parcoords": [
           {
            "line": {
             "colorbar": {
              "outlinewidth": 0,
              "ticks": ""
             }
            },
            "type": "parcoords"
           }
          ],
          "pie": [
           {
            "automargin": true,
            "type": "pie"
           }
          ],
          "scatter": [
           {
            "fillpattern": {
             "fillmode": "overlay",
             "size": 10,
             "solidity": 0.2
            },
            "type": "scatter"
           }
          ],
          "scatter3d": [
           {
            "line": {
             "colorbar": {
              "outlinewidth": 0,
              "ticks": ""
             }
            },
            "marker": {
             "colorbar": {
              "outlinewidth": 0,
              "ticks": ""
             }
            },
            "type": "scatter3d"
           }
          ],
          "scattercarpet": [
           {
            "marker": {
             "colorbar": {
              "outlinewidth": 0,
              "ticks": ""
             }
            },
            "type": "scattercarpet"
           }
          ],
          "scattergeo": [
           {
            "marker": {
             "colorbar": {
              "outlinewidth": 0,
              "ticks": ""
             }
            },
            "type": "scattergeo"
           }
          ],
          "scattergl": [
           {
            "marker": {
             "colorbar": {
              "outlinewidth": 0,
              "ticks": ""
             }
            },
            "type": "scattergl"
           }
          ],
          "scattermapbox": [
           {
            "marker": {
             "colorbar": {
              "outlinewidth": 0,
              "ticks": ""
             }
            },
            "type": "scattermapbox"
           }
          ],
          "scatterpolar": [
           {
            "marker": {
             "colorbar": {
              "outlinewidth": 0,
              "ticks": ""
             }
            },
            "type": "scatterpolar"
           }
          ],
          "scatterpolargl": [
           {
            "marker": {
             "colorbar": {
              "outlinewidth": 0,
              "ticks": ""
             }
            },
            "type": "scatterpolargl"
           }
          ],
          "scatterternary": [
           {
            "marker": {
             "colorbar": {
              "outlinewidth": 0,
              "ticks": ""
             }
            },
            "type": "scatterternary"
           }
          ],
          "surface": [
           {
            "colorbar": {
             "outlinewidth": 0,
             "ticks": ""
            },
            "colorscale": [
             [
              0,
              "#0d0887"
             ],
             [
              0.1111111111111111,
              "#46039f"
             ],
             [
              0.2222222222222222,
              "#7201a8"
             ],
             [
              0.3333333333333333,
              "#9c179e"
             ],
             [
              0.4444444444444444,
              "#bd3786"
             ],
             [
              0.5555555555555556,
              "#d8576b"
             ],
             [
              0.6666666666666666,
              "#ed7953"
             ],
             [
              0.7777777777777778,
              "#fb9f3a"
             ],
             [
              0.8888888888888888,
              "#fdca26"
             ],
             [
              1,
              "#f0f921"
             ]
            ],
            "type": "surface"
           }
          ],
          "table": [
           {
            "cells": {
             "fill": {
              "color": "#EBF0F8"
             },
             "line": {
              "color": "white"
             }
            },
            "header": {
             "fill": {
              "color": "#C8D4E3"
             },
             "line": {
              "color": "white"
             }
            },
            "type": "table"
           }
          ]
         },
         "layout": {
          "annotationdefaults": {
           "arrowcolor": "#2a3f5f",
           "arrowhead": 0,
           "arrowwidth": 1
          },
          "autotypenumbers": "strict",
          "coloraxis": {
           "colorbar": {
            "outlinewidth": 0,
            "ticks": ""
           }
          },
          "colorscale": {
           "diverging": [
            [
             0,
             "#8e0152"
            ],
            [
             0.1,
             "#c51b7d"
            ],
            [
             0.2,
             "#de77ae"
            ],
            [
             0.3,
             "#f1b6da"
            ],
            [
             0.4,
             "#fde0ef"
            ],
            [
             0.5,
             "#f7f7f7"
            ],
            [
             0.6,
             "#e6f5d0"
            ],
            [
             0.7,
             "#b8e186"
            ],
            [
             0.8,
             "#7fbc41"
            ],
            [
             0.9,
             "#4d9221"
            ],
            [
             1,
             "#276419"
            ]
           ],
           "sequential": [
            [
             0,
             "#0d0887"
            ],
            [
             0.1111111111111111,
             "#46039f"
            ],
            [
             0.2222222222222222,
             "#7201a8"
            ],
            [
             0.3333333333333333,
             "#9c179e"
            ],
            [
             0.4444444444444444,
             "#bd3786"
            ],
            [
             0.5555555555555556,
             "#d8576b"
            ],
            [
             0.6666666666666666,
             "#ed7953"
            ],
            [
             0.7777777777777778,
             "#fb9f3a"
            ],
            [
             0.8888888888888888,
             "#fdca26"
            ],
            [
             1,
             "#f0f921"
            ]
           ],
           "sequentialminus": [
            [
             0,
             "#0d0887"
            ],
            [
             0.1111111111111111,
             "#46039f"
            ],
            [
             0.2222222222222222,
             "#7201a8"
            ],
            [
             0.3333333333333333,
             "#9c179e"
            ],
            [
             0.4444444444444444,
             "#bd3786"
            ],
            [
             0.5555555555555556,
             "#d8576b"
            ],
            [
             0.6666666666666666,
             "#ed7953"
            ],
            [
             0.7777777777777778,
             "#fb9f3a"
            ],
            [
             0.8888888888888888,
             "#fdca26"
            ],
            [
             1,
             "#f0f921"
            ]
           ]
          },
          "colorway": [
           "#636efa",
           "#EF553B",
           "#00cc96",
           "#ab63fa",
           "#FFA15A",
           "#19d3f3",
           "#FF6692",
           "#B6E880",
           "#FF97FF",
           "#FECB52"
          ],
          "font": {
           "color": "#2a3f5f"
          },
          "geo": {
           "bgcolor": "white",
           "lakecolor": "white",
           "landcolor": "#E5ECF6",
           "showlakes": true,
           "showland": true,
           "subunitcolor": "white"
          },
          "hoverlabel": {
           "align": "left"
          },
          "hovermode": "closest",
          "mapbox": {
           "style": "light"
          },
          "paper_bgcolor": "white",
          "plot_bgcolor": "#E5ECF6",
          "polar": {
           "angularaxis": {
            "gridcolor": "white",
            "linecolor": "white",
            "ticks": ""
           },
           "bgcolor": "#E5ECF6",
           "radialaxis": {
            "gridcolor": "white",
            "linecolor": "white",
            "ticks": ""
           }
          },
          "scene": {
           "xaxis": {
            "backgroundcolor": "#E5ECF6",
            "gridcolor": "white",
            "gridwidth": 2,
            "linecolor": "white",
            "showbackground": true,
            "ticks": "",
            "zerolinecolor": "white"
           },
           "yaxis": {
            "backgroundcolor": "#E5ECF6",
            "gridcolor": "white",
            "gridwidth": 2,
            "linecolor": "white",
            "showbackground": true,
            "ticks": "",
            "zerolinecolor": "white"
           },
           "zaxis": {
            "backgroundcolor": "#E5ECF6",
            "gridcolor": "white",
            "gridwidth": 2,
            "linecolor": "white",
            "showbackground": true,
            "ticks": "",
            "zerolinecolor": "white"
           }
          },
          "shapedefaults": {
           "line": {
            "color": "#2a3f5f"
           }
          },
          "ternary": {
           "aaxis": {
            "gridcolor": "white",
            "linecolor": "white",
            "ticks": ""
           },
           "baxis": {
            "gridcolor": "white",
            "linecolor": "white",
            "ticks": ""
           },
           "bgcolor": "#E5ECF6",
           "caxis": {
            "gridcolor": "white",
            "linecolor": "white",
            "ticks": ""
           }
          },
          "title": {
           "x": 0.05
          },
          "xaxis": {
           "automargin": true,
           "gridcolor": "white",
           "linecolor": "white",
           "ticks": "",
           "title": {
            "standoff": 15
           },
           "zerolinecolor": "white",
           "zerolinewidth": 2
          },
          "yaxis": {
           "automargin": true,
           "gridcolor": "white",
           "linecolor": "white",
           "ticks": "",
           "title": {
            "standoff": 15
           },
           "zerolinecolor": "white",
           "zerolinewidth": 2
          }
         }
        },
        "title": {
         "text": "Predicted vs Actual Stock Prices"
        },
        "xaxis": {
         "title": {
          "text": "Date"
         }
        },
        "yaxis": {
         "title": {
          "text": "Close"
         }
        }
       }
      }
     },
     "metadata": {},
     "output_type": "display_data"
    }
   ],
   "source": [
    "# Preprocess the data\n",
    "scaler = MinMaxScaler(feature_range=(0, 1))\n",
    "df['Close'] = scaler.fit_transform(df['Close'].values.reshape(-1, 1))\n",
    "\n",
    "# Split the data into training and testing sets\n",
    "train_size = int(len(df) * 0.8)\n",
    "train_data = df[:train_size]\n",
    "test_data = df[train_size:]\n",
    "\n",
    "# Define the sequence length and number of features\n",
    "sequence_length = 20\n",
    "num_features = 1\n",
    "\n",
    "# Generate sequences for training data\n",
    "def generate_sequences(data):\n",
    "    X = []\n",
    "    y = []\n",
    "    for i in range(len(data) - sequence_length):\n",
    "        X.append(data[i:i + sequence_length])\n",
    "        y.append(data[i + sequence_length])\n",
    "    return np.array(X), np.array(y)\n",
    "\n",
    "X_train, y_train = generate_sequences(train_data['Close'].values)\n",
    "X_test, y_test = generate_sequences(test_data['Close'].values)\n",
    "\n",
    "# Define the Transformer model architecture\n",
    "def transformer_model():\n",
    "    inputs = Input(shape=(sequence_length, num_features))\n",
    "    x = inputs\n",
    "\n",
    "    # Encoder layers\n",
    "    for _ in range(10):\n",
    "        x = tf.keras.layers.MultiHeadAttention(\n",
    "            key_dim=64, num_heads=8, dropout=0.2\n",
    "        )(x, x)\n",
    "        x = LayerNormalization(epsilon=1e-6)(x)\n",
    "        x = Dropout(0.2)(x)\n",
    "\n",
    "    x = Dense(128)(x)\n",
    "    x = tf.keras.layers.LeakyReLU(alpha=0.2)(x)\n",
    "    x = Dense(64)(x)\n",
    "    x = tf.keras.layers.LeakyReLU(alpha=0.2)(x)\n",
    "    x = Dense(1)(x)\n",
    "\n",
    "    model = Model(inputs=inputs, outputs=x)\n",
    "    return model\n",
    "\n",
    "# Create an instance of the model\n",
    "model = transformer_model()\n",
    "\n",
    "# Compile the model\n",
    "model.compile(loss='mean_squared_error', optimizer='adam')\n",
    "\n",
    "# Train the model\n",
    "model.fit(X_train, y_train, epochs=20, batch_size=8, validation_data=(X_test, y_test))\n",
    "\n",
    "# Make predictions\n",
    "predictions = model.predict(X_test)\n",
    "\n",
    "# Reshape predictions\n",
    "predictions = predictions.reshape(-1, 1)\n",
    "\n",
    "# Inverse scale the predictions and actual values\n",
    "predictions = scaler.inverse_transform(predictions)\n",
    "actual_values = scaler.inverse_transform(y_test.reshape(-1, 1))\n",
    "\n",
    "# Plot the predicted and actual values\n",
    "trace1 = go.Scatter(\n",
    "    x=test_data['Date'].values[sequence_length:],\n",
    "    y=predictions.flatten(),\n",
    "    mode='lines',\n",
    "    name='Predicted'\n",
    ")\n",
    "\n",
    "trace2 = go.Scatter(\n",
    "    x=test_data['Date'].values[sequence_length:],\n",
    "    y=actual_values.flatten(),\n",
    "    mode='lines',\n",
    "    name='Actual'\n",
    ")\n",
    "\n",
    "layout = go.Layout(\n",
    "    title='Predicted vs Actual Stock Prices',\n",
    "    xaxis={'title': \"Date\"},\n",
    "    yaxis={'title': \"Close\"}\n",
    ")\n",
    "\n",
    "fig = go.Figure(data=[trace1, trace2], layout=layout)\n",
    "fig.show()\n"
   ]
  },
  {
   "attachments": {},
   "cell_type": "markdown",
   "metadata": {},
   "source": [
    "# EDA The Historical Data (ChatGPT helped to create these models)"
   ]
  },
  {
   "cell_type": "code",
   "execution_count": 14,
   "metadata": {},
   "outputs": [
    {
     "name": "stderr",
     "output_type": "stream",
     "text": [
      "C:\\Users\\emili\\AppData\\Local\\Temp\\ipykernel_2128\\525373428.py:14: MatplotlibDeprecationWarning:\n",
      "\n",
      "Support for passing numbers through unit converters is deprecated since 3.5 and support will be removed two minor releases later; use Axis.convert_units instead.\n",
      "\n"
     ]
    },
    {
     "data": {
      "image/png": "[encoded data removed]",
      "text/plain": [
       "<Figure size 864x432 with 1 Axes>"
      ]
     },
     "metadata": {
      "needs_background": "light"
     },
     "output_type": "display_data"
    },
    {
     "data": {
      "application/vnd.plotly.v1+json": {
       "config": {
        "plotlyServerURL": "https://plot.ly"
       },
       "data": [
        {
         "close": [
          279.429993,
          268.193329,
          274.799988,
          286.323334,
          279.433319,
          265.116669,
          255.456665,
          267.296661,
          280.07666,
          290.533325,
          301.796661,
          307.053345,
          331.32666,
          333.036682,
          337.973328,
          336.880005,
          363.946655,
          366.523346,
          364.66333,
          359.200012,
          361.529999,
          381.816681,
          363.753326,
          348.58667,
          352.420013,
          341.829987,
          325.309998,
          328.983337,
          340.790009,
          328.333344,
          334.763336,
          342.716675,
          325.733337,
          336.26001,
          335.016663,
          332.67334,
          292.140015,
          293.83667,
          292.503326,
          290.253326,
          300.980011,
          303.083344,
          317.540009,
          291.093323,
          288.549988,
          262.369995,
          266.679993,
          244.666672,
          242.666672,
          256.529999,
          241.456665,
          253.869995,
          236.603333,
          236.473328,
          221.300003,
          224.96666,
          209.386673,
          219.600006,
          235.910004,
          253.210007,
          252.753326,
          246.789993,
          258.333344,
          234.516663,
          238.279999,
          238.886673,
          241.866669,
          239.706665,
          232.229996,
          215.736664,
          220.889999,
          233,
          213.100006,
          216.759995,
          237.036667,
          236.08667,
          235.070007,
          245.706665,
          244.919998,
          232.66333,
          228.490005,
          224.473328,
          227.263336,
          233.066666,
          231.733337,
          244.543335,
          250.763336,
          234.343338,
          233.070007,
          237.039993,
          238.313339,
          240.066666,
          240.546661,
          245.529999,
          247.5,
          271.706665,
          272.243347,
          268.433319,
          258.859985,
          274.820007,
          280.899994,
          297.149994,
          297.276672,
          300.58667,
          307.396667,
          308.633331,
          288.170013,
          290.42334,
          283.333344,
          294.356659,
          286.630005,
          300.029999,
          309.320007,
          306.563324,
          303.996674,
          302.869995,
          296.666656,
          289.91333,
          296.453339,
          297.09668,
          296.070007,
          288.089996,
          284.820007,
          277.700012,
          275.609985,
          277.160004,
          270.209991,
          274.420013,
          283.700012,
          289.26001,
          299.679993,
          304.420013,
          292.130005,
          302.609985,
          303.75,
          303.350006,
          309.070007,
          308.730011,
          300.799988,
          288.589996,
          275.329987,
          276.01001,
          282.940002,
          287.809998,
          268.209991,
          265.25,
          242.399994,
          249.440002,
          240.809998,
          238.130005
         ],
         "high": [
          285.216675,
          288.713318,
          283.329987,
          286.853333,
          284.816681,
          281.266663,
          266.899994,
          268.523346,
          280.666656,
          291.666656,
          302.616669,
          314.283325,
          332.619995,
          346.899994,
          341.496674,
          340.600006,
          365.959991,
          371.589996,
          371.316681,
          367.713318,
          364.916656,
          383.303345,
          384.290009,
          359.666656,
          358.863342,
          349.480011,
          336.156677,
          340.396667,
          342.079987,
          337.570007,
          338.306671,
          344.980011,
          344.666656,
          364.073334,
          344.950012,
          336.206665,
          333.333344,
          306,
          300,
          311.466675,
          302.119995,
          308.026672,
          318.5,
          315.200012,
          296,
          281.876678,
          275.119995,
          269.92334,
          253.220001,
          262.450012,
          256.58667,
          254.82666,
          253.5,
          244.666672,
          240.526672,
          226.653336,
          217.973328,
          223.106674,
          239.556671,
          253.266663,
          259.600006,
          257.32666,
          264.209991,
          247.796661,
          244.866669,
          239.996674,
          249.963333,
          255.546661,
          239.5,
          226.633331,
          226.330002,
          235.66333,
          225.166672,
          220.970001,
          243.57666,
          246.833328,
          239.316666,
          246.066666,
          252.070007,
          249.970001,
          231.17334,
          229.456665,
          230.229996,
          233.146667,
          234.563339,
          245.363327,
          254.979996,
          253.063339,
          239.773331,
          242.059998,
          238.653336,
          243.623337,
          250.516663,
          247.139999,
          250.66333,
          273.266663,
          280.786682,
          274.146667,
          267.309998,
          275.926666,
          283.299988,
          298.320007,
          311.876678,
          307.833344,
          309.549988,
          313.606659,
          304.606659,
          305.200012,
          292.396667,
          297.51001,
          298.236664,
          300.160004,
          313.133331,
          314.666656,
          309.656677,
          306.5,
          300.359985,
          292.399994,
          298.82666,
          303.646667,
          302.959991,
          302,
          287.73999,
          288.480011,
          281.25,
          277.579987,
          282.350006,
          275.98999,
          283.839996,
          289.5,
          299.850006,
          305.48999,
          297.399994,
          306,
          309.119995,
          303.709991,
          309.839996,
          313.329987,
          313.799988,
          301.290009,
          284.5,
          284.089996,
          288.670013,
          289,
          283.649994,
          275.570007,
          255.160004,
          257.5,
          246.669998,
          244.580002
         ],
         "low": [
          275.053345,
          268.190002,
          260.723328,
          277.33667,
          270.119995,
          264.589996,
          252.013336,
          252.190002,
          267.420013,
          275.23999,
          289.130005,
          302.363342,
          307.25,
          325.466675,
          329.600006,
          332.440002,
          351.200012,
          357.703339,
          361.333344,
          358.880005,
          355.546661,
          357.51001,
          362.433319,
          342.566681,
          340.513336,
          340.813324,
          324.880005,
          325.533325,
          324.366669,
          327.396667,
          324.470001,
          331.776672,
          325.083344,
          332.140015,
          331.333344,
          325.100006,
          291.666656,
          292.453339,
          273.899994,
          290,
          282.676666,
          296.196655,
          295.093323,
          285.899994,
          281.036682,
          260.383331,
          258.083344,
          242.399994,
          226.666672,
          250.523331,
          239.696671,
          242.949997,
          233.603333,
          231.369995,
          211,
          212.686661,
          206.856674,
          207.669998,
          217.886673,
          240.176666,
          244.743332,
          243.639999,
          242.066666,
          233.416672,
          234.350006,
          230.093338,
          239.176666,
          239.32666,
          227.91333,
          214.683334,
          211.736664,
          218.149994,
          208.693329,
          213.196671,
          224.333328,
          233.82666,
          228.636673,
          236.08667,
          242.566666,
          232.343338,
          222.273331,
          218.863327,
          222.119995,
          216.166672,
          227.186661,
          232.210007,
          241.160004,
          233.626663,
          228.369995,
          225.03334,
          229.333328,
          236.889999,
          239.603333,
          236.976669,
          243.483337,
          254.866669,
          270.713318,
          267.399994,
          256.263336,
          261.790009,
          272.799988,
          279.100006,
          295,
          292.666656,
          301.149994,
          305,
          285.543335,
          289.08667,
          279.353333,
          283.369995,
          285.833344,
          285.033325,
          301.230011,
          302.883331,
          300.033325,
          301.853333,
          292.5,
          286.296661,
          287.92334,
          296.5,
          291.600006,
          287.470001,
          280.700012,
          272.649994,
          271.809998,
          266.149994,
          269.079987,
          265.73999,
          272.269989,
          279.76001,
          291.25,
          300.399994,
          290.399994,
          291.640015,
          300.720001,
          295.600006,
          297.799988,
          305.579987,
          300.630005,
          285.820007,
          272.820007,
          270.309998,
          277.51001,
          277.570007,
          265.779999,
          262.470001,
          241.009995,
          242.009995,
          233.270004,
          235.350006
         ],
         "open": [
          283.033325,
          285.433319,
          265.176666,
          279.82666,
          283.816681,
          280.066681,
          260.203339,
          258.42334,
          269.666656,
          276.996674,
          291.496674,
          304.993347,
          310,
          326.646667,
          336.57666,
          336,
          355.033325,
          369.329987,
          363.723328,
          364.856659,
          360.383331,
          363.126678,
          378.766663,
          357.823334,
          350.796661,
          347.736664,
          326.799988,
          332.546661,
          327.026672,
          333.09668,
          329.676666,
          335.019989,
          343.333344,
          358.243347,
          338.303345,
          326.323334,
          331.809998,
          299.526672,
          299.993347,
          300.75,
          286.92334,
          301.059998,
          301.313324,
          313.006653,
          295.666656,
          278.816681,
          273.103333,
          265,
          233.666672,
          257.82666,
          255.720001,
          249.119995,
          248.17334,
          235.666672,
          237.996674,
          218.339996,
          217.843338,
          207.949997,
          220.473328,
          241.083328,
          257.946655,
          251.720001,
          244.156662,
          243.226669,
          244.353333,
          234,
          240.08667,
          249.339996,
          235.156662,
          223.166672,
          218.286667,
          220.916672,
          222.736664,
          213.433334,
          224.603333,
          234.503326,
          237.906662,
          237.470001,
          249.366669,
          244.483337,
          230.5,
          224.509995,
          227,
          223,
          230.779999,
          233.919998,
          242.333328,
          252.103333,
          236.846664,
          225.5,
          234.896667,
          240,
          244.936661,
          245,
          246.78334,
          255.106674,
          276.220001,
          272.216675,
          266.513336,
          263.809998,
          280.066681,
          280.700012,
          301.276672,
          294.003326,
          305,
          311,
          302.670013,
          295,
          290.293335,
          297.066681,
          296.513336,
          289.416656,
          301.786682,
          311.666656,
          303.396667,
          306,
          299,
          291.91333,
          291.453339,
          297.563324,
          302.359985,
          297.429993,
          282.829987,
          287.869995,
          280.619995,
          272.579987,
          281.070007,
          272.679993,
          273.100006,
          281.299988,
          291.670013,
          300.720001,
          292.899994,
          292.23999,
          301.829987,
          299.609985,
          300.089996,
          306.910004,
          308.290009,
          299.859985,
          283.089996,
          271.829987,
          283.839996,
          283.079987,
          282.76001,
          266.149994,
          254.5,
          250.520004,
          245.009995,
          239.440002
         ],
         "type": "candlestick",
         "x": [
          "2022-03-04",
          "2022-03-07",
          "2022-03-08",
          "2022-03-09",
          "2022-03-10",
          "2022-03-11",
          "2022-03-14",
          "2022-03-15",
          "2022-03-16",
          "2022-03-17",
          "2022-03-18",
          "2022-03-21",
          "2022-03-22",
          "2022-03-23",
          "2022-03-24",
          "2022-03-25",
          "2022-03-28",
          "2022-03-29",
          "2022-03-30",
          "2022-03-31",
          "2022-04-01",
          "2022-04-04",
          "2022-04-05",
          "2022-04-06",
          "2022-04-07",
          "2022-04-08",
          "2022-04-11",
          "2022-04-12",
          "2022-04-13",
          "2022-04-14",
          "2022-04-18",
          "2022-04-19",
          "2022-04-20",
          "2022-04-21",
          "2022-04-22",
          "2022-04-25",
          "2022-04-26",
          "2022-04-27",
          "2022-04-28",
          "2022-04-29",
          "2022-05-02",
          "2022-05-03",
          "2022-05-04",
          "2022-05-05",
          "2022-05-06",
          "2022-05-09",
          "2022-05-10",
          "2022-05-11",
          "2022-05-12",
          "2022-05-13",
          "2022-05-16",
          "2022-05-17",
          "2022-05-18",
          "2022-05-19",
          "2022-05-20",
          "2022-05-23",
          "2022-05-24",
          "2022-05-25",
          "2022-05-26",
          "2022-05-27",
          "2022-05-31",
          "2022-06-01",
          "2022-06-02",
          "2022-06-03",
          "2022-06-06",
          "2022-06-07",
          "2022-06-08",
          "2022-06-09",
          "2022-06-10",
          "2022-06-13",
          "2022-06-14",
          "2022-06-15",
          "2022-06-16",
          "2022-06-17",
          "2022-06-21",
          "2022-06-22",
          "2022-06-23",
          "2022-06-24",
          "2022-06-27",
          "2022-06-28",
          "2022-06-29",
          "2022-06-30",
          "2022-07-01",
          "2022-07-05",
          "2022-07-06",
          "2022-07-07",
          "2022-07-08",
          "2022-07-11",
          "2022-07-12",
          "2022-07-13",
          "2022-07-14",
          "2022-07-15",
          "2022-07-18",
          "2022-07-19",
          "2022-07-20",
          "2022-07-21",
          "2022-07-22",
          "2022-07-25",
          "2022-07-26",
          "2022-07-27",
          "2022-07-28",
          "2022-07-29",
          "2022-08-01",
          "2022-08-02",
          "2022-08-03",
          "2022-08-04",
          "2022-08-05",
          "2022-08-08",
          "2022-08-09",
          "2022-08-10",
          "2022-08-11",
          "2022-08-12",
          "2022-08-15",
          "2022-08-16",
          "2022-08-17",
          "2022-08-18",
          "2022-08-19",
          "2022-08-22",
          "2022-08-23",
          "2022-08-24",
          "2022-08-25",
          "2022-08-26",
          "2022-08-29",
          "2022-08-30",
          "2022-08-31",
          "2022-09-01",
          "2022-09-02",
          "2022-09-06",
          "2022-09-07",
          "2022-09-08",
          "2022-09-09",
          "2022-09-12",
          "2022-09-13",
          "2022-09-14",
          "2022-09-15",
          "2022-09-16",
          "2022-09-19",
          "2022-09-20",
          "2022-09-21",
          "2022-09-22",
          "2022-09-23",
          "2022-09-26",
          "2022-09-27",
          "2022-09-28",
          "2022-09-29",
          "2022-09-30",
          "2022-10-03",
          "2022-10-04",
          "2022-10-05",
          "2022-10-06"
         ]
        }
       ],
       "layout": {
        "template": {
         "data": {
          "bar": [
           {
            "error_x": {
             "color": "#2a3f5f"
            },
            "error_y": {
             "color": "#2a3f5f"
            },
            "marker": {
             "line": {
              "color": "#E5ECF6",
              "width": 0.5
             },
             "pattern": {
              "fillmode": "overlay",
              "size": 10,
              "solidity": 0.2
             }
            },
            "type": "bar"
           }
          ],
          "barpolar": [
           {
            "marker": {
             "line": {
              "color": "#E5ECF6",
              "width": 0.5
             },
             "pattern": {
              "fillmode": "overlay",
              "size": 10,
              "solidity": 0.2
             }
            },
            "type": "barpolar"
           }
          ],
          "carpet": [
           {
            "aaxis": {
             "endlinecolor": "#2a3f5f",
             "gridcolor": "white",
             "linecolor": "white",
             "minorgridcolor": "white",
             "startlinecolor": "#2a3f5f"
            },
            "baxis": {
             "endlinecolor": "#2a3f5f",
             "gridcolor": "white",
             "linecolor": "white",
             "minorgridcolor": "white",
             "startlinecolor": "#2a3f5f"
            },
            "type": "carpet"
           }
          ],
          "choropleth": [
           {
            "colorbar": {
             "outlinewidth": 0,
             "ticks": ""
            },
            "type": "choropleth"
           }
          ],
          "contour": [
           {
            "colorbar": {
             "outlinewidth": 0,
             "ticks": ""
            },
            "colorscale": [
             [
              0,
              "#0d0887"
             ],
             [
              0.1111111111111111,
              "#46039f"
             ],
             [
              0.2222222222222222,
              "#7201a8"
             ],
             [
              0.3333333333333333,
              "#9c179e"
             ],
             [
              0.4444444444444444,
              "#bd3786"
             ],
             [
              0.5555555555555556,
              "#d8576b"
             ],
             [
              0.6666666666666666,
              "#ed7953"
             ],
             [
              0.7777777777777778,
              "#fb9f3a"
             ],
             [
              0.8888888888888888,
              "#fdca26"
             ],
             [
              1,
              "#f0f921"
             ]
            ],
            "type": "contour"
           }
          ],
          "contourcarpet": [
           {
            "colorbar": {
             "outlinewidth": 0,
             "ticks": ""
            },
            "type": "contourcarpet"
           }
          ],
          "heatmap": [
           {
            "colorbar": {
             "outlinewidth": 0,
             "ticks": ""
            },
            "colorscale": [
             [
              0,
              "#0d0887"
             ],
             [
              0.1111111111111111,
              "#46039f"
             ],
             [
              0.2222222222222222,
              "#7201a8"
             ],
             [
              0.3333333333333333,
              "#9c179e"
             ],
             [
              0.4444444444444444,
              "#bd3786"
             ],
             [
              0.5555555555555556,
              "#d8576b"
             ],
             [
              0.6666666666666666,
              "#ed7953"
             ],
             [
              0.7777777777777778,
              "#fb9f3a"
             ],
             [
              0.8888888888888888,
              "#fdca26"
             ],
             [
              1,
              "#f0f921"
             ]
            ],
            "type": "heatmap"
           }
          ],
          "heatmapgl": [
           {
            "colorbar": {
             "outlinewidth": 0,
             "ticks": ""
            },
            "colorscale": [
             [
              0,
              "#0d0887"
             ],
             [
              0.1111111111111111,
              "#46039f"
             ],
             [
              0.2222222222222222,
              "#7201a8"
             ],
             [
              0.3333333333333333,
              "#9c179e"
             ],
             [
              0.4444444444444444,
              "#bd3786"
             ],
             [
              0.5555555555555556,
              "#d8576b"
             ],
             [
              0.6666666666666666,
              "#ed7953"
             ],
             [
              0.7777777777777778,
              "#fb9f3a"
             ],
             [
              0.8888888888888888,
              "#fdca26"
             ],
             [
              1,
              "#f0f921"
             ]
            ],
            "type": "heatmapgl"
           }
          ],
          "histogram": [
           {
            "marker": {
             "pattern": {
              "fillmode": "overlay",
              "size": 10,
              "solidity": 0.2
             }
            },
            "type": "histogram"
           }
          ],
          "histogram2d": [
           {
            "colorbar": {
             "outlinewidth": 0,
             "ticks": ""
            },
            "colorscale": [
             [
              0,
              "#0d0887"
             ],
             [
              0.1111111111111111,
              "#46039f"
             ],
             [
              0.2222222222222222,
              "#7201a8"
             ],
             [
              0.3333333333333333,
              "#9c179e"
             ],
             [
              0.4444444444444444,
              "#bd3786"
             ],
             [
              0.5555555555555556,
              "#d8576b"
             ],
             [
              0.6666666666666666,
              "#ed7953"
             ],
             [
              0.7777777777777778,
              "#fb9f3a"
             ],
             [
              0.8888888888888888,
              "#fdca26"
             ],
             [
              1,
              "#f0f921"
             ]
            ],
            "type": "histogram2d"
           }
          ],
          "histogram2dcontour": [
           {
            "colorbar": {
             "outlinewidth": 0,
             "ticks": ""
            },
            "colorscale": [
             [
              0,
              "#0d0887"
             ],
             [
              0.1111111111111111,
              "#46039f"
             ],
             [
              0.2222222222222222,
              "#7201a8"
             ],
             [
              0.3333333333333333,
              "#9c179e"
             ],
             [
              0.4444444444444444,
              "#bd3786"
             ],
             [
              0.5555555555555556,
              "#d8576b"
             ],
             [
              0.6666666666666666,
              "#ed7953"
             ],
             [
              0.7777777777777778,
              "#fb9f3a"
             ],
             [
              0.8888888888888888,
              "#fdca26"
             ],
             [
              1,
              "#f0f921"
             ]
            ],
            "type": "histogram2dcontour"
           }
          ],
          "mesh3d": [
           {
            "colorbar": {
             "outlinewidth": 0,
             "ticks": ""
            },
            "type": "mesh3d"
           }
          ],
          "parcoords": [
           {
            "line": {
             "colorbar": {
              "outlinewidth": 0,
              "ticks": ""
             }
            },
            "type": "parcoords"
           }
          ],
          "pie": [
           {
            "automargin": true,
            "type": "pie"
           }
          ],
          "scatter": [
           {
            "fillpattern": {
             "fillmode": "overlay",
             "size": 10,
             "solidity": 0.2
            },
            "type": "scatter"
           }
          ],
          "scatter3d": [
           {
            "line": {
             "colorbar": {
              "outlinewidth": 0,
              "ticks": ""
             }
            },
            "marker": {
             "colorbar": {
              "outlinewidth": 0,
              "ticks": ""
             }
            },
            "type": "scatter3d"
           }
          ],
          "scattercarpet": [
           {
            "marker": {
             "colorbar": {
              "outlinewidth": 0,
              "ticks": ""
             }
            },
            "type": "scattercarpet"
           }
          ],
          "scattergeo": [
           {
            "marker": {
             "colorbar": {
              "outlinewidth": 0,
              "ticks": ""
             }
            },
            "type": "scattergeo"
           }
          ],
          "scattergl": [
           {
            "marker": {
             "colorbar": {
              "outlinewidth": 0,
              "ticks": ""
             }
            },
            "type": "scattergl"
           }
          ],
          "scattermapbox": [
           {
            "marker": {
             "colorbar": {
              "outlinewidth": 0,
              "ticks": ""
             }
            },
            "type": "scattermapbox"
           }
          ],
          "scatterpolar": [
           {
            "marker": {
             "colorbar": {
              "outlinewidth": 0,
              "ticks": ""
             }
            },
            "type": "scatterpolar"
           }
          ],
          "scatterpolargl": [
           {
            "marker": {
             "colorbar": {
              "outlinewidth": 0,
              "ticks": ""
             }
            },
            "type": "scatterpolargl"
           }
          ],
          "scatterternary": [
           {
            "marker": {
             "colorbar": {
              "outlinewidth": 0,
              "ticks": ""
             }
            },
            "type": "scatterternary"
           }
          ],
          "surface": [
           {
            "colorbar": {
             "outlinewidth": 0,
             "ticks": ""
            },
            "colorscale": [
             [
              0,
              "#0d0887"
             ],
             [
              0.1111111111111111,
              "#46039f"
             ],
             [
              0.2222222222222222,
              "#7201a8"
             ],
             [
              0.3333333333333333,
              "#9c179e"
             ],
             [
              0.4444444444444444,
              "#bd3786"
             ],
             [
              0.5555555555555556,
              "#d8576b"
             ],
             [
              0.6666666666666666,
              "#ed7953"
             ],
             [
              0.7777777777777778,
              "#fb9f3a"
             ],
             [
              0.8888888888888888,
              "#fdca26"
             ],
             [
              1,
              "#f0f921"
             ]
            ],
            "type": "surface"
           }
          ],
          "table": [
           {
            "cells": {
             "fill": {
              "color": "#EBF0F8"
             },
             "line": {
              "color": "white"
             }
            },
            "header": {
             "fill": {
              "color": "#C8D4E3"
             },
             "line": {
              "color": "white"
             }
            },
            "type": "table"
           }
          ]
         },
         "layout": {
          "annotationdefaults": {
           "arrowcolor": "#2a3f5f",
           "arrowhead": 0,
           "arrowwidth": 1
          },
          "autotypenumbers": "strict",
          "coloraxis": {
           "colorbar": {
            "outlinewidth": 0,
            "ticks": ""
           }
          },
          "colorscale": {
           "diverging": [
            [
             0,
             "#8e0152"
            ],
            [
             0.1,
             "#c51b7d"
            ],
            [
             0.2,
             "#de77ae"
            ],
            [
             0.3,
             "#f1b6da"
            ],
            [
             0.4,
             "#fde0ef"
            ],
            [
             0.5,
             "#f7f7f7"
            ],
            [
             0.6,
             "#e6f5d0"
            ],
            [
             0.7,
             "#b8e186"
            ],
            [
             0.8,
             "#7fbc41"
            ],
            [
             0.9,
             "#4d9221"
            ],
            [
             1,
             "#276419"
            ]
           ],
           "sequential": [
            [
             0,
             "#0d0887"
            ],
            [
             0.1111111111111111,
             "#46039f"
            ],
            [
             0.2222222222222222,
             "#7201a8"
            ],
            [
             0.3333333333333333,
             "#9c179e"
            ],
            [
             0.4444444444444444,
             "#bd3786"
            ],
            [
             0.5555555555555556,
             "#d8576b"
            ],
            [
             0.6666666666666666,
             "#ed7953"
            ],
            [
             0.7777777777777778,
             "#fb9f3a"
            ],
            [
             0.8888888888888888,
             "#fdca26"
            ],
            [
             1,
             "#f0f921"
            ]
           ],
           "sequentialminus": [
            [
             0,
             "#0d0887"
            ],
            [
             0.1111111111111111,
             "#46039f"
            ],
            [
             0.2222222222222222,
             "#7201a8"
            ],
            [
             0.3333333333333333,
             "#9c179e"
            ],
            [
             0.4444444444444444,
             "#bd3786"
            ],
            [
             0.5555555555555556,
             "#d8576b"
            ],
            [
             0.6666666666666666,
             "#ed7953"
            ],
            [
             0.7777777777777778,
             "#fb9f3a"
            ],
            [
             0.8888888888888888,
             "#fdca26"
            ],
            [
             1,
             "#f0f921"
            ]
           ]
          },
          "colorway": [
           "#636efa",
           "#EF553B",
           "#00cc96",
           "#ab63fa",
           "#FFA15A",
           "#19d3f3",
           "#FF6692",
           "#B6E880",
           "#FF97FF",
           "#FECB52"
          ],
          "font": {
           "color": "#2a3f5f"
          },
          "geo": {
           "bgcolor": "white",
           "lakecolor": "white",
           "landcolor": "#E5ECF6",
           "showlakes": true,
           "showland": true,
           "subunitcolor": "white"
          },
          "hoverlabel": {
           "align": "left"
          },
          "hovermode": "closest",
          "mapbox": {
           "style": "light"
          },
          "paper_bgcolor": "white",
          "plot_bgcolor": "#E5ECF6",
          "polar": {
           "angularaxis": {
            "gridcolor": "white",
            "linecolor": "white",
            "ticks": ""
           },
           "bgcolor": "#E5ECF6",
           "radialaxis": {
            "gridcolor": "white",
            "linecolor": "white",
            "ticks": ""
           }
          },
          "scene": {
           "xaxis": {
            "backgroundcolor": "#E5ECF6",
            "gridcolor": "white",
            "gridwidth": 2,
            "linecolor": "white",
            "showbackground": true,
            "ticks": "",
            "zerolinecolor": "white"
           },
           "yaxis": {
            "backgroundcolor": "#E5ECF6",
            "gridcolor": "white",
            "gridwidth": 2,
            "linecolor": "white",
            "showbackground": true,
            "ticks": "",
            "zerolinecolor": "white"
           },
           "zaxis": {
            "backgroundcolor": "#E5ECF6",
            "gridcolor": "white",
            "gridwidth": 2,
            "linecolor": "white",
            "showbackground": true,
            "ticks": "",
            "zerolinecolor": "white"
           }
          },
          "shapedefaults": {
           "line": {
            "color": "#2a3f5f"
           }
          },
          "ternary": {
           "aaxis": {
            "gridcolor": "white",
            "linecolor": "white",
            "ticks": ""
           },
           "baxis": {
            "gridcolor": "white",
            "linecolor": "white",
            "ticks": ""
           },
           "bgcolor": "#E5ECF6",
           "caxis": {
            "gridcolor": "white",
            "linecolor": "white",
            "ticks": ""
           }
          },
          "title": {
           "x": 0.05
          },
          "xaxis": {
           "automargin": true,
           "gridcolor": "white",
           "linecolor": "white",
           "ticks": "",
           "title": {
            "standoff": 15
           },
           "zerolinecolor": "white",
           "zerolinewidth": 2
          },
          "yaxis": {
           "automargin": true,
           "gridcolor": "white",
           "linecolor": "white",
           "ticks": "",
           "title": {
            "standoff": 15
           },
           "zerolinecolor": "white",
           "zerolinewidth": 2
          }
         }
        },
        "title": {
         "text": "Tesla Stock - Candlestick Chart"
        },
        "xaxis": {
         "title": {
          "text": "Date"
         }
        },
        "yaxis": {
         "title": {
          "text": "Price"
         }
        }
       }
      }
     },
     "metadata": {},
     "output_type": "display_data"
    },
    {
     "name": "stderr",
     "output_type": "stream",
     "text": [
      "C:\\Users\\emili\\AppData\\Local\\Temp\\ipykernel_2128\\525373428.py:37: MatplotlibDeprecationWarning:\n",
      "\n",
      "Support for passing numbers through unit converters is deprecated since 3.5 and support will be removed two minor releases later; use Axis.convert_units instead.\n",
      "\n"
     ]
    },
    {
     "data": {
      "image/png": "[encoded data removed]",
      "text/plain": [
       "<Figure size 864x432 with 1 Axes>"
      ]
     },
     "metadata": {
      "needs_background": "light"
     },
     "output_type": "display_data"
    },
    {
     "name": "stderr",
     "output_type": "stream",
     "text": [
      "C:\\Users\\emili\\AppData\\Local\\Temp\\ipykernel_2128\\525373428.py:57: MatplotlibDeprecationWarning:\n",
      "\n",
      "Support for passing numbers through unit converters is deprecated since 3.5 and support will be removed two minor releases later; use Axis.convert_units instead.\n",
      "\n"
     ]
    },
    {
     "data": {
      "image/png": "[encoded data removed]",
      "text/plain": [
       "<Figure size 864x432 with 1 Axes>"
      ]
     },
     "metadata": {
      "needs_background": "light"
     },
     "output_type": "display_data"
    },
    {
     "data": {
      "image/png": "[encoded data removed]",
      "text/plain": [
       "<Figure size 576x432 with 2 Axes>"
      ]
     },
     "metadata": {
      "needs_background": "light"
     },
     "output_type": "display_data"
    },
    {
     "data": {
      "image/png": "[encoded data removed]",
      "text/plain": [
       "<Figure size 576x432 with 1 Axes>"
      ]
     },
     "metadata": {
      "needs_background": "light"
     },
     "output_type": "display_data"
    }
   ],
   "source": [
    "df = pd.read_csv(r'C:\\Users\\emili\\Downloads\\Machine_Learning_SP_Course\\Machine_Learning_Project\\TSLA.csv')\n",
    "df = df.drop(labels=range(0, len(df.index)-(150)), axis=0);\n",
    "\n",
    "# Line Plot - Closing Price over Time\n",
    "plt.figure(figsize=(12, 6))\n",
    "plt.plot(df['Date'], df['Close'])\n",
    "plt.title('Tesla Stock - Closing Price over Time')\n",
    "plt.xlabel('Date')\n",
    "plt.ylabel('Closing Price')\n",
    "plt.xticks([])\n",
    "plt.show()\n",
    "\n",
    "# Candlestick Chart\n",
    "\n",
    "fig = go.Figure(data=[go.Candlestick(x=df['Date'],\n",
    "                                    open=df['Open'],\n",
    "                                    high=df['High'],\n",
    "                                    low=df['Low'],\n",
    "                                    close=df['Close'])])\n",
    "\n",
    "fig.update_layout(title='Tesla Stock - Candlestick Chart',\n",
    "                  xaxis_title='Date',\n",
    "                  yaxis_title='Price')\n",
    "fig.show()\n",
    "\n",
    "# Volume Chart\n",
    "plt.figure(figsize=(12, 6))\n",
    "plt.bar(df['Date'], df['Volume'])\n",
    "plt.title('Tesla Stock - Volume')\n",
    "plt.xlabel('Date')\n",
    "plt.ylabel('Volume')\n",
    "plt.xticks([])\n",
    "plt.show()\n",
    "\n",
    "# Relative Strength Index (RSI) Plot\n",
    "def compute_rsi(df, window=14):\n",
    "    close_diff = df['Close'].diff()\n",
    "    up = close_diff.where(close_diff > 0, 0)\n",
    "    down = -close_diff.where(close_diff < 0, 0)\n",
    "    avg_gain = up.rolling(window).mean()\n",
    "    avg_loss = down.rolling(window).mean()\n",
    "    rsi = 100 - (100 / (1 + (avg_gain / avg_loss)))\n",
    "    return rsi\n",
    "\n",
    "rsi = compute_rsi(df)\n",
    "\n",
    "plt.figure(figsize=(12, 6))\n",
    "plt.plot(df['Date'], rsi)\n",
    "plt.title('Tesla Stock - Relative Strength Index (RSI)')\n",
    "plt.xlabel('Date')\n",
    "plt.ylabel('RSI')\n",
    "plt.xticks([])\n",
    "plt.show()\n",
    "\n",
    "# Correlation Heatmap\n",
    "import seaborn as sns\n",
    "\n",
    "corr = df[['Close', 'Open', 'Volume', 'Volume']].corr()\n",
    "\n",
    "plt.figure(figsize=(8, 6))\n",
    "sns.heatmap(corr, annot=True, cmap='coolwarm')\n",
    "plt.title('Correlation Heatmap')\n",
    "plt.show()\n",
    "\n",
    "# Scatter Plot - Volume vs. Closing Price\n",
    "plt.figure(figsize=(8, 6))\n",
    "plt.scatter(df['Volume'], df['Close'])\n",
    "plt.title('Tesla Stock - Volume vs. Closing Price')\n",
    "plt.xlabel('Volume')\n",
    "plt.ylabel('Closing Price')\n",
    "plt.show()\n"
   ]
  },
  {
   "attachments": {},
   "cell_type": "markdown",
   "metadata": {},
   "source": [
    "## Discussion\n",
    "\n",
    "### Line plot with Date and Close\n",
    "The first plot shows the actual data and gives us a visual of what the Close values look like for the Tesla stock. We can't perform much analysis on it, but we can tell how the value of Tesla has increased or decreased as time went on.\n",
    "\n",
    "### Candlestick Plot\n",
    "The Second plot is the candlestick plot and using this plot traders and financial analysts can decide whether or not to buy or sell the stock depending on the shape of the pattern from the candlestick plot. There are several known shapes that these candlestick plots can take like Doji, Hammer, Shooting Star, and Engulfing patterns (like bullish engulfing and bearish engulfing). In our case if we look at the last green-red pattern from our stock we can see that it is a bearish engulfing pattern. This tells us (if we were traders) that we should sell or short position, set a stop-loss order and monitor price to see what actions you should take and be ready to exit. And as we can see a lot of traders must have sold their stocks because the price of Tesla just kept going down from that last green-red pattern.\n",
    "\n",
    "### Bar Plot\n",
    "This bar plot shows us the volume and the volume is important to know because if we have more volume then that means that the price might go up, but this is very unsure. As we will see from the correlation map and the scatter plot of the Volume and Close value, there is a negative linear correlation, but it's a very small linear correlation.\n",
    "\n",
    "### RSI Plot\n",
    "The RSI plot tells us when the stock was overbought or oversold. The unique thing that we see here (and it's not too noticeable on the plot, but I printed out the RSI dataframe below so you can see for yourself), is that readings with RSI over 70 are considered overbought, indicating that the stock price may have risen too quickly! This is an important note because below you in the output of the dataframe you can see that AS SOON AS IT HIT 70 in the RSI there was a HUGE decline in the RSI and that's because everyone started selling the stock! Very unique and interesting thing to take note of.\n",
    "\n",
    "### Heatmap correlation and Scatter Plot\n",
    "The HeatMap correlation and the Scatter plot kind of tell us that there is a negative correlation between Close and Volume, and there's also a negative correlation between Open and Volume. That means as the volume decreases there is a small chance that the Close price will increase. But AGAIN I have to repeat myself from the above section, it's only a SMALL negative correlation, so there's always a chance that this doesn't occur at all."
   ]
  },
  {
   "cell_type": "code",
   "execution_count": 13,
   "metadata": {},
   "outputs": [
    {
     "data": {
      "application/vnd.plotly.v1+json": {
       "config": {
        "plotlyServerURL": "https://plot.ly"
       },
       "data": [
        {
         "close": [
          279.429993,
          268.193329,
          274.799988,
          286.323334,
          279.433319,
          265.116669,
          255.456665,
          267.296661,
          280.07666,
          290.533325,
          301.796661,
          307.053345,
          331.32666,
          333.036682,
          337.973328,
          336.880005,
          363.946655,
          366.523346,
          364.66333,
          359.200012,
          361.529999,
          381.816681,
          363.753326,
          348.58667,
          352.420013,
          341.829987,
          325.309998,
          328.983337,
          340.790009,
          328.333344,
          334.763336,
          342.716675,
          325.733337,
          336.26001,
          335.016663,
          332.67334,
          292.140015,
          293.83667,
          292.503326,
          290.253326,
          300.980011,
          303.083344,
          317.540009,
          291.093323,
          288.549988,
          262.369995,
          266.679993,
          244.666672,
          242.666672,
          256.529999,
          241.456665,
          253.869995,
          236.603333,
          236.473328,
          221.300003,
          224.96666,
          209.386673,
          219.600006,
          235.910004,
          253.210007,
          252.753326,
          246.789993,
          258.333344,
          234.516663,
          238.279999,
          238.886673,
          241.866669,
          239.706665,
          232.229996,
          215.736664,
          220.889999,
          233,
          213.100006,
          216.759995,
          237.036667,
          236.08667,
          235.070007,
          245.706665,
          244.919998,
          232.66333,
          228.490005,
          224.473328,
          227.263336,
          233.066666,
          231.733337,
          244.543335,
          250.763336,
          234.343338,
          233.070007,
          237.039993,
          238.313339,
          240.066666,
          240.546661,
          245.529999,
          247.5,
          271.706665,
          272.243347,
          268.433319,
          258.859985,
          274.820007,
          280.899994,
          297.149994,
          297.276672,
          300.58667,
          307.396667,
          308.633331,
          288.170013,
          290.42334,
          283.333344,
          294.356659,
          286.630005,
          300.029999,
          309.320007,
          306.563324,
          303.996674,
          302.869995,
          296.666656,
          289.91333,
          296.453339,
          297.09668,
          296.070007,
          288.089996,
          284.820007,
          277.700012,
          275.609985,
          277.160004,
          270.209991,
          274.420013,
          283.700012,
          289.26001,
          299.679993,
          304.420013,
          292.130005,
          302.609985,
          303.75,
          303.350006,
          309.070007,
          308.730011,
          300.799988,
          288.589996,
          275.329987,
          276.01001,
          282.940002,
          287.809998,
          268.209991,
          265.25,
          242.399994,
          249.440002,
          240.809998,
          238.130005
         ],
         "high": [
          285.216675,
          288.713318,
          283.329987,
          286.853333,
          284.816681,
          281.266663,
          266.899994,
          268.523346,
          280.666656,
          291.666656,
          302.616669,
          314.283325,
          332.619995,
          346.899994,
          341.496674,
          340.600006,
          365.959991,
          371.589996,
          371.316681,
          367.713318,
          364.916656,
          383.303345,
          384.290009,
          359.666656,
          358.863342,
          349.480011,
          336.156677,
          340.396667,
          342.079987,
          337.570007,
          338.306671,
          344.980011,
          344.666656,
          364.073334,
          344.950012,
          336.206665,
          333.333344,
          306,
          300,
          311.466675,
          302.119995,
          308.026672,
          318.5,
          315.200012,
          296,
          281.876678,
          275.119995,
          269.92334,
          253.220001,
          262.450012,
          256.58667,
          254.82666,
          253.5,
          244.666672,
          240.526672,
          226.653336,
          217.973328,
          223.106674,
          239.556671,
          253.266663,
          259.600006,
          257.32666,
          264.209991,
          247.796661,
          244.866669,
          239.996674,
          249.963333,
          255.546661,
          239.5,
          226.633331,
          226.330002,
          235.66333,
          225.166672,
          220.970001,
          243.57666,
          246.833328,
          239.316666,
          246.066666,
          252.070007,
          249.970001,
          231.17334,
          229.456665,
          230.229996,
          233.146667,
          234.563339,
          245.363327,
          254.979996,
          253.063339,
          239.773331,
          242.059998,
          238.653336,
          243.623337,
          250.516663,
          247.139999,
          250.66333,
          273.266663,
          280.786682,
          274.146667,
          267.309998,
          275.926666,
          283.299988,
          298.320007,
          311.876678,
          307.833344,
          309.549988,
          313.606659,
          304.606659,
          305.200012,
          292.396667,
          297.51001,
          298.236664,
          300.160004,
          313.133331,
          314.666656,
          309.656677,
          306.5,
          300.359985,
          292.399994,
          298.82666,
          303.646667,
          302.959991,
          302,
          287.73999,
          288.480011,
          281.25,
          277.579987,
          282.350006,
          275.98999,
          283.839996,
          289.5,
          299.850006,
          305.48999,
          297.399994,
          306,
          309.119995,
          303.709991,
          309.839996,
          313.329987,
          313.799988,
          301.290009,
          284.5,
          284.089996,
          288.670013,
          289,
          283.649994,
          275.570007,
          255.160004,
          257.5,
          246.669998,
          244.580002
         ],
         "low": [
          275.053345,
          268.190002,
          260.723328,
          277.33667,
          270.119995,
          264.589996,
          252.013336,
          252.190002,
          267.420013,
          275.23999,
          289.130005,
          302.363342,
          307.25,
          325.466675,
          329.600006,
          332.440002,
          351.200012,
          357.703339,
          361.333344,
          358.880005,
          355.546661,
          357.51001,
          362.433319,
          342.566681,
          340.513336,
          340.813324,
          324.880005,
          325.533325,
          324.366669,
          327.396667,
          324.470001,
          331.776672,
          325.083344,
          332.140015,
          331.333344,
          325.100006,
          291.666656,
          292.453339,
          273.899994,
          290,
          282.676666,
          296.196655,
          295.093323,
          285.899994,
          281.036682,
          260.383331,
          258.083344,
          242.399994,
          226.666672,
          250.523331,
          239.696671,
          242.949997,
          233.603333,
          231.369995,
          211,
          212.686661,
          206.856674,
          207.669998,
          217.886673,
          240.176666,
          244.743332,
          243.639999,
          242.066666,
          233.416672,
          234.350006,
          230.093338,
          239.176666,
          239.32666,
          227.91333,
          214.683334,
          211.736664,
          218.149994,
          208.693329,
          213.196671,
          224.333328,
          233.82666,
          228.636673,
          236.08667,
          242.566666,
          232.343338,
          222.273331,
          218.863327,
          222.119995,
          216.166672,
          227.186661,
          232.210007,
          241.160004,
          233.626663,
          228.369995,
          225.03334,
          229.333328,
          236.889999,
          239.603333,
          236.976669,
          243.483337,
          254.866669,
          270.713318,
          267.399994,
          256.263336,
          261.790009,
          272.799988,
          279.100006,
          295,
          292.666656,
          301.149994,
          305,
          285.543335,
          289.08667,
          279.353333,
          283.369995,
          285.833344,
          285.033325,
          301.230011,
          302.883331,
          300.033325,
          301.853333,
          292.5,
          286.296661,
          287.92334,
          296.5,
          291.600006,
          287.470001,
          280.700012,
          272.649994,
          271.809998,
          266.149994,
          269.079987,
          265.73999,
          272.269989,
          279.76001,
          291.25,
          300.399994,
          290.399994,
          291.640015,
          300.720001,
          295.600006,
          297.799988,
          305.579987,
          300.630005,
          285.820007,
          272.820007,
          270.309998,
          277.51001,
          277.570007,
          265.779999,
          262.470001,
          241.009995,
          242.009995,
          233.270004,
          235.350006
         ],
         "name": "Candlestick",
         "open": [
          283.033325,
          285.433319,
          265.176666,
          279.82666,
          283.816681,
          280.066681,
          260.203339,
          258.42334,
          269.666656,
          276.996674,
          291.496674,
          304.993347,
          310,
          326.646667,
          336.57666,
          336,
          355.033325,
          369.329987,
          363.723328,
          364.856659,
          360.383331,
          363.126678,
          378.766663,
          357.823334,
          350.796661,
          347.736664,
          326.799988,
          332.546661,
          327.026672,
          333.09668,
          329.676666,
          335.019989,
          343.333344,
          358.243347,
          338.303345,
          326.323334,
          331.809998,
          299.526672,
          299.993347,
          300.75,
          286.92334,
          301.059998,
          301.313324,
          313.006653,
          295.666656,
          278.816681,
          273.103333,
          265,
          233.666672,
          257.82666,
          255.720001,
          249.119995,
          248.17334,
          235.666672,
          237.996674,
          218.339996,
          217.843338,
          207.949997,
          220.473328,
          241.083328,
          257.946655,
          251.720001,
          244.156662,
          243.226669,
          244.353333,
          234,
          240.08667,
          249.339996,
          235.156662,
          223.166672,
          218.286667,
          220.916672,
          222.736664,
          213.433334,
          224.603333,
          234.503326,
          237.906662,
          237.470001,
          249.366669,
          244.483337,
          230.5,
          224.509995,
          227,
          223,
          230.779999,
          233.919998,
          242.333328,
          252.103333,
          236.846664,
          225.5,
          234.896667,
          240,
          244.936661,
          245,
          246.78334,
          255.106674,
          276.220001,
          272.216675,
          266.513336,
          263.809998,
          280.066681,
          280.700012,
          301.276672,
          294.003326,
          305,
          311,
          302.670013,
          295,
          290.293335,
          297.066681,
          296.513336,
          289.416656,
          301.786682,
          311.666656,
          303.396667,
          306,
          299,
          291.91333,
          291.453339,
          297.563324,
          302.359985,
          297.429993,
          282.829987,
          287.869995,
          280.619995,
          272.579987,
          281.070007,
          272.679993,
          273.100006,
          281.299988,
          291.670013,
          300.720001,
          292.899994,
          292.23999,
          301.829987,
          299.609985,
          300.089996,
          306.910004,
          308.290009,
          299.859985,
          283.089996,
          271.829987,
          283.839996,
          283.079987,
          282.76001,
          266.149994,
          254.5,
          250.520004,
          245.009995,
          239.440002
         ],
         "type": "candlestick",
         "x": [
          "2022-03-04",
          "2022-03-07",
          "2022-03-08",
          "2022-03-09",
          "2022-03-10",
          "2022-03-11",
          "2022-03-14",
          "2022-03-15",
          "2022-03-16",
          "2022-03-17",
          "2022-03-18",
          "2022-03-21",
          "2022-03-22",
          "2022-03-23",
          "2022-03-24",
          "2022-03-25",
          "2022-03-28",
          "2022-03-29",
          "2022-03-30",
          "2022-03-31",
          "2022-04-01",
          "2022-04-04",
          "2022-04-05",
          "2022-04-06",
          "2022-04-07",
          "2022-04-08",
          "2022-04-11",
          "2022-04-12",
          "2022-04-13",
          "2022-04-14",
          "2022-04-18",
          "2022-04-19",
          "2022-04-20",
          "2022-04-21",
          "2022-04-22",
          "2022-04-25",
          "2022-04-26",
          "2022-04-27",
          "2022-04-28",
          "2022-04-29",
          "2022-05-02",
          "2022-05-03",
          "2022-05-04",
          "2022-05-05",
          "2022-05-06",
          "2022-05-09",
          "2022-05-10",
          "2022-05-11",
          "2022-05-12",
          "2022-05-13",
          "2022-05-16",
          "2022-05-17",
          "2022-05-18",
          "2022-05-19",
          "2022-05-20",
          "2022-05-23",
          "2022-05-24",
          "2022-05-25",
          "2022-05-26",
          "2022-05-27",
          "2022-05-31",
          "2022-06-01",
          "2022-06-02",
          "2022-06-03",
          "2022-06-06",
          "2022-06-07",
          "2022-06-08",
          "2022-06-09",
          "2022-06-10",
          "2022-06-13",
          "2022-06-14",
          "2022-06-15",
          "2022-06-16",
          "2022-06-17",
          "2022-06-21",
          "2022-06-22",
          "2022-06-23",
          "2022-06-24",
          "2022-06-27",
          "2022-06-28",
          "2022-06-29",
          "2022-06-30",
          "2022-07-01",
          "2022-07-05",
          "2022-07-06",
          "2022-07-07",
          "2022-07-08",
          "2022-07-11",
          "2022-07-12",
          "2022-07-13",
          "2022-07-14",
          "2022-07-15",
          "2022-07-18",
          "2022-07-19",
          "2022-07-20",
          "2022-07-21",
          "2022-07-22",
          "2022-07-25",
          "2022-07-26",
          "2022-07-27",
          "2022-07-28",
          "2022-07-29",
          "2022-08-01",
          "2022-08-02",
          "2022-08-03",
          "2022-08-04",
          "2022-08-05",
          "2022-08-08",
          "2022-08-09",
          "2022-08-10",
          "2022-08-11",
          "2022-08-12",
          "2022-08-15",
          "2022-08-16",
          "2022-08-17",
          "2022-08-18",
          "2022-08-19",
          "2022-08-22",
          "2022-08-23",
          "2022-08-24",
          "2022-08-25",
          "2022-08-26",
          "2022-08-29",
          "2022-08-30",
          "2022-08-31",
          "2022-09-01",
          "2022-09-02",
          "2022-09-06",
          "2022-09-07",
          "2022-09-08",
          "2022-09-09",
          "2022-09-12",
          "2022-09-13",
          "2022-09-14",
          "2022-09-15",
          "2022-09-16",
          "2022-09-19",
          "2022-09-20",
          "2022-09-21",
          "2022-09-22",
          "2022-09-23",
          "2022-09-26",
          "2022-09-27",
          "2022-09-28",
          "2022-09-29",
          "2022-09-30",
          "2022-10-03",
          "2022-10-04",
          "2022-10-05",
          "2022-10-06"
         ]
        },
        {
         "line": {
          "color": "skyblue"
         },
         "mode": "lines",
         "name": "Close",
         "type": "scatter",
         "x": [
          "2022-03-04",
          "2022-03-07",
          "2022-03-08",
          "2022-03-09",
          "2022-03-10",
          "2022-03-11",
          "2022-03-14",
          "2022-03-15",
          "2022-03-16",
          "2022-03-17",
          "2022-03-18",
          "2022-03-21",
          "2022-03-22",
          "2022-03-23",
          "2022-03-24",
          "2022-03-25",
          "2022-03-28",
          "2022-03-29",
          "2022-03-30",
          "2022-03-31",
          "2022-04-01",
          "2022-04-04",
          "2022-04-05",
          "2022-04-06",
          "2022-04-07",
          "2022-04-08",
          "2022-04-11",
          "2022-04-12",
          "2022-04-13",
          "2022-04-14",
          "2022-04-18",
          "2022-04-19",
          "2022-04-20",
          "2022-04-21",
          "2022-04-22",
          "2022-04-25",
          "2022-04-26",
          "2022-04-27",
          "2022-04-28",
          "2022-04-29",
          "2022-05-02",
          "2022-05-03",
          "2022-05-04",
          "2022-05-05",
          "2022-05-06",
          "2022-05-09",
          "2022-05-10",
          "2022-05-11",
          "2022-05-12",
          "2022-05-13",
          "2022-05-16",
          "2022-05-17",
          "2022-05-18",
          "2022-05-19",
          "2022-05-20",
          "2022-05-23",
          "2022-05-24",
          "2022-05-25",
          "2022-05-26",
          "2022-05-27",
          "2022-05-31",
          "2022-06-01",
          "2022-06-02",
          "2022-06-03",
          "2022-06-06",
          "2022-06-07",
          "2022-06-08",
          "2022-06-09",
          "2022-06-10",
          "2022-06-13",
          "2022-06-14",
          "2022-06-15",
          "2022-06-16",
          "2022-06-17",
          "2022-06-21",
          "2022-06-22",
          "2022-06-23",
          "2022-06-24",
          "2022-06-27",
          "2022-06-28",
          "2022-06-29",
          "2022-06-30",
          "2022-07-01",
          "2022-07-05",
          "2022-07-06",
          "2022-07-07",
          "2022-07-08",
          "2022-07-11",
          "2022-07-12",
          "2022-07-13",
          "2022-07-14",
          "2022-07-15",
          "2022-07-18",
          "2022-07-19",
          "2022-07-20",
          "2022-07-21",
          "2022-07-22",
          "2022-07-25",
          "2022-07-26",
          "2022-07-27",
          "2022-07-28",
          "2022-07-29",
          "2022-08-01",
          "2022-08-02",
          "2022-08-03",
          "2022-08-04",
          "2022-08-05",
          "2022-08-08",
          "2022-08-09",
          "2022-08-10",
          "2022-08-11",
          "2022-08-12",
          "2022-08-15",
          "2022-08-16",
          "2022-08-17",
          "2022-08-18",
          "2022-08-19",
          "2022-08-22",
          "2022-08-23",
          "2022-08-24",
          "2022-08-25",
          "2022-08-26",
          "2022-08-29",
          "2022-08-30",
          "2022-08-31",
          "2022-09-01",
          "2022-09-02",
          "2022-09-06",
          "2022-09-07",
          "2022-09-08",
          "2022-09-09",
          "2022-09-12",
          "2022-09-13",
          "2022-09-14",
          "2022-09-15",
          "2022-09-16",
          "2022-09-19",
          "2022-09-20",
          "2022-09-21",
          "2022-09-22",
          "2022-09-23",
          "2022-09-26",
          "2022-09-27",
          "2022-09-28",
          "2022-09-29",
          "2022-09-30",
          "2022-10-03",
          "2022-10-04",
          "2022-10-05",
          "2022-10-06"
         ],
         "y": [
          279.429993,
          268.193329,
          274.799988,
          286.323334,
          279.433319,
          265.116669,
          255.456665,
          267.296661,
          280.07666,
          290.533325,
          301.796661,
          307.053345,
          331.32666,
          333.036682,
          337.973328,
          336.880005,
          363.946655,
          366.523346,
          364.66333,
          359.200012,
          361.529999,
          381.816681,
          363.753326,
          348.58667,
          352.420013,
          341.829987,
          325.309998,
          328.983337,
          340.790009,
          328.333344,
          334.763336,
          342.716675,
          325.733337,
          336.26001,
          335.016663,
          332.67334,
          292.140015,
          293.83667,
          292.503326,
          290.253326,
          300.980011,
          303.083344,
          317.540009,
          291.093323,
          288.549988,
          262.369995,
          266.679993,
          244.666672,
          242.666672,
          256.529999,
          241.456665,
          253.869995,
          236.603333,
          236.473328,
          221.300003,
          224.96666,
          209.386673,
          219.600006,
          235.910004,
          253.210007,
          252.753326,
          246.789993,
          258.333344,
          234.516663,
          238.279999,
          238.886673,
          241.866669,
          239.706665,
          232.229996,
          215.736664,
          220.889999,
          233,
          213.100006,
          216.759995,
          237.036667,
          236.08667,
          235.070007,
          245.706665,
          244.919998,
          232.66333,
          228.490005,
          224.473328,
          227.263336,
          233.066666,
          231.733337,
          244.543335,
          250.763336,
          234.343338,
          233.070007,
          237.039993,
          238.313339,
          240.066666,
          240.546661,
          245.529999,
          247.5,
          271.706665,
          272.243347,
          268.433319,
          258.859985,
          274.820007,
          280.899994,
          297.149994,
          297.276672,
          300.58667,
          307.396667,
          308.633331,
          288.170013,
          290.42334,
          283.333344,
          294.356659,
          286.630005,
          300.029999,
          309.320007,
          306.563324,
          303.996674,
          302.869995,
          296.666656,
          289.91333,
          296.453339,
          297.09668,
          296.070007,
          288.089996,
          284.820007,
          277.700012,
          275.609985,
          277.160004,
          270.209991,
          274.420013,
          283.700012,
          289.26001,
          299.679993,
          304.420013,
          292.130005,
          302.609985,
          303.75,
          303.350006,
          309.070007,
          308.730011,
          300.799988,
          288.589996,
          275.329987,
          276.01001,
          282.940002,
          287.809998,
          268.209991,
          265.25,
          242.399994,
          249.440002,
          240.809998,
          238.130005
         ]
        }
       ],
       "layout": {
        "template": {
         "data": {
          "bar": [
           {
            "error_x": {
             "color": "#2a3f5f"
            },
            "error_y": {
             "color": "#2a3f5f"
            },
            "marker": {
             "line": {
              "color": "#E5ECF6",
              "width": 0.5
             },
             "pattern": {
              "fillmode": "overlay",
              "size": 10,
              "solidity": 0.2
             }
            },
            "type": "bar"
           }
          ],
          "barpolar": [
           {
            "marker": {
             "line": {
              "color": "#E5ECF6",
              "width": 0.5
             },
             "pattern": {
              "fillmode": "overlay",
              "size": 10,
              "solidity": 0.2
             }
            },
            "type": "barpolar"
           }
          ],
          "carpet": [
           {
            "aaxis": {
             "endlinecolor": "#2a3f5f",
             "gridcolor": "white",
             "linecolor": "white",
             "minorgridcolor": "white",
             "startlinecolor": "#2a3f5f"
            },
            "baxis": {
             "endlinecolor": "#2a3f5f",
             "gridcolor": "white",
             "linecolor": "white",
             "minorgridcolor": "white",
             "startlinecolor": "#2a3f5f"
            },
            "type": "carpet"
           }
          ],
          "choropleth": [
           {
            "colorbar": {
             "outlinewidth": 0,
             "ticks": ""
            },
            "type": "choropleth"
           }
          ],
          "contour": [
           {
            "colorbar": {
             "outlinewidth": 0,
             "ticks": ""
            },
            "colorscale": [
             [
              0,
              "#0d0887"
             ],
             [
              0.1111111111111111,
              "#46039f"
             ],
             [
              0.2222222222222222,
              "#7201a8"
             ],
             [
              0.3333333333333333,
              "#9c179e"
             ],
             [
              0.4444444444444444,
              "#bd3786"
             ],
             [
              0.5555555555555556,
              "#d8576b"
             ],
             [
              0.6666666666666666,
              "#ed7953"
             ],
             [
              0.7777777777777778,
              "#fb9f3a"
             ],
             [
              0.8888888888888888,
              "#fdca26"
             ],
             [
              1,
              "#f0f921"
             ]
            ],
            "type": "contour"
           }
          ],
          "contourcarpet": [
           {
            "colorbar": {
             "outlinewidth": 0,
             "ticks": ""
            },
            "type": "contourcarpet"
           }
          ],
          "heatmap": [
           {
            "colorbar": {
             "outlinewidth": 0,
             "ticks": ""
            },
            "colorscale": [
             [
              0,
              "#0d0887"
             ],
             [
              0.1111111111111111,
              "#46039f"
             ],
             [
              0.2222222222222222,
              "#7201a8"
             ],
             [
              0.3333333333333333,
              "#9c179e"
             ],
             [
              0.4444444444444444,
              "#bd3786"
             ],
             [
              0.5555555555555556,
              "#d8576b"
             ],
             [
              0.6666666666666666,
              "#ed7953"
             ],
             [
              0.7777777777777778,
              "#fb9f3a"
             ],
             [
              0.8888888888888888,
              "#fdca26"
             ],
             [
              1,
              "#f0f921"
             ]
            ],
            "type": "heatmap"
           }
          ],
          "heatmapgl": [
           {
            "colorbar": {
             "outlinewidth": 0,
             "ticks": ""
            },
            "colorscale": [
             [
              0,
              "#0d0887"
             ],
             [
              0.1111111111111111,
              "#46039f"
             ],
             [
              0.2222222222222222,
              "#7201a8"
             ],
             [
              0.3333333333333333,
              "#9c179e"
             ],
             [
              0.4444444444444444,
              "#bd3786"
             ],
             [
              0.5555555555555556,
              "#d8576b"
             ],
             [
              0.6666666666666666,
              "#ed7953"
             ],
             [
              0.7777777777777778,
              "#fb9f3a"
             ],
             [
              0.8888888888888888,
              "#fdca26"
             ],
             [
              1,
              "#f0f921"
             ]
            ],
            "type": "heatmapgl"
           }
          ],
          "histogram": [
           {
            "marker": {
             "pattern": {
              "fillmode": "overlay",
              "size": 10,
              "solidity": 0.2
             }
            },
            "type": "histogram"
           }
          ],
          "histogram2d": [
           {
            "colorbar": {
             "outlinewidth": 0,
             "ticks": ""
            },
            "colorscale": [
             [
              0,
              "#0d0887"
             ],
             [
              0.1111111111111111,
              "#46039f"
             ],
             [
              0.2222222222222222,
              "#7201a8"
             ],
             [
              0.3333333333333333,
              "#9c179e"
             ],
             [
              0.4444444444444444,
              "#bd3786"
             ],
             [
              0.5555555555555556,
              "#d8576b"
             ],
             [
              0.6666666666666666,
              "#ed7953"
             ],
             [
              0.7777777777777778,
              "#fb9f3a"
             ],
             [
              0.8888888888888888,
              "#fdca26"
             ],
             [
              1,
              "#f0f921"
             ]
            ],
            "type": "histogram2d"
           }
          ],
          "histogram2dcontour": [
           {
            "colorbar": {
             "outlinewidth": 0,
             "ticks": ""
            },
            "colorscale": [
             [
              0,
              "#0d0887"
             ],
             [
              0.1111111111111111,
              "#46039f"
             ],
             [
              0.2222222222222222,
              "#7201a8"
             ],
             [
              0.3333333333333333,
              "#9c179e"
             ],
             [
              0.4444444444444444,
              "#bd3786"
             ],
             [
              0.5555555555555556,
              "#d8576b"
             ],
             [
              0.6666666666666666,
              "#ed7953"
             ],
             [
              0.7777777777777778,
              "#fb9f3a"
             ],
             [
              0.8888888888888888,
              "#fdca26"
             ],
             [
              1,
              "#f0f921"
             ]
            ],
            "type": "histogram2dcontour"
           }
          ],
          "mesh3d": [
           {
            "colorbar": {
             "outlinewidth": 0,
             "ticks": ""
            },
            "type": "mesh3d"
           }
          ],
          "parcoords": [
           {
            "line": {
             "colorbar": {
              "outlinewidth": 0,
              "ticks": ""
             }
            },
            "type": "parcoords"
           }
          ],
          "pie": [
           {
            "automargin": true,
            "type": "pie"
           }
          ],
          "scatter": [
           {
            "fillpattern": {
             "fillmode": "overlay",
             "size": 10,
             "solidity": 0.2
            },
            "type": "scatter"
           }
          ],
          "scatter3d": [
           {
            "line": {
             "colorbar": {
              "outlinewidth": 0,
              "ticks": ""
             }
            },
            "marker": {
             "colorbar": {
              "outlinewidth": 0,
              "ticks": ""
             }
            },
            "type": "scatter3d"
           }
          ],
          "scattercarpet": [
           {
            "marker": {
             "colorbar": {
              "outlinewidth": 0,
              "ticks": ""
             }
            },
            "type": "scattercarpet"
           }
          ],
          "scattergeo": [
           {
            "marker": {
             "colorbar": {
              "outlinewidth": 0,
              "ticks": ""
             }
            },
            "type": "scattergeo"
           }
          ],
          "scattergl": [
           {
            "marker": {
             "colorbar": {
              "outlinewidth": 0,
              "ticks": ""
             }
            },
            "type": "scattergl"
           }
          ],
          "scattermapbox": [
           {
            "marker": {
             "colorbar": {
              "outlinewidth": 0,
              "ticks": ""
             }
            },
            "type": "scattermapbox"
           }
          ],
          "scatterpolar": [
           {
            "marker": {
             "colorbar": {
              "outlinewidth": 0,
              "ticks": ""
             }
            },
            "type": "scatterpolar"
           }
          ],
          "scatterpolargl": [
           {
            "marker": {
             "colorbar": {
              "outlinewidth": 0,
              "ticks": ""
             }
            },
            "type": "scatterpolargl"
           }
          ],
          "scatterternary": [
           {
            "marker": {
             "colorbar": {
              "outlinewidth": 0,
              "ticks": ""
             }
            },
            "type": "scatterternary"
           }
          ],
          "surface": [
           {
            "colorbar": {
             "outlinewidth": 0,
             "ticks": ""
            },
            "colorscale": [
             [
              0,
              "#0d0887"
             ],
             [
              0.1111111111111111,
              "#46039f"
             ],
             [
              0.2222222222222222,
              "#7201a8"
             ],
             [
              0.3333333333333333,
              "#9c179e"
             ],
             [
              0.4444444444444444,
              "#bd3786"
             ],
             [
              0.5555555555555556,
              "#d8576b"
             ],
             [
              0.6666666666666666,
              "#ed7953"
             ],
             [
              0.7777777777777778,
              "#fb9f3a"
             ],
             [
              0.8888888888888888,
              "#fdca26"
             ],
             [
              1,
              "#f0f921"
             ]
            ],
            "type": "surface"
           }
          ],
          "table": [
           {
            "cells": {
             "fill": {
              "color": "#EBF0F8"
             },
             "line": {
              "color": "white"
             }
            },
            "header": {
             "fill": {
              "color": "#C8D4E3"
             },
             "line": {
              "color": "white"
             }
            },
            "type": "table"
           }
          ]
         },
         "layout": {
          "annotationdefaults": {
           "arrowcolor": "#2a3f5f",
           "arrowhead": 0,
           "arrowwidth": 1
          },
          "autotypenumbers": "strict",
          "coloraxis": {
           "colorbar": {
            "outlinewidth": 0,
            "ticks": ""
           }
          },
          "colorscale": {
           "diverging": [
            [
             0,
             "#8e0152"
            ],
            [
             0.1,
             "#c51b7d"
            ],
            [
             0.2,
             "#de77ae"
            ],
            [
             0.3,
             "#f1b6da"
            ],
            [
             0.4,
             "#fde0ef"
            ],
            [
             0.5,
             "#f7f7f7"
            ],
            [
             0.6,
             "#e6f5d0"
            ],
            [
             0.7,
             "#b8e186"
            ],
            [
             0.8,
             "#7fbc41"
            ],
            [
             0.9,
             "#4d9221"
            ],
            [
             1,
             "#276419"
            ]
           ],
           "sequential": [
            [
             0,
             "#0d0887"
            ],
            [
             0.1111111111111111,
             "#46039f"
            ],
            [
             0.2222222222222222,
             "#7201a8"
            ],
            [
             0.3333333333333333,
             "#9c179e"
            ],
            [
             0.4444444444444444,
             "#bd3786"
            ],
            [
             0.5555555555555556,
             "#d8576b"
            ],
            [
             0.6666666666666666,
             "#ed7953"
            ],
            [
             0.7777777777777778,
             "#fb9f3a"
            ],
            [
             0.8888888888888888,
             "#fdca26"
            ],
            [
             1,
             "#f0f921"
            ]
           ],
           "sequentialminus": [
            [
             0,
             "#0d0887"
            ],
            [
             0.1111111111111111,
             "#46039f"
            ],
            [
             0.2222222222222222,
             "#7201a8"
            ],
            [
             0.3333333333333333,
             "#9c179e"
            ],
            [
             0.4444444444444444,
             "#bd3786"
            ],
            [
             0.5555555555555556,
             "#d8576b"
            ],
            [
             0.6666666666666666,
             "#ed7953"
            ],
            [
             0.7777777777777778,
             "#fb9f3a"
            ],
            [
             0.8888888888888888,
             "#fdca26"
            ],
            [
             1,
             "#f0f921"
            ]
           ]
          },
          "colorway": [
           "#636efa",
           "#EF553B",
           "#00cc96",
           "#ab63fa",
           "#FFA15A",
           "#19d3f3",
           "#FF6692",
           "#B6E880",
           "#FF97FF",
           "#FECB52"
          ],
          "font": {
           "color": "#2a3f5f"
          },
          "geo": {
           "bgcolor": "white",
           "lakecolor": "white",
           "landcolor": "#E5ECF6",
           "showlakes": true,
           "showland": true,
           "subunitcolor": "white"
          },
          "hoverlabel": {
           "align": "left"
          },
          "hovermode": "closest",
          "mapbox": {
           "style": "light"
          },
          "paper_bgcolor": "white",
          "plot_bgcolor": "#E5ECF6",
          "polar": {
           "angularaxis": {
            "gridcolor": "white",
            "linecolor": "white",
            "ticks": ""
           },
           "bgcolor": "#E5ECF6",
           "radialaxis": {
            "gridcolor": "white",
            "linecolor": "white",
            "ticks": ""
           }
          },
          "scene": {
           "xaxis": {
            "backgroundcolor": "#E5ECF6",
            "gridcolor": "white",
            "gridwidth": 2,
            "linecolor": "white",
            "showbackground": true,
            "ticks": "",
            "zerolinecolor": "white"
           },
           "yaxis": {
            "backgroundcolor": "#E5ECF6",
            "gridcolor": "white",
            "gridwidth": 2,
            "linecolor": "white",
            "showbackground": true,
            "ticks": "",
            "zerolinecolor": "white"
           },
           "zaxis": {
            "backgroundcolor": "#E5ECF6",
            "gridcolor": "white",
            "gridwidth": 2,
            "linecolor": "white",
            "showbackground": true,
            "ticks": "",
            "zerolinecolor": "white"
           }
          },
          "shapedefaults": {
           "line": {
            "color": "#2a3f5f"
           }
          },
          "ternary": {
           "aaxis": {
            "gridcolor": "white",
            "linecolor": "white",
            "ticks": ""
           },
           "baxis": {
            "gridcolor": "white",
            "linecolor": "white",
            "ticks": ""
           },
           "bgcolor": "#E5ECF6",
           "caxis": {
            "gridcolor": "white",
            "linecolor": "white",
            "ticks": ""
           }
          },
          "title": {
           "x": 0.05
          },
          "xaxis": {
           "automargin": true,
           "gridcolor": "white",
           "linecolor": "white",
           "ticks": "",
           "title": {
            "standoff": 15
           },
           "zerolinecolor": "white",
           "zerolinewidth": 2
          },
          "yaxis": {
           "automargin": true,
           "gridcolor": "white",
           "linecolor": "white",
           "ticks": "",
           "title": {
            "standoff": 15
           },
           "zerolinecolor": "white",
           "zerolinewidth": 2
          }
         }
        },
        "title": {
         "text": "Tesla Stock - Candlestick Chart with Blue Close Line"
        },
        "xaxis": {
         "title": {
          "text": "Date"
         }
        },
        "yaxis": {
         "title": {
          "text": "Price"
         }
        }
       }
      }
     },
     "metadata": {},
     "output_type": "display_data"
    }
   ],
   "source": [
    "fig = go.Figure()\n",
    "\n",
    "# Candlestick chart\n",
    "fig.add_trace(go.Candlestick(x=df['Date'],\n",
    "                             open=df['Open'],\n",
    "                             high=df['High'],\n",
    "                             low=df['Low'],\n",
    "                             close=df['Close'],\n",
    "                             name='Candlestick'))\n",
    "\n",
    "# Line plot for 'Close' data (blue color)\n",
    "fig.add_trace(go.Scatter(x=df['Date'],\n",
    "                         y=df['Close'],\n",
    "                         mode='lines',\n",
    "                         name='Close',\n",
    "                         line=dict(color='skyblue')))\n",
    "\n",
    "fig.update_layout(title='Tesla Stock - Candlestick Chart with Blue Close Line',\n",
    "                  xaxis_title='Date',\n",
    "                  yaxis_title='Price')\n",
    "\n",
    "fig.show()\n"
   ]
  },
  {
   "cell_type": "code",
   "execution_count": 21,
   "metadata": {},
   "outputs": [
    {
     "data": {
      "text/plain": [
       "3075    59.597483\n",
       "3076    64.795594\n",
       "3077    70.639862\n",
       "3078    65.547452\n",
       "3079    56.234311\n",
       "3080    52.612775\n",
       "3081    50.841713\n",
       "3082    49.587400\n",
       "3083    49.206864\n",
       "3084    34.357300\n",
       "3085    30.179131\n",
       "3086    27.265247\n",
       "3087    24.903259\n",
       "3088    22.253580\n",
       "3089    21.815048\n",
       "Name: Close, dtype: float64"
      ]
     },
     "execution_count": 21,
     "metadata": {},
     "output_type": "execute_result"
    }
   ],
   "source": [
    "rsi.shape\n",
    "rsi.tail(15)"
   ]
  },
  {
   "cell_type": "code",
   "execution_count": null,
   "metadata": {},
   "outputs": [],
   "source": []
  }
 ],
 "metadata": {
  "kernelspec": {
   "display_name": "base",
   "language": "python",
   "name": "python3"
  },
  "language_info": {
   "codemirror_mode": {
    "name": "ipython",
    "version": 3
   },
   "file_extension": ".py",
   "mimetype": "text/x-python",
   "name": "python",
   "nbconvert_exporter": "python",
   "pygments_lexer": "ipython3",
   "version": "3.9.12"
  },
  "orig_nbformat": 4
 },
 "nbformat": 4,
 "nbformat_minor": 2
}
