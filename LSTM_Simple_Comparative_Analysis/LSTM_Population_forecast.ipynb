{
 "cells": [
  {
   "attachments": {},
   "cell_type": "markdown",
   "metadata": {},
   "source": [
    "# Population Modeling"
   ]
  },
  {
   "cell_type": "code",
   "execution_count": 1,
   "metadata": {},
   "outputs": [],
   "source": [
    "import numpy as np;\n",
    "import matplotlib.pyplot as plt;\n",
    "import pandas as pd;\n",
    "from matplotlib.pyplot import figure\n",
    "import keras;\n",
    "import tensorflow as tf;\n",
    "from keras.preprocessing.sequence import TimeseriesGenerator;\n",
    "from keras.models import Sequential\n",
    "from keras.layers import LSTM, Dense\n",
    "import plotly.graph_objects as go\n",
    "from sklearn.metrics import r2_score\n",
    "from sklearn.preprocessing import MinMaxScaler\n",
    "from tensorflow.keras.callbacks import Callback"
   ]
  },
  {
   "cell_type": "code",
   "execution_count": 2,
   "metadata": {},
   "outputs": [
    {
     "name": "stdout",
     "output_type": "stream",
     "text": [
      "(58099, 4)\n"
     ]
    },
    {
     "data": {
      "text/html": [
       "<div>\n",
       "<style scoped>\n",
       "    .dataframe tbody tr th:only-of-type {\n",
       "        vertical-align: middle;\n",
       "    }\n",
       "\n",
       "    .dataframe tbody tr th {\n",
       "        vertical-align: top;\n",
       "    }\n",
       "\n",
       "    .dataframe thead th {\n",
       "        text-align: right;\n",
       "    }\n",
       "</style>\n",
       "<table border=\"1\" class=\"dataframe\">\n",
       "  <thead>\n",
       "    <tr style=\"text-align: right;\">\n",
       "      <th></th>\n",
       "      <th>Entity</th>\n",
       "      <th>Code</th>\n",
       "      <th>Year</th>\n",
       "      <th>Population (historical estimates)</th>\n",
       "    </tr>\n",
       "  </thead>\n",
       "  <tbody>\n",
       "    <tr>\n",
       "      <th>0</th>\n",
       "      <td>Afghanistan</td>\n",
       "      <td>AFG</td>\n",
       "      <td>-10000</td>\n",
       "      <td>14737</td>\n",
       "    </tr>\n",
       "    <tr>\n",
       "      <th>1</th>\n",
       "      <td>Afghanistan</td>\n",
       "      <td>AFG</td>\n",
       "      <td>-9000</td>\n",
       "      <td>20405</td>\n",
       "    </tr>\n",
       "    <tr>\n",
       "      <th>2</th>\n",
       "      <td>Afghanistan</td>\n",
       "      <td>AFG</td>\n",
       "      <td>-8000</td>\n",
       "      <td>28253</td>\n",
       "    </tr>\n",
       "    <tr>\n",
       "      <th>3</th>\n",
       "      <td>Afghanistan</td>\n",
       "      <td>AFG</td>\n",
       "      <td>-7000</td>\n",
       "      <td>39120</td>\n",
       "    </tr>\n",
       "    <tr>\n",
       "      <th>4</th>\n",
       "      <td>Afghanistan</td>\n",
       "      <td>AFG</td>\n",
       "      <td>-6000</td>\n",
       "      <td>54166</td>\n",
       "    </tr>\n",
       "  </tbody>\n",
       "</table>\n",
       "</div>"
      ],
      "text/plain": [
       "        Entity Code   Year  Population (historical estimates)\n",
       "0  Afghanistan  AFG -10000                              14737\n",
       "1  Afghanistan  AFG  -9000                              20405\n",
       "2  Afghanistan  AFG  -8000                              28253\n",
       "3  Afghanistan  AFG  -7000                              39120\n",
       "4  Afghanistan  AFG  -6000                              54166"
      ]
     },
     "execution_count": 2,
     "metadata": {},
     "output_type": "execute_result"
    }
   ],
   "source": [
    "df = pd.read_csv(r'C:\\Users\\emili\\Downloads\\population.csv')#, index_col = 'Date')\n",
    "print(df.shape)\n",
    "df.head()"
   ]
  },
  {
   "cell_type": "code",
   "execution_count": 3,
   "metadata": {},
   "outputs": [],
   "source": [
    "#df['Entity'].unique()"
   ]
  },
  {
   "cell_type": "code",
   "execution_count": 4,
   "metadata": {},
   "outputs": [
    {
     "data": {
      "text/html": [
       "<div>\n",
       "<style scoped>\n",
       "    .dataframe tbody tr th:only-of-type {\n",
       "        vertical-align: middle;\n",
       "    }\n",
       "\n",
       "    .dataframe tbody tr th {\n",
       "        vertical-align: top;\n",
       "    }\n",
       "\n",
       "    .dataframe thead th {\n",
       "        text-align: right;\n",
       "    }\n",
       "</style>\n",
       "<table border=\"1\" class=\"dataframe\">\n",
       "  <thead>\n",
       "    <tr style=\"text-align: right;\">\n",
       "      <th></th>\n",
       "      <th>Entity</th>\n",
       "      <th>Code</th>\n",
       "      <th>Year</th>\n",
       "      <th>Population (historical estimates)</th>\n",
       "    </tr>\n",
       "  </thead>\n",
       "  <tbody>\n",
       "    <tr>\n",
       "      <th>56940</th>\n",
       "      <td>World</td>\n",
       "      <td>OWID_WRL</td>\n",
       "      <td>-10000</td>\n",
       "      <td>4432266</td>\n",
       "    </tr>\n",
       "    <tr>\n",
       "      <th>56941</th>\n",
       "      <td>World</td>\n",
       "      <td>OWID_WRL</td>\n",
       "      <td>-9000</td>\n",
       "      <td>5616996</td>\n",
       "    </tr>\n",
       "    <tr>\n",
       "      <th>56942</th>\n",
       "      <td>World</td>\n",
       "      <td>OWID_WRL</td>\n",
       "      <td>-8000</td>\n",
       "      <td>7242892</td>\n",
       "    </tr>\n",
       "    <tr>\n",
       "      <th>56943</th>\n",
       "      <td>World</td>\n",
       "      <td>OWID_WRL</td>\n",
       "      <td>-7000</td>\n",
       "      <td>9577918</td>\n",
       "    </tr>\n",
       "    <tr>\n",
       "      <th>56944</th>\n",
       "      <td>World</td>\n",
       "      <td>OWID_WRL</td>\n",
       "      <td>-6000</td>\n",
       "      <td>13201832</td>\n",
       "    </tr>\n",
       "    <tr>\n",
       "      <th>...</th>\n",
       "      <td>...</td>\n",
       "      <td>...</td>\n",
       "      <td>...</td>\n",
       "      <td>...</td>\n",
       "    </tr>\n",
       "    <tr>\n",
       "      <th>57194</th>\n",
       "      <td>World</td>\n",
       "      <td>OWID_WRL</td>\n",
       "      <td>2017</td>\n",
       "      <td>7599822336</td>\n",
       "    </tr>\n",
       "    <tr>\n",
       "      <th>57195</th>\n",
       "      <td>World</td>\n",
       "      <td>OWID_WRL</td>\n",
       "      <td>2018</td>\n",
       "      <td>7683789824</td>\n",
       "    </tr>\n",
       "    <tr>\n",
       "      <th>57196</th>\n",
       "      <td>World</td>\n",
       "      <td>OWID_WRL</td>\n",
       "      <td>2019</td>\n",
       "      <td>7764951040</td>\n",
       "    </tr>\n",
       "    <tr>\n",
       "      <th>57197</th>\n",
       "      <td>World</td>\n",
       "      <td>OWID_WRL</td>\n",
       "      <td>2020</td>\n",
       "      <td>7840952832</td>\n",
       "    </tr>\n",
       "    <tr>\n",
       "      <th>57198</th>\n",
       "      <td>World</td>\n",
       "      <td>OWID_WRL</td>\n",
       "      <td>2021</td>\n",
       "      <td>7909295104</td>\n",
       "    </tr>\n",
       "  </tbody>\n",
       "</table>\n",
       "<p>259 rows × 4 columns</p>\n",
       "</div>"
      ],
      "text/plain": [
       "      Entity      Code   Year  Population (historical estimates)\n",
       "56940  World  OWID_WRL -10000                            4432266\n",
       "56941  World  OWID_WRL  -9000                            5616996\n",
       "56942  World  OWID_WRL  -8000                            7242892\n",
       "56943  World  OWID_WRL  -7000                            9577918\n",
       "56944  World  OWID_WRL  -6000                           13201832\n",
       "...      ...       ...    ...                                ...\n",
       "57194  World  OWID_WRL   2017                         7599822336\n",
       "57195  World  OWID_WRL   2018                         7683789824\n",
       "57196  World  OWID_WRL   2019                         7764951040\n",
       "57197  World  OWID_WRL   2020                         7840952832\n",
       "57198  World  OWID_WRL   2021                         7909295104\n",
       "\n",
       "[259 rows x 4 columns]"
      ]
     },
     "execution_count": 4,
     "metadata": {},
     "output_type": "execute_result"
    }
   ],
   "source": [
    "df_worldpop = df[df['Entity'] == 'World']\n",
    "df_worldpop"
   ]
  },
  {
   "cell_type": "code",
   "execution_count": 5,
   "metadata": {},
   "outputs": [
    {
     "data": {
      "image/png": "[encoded data removed]",
      "text/plain": [
       "<Figure size 1152x648 with 1 Axes>"
      ]
     },
     "metadata": {
      "needs_background": "light"
     },
     "output_type": "display_data"
    }
   ],
   "source": [
    "plt.fig = figure(figsize = (16,9))\n",
    "plt.plot(df_worldpop['Year'],df_worldpop['Population (historical estimates)']);\n",
    "plt.title('Population'); plt.ylabel('World Population'); plt.xlabel('Millennium')\n",
    "plt.grid()"
   ]
  },
  {
   "cell_type": "code",
   "execution_count": 6,
   "metadata": {},
   "outputs": [
    {
     "name": "stderr",
     "output_type": "stream",
     "text": [
      "C:\\Users\\emili\\AppData\\Local\\Temp\\ipykernel_14844\\861645106.py:1: SettingWithCopyWarning: \n",
      "A value is trying to be set on a copy of a slice from a DataFrame.\n",
      "Try using .loc[row_indexer,col_indexer] = value instead\n",
      "\n",
      "See the caveats in the documentation: https://pandas.pydata.org/pandas-docs/stable/user_guide/indexing.html#returning-a-view-versus-a-copy\n",
      "  df_worldpop['Population logged'] = df_worldpop['Population (historical estimates)'].apply(lambda x: np.log(x))\n"
     ]
    },
    {
     "data": {
      "image/png": "[encoded data removed]",
      "text/plain": [
       "<Figure size 1152x648 with 1 Axes>"
      ]
     },
     "metadata": {
      "needs_background": "light"
     },
     "output_type": "display_data"
    }
   ],
   "source": [
    "df_worldpop['Population logged'] = df_worldpop['Population (historical estimates)'].apply(lambda x: np.log(x))\n",
    "\n",
    "plt.fig = figure(figsize = (16,9))\n",
    "plt.plot(df_worldpop['Year'],df_worldpop['Population logged']);\n",
    "plt.title('Population'); plt.ylabel('World Population'); plt.xlabel('Millennium')\n",
    "plt.grid()"
   ]
  },
  {
   "cell_type": "code",
   "execution_count": 7,
   "metadata": {},
   "outputs": [
    {
     "name": "stdout",
     "output_type": "stream",
     "text": [
      "Epoch 1/10\n",
      "247/247 [==============================] - 4s 5ms/step - loss: 1729090.5000\n",
      "Epoch 2/10\n",
      "247/247 [==============================] - 1s 5ms/step - loss: 1718329.1250\n",
      "Epoch 3/10\n",
      "247/247 [==============================] - 1s 5ms/step - loss: 1703167.3750\n",
      "Epoch 4/10\n",
      "247/247 [==============================] - 1s 5ms/step - loss: 1685207.0000\n",
      "Epoch 5/10\n",
      "247/247 [==============================] - 1s 5ms/step - loss: 1664874.6250\n",
      "Epoch 6/10\n",
      "247/247 [==============================] - 1s 5ms/step - loss: 1641904.6250\n",
      "Epoch 7/10\n",
      "247/247 [==============================] - 1s 5ms/step - loss: 1618370.5000\n",
      "Epoch 8/10\n",
      "247/247 [==============================] - 1s 5ms/step - loss: 1593550.0000\n",
      "Epoch 9/10\n",
      "247/247 [==============================] - 1s 5ms/step - loss: 1569965.6250\n",
      "Epoch 10/10\n",
      "247/247 [==============================] - 1s 5ms/step - loss: 1548471.6250\n",
      "1/1 [==============================] - 1s 655ms/step\n",
      "1/1 [==============================] - 0s 34ms/step\n",
      "1/1 [==============================] - 0s 31ms/step\n",
      "1/1 [==============================] - 0s 34ms/step\n",
      "1/1 [==============================] - 0s 32ms/step\n",
      "     Year  Population Logged\n",
      "0  2021.0          21.357555\n",
      "1  2022.0          21.357555\n",
      "2  2023.0          21.357555\n",
      "3  2024.0          21.357555\n",
      "4  2025.0          21.357555\n"
     ]
    }
   ],
   "source": [
    "data = df_worldpop[['Year', 'Population logged']].values\n",
    "\n",
    "# Define the input sequence length\n",
    "sequence_length = 12\n",
    "\n",
    "# Prepare the input sequences and target values\n",
    "X = []\n",
    "y = []\n",
    "for i in range(sequence_length, len(data)):\n",
    "    X.append(data[i - sequence_length:i])\n",
    "    y.append(data[i])\n",
    "X = np.array(X)\n",
    "y = np.array(y)\n",
    "\n",
    "# Define the LSTM model\n",
    "model = Sequential()\n",
    "model.add(LSTM(64, input_shape=(sequence_length, 2)))\n",
    "model.add(Dense(2))  # Output shape is (2,) for 'Year' and 'Population Logged'\n",
    "model.compile(loss='mean_squared_error', optimizer='adam')\n",
    "\n",
    "# Train the model\n",
    "model.fit(X, y, epochs=10, batch_size=1, verbose=1)\n",
    "\n",
    "# Generate future sequences for prediction\n",
    "future_sequences = []\n",
    "last_sequence = X[-1]\n",
    "for _ in range(5):  # Predict for the next 5 years\n",
    "    next_year = last_sequence[-1, 0] + 1  # Increment the year by 1\n",
    "    predicted_value = model.predict(np.reshape(last_sequence, (1, sequence_length, 2)))\n",
    "    next_population = predicted_value[0, 1]  # Get the predicted population value\n",
    "    future_sequences.append([next_year, next_population])\n",
    "    last_sequence = np.vstack([last_sequence[1:], [next_year, next_population]])\n",
    "\n",
    "# Convert the future sequences to a dataframe\n",
    "future_df = pd.DataFrame(future_sequences, columns=['Year', 'Population Logged'])\n",
    "\n",
    "# Print the future population predictions\n",
    "print(future_df)"
   ]
  },
  {
   "cell_type": "code",
   "execution_count": 8,
   "metadata": {},
   "outputs": [
    {
     "data": {
      "application/vnd.plotly.v1+json": {
       "config": {
        "plotlyServerURL": "https://plot.ly"
       },
       "data": [
        {
         "mode": "lines+markers",
         "name": "Training Data",
         "type": "scatter",
         "x": [
          -10000,
          -9000,
          -8000,
          -7000,
          -6000,
          -5000,
          -4000,
          -3000,
          -2000,
          -1000,
          0,
          100,
          200,
          300,
          400,
          500,
          600,
          700,
          800,
          900,
          1000,
          1100,
          1200,
          1300,
          1400,
          1500,
          1600,
          1700,
          1710,
          1720,
          1730,
          1740,
          1750,
          1760,
          1770,
          1780,
          1790,
          1800,
          1801,
          1802,
          1803,
          1804,
          1805,
          1806,
          1807,
          1808,
          1809,
          1810,
          1811,
          1812,
          1813,
          1814,
          1815,
          1816,
          1817,
          1818,
          1819,
          1820,
          1821,
          1822,
          1823,
          1824,
          1825,
          1826,
          1827,
          1828,
          1829,
          1830,
          1831,
          1832,
          1833,
          1834,
          1835,
          1836,
          1837,
          1838,
          1839,
          1840,
          1841,
          1842,
          1843,
          1844,
          1845,
          1846,
          1847,
          1848,
          1849,
          1850,
          1851,
          1852,
          1853,
          1854,
          1855,
          1856,
          1857,
          1858,
          1859,
          1860,
          1861,
          1862,
          1863,
          1864,
          1865,
          1866,
          1867,
          1868,
          1869,
          1870,
          1871,
          1872,
          1873,
          1874,
          1875,
          1876,
          1877,
          1878,
          1879,
          1880,
          1881,
          1882,
          1883,
          1884,
          1885,
          1886,
          1887,
          1888,
          1889,
          1890,
          1891,
          1892,
          1893,
          1894,
          1895,
          1896,
          1897,
          1898,
          1899,
          1900,
          1901,
          1902,
          1903,
          1904,
          1905,
          1906,
          1907,
          1908,
          1909,
          1910,
          1911,
          1912,
          1913,
          1914,
          1915,
          1916,
          1917,
          1918,
          1919,
          1920,
          1921,
          1922,
          1923,
          1924,
          1925,
          1926,
          1927,
          1928,
          1929,
          1930,
          1931,
          1932,
          1933,
          1934,
          1935,
          1936,
          1937,
          1938,
          1939,
          1940,
          1941,
          1942,
          1943,
          1944,
          1945,
          1946,
          1947,
          1948,
          1949,
          1950,
          1951,
          1952,
          1953,
          1954,
          1955,
          1956,
          1957,
          1958,
          1959,
          1960,
          1961,
          1962,
          1963,
          1964,
          1965,
          1966,
          1967,
          1968,
          1969,
          1970,
          1971,
          1972,
          1973,
          1974,
          1975,
          1976,
          1977,
          1978,
          1979,
          1980,
          1981,
          1982,
          1983,
          1984,
          1985,
          1986,
          1987,
          1988,
          1989,
          1990,
          1991,
          1992,
          1993,
          1994,
          1995,
          1996,
          1997,
          1998,
          1999,
          2000,
          2001,
          2002,
          2003,
          2004,
          2005,
          2006,
          2007,
          2008,
          2009,
          2010,
          2011,
          2012,
          2013,
          2014,
          2015,
          2016,
          2017,
          2018,
          2019,
          2020,
          2021
         ],
         "y": [
          15.304421523658787,
          15.541307559390408,
          15.795531132117791,
          16.07497079856176,
          16.39586616580524,
          16.76392955371507,
          17.175005731442877,
          17.610711211131935,
          18.10028367076724,
          18.519797496828513,
          19.262781252905683,
          19.283166279780193,
          19.298694452617784,
          19.242879880047003,
          19.302544154233917,
          19.34983761494243,
          19.41939421543728,
          19.443798118594554,
          19.470501308449826,
          19.555199654465458,
          19.594423915470237,
          19.801771120301563,
          19.913024426948603,
          19.938855988543118,
          19.907907206763102,
          20.036578544309144,
          20.062800572742603,
          20.200209407553487,
          20.234184511402514,
          20.28121678949948,
          20.31491163391977,
          20.359921113684855,
          20.429785832926253,
          20.474665823164028,
          20.5233844854259,
          20.60790962030621,
          20.65239014120064,
          20.708497955599363,
          20.710816992626373,
          20.714324722043465,
          20.717861519896513,
          20.72142738803436,
          20.72502233739588,
          20.728646402705838,
          20.732299650896543,
          20.73598215378245,
          20.73969401837528,
          20.745643275979763,
          20.750382308639857,
          20.756349117996646,
          20.762913083159994,
          20.769602796372993,
          20.776414210310477,
          20.783348677202188,
          20.790407594845963,
          20.797592440627092,
          20.80462264235365,
          20.81258068332889,
          20.8179681747795,
          20.824254213417838,
          20.83078732881235,
          20.837376510171147,
          20.8440159863639,
          20.85074499116876,
          20.857521207685522,
          20.864344670101026,
          20.8707357218779,
          20.877375849946784,
          20.88220508411966,
          20.88726751992173,
          20.89189754727276,
          20.896549157494086,
          20.901254705353708,
          20.90593948674835,
          20.910684979776715,
          20.91546232323607,
          20.92016873325064,
          20.925486406914153,
          20.929326860361485,
          20.933797190204317,
          20.938280628834395,
          20.94265829529993,
          20.947158250193517,
          20.95170531047615,
          20.95630008961321,
          20.960943261979942,
          20.964952347213544,
          20.969196089755762,
          20.970707697953088,
          20.972454224136076,
          20.973613866303154,
          20.97486379680622,
          20.97619005171439,
          20.977608076222236,
          20.979113768465755,
          20.980707963698602,
          20.982589396228924,
          20.98570554164514,
          20.98720337240459,
          20.989898373214135,
          20.992868495531546,
          20.99589310462902,
          20.998966662808577,
          21.002088247744076,
          21.00526321132623,
          21.00849020596781,
          21.01214356406818,
          21.01720152521821,
          21.020704890372357,
          21.025614565734404,
          21.03094280056343,
          21.03629540969791,
          21.041692244055284,
          21.047118097022235,
          21.052551437881206,
          21.058004001647884,
          21.06380309871756,
          21.070989685392995,
          21.07652827380042,
          21.08342190364037,
          21.090689225734845,
          21.09799337374434,
          21.105373214862123,
          21.112767589991876,
          21.120212996112457,
          21.127688539939093,
          21.134960722299738,
          21.14307376988128,
          21.148933221238668,
          21.15558223350645,
          21.162051394167307,
          21.168567467917104,
          21.175137783739743,
          21.181721055501836,
          21.188352890869197,
          21.195019103433843,
          21.20204901355463,
          21.21054631570922,
          21.217137053786875,
          21.225155701669152,
          21.233513417677713,
          21.241912427861156,
          21.25034908425418,
          21.2588297077737,
          21.26735179489208,
          21.275928817465914,
          21.284093841279134,
          21.293028628331445,
          21.299195839722206,
          21.306150467040023,
          21.312748970365064,
          21.319409078751846,
          21.326100044788248,
          21.33279186194352,
          21.33947746574537,
          21.346456713853357,
          21.353819461297636,
          21.36284458432062,
          21.36971370146477,
          21.37810147333368,
          21.38679721714045,
          21.395555453470035,
          21.40437527321588,
          21.413268001122884,
          21.422240876995605,
          21.431145163079993,
          21.440380337379445,
          21.451102495969515,
          21.459678407702658,
          21.46964942153302,
          21.479870867585497,
          21.49011383878541,
          21.500379467072783,
          21.510736361457404,
          21.521168715348757,
          21.53152813788404,
          21.541495307338895,
          21.55219808956155,
          21.559533127094774,
          21.56773165330855,
          21.575372732508228,
          21.582960781241482,
          21.59043681332188,
          21.59782218570039,
          21.605666497906565,
          21.614140032270463,
          21.624744234243582,
          21.639285376851348,
          21.656661587506893,
          21.67502833112338,
          21.694150348529348,
          21.713542545876045,
          21.73343738721077,
          21.75324331573015,
          21.773341292554054,
          21.793515698417536,
          21.811926176840043,
          21.82826884009504,
          21.84441253714236,
          21.86323972492192,
          21.88509681615875,
          21.907202946946157,
          21.92837161841129,
          21.94892681216634,
          21.968989246931788,
          21.989314693019274,
          22.0099208850726,
          22.030351990101007,
          22.05038412659405,
          22.06998762269677,
          22.089421619304748,
          22.108438801536177,
          22.126770542809314,
          22.144566690003927,
          22.162098665703777,
          22.179472753181255,
          22.197017544929917,
          22.21482249450078,
          22.23280108054324,
          22.251056427001114,
          22.26910005131966,
          22.286834907590666,
          22.304660346437228,
          22.32266616172858,
          22.34086725233185,
          22.35881859772373,
          22.376472578005036,
          22.394020060771606,
          22.410820768043017,
          22.426683287182403,
          22.44199457922475,
          22.456818308880642,
          22.47128581545356,
          22.48544978784654,
          22.499316085287063,
          22.51290850733581,
          22.526255113857516,
          22.539538848423756,
          22.552762088076953,
          22.565782986212923,
          22.57861001257535,
          22.59133048783734,
          22.603978391494437,
          22.616591059621108,
          22.62923878089223,
          22.641892483495706,
          22.654541718119642,
          22.6671171640816,
          22.679568280843444,
          22.692012911597747,
          22.7043491341891,
          22.716470287981384,
          22.728333633311813,
          22.739963785374712,
          22.75139070712335,
          22.76237872905802,
          22.772885988311472,
          22.782626198617862,
          22.79130450021648
         ]
        },
        {
         "mode": "lines+markers",
         "name": "5 year Forecast",
         "type": "scatter",
         "x": [
          2021,
          2022,
          2023,
          2024,
          2025
         ],
         "y": [
          21.357555389404297,
          21.357555389404297,
          21.357555389404297,
          21.357555389404297,
          21.357555389404297
         ]
        }
       ],
       "layout": {
        "font": {
         "size": 20
        },
        "template": {
         "data": {
          "bar": [
           {
            "error_x": {
             "color": "#2a3f5f"
            },
            "error_y": {
             "color": "#2a3f5f"
            },
            "marker": {
             "line": {
              "color": "#E5ECF6",
              "width": 0.5
             },
             "pattern": {
              "fillmode": "overlay",
              "size": 10,
              "solidity": 0.2
             }
            },
            "type": "bar"
           }
          ],
          "barpolar": [
           {
            "marker": {
             "line": {
              "color": "#E5ECF6",
              "width": 0.5
             },
             "pattern": {
              "fillmode": "overlay",
              "size": 10,
              "solidity": 0.2
             }
            },
            "type": "barpolar"
           }
          ],
          "carpet": [
           {
            "aaxis": {
             "endlinecolor": "#2a3f5f",
             "gridcolor": "white",
             "linecolor": "white",
             "minorgridcolor": "white",
             "startlinecolor": "#2a3f5f"
            },
            "baxis": {
             "endlinecolor": "#2a3f5f",
             "gridcolor": "white",
             "linecolor": "white",
             "minorgridcolor": "white",
             "startlinecolor": "#2a3f5f"
            },
            "type": "carpet"
           }
          ],
          "choropleth": [
           {
            "colorbar": {
             "outlinewidth": 0,
             "ticks": ""
            },
            "type": "choropleth"
           }
          ],
          "contour": [
           {
            "colorbar": {
             "outlinewidth": 0,
             "ticks": ""
            },
            "colorscale": [
             [
              0,
              "#0d0887"
             ],
             [
              0.1111111111111111,
              "#46039f"
             ],
             [
              0.2222222222222222,
              "#7201a8"
             ],
             [
              0.3333333333333333,
              "#9c179e"
             ],
             [
              0.4444444444444444,
              "#bd3786"
             ],
             [
              0.5555555555555556,
              "#d8576b"
             ],
             [
              0.6666666666666666,
              "#ed7953"
             ],
             [
              0.7777777777777778,
              "#fb9f3a"
             ],
             [
              0.8888888888888888,
              "#fdca26"
             ],
             [
              1,
              "#f0f921"
             ]
            ],
            "type": "contour"
           }
          ],
          "contourcarpet": [
           {
            "colorbar": {
             "outlinewidth": 0,
             "ticks": ""
            },
            "type": "contourcarpet"
           }
          ],
          "heatmap": [
           {
            "colorbar": {
             "outlinewidth": 0,
             "ticks": ""
            },
            "colorscale": [
             [
              0,
              "#0d0887"
             ],
             [
              0.1111111111111111,
              "#46039f"
             ],
             [
              0.2222222222222222,
              "#7201a8"
             ],
             [
              0.3333333333333333,
              "#9c179e"
             ],
             [
              0.4444444444444444,
              "#bd3786"
             ],
             [
              0.5555555555555556,
              "#d8576b"
             ],
             [
              0.6666666666666666,
              "#ed7953"
             ],
             [
              0.7777777777777778,
              "#fb9f3a"
             ],
             [
              0.8888888888888888,
              "#fdca26"
             ],
             [
              1,
              "#f0f921"
             ]
            ],
            "type": "heatmap"
           }
          ],
          "heatmapgl": [
           {
            "colorbar": {
             "outlinewidth": 0,
             "ticks": ""
            },
            "colorscale": [
             [
              0,
              "#0d0887"
             ],
             [
              0.1111111111111111,
              "#46039f"
             ],
             [
              0.2222222222222222,
              "#7201a8"
             ],
             [
              0.3333333333333333,
              "#9c179e"
             ],
             [
              0.4444444444444444,
              "#bd3786"
             ],
             [
              0.5555555555555556,
              "#d8576b"
             ],
             [
              0.6666666666666666,
              "#ed7953"
             ],
             [
              0.7777777777777778,
              "#fb9f3a"
             ],
             [
              0.8888888888888888,
              "#fdca26"
             ],
             [
              1,
              "#f0f921"
             ]
            ],
            "type": "heatmapgl"
           }
          ],
          "histogram": [
           {
            "marker": {
             "pattern": {
              "fillmode": "overlay",
              "size": 10,
              "solidity": 0.2
             }
            },
            "type": "histogram"
           }
          ],
          "histogram2d": [
           {
            "colorbar": {
             "outlinewidth": 0,
             "ticks": ""
            },
            "colorscale": [
             [
              0,
              "#0d0887"
             ],
             [
              0.1111111111111111,
              "#46039f"
             ],
             [
              0.2222222222222222,
              "#7201a8"
             ],
             [
              0.3333333333333333,
              "#9c179e"
             ],
             [
              0.4444444444444444,
              "#bd3786"
             ],
             [
              0.5555555555555556,
              "#d8576b"
             ],
             [
              0.6666666666666666,
              "#ed7953"
             ],
             [
              0.7777777777777778,
              "#fb9f3a"
             ],
             [
              0.8888888888888888,
              "#fdca26"
             ],
             [
              1,
              "#f0f921"
             ]
            ],
            "type": "histogram2d"
           }
          ],
          "histogram2dcontour": [
           {
            "colorbar": {
             "outlinewidth": 0,
             "ticks": ""
            },
            "colorscale": [
             [
              0,
              "#0d0887"
             ],
             [
              0.1111111111111111,
              "#46039f"
             ],
             [
              0.2222222222222222,
              "#7201a8"
             ],
             [
              0.3333333333333333,
              "#9c179e"
             ],
             [
              0.4444444444444444,
              "#bd3786"
             ],
             [
              0.5555555555555556,
              "#d8576b"
             ],
             [
              0.6666666666666666,
              "#ed7953"
             ],
             [
              0.7777777777777778,
              "#fb9f3a"
             ],
             [
              0.8888888888888888,
              "#fdca26"
             ],
             [
              1,
              "#f0f921"
             ]
            ],
            "type": "histogram2dcontour"
           }
          ],
          "mesh3d": [
           {
            "colorbar": {
             "outlinewidth": 0,
             "ticks": ""
            },
            "type": "mesh3d"
           }
          ],
          "parcoords": [
           {
            "line": {
             "colorbar": {
              "outlinewidth": 0,
              "ticks": ""
             }
            },
            "type": "parcoords"
           }
          ],
          "pie": [
           {
            "automargin": true,
            "type": "pie"
           }
          ],
          "scatter": [
           {
            "fillpattern": {
             "fillmode": "overlay",
             "size": 10,
             "solidity": 0.2
            },
            "type": "scatter"
           }
          ],
          "scatter3d": [
           {
            "line": {
             "colorbar": {
              "outlinewidth": 0,
              "ticks": ""
             }
            },
            "marker": {
             "colorbar": {
              "outlinewidth": 0,
              "ticks": ""
             }
            },
            "type": "scatter3d"
           }
          ],
          "scattercarpet": [
           {
            "marker": {
             "colorbar": {
              "outlinewidth": 0,
              "ticks": ""
             }
            },
            "type": "scattercarpet"
           }
          ],
          "scattergeo": [
           {
            "marker": {
             "colorbar": {
              "outlinewidth": 0,
              "ticks": ""
             }
            },
            "type": "scattergeo"
           }
          ],
          "scattergl": [
           {
            "marker": {
             "colorbar": {
              "outlinewidth": 0,
              "ticks": ""
             }
            },
            "type": "scattergl"
           }
          ],
          "scattermapbox": [
           {
            "marker": {
             "colorbar": {
              "outlinewidth": 0,
              "ticks": ""
             }
            },
            "type": "scattermapbox"
           }
          ],
          "scatterpolar": [
           {
            "marker": {
             "colorbar": {
              "outlinewidth": 0,
              "ticks": ""
             }
            },
            "type": "scatterpolar"
           }
          ],
          "scatterpolargl": [
           {
            "marker": {
             "colorbar": {
              "outlinewidth": 0,
              "ticks": ""
             }
            },
            "type": "scatterpolargl"
           }
          ],
          "scatterternary": [
           {
            "marker": {
             "colorbar": {
              "outlinewidth": 0,
              "ticks": ""
             }
            },
            "type": "scatterternary"
           }
          ],
          "surface": [
           {
            "colorbar": {
             "outlinewidth": 0,
             "ticks": ""
            },
            "colorscale": [
             [
              0,
              "#0d0887"
             ],
             [
              0.1111111111111111,
              "#46039f"
             ],
             [
              0.2222222222222222,
              "#7201a8"
             ],
             [
              0.3333333333333333,
              "#9c179e"
             ],
             [
              0.4444444444444444,
              "#bd3786"
             ],
             [
              0.5555555555555556,
              "#d8576b"
             ],
             [
              0.6666666666666666,
              "#ed7953"
             ],
             [
              0.7777777777777778,
              "#fb9f3a"
             ],
             [
              0.8888888888888888,
              "#fdca26"
             ],
             [
              1,
              "#f0f921"
             ]
            ],
            "type": "surface"
           }
          ],
          "table": [
           {
            "cells": {
             "fill": {
              "color": "#EBF0F8"
             },
             "line": {
              "color": "white"
             }
            },
            "header": {
             "fill": {
              "color": "#C8D4E3"
             },
             "line": {
              "color": "white"
             }
            },
            "type": "table"
           }
          ]
         },
         "layout": {
          "annotationdefaults": {
           "arrowcolor": "#2a3f5f",
           "arrowhead": 0,
           "arrowwidth": 1
          },
          "autotypenumbers": "strict",
          "coloraxis": {
           "colorbar": {
            "outlinewidth": 0,
            "ticks": ""
           }
          },
          "colorscale": {
           "diverging": [
            [
             0,
             "#8e0152"
            ],
            [
             0.1,
             "#c51b7d"
            ],
            [
             0.2,
             "#de77ae"
            ],
            [
             0.3,
             "#f1b6da"
            ],
            [
             0.4,
             "#fde0ef"
            ],
            [
             0.5,
             "#f7f7f7"
            ],
            [
             0.6,
             "#e6f5d0"
            ],
            [
             0.7,
             "#b8e186"
            ],
            [
             0.8,
             "#7fbc41"
            ],
            [
             0.9,
             "#4d9221"
            ],
            [
             1,
             "#276419"
            ]
           ],
           "sequential": [
            [
             0,
             "#0d0887"
            ],
            [
             0.1111111111111111,
             "#46039f"
            ],
            [
             0.2222222222222222,
             "#7201a8"
            ],
            [
             0.3333333333333333,
             "#9c179e"
            ],
            [
             0.4444444444444444,
             "#bd3786"
            ],
            [
             0.5555555555555556,
             "#d8576b"
            ],
            [
             0.6666666666666666,
             "#ed7953"
            ],
            [
             0.7777777777777778,
             "#fb9f3a"
            ],
            [
             0.8888888888888888,
             "#fdca26"
            ],
            [
             1,
             "#f0f921"
            ]
           ],
           "sequentialminus": [
            [
             0,
             "#0d0887"
            ],
            [
             0.1111111111111111,
             "#46039f"
            ],
            [
             0.2222222222222222,
             "#7201a8"
            ],
            [
             0.3333333333333333,
             "#9c179e"
            ],
            [
             0.4444444444444444,
             "#bd3786"
            ],
            [
             0.5555555555555556,
             "#d8576b"
            ],
            [
             0.6666666666666666,
             "#ed7953"
            ],
            [
             0.7777777777777778,
             "#fb9f3a"
            ],
            [
             0.8888888888888888,
             "#fdca26"
            ],
            [
             1,
             "#f0f921"
            ]
           ]
          },
          "colorway": [
           "#636efa",
           "#EF553B",
           "#00cc96",
           "#ab63fa",
           "#FFA15A",
           "#19d3f3",
           "#FF6692",
           "#B6E880",
           "#FF97FF",
           "#FECB52"
          ],
          "font": {
           "color": "#2a3f5f"
          },
          "geo": {
           "bgcolor": "white",
           "lakecolor": "white",
           "landcolor": "#E5ECF6",
           "showlakes": true,
           "showland": true,
           "subunitcolor": "white"
          },
          "hoverlabel": {
           "align": "left"
          },
          "hovermode": "closest",
          "mapbox": {
           "style": "light"
          },
          "paper_bgcolor": "white",
          "plot_bgcolor": "#E5ECF6",
          "polar": {
           "angularaxis": {
            "gridcolor": "white",
            "linecolor": "white",
            "ticks": ""
           },
           "bgcolor": "#E5ECF6",
           "radialaxis": {
            "gridcolor": "white",
            "linecolor": "white",
            "ticks": ""
           }
          },
          "scene": {
           "xaxis": {
            "backgroundcolor": "#E5ECF6",
            "gridcolor": "white",
            "gridwidth": 2,
            "linecolor": "white",
            "showbackground": true,
            "ticks": "",
            "zerolinecolor": "white"
           },
           "yaxis": {
            "backgroundcolor": "#E5ECF6",
            "gridcolor": "white",
            "gridwidth": 2,
            "linecolor": "white",
            "showbackground": true,
            "ticks": "",
            "zerolinecolor": "white"
           },
           "zaxis": {
            "backgroundcolor": "#E5ECF6",
            "gridcolor": "white",
            "gridwidth": 2,
            "linecolor": "white",
            "showbackground": true,
            "ticks": "",
            "zerolinecolor": "white"
           }
          },
          "shapedefaults": {
           "line": {
            "color": "#2a3f5f"
           }
          },
          "ternary": {
           "aaxis": {
            "gridcolor": "white",
            "linecolor": "white",
            "ticks": ""
           },
           "baxis": {
            "gridcolor": "white",
            "linecolor": "white",
            "ticks": ""
           },
           "bgcolor": "#E5ECF6",
           "caxis": {
            "gridcolor": "white",
            "linecolor": "white",
            "ticks": ""
           }
          },
          "title": {
           "x": 0.05
          },
          "xaxis": {
           "automargin": true,
           "gridcolor": "white",
           "linecolor": "white",
           "ticks": "",
           "title": {
            "standoff": 15
           },
           "zerolinecolor": "white",
           "zerolinewidth": 2
          },
          "yaxis": {
           "automargin": true,
           "gridcolor": "white",
           "linecolor": "white",
           "ticks": "",
           "title": {
            "standoff": 15
           },
           "zerolinecolor": "white",
           "zerolinewidth": 2
          }
         }
        },
        "title": {
         "text": "World Population Forecast"
        },
        "xaxis": {
         "title": {
          "text": "Year"
         }
        },
        "yaxis": {
         "title": {
          "text": "Population"
         }
        }
       }
      }
     },
     "metadata": {},
     "output_type": "display_data"
    }
   ],
   "source": [
    "trace1 = go.Scatter(\n",
    "        x = df_worldpop['Year'],\n",
    "        y = df_worldpop['Population logged'],\n",
    "        mode='lines+markers',\n",
    "        name = 'Training Data'\n",
    "    )\n",
    "trace2 = go.Scatter(\n",
    "        x = future_df['Year'],\n",
    "        y = future_df['Population Logged'],\n",
    "        mode='lines+markers',\n",
    "        name = '5 year Forecast'\n",
    "    )\n",
    "layout = go.Layout(\n",
    "        title = (\"World Population Forecast\"),\n",
    "        font = dict(size = 20),\n",
    "        xaxis = {'title' : \"Year\"},\n",
    "        yaxis = {'title' : \"Population\"}\n",
    "    )\n",
    "fig = go.Figure(data=[trace1, trace2], layout=layout)\n",
    "fig.show()"
   ]
  },
  {
   "cell_type": "code",
   "execution_count": 9,
   "metadata": {},
   "outputs": [
    {
     "name": "stderr",
     "output_type": "stream",
     "text": [
      "C:\\Users\\emili\\AppData\\Local\\Temp\\ipykernel_14844\\3691110822.py:3: SettingWithCopyWarning:\n",
      "\n",
      "\n",
      "A value is trying to be set on a copy of a slice from a DataFrame\n",
      "\n",
      "See the caveats in the documentation: https://pandas.pydata.org/pandas-docs/stable/user_guide/indexing.html#returning-a-view-versus-a-copy\n",
      "\n"
     ]
    },
    {
     "data": {
      "text/html": [
       "<div>\n",
       "<style scoped>\n",
       "    .dataframe tbody tr th:only-of-type {\n",
       "        vertical-align: middle;\n",
       "    }\n",
       "\n",
       "    .dataframe tbody tr th {\n",
       "        vertical-align: top;\n",
       "    }\n",
       "\n",
       "    .dataframe thead th {\n",
       "        text-align: right;\n",
       "    }\n",
       "</style>\n",
       "<table border=\"1\" class=\"dataframe\">\n",
       "  <thead>\n",
       "    <tr style=\"text-align: right;\">\n",
       "      <th></th>\n",
       "      <th>Entity</th>\n",
       "      <th>Code</th>\n",
       "      <th>Year</th>\n",
       "      <th>Population (historical estimates)</th>\n",
       "      <th>Population logged</th>\n",
       "    </tr>\n",
       "  </thead>\n",
       "  <tbody>\n",
       "    <tr>\n",
       "      <th>56975</th>\n",
       "      <td>World</td>\n",
       "      <td>OWID_WRL</td>\n",
       "      <td>1780</td>\n",
       "      <td>891048681</td>\n",
       "      <td>20.607910</td>\n",
       "    </tr>\n",
       "    <tr>\n",
       "      <th>56977</th>\n",
       "      <td>World</td>\n",
       "      <td>OWID_WRL</td>\n",
       "      <td>1800</td>\n",
       "      <td>985340629</td>\n",
       "      <td>20.708498</td>\n",
       "    </tr>\n",
       "    <tr>\n",
       "      <th>56978</th>\n",
       "      <td>World</td>\n",
       "      <td>OWID_WRL</td>\n",
       "      <td>1801</td>\n",
       "      <td>987628322</td>\n",
       "      <td>20.710817</td>\n",
       "    </tr>\n",
       "    <tr>\n",
       "      <th>56979</th>\n",
       "      <td>World</td>\n",
       "      <td>OWID_WRL</td>\n",
       "      <td>1802</td>\n",
       "      <td>991098738</td>\n",
       "      <td>20.714325</td>\n",
       "    </tr>\n",
       "    <tr>\n",
       "      <th>56980</th>\n",
       "      <td>World</td>\n",
       "      <td>OWID_WRL</td>\n",
       "      <td>1803</td>\n",
       "      <td>994610260</td>\n",
       "      <td>20.717862</td>\n",
       "    </tr>\n",
       "    <tr>\n",
       "      <th>...</th>\n",
       "      <td>...</td>\n",
       "      <td>...</td>\n",
       "      <td>...</td>\n",
       "      <td>...</td>\n",
       "      <td>...</td>\n",
       "    </tr>\n",
       "    <tr>\n",
       "      <th>57194</th>\n",
       "      <td>World</td>\n",
       "      <td>OWID_WRL</td>\n",
       "      <td>2017</td>\n",
       "      <td>7599822336</td>\n",
       "      <td>22.751391</td>\n",
       "    </tr>\n",
       "    <tr>\n",
       "      <th>57195</th>\n",
       "      <td>World</td>\n",
       "      <td>OWID_WRL</td>\n",
       "      <td>2018</td>\n",
       "      <td>7683789824</td>\n",
       "      <td>22.762379</td>\n",
       "    </tr>\n",
       "    <tr>\n",
       "      <th>57196</th>\n",
       "      <td>World</td>\n",
       "      <td>OWID_WRL</td>\n",
       "      <td>2019</td>\n",
       "      <td>7764951040</td>\n",
       "      <td>22.772886</td>\n",
       "    </tr>\n",
       "    <tr>\n",
       "      <th>57197</th>\n",
       "      <td>World</td>\n",
       "      <td>OWID_WRL</td>\n",
       "      <td>2020</td>\n",
       "      <td>7840952832</td>\n",
       "      <td>22.782626</td>\n",
       "    </tr>\n",
       "    <tr>\n",
       "      <th>57198</th>\n",
       "      <td>World</td>\n",
       "      <td>OWID_WRL</td>\n",
       "      <td>2021</td>\n",
       "      <td>7909295104</td>\n",
       "      <td>22.791305</td>\n",
       "    </tr>\n",
       "  </tbody>\n",
       "</table>\n",
       "<p>223 rows × 5 columns</p>\n",
       "</div>"
      ],
      "text/plain": [
       "      Entity      Code  Year  Population (historical estimates)  \\\n",
       "56975  World  OWID_WRL  1780                          891048681   \n",
       "56977  World  OWID_WRL  1800                          985340629   \n",
       "56978  World  OWID_WRL  1801                          987628322   \n",
       "56979  World  OWID_WRL  1802                          991098738   \n",
       "56980  World  OWID_WRL  1803                          994610260   \n",
       "...      ...       ...   ...                                ...   \n",
       "57194  World  OWID_WRL  2017                         7599822336   \n",
       "57195  World  OWID_WRL  2018                         7683789824   \n",
       "57196  World  OWID_WRL  2019                         7764951040   \n",
       "57197  World  OWID_WRL  2020                         7840952832   \n",
       "57198  World  OWID_WRL  2021                         7909295104   \n",
       "\n",
       "       Population logged  \n",
       "56975          20.607910  \n",
       "56977          20.708498  \n",
       "56978          20.710817  \n",
       "56979          20.714325  \n",
       "56980          20.717862  \n",
       "...                  ...  \n",
       "57194          22.751391  \n",
       "57195          22.762379  \n",
       "57196          22.772886  \n",
       "57197          22.782626  \n",
       "57198          22.791305  \n",
       "\n",
       "[223 rows x 5 columns]"
      ]
     },
     "execution_count": 9,
     "metadata": {},
     "output_type": "execute_result"
    }
   ],
   "source": [
    "years_to_drop = [-10000, -9000, -8000, -7000, -6000, -5000, -4000, -3000, -2000, -1000, 0, 100, 200, 300, 400, 500, 600, 700, 800, 900, 1000, 1100, 1200, 1300, 1400, 1500, 1600, 1700, 1710, 1720, 1730, 1740, 1750, 1760, 1770, 1790]  # List of years to drop\n",
    "\n",
    "df_worldpop.drop(df_worldpop[df_worldpop['Year'].isin(years_to_drop)].index, inplace=True)\n",
    "\n",
    "df_worldpop"
   ]
  },
  {
   "cell_type": "code",
   "execution_count": 14,
   "metadata": {},
   "outputs": [
    {
     "name": "stdout",
     "output_type": "stream",
     "text": [
      "Epoch 1/100\n",
      "1/1 [==============================] - 1s 813ms/step - loss: 197.7728\n",
      "Epoch 2/100\n",
      "1/1 [==============================] - 0s 14ms/step - loss: 186.1940\n",
      "Epoch 3/100\n",
      "1/1 [==============================] - 0s 15ms/step - loss: 174.7859\n",
      "Epoch 4/100\n",
      "1/1 [==============================] - 0s 16ms/step - loss: 163.4881\n",
      "Epoch 5/100\n",
      "1/1 [==============================] - 0s 19ms/step - loss: 152.2419\n",
      "Epoch 6/100\n",
      "1/1 [==============================] - 0s 15ms/step - loss: 141.0262\n",
      "Epoch 7/100\n",
      "1/1 [==============================] - 0s 15ms/step - loss: 129.8080\n",
      "Epoch 8/100\n",
      "1/1 [==============================] - 0s 14ms/step - loss: 118.5966\n",
      "Epoch 9/100\n",
      "1/1 [==============================] - 0s 14ms/step - loss: 107.4013\n",
      "Epoch 10/100\n",
      "1/1 [==============================] - 0s 15ms/step - loss: 96.2291\n",
      "Epoch 11/100\n",
      "1/1 [==============================] - 0s 13ms/step - loss: 85.0954\n",
      "Epoch 12/100\n",
      "1/1 [==============================] - 0s 14ms/step - loss: 74.0282\n",
      "Epoch 13/100\n",
      "1/1 [==============================] - 0s 13ms/step - loss: 63.0711\n",
      "Epoch 14/100\n",
      "1/1 [==============================] - 0s 13ms/step - loss: 52.2928\n",
      "Epoch 15/100\n",
      "1/1 [==============================] - 0s 22ms/step - loss: 41.7976\n",
      "Epoch 16/100\n",
      "1/1 [==============================] - 0s 19ms/step - loss: 31.7398\n",
      "Epoch 17/100\n",
      "1/1 [==============================] - 0s 16ms/step - loss: 22.3454\n",
      "Epoch 18/100\n",
      "1/1 [==============================] - 0s 14ms/step - loss: 13.9402\n",
      "Epoch 19/100\n",
      "1/1 [==============================] - 0s 14ms/step - loss: 6.9831\n",
      "Epoch 20/100\n",
      "1/1 [==============================] - 0s 14ms/step - loss: 2.0941\n",
      "Epoch 21/100\n",
      "1/1 [==============================] - 0s 14ms/step - loss: 0.0246\n",
      "Epoch 22/100\n",
      "1/1 [==============================] - 0s 14ms/step - loss: 1.3817\n",
      "Epoch 23/100\n",
      "1/1 [==============================] - 0s 14ms/step - loss: 5.6634\n",
      "Epoch 24/100\n",
      "1/1 [==============================] - 0s 13ms/step - loss: 10.3132\n",
      "Epoch 25/100\n",
      "1/1 [==============================] - 0s 14ms/step - loss: 12.7914\n",
      "Epoch 26/100\n",
      "1/1 [==============================] - 0s 14ms/step - loss: 12.5776\n",
      "Epoch 27/100\n",
      "1/1 [==============================] - 0s 14ms/step - loss: 10.4930\n",
      "Epoch 28/100\n",
      "1/1 [==============================] - 0s 17ms/step - loss: 7.6400\n",
      "Epoch 29/100\n",
      "1/1 [==============================] - 0s 19ms/step - loss: 4.8729\n",
      "Epoch 30/100\n",
      "1/1 [==============================] - 0s 18ms/step - loss: 2.6639\n",
      "Epoch 31/100\n",
      "1/1 [==============================] - 0s 17ms/step - loss: 1.1650\n",
      "Epoch 32/100\n",
      "1/1 [==============================] - 0s 16ms/step - loss: 0.3289\n",
      "Epoch 33/100\n",
      "1/1 [==============================] - 0s 14ms/step - loss: 0.0163\n",
      "Epoch 34/100\n",
      "1/1 [==============================] - 0s 17ms/step - loss: 0.0658\n",
      "Epoch 35/100\n",
      "1/1 [==============================] - 0s 15ms/step - loss: 0.3303\n",
      "Epoch 36/100\n",
      "1/1 [==============================] - 0s 20ms/step - loss: 0.6913\n",
      "Epoch 37/100\n",
      "1/1 [==============================] - 0s 16ms/step - loss: 1.0614\n",
      "Epoch 38/100\n",
      "1/1 [==============================] - 0s 15ms/step - loss: 1.3814\n",
      "Epoch 39/100\n",
      "1/1 [==============================] - 0s 14ms/step - loss: 1.6157\n",
      "Epoch 40/100\n",
      "1/1 [==============================] - 0s 14ms/step - loss: 1.7477\n",
      "Epoch 41/100\n",
      "1/1 [==============================] - 0s 17ms/step - loss: 1.7751\n",
      "Epoch 42/100\n",
      "1/1 [==============================] - 0s 16ms/step - loss: 1.7065\n",
      "Epoch 43/100\n",
      "1/1 [==============================] - 0s 17ms/step - loss: 1.5580\n",
      "Epoch 44/100\n",
      "1/1 [==============================] - 0s 15ms/step - loss: 1.3505\n",
      "Epoch 45/100\n",
      "1/1 [==============================] - 0s 16ms/step - loss: 1.1073\n",
      "Epoch 46/100\n",
      "1/1 [==============================] - 0s 20ms/step - loss: 0.8520\n",
      "Epoch 47/100\n",
      "1/1 [==============================] - 0s 18ms/step - loss: 0.6065\n",
      "Epoch 48/100\n",
      "1/1 [==============================] - 0s 44ms/step - loss: 0.3896\n",
      "Epoch 49/100\n",
      "1/1 [==============================] - 0s 21ms/step - loss: 0.2152\n",
      "Epoch 50/100\n",
      "1/1 [==============================] - 0s 17ms/step - loss: 0.0916\n",
      "Epoch 51/100\n",
      "1/1 [==============================] - 0s 15ms/step - loss: 0.0211\n",
      "Epoch 52/100\n",
      "1/1 [==============================] - 0s 14ms/step - loss: 9.2599e-05\n",
      "Epoch 53/100\n",
      "1/1 [==============================] - 0s 14ms/step - loss: 0.0198\n",
      "Epoch 54/100\n",
      "1/1 [==============================] - 0s 14ms/step - loss: 0.0678\n",
      "Epoch 55/100\n",
      "1/1 [==============================] - 0s 14ms/step - loss: 0.1302\n",
      "Epoch 56/100\n",
      "1/1 [==============================] - 0s 13ms/step - loss: 0.1931\n",
      "Epoch 57/100\n",
      "1/1 [==============================] - 0s 13ms/step - loss: 0.2448\n",
      "Epoch 58/100\n",
      "1/1 [==============================] - 0s 12ms/step - loss: 0.2775\n",
      "Epoch 59/100\n",
      "1/1 [==============================] - 0s 11ms/step - loss: 0.2874\n",
      "Epoch 60/100\n",
      "1/1 [==============================] - 0s 12ms/step - loss: 0.2748\n",
      "Epoch 61/100\n",
      "1/1 [==============================] - 0s 13ms/step - loss: 0.2437\n",
      "Epoch 62/100\n",
      "1/1 [==============================] - 0s 11ms/step - loss: 0.2002\n",
      "Epoch 63/100\n",
      "1/1 [==============================] - 0s 11ms/step - loss: 0.1511\n",
      "Epoch 64/100\n",
      "1/1 [==============================] - 0s 10ms/step - loss: 0.1031\n",
      "Epoch 65/100\n",
      "1/1 [==============================] - 0s 11ms/step - loss: 0.0616\n",
      "Epoch 66/100\n",
      "1/1 [==============================] - 0s 11ms/step - loss: 0.0300\n",
      "Epoch 67/100\n",
      "1/1 [==============================] - 0s 12ms/step - loss: 0.0099\n",
      "Epoch 68/100\n",
      "1/1 [==============================] - 0s 11ms/step - loss: 9.0918e-04\n",
      "Epoch 69/100\n",
      "1/1 [==============================] - 0s 11ms/step - loss: 0.0013\n",
      "Epoch 70/100\n",
      "1/1 [==============================] - 0s 11ms/step - loss: 0.0086\n",
      "Epoch 71/100\n",
      "1/1 [==============================] - 0s 12ms/step - loss: 0.0197\n",
      "Epoch 72/100\n",
      "1/1 [==============================] - 0s 12ms/step - loss: 0.0318\n",
      "Epoch 73/100\n",
      "1/1 [==============================] - 0s 11ms/step - loss: 0.0425\n",
      "Epoch 74/100\n",
      "1/1 [==============================] - 0s 12ms/step - loss: 0.0500\n",
      "Epoch 75/100\n",
      "1/1 [==============================] - 0s 12ms/step - loss: 0.0535\n",
      "Epoch 76/100\n",
      "1/1 [==============================] - 0s 15ms/step - loss: 0.0527\n",
      "Epoch 77/100\n",
      "1/1 [==============================] - 0s 15ms/step - loss: 0.0482\n",
      "Epoch 78/100\n",
      "1/1 [==============================] - 0s 15ms/step - loss: 0.0408\n",
      "Epoch 79/100\n",
      "1/1 [==============================] - 0s 12ms/step - loss: 0.0319\n",
      "Epoch 80/100\n",
      "1/1 [==============================] - 0s 12ms/step - loss: 0.0227\n",
      "Epoch 81/100\n",
      "1/1 [==============================] - 0s 11ms/step - loss: 0.0142\n",
      "Epoch 82/100\n",
      "1/1 [==============================] - 0s 13ms/step - loss: 0.0074\n",
      "Epoch 83/100\n",
      "1/1 [==============================] - 0s 13ms/step - loss: 0.0028\n",
      "Epoch 84/100\n",
      "1/1 [==============================] - 0s 12ms/step - loss: 4.6167e-04\n",
      "Epoch 85/100\n",
      "1/1 [==============================] - 0s 12ms/step - loss: 1.9114e-04\n",
      "Epoch 86/100\n",
      "1/1 [==============================] - 0s 11ms/step - loss: 0.0015\n",
      "Epoch 87/100\n",
      "1/1 [==============================] - 0s 21ms/step - loss: 0.0038\n",
      "Epoch 88/100\n",
      "1/1 [==============================] - 0s 16ms/step - loss: 0.0063\n",
      "Epoch 89/100\n",
      "1/1 [==============================] - 0s 12ms/step - loss: 0.0086\n",
      "Epoch 90/100\n",
      "1/1 [==============================] - 0s 13ms/step - loss: 0.0102\n",
      "Epoch 91/100\n",
      "1/1 [==============================] - 0s 13ms/step - loss: 0.0108\n",
      "Epoch 92/100\n",
      "1/1 [==============================] - 0s 14ms/step - loss: 0.0104\n",
      "Epoch 93/100\n",
      "1/1 [==============================] - 0s 12ms/step - loss: 0.0092\n",
      "Epoch 94/100\n",
      "1/1 [==============================] - 0s 12ms/step - loss: 0.0075\n",
      "Epoch 95/100\n",
      "1/1 [==============================] - 0s 12ms/step - loss: 0.0055\n",
      "Epoch 96/100\n",
      "1/1 [==============================] - 0s 12ms/step - loss: 0.0036\n",
      "Epoch 97/100\n",
      "1/1 [==============================] - 0s 18ms/step - loss: 0.0020\n",
      "Epoch 98/100\n",
      "1/1 [==============================] - 0s 19ms/step - loss: 8.4196e-04\n",
      "Epoch 99/100\n",
      "1/1 [==============================] - 0s 15ms/step - loss: 2.1881e-04\n",
      "Epoch 100/100\n",
      "1/1 [==============================] - 0s 12ms/step - loss: 8.4926e-05\n",
      "1/1 [==============================] - 0s 106ms/step\n",
      "WARNING:tensorflow:5 out of the last 13 calls to <function Model.make_predict_function.<locals>.predict_function at 0x0000016DE191B1F0> triggered tf.function retracing. Tracing is expensive and the excessive number of tracings could be due to (1) creating @tf.function repeatedly in a loop, (2) passing tensors with different shapes, (3) passing Python objects instead of tensors. For (1), please define your @tf.function outside of the loop. For (2), @tf.function has reduce_retracing=True option that can avoid unnecessary retracing. For (3), please refer to https://www.tensorflow.org/guide/function#controlling_retracing and https://www.tensorflow.org/api_docs/python/tf/function for  more details.\n",
      "1/1 [==============================] - 0s 104ms/step\n",
      "1/1 [==============================] - 0s 21ms/step\n",
      "1/1 [==============================] - 0s 15ms/step\n",
      "1/1 [==============================] - 0s 18ms/step\n",
      "1/1 [==============================] - 0s 13ms/step\n",
      "Forecast Dates: [2022. 2023. 2024. 2025. 2026.]\n",
      "Population Forecast: [22.7913045  22.84315109 22.8574543  22.87863922 22.9003067  22.9250927 ]\n"
     ]
    }
   ],
   "source": [
    "import tensorflow as tf\n",
    "from tensorflow.keras.layers import LSTM, Dense, LeakyReLU\n",
    "from tensorflow.keras.preprocessing.sequence import TimeseriesGenerator\n",
    "import pandas as pd\n",
    "import numpy as np\n",
    "\n",
    "def generate_forecast(df, num_predictions):\n",
    "    close_data = df['Population logged'].values\n",
    "    close_data = close_data.reshape((-1, 1))\n",
    "\n",
    "    split_percent = 0.80\n",
    "    split = int(split_percent * len(close_data))\n",
    "\n",
    "    close_train = close_data[:split]\n",
    "    close_test = close_data[split:]\n",
    "\n",
    "    look_back = 5\n",
    "\n",
    "    train_generator = TimeseriesGenerator(close_train, close_train, length=look_back, batch_size=200)\n",
    "    test_generator = TimeseriesGenerator(close_test, close_test, length=look_back, batch_size=200)\n",
    "\n",
    "    model = tf.keras.Sequential()\n",
    "    model.add(LSTM(30, activation=LeakyReLU(), input_shape=(look_back, 1)))\n",
    "    model.add(Dense(1))\n",
    "    model.compile(optimizer='adam', loss='mse')\n",
    "\n",
    "    num_epochs = 100\n",
    "    model.fit(train_generator, epochs=num_epochs, verbose=1)\n",
    "    prediction = model.predict(test_generator)\n",
    "\n",
    "    close_train = close_train.reshape((-1))\n",
    "    close_test = close_test.reshape((-1))\n",
    "    prediction = prediction.reshape((-1))\n",
    "\n",
    "    close_data = close_data.reshape((-1))\n",
    "\n",
    "    def predict(num_prediction, model):\n",
    "        prediction_list = close_data[-look_back:]\n",
    "\n",
    "        for _ in range(num_prediction):\n",
    "            x = np.array(prediction_list[-look_back:]).reshape((1, look_back, 1))\n",
    "            out = model.predict(x)[0][0]\n",
    "            prediction_list = np.append(prediction_list, out)\n",
    "        prediction_list = prediction_list[look_back-1:]\n",
    "\n",
    "        return prediction_list\n",
    "\n",
    "    def predict_dates(num_prediction):\n",
    "        last_date = df['Year'].values[-1]\n",
    "        prediction_dates = pd.date_range(last_date, periods=num_prediction+1).tolist()\n",
    "        prediction_dates = [date.strftime('%Y-%m-%d') for date in prediction_dates]  # Convert dates to strings\n",
    "        return prediction_dates\n",
    "\n",
    "    num_prediction = num_predictions\n",
    "    forecast = predict(num_prediction, model)\n",
    "    forecast_dates = predict_dates(num_prediction)\n",
    "\n",
    "    return forecast_dates, forecast\n",
    "\n",
    "num_predictions = 5\n",
    "forecast_dates, forecast = generate_forecast(df_worldpop, num_predictions)\n",
    "forecast_dates = np.zeros(num_predictions)\n",
    "for i in range(0,num_predictions):\n",
    "    forecast_dates[i] = 2022+i;\n",
    "    i = i + 1\n",
    "\n",
    "print(\"Forecast Dates:\", forecast_dates)\n",
    "print(\"Population Forecast:\", forecast)\n"
   ]
  },
  {
   "cell_type": "code",
   "execution_count": 19,
   "metadata": {},
   "outputs": [
    {
     "data": {
      "application/vnd.plotly.v1+json": {
       "config": {
        "plotlyServerURL": "https://plot.ly"
       },
       "data": [
        {
         "mode": "lines",
         "name": "Training Data",
         "type": "scatter",
         "x": [
          1780,
          1800,
          1801,
          1802,
          1803,
          1804,
          1805,
          1806,
          1807,
          1808,
          1809,
          1810,
          1811,
          1812,
          1813,
          1814,
          1815,
          1816,
          1817,
          1818,
          1819,
          1820,
          1821,
          1822,
          1823,
          1824,
          1825,
          1826,
          1827,
          1828,
          1829,
          1830,
          1831,
          1832,
          1833,
          1834,
          1835,
          1836,
          1837,
          1838,
          1839,
          1840,
          1841,
          1842,
          1843,
          1844,
          1845,
          1846,
          1847,
          1848,
          1849,
          1850,
          1851,
          1852,
          1853,
          1854,
          1855,
          1856,
          1857,
          1858,
          1859,
          1860,
          1861,
          1862,
          1863,
          1864,
          1865,
          1866,
          1867,
          1868,
          1869,
          1870,
          1871,
          1872,
          1873,
          1874,
          1875,
          1876,
          1877,
          1878,
          1879,
          1880,
          1881,
          1882,
          1883,
          1884,
          1885,
          1886,
          1887,
          1888,
          1889,
          1890,
          1891,
          1892,
          1893,
          1894,
          1895,
          1896,
          1897,
          1898,
          1899,
          1900,
          1901,
          1902,
          1903,
          1904,
          1905,
          1906,
          1907,
          1908,
          1909,
          1910,
          1911,
          1912,
          1913,
          1914,
          1915,
          1916,
          1917,
          1918,
          1919,
          1920,
          1921,
          1922,
          1923,
          1924,
          1925,
          1926,
          1927,
          1928,
          1929,
          1930,
          1931,
          1932,
          1933,
          1934,
          1935,
          1936,
          1937,
          1938,
          1939,
          1940,
          1941,
          1942,
          1943,
          1944,
          1945,
          1946,
          1947,
          1948,
          1949,
          1950,
          1951,
          1952,
          1953,
          1954,
          1955,
          1956,
          1957,
          1958,
          1959,
          1960,
          1961,
          1962,
          1963,
          1964,
          1965,
          1966,
          1967,
          1968,
          1969,
          1970,
          1971,
          1972,
          1973,
          1974,
          1975,
          1976,
          1977,
          1978,
          1979,
          1980,
          1981,
          1982,
          1983,
          1984,
          1985,
          1986,
          1987,
          1988,
          1989,
          1990,
          1991,
          1992,
          1993,
          1994,
          1995,
          1996,
          1997,
          1998,
          1999,
          2000,
          2001,
          2002,
          2003,
          2004,
          2005,
          2006,
          2007,
          2008,
          2009,
          2010,
          2011,
          2012,
          2013,
          2014,
          2015,
          2016,
          2017,
          2018,
          2019,
          2020,
          2021
         ],
         "y": [
          20.60790962030621,
          20.708497955599363,
          20.710816992626373,
          20.714324722043465,
          20.717861519896513,
          20.72142738803436,
          20.72502233739588,
          20.728646402705838,
          20.732299650896543,
          20.73598215378245,
          20.73969401837528,
          20.745643275979763,
          20.750382308639857,
          20.756349117996646,
          20.762913083159994,
          20.769602796372993,
          20.776414210310477,
          20.783348677202188,
          20.790407594845963,
          20.797592440627092,
          20.80462264235365,
          20.81258068332889,
          20.8179681747795,
          20.824254213417838,
          20.83078732881235,
          20.837376510171147,
          20.8440159863639,
          20.85074499116876,
          20.857521207685522,
          20.864344670101026,
          20.8707357218779,
          20.877375849946784,
          20.88220508411966,
          20.88726751992173,
          20.89189754727276,
          20.896549157494086,
          20.901254705353708,
          20.90593948674835,
          20.910684979776715,
          20.91546232323607,
          20.92016873325064,
          20.925486406914153,
          20.929326860361485,
          20.933797190204317,
          20.938280628834395,
          20.94265829529993,
          20.947158250193517,
          20.95170531047615,
          20.95630008961321,
          20.960943261979942,
          20.964952347213544,
          20.969196089755762,
          20.970707697953088,
          20.972454224136076,
          20.973613866303154,
          20.97486379680622,
          20.97619005171439,
          20.977608076222236,
          20.979113768465755,
          20.980707963698602,
          20.982589396228924,
          20.98570554164514,
          20.98720337240459,
          20.989898373214135,
          20.992868495531546,
          20.99589310462902,
          20.998966662808577,
          21.002088247744076,
          21.00526321132623,
          21.00849020596781,
          21.01214356406818,
          21.01720152521821,
          21.020704890372357,
          21.025614565734404,
          21.03094280056343,
          21.03629540969791,
          21.041692244055284,
          21.047118097022235,
          21.052551437881206,
          21.058004001647884,
          21.06380309871756,
          21.070989685392995,
          21.07652827380042,
          21.08342190364037,
          21.090689225734845,
          21.09799337374434,
          21.105373214862123,
          21.112767589991876,
          21.120212996112457,
          21.127688539939093,
          21.134960722299738,
          21.14307376988128,
          21.148933221238668,
          21.15558223350645,
          21.162051394167307,
          21.168567467917104,
          21.175137783739743,
          21.181721055501836,
          21.188352890869197,
          21.195019103433843,
          21.20204901355463,
          21.21054631570922,
          21.217137053786875,
          21.225155701669152,
          21.233513417677713,
          21.241912427861156,
          21.25034908425418,
          21.2588297077737,
          21.26735179489208,
          21.275928817465914,
          21.284093841279134,
          21.293028628331445,
          21.299195839722206,
          21.306150467040023,
          21.312748970365064,
          21.319409078751846,
          21.326100044788248,
          21.33279186194352,
          21.33947746574537,
          21.346456713853357,
          21.353819461297636,
          21.36284458432062,
          21.36971370146477,
          21.37810147333368,
          21.38679721714045,
          21.395555453470035,
          21.40437527321588,
          21.413268001122884,
          21.422240876995605,
          21.431145163079993,
          21.440380337379445,
          21.451102495969515,
          21.459678407702658,
          21.46964942153302,
          21.479870867585497,
          21.49011383878541,
          21.500379467072783,
          21.510736361457404,
          21.521168715348757,
          21.53152813788404,
          21.541495307338895,
          21.55219808956155,
          21.559533127094774,
          21.56773165330855,
          21.575372732508228,
          21.582960781241482,
          21.59043681332188,
          21.59782218570039,
          21.605666497906565,
          21.614140032270463,
          21.624744234243582,
          21.639285376851348,
          21.656661587506893,
          21.67502833112338,
          21.694150348529348,
          21.713542545876045,
          21.73343738721077,
          21.75324331573015,
          21.773341292554054,
          21.793515698417536,
          21.811926176840043,
          21.82826884009504,
          21.84441253714236,
          21.86323972492192,
          21.88509681615875,
          21.907202946946157,
          21.92837161841129,
          21.94892681216634,
          21.968989246931788,
          21.989314693019274,
          22.0099208850726,
          22.030351990101007,
          22.05038412659405,
          22.06998762269677,
          22.089421619304748,
          22.108438801536177,
          22.126770542809314,
          22.144566690003927,
          22.162098665703777,
          22.179472753181255,
          22.197017544929917,
          22.21482249450078,
          22.23280108054324,
          22.251056427001114,
          22.26910005131966,
          22.286834907590666,
          22.304660346437228,
          22.32266616172858,
          22.34086725233185,
          22.35881859772373,
          22.376472578005036,
          22.394020060771606,
          22.410820768043017,
          22.426683287182403,
          22.44199457922475,
          22.456818308880642,
          22.47128581545356,
          22.48544978784654,
          22.499316085287063,
          22.51290850733581,
          22.526255113857516,
          22.539538848423756,
          22.552762088076953,
          22.565782986212923,
          22.57861001257535,
          22.59133048783734,
          22.603978391494437,
          22.616591059621108,
          22.62923878089223,
          22.641892483495706,
          22.654541718119642,
          22.6671171640816,
          22.679568280843444,
          22.692012911597747,
          22.7043491341891,
          22.716470287981384,
          22.728333633311813,
          22.739963785374712,
          22.75139070712335,
          22.76237872905802,
          22.772885988311472,
          22.782626198617862,
          22.79130450021648
         ]
        },
        {
         "mode": "lines",
         "name": "5 year Forecast",
         "type": "scatter",
         "x": [
          2022,
          2023,
          2024,
          2025,
          2026
         ],
         "y": [
          22.79130450021648,
          22.843151092529297,
          22.857454299926758,
          22.878639221191406,
          22.900306701660156,
          22.925092697143555
         ]
        }
       ],
       "layout": {
        "font": {
         "size": 20
        },
        "template": {
         "data": {
          "bar": [
           {
            "error_x": {
             "color": "#2a3f5f"
            },
            "error_y": {
             "color": "#2a3f5f"
            },
            "marker": {
             "line": {
              "color": "#E5ECF6",
              "width": 0.5
             },
             "pattern": {
              "fillmode": "overlay",
              "size": 10,
              "solidity": 0.2
             }
            },
            "type": "bar"
           }
          ],
          "barpolar": [
           {
            "marker": {
             "line": {
              "color": "#E5ECF6",
              "width": 0.5
             },
             "pattern": {
              "fillmode": "overlay",
              "size": 10,
              "solidity": 0.2
             }
            },
            "type": "barpolar"
           }
          ],
          "carpet": [
           {
            "aaxis": {
             "endlinecolor": "#2a3f5f",
             "gridcolor": "white",
             "linecolor": "white",
             "minorgridcolor": "white",
             "startlinecolor": "#2a3f5f"
            },
            "baxis": {
             "endlinecolor": "#2a3f5f",
             "gridcolor": "white",
             "linecolor": "white",
             "minorgridcolor": "white",
             "startlinecolor": "#2a3f5f"
            },
            "type": "carpet"
           }
          ],
          "choropleth": [
           {
            "colorbar": {
             "outlinewidth": 0,
             "ticks": ""
            },
            "type": "choropleth"
           }
          ],
          "contour": [
           {
            "colorbar": {
             "outlinewidth": 0,
             "ticks": ""
            },
            "colorscale": [
             [
              0,
              "#0d0887"
             ],
             [
              0.1111111111111111,
              "#46039f"
             ],
             [
              0.2222222222222222,
              "#7201a8"
             ],
             [
              0.3333333333333333,
              "#9c179e"
             ],
             [
              0.4444444444444444,
              "#bd3786"
             ],
             [
              0.5555555555555556,
              "#d8576b"
             ],
             [
              0.6666666666666666,
              "#ed7953"
             ],
             [
              0.7777777777777778,
              "#fb9f3a"
             ],
             [
              0.8888888888888888,
              "#fdca26"
             ],
             [
              1,
              "#f0f921"
             ]
            ],
            "type": "contour"
           }
          ],
          "contourcarpet": [
           {
            "colorbar": {
             "outlinewidth": 0,
             "ticks": ""
            },
            "type": "contourcarpet"
           }
          ],
          "heatmap": [
           {
            "colorbar": {
             "outlinewidth": 0,
             "ticks": ""
            },
            "colorscale": [
             [
              0,
              "#0d0887"
             ],
             [
              0.1111111111111111,
              "#46039f"
             ],
             [
              0.2222222222222222,
              "#7201a8"
             ],
             [
              0.3333333333333333,
              "#9c179e"
             ],
             [
              0.4444444444444444,
              "#bd3786"
             ],
             [
              0.5555555555555556,
              "#d8576b"
             ],
             [
              0.6666666666666666,
              "#ed7953"
             ],
             [
              0.7777777777777778,
              "#fb9f3a"
             ],
             [
              0.8888888888888888,
              "#fdca26"
             ],
             [
              1,
              "#f0f921"
             ]
            ],
            "type": "heatmap"
           }
          ],
          "heatmapgl": [
           {
            "colorbar": {
             "outlinewidth": 0,
             "ticks": ""
            },
            "colorscale": [
             [
              0,
              "#0d0887"
             ],
             [
              0.1111111111111111,
              "#46039f"
             ],
             [
              0.2222222222222222,
              "#7201a8"
             ],
             [
              0.3333333333333333,
              "#9c179e"
             ],
             [
              0.4444444444444444,
              "#bd3786"
             ],
             [
              0.5555555555555556,
              "#d8576b"
             ],
             [
              0.6666666666666666,
              "#ed7953"
             ],
             [
              0.7777777777777778,
              "#fb9f3a"
             ],
             [
              0.8888888888888888,
              "#fdca26"
             ],
             [
              1,
              "#f0f921"
             ]
            ],
            "type": "heatmapgl"
           }
          ],
          "histogram": [
           {
            "marker": {
             "pattern": {
              "fillmode": "overlay",
              "size": 10,
              "solidity": 0.2
             }
            },
            "type": "histogram"
           }
          ],
          "histogram2d": [
           {
            "colorbar": {
             "outlinewidth": 0,
             "ticks": ""
            },
            "colorscale": [
             [
              0,
              "#0d0887"
             ],
             [
              0.1111111111111111,
              "#46039f"
             ],
             [
              0.2222222222222222,
              "#7201a8"
             ],
             [
              0.3333333333333333,
              "#9c179e"
             ],
             [
              0.4444444444444444,
              "#bd3786"
             ],
             [
              0.5555555555555556,
              "#d8576b"
             ],
             [
              0.6666666666666666,
              "#ed7953"
             ],
             [
              0.7777777777777778,
              "#fb9f3a"
             ],
             [
              0.8888888888888888,
              "#fdca26"
             ],
             [
              1,
              "#f0f921"
             ]
            ],
            "type": "histogram2d"
           }
          ],
          "histogram2dcontour": [
           {
            "colorbar": {
             "outlinewidth": 0,
             "ticks": ""
            },
            "colorscale": [
             [
              0,
              "#0d0887"
             ],
             [
              0.1111111111111111,
              "#46039f"
             ],
             [
              0.2222222222222222,
              "#7201a8"
             ],
             [
              0.3333333333333333,
              "#9c179e"
             ],
             [
              0.4444444444444444,
              "#bd3786"
             ],
             [
              0.5555555555555556,
              "#d8576b"
             ],
             [
              0.6666666666666666,
              "#ed7953"
             ],
             [
              0.7777777777777778,
              "#fb9f3a"
             ],
             [
              0.8888888888888888,
              "#fdca26"
             ],
             [
              1,
              "#f0f921"
             ]
            ],
            "type": "histogram2dcontour"
           }
          ],
          "mesh3d": [
           {
            "colorbar": {
             "outlinewidth": 0,
             "ticks": ""
            },
            "type": "mesh3d"
           }
          ],
          "parcoords": [
           {
            "line": {
             "colorbar": {
              "outlinewidth": 0,
              "ticks": ""
             }
            },
            "type": "parcoords"
           }
          ],
          "pie": [
           {
            "automargin": true,
            "type": "pie"
           }
          ],
          "scatter": [
           {
            "fillpattern": {
             "fillmode": "overlay",
             "size": 10,
             "solidity": 0.2
            },
            "type": "scatter"
           }
          ],
          "scatter3d": [
           {
            "line": {
             "colorbar": {
              "outlinewidth": 0,
              "ticks": ""
             }
            },
            "marker": {
             "colorbar": {
              "outlinewidth": 0,
              "ticks": ""
             }
            },
            "type": "scatter3d"
           }
          ],
          "scattercarpet": [
           {
            "marker": {
             "colorbar": {
              "outlinewidth": 0,
              "ticks": ""
             }
            },
            "type": "scattercarpet"
           }
          ],
          "scattergeo": [
           {
            "marker": {
             "colorbar": {
              "outlinewidth": 0,
              "ticks": ""
             }
            },
            "type": "scattergeo"
           }
          ],
          "scattergl": [
           {
            "marker": {
             "colorbar": {
              "outlinewidth": 0,
              "ticks": ""
             }
            },
            "type": "scattergl"
           }
          ],
          "scattermapbox": [
           {
            "marker": {
             "colorbar": {
              "outlinewidth": 0,
              "ticks": ""
             }
            },
            "type": "scattermapbox"
           }
          ],
          "scatterpolar": [
           {
            "marker": {
             "colorbar": {
              "outlinewidth": 0,
              "ticks": ""
             }
            },
            "type": "scatterpolar"
           }
          ],
          "scatterpolargl": [
           {
            "marker": {
             "colorbar": {
              "outlinewidth": 0,
              "ticks": ""
             }
            },
            "type": "scatterpolargl"
           }
          ],
          "scatterternary": [
           {
            "marker": {
             "colorbar": {
              "outlinewidth": 0,
              "ticks": ""
             }
            },
            "type": "scatterternary"
           }
          ],
          "surface": [
           {
            "colorbar": {
             "outlinewidth": 0,
             "ticks": ""
            },
            "colorscale": [
             [
              0,
              "#0d0887"
             ],
             [
              0.1111111111111111,
              "#46039f"
             ],
             [
              0.2222222222222222,
              "#7201a8"
             ],
             [
              0.3333333333333333,
              "#9c179e"
             ],
             [
              0.4444444444444444,
              "#bd3786"
             ],
             [
              0.5555555555555556,
              "#d8576b"
             ],
             [
              0.6666666666666666,
              "#ed7953"
             ],
             [
              0.7777777777777778,
              "#fb9f3a"
             ],
             [
              0.8888888888888888,
              "#fdca26"
             ],
             [
              1,
              "#f0f921"
             ]
            ],
            "type": "surface"
           }
          ],
          "table": [
           {
            "cells": {
             "fill": {
              "color": "#EBF0F8"
             },
             "line": {
              "color": "white"
             }
            },
            "header": {
             "fill": {
              "color": "#C8D4E3"
             },
             "line": {
              "color": "white"
             }
            },
            "type": "table"
           }
          ]
         },
         "layout": {
          "annotationdefaults": {
           "arrowcolor": "#2a3f5f",
           "arrowhead": 0,
           "arrowwidth": 1
          },
          "autotypenumbers": "strict",
          "coloraxis": {
           "colorbar": {
            "outlinewidth": 0,
            "ticks": ""
           }
          },
          "colorscale": {
           "diverging": [
            [
             0,
             "#8e0152"
            ],
            [
             0.1,
             "#c51b7d"
            ],
            [
             0.2,
             "#de77ae"
            ],
            [
             0.3,
             "#f1b6da"
            ],
            [
             0.4,
             "#fde0ef"
            ],
            [
             0.5,
             "#f7f7f7"
            ],
            [
             0.6,
             "#e6f5d0"
            ],
            [
             0.7,
             "#b8e186"
            ],
            [
             0.8,
             "#7fbc41"
            ],
            [
             0.9,
             "#4d9221"
            ],
            [
             1,
             "#276419"
            ]
           ],
           "sequential": [
            [
             0,
             "#0d0887"
            ],
            [
             0.1111111111111111,
             "#46039f"
            ],
            [
             0.2222222222222222,
             "#7201a8"
            ],
            [
             0.3333333333333333,
             "#9c179e"
            ],
            [
             0.4444444444444444,
             "#bd3786"
            ],
            [
             0.5555555555555556,
             "#d8576b"
            ],
            [
             0.6666666666666666,
             "#ed7953"
            ],
            [
             0.7777777777777778,
             "#fb9f3a"
            ],
            [
             0.8888888888888888,
             "#fdca26"
            ],
            [
             1,
             "#f0f921"
            ]
           ],
           "sequentialminus": [
            [
             0,
             "#0d0887"
            ],
            [
             0.1111111111111111,
             "#46039f"
            ],
            [
             0.2222222222222222,
             "#7201a8"
            ],
            [
             0.3333333333333333,
             "#9c179e"
            ],
            [
             0.4444444444444444,
             "#bd3786"
            ],
            [
             0.5555555555555556,
             "#d8576b"
            ],
            [
             0.6666666666666666,
             "#ed7953"
            ],
            [
             0.7777777777777778,
             "#fb9f3a"
            ],
            [
             0.8888888888888888,
             "#fdca26"
            ],
            [
             1,
             "#f0f921"
            ]
           ]
          },
          "colorway": [
           "#636efa",
           "#EF553B",
           "#00cc96",
           "#ab63fa",
           "#FFA15A",
           "#19d3f3",
           "#FF6692",
           "#B6E880",
           "#FF97FF",
           "#FECB52"
          ],
          "font": {
           "color": "#2a3f5f"
          },
          "geo": {
           "bgcolor": "white",
           "lakecolor": "white",
           "landcolor": "#E5ECF6",
           "showlakes": true,
           "showland": true,
           "subunitcolor": "white"
          },
          "hoverlabel": {
           "align": "left"
          },
          "hovermode": "closest",
          "mapbox": {
           "style": "light"
          },
          "paper_bgcolor": "white",
          "plot_bgcolor": "#E5ECF6",
          "polar": {
           "angularaxis": {
            "gridcolor": "white",
            "linecolor": "white",
            "ticks": ""
           },
           "bgcolor": "#E5ECF6",
           "radialaxis": {
            "gridcolor": "white",
            "linecolor": "white",
            "ticks": ""
           }
          },
          "scene": {
           "xaxis": {
            "backgroundcolor": "#E5ECF6",
            "gridcolor": "white",
            "gridwidth": 2,
            "linecolor": "white",
            "showbackground": true,
            "ticks": "",
            "zerolinecolor": "white"
           },
           "yaxis": {
            "backgroundcolor": "#E5ECF6",
            "gridcolor": "white",
            "gridwidth": 2,
            "linecolor": "white",
            "showbackground": true,
            "ticks": "",
            "zerolinecolor": "white"
           },
           "zaxis": {
            "backgroundcolor": "#E5ECF6",
            "gridcolor": "white",
            "gridwidth": 2,
            "linecolor": "white",
            "showbackground": true,
            "ticks": "",
            "zerolinecolor": "white"
           }
          },
          "shapedefaults": {
           "line": {
            "color": "#2a3f5f"
           }
          },
          "ternary": {
           "aaxis": {
            "gridcolor": "white",
            "linecolor": "white",
            "ticks": ""
           },
           "baxis": {
            "gridcolor": "white",
            "linecolor": "white",
            "ticks": ""
           },
           "bgcolor": "#E5ECF6",
           "caxis": {
            "gridcolor": "white",
            "linecolor": "white",
            "ticks": ""
           }
          },
          "title": {
           "x": 0.05
          },
          "xaxis": {
           "automargin": true,
           "gridcolor": "white",
           "linecolor": "white",
           "ticks": "",
           "title": {
            "standoff": 15
           },
           "zerolinecolor": "white",
           "zerolinewidth": 2
          },
          "yaxis": {
           "automargin": true,
           "gridcolor": "white",
           "linecolor": "white",
           "ticks": "",
           "title": {
            "standoff": 15
           },
           "zerolinecolor": "white",
           "zerolinewidth": 2
          }
         }
        },
        "title": {
         "text": "World Population Forecast (logged)"
        },
        "xaxis": {
         "title": {
          "text": "Year"
         }
        },
        "yaxis": {
         "title": {
          "text": "Population"
         }
        }
       }
      }
     },
     "metadata": {},
     "output_type": "display_data"
    }
   ],
   "source": [
    "import plotly.graph_objects as go\n",
    "\n",
    "trace1 = go.Scatter(\n",
    "    x=df_worldpop['Year'],\n",
    "    y=df_worldpop['Population logged'],\n",
    "    mode='lines',\n",
    "    name='Training Data'\n",
    ")\n",
    "\n",
    "trace2 = go.Scatter(\n",
    "    x=forecast_dates,\n",
    "    y=forecast,\n",
    "    mode='lines',\n",
    "    name='5 year Forecast'\n",
    ")\n",
    "\n",
    "layout = go.Layout(\n",
    "    title=\"World Population Forecast (logged)\",\n",
    "    font=dict(size=20),\n",
    "    xaxis={'title': \"Year\"},\n",
    "    yaxis={'title': \"Population\"}\n",
    ")\n",
    "\n",
    "fig = go.Figure(data=[trace1, trace2], layout=layout)\n",
    "fig.show()\n"
   ]
  },
  {
   "cell_type": "code",
   "execution_count": 16,
   "metadata": {},
   "outputs": [
    {
     "data": {
      "application/vnd.plotly.v1+json": {
       "config": {
        "plotlyServerURL": "https://plot.ly"
       },
       "data": [
        {
         "mode": "lines",
         "name": "Training Data",
         "type": "scatter",
         "x": [
          1780,
          1800,
          1801,
          1802,
          1803,
          1804,
          1805,
          1806,
          1807,
          1808,
          1809,
          1810,
          1811,
          1812,
          1813,
          1814,
          1815,
          1816,
          1817,
          1818,
          1819,
          1820,
          1821,
          1822,
          1823,
          1824,
          1825,
          1826,
          1827,
          1828,
          1829,
          1830,
          1831,
          1832,
          1833,
          1834,
          1835,
          1836,
          1837,
          1838,
          1839,
          1840,
          1841,
          1842,
          1843,
          1844,
          1845,
          1846,
          1847,
          1848,
          1849,
          1850,
          1851,
          1852,
          1853,
          1854,
          1855,
          1856,
          1857,
          1858,
          1859,
          1860,
          1861,
          1862,
          1863,
          1864,
          1865,
          1866,
          1867,
          1868,
          1869,
          1870,
          1871,
          1872,
          1873,
          1874,
          1875,
          1876,
          1877,
          1878,
          1879,
          1880,
          1881,
          1882,
          1883,
          1884,
          1885,
          1886,
          1887,
          1888,
          1889,
          1890,
          1891,
          1892,
          1893,
          1894,
          1895,
          1896,
          1897,
          1898,
          1899,
          1900,
          1901,
          1902,
          1903,
          1904,
          1905,
          1906,
          1907,
          1908,
          1909,
          1910,
          1911,
          1912,
          1913,
          1914,
          1915,
          1916,
          1917,
          1918,
          1919,
          1920,
          1921,
          1922,
          1923,
          1924,
          1925,
          1926,
          1927,
          1928,
          1929,
          1930,
          1931,
          1932,
          1933,
          1934,
          1935,
          1936,
          1937,
          1938,
          1939,
          1940,
          1941,
          1942,
          1943,
          1944,
          1945,
          1946,
          1947,
          1948,
          1949,
          1950,
          1951,
          1952,
          1953,
          1954,
          1955,
          1956,
          1957,
          1958,
          1959,
          1960,
          1961,
          1962,
          1963,
          1964,
          1965,
          1966,
          1967,
          1968,
          1969,
          1970,
          1971,
          1972,
          1973,
          1974,
          1975,
          1976,
          1977,
          1978,
          1979,
          1980,
          1981,
          1982,
          1983,
          1984,
          1985,
          1986,
          1987,
          1988,
          1989,
          1990,
          1991,
          1992,
          1993,
          1994,
          1995,
          1996,
          1997,
          1998,
          1999,
          2000,
          2001,
          2002,
          2003,
          2004,
          2005,
          2006,
          2007,
          2008,
          2009,
          2010,
          2011,
          2012,
          2013,
          2014,
          2015,
          2016,
          2017,
          2018,
          2019,
          2020,
          2021
         ],
         "y": [
          891048681,
          985340629,
          987628322,
          991098738,
          994610260,
          998163240,
          1001758044,
          1005395067,
          1009074742,
          1012797513,
          1016563866,
          1022629692,
          1027487469,
          1033636618,
          1040443689,
          1047427292,
          1054586106,
          1061924513,
          1069447070,
          1077158552,
          1084757875,
          1093424863,
          1099331577,
          1106263783,
          1113514792,
          1120876169,
          1128342960,
          1135961188,
          1143684846,
          1151515422,
          1158898384,
          1166619223,
          1172266726,
          1178216298,
          1183684120,
          1189202983,
          1194812021,
          1200422586,
          1206132721,
          1211908617,
          1217625799,
          1224117982,
          1228828189,
          1234333753,
          1239880237,
          1245319917,
          1250936428,
          1256637463,
          1262424720,
          1268300005,
          1273394934,
          1278810377,
          1280744899,
          1282983708,
          1284472373,
          1286078878,
          1287785678,
          1289613085,
          1291556308,
          1293616943,
          1296053087,
          1300098076,
          1302046862,
          1305560612,
          1309444051,
          1313410603,
          1317453657,
          1321572626,
          1325775239,
          1330060419,
          1334928493,
          1341697614,
          1346406314,
          1353032986,
          1360261504,
          1367561973,
          1374962430,
          1382443050,
          1389974777,
          1397574403,
          1405702618,
          1415841209,
          1423704727,
          1433553127,
          1444009167,
          1454595037,
          1465369425,
          1476245076,
          1487277339,
          1498437207,
          1509373834,
          1521669265,
          1530611585,
          1540822549,
          1550822689,
          1560960959,
          1571250732,
          1581628826,
          1592152786,
          1602801870,
          1614109121,
          1627883132,
          1638647517,
          1651840077,
          1665703540,
          1679752718,
          1693984163,
          1708411294,
          1723032738,
          1737874788,
          1752122665,
          1767847653,
          1778784032,
          1791197929,
          1803056235,
          1815104863,
          1827290389,
          1839559287,
          1851899055,
          1864869126,
          1878650358,
          1895682150,
          1908748639,
          1924826120,
          1941636900,
          1958716901,
          1976068839,
          1993719848,
          2011689749,
          2029682397,
          2048513689,
          2070596353,
          2088429965,
          2109357892,
          2131029147,
          2152969392,
          2175184808,
          2197830032,
          2220878589,
          2244005191,
          2266483407,
          2290871362,
          2307736768,
          2326734579,
          2344581440,
          2362439908,
          2380167769,
          2397811266,
          2416694412,
          2437259361,
          2463242071,
          2499322112,
          2543130368,
          2590270976,
          2640278784,
          2691979264,
          2746072064,
          2801002752,
          2857866752,
          2916108032,
          2970292224,
          3019233536,
          3068370688,
          3126686720,
          3195779328,
          3267212288,
          3337112064,
          3406416896,
          3475448064,
          3546810880,
          3620655360,
          3695390208,
          3770163200,
          3844800768,
          3920251392,
          3995516928,
          4069437184,
          4142505728,
          4215772416,
          4289657600,
          4365582848,
          4444007936,
          4524627456,
          4607984640,
          4691884032,
          4775836160,
          4861730816,
          4950063104,
          5040984576,
          5132294144,
          5223704064,
          5316175872,
          5406245888,
          5492686336,
          5577433600,
          5660727808,
          5743219712,
          5825145344,
          5906481152,
          5987312640,
          6067758592,
          6148898816,
          6230747136,
          6312407552,
          6393898496,
          6475751424,
          6558176256,
          6641416192,
          6725948416,
          6811597312,
          6898306048,
          6985603072,
          7073125376,
          7161697792,
          7250593280,
          7339013632,
          7426597376,
          7513474048,
          7599822336,
          7683789824,
          7764951040,
          7840952832,
          7909295104
         ]
        },
        {
         "mode": "lines",
         "name": "5 year Forecast",
         "type": "scatter",
         "x": [
          2022,
          2023,
          2024,
          2025,
          2026
         ],
         "y": [
          7909295104.000012,
          8330181591.01572,
          8450186084.664117,
          8631112298.73607,
          8820167534.80143,
          9041516006.672087
         ]
        }
       ],
       "layout": {
        "font": {
         "size": 20
        },
        "template": {
         "data": {
          "bar": [
           {
            "error_x": {
             "color": "#2a3f5f"
            },
            "error_y": {
             "color": "#2a3f5f"
            },
            "marker": {
             "line": {
              "color": "#E5ECF6",
              "width": 0.5
             },
             "pattern": {
              "fillmode": "overlay",
              "size": 10,
              "solidity": 0.2
             }
            },
            "type": "bar"
           }
          ],
          "barpolar": [
           {
            "marker": {
             "line": {
              "color": "#E5ECF6",
              "width": 0.5
             },
             "pattern": {
              "fillmode": "overlay",
              "size": 10,
              "solidity": 0.2
             }
            },
            "type": "barpolar"
           }
          ],
          "carpet": [
           {
            "aaxis": {
             "endlinecolor": "#2a3f5f",
             "gridcolor": "white",
             "linecolor": "white",
             "minorgridcolor": "white",
             "startlinecolor": "#2a3f5f"
            },
            "baxis": {
             "endlinecolor": "#2a3f5f",
             "gridcolor": "white",
             "linecolor": "white",
             "minorgridcolor": "white",
             "startlinecolor": "#2a3f5f"
            },
            "type": "carpet"
           }
          ],
          "choropleth": [
           {
            "colorbar": {
             "outlinewidth": 0,
             "ticks": ""
            },
            "type": "choropleth"
           }
          ],
          "contour": [
           {
            "colorbar": {
             "outlinewidth": 0,
             "ticks": ""
            },
            "colorscale": [
             [
              0,
              "#0d0887"
             ],
             [
              0.1111111111111111,
              "#46039f"
             ],
             [
              0.2222222222222222,
              "#7201a8"
             ],
             [
              0.3333333333333333,
              "#9c179e"
             ],
             [
              0.4444444444444444,
              "#bd3786"
             ],
             [
              0.5555555555555556,
              "#d8576b"
             ],
             [
              0.6666666666666666,
              "#ed7953"
             ],
             [
              0.7777777777777778,
              "#fb9f3a"
             ],
             [
              0.8888888888888888,
              "#fdca26"
             ],
             [
              1,
              "#f0f921"
             ]
            ],
            "type": "contour"
           }
          ],
          "contourcarpet": [
           {
            "colorbar": {
             "outlinewidth": 0,
             "ticks": ""
            },
            "type": "contourcarpet"
           }
          ],
          "heatmap": [
           {
            "colorbar": {
             "outlinewidth": 0,
             "ticks": ""
            },
            "colorscale": [
             [
              0,
              "#0d0887"
             ],
             [
              0.1111111111111111,
              "#46039f"
             ],
             [
              0.2222222222222222,
              "#7201a8"
             ],
             [
              0.3333333333333333,
              "#9c179e"
             ],
             [
              0.4444444444444444,
              "#bd3786"
             ],
             [
              0.5555555555555556,
              "#d8576b"
             ],
             [
              0.6666666666666666,
              "#ed7953"
             ],
             [
              0.7777777777777778,
              "#fb9f3a"
             ],
             [
              0.8888888888888888,
              "#fdca26"
             ],
             [
              1,
              "#f0f921"
             ]
            ],
            "type": "heatmap"
           }
          ],
          "heatmapgl": [
           {
            "colorbar": {
             "outlinewidth": 0,
             "ticks": ""
            },
            "colorscale": [
             [
              0,
              "#0d0887"
             ],
             [
              0.1111111111111111,
              "#46039f"
             ],
             [
              0.2222222222222222,
              "#7201a8"
             ],
             [
              0.3333333333333333,
              "#9c179e"
             ],
             [
              0.4444444444444444,
              "#bd3786"
             ],
             [
              0.5555555555555556,
              "#d8576b"
             ],
             [
              0.6666666666666666,
              "#ed7953"
             ],
             [
              0.7777777777777778,
              "#fb9f3a"
             ],
             [
              0.8888888888888888,
              "#fdca26"
             ],
             [
              1,
              "#f0f921"
             ]
            ],
            "type": "heatmapgl"
           }
          ],
          "histogram": [
           {
            "marker": {
             "pattern": {
              "fillmode": "overlay",
              "size": 10,
              "solidity": 0.2
             }
            },
            "type": "histogram"
           }
          ],
          "histogram2d": [
           {
            "colorbar": {
             "outlinewidth": 0,
             "ticks": ""
            },
            "colorscale": [
             [
              0,
              "#0d0887"
             ],
             [
              0.1111111111111111,
              "#46039f"
             ],
             [
              0.2222222222222222,
              "#7201a8"
             ],
             [
              0.3333333333333333,
              "#9c179e"
             ],
             [
              0.4444444444444444,
              "#bd3786"
             ],
             [
              0.5555555555555556,
              "#d8576b"
             ],
             [
              0.6666666666666666,
              "#ed7953"
             ],
             [
              0.7777777777777778,
              "#fb9f3a"
             ],
             [
              0.8888888888888888,
              "#fdca26"
             ],
             [
              1,
              "#f0f921"
             ]
            ],
            "type": "histogram2d"
           }
          ],
          "histogram2dcontour": [
           {
            "colorbar": {
             "outlinewidth": 0,
             "ticks": ""
            },
            "colorscale": [
             [
              0,
              "#0d0887"
             ],
             [
              0.1111111111111111,
              "#46039f"
             ],
             [
              0.2222222222222222,
              "#7201a8"
             ],
             [
              0.3333333333333333,
              "#9c179e"
             ],
             [
              0.4444444444444444,
              "#bd3786"
             ],
             [
              0.5555555555555556,
              "#d8576b"
             ],
             [
              0.6666666666666666,
              "#ed7953"
             ],
             [
              0.7777777777777778,
              "#fb9f3a"
             ],
             [
              0.8888888888888888,
              "#fdca26"
             ],
             [
              1,
              "#f0f921"
             ]
            ],
            "type": "histogram2dcontour"
           }
          ],
          "mesh3d": [
           {
            "colorbar": {
             "outlinewidth": 0,
             "ticks": ""
            },
            "type": "mesh3d"
           }
          ],
          "parcoords": [
           {
            "line": {
             "colorbar": {
              "outlinewidth": 0,
              "ticks": ""
             }
            },
            "type": "parcoords"
           }
          ],
          "pie": [
           {
            "automargin": true,
            "type": "pie"
           }
          ],
          "scatter": [
           {
            "fillpattern": {
             "fillmode": "overlay",
             "size": 10,
             "solidity": 0.2
            },
            "type": "scatter"
           }
          ],
          "scatter3d": [
           {
            "line": {
             "colorbar": {
              "outlinewidth": 0,
              "ticks": ""
             }
            },
            "marker": {
             "colorbar": {
              "outlinewidth": 0,
              "ticks": ""
             }
            },
            "type": "scatter3d"
           }
          ],
          "scattercarpet": [
           {
            "marker": {
             "colorbar": {
              "outlinewidth": 0,
              "ticks": ""
             }
            },
            "type": "scattercarpet"
           }
          ],
          "scattergeo": [
           {
            "marker": {
             "colorbar": {
              "outlinewidth": 0,
              "ticks": ""
             }
            },
            "type": "scattergeo"
           }
          ],
          "scattergl": [
           {
            "marker": {
             "colorbar": {
              "outlinewidth": 0,
              "ticks": ""
             }
            },
            "type": "scattergl"
           }
          ],
          "scattermapbox": [
           {
            "marker": {
             "colorbar": {
              "outlinewidth": 0,
              "ticks": ""
             }
            },
            "type": "scattermapbox"
           }
          ],
          "scatterpolar": [
           {
            "marker": {
             "colorbar": {
              "outlinewidth": 0,
              "ticks": ""
             }
            },
            "type": "scatterpolar"
           }
          ],
          "scatterpolargl": [
           {
            "marker": {
             "colorbar": {
              "outlinewidth": 0,
              "ticks": ""
             }
            },
            "type": "scatterpolargl"
           }
          ],
          "scatterternary": [
           {
            "marker": {
             "colorbar": {
              "outlinewidth": 0,
              "ticks": ""
             }
            },
            "type": "scatterternary"
           }
          ],
          "surface": [
           {
            "colorbar": {
             "outlinewidth": 0,
             "ticks": ""
            },
            "colorscale": [
             [
              0,
              "#0d0887"
             ],
             [
              0.1111111111111111,
              "#46039f"
             ],
             [
              0.2222222222222222,
              "#7201a8"
             ],
             [
              0.3333333333333333,
              "#9c179e"
             ],
             [
              0.4444444444444444,
              "#bd3786"
             ],
             [
              0.5555555555555556,
              "#d8576b"
             ],
             [
              0.6666666666666666,
              "#ed7953"
             ],
             [
              0.7777777777777778,
              "#fb9f3a"
             ],
             [
              0.8888888888888888,
              "#fdca26"
             ],
             [
              1,
              "#f0f921"
             ]
            ],
            "type": "surface"
           }
          ],
          "table": [
           {
            "cells": {
             "fill": {
              "color": "#EBF0F8"
             },
             "line": {
              "color": "white"
             }
            },
            "header": {
             "fill": {
              "color": "#C8D4E3"
             },
             "line": {
              "color": "white"
             }
            },
            "type": "table"
           }
          ]
         },
         "layout": {
          "annotationdefaults": {
           "arrowcolor": "#2a3f5f",
           "arrowhead": 0,
           "arrowwidth": 1
          },
          "autotypenumbers": "strict",
          "coloraxis": {
           "colorbar": {
            "outlinewidth": 0,
            "ticks": ""
           }
          },
          "colorscale": {
           "diverging": [
            [
             0,
             "#8e0152"
            ],
            [
             0.1,
             "#c51b7d"
            ],
            [
             0.2,
             "#de77ae"
            ],
            [
             0.3,
             "#f1b6da"
            ],
            [
             0.4,
             "#fde0ef"
            ],
            [
             0.5,
             "#f7f7f7"
            ],
            [
             0.6,
             "#e6f5d0"
            ],
            [
             0.7,
             "#b8e186"
            ],
            [
             0.8,
             "#7fbc41"
            ],
            [
             0.9,
             "#4d9221"
            ],
            [
             1,
             "#276419"
            ]
           ],
           "sequential": [
            [
             0,
             "#0d0887"
            ],
            [
             0.1111111111111111,
             "#46039f"
            ],
            [
             0.2222222222222222,
             "#7201a8"
            ],
            [
             0.3333333333333333,
             "#9c179e"
            ],
            [
             0.4444444444444444,
             "#bd3786"
            ],
            [
             0.5555555555555556,
             "#d8576b"
            ],
            [
             0.6666666666666666,
             "#ed7953"
            ],
            [
             0.7777777777777778,
             "#fb9f3a"
            ],
            [
             0.8888888888888888,
             "#fdca26"
            ],
            [
             1,
             "#f0f921"
            ]
           ],
           "sequentialminus": [
            [
             0,
             "#0d0887"
            ],
            [
             0.1111111111111111,
             "#46039f"
            ],
            [
             0.2222222222222222,
             "#7201a8"
            ],
            [
             0.3333333333333333,
             "#9c179e"
            ],
            [
             0.4444444444444444,
             "#bd3786"
            ],
            [
             0.5555555555555556,
             "#d8576b"
            ],
            [
             0.6666666666666666,
             "#ed7953"
            ],
            [
             0.7777777777777778,
             "#fb9f3a"
            ],
            [
             0.8888888888888888,
             "#fdca26"
            ],
            [
             1,
             "#f0f921"
            ]
           ]
          },
          "colorway": [
           "#636efa",
           "#EF553B",
           "#00cc96",
           "#ab63fa",
           "#FFA15A",
           "#19d3f3",
           "#FF6692",
           "#B6E880",
           "#FF97FF",
           "#FECB52"
          ],
          "font": {
           "color": "#2a3f5f"
          },
          "geo": {
           "bgcolor": "white",
           "lakecolor": "white",
           "landcolor": "#E5ECF6",
           "showlakes": true,
           "showland": true,
           "subunitcolor": "white"
          },
          "hoverlabel": {
           "align": "left"
          },
          "hovermode": "closest",
          "mapbox": {
           "style": "light"
          },
          "paper_bgcolor": "white",
          "plot_bgcolor": "#E5ECF6",
          "polar": {
           "angularaxis": {
            "gridcolor": "white",
            "linecolor": "white",
            "ticks": ""
           },
           "bgcolor": "#E5ECF6",
           "radialaxis": {
            "gridcolor": "white",
            "linecolor": "white",
            "ticks": ""
           }
          },
          "scene": {
           "xaxis": {
            "backgroundcolor": "#E5ECF6",
            "gridcolor": "white",
            "gridwidth": 2,
            "linecolor": "white",
            "showbackground": true,
            "ticks": "",
            "zerolinecolor": "white"
           },
           "yaxis": {
            "backgroundcolor": "#E5ECF6",
            "gridcolor": "white",
            "gridwidth": 2,
            "linecolor": "white",
            "showbackground": true,
            "ticks": "",
            "zerolinecolor": "white"
           },
           "zaxis": {
            "backgroundcolor": "#E5ECF6",
            "gridcolor": "white",
            "gridwidth": 2,
            "linecolor": "white",
            "showbackground": true,
            "ticks": "",
            "zerolinecolor": "white"
           }
          },
          "shapedefaults": {
           "line": {
            "color": "#2a3f5f"
           }
          },
          "ternary": {
           "aaxis": {
            "gridcolor": "white",
            "linecolor": "white",
            "ticks": ""
           },
           "baxis": {
            "gridcolor": "white",
            "linecolor": "white",
            "ticks": ""
           },
           "bgcolor": "#E5ECF6",
           "caxis": {
            "gridcolor": "white",
            "linecolor": "white",
            "ticks": ""
           }
          },
          "title": {
           "x": 0.05
          },
          "xaxis": {
           "automargin": true,
           "gridcolor": "white",
           "linecolor": "white",
           "ticks": "",
           "title": {
            "standoff": 15
           },
           "zerolinecolor": "white",
           "zerolinewidth": 2
          },
          "yaxis": {
           "automargin": true,
           "gridcolor": "white",
           "linecolor": "white",
           "ticks": "",
           "title": {
            "standoff": 15
           },
           "zerolinecolor": "white",
           "zerolinewidth": 2
          }
         }
        },
        "title": {
         "text": "World Population Forecast"
        },
        "xaxis": {
         "title": {
          "text": "Year"
         }
        },
        "yaxis": {
         "title": {
          "text": "Population"
         }
        }
       }
      }
     },
     "metadata": {},
     "output_type": "display_data"
    }
   ],
   "source": [
    "forecasted = np.exp(forecast)\n",
    "\n",
    "trace1 = go.Scatter(\n",
    "    x=df_worldpop['Year'],\n",
    "    y=df_worldpop['Population (historical estimates)'],\n",
    "    mode='lines',\n",
    "    name='Training Data'\n",
    ")\n",
    "\n",
    "trace2 = go.Scatter(\n",
    "    x=forecast_dates,\n",
    "    y=forecasted,\n",
    "    mode='lines',\n",
    "    name='5 year Forecast'\n",
    ")\n",
    "\n",
    "layout = go.Layout(\n",
    "    title=\"World Population Forecast\",\n",
    "    font=dict(size=20),\n",
    "    xaxis={'title': \"Year\"},\n",
    "    yaxis={'title': \"Population\"}\n",
    ")\n",
    "\n",
    "fig = go.Figure(data=[trace1, trace2], layout=layout)\n",
    "fig.show()"
   ]
  },
  {
   "cell_type": "code",
   "execution_count": 18,
   "metadata": {},
   "outputs": [
    {
     "data": {
      "application/vnd.plotly.v1+json": {
       "config": {
        "plotlyServerURL": "https://plot.ly"
       },
       "data": [
        {
         "mode": "lines",
         "name": "Training Data",
         "type": "scatter",
         "x": [
          1900,
          1901,
          1902,
          1903,
          1904,
          1905,
          1906,
          1907,
          1908,
          1909,
          1910,
          1911,
          1912,
          1913,
          1914,
          1915,
          1916,
          1917,
          1918,
          1919,
          1920,
          1921,
          1922,
          1923,
          1924,
          1925,
          1926,
          1927,
          1928,
          1929,
          1930,
          1931,
          1932,
          1933,
          1934,
          1935,
          1936,
          1937,
          1938,
          1939,
          1940,
          1941,
          1942,
          1943,
          1944,
          1945,
          1946,
          1947,
          1948,
          1949,
          1950,
          1951,
          1952,
          1953,
          1954,
          1955,
          1956,
          1957,
          1958,
          1959,
          1960,
          1961,
          1962,
          1963,
          1964,
          1965,
          1966,
          1967,
          1968,
          1969,
          1970,
          1971,
          1972,
          1973,
          1974,
          1975,
          1976,
          1977,
          1978,
          1979,
          1980,
          1981,
          1982,
          1983,
          1984,
          1985,
          1986,
          1987,
          1988,
          1989,
          1990,
          1991,
          1992,
          1993,
          1994,
          1995,
          1996,
          1997,
          1998,
          1999,
          2000,
          2001,
          2002,
          2003,
          2004,
          2005,
          2006,
          2007,
          2008,
          2009,
          2010,
          2011,
          2012,
          2013,
          2014,
          2015,
          2016,
          2017,
          2018,
          2019,
          2020,
          2021
         ],
         "y": [
          1627883132,
          1638647517,
          1651840077,
          1665703540,
          1679752718,
          1693984163,
          1708411294,
          1723032738,
          1737874788,
          1752122665,
          1767847653,
          1778784032,
          1791197929,
          1803056235,
          1815104863,
          1827290389,
          1839559287,
          1851899055,
          1864869126,
          1878650358,
          1895682150,
          1908748639,
          1924826120,
          1941636900,
          1958716901,
          1976068839,
          1993719848,
          2011689749,
          2029682397,
          2048513689,
          2070596353,
          2088429965,
          2109357892,
          2131029147,
          2152969392,
          2175184808,
          2197830032,
          2220878589,
          2244005191,
          2266483407,
          2290871362,
          2307736768,
          2326734579,
          2344581440,
          2362439908,
          2380167769,
          2397811266,
          2416694412,
          2437259361,
          2463242071,
          2499322112,
          2543130368,
          2590270976,
          2640278784,
          2691979264,
          2746072064,
          2801002752,
          2857866752,
          2916108032,
          2970292224,
          3019233536,
          3068370688,
          3126686720,
          3195779328,
          3267212288,
          3337112064,
          3406416896,
          3475448064,
          3546810880,
          3620655360,
          3695390208,
          3770163200,
          3844800768,
          3920251392,
          3995516928,
          4069437184,
          4142505728,
          4215772416,
          4289657600,
          4365582848,
          4444007936,
          4524627456,
          4607984640,
          4691884032,
          4775836160,
          4861730816,
          4950063104,
          5040984576,
          5132294144,
          5223704064,
          5316175872,
          5406245888,
          5492686336,
          5577433600,
          5660727808,
          5743219712,
          5825145344,
          5906481152,
          5987312640,
          6067758592,
          6148898816,
          6230747136,
          6312407552,
          6393898496,
          6475751424,
          6558176256,
          6641416192,
          6725948416,
          6811597312,
          6898306048,
          6985603072,
          7073125376,
          7161697792,
          7250593280,
          7339013632,
          7426597376,
          7513474048,
          7599822336,
          7683789824,
          7764951040,
          7840952832,
          7909295104
         ]
        },
        {
         "mode": "lines",
         "name": "5 year Forecast",
         "type": "scatter",
         "x": [
          2022,
          2023,
          2024,
          2025,
          2026
         ],
         "y": [
          7909295104.000012,
          8330181591.01572,
          8450186084.664117,
          8631112298.73607,
          8820167534.80143,
          9041516006.672087
         ]
        }
       ],
       "layout": {
        "font": {
         "size": 20
        },
        "template": {
         "data": {
          "bar": [
           {
            "error_x": {
             "color": "#2a3f5f"
            },
            "error_y": {
             "color": "#2a3f5f"
            },
            "marker": {
             "line": {
              "color": "#E5ECF6",
              "width": 0.5
             },
             "pattern": {
              "fillmode": "overlay",
              "size": 10,
              "solidity": 0.2
             }
            },
            "type": "bar"
           }
          ],
          "barpolar": [
           {
            "marker": {
             "line": {
              "color": "#E5ECF6",
              "width": 0.5
             },
             "pattern": {
              "fillmode": "overlay",
              "size": 10,
              "solidity": 0.2
             }
            },
            "type": "barpolar"
           }
          ],
          "carpet": [
           {
            "aaxis": {
             "endlinecolor": "#2a3f5f",
             "gridcolor": "white",
             "linecolor": "white",
             "minorgridcolor": "white",
             "startlinecolor": "#2a3f5f"
            },
            "baxis": {
             "endlinecolor": "#2a3f5f",
             "gridcolor": "white",
             "linecolor": "white",
             "minorgridcolor": "white",
             "startlinecolor": "#2a3f5f"
            },
            "type": "carpet"
           }
          ],
          "choropleth": [
           {
            "colorbar": {
             "outlinewidth": 0,
             "ticks": ""
            },
            "type": "choropleth"
           }
          ],
          "contour": [
           {
            "colorbar": {
             "outlinewidth": 0,
             "ticks": ""
            },
            "colorscale": [
             [
              0,
              "#0d0887"
             ],
             [
              0.1111111111111111,
              "#46039f"
             ],
             [
              0.2222222222222222,
              "#7201a8"
             ],
             [
              0.3333333333333333,
              "#9c179e"
             ],
             [
              0.4444444444444444,
              "#bd3786"
             ],
             [
              0.5555555555555556,
              "#d8576b"
             ],
             [
              0.6666666666666666,
              "#ed7953"
             ],
             [
              0.7777777777777778,
              "#fb9f3a"
             ],
             [
              0.8888888888888888,
              "#fdca26"
             ],
             [
              1,
              "#f0f921"
             ]
            ],
            "type": "contour"
           }
          ],
          "contourcarpet": [
           {
            "colorbar": {
             "outlinewidth": 0,
             "ticks": ""
            },
            "type": "contourcarpet"
           }
          ],
          "heatmap": [
           {
            "colorbar": {
             "outlinewidth": 0,
             "ticks": ""
            },
            "colorscale": [
             [
              0,
              "#0d0887"
             ],
             [
              0.1111111111111111,
              "#46039f"
             ],
             [
              0.2222222222222222,
              "#7201a8"
             ],
             [
              0.3333333333333333,
              "#9c179e"
             ],
             [
              0.4444444444444444,
              "#bd3786"
             ],
             [
              0.5555555555555556,
              "#d8576b"
             ],
             [
              0.6666666666666666,
              "#ed7953"
             ],
             [
              0.7777777777777778,
              "#fb9f3a"
             ],
             [
              0.8888888888888888,
              "#fdca26"
             ],
             [
              1,
              "#f0f921"
             ]
            ],
            "type": "heatmap"
           }
          ],
          "heatmapgl": [
           {
            "colorbar": {
             "outlinewidth": 0,
             "ticks": ""
            },
            "colorscale": [
             [
              0,
              "#0d0887"
             ],
             [
              0.1111111111111111,
              "#46039f"
             ],
             [
              0.2222222222222222,
              "#7201a8"
             ],
             [
              0.3333333333333333,
              "#9c179e"
             ],
             [
              0.4444444444444444,
              "#bd3786"
             ],
             [
              0.5555555555555556,
              "#d8576b"
             ],
             [
              0.6666666666666666,
              "#ed7953"
             ],
             [
              0.7777777777777778,
              "#fb9f3a"
             ],
             [
              0.8888888888888888,
              "#fdca26"
             ],
             [
              1,
              "#f0f921"
             ]
            ],
            "type": "heatmapgl"
           }
          ],
          "histogram": [
           {
            "marker": {
             "pattern": {
              "fillmode": "overlay",
              "size": 10,
              "solidity": 0.2
             }
            },
            "type": "histogram"
           }
          ],
          "histogram2d": [
           {
            "colorbar": {
             "outlinewidth": 0,
             "ticks": ""
            },
            "colorscale": [
             [
              0,
              "#0d0887"
             ],
             [
              0.1111111111111111,
              "#46039f"
             ],
             [
              0.2222222222222222,
              "#7201a8"
             ],
             [
              0.3333333333333333,
              "#9c179e"
             ],
             [
              0.4444444444444444,
              "#bd3786"
             ],
             [
              0.5555555555555556,
              "#d8576b"
             ],
             [
              0.6666666666666666,
              "#ed7953"
             ],
             [
              0.7777777777777778,
              "#fb9f3a"
             ],
             [
              0.8888888888888888,
              "#fdca26"
             ],
             [
              1,
              "#f0f921"
             ]
            ],
            "type": "histogram2d"
           }
          ],
          "histogram2dcontour": [
           {
            "colorbar": {
             "outlinewidth": 0,
             "ticks": ""
            },
            "colorscale": [
             [
              0,
              "#0d0887"
             ],
             [
              0.1111111111111111,
              "#46039f"
             ],
             [
              0.2222222222222222,
              "#7201a8"
             ],
             [
              0.3333333333333333,
              "#9c179e"
             ],
             [
              0.4444444444444444,
              "#bd3786"
             ],
             [
              0.5555555555555556,
              "#d8576b"
             ],
             [
              0.6666666666666666,
              "#ed7953"
             ],
             [
              0.7777777777777778,
              "#fb9f3a"
             ],
             [
              0.8888888888888888,
              "#fdca26"
             ],
             [
              1,
              "#f0f921"
             ]
            ],
            "type": "histogram2dcontour"
           }
          ],
          "mesh3d": [
           {
            "colorbar": {
             "outlinewidth": 0,
             "ticks": ""
            },
            "type": "mesh3d"
           }
          ],
          "parcoords": [
           {
            "line": {
             "colorbar": {
              "outlinewidth": 0,
              "ticks": ""
             }
            },
            "type": "parcoords"
           }
          ],
          "pie": [
           {
            "automargin": true,
            "type": "pie"
           }
          ],
          "scatter": [
           {
            "fillpattern": {
             "fillmode": "overlay",
             "size": 10,
             "solidity": 0.2
            },
            "type": "scatter"
           }
          ],
          "scatter3d": [
           {
            "line": {
             "colorbar": {
              "outlinewidth": 0,
              "ticks": ""
             }
            },
            "marker": {
             "colorbar": {
              "outlinewidth": 0,
              "ticks": ""
             }
            },
            "type": "scatter3d"
           }
          ],
          "scattercarpet": [
           {
            "marker": {
             "colorbar": {
              "outlinewidth": 0,
              "ticks": ""
             }
            },
            "type": "scattercarpet"
           }
          ],
          "scattergeo": [
           {
            "marker": {
             "colorbar": {
              "outlinewidth": 0,
              "ticks": ""
             }
            },
            "type": "scattergeo"
           }
          ],
          "scattergl": [
           {
            "marker": {
             "colorbar": {
              "outlinewidth": 0,
              "ticks": ""
             }
            },
            "type": "scattergl"
           }
          ],
          "scattermapbox": [
           {
            "marker": {
             "colorbar": {
              "outlinewidth": 0,
              "ticks": ""
             }
            },
            "type": "scattermapbox"
           }
          ],
          "scatterpolar": [
           {
            "marker": {
             "colorbar": {
              "outlinewidth": 0,
              "ticks": ""
             }
            },
            "type": "scatterpolar"
           }
          ],
          "scatterpolargl": [
           {
            "marker": {
             "colorbar": {
              "outlinewidth": 0,
              "ticks": ""
             }
            },
            "type": "scatterpolargl"
           }
          ],
          "scatterternary": [
           {
            "marker": {
             "colorbar": {
              "outlinewidth": 0,
              "ticks": ""
             }
            },
            "type": "scatterternary"
           }
          ],
          "surface": [
           {
            "colorbar": {
             "outlinewidth": 0,
             "ticks": ""
            },
            "colorscale": [
             [
              0,
              "#0d0887"
             ],
             [
              0.1111111111111111,
              "#46039f"
             ],
             [
              0.2222222222222222,
              "#7201a8"
             ],
             [
              0.3333333333333333,
              "#9c179e"
             ],
             [
              0.4444444444444444,
              "#bd3786"
             ],
             [
              0.5555555555555556,
              "#d8576b"
             ],
             [
              0.6666666666666666,
              "#ed7953"
             ],
             [
              0.7777777777777778,
              "#fb9f3a"
             ],
             [
              0.8888888888888888,
              "#fdca26"
             ],
             [
              1,
              "#f0f921"
             ]
            ],
            "type": "surface"
           }
          ],
          "table": [
           {
            "cells": {
             "fill": {
              "color": "#EBF0F8"
             },
             "line": {
              "color": "white"
             }
            },
            "header": {
             "fill": {
              "color": "#C8D4E3"
             },
             "line": {
              "color": "white"
             }
            },
            "type": "table"
           }
          ]
         },
         "layout": {
          "annotationdefaults": {
           "arrowcolor": "#2a3f5f",
           "arrowhead": 0,
           "arrowwidth": 1
          },
          "autotypenumbers": "strict",
          "coloraxis": {
           "colorbar": {
            "outlinewidth": 0,
            "ticks": ""
           }
          },
          "colorscale": {
           "diverging": [
            [
             0,
             "#8e0152"
            ],
            [
             0.1,
             "#c51b7d"
            ],
            [
             0.2,
             "#de77ae"
            ],
            [
             0.3,
             "#f1b6da"
            ],
            [
             0.4,
             "#fde0ef"
            ],
            [
             0.5,
             "#f7f7f7"
            ],
            [
             0.6,
             "#e6f5d0"
            ],
            [
             0.7,
             "#b8e186"
            ],
            [
             0.8,
             "#7fbc41"
            ],
            [
             0.9,
             "#4d9221"
            ],
            [
             1,
             "#276419"
            ]
           ],
           "sequential": [
            [
             0,
             "#0d0887"
            ],
            [
             0.1111111111111111,
             "#46039f"
            ],
            [
             0.2222222222222222,
             "#7201a8"
            ],
            [
             0.3333333333333333,
             "#9c179e"
            ],
            [
             0.4444444444444444,
             "#bd3786"
            ],
            [
             0.5555555555555556,
             "#d8576b"
            ],
            [
             0.6666666666666666,
             "#ed7953"
            ],
            [
             0.7777777777777778,
             "#fb9f3a"
            ],
            [
             0.8888888888888888,
             "#fdca26"
            ],
            [
             1,
             "#f0f921"
            ]
           ],
           "sequentialminus": [
            [
             0,
             "#0d0887"
            ],
            [
             0.1111111111111111,
             "#46039f"
            ],
            [
             0.2222222222222222,
             "#7201a8"
            ],
            [
             0.3333333333333333,
             "#9c179e"
            ],
            [
             0.4444444444444444,
             "#bd3786"
            ],
            [
             0.5555555555555556,
             "#d8576b"
            ],
            [
             0.6666666666666666,
             "#ed7953"
            ],
            [
             0.7777777777777778,
             "#fb9f3a"
            ],
            [
             0.8888888888888888,
             "#fdca26"
            ],
            [
             1,
             "#f0f921"
            ]
           ]
          },
          "colorway": [
           "#636efa",
           "#EF553B",
           "#00cc96",
           "#ab63fa",
           "#FFA15A",
           "#19d3f3",
           "#FF6692",
           "#B6E880",
           "#FF97FF",
           "#FECB52"
          ],
          "font": {
           "color": "#2a3f5f"
          },
          "geo": {
           "bgcolor": "white",
           "lakecolor": "white",
           "landcolor": "#E5ECF6",
           "showlakes": true,
           "showland": true,
           "subunitcolor": "white"
          },
          "hoverlabel": {
           "align": "left"
          },
          "hovermode": "closest",
          "mapbox": {
           "style": "light"
          },
          "paper_bgcolor": "white",
          "plot_bgcolor": "#E5ECF6",
          "polar": {
           "angularaxis": {
            "gridcolor": "white",
            "linecolor": "white",
            "ticks": ""
           },
           "bgcolor": "#E5ECF6",
           "radialaxis": {
            "gridcolor": "white",
            "linecolor": "white",
            "ticks": ""
           }
          },
          "scene": {
           "xaxis": {
            "backgroundcolor": "#E5ECF6",
            "gridcolor": "white",
            "gridwidth": 2,
            "linecolor": "white",
            "showbackground": true,
            "ticks": "",
            "zerolinecolor": "white"
           },
           "yaxis": {
            "backgroundcolor": "#E5ECF6",
            "gridcolor": "white",
            "gridwidth": 2,
            "linecolor": "white",
            "showbackground": true,
            "ticks": "",
            "zerolinecolor": "white"
           },
           "zaxis": {
            "backgroundcolor": "#E5ECF6",
            "gridcolor": "white",
            "gridwidth": 2,
            "linecolor": "white",
            "showbackground": true,
            "ticks": "",
            "zerolinecolor": "white"
           }
          },
          "shapedefaults": {
           "line": {
            "color": "#2a3f5f"
           }
          },
          "ternary": {
           "aaxis": {
            "gridcolor": "white",
            "linecolor": "white",
            "ticks": ""
           },
           "baxis": {
            "gridcolor": "white",
            "linecolor": "white",
            "ticks": ""
           },
           "bgcolor": "#E5ECF6",
           "caxis": {
            "gridcolor": "white",
            "linecolor": "white",
            "ticks": ""
           }
          },
          "title": {
           "x": 0.05
          },
          "xaxis": {
           "automargin": true,
           "gridcolor": "white",
           "linecolor": "white",
           "ticks": "",
           "title": {
            "standoff": 15
           },
           "zerolinecolor": "white",
           "zerolinewidth": 2
          },
          "yaxis": {
           "automargin": true,
           "gridcolor": "white",
           "linecolor": "white",
           "ticks": "",
           "title": {
            "standoff": 15
           },
           "zerolinecolor": "white",
           "zerolinewidth": 2
          }
         }
        },
        "title": {
         "text": "World Population Forecast"
        },
        "xaxis": {
         "title": {
          "text": "Year"
         }
        },
        "yaxis": {
         "title": {
          "text": "Population"
         }
        }
       }
      }
     },
     "metadata": {},
     "output_type": "display_data"
    }
   ],
   "source": [
    "df = df_worldpop[df_worldpop['Year'] >= 1900]\n",
    "df['Year']\n",
    "trace1 = go.Scatter(\n",
    "    x=df['Year'],\n",
    "    y=df['Population (historical estimates)'],\n",
    "    mode='lines',\n",
    "    name='Training Data'\n",
    ")\n",
    "\n",
    "trace2 = go.Scatter(\n",
    "    x=forecast_dates,\n",
    "    y=forecasted,\n",
    "    mode='lines',\n",
    "    name='5 year Forecast'\n",
    ")\n",
    "\n",
    "layout = go.Layout(\n",
    "    title=\"World Population Forecast\",\n",
    "    font=dict(size=20),\n",
    "    xaxis={'title': \"Year\"},\n",
    "    yaxis={'title': \"Population\"}\n",
    ")\n",
    "\n",
    "fig = go.Figure(data=[trace1, trace2], layout=layout)\n",
    "fig.show()"
   ]
  },
  {
   "cell_type": "code",
   "execution_count": null,
   "metadata": {},
   "outputs": [],
   "source": []
  }
 ],
 "metadata": {
  "kernelspec": {
   "display_name": "base",
   "language": "python",
   "name": "python3"
  },
  "language_info": {
   "codemirror_mode": {
    "name": "ipython",
    "version": 3
   },
   "file_extension": ".py",
   "mimetype": "text/x-python",
   "name": "python",
   "nbconvert_exporter": "python",
   "pygments_lexer": "ipython3",
   "version": "3.9.12"
  },
  "orig_nbformat": 4
 },
 "nbformat": 4,
 "nbformat_minor": 2
}
